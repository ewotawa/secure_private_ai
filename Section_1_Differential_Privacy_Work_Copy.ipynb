{
  "nbformat": 4,
  "nbformat_minor": 0,
  "metadata": {
    "colab": {
      "name": "Section 1 - Differential Privacy Work Copy.ipynb",
      "version": "0.3.2",
      "provenance": [],
      "collapsed_sections": [
        "W3vT3Lf30W83"
      ],
      "include_colab_link": true
    },
    "language_info": {
      "codemirror_mode": {
        "name": "ipython",
        "version": 3
      },
      "file_extension": ".py",
      "mimetype": "text/x-python",
      "name": "python",
      "nbconvert_exporter": "python",
      "pygments_lexer": "ipython3",
      "version": "3.6.1"
    },
    "kernelspec": {
      "name": "python3",
      "display_name": "Python 3"
    },
    "accelerator": "GPU"
  },
  "cells": [
    {
      "cell_type": "markdown",
      "metadata": {
        "id": "view-in-github",
        "colab_type": "text"
      },
      "source": [
        "<a href=\"https://colab.research.google.com/github/ewotawa/secure_private_ai/blob/master/Section_1_Differential_Privacy_Work_Copy.ipynb\" target=\"_parent\"><img src=\"https://colab.research.google.com/assets/colab-badge.svg\" alt=\"Open In Colab\"/></a>"
      ]
    },
    {
      "cell_type": "markdown",
      "metadata": {
        "id": "umYMDOuy0Wqb",
        "colab_type": "text"
      },
      "source": [
        "## Lesson: Toy Differential Privacy - Simple Database Queries"
      ]
    },
    {
      "cell_type": "markdown",
      "metadata": {
        "id": "21BKLtV40Wqo",
        "colab_type": "text"
      },
      "source": [
        "In this section we're going to play around with Differential Privacy in the context of a database query. The database is going to be a VERY simple database with only one boolean column. Each row corresponds to a person. Each value corresponds to whether or not that person has a certain private attribute (such as whether they have a certain disease, or whether they are above/below a certain age). We are then going to learn how to know whether a database query over such a small database is differentially private or not - and more importantly - what techniques are at our disposal to ensure various levels of privacy\n",
        "\n",
        "\n",
        "### First We Create a Simple Database\n",
        "\n",
        "Step one is to create our database - we're going to do this by initializing a random list of 1s and 0s (which are the entries in our database). Note - the number of entries directly corresponds to the number of people in our database."
      ]
    },
    {
      "cell_type": "code",
      "metadata": {
        "id": "0nF0ueKI9tsI",
        "colab_type": "code",
        "outputId": "be631dd0-4d38-4919-c058-a7040d1d8b48",
        "colab": {
          "base_uri": "https://localhost:8080/",
          "height": 156
        }
      },
      "source": [
        "# PySyft\n",
        "# Install prerequisite for install\n",
        "\n",
        "# ERROR: syft 0.1.19a1 has requirement msgpack>=0.6.1, but you'll have msgpack 0.5.6 which is incompatible.\n",
        "\n",
        "!pip install --upgrade --force-reinstall msgpack"
      ],
      "execution_count": 1,
      "outputs": [
        {
          "output_type": "stream",
          "text": [
            "Collecting msgpack\n",
            "  Using cached https://files.pythonhosted.org/packages/92/7e/ae9e91c1bb8d846efafd1f353476e3fd7309778b582d2fb4cea4cc15b9a2/msgpack-0.6.1-cp36-cp36m-manylinux1_x86_64.whl\n",
            "Installing collected packages: msgpack\n",
            "  Found existing installation: msgpack 0.6.1\n",
            "    Uninstalling msgpack-0.6.1:\n",
            "      Successfully uninstalled msgpack-0.6.1\n",
            "Successfully installed msgpack-0.6.1\n"
          ],
          "name": "stdout"
        }
      ]
    },
    {
      "cell_type": "code",
      "metadata": {
        "id": "LwlOPvkH2sfy",
        "colab_type": "code",
        "outputId": "24a21453-56ca-4508-e772-d6e1df7897c4",
        "colab": {
          "base_uri": "https://localhost:8080/",
          "height": 1000
        }
      },
      "source": [
        "# PySyft\n",
        "# Install dependencies\n",
        "\n",
        "# https://github.com/OpenMined/PySyft\n",
        "# https://colab.research.google.com/drive/14tNU98OKPsP55Y3IgFtXPfd4frqbkrxK#scrollTo=qpX6fqECKGyk\n",
        "\n",
        "!pip install tf-encrypted\n",
        "\n",
        "! URL=\"https://github.com/openmined/PySyft.git\" && FOLDER=\"PySyft\" && if [ ! -d $FOLDER ]; then git clone -b dev --single-branch $URL; else (cd $FOLDER && git pull $URL && cd ..); fi;\n",
        "\n",
        "!cd PySyft; python setup.py install  > /dev/null\n",
        "\n",
        "import os\n",
        "import sys\n",
        "module_path = os.path.abspath(os.path.join('./PySyft'))\n",
        "if module_path not in sys.path:\n",
        "    sys.path.append(module_path)\n",
        "    \n",
        "!pip install --upgrade --force-reinstall lz4\n",
        "!pip install --upgrade --force-reinstall websocket\n",
        "!pip install --upgrade --force-reinstall websockets\n",
        "!pip install --upgrade --force-reinstall zstd"
      ],
      "execution_count": 2,
      "outputs": [
        {
          "output_type": "stream",
          "text": [
            "Requirement already satisfied: tf-encrypted in /usr/local/lib/python3.6/dist-packages (0.5.6)\n",
            "Requirement already satisfied: tensorflow<2,>=1.12.0 in /usr/local/lib/python3.6/dist-packages (from tf-encrypted) (1.14.0)\n",
            "Requirement already satisfied: pyyaml>=5.1 in /usr/local/lib/python3.6/dist-packages (from tf-encrypted) (5.1.1)\n",
            "Requirement already satisfied: numpy>=1.14.0 in /usr/local/lib/python3.6/dist-packages (from tf-encrypted) (1.16.4)\n",
            "Requirement already satisfied: keras-applications>=1.0.6 in /usr/local/lib/python3.6/dist-packages (from tensorflow<2,>=1.12.0->tf-encrypted) (1.0.8)\n",
            "Requirement already satisfied: keras-preprocessing>=1.0.5 in /usr/local/lib/python3.6/dist-packages (from tensorflow<2,>=1.12.0->tf-encrypted) (1.1.0)\n",
            "Requirement already satisfied: absl-py>=0.7.0 in /usr/local/lib/python3.6/dist-packages (from tensorflow<2,>=1.12.0->tf-encrypted) (0.7.1)\n",
            "Requirement already satisfied: termcolor>=1.1.0 in /usr/local/lib/python3.6/dist-packages (from tensorflow<2,>=1.12.0->tf-encrypted) (1.1.0)\n",
            "Requirement already satisfied: six>=1.10.0 in /usr/local/lib/python3.6/dist-packages (from tensorflow<2,>=1.12.0->tf-encrypted) (1.12.0)\n",
            "Requirement already satisfied: tensorboard<1.15.0,>=1.14.0 in /usr/local/lib/python3.6/dist-packages (from tensorflow<2,>=1.12.0->tf-encrypted) (1.14.0)\n",
            "Requirement already satisfied: wheel>=0.26 in /usr/local/lib/python3.6/dist-packages (from tensorflow<2,>=1.12.0->tf-encrypted) (0.33.4)\n",
            "Requirement already satisfied: protobuf>=3.6.1 in /usr/local/lib/python3.6/dist-packages (from tensorflow<2,>=1.12.0->tf-encrypted) (3.7.1)\n",
            "Requirement already satisfied: tensorflow-estimator<1.15.0rc0,>=1.14.0rc0 in /usr/local/lib/python3.6/dist-packages (from tensorflow<2,>=1.12.0->tf-encrypted) (1.14.0)\n",
            "Requirement already satisfied: google-pasta>=0.1.6 in /usr/local/lib/python3.6/dist-packages (from tensorflow<2,>=1.12.0->tf-encrypted) (0.1.7)\n",
            "Requirement already satisfied: astor>=0.6.0 in /usr/local/lib/python3.6/dist-packages (from tensorflow<2,>=1.12.0->tf-encrypted) (0.8.0)\n",
            "Requirement already satisfied: wrapt>=1.11.1 in /usr/local/lib/python3.6/dist-packages (from tensorflow<2,>=1.12.0->tf-encrypted) (1.11.2)\n",
            "Requirement already satisfied: gast>=0.2.0 in /usr/local/lib/python3.6/dist-packages (from tensorflow<2,>=1.12.0->tf-encrypted) (0.2.2)\n",
            "Requirement already satisfied: grpcio>=1.8.6 in /usr/local/lib/python3.6/dist-packages (from tensorflow<2,>=1.12.0->tf-encrypted) (1.15.0)\n",
            "Requirement already satisfied: h5py in /usr/local/lib/python3.6/dist-packages (from keras-applications>=1.0.6->tensorflow<2,>=1.12.0->tf-encrypted) (2.8.0)\n",
            "Requirement already satisfied: werkzeug>=0.11.15 in /usr/local/lib/python3.6/dist-packages (from tensorboard<1.15.0,>=1.14.0->tensorflow<2,>=1.12.0->tf-encrypted) (0.15.4)\n",
            "Requirement already satisfied: setuptools>=41.0.0 in /usr/local/lib/python3.6/dist-packages (from tensorboard<1.15.0,>=1.14.0->tensorflow<2,>=1.12.0->tf-encrypted) (41.0.1)\n",
            "Requirement already satisfied: markdown>=2.6.8 in /usr/local/lib/python3.6/dist-packages (from tensorboard<1.15.0,>=1.14.0->tensorflow<2,>=1.12.0->tf-encrypted) (3.1.1)\n",
            "From https://github.com/openmined/PySyft\n",
            " * branch              HEAD       -> FETCH_HEAD\n",
            "Already up to date.\n",
            "zip_safe flag not set; analyzing archive contents...\n",
            "Collecting lz4\n",
            "  Using cached https://files.pythonhosted.org/packages/0a/c6/96bbb3525a63ebc53ea700cc7d37ab9045542d33b4d262d0f0408ad9bbf2/lz4-2.1.10-cp36-cp36m-manylinux1_x86_64.whl\n",
            "Installing collected packages: lz4\n",
            "  Found existing installation: lz4 2.1.10\n",
            "    Uninstalling lz4-2.1.10:\n",
            "      Successfully uninstalled lz4-2.1.10\n",
            "Successfully installed lz4-2.1.10\n",
            "Collecting websocket\n",
            "Collecting greenlet (from websocket)\n",
            "  Using cached https://files.pythonhosted.org/packages/bf/45/142141aa47e01a5779f0fa5a53b81f8379ce8f2b1cd13df7d2f1d751ae42/greenlet-0.4.15-cp36-cp36m-manylinux1_x86_64.whl\n",
            "Collecting gevent (from websocket)\n",
            "  Using cached https://files.pythonhosted.org/packages/f2/ca/5b5962361ed832847b6b2f9a2d0452c8c2f29a93baef850bb8ad067c7bf9/gevent-1.4.0-cp36-cp36m-manylinux1_x86_64.whl\n",
            "Installing collected packages: greenlet, gevent, websocket\n",
            "  Found existing installation: greenlet 0.4.15\n",
            "    Uninstalling greenlet-0.4.15:\n",
            "      Successfully uninstalled greenlet-0.4.15\n",
            "  Found existing installation: gevent 1.4.0\n",
            "    Uninstalling gevent-1.4.0:\n",
            "      Successfully uninstalled gevent-1.4.0\n",
            "  Found existing installation: websocket 0.2.1\n",
            "    Uninstalling websocket-0.2.1:\n",
            "      Successfully uninstalled websocket-0.2.1\n",
            "Successfully installed gevent-1.4.0 greenlet-0.4.15 websocket-0.2.1\n",
            "Collecting websockets\n",
            "  Using cached https://files.pythonhosted.org/packages/43/71/8bfa882b9c502c36e5c9ef6732969533670d2b039cbf95a82ced8f762b80/websockets-7.0-cp36-cp36m-manylinux1_x86_64.whl\n",
            "Installing collected packages: websockets\n",
            "  Found existing installation: websockets 7.0\n",
            "    Uninstalling websockets-7.0:\n",
            "      Successfully uninstalled websockets-7.0\n",
            "Successfully installed websockets-7.0\n",
            "Collecting zstd\n",
            "Installing collected packages: zstd\n",
            "  Found existing installation: zstd 1.4.0.0\n",
            "    Uninstalling zstd-1.4.0.0:\n",
            "      Successfully uninstalled zstd-1.4.0.0\n",
            "Successfully installed zstd-1.4.0.0\n"
          ],
          "name": "stdout"
        }
      ]
    },
    {
      "cell_type": "code",
      "metadata": {
        "id": "Eg98YzRlC9sL",
        "colab_type": "code",
        "outputId": "76488308-6208-430b-b32b-d03a7073e7ce",
        "colab": {
          "base_uri": "https://localhost:8080/",
          "height": 802
        }
      },
      "source": [
        "# PySyft\n",
        "# make sure nothing's missing.\n",
        "\n",
        "!pip install syft\n",
        "!pip install numpy"
      ],
      "execution_count": 3,
      "outputs": [
        {
          "output_type": "stream",
          "text": [
            "Requirement already satisfied: syft in /usr/local/lib/python3.6/dist-packages/syft-0.1.21a1-py3.6.egg (0.1.21a1)\n",
            "Requirement already satisfied: Flask>=1.0.2 in /usr/local/lib/python3.6/dist-packages (from syft) (1.0.3)\n",
            "Requirement already satisfied: flask_socketio>=3.3.2 in /usr/local/lib/python3.6/dist-packages/Flask_SocketIO-4.1.0-py3.6.egg (from syft) (4.1.0)\n",
            "Requirement already satisfied: lz4>=2.1.6 in /usr/local/lib/python3.6/dist-packages (from syft) (2.1.10)\n",
            "Requirement already satisfied: msgpack>=0.6.1 in /usr/local/lib/python3.6/dist-packages (from syft) (0.6.1)\n",
            "Requirement already satisfied: numpy>=1.14.0 in /usr/local/lib/python3.6/dist-packages (from syft) (1.16.4)\n",
            "Requirement already satisfied: scikit-learn>=0.21.0 in /usr/local/lib/python3.6/dist-packages (from syft) (0.21.2)\n",
            "Requirement already satisfied: tblib>=1.4.0 in /usr/local/lib/python3.6/dist-packages (from syft) (1.4.0)\n",
            "Requirement already satisfied: tf_encrypted>=0.5.4 in /usr/local/lib/python3.6/dist-packages (from syft) (0.5.6)\n",
            "Requirement already satisfied: torch>=1.1 in /usr/local/lib/python3.6/dist-packages (from syft) (1.1.0)\n",
            "Requirement already satisfied: torchvision>=0.3.0 in /usr/local/lib/python3.6/dist-packages (from syft) (0.3.0)\n",
            "Requirement already satisfied: websocket_client>=0.56.0 in /usr/local/lib/python3.6/dist-packages/websocket_client-0.56.0-py3.6.egg (from syft) (0.56.0)\n",
            "Requirement already satisfied: websockets>=7.0 in /usr/local/lib/python3.6/dist-packages (from syft) (7.0)\n",
            "Requirement already satisfied: zstd>=1.4.0.0 in /usr/local/lib/python3.6/dist-packages (from syft) (1.4.0.0)\n",
            "Requirement already satisfied: Jinja2>=2.10 in /usr/local/lib/python3.6/dist-packages (from Flask>=1.0.2->syft) (2.10.1)\n",
            "Requirement already satisfied: Werkzeug>=0.14 in /usr/local/lib/python3.6/dist-packages (from Flask>=1.0.2->syft) (0.15.4)\n",
            "Requirement already satisfied: itsdangerous>=0.24 in /usr/local/lib/python3.6/dist-packages (from Flask>=1.0.2->syft) (1.1.0)\n",
            "Requirement already satisfied: click>=5.1 in /usr/local/lib/python3.6/dist-packages (from Flask>=1.0.2->syft) (7.0)\n",
            "Requirement already satisfied: python-socketio>=2.1.0 in /usr/local/lib/python3.6/dist-packages/python_socketio-4.2.0-py3.6.egg (from flask_socketio>=3.3.2->syft) (4.2.0)\n",
            "Requirement already satisfied: scipy>=0.17.0 in /usr/local/lib/python3.6/dist-packages (from scikit-learn>=0.21.0->syft) (1.3.0)\n",
            "Requirement already satisfied: joblib>=0.11 in /usr/local/lib/python3.6/dist-packages (from scikit-learn>=0.21.0->syft) (0.13.2)\n",
            "Requirement already satisfied: pyyaml>=5.1 in /usr/local/lib/python3.6/dist-packages (from tf_encrypted>=0.5.4->syft) (5.1.1)\n",
            "Requirement already satisfied: tensorflow<2,>=1.12.0 in /usr/local/lib/python3.6/dist-packages (from tf_encrypted>=0.5.4->syft) (1.14.0)\n",
            "Requirement already satisfied: pillow>=4.1.1 in /usr/local/lib/python3.6/dist-packages (from torchvision>=0.3.0->syft) (4.3.0)\n",
            "Requirement already satisfied: six in /usr/local/lib/python3.6/dist-packages (from torchvision>=0.3.0->syft) (1.12.0)\n",
            "Requirement already satisfied: MarkupSafe>=0.23 in /usr/local/lib/python3.6/dist-packages (from Jinja2>=2.10->Flask>=1.0.2->syft) (1.1.1)\n",
            "Requirement already satisfied: python-engineio>=3.8.0 in /usr/local/lib/python3.6/dist-packages/python_engineio-3.8.2.post1-py3.6.egg (from python-socketio>=2.1.0->flask_socketio>=3.3.2->syft) (3.8.2.post1)\n",
            "Requirement already satisfied: tensorboard<1.15.0,>=1.14.0 in /usr/local/lib/python3.6/dist-packages (from tensorflow<2,>=1.12.0->tf_encrypted>=0.5.4->syft) (1.14.0)\n",
            "Requirement already satisfied: termcolor>=1.1.0 in /usr/local/lib/python3.6/dist-packages (from tensorflow<2,>=1.12.0->tf_encrypted>=0.5.4->syft) (1.1.0)\n",
            "Requirement already satisfied: wheel>=0.26 in /usr/local/lib/python3.6/dist-packages (from tensorflow<2,>=1.12.0->tf_encrypted>=0.5.4->syft) (0.33.4)\n",
            "Requirement already satisfied: wrapt>=1.11.1 in /usr/local/lib/python3.6/dist-packages (from tensorflow<2,>=1.12.0->tf_encrypted>=0.5.4->syft) (1.11.2)\n",
            "Requirement already satisfied: absl-py>=0.7.0 in /usr/local/lib/python3.6/dist-packages (from tensorflow<2,>=1.12.0->tf_encrypted>=0.5.4->syft) (0.7.1)\n",
            "Requirement already satisfied: gast>=0.2.0 in /usr/local/lib/python3.6/dist-packages (from tensorflow<2,>=1.12.0->tf_encrypted>=0.5.4->syft) (0.2.2)\n",
            "Requirement already satisfied: keras-preprocessing>=1.0.5 in /usr/local/lib/python3.6/dist-packages (from tensorflow<2,>=1.12.0->tf_encrypted>=0.5.4->syft) (1.1.0)\n",
            "Requirement already satisfied: tensorflow-estimator<1.15.0rc0,>=1.14.0rc0 in /usr/local/lib/python3.6/dist-packages (from tensorflow<2,>=1.12.0->tf_encrypted>=0.5.4->syft) (1.14.0)\n",
            "Requirement already satisfied: grpcio>=1.8.6 in /usr/local/lib/python3.6/dist-packages (from tensorflow<2,>=1.12.0->tf_encrypted>=0.5.4->syft) (1.15.0)\n",
            "Requirement already satisfied: google-pasta>=0.1.6 in /usr/local/lib/python3.6/dist-packages (from tensorflow<2,>=1.12.0->tf_encrypted>=0.5.4->syft) (0.1.7)\n",
            "Requirement already satisfied: astor>=0.6.0 in /usr/local/lib/python3.6/dist-packages (from tensorflow<2,>=1.12.0->tf_encrypted>=0.5.4->syft) (0.8.0)\n",
            "Requirement already satisfied: protobuf>=3.6.1 in /usr/local/lib/python3.6/dist-packages (from tensorflow<2,>=1.12.0->tf_encrypted>=0.5.4->syft) (3.7.1)\n",
            "Requirement already satisfied: keras-applications>=1.0.6 in /usr/local/lib/python3.6/dist-packages (from tensorflow<2,>=1.12.0->tf_encrypted>=0.5.4->syft) (1.0.8)\n",
            "Requirement already satisfied: olefile in /usr/local/lib/python3.6/dist-packages (from pillow>=4.1.1->torchvision>=0.3.0->syft) (0.46)\n",
            "Requirement already satisfied: setuptools>=41.0.0 in /usr/local/lib/python3.6/dist-packages (from tensorboard<1.15.0,>=1.14.0->tensorflow<2,>=1.12.0->tf_encrypted>=0.5.4->syft) (41.0.1)\n",
            "Requirement already satisfied: markdown>=2.6.8 in /usr/local/lib/python3.6/dist-packages (from tensorboard<1.15.0,>=1.14.0->tensorflow<2,>=1.12.0->tf_encrypted>=0.5.4->syft) (3.1.1)\n",
            "Requirement already satisfied: h5py in /usr/local/lib/python3.6/dist-packages (from keras-applications>=1.0.6->tensorflow<2,>=1.12.0->tf_encrypted>=0.5.4->syft) (2.8.0)\n",
            "Requirement already satisfied: numpy in /usr/local/lib/python3.6/dist-packages (1.16.4)\n"
          ],
          "name": "stdout"
        }
      ]
    },
    {
      "cell_type": "code",
      "metadata": {
        "id": "Rl8yhsLZ7CsZ",
        "colab_type": "code",
        "outputId": "3bff7d09-e49e-4097-b04b-12c0513cfa2d",
        "colab": {
          "base_uri": "https://localhost:8080/",
          "height": 119
        }
      },
      "source": [
        "# PyTorch\n",
        "# Install Dependencies\n",
        "# https://colab.research.google.com/drive/1gJAAN3UI9005ecVmxPun5ZLCGu4YBtLo#scrollTo=XiHYo3hEhwdk\n",
        "\n",
        "!pip3 install torch torchvision"
      ],
      "execution_count": 4,
      "outputs": [
        {
          "output_type": "stream",
          "text": [
            "Requirement already satisfied: torch in /usr/local/lib/python3.6/dist-packages (1.1.0)\n",
            "Requirement already satisfied: torchvision in /usr/local/lib/python3.6/dist-packages (0.3.0)\n",
            "Requirement already satisfied: numpy in /usr/local/lib/python3.6/dist-packages (from torch) (1.16.4)\n",
            "Requirement already satisfied: six in /usr/local/lib/python3.6/dist-packages (from torchvision) (1.12.0)\n",
            "Requirement already satisfied: pillow>=4.1.1 in /usr/local/lib/python3.6/dist-packages (from torchvision) (4.3.0)\n",
            "Requirement already satisfied: olefile in /usr/local/lib/python3.6/dist-packages (from pillow>=4.1.1->torchvision) (0.46)\n"
          ],
          "name": "stdout"
        }
      ]
    },
    {
      "cell_type": "code",
      "metadata": {
        "id": "ARnKAxeAAw1Z",
        "colab_type": "code",
        "outputId": "13aff384-241e-48e4-dfd4-1c510ae342c6",
        "colab": {
          "base_uri": "https://localhost:8080/",
          "height": 34
        }
      },
      "source": [
        "# Import libraries\n",
        "# https://colab.research.google.com/drive/14tNU98OKPsP55Y3IgFtXPfd4frqbkrxK#scrollTo=ZgomH7s4R5cT\n",
        "\n",
        "from __future__ import print_function\n",
        "import argparse\n",
        "import numpy as np\n",
        "import pandas as pd\n",
        "import torch\n",
        "import torch.nn as nn\n",
        "import torch.nn.functional as F\n",
        "import torch.optim as optim\n",
        "\n",
        "torch.__version__"
      ],
      "execution_count": 5,
      "outputs": [
        {
          "output_type": "execute_result",
          "data": {
            "text/plain": [
              "'1.1.0'"
            ]
          },
          "metadata": {
            "tags": []
          },
          "execution_count": 5
        }
      ]
    },
    {
      "cell_type": "code",
      "metadata": {
        "id": "T_JcVpZg0Wq2",
        "colab_type": "code",
        "outputId": "995b81d0-bbeb-47e9-d9a6-83f1b1b3ca91",
        "colab": {
          "base_uri": "https://localhost:8080/",
          "height": 34
        }
      },
      "source": [
        "# import torch\n",
        "\n",
        "# the number of entries in our database\n",
        "num_entries = 5000\n",
        "\n",
        "db = torch.rand(num_entries) > 0.5\n",
        "db"
      ],
      "execution_count": 6,
      "outputs": [
        {
          "output_type": "execute_result",
          "data": {
            "text/plain": [
              "tensor([1, 1, 0,  ..., 1, 0, 1], dtype=torch.uint8)"
            ]
          },
          "metadata": {
            "tags": []
          },
          "execution_count": 6
        }
      ]
    },
    {
      "cell_type": "markdown",
      "metadata": {
        "id": "DW5YKpBE0Wr8",
        "colab_type": "text"
      },
      "source": [
        "## Project: Generate Parallel Databases\n",
        "\n",
        "Key to the definition of differenital privacy is the ability to ask the question \"When querying a database, if I removed someone from the database, would the output of the query be any different?\". Thus, in order to check this, we must construct what we term \"parallel databases\" which are simply databases with one entry removed. \n",
        "\n",
        "In this first project, I want you to create a list of every parallel database to the one currently contained in the \"db\" variable. Then, I want you to create a function which both:\n",
        "\n",
        "- creates the initial database (db)\n",
        "- creates all parallel databases"
      ]
    },
    {
      "cell_type": "code",
      "metadata": {
        "id": "d5aR-IVM0WsG",
        "colab_type": "code",
        "colab": {}
      },
      "source": [
        "# try project here!"
      ],
      "execution_count": 0,
      "outputs": []
    },
    {
      "cell_type": "code",
      "metadata": {
        "id": "KNAYmw4h0Wsk",
        "colab_type": "code",
        "outputId": "7757f11c-38a0-4f39-a030-bbdabbba55c6",
        "colab": {
          "base_uri": "https://localhost:8080/",
          "height": 34
        }
      },
      "source": [
        "db.shape"
      ],
      "execution_count": 8,
      "outputs": [
        {
          "output_type": "execute_result",
          "data": {
            "text/plain": [
              "torch.Size([5000])"
            ]
          },
          "metadata": {
            "tags": []
          },
          "execution_count": 8
        }
      ]
    },
    {
      "cell_type": "code",
      "metadata": {
        "id": "M0q2WBprTGKZ",
        "colab_type": "code",
        "outputId": "71c5354d-bdd6-43df-e90e-09da3789cc68",
        "colab": {
          "base_uri": "https://localhost:8080/",
          "height": 34
        }
      },
      "source": [
        "db"
      ],
      "execution_count": 9,
      "outputs": [
        {
          "output_type": "execute_result",
          "data": {
            "text/plain": [
              "tensor([1, 1, 0,  ..., 1, 0, 1], dtype=torch.uint8)"
            ]
          },
          "metadata": {
            "tags": []
          },
          "execution_count": 9
        }
      ]
    },
    {
      "cell_type": "code",
      "metadata": {
        "id": "saYc_cB30WtF",
        "colab_type": "code",
        "outputId": "cd61ed16-d454-43a7-cdfd-260419cb7ff5",
        "colab": {
          "base_uri": "https://localhost:8080/",
          "height": 71
        }
      },
      "source": [
        "# establish a counter\n",
        "i = 0\n",
        "\n",
        "# define a place to put the subtensors\n",
        "outputs = []\n",
        "\n",
        "\n",
        "# generate the tensors of length 4999 that each are missing one sequential element\n",
        "for row in db:\n",
        "  a = db[:i]\n",
        "  b = db[i+1:]\n",
        "  tensor = torch.cat([a, b])\n",
        "  outputs.insert(i, tensor)\n",
        "\n",
        "  i += 1\n",
        "  \n",
        "print(outputs)\n",
        "print(len(outputs))\n",
        "\n",
        "\n",
        "# validate that each tensor in the list is of length 4999\n",
        "# for j in outputs:\n",
        "#  print(j.shape)"
      ],
      "execution_count": 10,
      "outputs": [
        {
          "output_type": "stream",
          "text": [
            "[tensor([1, 0, 0,  ..., 1, 0, 1], dtype=torch.uint8), tensor([1, 0, 0,  ..., 1, 0, 1], dtype=torch.uint8), tensor([1, 1, 0,  ..., 1, 0, 1], dtype=torch.uint8), tensor([1, 1, 0,  ..., 1, 0, 1], dtype=torch.uint8), tensor([1, 1, 0,  ..., 1, 0, 1], dtype=torch.uint8), tensor([1, 1, 0,  ..., 1, 0, 1], dtype=torch.uint8), tensor([1, 1, 0,  ..., 1, 0, 1], dtype=torch.uint8), tensor([1, 1, 0,  ..., 1, 0, 1], dtype=torch.uint8), tensor([1, 1, 0,  ..., 1, 0, 1], dtype=torch.uint8), tensor([1, 1, 0,  ..., 1, 0, 1], dtype=torch.uint8), tensor([1, 1, 0,  ..., 1, 0, 1], dtype=torch.uint8), tensor([1, 1, 0,  ..., 1, 0, 1], dtype=torch.uint8), tensor([1, 1, 0,  ..., 1, 0, 1], dtype=torch.uint8), tensor([1, 1, 0,  ..., 1, 0, 1], dtype=torch.uint8), tensor([1, 1, 0,  ..., 1, 0, 1], dtype=torch.uint8), tensor([1, 1, 0,  ..., 1, 0, 1], dtype=torch.uint8), tensor([1, 1, 0,  ..., 1, 0, 1], dtype=torch.uint8), tensor([1, 1, 0,  ..., 1, 0, 1], dtype=torch.uint8), tensor([1, 1, 0,  ..., 1, 0, 1], dtype=torch.uint8), tensor([1, 1, 0,  ..., 1, 0, 1], dtype=torch.uint8), tensor([1, 1, 0,  ..., 1, 0, 1], dtype=torch.uint8), tensor([1, 1, 0,  ..., 1, 0, 1], dtype=torch.uint8), tensor([1, 1, 0,  ..., 1, 0, 1], dtype=torch.uint8), tensor([1, 1, 0,  ..., 1, 0, 1], dtype=torch.uint8), tensor([1, 1, 0,  ..., 1, 0, 1], dtype=torch.uint8), tensor([1, 1, 0,  ..., 1, 0, 1], dtype=torch.uint8), tensor([1, 1, 0,  ..., 1, 0, 1], dtype=torch.uint8), tensor([1, 1, 0,  ..., 1, 0, 1], dtype=torch.uint8), tensor([1, 1, 0,  ..., 1, 0, 1], dtype=torch.uint8), tensor([1, 1, 0,  ..., 1, 0, 1], dtype=torch.uint8), tensor([1, 1, 0,  ..., 1, 0, 1], dtype=torch.uint8), tensor([1, 1, 0,  ..., 1, 0, 1], dtype=torch.uint8), tensor([1, 1, 0,  ..., 1, 0, 1], dtype=torch.uint8), tensor([1, 1, 0,  ..., 1, 0, 1], dtype=torch.uint8), tensor([1, 1, 0,  ..., 1, 0, 1], dtype=torch.uint8), tensor([1, 1, 0,  ..., 1, 0, 1], dtype=torch.uint8), tensor([1, 1, 0,  ..., 1, 0, 1], dtype=torch.uint8), tensor([1, 1, 0,  ..., 1, 0, 1], dtype=torch.uint8), tensor([1, 1, 0,  ..., 1, 0, 1], dtype=torch.uint8), tensor([1, 1, 0,  ..., 1, 0, 1], dtype=torch.uint8), tensor([1, 1, 0,  ..., 1, 0, 1], dtype=torch.uint8), tensor([1, 1, 0,  ..., 1, 0, 1], dtype=torch.uint8), tensor([1, 1, 0,  ..., 1, 0, 1], dtype=torch.uint8), tensor([1, 1, 0,  ..., 1, 0, 1], dtype=torch.uint8), tensor([1, 1, 0,  ..., 1, 0, 1], dtype=torch.uint8), tensor([1, 1, 0,  ..., 1, 0, 1], dtype=torch.uint8), tensor([1, 1, 0,  ..., 1, 0, 1], dtype=torch.uint8), tensor([1, 1, 0,  ..., 1, 0, 1], dtype=torch.uint8), tensor([1, 1, 0,  ..., 1, 0, 1], dtype=torch.uint8), tensor([1, 1, 0,  ..., 1, 0, 1], dtype=torch.uint8), tensor([1, 1, 0,  ..., 1, 0, 1], dtype=torch.uint8), tensor([1, 1, 0,  ..., 1, 0, 1], dtype=torch.uint8), tensor([1, 1, 0,  ..., 1, 0, 1], dtype=torch.uint8), tensor([1, 1, 0,  ..., 1, 0, 1], dtype=torch.uint8), tensor([1, 1, 0,  ..., 1, 0, 1], dtype=torch.uint8), tensor([1, 1, 0,  ..., 1, 0, 1], dtype=torch.uint8), tensor([1, 1, 0,  ..., 1, 0, 1], dtype=torch.uint8), tensor([1, 1, 0,  ..., 1, 0, 1], dtype=torch.uint8), tensor([1, 1, 0,  ..., 1, 0, 1], dtype=torch.uint8), tensor([1, 1, 0,  ..., 1, 0, 1], dtype=torch.uint8), tensor([1, 1, 0,  ..., 1, 0, 1], dtype=torch.uint8), tensor([1, 1, 0,  ..., 1, 0, 1], dtype=torch.uint8), tensor([1, 1, 0,  ..., 1, 0, 1], dtype=torch.uint8), tensor([1, 1, 0,  ..., 1, 0, 1], dtype=torch.uint8), tensor([1, 1, 0,  ..., 1, 0, 1], dtype=torch.uint8), tensor([1, 1, 0,  ..., 1, 0, 1], dtype=torch.uint8), tensor([1, 1, 0,  ..., 1, 0, 1], dtype=torch.uint8), tensor([1, 1, 0,  ..., 1, 0, 1], dtype=torch.uint8), tensor([1, 1, 0,  ..., 1, 0, 1], dtype=torch.uint8), tensor([1, 1, 0,  ..., 1, 0, 1], dtype=torch.uint8), tensor([1, 1, 0,  ..., 1, 0, 1], dtype=torch.uint8), tensor([1, 1, 0,  ..., 1, 0, 1], dtype=torch.uint8), tensor([1, 1, 0,  ..., 1, 0, 1], dtype=torch.uint8), tensor([1, 1, 0,  ..., 1, 0, 1], dtype=torch.uint8), tensor([1, 1, 0,  ..., 1, 0, 1], dtype=torch.uint8), tensor([1, 1, 0,  ..., 1, 0, 1], dtype=torch.uint8), tensor([1, 1, 0,  ..., 1, 0, 1], dtype=torch.uint8), tensor([1, 1, 0,  ..., 1, 0, 1], dtype=torch.uint8), tensor([1, 1, 0,  ..., 1, 0, 1], dtype=torch.uint8), tensor([1, 1, 0,  ..., 1, 0, 1], dtype=torch.uint8), tensor([1, 1, 0,  ..., 1, 0, 1], dtype=torch.uint8), tensor([1, 1, 0,  ..., 1, 0, 1], dtype=torch.uint8), tensor([1, 1, 0,  ..., 1, 0, 1], dtype=torch.uint8), tensor([1, 1, 0,  ..., 1, 0, 1], dtype=torch.uint8), tensor([1, 1, 0,  ..., 1, 0, 1], dtype=torch.uint8), tensor([1, 1, 0,  ..., 1, 0, 1], dtype=torch.uint8), tensor([1, 1, 0,  ..., 1, 0, 1], dtype=torch.uint8), tensor([1, 1, 0,  ..., 1, 0, 1], dtype=torch.uint8), tensor([1, 1, 0,  ..., 1, 0, 1], dtype=torch.uint8), tensor([1, 1, 0,  ..., 1, 0, 1], dtype=torch.uint8), tensor([1, 1, 0,  ..., 1, 0, 1], dtype=torch.uint8), tensor([1, 1, 0,  ..., 1, 0, 1], dtype=torch.uint8), tensor([1, 1, 0,  ..., 1, 0, 1], dtype=torch.uint8), tensor([1, 1, 0,  ..., 1, 0, 1], dtype=torch.uint8), tensor([1, 1, 0,  ..., 1, 0, 1], dtype=torch.uint8), tensor([1, 1, 0,  ..., 1, 0, 1], dtype=torch.uint8), tensor([1, 1, 0,  ..., 1, 0, 1], dtype=torch.uint8), tensor([1, 1, 0,  ..., 1, 0, 1], dtype=torch.uint8), tensor([1, 1, 0,  ..., 1, 0, 1], dtype=torch.uint8), tensor([1, 1, 0,  ..., 1, 0, 1], dtype=torch.uint8), tensor([1, 1, 0,  ..., 1, 0, 1], dtype=torch.uint8), tensor([1, 1, 0,  ..., 1, 0, 1], dtype=torch.uint8), tensor([1, 1, 0,  ..., 1, 0, 1], dtype=torch.uint8), tensor([1, 1, 0,  ..., 1, 0, 1], dtype=torch.uint8), tensor([1, 1, 0,  ..., 1, 0, 1], dtype=torch.uint8), tensor([1, 1, 0,  ..., 1, 0, 1], dtype=torch.uint8), tensor([1, 1, 0,  ..., 1, 0, 1], dtype=torch.uint8), tensor([1, 1, 0,  ..., 1, 0, 1], dtype=torch.uint8), tensor([1, 1, 0,  ..., 1, 0, 1], dtype=torch.uint8), tensor([1, 1, 0,  ..., 1, 0, 1], dtype=torch.uint8), tensor([1, 1, 0,  ..., 1, 0, 1], dtype=torch.uint8), tensor([1, 1, 0,  ..., 1, 0, 1], dtype=torch.uint8), tensor([1, 1, 0,  ..., 1, 0, 1], dtype=torch.uint8), tensor([1, 1, 0,  ..., 1, 0, 1], dtype=torch.uint8), tensor([1, 1, 0,  ..., 1, 0, 1], dtype=torch.uint8), tensor([1, 1, 0,  ..., 1, 0, 1], dtype=torch.uint8), tensor([1, 1, 0,  ..., 1, 0, 1], dtype=torch.uint8), tensor([1, 1, 0,  ..., 1, 0, 1], dtype=torch.uint8), tensor([1, 1, 0,  ..., 1, 0, 1], dtype=torch.uint8), tensor([1, 1, 0,  ..., 1, 0, 1], dtype=torch.uint8), tensor([1, 1, 0,  ..., 1, 0, 1], dtype=torch.uint8), tensor([1, 1, 0,  ..., 1, 0, 1], dtype=torch.uint8), tensor([1, 1, 0,  ..., 1, 0, 1], dtype=torch.uint8), tensor([1, 1, 0,  ..., 1, 0, 1], dtype=torch.uint8), tensor([1, 1, 0,  ..., 1, 0, 1], dtype=torch.uint8), tensor([1, 1, 0,  ..., 1, 0, 1], dtype=torch.uint8), tensor([1, 1, 0,  ..., 1, 0, 1], dtype=torch.uint8), tensor([1, 1, 0,  ..., 1, 0, 1], dtype=torch.uint8), tensor([1, 1, 0,  ..., 1, 0, 1], dtype=torch.uint8), tensor([1, 1, 0,  ..., 1, 0, 1], dtype=torch.uint8), tensor([1, 1, 0,  ..., 1, 0, 1], dtype=torch.uint8), tensor([1, 1, 0,  ..., 1, 0, 1], dtype=torch.uint8), tensor([1, 1, 0,  ..., 1, 0, 1], dtype=torch.uint8), tensor([1, 1, 0,  ..., 1, 0, 1], dtype=torch.uint8), tensor([1, 1, 0,  ..., 1, 0, 1], dtype=torch.uint8), tensor([1, 1, 0,  ..., 1, 0, 1], dtype=torch.uint8), tensor([1, 1, 0,  ..., 1, 0, 1], dtype=torch.uint8), tensor([1, 1, 0,  ..., 1, 0, 1], dtype=torch.uint8), tensor([1, 1, 0,  ..., 1, 0, 1], dtype=torch.uint8), tensor([1, 1, 0,  ..., 1, 0, 1], dtype=torch.uint8), tensor([1, 1, 0,  ..., 1, 0, 1], dtype=torch.uint8), tensor([1, 1, 0,  ..., 1, 0, 1], dtype=torch.uint8), tensor([1, 1, 0,  ..., 1, 0, 1], dtype=torch.uint8), tensor([1, 1, 0,  ..., 1, 0, 1], dtype=torch.uint8), tensor([1, 1, 0,  ..., 1, 0, 1], dtype=torch.uint8), tensor([1, 1, 0,  ..., 1, 0, 1], dtype=torch.uint8), tensor([1, 1, 0,  ..., 1, 0, 1], dtype=torch.uint8), tensor([1, 1, 0,  ..., 1, 0, 1], dtype=torch.uint8), tensor([1, 1, 0,  ..., 1, 0, 1], dtype=torch.uint8), tensor([1, 1, 0,  ..., 1, 0, 1], dtype=torch.uint8), tensor([1, 1, 0,  ..., 1, 0, 1], dtype=torch.uint8), tensor([1, 1, 0,  ..., 1, 0, 1], dtype=torch.uint8), tensor([1, 1, 0,  ..., 1, 0, 1], dtype=torch.uint8), tensor([1, 1, 0,  ..., 1, 0, 1], dtype=torch.uint8), tensor([1, 1, 0,  ..., 1, 0, 1], dtype=torch.uint8), tensor([1, 1, 0,  ..., 1, 0, 1], dtype=torch.uint8), tensor([1, 1, 0,  ..., 1, 0, 1], dtype=torch.uint8), tensor([1, 1, 0,  ..., 1, 0, 1], dtype=torch.uint8), tensor([1, 1, 0,  ..., 1, 0, 1], dtype=torch.uint8), tensor([1, 1, 0,  ..., 1, 0, 1], dtype=torch.uint8), tensor([1, 1, 0,  ..., 1, 0, 1], dtype=torch.uint8), tensor([1, 1, 0,  ..., 1, 0, 1], dtype=torch.uint8), tensor([1, 1, 0,  ..., 1, 0, 1], dtype=torch.uint8), tensor([1, 1, 0,  ..., 1, 0, 1], dtype=torch.uint8), tensor([1, 1, 0,  ..., 1, 0, 1], dtype=torch.uint8), tensor([1, 1, 0,  ..., 1, 0, 1], dtype=torch.uint8), tensor([1, 1, 0,  ..., 1, 0, 1], dtype=torch.uint8), tensor([1, 1, 0,  ..., 1, 0, 1], dtype=torch.uint8), tensor([1, 1, 0,  ..., 1, 0, 1], dtype=torch.uint8), tensor([1, 1, 0,  ..., 1, 0, 1], dtype=torch.uint8), tensor([1, 1, 0,  ..., 1, 0, 1], dtype=torch.uint8), tensor([1, 1, 0,  ..., 1, 0, 1], dtype=torch.uint8), tensor([1, 1, 0,  ..., 1, 0, 1], dtype=torch.uint8), tensor([1, 1, 0,  ..., 1, 0, 1], dtype=torch.uint8), tensor([1, 1, 0,  ..., 1, 0, 1], dtype=torch.uint8), tensor([1, 1, 0,  ..., 1, 0, 1], dtype=torch.uint8), tensor([1, 1, 0,  ..., 1, 0, 1], dtype=torch.uint8), tensor([1, 1, 0,  ..., 1, 0, 1], dtype=torch.uint8), tensor([1, 1, 0,  ..., 1, 0, 1], dtype=torch.uint8), tensor([1, 1, 0,  ..., 1, 0, 1], dtype=torch.uint8), tensor([1, 1, 0,  ..., 1, 0, 1], dtype=torch.uint8), tensor([1, 1, 0,  ..., 1, 0, 1], dtype=torch.uint8), tensor([1, 1, 0,  ..., 1, 0, 1], dtype=torch.uint8), tensor([1, 1, 0,  ..., 1, 0, 1], dtype=torch.uint8), tensor([1, 1, 0,  ..., 1, 0, 1], dtype=torch.uint8), tensor([1, 1, 0,  ..., 1, 0, 1], dtype=torch.uint8), tensor([1, 1, 0,  ..., 1, 0, 1], dtype=torch.uint8), tensor([1, 1, 0,  ..., 1, 0, 1], dtype=torch.uint8), tensor([1, 1, 0,  ..., 1, 0, 1], dtype=torch.uint8), tensor([1, 1, 0,  ..., 1, 0, 1], dtype=torch.uint8), tensor([1, 1, 0,  ..., 1, 0, 1], dtype=torch.uint8), tensor([1, 1, 0,  ..., 1, 0, 1], dtype=torch.uint8), tensor([1, 1, 0,  ..., 1, 0, 1], dtype=torch.uint8), tensor([1, 1, 0,  ..., 1, 0, 1], dtype=torch.uint8), tensor([1, 1, 0,  ..., 1, 0, 1], dtype=torch.uint8), tensor([1, 1, 0,  ..., 1, 0, 1], dtype=torch.uint8), tensor([1, 1, 0,  ..., 1, 0, 1], dtype=torch.uint8), tensor([1, 1, 0,  ..., 1, 0, 1], dtype=torch.uint8), tensor([1, 1, 0,  ..., 1, 0, 1], dtype=torch.uint8), tensor([1, 1, 0,  ..., 1, 0, 1], dtype=torch.uint8), tensor([1, 1, 0,  ..., 1, 0, 1], dtype=torch.uint8), tensor([1, 1, 0,  ..., 1, 0, 1], dtype=torch.uint8), tensor([1, 1, 0,  ..., 1, 0, 1], dtype=torch.uint8), tensor([1, 1, 0,  ..., 1, 0, 1], dtype=torch.uint8), tensor([1, 1, 0,  ..., 1, 0, 1], dtype=torch.uint8), tensor([1, 1, 0,  ..., 1, 0, 1], dtype=torch.uint8), tensor([1, 1, 0,  ..., 1, 0, 1], dtype=torch.uint8), tensor([1, 1, 0,  ..., 1, 0, 1], dtype=torch.uint8), tensor([1, 1, 0,  ..., 1, 0, 1], dtype=torch.uint8), tensor([1, 1, 0,  ..., 1, 0, 1], dtype=torch.uint8), tensor([1, 1, 0,  ..., 1, 0, 1], dtype=torch.uint8), tensor([1, 1, 0,  ..., 1, 0, 1], dtype=torch.uint8), tensor([1, 1, 0,  ..., 1, 0, 1], dtype=torch.uint8), tensor([1, 1, 0,  ..., 1, 0, 1], dtype=torch.uint8), tensor([1, 1, 0,  ..., 1, 0, 1], dtype=torch.uint8), tensor([1, 1, 0,  ..., 1, 0, 1], dtype=torch.uint8), tensor([1, 1, 0,  ..., 1, 0, 1], dtype=torch.uint8), tensor([1, 1, 0,  ..., 1, 0, 1], dtype=torch.uint8), tensor([1, 1, 0,  ..., 1, 0, 1], dtype=torch.uint8), tensor([1, 1, 0,  ..., 1, 0, 1], dtype=torch.uint8), tensor([1, 1, 0,  ..., 1, 0, 1], dtype=torch.uint8), tensor([1, 1, 0,  ..., 1, 0, 1], dtype=torch.uint8), tensor([1, 1, 0,  ..., 1, 0, 1], dtype=torch.uint8), tensor([1, 1, 0,  ..., 1, 0, 1], dtype=torch.uint8), tensor([1, 1, 0,  ..., 1, 0, 1], dtype=torch.uint8), tensor([1, 1, 0,  ..., 1, 0, 1], dtype=torch.uint8), tensor([1, 1, 0,  ..., 1, 0, 1], dtype=torch.uint8), tensor([1, 1, 0,  ..., 1, 0, 1], dtype=torch.uint8), tensor([1, 1, 0,  ..., 1, 0, 1], dtype=torch.uint8), tensor([1, 1, 0,  ..., 1, 0, 1], dtype=torch.uint8), tensor([1, 1, 0,  ..., 1, 0, 1], dtype=torch.uint8), tensor([1, 1, 0,  ..., 1, 0, 1], dtype=torch.uint8), tensor([1, 1, 0,  ..., 1, 0, 1], dtype=torch.uint8), tensor([1, 1, 0,  ..., 1, 0, 1], dtype=torch.uint8), tensor([1, 1, 0,  ..., 1, 0, 1], dtype=torch.uint8), tensor([1, 1, 0,  ..., 1, 0, 1], dtype=torch.uint8), tensor([1, 1, 0,  ..., 1, 0, 1], dtype=torch.uint8), tensor([1, 1, 0,  ..., 1, 0, 1], dtype=torch.uint8), tensor([1, 1, 0,  ..., 1, 0, 1], dtype=torch.uint8), tensor([1, 1, 0,  ..., 1, 0, 1], dtype=torch.uint8), tensor([1, 1, 0,  ..., 1, 0, 1], dtype=torch.uint8), tensor([1, 1, 0,  ..., 1, 0, 1], dtype=torch.uint8), tensor([1, 1, 0,  ..., 1, 0, 1], dtype=torch.uint8), tensor([1, 1, 0,  ..., 1, 0, 1], dtype=torch.uint8), tensor([1, 1, 0,  ..., 1, 0, 1], dtype=torch.uint8), tensor([1, 1, 0,  ..., 1, 0, 1], dtype=torch.uint8), tensor([1, 1, 0,  ..., 1, 0, 1], dtype=torch.uint8), tensor([1, 1, 0,  ..., 1, 0, 1], dtype=torch.uint8), tensor([1, 1, 0,  ..., 1, 0, 1], dtype=torch.uint8), tensor([1, 1, 0,  ..., 1, 0, 1], dtype=torch.uint8), tensor([1, 1, 0,  ..., 1, 0, 1], dtype=torch.uint8), tensor([1, 1, 0,  ..., 1, 0, 1], dtype=torch.uint8), tensor([1, 1, 0,  ..., 1, 0, 1], dtype=torch.uint8), tensor([1, 1, 0,  ..., 1, 0, 1], dtype=torch.uint8), tensor([1, 1, 0,  ..., 1, 0, 1], dtype=torch.uint8), tensor([1, 1, 0,  ..., 1, 0, 1], dtype=torch.uint8), tensor([1, 1, 0,  ..., 1, 0, 1], dtype=torch.uint8), tensor([1, 1, 0,  ..., 1, 0, 1], dtype=torch.uint8), tensor([1, 1, 0,  ..., 1, 0, 1], dtype=torch.uint8), tensor([1, 1, 0,  ..., 1, 0, 1], dtype=torch.uint8), tensor([1, 1, 0,  ..., 1, 0, 1], dtype=torch.uint8), tensor([1, 1, 0,  ..., 1, 0, 1], dtype=torch.uint8), tensor([1, 1, 0,  ..., 1, 0, 1], dtype=torch.uint8), tensor([1, 1, 0,  ..., 1, 0, 1], dtype=torch.uint8), tensor([1, 1, 0,  ..., 1, 0, 1], dtype=torch.uint8), tensor([1, 1, 0,  ..., 1, 0, 1], dtype=torch.uint8), tensor([1, 1, 0,  ..., 1, 0, 1], dtype=torch.uint8), tensor([1, 1, 0,  ..., 1, 0, 1], dtype=torch.uint8), tensor([1, 1, 0,  ..., 1, 0, 1], dtype=torch.uint8), tensor([1, 1, 0,  ..., 1, 0, 1], dtype=torch.uint8), tensor([1, 1, 0,  ..., 1, 0, 1], dtype=torch.uint8), tensor([1, 1, 0,  ..., 1, 0, 1], dtype=torch.uint8), tensor([1, 1, 0,  ..., 1, 0, 1], dtype=torch.uint8), tensor([1, 1, 0,  ..., 1, 0, 1], dtype=torch.uint8), tensor([1, 1, 0,  ..., 1, 0, 1], dtype=torch.uint8), tensor([1, 1, 0,  ..., 1, 0, 1], dtype=torch.uint8), tensor([1, 1, 0,  ..., 1, 0, 1], dtype=torch.uint8), tensor([1, 1, 0,  ..., 1, 0, 1], dtype=torch.uint8), tensor([1, 1, 0,  ..., 1, 0, 1], dtype=torch.uint8), tensor([1, 1, 0,  ..., 1, 0, 1], dtype=torch.uint8), tensor([1, 1, 0,  ..., 1, 0, 1], dtype=torch.uint8), tensor([1, 1, 0,  ..., 1, 0, 1], dtype=torch.uint8), tensor([1, 1, 0,  ..., 1, 0, 1], dtype=torch.uint8), tensor([1, 1, 0,  ..., 1, 0, 1], dtype=torch.uint8), tensor([1, 1, 0,  ..., 1, 0, 1], dtype=torch.uint8), tensor([1, 1, 0,  ..., 1, 0, 1], dtype=torch.uint8), tensor([1, 1, 0,  ..., 1, 0, 1], dtype=torch.uint8), tensor([1, 1, 0,  ..., 1, 0, 1], dtype=torch.uint8), tensor([1, 1, 0,  ..., 1, 0, 1], dtype=torch.uint8), tensor([1, 1, 0,  ..., 1, 0, 1], dtype=torch.uint8), tensor([1, 1, 0,  ..., 1, 0, 1], dtype=torch.uint8), tensor([1, 1, 0,  ..., 1, 0, 1], dtype=torch.uint8), tensor([1, 1, 0,  ..., 1, 0, 1], dtype=torch.uint8), tensor([1, 1, 0,  ..., 1, 0, 1], dtype=torch.uint8), tensor([1, 1, 0,  ..., 1, 0, 1], dtype=torch.uint8), tensor([1, 1, 0,  ..., 1, 0, 1], dtype=torch.uint8), tensor([1, 1, 0,  ..., 1, 0, 1], dtype=torch.uint8), tensor([1, 1, 0,  ..., 1, 0, 1], dtype=torch.uint8), tensor([1, 1, 0,  ..., 1, 0, 1], dtype=torch.uint8), tensor([1, 1, 0,  ..., 1, 0, 1], dtype=torch.uint8), tensor([1, 1, 0,  ..., 1, 0, 1], dtype=torch.uint8), tensor([1, 1, 0,  ..., 1, 0, 1], dtype=torch.uint8), tensor([1, 1, 0,  ..., 1, 0, 1], dtype=torch.uint8), tensor([1, 1, 0,  ..., 1, 0, 1], dtype=torch.uint8), tensor([1, 1, 0,  ..., 1, 0, 1], dtype=torch.uint8), tensor([1, 1, 0,  ..., 1, 0, 1], dtype=torch.uint8), tensor([1, 1, 0,  ..., 1, 0, 1], dtype=torch.uint8), tensor([1, 1, 0,  ..., 1, 0, 1], dtype=torch.uint8), tensor([1, 1, 0,  ..., 1, 0, 1], dtype=torch.uint8), tensor([1, 1, 0,  ..., 1, 0, 1], dtype=torch.uint8), tensor([1, 1, 0,  ..., 1, 0, 1], dtype=torch.uint8), tensor([1, 1, 0,  ..., 1, 0, 1], dtype=torch.uint8), tensor([1, 1, 0,  ..., 1, 0, 1], dtype=torch.uint8), tensor([1, 1, 0,  ..., 1, 0, 1], dtype=torch.uint8), tensor([1, 1, 0,  ..., 1, 0, 1], dtype=torch.uint8), tensor([1, 1, 0,  ..., 1, 0, 1], dtype=torch.uint8), tensor([1, 1, 0,  ..., 1, 0, 1], dtype=torch.uint8), tensor([1, 1, 0,  ..., 1, 0, 1], dtype=torch.uint8), tensor([1, 1, 0,  ..., 1, 0, 1], dtype=torch.uint8), tensor([1, 1, 0,  ..., 1, 0, 1], dtype=torch.uint8), tensor([1, 1, 0,  ..., 1, 0, 1], dtype=torch.uint8), tensor([1, 1, 0,  ..., 1, 0, 1], dtype=torch.uint8), tensor([1, 1, 0,  ..., 1, 0, 1], dtype=torch.uint8), tensor([1, 1, 0,  ..., 1, 0, 1], dtype=torch.uint8), tensor([1, 1, 0,  ..., 1, 0, 1], dtype=torch.uint8), tensor([1, 1, 0,  ..., 1, 0, 1], dtype=torch.uint8), tensor([1, 1, 0,  ..., 1, 0, 1], dtype=torch.uint8), tensor([1, 1, 0,  ..., 1, 0, 1], dtype=torch.uint8), tensor([1, 1, 0,  ..., 1, 0, 1], dtype=torch.uint8), tensor([1, 1, 0,  ..., 1, 0, 1], dtype=torch.uint8), tensor([1, 1, 0,  ..., 1, 0, 1], dtype=torch.uint8), tensor([1, 1, 0,  ..., 1, 0, 1], dtype=torch.uint8), tensor([1, 1, 0,  ..., 1, 0, 1], dtype=torch.uint8), tensor([1, 1, 0,  ..., 1, 0, 1], dtype=torch.uint8), tensor([1, 1, 0,  ..., 1, 0, 1], dtype=torch.uint8), tensor([1, 1, 0,  ..., 1, 0, 1], dtype=torch.uint8), tensor([1, 1, 0,  ..., 1, 0, 1], dtype=torch.uint8), tensor([1, 1, 0,  ..., 1, 0, 1], dtype=torch.uint8), tensor([1, 1, 0,  ..., 1, 0, 1], dtype=torch.uint8), tensor([1, 1, 0,  ..., 1, 0, 1], dtype=torch.uint8), tensor([1, 1, 0,  ..., 1, 0, 1], dtype=torch.uint8), tensor([1, 1, 0,  ..., 1, 0, 1], dtype=torch.uint8), tensor([1, 1, 0,  ..., 1, 0, 1], dtype=torch.uint8), tensor([1, 1, 0,  ..., 1, 0, 1], dtype=torch.uint8), tensor([1, 1, 0,  ..., 1, 0, 1], dtype=torch.uint8), tensor([1, 1, 0,  ..., 1, 0, 1], dtype=torch.uint8), tensor([1, 1, 0,  ..., 1, 0, 1], dtype=torch.uint8), tensor([1, 1, 0,  ..., 1, 0, 1], dtype=torch.uint8), tensor([1, 1, 0,  ..., 1, 0, 1], dtype=torch.uint8), tensor([1, 1, 0,  ..., 1, 0, 1], dtype=torch.uint8), tensor([1, 1, 0,  ..., 1, 0, 1], dtype=torch.uint8), tensor([1, 1, 0,  ..., 1, 0, 1], dtype=torch.uint8), tensor([1, 1, 0,  ..., 1, 0, 1], dtype=torch.uint8), tensor([1, 1, 0,  ..., 1, 0, 1], dtype=torch.uint8), tensor([1, 1, 0,  ..., 1, 0, 1], dtype=torch.uint8), tensor([1, 1, 0,  ..., 1, 0, 1], dtype=torch.uint8), tensor([1, 1, 0,  ..., 1, 0, 1], dtype=torch.uint8), tensor([1, 1, 0,  ..., 1, 0, 1], dtype=torch.uint8), tensor([1, 1, 0,  ..., 1, 0, 1], dtype=torch.uint8), tensor([1, 1, 0,  ..., 1, 0, 1], dtype=torch.uint8), tensor([1, 1, 0,  ..., 1, 0, 1], dtype=torch.uint8), tensor([1, 1, 0,  ..., 1, 0, 1], dtype=torch.uint8), tensor([1, 1, 0,  ..., 1, 0, 1], dtype=torch.uint8), tensor([1, 1, 0,  ..., 1, 0, 1], dtype=torch.uint8), tensor([1, 1, 0,  ..., 1, 0, 1], dtype=torch.uint8), tensor([1, 1, 0,  ..., 1, 0, 1], dtype=torch.uint8), tensor([1, 1, 0,  ..., 1, 0, 1], dtype=torch.uint8), tensor([1, 1, 0,  ..., 1, 0, 1], dtype=torch.uint8), tensor([1, 1, 0,  ..., 1, 0, 1], dtype=torch.uint8), tensor([1, 1, 0,  ..., 1, 0, 1], dtype=torch.uint8), tensor([1, 1, 0,  ..., 1, 0, 1], dtype=torch.uint8), tensor([1, 1, 0,  ..., 1, 0, 1], dtype=torch.uint8), tensor([1, 1, 0,  ..., 1, 0, 1], dtype=torch.uint8), tensor([1, 1, 0,  ..., 1, 0, 1], dtype=torch.uint8), tensor([1, 1, 0,  ..., 1, 0, 1], dtype=torch.uint8), tensor([1, 1, 0,  ..., 1, 0, 1], dtype=torch.uint8), tensor([1, 1, 0,  ..., 1, 0, 1], dtype=torch.uint8), tensor([1, 1, 0,  ..., 1, 0, 1], dtype=torch.uint8), tensor([1, 1, 0,  ..., 1, 0, 1], dtype=torch.uint8), tensor([1, 1, 0,  ..., 1, 0, 1], dtype=torch.uint8), tensor([1, 1, 0,  ..., 1, 0, 1], dtype=torch.uint8), tensor([1, 1, 0,  ..., 1, 0, 1], dtype=torch.uint8), tensor([1, 1, 0,  ..., 1, 0, 1], dtype=torch.uint8), tensor([1, 1, 0,  ..., 1, 0, 1], dtype=torch.uint8), tensor([1, 1, 0,  ..., 1, 0, 1], dtype=torch.uint8), tensor([1, 1, 0,  ..., 1, 0, 1], dtype=torch.uint8), tensor([1, 1, 0,  ..., 1, 0, 1], dtype=torch.uint8), tensor([1, 1, 0,  ..., 1, 0, 1], dtype=torch.uint8), tensor([1, 1, 0,  ..., 1, 0, 1], dtype=torch.uint8), tensor([1, 1, 0,  ..., 1, 0, 1], dtype=torch.uint8), tensor([1, 1, 0,  ..., 1, 0, 1], dtype=torch.uint8), tensor([1, 1, 0,  ..., 1, 0, 1], dtype=torch.uint8), tensor([1, 1, 0,  ..., 1, 0, 1], dtype=torch.uint8), tensor([1, 1, 0,  ..., 1, 0, 1], dtype=torch.uint8), tensor([1, 1, 0,  ..., 1, 0, 1], dtype=torch.uint8), tensor([1, 1, 0,  ..., 1, 0, 1], dtype=torch.uint8), tensor([1, 1, 0,  ..., 1, 0, 1], dtype=torch.uint8), tensor([1, 1, 0,  ..., 1, 0, 1], dtype=torch.uint8), tensor([1, 1, 0,  ..., 1, 0, 1], dtype=torch.uint8), tensor([1, 1, 0,  ..., 1, 0, 1], dtype=torch.uint8), tensor([1, 1, 0,  ..., 1, 0, 1], dtype=torch.uint8), tensor([1, 1, 0,  ..., 1, 0, 1], dtype=torch.uint8), tensor([1, 1, 0,  ..., 1, 0, 1], dtype=torch.uint8), tensor([1, 1, 0,  ..., 1, 0, 1], dtype=torch.uint8), tensor([1, 1, 0,  ..., 1, 0, 1], dtype=torch.uint8), tensor([1, 1, 0,  ..., 1, 0, 1], dtype=torch.uint8), tensor([1, 1, 0,  ..., 1, 0, 1], dtype=torch.uint8), tensor([1, 1, 0,  ..., 1, 0, 1], dtype=torch.uint8), tensor([1, 1, 0,  ..., 1, 0, 1], dtype=torch.uint8), tensor([1, 1, 0,  ..., 1, 0, 1], dtype=torch.uint8), tensor([1, 1, 0,  ..., 1, 0, 1], dtype=torch.uint8), tensor([1, 1, 0,  ..., 1, 0, 1], dtype=torch.uint8), tensor([1, 1, 0,  ..., 1, 0, 1], dtype=torch.uint8), tensor([1, 1, 0,  ..., 1, 0, 1], dtype=torch.uint8), tensor([1, 1, 0,  ..., 1, 0, 1], dtype=torch.uint8), tensor([1, 1, 0,  ..., 1, 0, 1], dtype=torch.uint8), tensor([1, 1, 0,  ..., 1, 0, 1], dtype=torch.uint8), tensor([1, 1, 0,  ..., 1, 0, 1], dtype=torch.uint8), tensor([1, 1, 0,  ..., 1, 0, 1], dtype=torch.uint8), tensor([1, 1, 0,  ..., 1, 0, 1], dtype=torch.uint8), tensor([1, 1, 0,  ..., 1, 0, 1], dtype=torch.uint8), tensor([1, 1, 0,  ..., 1, 0, 1], dtype=torch.uint8), tensor([1, 1, 0,  ..., 1, 0, 1], dtype=torch.uint8), tensor([1, 1, 0,  ..., 1, 0, 1], dtype=torch.uint8), tensor([1, 1, 0,  ..., 1, 0, 1], dtype=torch.uint8), tensor([1, 1, 0,  ..., 1, 0, 1], dtype=torch.uint8), tensor([1, 1, 0,  ..., 1, 0, 1], dtype=torch.uint8), tensor([1, 1, 0,  ..., 1, 0, 1], dtype=torch.uint8), tensor([1, 1, 0,  ..., 1, 0, 1], dtype=torch.uint8), tensor([1, 1, 0,  ..., 1, 0, 1], dtype=torch.uint8), tensor([1, 1, 0,  ..., 1, 0, 1], dtype=torch.uint8), tensor([1, 1, 0,  ..., 1, 0, 1], dtype=torch.uint8), tensor([1, 1, 0,  ..., 1, 0, 1], dtype=torch.uint8), tensor([1, 1, 0,  ..., 1, 0, 1], dtype=torch.uint8), tensor([1, 1, 0,  ..., 1, 0, 1], dtype=torch.uint8), tensor([1, 1, 0,  ..., 1, 0, 1], dtype=torch.uint8), tensor([1, 1, 0,  ..., 1, 0, 1], dtype=torch.uint8), tensor([1, 1, 0,  ..., 1, 0, 1], dtype=torch.uint8), tensor([1, 1, 0,  ..., 1, 0, 1], dtype=torch.uint8), tensor([1, 1, 0,  ..., 1, 0, 1], dtype=torch.uint8), tensor([1, 1, 0,  ..., 1, 0, 1], dtype=torch.uint8), tensor([1, 1, 0,  ..., 1, 0, 1], dtype=torch.uint8), tensor([1, 1, 0,  ..., 1, 0, 1], dtype=torch.uint8), tensor([1, 1, 0,  ..., 1, 0, 1], dtype=torch.uint8), tensor([1, 1, 0,  ..., 1, 0, 1], dtype=torch.uint8), tensor([1, 1, 0,  ..., 1, 0, 1], dtype=torch.uint8), tensor([1, 1, 0,  ..., 1, 0, 1], dtype=torch.uint8), tensor([1, 1, 0,  ..., 1, 0, 1], dtype=torch.uint8), tensor([1, 1, 0,  ..., 1, 0, 1], dtype=torch.uint8), tensor([1, 1, 0,  ..., 1, 0, 1], dtype=torch.uint8), tensor([1, 1, 0,  ..., 1, 0, 1], dtype=torch.uint8), tensor([1, 1, 0,  ..., 1, 0, 1], dtype=torch.uint8), tensor([1, 1, 0,  ..., 1, 0, 1], dtype=torch.uint8), tensor([1, 1, 0,  ..., 1, 0, 1], dtype=torch.uint8), tensor([1, 1, 0,  ..., 1, 0, 1], dtype=torch.uint8), tensor([1, 1, 0,  ..., 1, 0, 1], dtype=torch.uint8), tensor([1, 1, 0,  ..., 1, 0, 1], dtype=torch.uint8), tensor([1, 1, 0,  ..., 1, 0, 1], dtype=torch.uint8), tensor([1, 1, 0,  ..., 1, 0, 1], dtype=torch.uint8), tensor([1, 1, 0,  ..., 1, 0, 1], dtype=torch.uint8), tensor([1, 1, 0,  ..., 1, 0, 1], dtype=torch.uint8), tensor([1, 1, 0,  ..., 1, 0, 1], dtype=torch.uint8), tensor([1, 1, 0,  ..., 1, 0, 1], dtype=torch.uint8), tensor([1, 1, 0,  ..., 1, 0, 1], dtype=torch.uint8), tensor([1, 1, 0,  ..., 1, 0, 1], dtype=torch.uint8), tensor([1, 1, 0,  ..., 1, 0, 1], dtype=torch.uint8), tensor([1, 1, 0,  ..., 1, 0, 1], dtype=torch.uint8), tensor([1, 1, 0,  ..., 1, 0, 1], dtype=torch.uint8), tensor([1, 1, 0,  ..., 1, 0, 1], dtype=torch.uint8), tensor([1, 1, 0,  ..., 1, 0, 1], dtype=torch.uint8), tensor([1, 1, 0,  ..., 1, 0, 1], dtype=torch.uint8), tensor([1, 1, 0,  ..., 1, 0, 1], dtype=torch.uint8), tensor([1, 1, 0,  ..., 1, 0, 1], dtype=torch.uint8), tensor([1, 1, 0,  ..., 1, 0, 1], dtype=torch.uint8), tensor([1, 1, 0,  ..., 1, 0, 1], dtype=torch.uint8), tensor([1, 1, 0,  ..., 1, 0, 1], dtype=torch.uint8), tensor([1, 1, 0,  ..., 1, 0, 1], dtype=torch.uint8), tensor([1, 1, 0,  ..., 1, 0, 1], dtype=torch.uint8), tensor([1, 1, 0,  ..., 1, 0, 1], dtype=torch.uint8), tensor([1, 1, 0,  ..., 1, 0, 1], dtype=torch.uint8), tensor([1, 1, 0,  ..., 1, 0, 1], dtype=torch.uint8), tensor([1, 1, 0,  ..., 1, 0, 1], dtype=torch.uint8), tensor([1, 1, 0,  ..., 1, 0, 1], dtype=torch.uint8), tensor([1, 1, 0,  ..., 1, 0, 1], dtype=torch.uint8), tensor([1, 1, 0,  ..., 1, 0, 1], dtype=torch.uint8), tensor([1, 1, 0,  ..., 1, 0, 1], dtype=torch.uint8), tensor([1, 1, 0,  ..., 1, 0, 1], dtype=torch.uint8), tensor([1, 1, 0,  ..., 1, 0, 1], dtype=torch.uint8), tensor([1, 1, 0,  ..., 1, 0, 1], dtype=torch.uint8), tensor([1, 1, 0,  ..., 1, 0, 1], dtype=torch.uint8), tensor([1, 1, 0,  ..., 1, 0, 1], dtype=torch.uint8), tensor([1, 1, 0,  ..., 1, 0, 1], dtype=torch.uint8), tensor([1, 1, 0,  ..., 1, 0, 1], dtype=torch.uint8), tensor([1, 1, 0,  ..., 1, 0, 1], dtype=torch.uint8), tensor([1, 1, 0,  ..., 1, 0, 1], dtype=torch.uint8), tensor([1, 1, 0,  ..., 1, 0, 1], dtype=torch.uint8), tensor([1, 1, 0,  ..., 1, 0, 1], dtype=torch.uint8), tensor([1, 1, 0,  ..., 1, 0, 1], dtype=torch.uint8), tensor([1, 1, 0,  ..., 1, 0, 1], dtype=torch.uint8), tensor([1, 1, 0,  ..., 1, 0, 1], dtype=torch.uint8), tensor([1, 1, 0,  ..., 1, 0, 1], dtype=torch.uint8), tensor([1, 1, 0,  ..., 1, 0, 1], dtype=torch.uint8), tensor([1, 1, 0,  ..., 1, 0, 1], dtype=torch.uint8), tensor([1, 1, 0,  ..., 1, 0, 1], dtype=torch.uint8), tensor([1, 1, 0,  ..., 1, 0, 1], dtype=torch.uint8), tensor([1, 1, 0,  ..., 1, 0, 1], dtype=torch.uint8), tensor([1, 1, 0,  ..., 1, 0, 1], dtype=torch.uint8), tensor([1, 1, 0,  ..., 1, 0, 1], dtype=torch.uint8), tensor([1, 1, 0,  ..., 1, 0, 1], dtype=torch.uint8), tensor([1, 1, 0,  ..., 1, 0, 1], dtype=torch.uint8), tensor([1, 1, 0,  ..., 1, 0, 1], dtype=torch.uint8), tensor([1, 1, 0,  ..., 1, 0, 1], dtype=torch.uint8), tensor([1, 1, 0,  ..., 1, 0, 1], dtype=torch.uint8), tensor([1, 1, 0,  ..., 1, 0, 1], dtype=torch.uint8), tensor([1, 1, 0,  ..., 1, 0, 1], dtype=torch.uint8), tensor([1, 1, 0,  ..., 1, 0, 1], dtype=torch.uint8), tensor([1, 1, 0,  ..., 1, 0, 1], dtype=torch.uint8), tensor([1, 1, 0,  ..., 1, 0, 1], dtype=torch.uint8), tensor([1, 1, 0,  ..., 1, 0, 1], dtype=torch.uint8), tensor([1, 1, 0,  ..., 1, 0, 1], dtype=torch.uint8), tensor([1, 1, 0,  ..., 1, 0, 1], dtype=torch.uint8), tensor([1, 1, 0,  ..., 1, 0, 1], dtype=torch.uint8), tensor([1, 1, 0,  ..., 1, 0, 1], dtype=torch.uint8), tensor([1, 1, 0,  ..., 1, 0, 1], dtype=torch.uint8), tensor([1, 1, 0,  ..., 1, 0, 1], dtype=torch.uint8), tensor([1, 1, 0,  ..., 1, 0, 1], dtype=torch.uint8), tensor([1, 1, 0,  ..., 1, 0, 1], dtype=torch.uint8), tensor([1, 1, 0,  ..., 1, 0, 1], dtype=torch.uint8), tensor([1, 1, 0,  ..., 1, 0, 1], dtype=torch.uint8), tensor([1, 1, 0,  ..., 1, 0, 1], dtype=torch.uint8), tensor([1, 1, 0,  ..., 1, 0, 1], dtype=torch.uint8), tensor([1, 1, 0,  ..., 1, 0, 1], dtype=torch.uint8), tensor([1, 1, 0,  ..., 1, 0, 1], dtype=torch.uint8), tensor([1, 1, 0,  ..., 1, 0, 1], dtype=torch.uint8), tensor([1, 1, 0,  ..., 1, 0, 1], dtype=torch.uint8), tensor([1, 1, 0,  ..., 1, 0, 1], dtype=torch.uint8), tensor([1, 1, 0,  ..., 1, 0, 1], dtype=torch.uint8), tensor([1, 1, 0,  ..., 1, 0, 1], dtype=torch.uint8), tensor([1, 1, 0,  ..., 1, 0, 1], dtype=torch.uint8), tensor([1, 1, 0,  ..., 1, 0, 1], dtype=torch.uint8), tensor([1, 1, 0,  ..., 1, 0, 1], dtype=torch.uint8), tensor([1, 1, 0,  ..., 1, 0, 1], dtype=torch.uint8), tensor([1, 1, 0,  ..., 1, 0, 1], dtype=torch.uint8), tensor([1, 1, 0,  ..., 1, 0, 1], dtype=torch.uint8), tensor([1, 1, 0,  ..., 1, 0, 1], dtype=torch.uint8), tensor([1, 1, 0,  ..., 1, 0, 1], dtype=torch.uint8), tensor([1, 1, 0,  ..., 1, 0, 1], dtype=torch.uint8), tensor([1, 1, 0,  ..., 1, 0, 1], dtype=torch.uint8), tensor([1, 1, 0,  ..., 1, 0, 1], dtype=torch.uint8), tensor([1, 1, 0,  ..., 1, 0, 1], dtype=torch.uint8), tensor([1, 1, 0,  ..., 1, 0, 1], dtype=torch.uint8), tensor([1, 1, 0,  ..., 1, 0, 1], dtype=torch.uint8), tensor([1, 1, 0,  ..., 1, 0, 1], dtype=torch.uint8), tensor([1, 1, 0,  ..., 1, 0, 1], dtype=torch.uint8), tensor([1, 1, 0,  ..., 1, 0, 1], dtype=torch.uint8), tensor([1, 1, 0,  ..., 1, 0, 1], dtype=torch.uint8), tensor([1, 1, 0,  ..., 1, 0, 1], dtype=torch.uint8), tensor([1, 1, 0,  ..., 1, 0, 1], dtype=torch.uint8), tensor([1, 1, 0,  ..., 1, 0, 1], dtype=torch.uint8), tensor([1, 1, 0,  ..., 1, 0, 1], dtype=torch.uint8), tensor([1, 1, 0,  ..., 1, 0, 1], dtype=torch.uint8), tensor([1, 1, 0,  ..., 1, 0, 1], dtype=torch.uint8), tensor([1, 1, 0,  ..., 1, 0, 1], dtype=torch.uint8), tensor([1, 1, 0,  ..., 1, 0, 1], dtype=torch.uint8), tensor([1, 1, 0,  ..., 1, 0, 1], dtype=torch.uint8), tensor([1, 1, 0,  ..., 1, 0, 1], dtype=torch.uint8), tensor([1, 1, 0,  ..., 1, 0, 1], dtype=torch.uint8), tensor([1, 1, 0,  ..., 1, 0, 1], dtype=torch.uint8), tensor([1, 1, 0,  ..., 1, 0, 1], dtype=torch.uint8), tensor([1, 1, 0,  ..., 1, 0, 1], dtype=torch.uint8), tensor([1, 1, 0,  ..., 1, 0, 1], dtype=torch.uint8), tensor([1, 1, 0,  ..., 1, 0, 1], dtype=torch.uint8), tensor([1, 1, 0,  ..., 1, 0, 1], dtype=torch.uint8), tensor([1, 1, 0,  ..., 1, 0, 1], dtype=torch.uint8), tensor([1, 1, 0,  ..., 1, 0, 1], dtype=torch.uint8), tensor([1, 1, 0,  ..., 1, 0, 1], dtype=torch.uint8), tensor([1, 1, 0,  ..., 1, 0, 1], dtype=torch.uint8), tensor([1, 1, 0,  ..., 1, 0, 1], dtype=torch.uint8), tensor([1, 1, 0,  ..., 1, 0, 1], dtype=torch.uint8), tensor([1, 1, 0,  ..., 1, 0, 1], dtype=torch.uint8), tensor([1, 1, 0,  ..., 1, 0, 1], dtype=torch.uint8), tensor([1, 1, 0,  ..., 1, 0, 1], dtype=torch.uint8), tensor([1, 1, 0,  ..., 1, 0, 1], dtype=torch.uint8), tensor([1, 1, 0,  ..., 1, 0, 1], dtype=torch.uint8), tensor([1, 1, 0,  ..., 1, 0, 1], dtype=torch.uint8), tensor([1, 1, 0,  ..., 1, 0, 1], dtype=torch.uint8), tensor([1, 1, 0,  ..., 1, 0, 1], dtype=torch.uint8), tensor([1, 1, 0,  ..., 1, 0, 1], dtype=torch.uint8), tensor([1, 1, 0,  ..., 1, 0, 1], dtype=torch.uint8), tensor([1, 1, 0,  ..., 1, 0, 1], dtype=torch.uint8), tensor([1, 1, 0,  ..., 1, 0, 1], dtype=torch.uint8), tensor([1, 1, 0,  ..., 1, 0, 1], dtype=torch.uint8), tensor([1, 1, 0,  ..., 1, 0, 1], dtype=torch.uint8), tensor([1, 1, 0,  ..., 1, 0, 1], dtype=torch.uint8), tensor([1, 1, 0,  ..., 1, 0, 1], dtype=torch.uint8), tensor([1, 1, 0,  ..., 1, 0, 1], dtype=torch.uint8), tensor([1, 1, 0,  ..., 1, 0, 1], dtype=torch.uint8), tensor([1, 1, 0,  ..., 1, 0, 1], dtype=torch.uint8), tensor([1, 1, 0,  ..., 1, 0, 1], dtype=torch.uint8), tensor([1, 1, 0,  ..., 1, 0, 1], dtype=torch.uint8), tensor([1, 1, 0,  ..., 1, 0, 1], dtype=torch.uint8), tensor([1, 1, 0,  ..., 1, 0, 1], dtype=torch.uint8), tensor([1, 1, 0,  ..., 1, 0, 1], dtype=torch.uint8), tensor([1, 1, 0,  ..., 1, 0, 1], dtype=torch.uint8), tensor([1, 1, 0,  ..., 1, 0, 1], dtype=torch.uint8), tensor([1, 1, 0,  ..., 1, 0, 1], dtype=torch.uint8), tensor([1, 1, 0,  ..., 1, 0, 1], dtype=torch.uint8), tensor([1, 1, 0,  ..., 1, 0, 1], dtype=torch.uint8), tensor([1, 1, 0,  ..., 1, 0, 1], dtype=torch.uint8), tensor([1, 1, 0,  ..., 1, 0, 1], dtype=torch.uint8), tensor([1, 1, 0,  ..., 1, 0, 1], dtype=torch.uint8), tensor([1, 1, 0,  ..., 1, 0, 1], dtype=torch.uint8), tensor([1, 1, 0,  ..., 1, 0, 1], dtype=torch.uint8), tensor([1, 1, 0,  ..., 1, 0, 1], dtype=torch.uint8), tensor([1, 1, 0,  ..., 1, 0, 1], dtype=torch.uint8), tensor([1, 1, 0,  ..., 1, 0, 1], dtype=torch.uint8), tensor([1, 1, 0,  ..., 1, 0, 1], dtype=torch.uint8), tensor([1, 1, 0,  ..., 1, 0, 1], dtype=torch.uint8), tensor([1, 1, 0,  ..., 1, 0, 1], dtype=torch.uint8), tensor([1, 1, 0,  ..., 1, 0, 1], dtype=torch.uint8), tensor([1, 1, 0,  ..., 1, 0, 1], dtype=torch.uint8), tensor([1, 1, 0,  ..., 1, 0, 1], dtype=torch.uint8), tensor([1, 1, 0,  ..., 1, 0, 1], dtype=torch.uint8), tensor([1, 1, 0,  ..., 1, 0, 1], dtype=torch.uint8), tensor([1, 1, 0,  ..., 1, 0, 1], dtype=torch.uint8), tensor([1, 1, 0,  ..., 1, 0, 1], dtype=torch.uint8), tensor([1, 1, 0,  ..., 1, 0, 1], dtype=torch.uint8), tensor([1, 1, 0,  ..., 1, 0, 1], dtype=torch.uint8), tensor([1, 1, 0,  ..., 1, 0, 1], dtype=torch.uint8), tensor([1, 1, 0,  ..., 1, 0, 1], dtype=torch.uint8), tensor([1, 1, 0,  ..., 1, 0, 1], dtype=torch.uint8), tensor([1, 1, 0,  ..., 1, 0, 1], dtype=torch.uint8), tensor([1, 1, 0,  ..., 1, 0, 1], dtype=torch.uint8), tensor([1, 1, 0,  ..., 1, 0, 1], dtype=torch.uint8), tensor([1, 1, 0,  ..., 1, 0, 1], dtype=torch.uint8), tensor([1, 1, 0,  ..., 1, 0, 1], dtype=torch.uint8), tensor([1, 1, 0,  ..., 1, 0, 1], dtype=torch.uint8), tensor([1, 1, 0,  ..., 1, 0, 1], dtype=torch.uint8), tensor([1, 1, 0,  ..., 1, 0, 1], dtype=torch.uint8), tensor([1, 1, 0,  ..., 1, 0, 1], dtype=torch.uint8), tensor([1, 1, 0,  ..., 1, 0, 1], dtype=torch.uint8), tensor([1, 1, 0,  ..., 1, 0, 1], dtype=torch.uint8), tensor([1, 1, 0,  ..., 1, 0, 1], dtype=torch.uint8), tensor([1, 1, 0,  ..., 1, 0, 1], dtype=torch.uint8), tensor([1, 1, 0,  ..., 1, 0, 1], dtype=torch.uint8), tensor([1, 1, 0,  ..., 1, 0, 1], dtype=torch.uint8), tensor([1, 1, 0,  ..., 1, 0, 1], dtype=torch.uint8), tensor([1, 1, 0,  ..., 1, 0, 1], dtype=torch.uint8), tensor([1, 1, 0,  ..., 1, 0, 1], dtype=torch.uint8), tensor([1, 1, 0,  ..., 1, 0, 1], dtype=torch.uint8), tensor([1, 1, 0,  ..., 1, 0, 1], dtype=torch.uint8), tensor([1, 1, 0,  ..., 1, 0, 1], dtype=torch.uint8), tensor([1, 1, 0,  ..., 1, 0, 1], dtype=torch.uint8), tensor([1, 1, 0,  ..., 1, 0, 1], dtype=torch.uint8), tensor([1, 1, 0,  ..., 1, 0, 1], dtype=torch.uint8), tensor([1, 1, 0,  ..., 1, 0, 1], dtype=torch.uint8), tensor([1, 1, 0,  ..., 1, 0, 1], dtype=torch.uint8), tensor([1, 1, 0,  ..., 1, 0, 1], dtype=torch.uint8), tensor([1, 1, 0,  ..., 1, 0, 1], dtype=torch.uint8), tensor([1, 1, 0,  ..., 1, 0, 1], dtype=torch.uint8), tensor([1, 1, 0,  ..., 1, 0, 1], dtype=torch.uint8), tensor([1, 1, 0,  ..., 1, 0, 1], dtype=torch.uint8), tensor([1, 1, 0,  ..., 1, 0, 1], dtype=torch.uint8), tensor([1, 1, 0,  ..., 1, 0, 1], dtype=torch.uint8), tensor([1, 1, 0,  ..., 1, 0, 1], dtype=torch.uint8), tensor([1, 1, 0,  ..., 1, 0, 1], dtype=torch.uint8), tensor([1, 1, 0,  ..., 1, 0, 1], dtype=torch.uint8), tensor([1, 1, 0,  ..., 1, 0, 1], dtype=torch.uint8), tensor([1, 1, 0,  ..., 1, 0, 1], dtype=torch.uint8), tensor([1, 1, 0,  ..., 1, 0, 1], dtype=torch.uint8), tensor([1, 1, 0,  ..., 1, 0, 1], dtype=torch.uint8), tensor([1, 1, 0,  ..., 1, 0, 1], dtype=torch.uint8), tensor([1, 1, 0,  ..., 1, 0, 1], dtype=torch.uint8), tensor([1, 1, 0,  ..., 1, 0, 1], dtype=torch.uint8), tensor([1, 1, 0,  ..., 1, 0, 1], dtype=torch.uint8), tensor([1, 1, 0,  ..., 1, 0, 1], dtype=torch.uint8), tensor([1, 1, 0,  ..., 1, 0, 1], dtype=torch.uint8), tensor([1, 1, 0,  ..., 1, 0, 1], dtype=torch.uint8), tensor([1, 1, 0,  ..., 1, 0, 1], dtype=torch.uint8), tensor([1, 1, 0,  ..., 1, 0, 1], dtype=torch.uint8), tensor([1, 1, 0,  ..., 1, 0, 1], dtype=torch.uint8), tensor([1, 1, 0,  ..., 1, 0, 1], dtype=torch.uint8), tensor([1, 1, 0,  ..., 1, 0, 1], dtype=torch.uint8), tensor([1, 1, 0,  ..., 1, 0, 1], dtype=torch.uint8), tensor([1, 1, 0,  ..., 1, 0, 1], dtype=torch.uint8), tensor([1, 1, 0,  ..., 1, 0, 1], dtype=torch.uint8), tensor([1, 1, 0,  ..., 1, 0, 1], dtype=torch.uint8), tensor([1, 1, 0,  ..., 1, 0, 1], dtype=torch.uint8), tensor([1, 1, 0,  ..., 1, 0, 1], dtype=torch.uint8), tensor([1, 1, 0,  ..., 1, 0, 1], dtype=torch.uint8), tensor([1, 1, 0,  ..., 1, 0, 1], dtype=torch.uint8), tensor([1, 1, 0,  ..., 1, 0, 1], dtype=torch.uint8), tensor([1, 1, 0,  ..., 1, 0, 1], dtype=torch.uint8), tensor([1, 1, 0,  ..., 1, 0, 1], dtype=torch.uint8), tensor([1, 1, 0,  ..., 1, 0, 1], dtype=torch.uint8), tensor([1, 1, 0,  ..., 1, 0, 1], dtype=torch.uint8), tensor([1, 1, 0,  ..., 1, 0, 1], dtype=torch.uint8), tensor([1, 1, 0,  ..., 1, 0, 1], dtype=torch.uint8), tensor([1, 1, 0,  ..., 1, 0, 1], dtype=torch.uint8), tensor([1, 1, 0,  ..., 1, 0, 1], dtype=torch.uint8), tensor([1, 1, 0,  ..., 1, 0, 1], dtype=torch.uint8), tensor([1, 1, 0,  ..., 1, 0, 1], dtype=torch.uint8), tensor([1, 1, 0,  ..., 1, 0, 1], dtype=torch.uint8), tensor([1, 1, 0,  ..., 1, 0, 1], dtype=torch.uint8), tensor([1, 1, 0,  ..., 1, 0, 1], dtype=torch.uint8), tensor([1, 1, 0,  ..., 1, 0, 1], dtype=torch.uint8), tensor([1, 1, 0,  ..., 1, 0, 1], dtype=torch.uint8), tensor([1, 1, 0,  ..., 1, 0, 1], dtype=torch.uint8), tensor([1, 1, 0,  ..., 1, 0, 1], dtype=torch.uint8), tensor([1, 1, 0,  ..., 1, 0, 1], dtype=torch.uint8), tensor([1, 1, 0,  ..., 1, 0, 1], dtype=torch.uint8), tensor([1, 1, 0,  ..., 1, 0, 1], dtype=torch.uint8), tensor([1, 1, 0,  ..., 1, 0, 1], dtype=torch.uint8), tensor([1, 1, 0,  ..., 1, 0, 1], dtype=torch.uint8), tensor([1, 1, 0,  ..., 1, 0, 1], dtype=torch.uint8), tensor([1, 1, 0,  ..., 1, 0, 1], dtype=torch.uint8), tensor([1, 1, 0,  ..., 1, 0, 1], dtype=torch.uint8), tensor([1, 1, 0,  ..., 1, 0, 1], dtype=torch.uint8), tensor([1, 1, 0,  ..., 1, 0, 1], dtype=torch.uint8), tensor([1, 1, 0,  ..., 1, 0, 1], dtype=torch.uint8), tensor([1, 1, 0,  ..., 1, 0, 1], dtype=torch.uint8), tensor([1, 1, 0,  ..., 1, 0, 1], dtype=torch.uint8), tensor([1, 1, 0,  ..., 1, 0, 1], dtype=torch.uint8), tensor([1, 1, 0,  ..., 1, 0, 1], dtype=torch.uint8), tensor([1, 1, 0,  ..., 1, 0, 1], dtype=torch.uint8), tensor([1, 1, 0,  ..., 1, 0, 1], dtype=torch.uint8), tensor([1, 1, 0,  ..., 1, 0, 1], dtype=torch.uint8), tensor([1, 1, 0,  ..., 1, 0, 1], dtype=torch.uint8), tensor([1, 1, 0,  ..., 1, 0, 1], dtype=torch.uint8), tensor([1, 1, 0,  ..., 1, 0, 1], dtype=torch.uint8), tensor([1, 1, 0,  ..., 1, 0, 1], dtype=torch.uint8), tensor([1, 1, 0,  ..., 1, 0, 1], dtype=torch.uint8), tensor([1, 1, 0,  ..., 1, 0, 1], dtype=torch.uint8), tensor([1, 1, 0,  ..., 1, 0, 1], dtype=torch.uint8), tensor([1, 1, 0,  ..., 1, 0, 1], dtype=torch.uint8), tensor([1, 1, 0,  ..., 1, 0, 1], dtype=torch.uint8), tensor([1, 1, 0,  ..., 1, 0, 1], dtype=torch.uint8), tensor([1, 1, 0,  ..., 1, 0, 1], dtype=torch.uint8), tensor([1, 1, 0,  ..., 1, 0, 1], dtype=torch.uint8), tensor([1, 1, 0,  ..., 1, 0, 1], dtype=torch.uint8), tensor([1, 1, 0,  ..., 1, 0, 1], dtype=torch.uint8), tensor([1, 1, 0,  ..., 1, 0, 1], dtype=torch.uint8), tensor([1, 1, 0,  ..., 1, 0, 1], dtype=torch.uint8), tensor([1, 1, 0,  ..., 1, 0, 1], dtype=torch.uint8), tensor([1, 1, 0,  ..., 1, 0, 1], dtype=torch.uint8), tensor([1, 1, 0,  ..., 1, 0, 1], dtype=torch.uint8), tensor([1, 1, 0,  ..., 1, 0, 1], dtype=torch.uint8), tensor([1, 1, 0,  ..., 1, 0, 1], dtype=torch.uint8), tensor([1, 1, 0,  ..., 1, 0, 1], dtype=torch.uint8), tensor([1, 1, 0,  ..., 1, 0, 1], dtype=torch.uint8), tensor([1, 1, 0,  ..., 1, 0, 1], dtype=torch.uint8), tensor([1, 1, 0,  ..., 1, 0, 1], dtype=torch.uint8), tensor([1, 1, 0,  ..., 1, 0, 1], dtype=torch.uint8), tensor([1, 1, 0,  ..., 1, 0, 1], dtype=torch.uint8), tensor([1, 1, 0,  ..., 1, 0, 1], dtype=torch.uint8), tensor([1, 1, 0,  ..., 1, 0, 1], dtype=torch.uint8), tensor([1, 1, 0,  ..., 1, 0, 1], dtype=torch.uint8), tensor([1, 1, 0,  ..., 1, 0, 1], dtype=torch.uint8), tensor([1, 1, 0,  ..., 1, 0, 1], dtype=torch.uint8), tensor([1, 1, 0,  ..., 1, 0, 1], dtype=torch.uint8), tensor([1, 1, 0,  ..., 1, 0, 1], dtype=torch.uint8), tensor([1, 1, 0,  ..., 1, 0, 1], dtype=torch.uint8), tensor([1, 1, 0,  ..., 1, 0, 1], dtype=torch.uint8), tensor([1, 1, 0,  ..., 1, 0, 1], dtype=torch.uint8), tensor([1, 1, 0,  ..., 1, 0, 1], dtype=torch.uint8), tensor([1, 1, 0,  ..., 1, 0, 1], dtype=torch.uint8), tensor([1, 1, 0,  ..., 1, 0, 1], dtype=torch.uint8), tensor([1, 1, 0,  ..., 1, 0, 1], dtype=torch.uint8), tensor([1, 1, 0,  ..., 1, 0, 1], dtype=torch.uint8), tensor([1, 1, 0,  ..., 1, 0, 1], dtype=torch.uint8), tensor([1, 1, 0,  ..., 1, 0, 1], dtype=torch.uint8), tensor([1, 1, 0,  ..., 1, 0, 1], dtype=torch.uint8), tensor([1, 1, 0,  ..., 1, 0, 1], dtype=torch.uint8), tensor([1, 1, 0,  ..., 1, 0, 1], dtype=torch.uint8), tensor([1, 1, 0,  ..., 1, 0, 1], dtype=torch.uint8), tensor([1, 1, 0,  ..., 1, 0, 1], dtype=torch.uint8), tensor([1, 1, 0,  ..., 1, 0, 1], dtype=torch.uint8), tensor([1, 1, 0,  ..., 1, 0, 1], dtype=torch.uint8), tensor([1, 1, 0,  ..., 1, 0, 1], dtype=torch.uint8), tensor([1, 1, 0,  ..., 1, 0, 1], dtype=torch.uint8), tensor([1, 1, 0,  ..., 1, 0, 1], dtype=torch.uint8), tensor([1, 1, 0,  ..., 1, 0, 1], dtype=torch.uint8), tensor([1, 1, 0,  ..., 1, 0, 1], dtype=torch.uint8), tensor([1, 1, 0,  ..., 1, 0, 1], dtype=torch.uint8), tensor([1, 1, 0,  ..., 1, 0, 1], dtype=torch.uint8), tensor([1, 1, 0,  ..., 1, 0, 1], dtype=torch.uint8), tensor([1, 1, 0,  ..., 1, 0, 1], dtype=torch.uint8), tensor([1, 1, 0,  ..., 1, 0, 1], dtype=torch.uint8), tensor([1, 1, 0,  ..., 1, 0, 1], dtype=torch.uint8), tensor([1, 1, 0,  ..., 1, 0, 1], dtype=torch.uint8), tensor([1, 1, 0,  ..., 1, 0, 1], dtype=torch.uint8), tensor([1, 1, 0,  ..., 1, 0, 1], dtype=torch.uint8), tensor([1, 1, 0,  ..., 1, 0, 1], dtype=torch.uint8), tensor([1, 1, 0,  ..., 1, 0, 1], dtype=torch.uint8), tensor([1, 1, 0,  ..., 1, 0, 1], dtype=torch.uint8), tensor([1, 1, 0,  ..., 1, 0, 1], dtype=torch.uint8), tensor([1, 1, 0,  ..., 1, 0, 1], dtype=torch.uint8), tensor([1, 1, 0,  ..., 1, 0, 1], dtype=torch.uint8), tensor([1, 1, 0,  ..., 1, 0, 1], dtype=torch.uint8), tensor([1, 1, 0,  ..., 1, 0, 1], dtype=torch.uint8), tensor([1, 1, 0,  ..., 1, 0, 1], dtype=torch.uint8), tensor([1, 1, 0,  ..., 1, 0, 1], dtype=torch.uint8), tensor([1, 1, 0,  ..., 1, 0, 1], dtype=torch.uint8), tensor([1, 1, 0,  ..., 1, 0, 1], dtype=torch.uint8), tensor([1, 1, 0,  ..., 1, 0, 1], dtype=torch.uint8), tensor([1, 1, 0,  ..., 1, 0, 1], dtype=torch.uint8), tensor([1, 1, 0,  ..., 1, 0, 1], dtype=torch.uint8), tensor([1, 1, 0,  ..., 1, 0, 1], dtype=torch.uint8), tensor([1, 1, 0,  ..., 1, 0, 1], dtype=torch.uint8), tensor([1, 1, 0,  ..., 1, 0, 1], dtype=torch.uint8), tensor([1, 1, 0,  ..., 1, 0, 1], dtype=torch.uint8), tensor([1, 1, 0,  ..., 1, 0, 1], dtype=torch.uint8), tensor([1, 1, 0,  ..., 1, 0, 1], dtype=torch.uint8), tensor([1, 1, 0,  ..., 1, 0, 1], dtype=torch.uint8), tensor([1, 1, 0,  ..., 1, 0, 1], dtype=torch.uint8), tensor([1, 1, 0,  ..., 1, 0, 1], dtype=torch.uint8), tensor([1, 1, 0,  ..., 1, 0, 1], dtype=torch.uint8), tensor([1, 1, 0,  ..., 1, 0, 1], dtype=torch.uint8), tensor([1, 1, 0,  ..., 1, 0, 1], dtype=torch.uint8), tensor([1, 1, 0,  ..., 1, 0, 1], dtype=torch.uint8), tensor([1, 1, 0,  ..., 1, 0, 1], dtype=torch.uint8), tensor([1, 1, 0,  ..., 1, 0, 1], dtype=torch.uint8), tensor([1, 1, 0,  ..., 1, 0, 1], dtype=torch.uint8), tensor([1, 1, 0,  ..., 1, 0, 1], dtype=torch.uint8), tensor([1, 1, 0,  ..., 1, 0, 1], dtype=torch.uint8), tensor([1, 1, 0,  ..., 1, 0, 1], dtype=torch.uint8), tensor([1, 1, 0,  ..., 1, 0, 1], dtype=torch.uint8), tensor([1, 1, 0,  ..., 1, 0, 1], dtype=torch.uint8), tensor([1, 1, 0,  ..., 1, 0, 1], dtype=torch.uint8), tensor([1, 1, 0,  ..., 1, 0, 1], dtype=torch.uint8), tensor([1, 1, 0,  ..., 1, 0, 1], dtype=torch.uint8), tensor([1, 1, 0,  ..., 1, 0, 1], dtype=torch.uint8), tensor([1, 1, 0,  ..., 1, 0, 1], dtype=torch.uint8), tensor([1, 1, 0,  ..., 1, 0, 1], dtype=torch.uint8), tensor([1, 1, 0,  ..., 1, 0, 1], dtype=torch.uint8), tensor([1, 1, 0,  ..., 1, 0, 1], dtype=torch.uint8), tensor([1, 1, 0,  ..., 1, 0, 1], dtype=torch.uint8), tensor([1, 1, 0,  ..., 1, 0, 1], dtype=torch.uint8), tensor([1, 1, 0,  ..., 1, 0, 1], dtype=torch.uint8), tensor([1, 1, 0,  ..., 1, 0, 1], dtype=torch.uint8), tensor([1, 1, 0,  ..., 1, 0, 1], dtype=torch.uint8), tensor([1, 1, 0,  ..., 1, 0, 1], dtype=torch.uint8), tensor([1, 1, 0,  ..., 1, 0, 1], dtype=torch.uint8), tensor([1, 1, 0,  ..., 1, 0, 1], dtype=torch.uint8), tensor([1, 1, 0,  ..., 1, 0, 1], dtype=torch.uint8), tensor([1, 1, 0,  ..., 1, 0, 1], dtype=torch.uint8), tensor([1, 1, 0,  ..., 1, 0, 1], dtype=torch.uint8), tensor([1, 1, 0,  ..., 1, 0, 1], dtype=torch.uint8), tensor([1, 1, 0,  ..., 1, 0, 1], dtype=torch.uint8), tensor([1, 1, 0,  ..., 1, 0, 1], dtype=torch.uint8), tensor([1, 1, 0,  ..., 1, 0, 1], dtype=torch.uint8), tensor([1, 1, 0,  ..., 1, 0, 1], dtype=torch.uint8), tensor([1, 1, 0,  ..., 1, 0, 1], dtype=torch.uint8), tensor([1, 1, 0,  ..., 1, 0, 1], dtype=torch.uint8), tensor([1, 1, 0,  ..., 1, 0, 1], dtype=torch.uint8), tensor([1, 1, 0,  ..., 1, 0, 1], dtype=torch.uint8), tensor([1, 1, 0,  ..., 1, 0, 1], dtype=torch.uint8), tensor([1, 1, 0,  ..., 1, 0, 1], dtype=torch.uint8), tensor([1, 1, 0,  ..., 1, 0, 1], dtype=torch.uint8), tensor([1, 1, 0,  ..., 1, 0, 1], dtype=torch.uint8), tensor([1, 1, 0,  ..., 1, 0, 1], dtype=torch.uint8), tensor([1, 1, 0,  ..., 1, 0, 1], dtype=torch.uint8), tensor([1, 1, 0,  ..., 1, 0, 1], dtype=torch.uint8), tensor([1, 1, 0,  ..., 1, 0, 1], dtype=torch.uint8), tensor([1, 1, 0,  ..., 1, 0, 1], dtype=torch.uint8), tensor([1, 1, 0,  ..., 1, 0, 1], dtype=torch.uint8), tensor([1, 1, 0,  ..., 1, 0, 1], dtype=torch.uint8), tensor([1, 1, 0,  ..., 1, 0, 1], dtype=torch.uint8), tensor([1, 1, 0,  ..., 1, 0, 1], dtype=torch.uint8), tensor([1, 1, 0,  ..., 1, 0, 1], dtype=torch.uint8), tensor([1, 1, 0,  ..., 1, 0, 1], dtype=torch.uint8), tensor([1, 1, 0,  ..., 1, 0, 1], dtype=torch.uint8), tensor([1, 1, 0,  ..., 1, 0, 1], dtype=torch.uint8), tensor([1, 1, 0,  ..., 1, 0, 1], dtype=torch.uint8), tensor([1, 1, 0,  ..., 1, 0, 1], dtype=torch.uint8), tensor([1, 1, 0,  ..., 1, 0, 1], dtype=torch.uint8), tensor([1, 1, 0,  ..., 1, 0, 1], dtype=torch.uint8), tensor([1, 1, 0,  ..., 1, 0, 1], dtype=torch.uint8), tensor([1, 1, 0,  ..., 1, 0, 1], dtype=torch.uint8), tensor([1, 1, 0,  ..., 1, 0, 1], dtype=torch.uint8), tensor([1, 1, 0,  ..., 1, 0, 1], dtype=torch.uint8), tensor([1, 1, 0,  ..., 1, 0, 1], dtype=torch.uint8), tensor([1, 1, 0,  ..., 1, 0, 1], dtype=torch.uint8), tensor([1, 1, 0,  ..., 1, 0, 1], dtype=torch.uint8), tensor([1, 1, 0,  ..., 1, 0, 1], dtype=torch.uint8), tensor([1, 1, 0,  ..., 1, 0, 1], dtype=torch.uint8), tensor([1, 1, 0,  ..., 1, 0, 1], dtype=torch.uint8), tensor([1, 1, 0,  ..., 1, 0, 1], dtype=torch.uint8), tensor([1, 1, 0,  ..., 1, 0, 1], dtype=torch.uint8), tensor([1, 1, 0,  ..., 1, 0, 1], dtype=torch.uint8), tensor([1, 1, 0,  ..., 1, 0, 1], dtype=torch.uint8), tensor([1, 1, 0,  ..., 1, 0, 1], dtype=torch.uint8), tensor([1, 1, 0,  ..., 1, 0, 1], dtype=torch.uint8), tensor([1, 1, 0,  ..., 1, 0, 1], dtype=torch.uint8), tensor([1, 1, 0,  ..., 1, 0, 1], dtype=torch.uint8), tensor([1, 1, 0,  ..., 1, 0, 1], dtype=torch.uint8), tensor([1, 1, 0,  ..., 1, 0, 1], dtype=torch.uint8), tensor([1, 1, 0,  ..., 1, 0, 1], dtype=torch.uint8), tensor([1, 1, 0,  ..., 1, 0, 1], dtype=torch.uint8), tensor([1, 1, 0,  ..., 1, 0, 1], dtype=torch.uint8), tensor([1, 1, 0,  ..., 1, 0, 1], dtype=torch.uint8), tensor([1, 1, 0,  ..., 1, 0, 1], dtype=torch.uint8), tensor([1, 1, 0,  ..., 1, 0, 1], dtype=torch.uint8), tensor([1, 1, 0,  ..., 1, 0, 1], dtype=torch.uint8), tensor([1, 1, 0,  ..., 1, 0, 1], dtype=torch.uint8), tensor([1, 1, 0,  ..., 1, 0, 1], dtype=torch.uint8), tensor([1, 1, 0,  ..., 1, 0, 1], dtype=torch.uint8), tensor([1, 1, 0,  ..., 1, 0, 1], dtype=torch.uint8), tensor([1, 1, 0,  ..., 1, 0, 1], dtype=torch.uint8), tensor([1, 1, 0,  ..., 1, 0, 1], dtype=torch.uint8), tensor([1, 1, 0,  ..., 1, 0, 1], dtype=torch.uint8), tensor([1, 1, 0,  ..., 1, 0, 1], dtype=torch.uint8), tensor([1, 1, 0,  ..., 1, 0, 1], dtype=torch.uint8), tensor([1, 1, 0,  ..., 1, 0, 1], dtype=torch.uint8), tensor([1, 1, 0,  ..., 1, 0, 1], dtype=torch.uint8), tensor([1, 1, 0,  ..., 1, 0, 1], dtype=torch.uint8), tensor([1, 1, 0,  ..., 1, 0, 1], dtype=torch.uint8), tensor([1, 1, 0,  ..., 1, 0, 1], dtype=torch.uint8), tensor([1, 1, 0,  ..., 1, 0, 1], dtype=torch.uint8), tensor([1, 1, 0,  ..., 1, 0, 1], dtype=torch.uint8), tensor([1, 1, 0,  ..., 1, 0, 1], dtype=torch.uint8), tensor([1, 1, 0,  ..., 1, 0, 1], dtype=torch.uint8), tensor([1, 1, 0,  ..., 1, 0, 1], dtype=torch.uint8), tensor([1, 1, 0,  ..., 1, 0, 1], dtype=torch.uint8), tensor([1, 1, 0,  ..., 1, 0, 1], dtype=torch.uint8), tensor([1, 1, 0,  ..., 1, 0, 1], dtype=torch.uint8), tensor([1, 1, 0,  ..., 1, 0, 1], dtype=torch.uint8), tensor([1, 1, 0,  ..., 1, 0, 1], dtype=torch.uint8), tensor([1, 1, 0,  ..., 1, 0, 1], dtype=torch.uint8), tensor([1, 1, 0,  ..., 1, 0, 1], dtype=torch.uint8), tensor([1, 1, 0,  ..., 1, 0, 1], dtype=torch.uint8), tensor([1, 1, 0,  ..., 1, 0, 1], dtype=torch.uint8), tensor([1, 1, 0,  ..., 1, 0, 1], dtype=torch.uint8), tensor([1, 1, 0,  ..., 1, 0, 1], dtype=torch.uint8), tensor([1, 1, 0,  ..., 1, 0, 1], dtype=torch.uint8), tensor([1, 1, 0,  ..., 1, 0, 1], dtype=torch.uint8), tensor([1, 1, 0,  ..., 1, 0, 1], dtype=torch.uint8), tensor([1, 1, 0,  ..., 1, 0, 1], dtype=torch.uint8), tensor([1, 1, 0,  ..., 1, 0, 1], dtype=torch.uint8), tensor([1, 1, 0,  ..., 1, 0, 1], dtype=torch.uint8), tensor([1, 1, 0,  ..., 1, 0, 1], dtype=torch.uint8), tensor([1, 1, 0,  ..., 1, 0, 1], dtype=torch.uint8), tensor([1, 1, 0,  ..., 1, 0, 1], dtype=torch.uint8), tensor([1, 1, 0,  ..., 1, 0, 1], dtype=torch.uint8), tensor([1, 1, 0,  ..., 1, 0, 1], dtype=torch.uint8), tensor([1, 1, 0,  ..., 1, 0, 1], dtype=torch.uint8), tensor([1, 1, 0,  ..., 1, 0, 1], dtype=torch.uint8), tensor([1, 1, 0,  ..., 1, 0, 1], dtype=torch.uint8), tensor([1, 1, 0,  ..., 1, 0, 1], dtype=torch.uint8), tensor([1, 1, 0,  ..., 1, 0, 1], dtype=torch.uint8), tensor([1, 1, 0,  ..., 1, 0, 1], dtype=torch.uint8), tensor([1, 1, 0,  ..., 1, 0, 1], dtype=torch.uint8), tensor([1, 1, 0,  ..., 1, 0, 1], dtype=torch.uint8), tensor([1, 1, 0,  ..., 1, 0, 1], dtype=torch.uint8), tensor([1, 1, 0,  ..., 1, 0, 1], dtype=torch.uint8), tensor([1, 1, 0,  ..., 1, 0, 1], dtype=torch.uint8), tensor([1, 1, 0,  ..., 1, 0, 1], dtype=torch.uint8), tensor([1, 1, 0,  ..., 1, 0, 1], dtype=torch.uint8), tensor([1, 1, 0,  ..., 1, 0, 1], dtype=torch.uint8), tensor([1, 1, 0,  ..., 1, 0, 1], dtype=torch.uint8), tensor([1, 1, 0,  ..., 1, 0, 1], dtype=torch.uint8), tensor([1, 1, 0,  ..., 1, 0, 1], dtype=torch.uint8), tensor([1, 1, 0,  ..., 1, 0, 1], dtype=torch.uint8), tensor([1, 1, 0,  ..., 1, 0, 1], dtype=torch.uint8), tensor([1, 1, 0,  ..., 1, 0, 1], dtype=torch.uint8), tensor([1, 1, 0,  ..., 1, 0, 1], dtype=torch.uint8), tensor([1, 1, 0,  ..., 1, 0, 1], dtype=torch.uint8), tensor([1, 1, 0,  ..., 1, 0, 1], dtype=torch.uint8), tensor([1, 1, 0,  ..., 1, 0, 1], dtype=torch.uint8), tensor([1, 1, 0,  ..., 1, 0, 1], dtype=torch.uint8), tensor([1, 1, 0,  ..., 1, 0, 1], dtype=torch.uint8), tensor([1, 1, 0,  ..., 1, 0, 1], dtype=torch.uint8), tensor([1, 1, 0,  ..., 1, 0, 1], dtype=torch.uint8), tensor([1, 1, 0,  ..., 1, 0, 1], dtype=torch.uint8), tensor([1, 1, 0,  ..., 1, 0, 1], dtype=torch.uint8), tensor([1, 1, 0,  ..., 1, 0, 1], dtype=torch.uint8), tensor([1, 1, 0,  ..., 1, 0, 1], dtype=torch.uint8), tensor([1, 1, 0,  ..., 1, 0, 1], dtype=torch.uint8), tensor([1, 1, 0,  ..., 1, 0, 1], dtype=torch.uint8), tensor([1, 1, 0,  ..., 1, 0, 1], dtype=torch.uint8), tensor([1, 1, 0,  ..., 1, 0, 1], dtype=torch.uint8), tensor([1, 1, 0,  ..., 1, 0, 1], dtype=torch.uint8), tensor([1, 1, 0,  ..., 1, 0, 1], dtype=torch.uint8), tensor([1, 1, 0,  ..., 1, 0, 1], dtype=torch.uint8), tensor([1, 1, 0,  ..., 1, 0, 1], dtype=torch.uint8), tensor([1, 1, 0,  ..., 1, 0, 1], dtype=torch.uint8), tensor([1, 1, 0,  ..., 1, 0, 1], dtype=torch.uint8), tensor([1, 1, 0,  ..., 1, 0, 1], dtype=torch.uint8), tensor([1, 1, 0,  ..., 1, 0, 1], dtype=torch.uint8), tensor([1, 1, 0,  ..., 1, 0, 1], dtype=torch.uint8), tensor([1, 1, 0,  ..., 1, 0, 1], dtype=torch.uint8), tensor([1, 1, 0,  ..., 1, 0, 1], dtype=torch.uint8), tensor([1, 1, 0,  ..., 1, 0, 1], dtype=torch.uint8), tensor([1, 1, 0,  ..., 1, 0, 1], dtype=torch.uint8), tensor([1, 1, 0,  ..., 1, 0, 1], dtype=torch.uint8), tensor([1, 1, 0,  ..., 1, 0, 1], dtype=torch.uint8), tensor([1, 1, 0,  ..., 1, 0, 1], dtype=torch.uint8), tensor([1, 1, 0,  ..., 1, 0, 1], dtype=torch.uint8), tensor([1, 1, 0,  ..., 1, 0, 1], dtype=torch.uint8), tensor([1, 1, 0,  ..., 1, 0, 1], dtype=torch.uint8), tensor([1, 1, 0,  ..., 1, 0, 1], dtype=torch.uint8), tensor([1, 1, 0,  ..., 1, 0, 1], dtype=torch.uint8), tensor([1, 1, 0,  ..., 1, 0, 1], dtype=torch.uint8), tensor([1, 1, 0,  ..., 1, 0, 1], dtype=torch.uint8), tensor([1, 1, 0,  ..., 1, 0, 1], dtype=torch.uint8), tensor([1, 1, 0,  ..., 1, 0, 1], dtype=torch.uint8), tensor([1, 1, 0,  ..., 1, 0, 1], dtype=torch.uint8), tensor([1, 1, 0,  ..., 1, 0, 1], dtype=torch.uint8), tensor([1, 1, 0,  ..., 1, 0, 1], dtype=torch.uint8), tensor([1, 1, 0,  ..., 1, 0, 1], dtype=torch.uint8), tensor([1, 1, 0,  ..., 1, 0, 1], dtype=torch.uint8), tensor([1, 1, 0,  ..., 1, 0, 1], dtype=torch.uint8), tensor([1, 1, 0,  ..., 1, 0, 1], dtype=torch.uint8), tensor([1, 1, 0,  ..., 1, 0, 1], dtype=torch.uint8), tensor([1, 1, 0,  ..., 1, 0, 1], dtype=torch.uint8), tensor([1, 1, 0,  ..., 1, 0, 1], dtype=torch.uint8), tensor([1, 1, 0,  ..., 1, 0, 1], dtype=torch.uint8), tensor([1, 1, 0,  ..., 1, 0, 1], dtype=torch.uint8), tensor([1, 1, 0,  ..., 1, 0, 1], dtype=torch.uint8), tensor([1, 1, 0,  ..., 1, 0, 1], dtype=torch.uint8), tensor([1, 1, 0,  ..., 1, 0, 1], dtype=torch.uint8), tensor([1, 1, 0,  ..., 1, 0, 1], dtype=torch.uint8), tensor([1, 1, 0,  ..., 1, 0, 1], dtype=torch.uint8), tensor([1, 1, 0,  ..., 1, 0, 1], dtype=torch.uint8), tensor([1, 1, 0,  ..., 1, 0, 1], dtype=torch.uint8), tensor([1, 1, 0,  ..., 1, 0, 1], dtype=torch.uint8), tensor([1, 1, 0,  ..., 1, 0, 1], dtype=torch.uint8), tensor([1, 1, 0,  ..., 1, 0, 1], dtype=torch.uint8), tensor([1, 1, 0,  ..., 1, 0, 1], dtype=torch.uint8), tensor([1, 1, 0,  ..., 1, 0, 1], dtype=torch.uint8), tensor([1, 1, 0,  ..., 1, 0, 1], dtype=torch.uint8), tensor([1, 1, 0,  ..., 1, 0, 1], dtype=torch.uint8), tensor([1, 1, 0,  ..., 1, 0, 1], dtype=torch.uint8), tensor([1, 1, 0,  ..., 1, 0, 1], dtype=torch.uint8), tensor([1, 1, 0,  ..., 1, 0, 1], dtype=torch.uint8), tensor([1, 1, 0,  ..., 1, 0, 1], dtype=torch.uint8), tensor([1, 1, 0,  ..., 1, 0, 1], dtype=torch.uint8), tensor([1, 1, 0,  ..., 1, 0, 1], dtype=torch.uint8), tensor([1, 1, 0,  ..., 1, 0, 1], dtype=torch.uint8), tensor([1, 1, 0,  ..., 1, 0, 1], dtype=torch.uint8), tensor([1, 1, 0,  ..., 1, 0, 1], dtype=torch.uint8), tensor([1, 1, 0,  ..., 1, 0, 1], dtype=torch.uint8), tensor([1, 1, 0,  ..., 1, 0, 1], dtype=torch.uint8), tensor([1, 1, 0,  ..., 1, 0, 1], dtype=torch.uint8), tensor([1, 1, 0,  ..., 1, 0, 1], dtype=torch.uint8), tensor([1, 1, 0,  ..., 1, 0, 1], dtype=torch.uint8), tensor([1, 1, 0,  ..., 1, 0, 1], dtype=torch.uint8), tensor([1, 1, 0,  ..., 1, 0, 1], dtype=torch.uint8), tensor([1, 1, 0,  ..., 1, 0, 1], dtype=torch.uint8), tensor([1, 1, 0,  ..., 1, 0, 1], dtype=torch.uint8), tensor([1, 1, 0,  ..., 1, 0, 1], dtype=torch.uint8), tensor([1, 1, 0,  ..., 1, 0, 1], dtype=torch.uint8), tensor([1, 1, 0,  ..., 1, 0, 1], dtype=torch.uint8), tensor([1, 1, 0,  ..., 1, 0, 1], dtype=torch.uint8), tensor([1, 1, 0,  ..., 1, 0, 1], dtype=torch.uint8), tensor([1, 1, 0,  ..., 1, 0, 1], dtype=torch.uint8), tensor([1, 1, 0,  ..., 1, 0, 1], dtype=torch.uint8), tensor([1, 1, 0,  ..., 1, 0, 1], dtype=torch.uint8), tensor([1, 1, 0,  ..., 1, 0, 1], dtype=torch.uint8), tensor([1, 1, 0,  ..., 1, 0, 1], dtype=torch.uint8), tensor([1, 1, 0,  ..., 1, 0, 1], dtype=torch.uint8), tensor([1, 1, 0,  ..., 1, 0, 1], dtype=torch.uint8), tensor([1, 1, 0,  ..., 1, 0, 1], dtype=torch.uint8), tensor([1, 1, 0,  ..., 1, 0, 1], dtype=torch.uint8), tensor([1, 1, 0,  ..., 1, 0, 1], dtype=torch.uint8), tensor([1, 1, 0,  ..., 1, 0, 1], dtype=torch.uint8), tensor([1, 1, 0,  ..., 1, 0, 1], dtype=torch.uint8), tensor([1, 1, 0,  ..., 1, 0, 1], dtype=torch.uint8), tensor([1, 1, 0,  ..., 1, 0, 1], dtype=torch.uint8), tensor([1, 1, 0,  ..., 1, 0, 1], dtype=torch.uint8), tensor([1, 1, 0,  ..., 1, 0, 1], dtype=torch.uint8), tensor([1, 1, 0,  ..., 1, 0, 1], dtype=torch.uint8), tensor([1, 1, 0,  ..., 1, 0, 1], dtype=torch.uint8), tensor([1, 1, 0,  ..., 1, 0, 1], dtype=torch.uint8), tensor([1, 1, 0,  ..., 1, 0, 1], dtype=torch.uint8), tensor([1, 1, 0,  ..., 1, 0, 1], dtype=torch.uint8), tensor([1, 1, 0,  ..., 1, 0, 1], dtype=torch.uint8), tensor([1, 1, 0,  ..., 1, 0, 1], dtype=torch.uint8), tensor([1, 1, 0,  ..., 1, 0, 1], dtype=torch.uint8), tensor([1, 1, 0,  ..., 1, 0, 1], dtype=torch.uint8), tensor([1, 1, 0,  ..., 1, 0, 1], dtype=torch.uint8), tensor([1, 1, 0,  ..., 1, 0, 1], dtype=torch.uint8), tensor([1, 1, 0,  ..., 1, 0, 1], dtype=torch.uint8), tensor([1, 1, 0,  ..., 1, 0, 1], dtype=torch.uint8), tensor([1, 1, 0,  ..., 1, 0, 1], dtype=torch.uint8), tensor([1, 1, 0,  ..., 1, 0, 1], dtype=torch.uint8), tensor([1, 1, 0,  ..., 1, 0, 1], dtype=torch.uint8), tensor([1, 1, 0,  ..., 1, 0, 1], dtype=torch.uint8), tensor([1, 1, 0,  ..., 1, 0, 1], dtype=torch.uint8), tensor([1, 1, 0,  ..., 1, 0, 1], dtype=torch.uint8), tensor([1, 1, 0,  ..., 1, 0, 1], dtype=torch.uint8), tensor([1, 1, 0,  ..., 1, 0, 1], dtype=torch.uint8), tensor([1, 1, 0,  ..., 1, 0, 1], dtype=torch.uint8), tensor([1, 1, 0,  ..., 1, 0, 1], dtype=torch.uint8), tensor([1, 1, 0,  ..., 1, 0, 1], dtype=torch.uint8), tensor([1, 1, 0,  ..., 1, 0, 1], dtype=torch.uint8), tensor([1, 1, 0,  ..., 1, 0, 1], dtype=torch.uint8), tensor([1, 1, 0,  ..., 1, 0, 1], dtype=torch.uint8), tensor([1, 1, 0,  ..., 1, 0, 1], dtype=torch.uint8), tensor([1, 1, 0,  ..., 1, 0, 1], dtype=torch.uint8), tensor([1, 1, 0,  ..., 1, 0, 1], dtype=torch.uint8), tensor([1, 1, 0,  ..., 1, 0, 1], dtype=torch.uint8), tensor([1, 1, 0,  ..., 1, 0, 1], dtype=torch.uint8), tensor([1, 1, 0,  ..., 1, 0, 1], dtype=torch.uint8), tensor([1, 1, 0,  ..., 1, 0, 1], dtype=torch.uint8), tensor([1, 1, 0,  ..., 1, 0, 1], dtype=torch.uint8), tensor([1, 1, 0,  ..., 1, 0, 1], dtype=torch.uint8), tensor([1, 1, 0,  ..., 1, 0, 1], dtype=torch.uint8), tensor([1, 1, 0,  ..., 1, 0, 1], dtype=torch.uint8), tensor([1, 1, 0,  ..., 1, 0, 1], dtype=torch.uint8), tensor([1, 1, 0,  ..., 1, 0, 1], dtype=torch.uint8), tensor([1, 1, 0,  ..., 1, 0, 1], dtype=torch.uint8), tensor([1, 1, 0,  ..., 1, 0, 1], dtype=torch.uint8), tensor([1, 1, 0,  ..., 1, 0, 1], dtype=torch.uint8), tensor([1, 1, 0,  ..., 1, 0, 1], dtype=torch.uint8), tensor([1, 1, 0,  ..., 1, 0, 1], dtype=torch.uint8), tensor([1, 1, 0,  ..., 1, 0, 1], dtype=torch.uint8), tensor([1, 1, 0,  ..., 1, 0, 1], dtype=torch.uint8), tensor([1, 1, 0,  ..., 1, 0, 1], dtype=torch.uint8), tensor([1, 1, 0,  ..., 1, 0, 1], dtype=torch.uint8), tensor([1, 1, 0,  ..., 1, 0, 1], dtype=torch.uint8), tensor([1, 1, 0,  ..., 1, 0, 1], dtype=torch.uint8), tensor([1, 1, 0,  ..., 1, 0, 1], dtype=torch.uint8), tensor([1, 1, 0,  ..., 1, 0, 1], dtype=torch.uint8), tensor([1, 1, 0,  ..., 1, 0, 1], dtype=torch.uint8), tensor([1, 1, 0,  ..., 1, 0, 1], dtype=torch.uint8), tensor([1, 1, 0,  ..., 1, 0, 1], dtype=torch.uint8), tensor([1, 1, 0,  ..., 1, 0, 1], dtype=torch.uint8), tensor([1, 1, 0,  ..., 1, 0, 1], dtype=torch.uint8), tensor([1, 1, 0,  ..., 1, 0, 1], dtype=torch.uint8), tensor([1, 1, 0,  ..., 1, 0, 1], dtype=torch.uint8), tensor([1, 1, 0,  ..., 1, 0, 1], dtype=torch.uint8), tensor([1, 1, 0,  ..., 1, 0, 1], dtype=torch.uint8), tensor([1, 1, 0,  ..., 1, 0, 1], dtype=torch.uint8), tensor([1, 1, 0,  ..., 1, 0, 1], dtype=torch.uint8), tensor([1, 1, 0,  ..., 1, 0, 1], dtype=torch.uint8), tensor([1, 1, 0,  ..., 1, 0, 1], dtype=torch.uint8), tensor([1, 1, 0,  ..., 1, 0, 1], dtype=torch.uint8), tensor([1, 1, 0,  ..., 1, 0, 1], dtype=torch.uint8), tensor([1, 1, 0,  ..., 1, 0, 1], dtype=torch.uint8), tensor([1, 1, 0,  ..., 1, 0, 1], dtype=torch.uint8), tensor([1, 1, 0,  ..., 1, 0, 1], dtype=torch.uint8), tensor([1, 1, 0,  ..., 1, 0, 1], dtype=torch.uint8), tensor([1, 1, 0,  ..., 1, 0, 1], dtype=torch.uint8), tensor([1, 1, 0,  ..., 1, 0, 1], dtype=torch.uint8), tensor([1, 1, 0,  ..., 1, 0, 1], dtype=torch.uint8), tensor([1, 1, 0,  ..., 1, 0, 1], dtype=torch.uint8), tensor([1, 1, 0,  ..., 1, 0, 1], dtype=torch.uint8), tensor([1, 1, 0,  ..., 1, 0, 1], dtype=torch.uint8), tensor([1, 1, 0,  ..., 1, 0, 1], dtype=torch.uint8), tensor([1, 1, 0,  ..., 1, 0, 1], dtype=torch.uint8), tensor([1, 1, 0,  ..., 1, 0, 1], dtype=torch.uint8), tensor([1, 1, 0,  ..., 1, 0, 1], dtype=torch.uint8), tensor([1, 1, 0,  ..., 1, 0, 1], dtype=torch.uint8), tensor([1, 1, 0,  ..., 1, 0, 1], dtype=torch.uint8), tensor([1, 1, 0,  ..., 1, 0, 1], dtype=torch.uint8), tensor([1, 1, 0,  ..., 1, 0, 1], dtype=torch.uint8), tensor([1, 1, 0,  ..., 1, 0, 1], dtype=torch.uint8), tensor([1, 1, 0,  ..., 1, 0, 1], dtype=torch.uint8), tensor([1, 1, 0,  ..., 1, 0, 1], dtype=torch.uint8), tensor([1, 1, 0,  ..., 1, 0, 1], dtype=torch.uint8), tensor([1, 1, 0,  ..., 1, 0, 1], dtype=torch.uint8), tensor([1, 1, 0,  ..., 1, 0, 1], dtype=torch.uint8), tensor([1, 1, 0,  ..., 1, 0, 1], dtype=torch.uint8), tensor([1, 1, 0,  ..., 1, 0, 1], dtype=torch.uint8), tensor([1, 1, 0,  ..., 1, 0, 1], dtype=torch.uint8), tensor([1, 1, 0,  ..., 1, 0, 1], dtype=torch.uint8), tensor([1, 1, 0,  ..., 1, 0, 1], dtype=torch.uint8), tensor([1, 1, 0,  ..., 1, 0, 1], dtype=torch.uint8), tensor([1, 1, 0,  ..., 1, 0, 1], dtype=torch.uint8), tensor([1, 1, 0,  ..., 1, 0, 1], dtype=torch.uint8), tensor([1, 1, 0,  ..., 1, 0, 1], dtype=torch.uint8), tensor([1, 1, 0,  ..., 1, 0, 1], dtype=torch.uint8), tensor([1, 1, 0,  ..., 1, 0, 1], dtype=torch.uint8), tensor([1, 1, 0,  ..., 1, 0, 1], dtype=torch.uint8), tensor([1, 1, 0,  ..., 1, 0, 1], dtype=torch.uint8), tensor([1, 1, 0,  ..., 1, 0, 1], dtype=torch.uint8), tensor([1, 1, 0,  ..., 1, 0, 1], dtype=torch.uint8), tensor([1, 1, 0,  ..., 1, 0, 1], dtype=torch.uint8), tensor([1, 1, 0,  ..., 1, 0, 1], dtype=torch.uint8), tensor([1, 1, 0,  ..., 1, 0, 1], dtype=torch.uint8), tensor([1, 1, 0,  ..., 1, 0, 1], dtype=torch.uint8), tensor([1, 1, 0,  ..., 1, 0, 1], dtype=torch.uint8), tensor([1, 1, 0,  ..., 1, 0, 1], dtype=torch.uint8), tensor([1, 1, 0,  ..., 1, 0, 1], dtype=torch.uint8), tensor([1, 1, 0,  ..., 1, 0, 1], dtype=torch.uint8), tensor([1, 1, 0,  ..., 1, 0, 1], dtype=torch.uint8), tensor([1, 1, 0,  ..., 1, 0, 1], dtype=torch.uint8), tensor([1, 1, 0,  ..., 1, 0, 1], dtype=torch.uint8), tensor([1, 1, 0,  ..., 1, 0, 1], dtype=torch.uint8), tensor([1, 1, 0,  ..., 1, 0, 1], dtype=torch.uint8), tensor([1, 1, 0,  ..., 1, 0, 1], dtype=torch.uint8), tensor([1, 1, 0,  ..., 1, 0, 1], dtype=torch.uint8), tensor([1, 1, 0,  ..., 1, 0, 1], dtype=torch.uint8), tensor([1, 1, 0,  ..., 1, 0, 1], dtype=torch.uint8), tensor([1, 1, 0,  ..., 1, 0, 1], dtype=torch.uint8), tensor([1, 1, 0,  ..., 1, 0, 1], dtype=torch.uint8), tensor([1, 1, 0,  ..., 1, 0, 1], dtype=torch.uint8), tensor([1, 1, 0,  ..., 1, 0, 1], dtype=torch.uint8), tensor([1, 1, 0,  ..., 1, 0, 1], dtype=torch.uint8), tensor([1, 1, 0,  ..., 1, 0, 1], dtype=torch.uint8), tensor([1, 1, 0,  ..., 1, 0, 1], dtype=torch.uint8), tensor([1, 1, 0,  ..., 1, 0, 1], dtype=torch.uint8), tensor([1, 1, 0,  ..., 1, 0, 1], dtype=torch.uint8), tensor([1, 1, 0,  ..., 1, 0, 1], dtype=torch.uint8), tensor([1, 1, 0,  ..., 1, 0, 1], dtype=torch.uint8), tensor([1, 1, 0,  ..., 1, 0, 1], dtype=torch.uint8), tensor([1, 1, 0,  ..., 1, 0, 1], dtype=torch.uint8), tensor([1, 1, 0,  ..., 1, 0, 1], dtype=torch.uint8), tensor([1, 1, 0,  ..., 1, 0, 1], dtype=torch.uint8), tensor([1, 1, 0,  ..., 1, 0, 1], dtype=torch.uint8), tensor([1, 1, 0,  ..., 1, 0, 1], dtype=torch.uint8), tensor([1, 1, 0,  ..., 1, 0, 1], dtype=torch.uint8), tensor([1, 1, 0,  ..., 1, 0, 1], dtype=torch.uint8), tensor([1, 1, 0,  ..., 1, 0, 1], dtype=torch.uint8), tensor([1, 1, 0,  ..., 1, 0, 1], dtype=torch.uint8), tensor([1, 1, 0,  ..., 1, 0, 1], dtype=torch.uint8), tensor([1, 1, 0,  ..., 1, 0, 1], dtype=torch.uint8), tensor([1, 1, 0,  ..., 1, 0, 1], dtype=torch.uint8), tensor([1, 1, 0,  ..., 1, 0, 1], dtype=torch.uint8), tensor([1, 1, 0,  ..., 1, 0, 1], dtype=torch.uint8), tensor([1, 1, 0,  ..., 1, 0, 1], dtype=torch.uint8), tensor([1, 1, 0,  ..., 1, 0, 1], dtype=torch.uint8), tensor([1, 1, 0,  ..., 1, 0, 1], dtype=torch.uint8), tensor([1, 1, 0,  ..., 1, 0, 1], dtype=torch.uint8), tensor([1, 1, 0,  ..., 1, 0, 1], dtype=torch.uint8), tensor([1, 1, 0,  ..., 1, 0, 1], dtype=torch.uint8), tensor([1, 1, 0,  ..., 1, 0, 1], dtype=torch.uint8), tensor([1, 1, 0,  ..., 1, 0, 1], dtype=torch.uint8), tensor([1, 1, 0,  ..., 1, 0, 1], dtype=torch.uint8), tensor([1, 1, 0,  ..., 1, 0, 1], dtype=torch.uint8), tensor([1, 1, 0,  ..., 1, 0, 1], dtype=torch.uint8), tensor([1, 1, 0,  ..., 1, 0, 1], dtype=torch.uint8), tensor([1, 1, 0,  ..., 1, 0, 1], dtype=torch.uint8), tensor([1, 1, 0,  ..., 1, 0, 1], dtype=torch.uint8), tensor([1, 1, 0,  ..., 1, 0, 1], dtype=torch.uint8), tensor([1, 1, 0,  ..., 1, 0, 1], dtype=torch.uint8), tensor([1, 1, 0,  ..., 1, 0, 1], dtype=torch.uint8), tensor([1, 1, 0,  ..., 1, 0, 1], dtype=torch.uint8), tensor([1, 1, 0,  ..., 1, 0, 1], dtype=torch.uint8), tensor([1, 1, 0,  ..., 1, 0, 1], dtype=torch.uint8), tensor([1, 1, 0,  ..., 1, 0, 1], dtype=torch.uint8), tensor([1, 1, 0,  ..., 1, 0, 1], dtype=torch.uint8), tensor([1, 1, 0,  ..., 1, 0, 1], dtype=torch.uint8), tensor([1, 1, 0,  ..., 1, 0, 1], dtype=torch.uint8), tensor([1, 1, 0,  ..., 1, 0, 1], dtype=torch.uint8), tensor([1, 1, 0,  ..., 1, 0, 1], dtype=torch.uint8), tensor([1, 1, 0,  ..., 1, 0, 1], dtype=torch.uint8), tensor([1, 1, 0,  ..., 1, 0, 1], dtype=torch.uint8), tensor([1, 1, 0,  ..., 1, 0, 1], dtype=torch.uint8), tensor([1, 1, 0,  ..., 1, 0, 1], dtype=torch.uint8), tensor([1, 1, 0,  ..., 1, 0, 1], dtype=torch.uint8), tensor([1, 1, 0,  ..., 1, 0, 1], dtype=torch.uint8), tensor([1, 1, 0,  ..., 1, 0, 1], dtype=torch.uint8), tensor([1, 1, 0,  ..., 1, 0, 1], dtype=torch.uint8), tensor([1, 1, 0,  ..., 1, 0, 1], dtype=torch.uint8), tensor([1, 1, 0,  ..., 1, 0, 1], dtype=torch.uint8), tensor([1, 1, 0,  ..., 1, 0, 1], dtype=torch.uint8), tensor([1, 1, 0,  ..., 1, 0, 1], dtype=torch.uint8), tensor([1, 1, 0,  ..., 1, 0, 1], dtype=torch.uint8), tensor([1, 1, 0,  ..., 1, 0, 1], dtype=torch.uint8), tensor([1, 1, 0,  ..., 1, 0, 1], dtype=torch.uint8), tensor([1, 1, 0,  ..., 1, 0, 1], dtype=torch.uint8), tensor([1, 1, 0,  ..., 1, 0, 1], dtype=torch.uint8), tensor([1, 1, 0,  ..., 1, 0, 1], dtype=torch.uint8), tensor([1, 1, 0,  ..., 1, 0, 1], dtype=torch.uint8), tensor([1, 1, 0,  ..., 1, 0, 1], dtype=torch.uint8), tensor([1, 1, 0,  ..., 1, 0, 1], dtype=torch.uint8), tensor([1, 1, 0,  ..., 1, 0, 1], dtype=torch.uint8), tensor([1, 1, 0,  ..., 1, 0, 1], dtype=torch.uint8), tensor([1, 1, 0,  ..., 1, 0, 1], dtype=torch.uint8), tensor([1, 1, 0,  ..., 1, 0, 1], dtype=torch.uint8), tensor([1, 1, 0,  ..., 1, 0, 1], dtype=torch.uint8), tensor([1, 1, 0,  ..., 1, 0, 1], dtype=torch.uint8), tensor([1, 1, 0,  ..., 1, 0, 1], dtype=torch.uint8), tensor([1, 1, 0,  ..., 1, 0, 1], dtype=torch.uint8), tensor([1, 1, 0,  ..., 1, 0, 1], dtype=torch.uint8), tensor([1, 1, 0,  ..., 1, 0, 1], dtype=torch.uint8), tensor([1, 1, 0,  ..., 1, 0, 1], dtype=torch.uint8), tensor([1, 1, 0,  ..., 1, 0, 1], dtype=torch.uint8), tensor([1, 1, 0,  ..., 1, 0, 1], dtype=torch.uint8), tensor([1, 1, 0,  ..., 1, 0, 1], dtype=torch.uint8), tensor([1, 1, 0,  ..., 1, 0, 1], dtype=torch.uint8), tensor([1, 1, 0,  ..., 1, 0, 1], dtype=torch.uint8), tensor([1, 1, 0,  ..., 1, 0, 1], dtype=torch.uint8), tensor([1, 1, 0,  ..., 1, 0, 1], dtype=torch.uint8), tensor([1, 1, 0,  ..., 1, 0, 1], dtype=torch.uint8), tensor([1, 1, 0,  ..., 1, 0, 1], dtype=torch.uint8), tensor([1, 1, 0,  ..., 1, 0, 1], dtype=torch.uint8), tensor([1, 1, 0,  ..., 1, 0, 1], dtype=torch.uint8), tensor([1, 1, 0,  ..., 1, 0, 1], dtype=torch.uint8), tensor([1, 1, 0,  ..., 1, 0, 1], dtype=torch.uint8), tensor([1, 1, 0,  ..., 1, 0, 1], dtype=torch.uint8), tensor([1, 1, 0,  ..., 1, 0, 1], dtype=torch.uint8), tensor([1, 1, 0,  ..., 1, 0, 1], dtype=torch.uint8), tensor([1, 1, 0,  ..., 1, 0, 1], dtype=torch.uint8), tensor([1, 1, 0,  ..., 1, 0, 1], dtype=torch.uint8), tensor([1, 1, 0,  ..., 1, 0, 1], dtype=torch.uint8), tensor([1, 1, 0,  ..., 1, 0, 1], dtype=torch.uint8), tensor([1, 1, 0,  ..., 1, 0, 1], dtype=torch.uint8), tensor([1, 1, 0,  ..., 1, 0, 1], dtype=torch.uint8), tensor([1, 1, 0,  ..., 1, 0, 1], dtype=torch.uint8), tensor([1, 1, 0,  ..., 1, 0, 1], dtype=torch.uint8), tensor([1, 1, 0,  ..., 1, 0, 1], dtype=torch.uint8), tensor([1, 1, 0,  ..., 1, 0, 1], dtype=torch.uint8), tensor([1, 1, 0,  ..., 1, 0, 1], dtype=torch.uint8), tensor([1, 1, 0,  ..., 1, 0, 1], dtype=torch.uint8), tensor([1, 1, 0,  ..., 1, 0, 1], dtype=torch.uint8), tensor([1, 1, 0,  ..., 1, 0, 1], dtype=torch.uint8), tensor([1, 1, 0,  ..., 1, 0, 1], dtype=torch.uint8), tensor([1, 1, 0,  ..., 1, 0, 1], dtype=torch.uint8), tensor([1, 1, 0,  ..., 1, 0, 1], dtype=torch.uint8), tensor([1, 1, 0,  ..., 1, 0, 1], dtype=torch.uint8), tensor([1, 1, 0,  ..., 1, 0, 1], dtype=torch.uint8), tensor([1, 1, 0,  ..., 1, 0, 1], dtype=torch.uint8), tensor([1, 1, 0,  ..., 1, 0, 1], dtype=torch.uint8), tensor([1, 1, 0,  ..., 1, 0, 1], dtype=torch.uint8), tensor([1, 1, 0,  ..., 1, 0, 1], dtype=torch.uint8), tensor([1, 1, 0,  ..., 1, 0, 1], dtype=torch.uint8), tensor([1, 1, 0,  ..., 1, 0, 1], dtype=torch.uint8), tensor([1, 1, 0,  ..., 1, 0, 1], dtype=torch.uint8), tensor([1, 1, 0,  ..., 1, 0, 1], dtype=torch.uint8), tensor([1, 1, 0,  ..., 1, 0, 1], dtype=torch.uint8), tensor([1, 1, 0,  ..., 1, 0, 1], dtype=torch.uint8), tensor([1, 1, 0,  ..., 1, 0, 1], dtype=torch.uint8), tensor([1, 1, 0,  ..., 1, 0, 1], dtype=torch.uint8), tensor([1, 1, 0,  ..., 1, 0, 1], dtype=torch.uint8), tensor([1, 1, 0,  ..., 1, 0, 1], dtype=torch.uint8), tensor([1, 1, 0,  ..., 1, 0, 1], dtype=torch.uint8), tensor([1, 1, 0,  ..., 1, 0, 1], dtype=torch.uint8), tensor([1, 1, 0,  ..., 1, 0, 1], dtype=torch.uint8), tensor([1, 1, 0,  ..., 1, 0, 1], dtype=torch.uint8), tensor([1, 1, 0,  ..., 1, 0, 1], dtype=torch.uint8), tensor([1, 1, 0,  ..., 1, 0, 1], dtype=torch.uint8), tensor([1, 1, 0,  ..., 1, 0, 1], dtype=torch.uint8), tensor([1, 1, 0,  ..., 1, 0, 1], dtype=torch.uint8), tensor([1, 1, 0,  ..., 1, 0, 1], dtype=torch.uint8), tensor([1, 1, 0,  ..., 1, 0, 1], dtype=torch.uint8), tensor([1, 1, 0,  ..., 1, 0, 1], dtype=torch.uint8), tensor([1, 1, 0,  ..., 1, 0, 1], dtype=torch.uint8), tensor([1, 1, 0,  ..., 1, 0, 1], dtype=torch.uint8), tensor([1, 1, 0,  ..., 1, 0, 1], dtype=torch.uint8), tensor([1, 1, 0,  ..., 1, 0, 1], dtype=torch.uint8), tensor([1, 1, 0,  ..., 1, 0, 1], dtype=torch.uint8), tensor([1, 1, 0,  ..., 1, 0, 1], dtype=torch.uint8), tensor([1, 1, 0,  ..., 1, 0, 1], dtype=torch.uint8), tensor([1, 1, 0,  ..., 1, 0, 1], dtype=torch.uint8), tensor([1, 1, 0,  ..., 1, 0, 1], dtype=torch.uint8), tensor([1, 1, 0,  ..., 1, 0, 1], dtype=torch.uint8), tensor([1, 1, 0,  ..., 1, 0, 1], dtype=torch.uint8), tensor([1, 1, 0,  ..., 1, 0, 1], dtype=torch.uint8), tensor([1, 1, 0,  ..., 1, 0, 1], dtype=torch.uint8), tensor([1, 1, 0,  ..., 1, 0, 1], dtype=torch.uint8), tensor([1, 1, 0,  ..., 1, 0, 1], dtype=torch.uint8), tensor([1, 1, 0,  ..., 1, 0, 1], dtype=torch.uint8), tensor([1, 1, 0,  ..., 1, 0, 1], dtype=torch.uint8), tensor([1, 1, 0,  ..., 1, 0, 1], dtype=torch.uint8), tensor([1, 1, 0,  ..., 1, 0, 1], dtype=torch.uint8), tensor([1, 1, 0,  ..., 1, 0, 1], dtype=torch.uint8), tensor([1, 1, 0,  ..., 1, 0, 1], dtype=torch.uint8), tensor([1, 1, 0,  ..., 1, 0, 1], dtype=torch.uint8), tensor([1, 1, 0,  ..., 1, 0, 1], dtype=torch.uint8), tensor([1, 1, 0,  ..., 1, 0, 1], dtype=torch.uint8), tensor([1, 1, 0,  ..., 1, 0, 1], dtype=torch.uint8), tensor([1, 1, 0,  ..., 1, 0, 1], dtype=torch.uint8), tensor([1, 1, 0,  ..., 1, 0, 1], dtype=torch.uint8), tensor([1, 1, 0,  ..., 1, 0, 1], dtype=torch.uint8), tensor([1, 1, 0,  ..., 1, 0, 1], dtype=torch.uint8), tensor([1, 1, 0,  ..., 1, 0, 1], dtype=torch.uint8), tensor([1, 1, 0,  ..., 1, 0, 1], dtype=torch.uint8), tensor([1, 1, 0,  ..., 1, 0, 1], dtype=torch.uint8), tensor([1, 1, 0,  ..., 1, 0, 1], dtype=torch.uint8), tensor([1, 1, 0,  ..., 1, 0, 1], dtype=torch.uint8), tensor([1, 1, 0,  ..., 1, 0, 1], dtype=torch.uint8), tensor([1, 1, 0,  ..., 1, 0, 1], dtype=torch.uint8), tensor([1, 1, 0,  ..., 1, 0, 1], dtype=torch.uint8), tensor([1, 1, 0,  ..., 1, 0, 1], dtype=torch.uint8), tensor([1, 1, 0,  ..., 1, 0, 1], dtype=torch.uint8), tensor([1, 1, 0,  ..., 1, 0, 1], dtype=torch.uint8), tensor([1, 1, 0,  ..., 1, 0, 1], dtype=torch.uint8), tensor([1, 1, 0,  ..., 1, 0, 1], dtype=torch.uint8), tensor([1, 1, 0,  ..., 1, 0, 1], dtype=torch.uint8), tensor([1, 1, 0,  ..., 1, 0, 1], dtype=torch.uint8), tensor([1, 1, 0,  ..., 1, 0, 1], dtype=torch.uint8), tensor([1, 1, 0,  ..., 1, 0, 1], dtype=torch.uint8), tensor([1, 1, 0,  ..., 1, 0, 1], dtype=torch.uint8), tensor([1, 1, 0,  ..., 1, 0, 1], dtype=torch.uint8), tensor([1, 1, 0,  ..., 1, 0, 1], dtype=torch.uint8), tensor([1, 1, 0,  ..., 1, 0, 1], dtype=torch.uint8), tensor([1, 1, 0,  ..., 1, 0, 1], dtype=torch.uint8), tensor([1, 1, 0,  ..., 1, 0, 1], dtype=torch.uint8), tensor([1, 1, 0,  ..., 1, 0, 1], dtype=torch.uint8), tensor([1, 1, 0,  ..., 1, 0, 1], dtype=torch.uint8), tensor([1, 1, 0,  ..., 1, 0, 1], dtype=torch.uint8), tensor([1, 1, 0,  ..., 1, 0, 1], dtype=torch.uint8), tensor([1, 1, 0,  ..., 1, 0, 1], dtype=torch.uint8), tensor([1, 1, 0,  ..., 1, 0, 1], dtype=torch.uint8), tensor([1, 1, 0,  ..., 1, 0, 1], dtype=torch.uint8), tensor([1, 1, 0,  ..., 1, 0, 1], dtype=torch.uint8), tensor([1, 1, 0,  ..., 1, 0, 1], dtype=torch.uint8), tensor([1, 1, 0,  ..., 1, 0, 1], dtype=torch.uint8), tensor([1, 1, 0,  ..., 1, 0, 1], dtype=torch.uint8), tensor([1, 1, 0,  ..., 1, 0, 1], dtype=torch.uint8), tensor([1, 1, 0,  ..., 1, 0, 1], dtype=torch.uint8), tensor([1, 1, 0,  ..., 1, 0, 1], dtype=torch.uint8), tensor([1, 1, 0,  ..., 1, 0, 1], dtype=torch.uint8), tensor([1, 1, 0,  ..., 1, 0, 1], dtype=torch.uint8), tensor([1, 1, 0,  ..., 1, 0, 1], dtype=torch.uint8), tensor([1, 1, 0,  ..., 1, 0, 1], dtype=torch.uint8), tensor([1, 1, 0,  ..., 1, 0, 1], dtype=torch.uint8), tensor([1, 1, 0,  ..., 1, 0, 1], dtype=torch.uint8), tensor([1, 1, 0,  ..., 1, 0, 1], dtype=torch.uint8), tensor([1, 1, 0,  ..., 1, 0, 1], dtype=torch.uint8), tensor([1, 1, 0,  ..., 1, 0, 1], dtype=torch.uint8), tensor([1, 1, 0,  ..., 1, 0, 1], dtype=torch.uint8), tensor([1, 1, 0,  ..., 1, 0, 1], dtype=torch.uint8), tensor([1, 1, 0,  ..., 1, 0, 1], dtype=torch.uint8), tensor([1, 1, 0,  ..., 1, 0, 1], dtype=torch.uint8), tensor([1, 1, 0,  ..., 1, 0, 1], dtype=torch.uint8), tensor([1, 1, 0,  ..., 1, 0, 1], dtype=torch.uint8), tensor([1, 1, 0,  ..., 1, 0, 1], dtype=torch.uint8), tensor([1, 1, 0,  ..., 1, 0, 1], dtype=torch.uint8), tensor([1, 1, 0,  ..., 1, 0, 1], dtype=torch.uint8), tensor([1, 1, 0,  ..., 1, 0, 1], dtype=torch.uint8), tensor([1, 1, 0,  ..., 1, 0, 1], dtype=torch.uint8), tensor([1, 1, 0,  ..., 1, 0, 1], dtype=torch.uint8), tensor([1, 1, 0,  ..., 1, 0, 1], dtype=torch.uint8), tensor([1, 1, 0,  ..., 1, 0, 1], dtype=torch.uint8), tensor([1, 1, 0,  ..., 1, 0, 1], dtype=torch.uint8), tensor([1, 1, 0,  ..., 1, 0, 1], dtype=torch.uint8), tensor([1, 1, 0,  ..., 1, 0, 1], dtype=torch.uint8), tensor([1, 1, 0,  ..., 1, 0, 1], dtype=torch.uint8), tensor([1, 1, 0,  ..., 1, 0, 1], dtype=torch.uint8), tensor([1, 1, 0,  ..., 1, 0, 1], dtype=torch.uint8), tensor([1, 1, 0,  ..., 1, 0, 1], dtype=torch.uint8), tensor([1, 1, 0,  ..., 1, 0, 1], dtype=torch.uint8), tensor([1, 1, 0,  ..., 1, 0, 1], dtype=torch.uint8), tensor([1, 1, 0,  ..., 1, 0, 1], dtype=torch.uint8), tensor([1, 1, 0,  ..., 1, 0, 1], dtype=torch.uint8), tensor([1, 1, 0,  ..., 1, 0, 1], dtype=torch.uint8), tensor([1, 1, 0,  ..., 1, 0, 1], dtype=torch.uint8), tensor([1, 1, 0,  ..., 1, 0, 1], dtype=torch.uint8), tensor([1, 1, 0,  ..., 1, 0, 1], dtype=torch.uint8), tensor([1, 1, 0,  ..., 1, 0, 1], dtype=torch.uint8), tensor([1, 1, 0,  ..., 1, 0, 1], dtype=torch.uint8), tensor([1, 1, 0,  ..., 1, 0, 1], dtype=torch.uint8), tensor([1, 1, 0,  ..., 1, 0, 1], dtype=torch.uint8), tensor([1, 1, 0,  ..., 1, 0, 1], dtype=torch.uint8), tensor([1, 1, 0,  ..., 1, 0, 1], dtype=torch.uint8), tensor([1, 1, 0,  ..., 1, 0, 1], dtype=torch.uint8), tensor([1, 1, 0,  ..., 1, 0, 1], dtype=torch.uint8), tensor([1, 1, 0,  ..., 1, 0, 1], dtype=torch.uint8), tensor([1, 1, 0,  ..., 1, 0, 1], dtype=torch.uint8), tensor([1, 1, 0,  ..., 1, 0, 1], dtype=torch.uint8), tensor([1, 1, 0,  ..., 1, 0, 1], dtype=torch.uint8), tensor([1, 1, 0,  ..., 1, 0, 1], dtype=torch.uint8), tensor([1, 1, 0,  ..., 1, 0, 1], dtype=torch.uint8), tensor([1, 1, 0,  ..., 1, 0, 1], dtype=torch.uint8), tensor([1, 1, 0,  ..., 1, 0, 1], dtype=torch.uint8), tensor([1, 1, 0,  ..., 1, 0, 1], dtype=torch.uint8), tensor([1, 1, 0,  ..., 1, 0, 1], dtype=torch.uint8), tensor([1, 1, 0,  ..., 1, 0, 1], dtype=torch.uint8), tensor([1, 1, 0,  ..., 1, 0, 1], dtype=torch.uint8), tensor([1, 1, 0,  ..., 1, 0, 1], dtype=torch.uint8), tensor([1, 1, 0,  ..., 1, 0, 1], dtype=torch.uint8), tensor([1, 1, 0,  ..., 1, 0, 1], dtype=torch.uint8), tensor([1, 1, 0,  ..., 1, 0, 1], dtype=torch.uint8), tensor([1, 1, 0,  ..., 1, 0, 1], dtype=torch.uint8), tensor([1, 1, 0,  ..., 1, 0, 1], dtype=torch.uint8), tensor([1, 1, 0,  ..., 1, 0, 1], dtype=torch.uint8), tensor([1, 1, 0,  ..., 1, 0, 1], dtype=torch.uint8), tensor([1, 1, 0,  ..., 1, 0, 1], dtype=torch.uint8), tensor([1, 1, 0,  ..., 1, 0, 1], dtype=torch.uint8), tensor([1, 1, 0,  ..., 1, 0, 1], dtype=torch.uint8), tensor([1, 1, 0,  ..., 1, 0, 1], dtype=torch.uint8), tensor([1, 1, 0,  ..., 1, 0, 1], dtype=torch.uint8), tensor([1, 1, 0,  ..., 1, 0, 1], dtype=torch.uint8), tensor([1, 1, 0,  ..., 1, 0, 1], dtype=torch.uint8), tensor([1, 1, 0,  ..., 1, 0, 1], dtype=torch.uint8), tensor([1, 1, 0,  ..., 1, 0, 1], dtype=torch.uint8), tensor([1, 1, 0,  ..., 1, 0, 1], dtype=torch.uint8), tensor([1, 1, 0,  ..., 1, 0, 1], dtype=torch.uint8), tensor([1, 1, 0,  ..., 1, 0, 1], dtype=torch.uint8), tensor([1, 1, 0,  ..., 1, 0, 1], dtype=torch.uint8), tensor([1, 1, 0,  ..., 1, 0, 1], dtype=torch.uint8), tensor([1, 1, 0,  ..., 1, 0, 1], dtype=torch.uint8), tensor([1, 1, 0,  ..., 1, 0, 1], dtype=torch.uint8), tensor([1, 1, 0,  ..., 1, 0, 1], dtype=torch.uint8), tensor([1, 1, 0,  ..., 1, 0, 1], dtype=torch.uint8), tensor([1, 1, 0,  ..., 1, 0, 1], dtype=torch.uint8), tensor([1, 1, 0,  ..., 1, 0, 1], dtype=torch.uint8), tensor([1, 1, 0,  ..., 1, 0, 1], dtype=torch.uint8), tensor([1, 1, 0,  ..., 1, 0, 1], dtype=torch.uint8), tensor([1, 1, 0,  ..., 1, 0, 1], dtype=torch.uint8), tensor([1, 1, 0,  ..., 1, 0, 1], dtype=torch.uint8), tensor([1, 1, 0,  ..., 1, 0, 1], dtype=torch.uint8), tensor([1, 1, 0,  ..., 1, 0, 1], dtype=torch.uint8), tensor([1, 1, 0,  ..., 1, 0, 1], dtype=torch.uint8), tensor([1, 1, 0,  ..., 1, 0, 1], dtype=torch.uint8), tensor([1, 1, 0,  ..., 1, 0, 1], dtype=torch.uint8), tensor([1, 1, 0,  ..., 1, 0, 1], dtype=torch.uint8), tensor([1, 1, 0,  ..., 1, 0, 1], dtype=torch.uint8), tensor([1, 1, 0,  ..., 1, 0, 1], dtype=torch.uint8), tensor([1, 1, 0,  ..., 1, 0, 1], dtype=torch.uint8), tensor([1, 1, 0,  ..., 1, 0, 1], dtype=torch.uint8), tensor([1, 1, 0,  ..., 1, 0, 1], dtype=torch.uint8), tensor([1, 1, 0,  ..., 1, 0, 1], dtype=torch.uint8), tensor([1, 1, 0,  ..., 1, 0, 1], dtype=torch.uint8), tensor([1, 1, 0,  ..., 1, 0, 1], dtype=torch.uint8), tensor([1, 1, 0,  ..., 1, 0, 1], dtype=torch.uint8), tensor([1, 1, 0,  ..., 1, 0, 1], dtype=torch.uint8), tensor([1, 1, 0,  ..., 1, 0, 1], dtype=torch.uint8), tensor([1, 1, 0,  ..., 1, 0, 1], dtype=torch.uint8), tensor([1, 1, 0,  ..., 1, 0, 1], dtype=torch.uint8), tensor([1, 1, 0,  ..., 1, 0, 1], dtype=torch.uint8), tensor([1, 1, 0,  ..., 1, 0, 1], dtype=torch.uint8), tensor([1, 1, 0,  ..., 1, 0, 1], dtype=torch.uint8), tensor([1, 1, 0,  ..., 1, 0, 1], dtype=torch.uint8), tensor([1, 1, 0,  ..., 1, 0, 1], dtype=torch.uint8), tensor([1, 1, 0,  ..., 1, 0, 1], dtype=torch.uint8), tensor([1, 1, 0,  ..., 1, 0, 1], dtype=torch.uint8), tensor([1, 1, 0,  ..., 1, 0, 1], dtype=torch.uint8), tensor([1, 1, 0,  ..., 1, 0, 1], dtype=torch.uint8), tensor([1, 1, 0,  ..., 1, 0, 1], dtype=torch.uint8), tensor([1, 1, 0,  ..., 1, 0, 1], dtype=torch.uint8), tensor([1, 1, 0,  ..., 1, 0, 1], dtype=torch.uint8), tensor([1, 1, 0,  ..., 1, 0, 1], dtype=torch.uint8), tensor([1, 1, 0,  ..., 1, 0, 1], dtype=torch.uint8), tensor([1, 1, 0,  ..., 1, 0, 1], dtype=torch.uint8), tensor([1, 1, 0,  ..., 1, 0, 1], dtype=torch.uint8), tensor([1, 1, 0,  ..., 1, 0, 1], dtype=torch.uint8), tensor([1, 1, 0,  ..., 1, 0, 1], dtype=torch.uint8), tensor([1, 1, 0,  ..., 1, 0, 1], dtype=torch.uint8), tensor([1, 1, 0,  ..., 1, 0, 1], dtype=torch.uint8), tensor([1, 1, 0,  ..., 1, 0, 1], dtype=torch.uint8), tensor([1, 1, 0,  ..., 1, 0, 1], dtype=torch.uint8), tensor([1, 1, 0,  ..., 1, 0, 1], dtype=torch.uint8), tensor([1, 1, 0,  ..., 1, 0, 1], dtype=torch.uint8), tensor([1, 1, 0,  ..., 1, 0, 1], dtype=torch.uint8), tensor([1, 1, 0,  ..., 1, 0, 1], dtype=torch.uint8), tensor([1, 1, 0,  ..., 1, 0, 1], dtype=torch.uint8), tensor([1, 1, 0,  ..., 1, 0, 1], dtype=torch.uint8), tensor([1, 1, 0,  ..., 1, 0, 1], dtype=torch.uint8), tensor([1, 1, 0,  ..., 1, 0, 1], dtype=torch.uint8), tensor([1, 1, 0,  ..., 1, 0, 1], dtype=torch.uint8), tensor([1, 1, 0,  ..., 1, 0, 1], dtype=torch.uint8), tensor([1, 1, 0,  ..., 1, 0, 1], dtype=torch.uint8), tensor([1, 1, 0,  ..., 1, 0, 1], dtype=torch.uint8), tensor([1, 1, 0,  ..., 1, 0, 1], dtype=torch.uint8), tensor([1, 1, 0,  ..., 1, 0, 1], dtype=torch.uint8), tensor([1, 1, 0,  ..., 1, 0, 1], dtype=torch.uint8), tensor([1, 1, 0,  ..., 1, 0, 1], dtype=torch.uint8), tensor([1, 1, 0,  ..., 1, 0, 1], dtype=torch.uint8), tensor([1, 1, 0,  ..., 1, 0, 1], dtype=torch.uint8), tensor([1, 1, 0,  ..., 1, 0, 1], dtype=torch.uint8), tensor([1, 1, 0,  ..., 1, 0, 1], dtype=torch.uint8), tensor([1, 1, 0,  ..., 1, 0, 1], dtype=torch.uint8), tensor([1, 1, 0,  ..., 1, 0, 1], dtype=torch.uint8), tensor([1, 1, 0,  ..., 1, 0, 1], dtype=torch.uint8), tensor([1, 1, 0,  ..., 1, 0, 1], dtype=torch.uint8), tensor([1, 1, 0,  ..., 1, 0, 1], dtype=torch.uint8), tensor([1, 1, 0,  ..., 1, 0, 1], dtype=torch.uint8), tensor([1, 1, 0,  ..., 1, 0, 1], dtype=torch.uint8), tensor([1, 1, 0,  ..., 1, 0, 1], dtype=torch.uint8), tensor([1, 1, 0,  ..., 1, 0, 1], dtype=torch.uint8), tensor([1, 1, 0,  ..., 1, 0, 1], dtype=torch.uint8), tensor([1, 1, 0,  ..., 1, 0, 1], dtype=torch.uint8), tensor([1, 1, 0,  ..., 1, 0, 1], dtype=torch.uint8), tensor([1, 1, 0,  ..., 1, 0, 1], dtype=torch.uint8), tensor([1, 1, 0,  ..., 1, 0, 1], dtype=torch.uint8), tensor([1, 1, 0,  ..., 1, 0, 1], dtype=torch.uint8), tensor([1, 1, 0,  ..., 1, 0, 1], dtype=torch.uint8), tensor([1, 1, 0,  ..., 1, 0, 1], dtype=torch.uint8), tensor([1, 1, 0,  ..., 1, 0, 1], dtype=torch.uint8), tensor([1, 1, 0,  ..., 1, 0, 1], dtype=torch.uint8), tensor([1, 1, 0,  ..., 1, 0, 1], dtype=torch.uint8), tensor([1, 1, 0,  ..., 1, 0, 1], dtype=torch.uint8), tensor([1, 1, 0,  ..., 1, 0, 1], dtype=torch.uint8), tensor([1, 1, 0,  ..., 1, 0, 1], dtype=torch.uint8), tensor([1, 1, 0,  ..., 1, 0, 1], dtype=torch.uint8), tensor([1, 1, 0,  ..., 1, 0, 1], dtype=torch.uint8), tensor([1, 1, 0,  ..., 1, 0, 1], dtype=torch.uint8), tensor([1, 1, 0,  ..., 1, 0, 1], dtype=torch.uint8), tensor([1, 1, 0,  ..., 1, 0, 1], dtype=torch.uint8), tensor([1, 1, 0,  ..., 1, 0, 1], dtype=torch.uint8), tensor([1, 1, 0,  ..., 1, 0, 1], dtype=torch.uint8), tensor([1, 1, 0,  ..., 1, 0, 1], dtype=torch.uint8), tensor([1, 1, 0,  ..., 1, 0, 1], dtype=torch.uint8), tensor([1, 1, 0,  ..., 1, 0, 1], dtype=torch.uint8), tensor([1, 1, 0,  ..., 1, 0, 1], dtype=torch.uint8), tensor([1, 1, 0,  ..., 1, 0, 1], dtype=torch.uint8), tensor([1, 1, 0,  ..., 1, 0, 1], dtype=torch.uint8), tensor([1, 1, 0,  ..., 1, 0, 1], dtype=torch.uint8), tensor([1, 1, 0,  ..., 1, 0, 1], dtype=torch.uint8), tensor([1, 1, 0,  ..., 1, 0, 1], dtype=torch.uint8), tensor([1, 1, 0,  ..., 1, 0, 1], dtype=torch.uint8), tensor([1, 1, 0,  ..., 1, 0, 1], dtype=torch.uint8), tensor([1, 1, 0,  ..., 1, 0, 1], dtype=torch.uint8), tensor([1, 1, 0,  ..., 1, 0, 1], dtype=torch.uint8), tensor([1, 1, 0,  ..., 1, 0, 1], dtype=torch.uint8), tensor([1, 1, 0,  ..., 1, 0, 1], dtype=torch.uint8), tensor([1, 1, 0,  ..., 1, 0, 1], dtype=torch.uint8), tensor([1, 1, 0,  ..., 1, 0, 1], dtype=torch.uint8), tensor([1, 1, 0,  ..., 1, 0, 1], dtype=torch.uint8), tensor([1, 1, 0,  ..., 1, 0, 1], dtype=torch.uint8), tensor([1, 1, 0,  ..., 1, 0, 1], dtype=torch.uint8), tensor([1, 1, 0,  ..., 1, 0, 1], dtype=torch.uint8), tensor([1, 1, 0,  ..., 1, 0, 1], dtype=torch.uint8), tensor([1, 1, 0,  ..., 1, 0, 1], dtype=torch.uint8), tensor([1, 1, 0,  ..., 1, 0, 1], dtype=torch.uint8), tensor([1, 1, 0,  ..., 1, 0, 1], dtype=torch.uint8), tensor([1, 1, 0,  ..., 1, 0, 1], dtype=torch.uint8), tensor([1, 1, 0,  ..., 1, 0, 1], dtype=torch.uint8), tensor([1, 1, 0,  ..., 1, 0, 1], dtype=torch.uint8), tensor([1, 1, 0,  ..., 1, 0, 1], dtype=torch.uint8), tensor([1, 1, 0,  ..., 1, 0, 1], dtype=torch.uint8), tensor([1, 1, 0,  ..., 1, 0, 1], dtype=torch.uint8), tensor([1, 1, 0,  ..., 1, 0, 1], dtype=torch.uint8), tensor([1, 1, 0,  ..., 1, 0, 1], dtype=torch.uint8), tensor([1, 1, 0,  ..., 1, 0, 1], dtype=torch.uint8), tensor([1, 1, 0,  ..., 1, 0, 1], dtype=torch.uint8), tensor([1, 1, 0,  ..., 1, 0, 1], dtype=torch.uint8), tensor([1, 1, 0,  ..., 1, 0, 1], dtype=torch.uint8), tensor([1, 1, 0,  ..., 1, 0, 1], dtype=torch.uint8), tensor([1, 1, 0,  ..., 1, 0, 1], dtype=torch.uint8), tensor([1, 1, 0,  ..., 1, 0, 1], dtype=torch.uint8), tensor([1, 1, 0,  ..., 1, 0, 1], dtype=torch.uint8), tensor([1, 1, 0,  ..., 1, 0, 1], dtype=torch.uint8), tensor([1, 1, 0,  ..., 1, 0, 1], dtype=torch.uint8), tensor([1, 1, 0,  ..., 1, 0, 1], dtype=torch.uint8), tensor([1, 1, 0,  ..., 1, 0, 1], dtype=torch.uint8), tensor([1, 1, 0,  ..., 1, 0, 1], dtype=torch.uint8), tensor([1, 1, 0,  ..., 1, 0, 1], dtype=torch.uint8), tensor([1, 1, 0,  ..., 1, 0, 1], dtype=torch.uint8), tensor([1, 1, 0,  ..., 1, 0, 1], dtype=torch.uint8), tensor([1, 1, 0,  ..., 1, 0, 1], dtype=torch.uint8), tensor([1, 1, 0,  ..., 1, 0, 1], dtype=torch.uint8), tensor([1, 1, 0,  ..., 1, 0, 1], dtype=torch.uint8), tensor([1, 1, 0,  ..., 1, 0, 1], dtype=torch.uint8), tensor([1, 1, 0,  ..., 1, 0, 1], dtype=torch.uint8), tensor([1, 1, 0,  ..., 1, 0, 1], dtype=torch.uint8), tensor([1, 1, 0,  ..., 1, 0, 1], dtype=torch.uint8), tensor([1, 1, 0,  ..., 1, 0, 1], dtype=torch.uint8), tensor([1, 1, 0,  ..., 1, 0, 1], dtype=torch.uint8), tensor([1, 1, 0,  ..., 1, 0, 1], dtype=torch.uint8), tensor([1, 1, 0,  ..., 1, 0, 1], dtype=torch.uint8), tensor([1, 1, 0,  ..., 1, 0, 1], dtype=torch.uint8), tensor([1, 1, 0,  ..., 1, 0, 1], dtype=torch.uint8), tensor([1, 1, 0,  ..., 1, 0, 1], dtype=torch.uint8), tensor([1, 1, 0,  ..., 1, 0, 1], dtype=torch.uint8), tensor([1, 1, 0,  ..., 1, 0, 1], dtype=torch.uint8), tensor([1, 1, 0,  ..., 1, 0, 1], dtype=torch.uint8), tensor([1, 1, 0,  ..., 1, 0, 1], dtype=torch.uint8), tensor([1, 1, 0,  ..., 1, 0, 1], dtype=torch.uint8), tensor([1, 1, 0,  ..., 1, 0, 1], dtype=torch.uint8), tensor([1, 1, 0,  ..., 1, 0, 1], dtype=torch.uint8), tensor([1, 1, 0,  ..., 1, 0, 1], dtype=torch.uint8), tensor([1, 1, 0,  ..., 1, 0, 1], dtype=torch.uint8), tensor([1, 1, 0,  ..., 1, 0, 1], dtype=torch.uint8), tensor([1, 1, 0,  ..., 1, 0, 1], dtype=torch.uint8), tensor([1, 1, 0,  ..., 1, 0, 1], dtype=torch.uint8), tensor([1, 1, 0,  ..., 1, 0, 1], dtype=torch.uint8), tensor([1, 1, 0,  ..., 1, 0, 1], dtype=torch.uint8), tensor([1, 1, 0,  ..., 1, 0, 1], dtype=torch.uint8), tensor([1, 1, 0,  ..., 1, 0, 1], dtype=torch.uint8), tensor([1, 1, 0,  ..., 1, 0, 1], dtype=torch.uint8), tensor([1, 1, 0,  ..., 1, 0, 1], dtype=torch.uint8), tensor([1, 1, 0,  ..., 1, 0, 1], dtype=torch.uint8), tensor([1, 1, 0,  ..., 1, 0, 1], dtype=torch.uint8), tensor([1, 1, 0,  ..., 1, 0, 1], dtype=torch.uint8), tensor([1, 1, 0,  ..., 1, 0, 1], dtype=torch.uint8), tensor([1, 1, 0,  ..., 1, 0, 1], dtype=torch.uint8), tensor([1, 1, 0,  ..., 1, 0, 1], dtype=torch.uint8), tensor([1, 1, 0,  ..., 1, 0, 1], dtype=torch.uint8), tensor([1, 1, 0,  ..., 1, 0, 1], dtype=torch.uint8), tensor([1, 1, 0,  ..., 1, 0, 1], dtype=torch.uint8), tensor([1, 1, 0,  ..., 1, 0, 1], dtype=torch.uint8), tensor([1, 1, 0,  ..., 1, 0, 1], dtype=torch.uint8), tensor([1, 1, 0,  ..., 1, 0, 1], dtype=torch.uint8), tensor([1, 1, 0,  ..., 1, 0, 1], dtype=torch.uint8), tensor([1, 1, 0,  ..., 1, 0, 1], dtype=torch.uint8), tensor([1, 1, 0,  ..., 1, 0, 1], dtype=torch.uint8), tensor([1, 1, 0,  ..., 1, 0, 1], dtype=torch.uint8), tensor([1, 1, 0,  ..., 1, 0, 1], dtype=torch.uint8), tensor([1, 1, 0,  ..., 1, 0, 1], dtype=torch.uint8), tensor([1, 1, 0,  ..., 1, 0, 1], dtype=torch.uint8), tensor([1, 1, 0,  ..., 1, 0, 1], dtype=torch.uint8), tensor([1, 1, 0,  ..., 1, 0, 1], dtype=torch.uint8), tensor([1, 1, 0,  ..., 1, 0, 1], dtype=torch.uint8), tensor([1, 1, 0,  ..., 1, 0, 1], dtype=torch.uint8), tensor([1, 1, 0,  ..., 1, 0, 1], dtype=torch.uint8), tensor([1, 1, 0,  ..., 1, 0, 1], dtype=torch.uint8), tensor([1, 1, 0,  ..., 1, 0, 1], dtype=torch.uint8), tensor([1, 1, 0,  ..., 1, 0, 1], dtype=torch.uint8), tensor([1, 1, 0,  ..., 1, 0, 1], dtype=torch.uint8), tensor([1, 1, 0,  ..., 1, 0, 1], dtype=torch.uint8), tensor([1, 1, 0,  ..., 1, 0, 1], dtype=torch.uint8), tensor([1, 1, 0,  ..., 1, 0, 1], dtype=torch.uint8), tensor([1, 1, 0,  ..., 1, 0, 1], dtype=torch.uint8), tensor([1, 1, 0,  ..., 1, 0, 1], dtype=torch.uint8), tensor([1, 1, 0,  ..., 1, 0, 1], dtype=torch.uint8), tensor([1, 1, 0,  ..., 1, 0, 1], dtype=torch.uint8), tensor([1, 1, 0,  ..., 1, 0, 1], dtype=torch.uint8), tensor([1, 1, 0,  ..., 1, 0, 1], dtype=torch.uint8), tensor([1, 1, 0,  ..., 1, 0, 1], dtype=torch.uint8), tensor([1, 1, 0,  ..., 1, 0, 1], dtype=torch.uint8), tensor([1, 1, 0,  ..., 1, 0, 1], dtype=torch.uint8), tensor([1, 1, 0,  ..., 1, 0, 1], dtype=torch.uint8), tensor([1, 1, 0,  ..., 1, 0, 1], dtype=torch.uint8), tensor([1, 1, 0,  ..., 1, 0, 1], dtype=torch.uint8), tensor([1, 1, 0,  ..., 1, 0, 1], dtype=torch.uint8), tensor([1, 1, 0,  ..., 1, 0, 1], dtype=torch.uint8), tensor([1, 1, 0,  ..., 1, 0, 1], dtype=torch.uint8), tensor([1, 1, 0,  ..., 1, 0, 1], dtype=torch.uint8), tensor([1, 1, 0,  ..., 1, 0, 1], dtype=torch.uint8), tensor([1, 1, 0,  ..., 1, 0, 1], dtype=torch.uint8), tensor([1, 1, 0,  ..., 1, 0, 1], dtype=torch.uint8), tensor([1, 1, 0,  ..., 1, 0, 1], dtype=torch.uint8), tensor([1, 1, 0,  ..., 1, 0, 1], dtype=torch.uint8), tensor([1, 1, 0,  ..., 1, 0, 1], dtype=torch.uint8), tensor([1, 1, 0,  ..., 1, 0, 1], dtype=torch.uint8), tensor([1, 1, 0,  ..., 1, 0, 1], dtype=torch.uint8), tensor([1, 1, 0,  ..., 1, 0, 1], dtype=torch.uint8), tensor([1, 1, 0,  ..., 1, 0, 1], dtype=torch.uint8), tensor([1, 1, 0,  ..., 1, 0, 1], dtype=torch.uint8), tensor([1, 1, 0,  ..., 1, 0, 1], dtype=torch.uint8), tensor([1, 1, 0,  ..., 1, 0, 1], dtype=torch.uint8), tensor([1, 1, 0,  ..., 1, 0, 1], dtype=torch.uint8), tensor([1, 1, 0,  ..., 1, 0, 1], dtype=torch.uint8), tensor([1, 1, 0,  ..., 1, 0, 1], dtype=torch.uint8), tensor([1, 1, 0,  ..., 1, 0, 1], dtype=torch.uint8), tensor([1, 1, 0,  ..., 1, 0, 1], dtype=torch.uint8), tensor([1, 1, 0,  ..., 1, 0, 1], dtype=torch.uint8), tensor([1, 1, 0,  ..., 1, 0, 1], dtype=torch.uint8), tensor([1, 1, 0,  ..., 1, 0, 1], dtype=torch.uint8), tensor([1, 1, 0,  ..., 1, 0, 1], dtype=torch.uint8), tensor([1, 1, 0,  ..., 1, 0, 1], dtype=torch.uint8), tensor([1, 1, 0,  ..., 1, 0, 1], dtype=torch.uint8), tensor([1, 1, 0,  ..., 1, 0, 1], dtype=torch.uint8), tensor([1, 1, 0,  ..., 1, 0, 1], dtype=torch.uint8), tensor([1, 1, 0,  ..., 1, 0, 1], dtype=torch.uint8), tensor([1, 1, 0,  ..., 1, 0, 1], dtype=torch.uint8), tensor([1, 1, 0,  ..., 1, 0, 1], dtype=torch.uint8), tensor([1, 1, 0,  ..., 1, 0, 1], dtype=torch.uint8), tensor([1, 1, 0,  ..., 1, 0, 1], dtype=torch.uint8), tensor([1, 1, 0,  ..., 1, 0, 1], dtype=torch.uint8), tensor([1, 1, 0,  ..., 1, 0, 1], dtype=torch.uint8), tensor([1, 1, 0,  ..., 1, 0, 1], dtype=torch.uint8), tensor([1, 1, 0,  ..., 1, 0, 1], dtype=torch.uint8), tensor([1, 1, 0,  ..., 1, 0, 1], dtype=torch.uint8), tensor([1, 1, 0,  ..., 1, 0, 1], dtype=torch.uint8), tensor([1, 1, 0,  ..., 1, 0, 1], dtype=torch.uint8), tensor([1, 1, 0,  ..., 1, 0, 1], dtype=torch.uint8), tensor([1, 1, 0,  ..., 1, 0, 1], dtype=torch.uint8), tensor([1, 1, 0,  ..., 1, 0, 1], dtype=torch.uint8), tensor([1, 1, 0,  ..., 1, 0, 1], dtype=torch.uint8), tensor([1, 1, 0,  ..., 1, 0, 1], dtype=torch.uint8), tensor([1, 1, 0,  ..., 1, 0, 1], dtype=torch.uint8), tensor([1, 1, 0,  ..., 1, 0, 1], dtype=torch.uint8), tensor([1, 1, 0,  ..., 1, 0, 1], dtype=torch.uint8), tensor([1, 1, 0,  ..., 1, 0, 1], dtype=torch.uint8), tensor([1, 1, 0,  ..., 1, 0, 1], dtype=torch.uint8), tensor([1, 1, 0,  ..., 1, 0, 1], dtype=torch.uint8), tensor([1, 1, 0,  ..., 1, 0, 1], dtype=torch.uint8), tensor([1, 1, 0,  ..., 1, 0, 1], dtype=torch.uint8), tensor([1, 1, 0,  ..., 1, 0, 1], dtype=torch.uint8), tensor([1, 1, 0,  ..., 1, 0, 1], dtype=torch.uint8), tensor([1, 1, 0,  ..., 1, 0, 1], dtype=torch.uint8), tensor([1, 1, 0,  ..., 1, 0, 1], dtype=torch.uint8), tensor([1, 1, 0,  ..., 1, 0, 1], dtype=torch.uint8), tensor([1, 1, 0,  ..., 1, 0, 1], dtype=torch.uint8), tensor([1, 1, 0,  ..., 1, 0, 1], dtype=torch.uint8), tensor([1, 1, 0,  ..., 1, 0, 1], dtype=torch.uint8), tensor([1, 1, 0,  ..., 1, 0, 1], dtype=torch.uint8), tensor([1, 1, 0,  ..., 1, 0, 1], dtype=torch.uint8), tensor([1, 1, 0,  ..., 1, 0, 1], dtype=torch.uint8), tensor([1, 1, 0,  ..., 1, 0, 1], dtype=torch.uint8), tensor([1, 1, 0,  ..., 1, 0, 1], dtype=torch.uint8), tensor([1, 1, 0,  ..., 1, 0, 1], dtype=torch.uint8), tensor([1, 1, 0,  ..., 1, 0, 1], dtype=torch.uint8), tensor([1, 1, 0,  ..., 1, 0, 1], dtype=torch.uint8), tensor([1, 1, 0,  ..., 1, 0, 1], dtype=torch.uint8), tensor([1, 1, 0,  ..., 1, 0, 1], dtype=torch.uint8), tensor([1, 1, 0,  ..., 1, 0, 1], dtype=torch.uint8), tensor([1, 1, 0,  ..., 1, 0, 1], dtype=torch.uint8), tensor([1, 1, 0,  ..., 1, 0, 1], dtype=torch.uint8), tensor([1, 1, 0,  ..., 1, 0, 1], dtype=torch.uint8), tensor([1, 1, 0,  ..., 1, 0, 1], dtype=torch.uint8), tensor([1, 1, 0,  ..., 1, 0, 1], dtype=torch.uint8), tensor([1, 1, 0,  ..., 1, 0, 1], dtype=torch.uint8), tensor([1, 1, 0,  ..., 1, 0, 1], dtype=torch.uint8), tensor([1, 1, 0,  ..., 1, 0, 1], dtype=torch.uint8), tensor([1, 1, 0,  ..., 1, 0, 1], dtype=torch.uint8), tensor([1, 1, 0,  ..., 1, 0, 1], dtype=torch.uint8), tensor([1, 1, 0,  ..., 1, 0, 1], dtype=torch.uint8), tensor([1, 1, 0,  ..., 1, 0, 1], dtype=torch.uint8), tensor([1, 1, 0,  ..., 1, 0, 1], dtype=torch.uint8), tensor([1, 1, 0,  ..., 1, 0, 1], dtype=torch.uint8), tensor([1, 1, 0,  ..., 1, 0, 1], dtype=torch.uint8), tensor([1, 1, 0,  ..., 1, 0, 1], dtype=torch.uint8), tensor([1, 1, 0,  ..., 1, 0, 1], dtype=torch.uint8), tensor([1, 1, 0,  ..., 1, 0, 1], dtype=torch.uint8), tensor([1, 1, 0,  ..., 1, 0, 1], dtype=torch.uint8), tensor([1, 1, 0,  ..., 1, 0, 1], dtype=torch.uint8), tensor([1, 1, 0,  ..., 1, 0, 1], dtype=torch.uint8), tensor([1, 1, 0,  ..., 1, 0, 1], dtype=torch.uint8), tensor([1, 1, 0,  ..., 1, 0, 1], dtype=torch.uint8), tensor([1, 1, 0,  ..., 1, 0, 1], dtype=torch.uint8), tensor([1, 1, 0,  ..., 1, 0, 1], dtype=torch.uint8), tensor([1, 1, 0,  ..., 1, 0, 1], dtype=torch.uint8), tensor([1, 1, 0,  ..., 1, 0, 1], dtype=torch.uint8), tensor([1, 1, 0,  ..., 1, 0, 1], dtype=torch.uint8), tensor([1, 1, 0,  ..., 1, 0, 1], dtype=torch.uint8), tensor([1, 1, 0,  ..., 1, 0, 1], dtype=torch.uint8), tensor([1, 1, 0,  ..., 1, 0, 1], dtype=torch.uint8), tensor([1, 1, 0,  ..., 1, 0, 1], dtype=torch.uint8), tensor([1, 1, 0,  ..., 1, 0, 1], dtype=torch.uint8), tensor([1, 1, 0,  ..., 1, 0, 1], dtype=torch.uint8), tensor([1, 1, 0,  ..., 1, 0, 1], dtype=torch.uint8), tensor([1, 1, 0,  ..., 1, 0, 1], dtype=torch.uint8), tensor([1, 1, 0,  ..., 1, 0, 1], dtype=torch.uint8), tensor([1, 1, 0,  ..., 1, 0, 1], dtype=torch.uint8), tensor([1, 1, 0,  ..., 1, 0, 1], dtype=torch.uint8), tensor([1, 1, 0,  ..., 1, 0, 1], dtype=torch.uint8), tensor([1, 1, 0,  ..., 1, 0, 1], dtype=torch.uint8), tensor([1, 1, 0,  ..., 1, 0, 1], dtype=torch.uint8), tensor([1, 1, 0,  ..., 1, 0, 1], dtype=torch.uint8), tensor([1, 1, 0,  ..., 1, 0, 1], dtype=torch.uint8), tensor([1, 1, 0,  ..., 1, 0, 1], dtype=torch.uint8), tensor([1, 1, 0,  ..., 1, 0, 1], dtype=torch.uint8), tensor([1, 1, 0,  ..., 1, 0, 1], dtype=torch.uint8), tensor([1, 1, 0,  ..., 1, 0, 1], dtype=torch.uint8), tensor([1, 1, 0,  ..., 1, 0, 1], dtype=torch.uint8), tensor([1, 1, 0,  ..., 1, 0, 1], dtype=torch.uint8), tensor([1, 1, 0,  ..., 1, 0, 1], dtype=torch.uint8), tensor([1, 1, 0,  ..., 1, 0, 1], dtype=torch.uint8), tensor([1, 1, 0,  ..., 1, 0, 1], dtype=torch.uint8), tensor([1, 1, 0,  ..., 1, 0, 1], dtype=torch.uint8), tensor([1, 1, 0,  ..., 1, 0, 1], dtype=torch.uint8), tensor([1, 1, 0,  ..., 1, 0, 1], dtype=torch.uint8), tensor([1, 1, 0,  ..., 1, 0, 1], dtype=torch.uint8), tensor([1, 1, 0,  ..., 1, 0, 1], dtype=torch.uint8), tensor([1, 1, 0,  ..., 1, 0, 1], dtype=torch.uint8), tensor([1, 1, 0,  ..., 1, 0, 1], dtype=torch.uint8), tensor([1, 1, 0,  ..., 1, 0, 1], dtype=torch.uint8), tensor([1, 1, 0,  ..., 1, 0, 1], dtype=torch.uint8), tensor([1, 1, 0,  ..., 1, 0, 1], dtype=torch.uint8), tensor([1, 1, 0,  ..., 1, 0, 1], dtype=torch.uint8), tensor([1, 1, 0,  ..., 1, 0, 1], dtype=torch.uint8), tensor([1, 1, 0,  ..., 1, 0, 1], dtype=torch.uint8), tensor([1, 1, 0,  ..., 1, 0, 1], dtype=torch.uint8), tensor([1, 1, 0,  ..., 1, 0, 1], dtype=torch.uint8), tensor([1, 1, 0,  ..., 1, 0, 1], dtype=torch.uint8), tensor([1, 1, 0,  ..., 1, 0, 1], dtype=torch.uint8), tensor([1, 1, 0,  ..., 1, 0, 1], dtype=torch.uint8), tensor([1, 1, 0,  ..., 1, 0, 1], dtype=torch.uint8), tensor([1, 1, 0,  ..., 1, 0, 1], dtype=torch.uint8), tensor([1, 1, 0,  ..., 1, 0, 1], dtype=torch.uint8), tensor([1, 1, 0,  ..., 1, 0, 1], dtype=torch.uint8), tensor([1, 1, 0,  ..., 1, 0, 1], dtype=torch.uint8), tensor([1, 1, 0,  ..., 1, 0, 1], dtype=torch.uint8), tensor([1, 1, 0,  ..., 1, 0, 1], dtype=torch.uint8), tensor([1, 1, 0,  ..., 1, 0, 1], dtype=torch.uint8), tensor([1, 1, 0,  ..., 1, 0, 1], dtype=torch.uint8), tensor([1, 1, 0,  ..., 1, 0, 1], dtype=torch.uint8), tensor([1, 1, 0,  ..., 1, 0, 1], dtype=torch.uint8), tensor([1, 1, 0,  ..., 1, 0, 1], dtype=torch.uint8), tensor([1, 1, 0,  ..., 1, 0, 1], dtype=torch.uint8), tensor([1, 1, 0,  ..., 1, 0, 1], dtype=torch.uint8), tensor([1, 1, 0,  ..., 1, 0, 1], dtype=torch.uint8), tensor([1, 1, 0,  ..., 1, 0, 1], dtype=torch.uint8), tensor([1, 1, 0,  ..., 1, 0, 1], dtype=torch.uint8), tensor([1, 1, 0,  ..., 1, 0, 1], dtype=torch.uint8), tensor([1, 1, 0,  ..., 1, 0, 1], dtype=torch.uint8), tensor([1, 1, 0,  ..., 1, 0, 1], dtype=torch.uint8), tensor([1, 1, 0,  ..., 1, 0, 1], dtype=torch.uint8), tensor([1, 1, 0,  ..., 1, 0, 1], dtype=torch.uint8), tensor([1, 1, 0,  ..., 1, 0, 1], dtype=torch.uint8), tensor([1, 1, 0,  ..., 1, 0, 1], dtype=torch.uint8), tensor([1, 1, 0,  ..., 1, 0, 1], dtype=torch.uint8), tensor([1, 1, 0,  ..., 1, 0, 1], dtype=torch.uint8), tensor([1, 1, 0,  ..., 1, 0, 1], dtype=torch.uint8), tensor([1, 1, 0,  ..., 1, 0, 1], dtype=torch.uint8), tensor([1, 1, 0,  ..., 1, 0, 1], dtype=torch.uint8), tensor([1, 1, 0,  ..., 1, 0, 1], dtype=torch.uint8), tensor([1, 1, 0,  ..., 1, 0, 1], dtype=torch.uint8), tensor([1, 1, 0,  ..., 1, 0, 1], dtype=torch.uint8), tensor([1, 1, 0,  ..., 1, 0, 1], dtype=torch.uint8), tensor([1, 1, 0,  ..., 1, 0, 1], dtype=torch.uint8), tensor([1, 1, 0,  ..., 1, 0, 1], dtype=torch.uint8), tensor([1, 1, 0,  ..., 1, 0, 1], dtype=torch.uint8), tensor([1, 1, 0,  ..., 1, 0, 1], dtype=torch.uint8), tensor([1, 1, 0,  ..., 1, 0, 1], dtype=torch.uint8), tensor([1, 1, 0,  ..., 1, 0, 1], dtype=torch.uint8), tensor([1, 1, 0,  ..., 1, 0, 1], dtype=torch.uint8), tensor([1, 1, 0,  ..., 1, 0, 1], dtype=torch.uint8), tensor([1, 1, 0,  ..., 1, 0, 1], dtype=torch.uint8), tensor([1, 1, 0,  ..., 1, 0, 1], dtype=torch.uint8), tensor([1, 1, 0,  ..., 1, 0, 1], dtype=torch.uint8), tensor([1, 1, 0,  ..., 1, 0, 1], dtype=torch.uint8), tensor([1, 1, 0,  ..., 1, 0, 1], dtype=torch.uint8), tensor([1, 1, 0,  ..., 1, 0, 1], dtype=torch.uint8), tensor([1, 1, 0,  ..., 1, 0, 1], dtype=torch.uint8), tensor([1, 1, 0,  ..., 1, 0, 1], dtype=torch.uint8), tensor([1, 1, 0,  ..., 1, 0, 1], dtype=torch.uint8), tensor([1, 1, 0,  ..., 1, 0, 1], dtype=torch.uint8), tensor([1, 1, 0,  ..., 1, 0, 1], dtype=torch.uint8), tensor([1, 1, 0,  ..., 1, 0, 1], dtype=torch.uint8), tensor([1, 1, 0,  ..., 1, 0, 1], dtype=torch.uint8), tensor([1, 1, 0,  ..., 1, 0, 1], dtype=torch.uint8), tensor([1, 1, 0,  ..., 1, 0, 1], dtype=torch.uint8), tensor([1, 1, 0,  ..., 1, 0, 1], dtype=torch.uint8), tensor([1, 1, 0,  ..., 1, 0, 1], dtype=torch.uint8), tensor([1, 1, 0,  ..., 1, 0, 1], dtype=torch.uint8), tensor([1, 1, 0,  ..., 1, 0, 1], dtype=torch.uint8), tensor([1, 1, 0,  ..., 1, 0, 1], dtype=torch.uint8), tensor([1, 1, 0,  ..., 1, 0, 1], dtype=torch.uint8), tensor([1, 1, 0,  ..., 1, 0, 1], dtype=torch.uint8), tensor([1, 1, 0,  ..., 1, 0, 1], dtype=torch.uint8), tensor([1, 1, 0,  ..., 1, 0, 1], dtype=torch.uint8), tensor([1, 1, 0,  ..., 1, 0, 1], dtype=torch.uint8), tensor([1, 1, 0,  ..., 1, 0, 1], dtype=torch.uint8), tensor([1, 1, 0,  ..., 1, 0, 1], dtype=torch.uint8), tensor([1, 1, 0,  ..., 1, 0, 1], dtype=torch.uint8), tensor([1, 1, 0,  ..., 1, 0, 1], dtype=torch.uint8), tensor([1, 1, 0,  ..., 1, 0, 1], dtype=torch.uint8), tensor([1, 1, 0,  ..., 1, 0, 1], dtype=torch.uint8), tensor([1, 1, 0,  ..., 1, 0, 1], dtype=torch.uint8), tensor([1, 1, 0,  ..., 1, 0, 1], dtype=torch.uint8), tensor([1, 1, 0,  ..., 1, 0, 1], dtype=torch.uint8), tensor([1, 1, 0,  ..., 1, 0, 1], dtype=torch.uint8), tensor([1, 1, 0,  ..., 1, 0, 1], dtype=torch.uint8), tensor([1, 1, 0,  ..., 1, 0, 1], dtype=torch.uint8), tensor([1, 1, 0,  ..., 1, 0, 1], dtype=torch.uint8), tensor([1, 1, 0,  ..., 1, 0, 1], dtype=torch.uint8), tensor([1, 1, 0,  ..., 1, 0, 1], dtype=torch.uint8), tensor([1, 1, 0,  ..., 1, 0, 1], dtype=torch.uint8), tensor([1, 1, 0,  ..., 1, 0, 1], dtype=torch.uint8), tensor([1, 1, 0,  ..., 1, 0, 1], dtype=torch.uint8), tensor([1, 1, 0,  ..., 1, 0, 1], dtype=torch.uint8), tensor([1, 1, 0,  ..., 1, 0, 1], dtype=torch.uint8), tensor([1, 1, 0,  ..., 1, 0, 1], dtype=torch.uint8), tensor([1, 1, 0,  ..., 1, 0, 1], dtype=torch.uint8), tensor([1, 1, 0,  ..., 1, 0, 1], dtype=torch.uint8), tensor([1, 1, 0,  ..., 1, 0, 1], dtype=torch.uint8), tensor([1, 1, 0,  ..., 1, 0, 1], dtype=torch.uint8), tensor([1, 1, 0,  ..., 1, 0, 1], dtype=torch.uint8), tensor([1, 1, 0,  ..., 1, 0, 1], dtype=torch.uint8), tensor([1, 1, 0,  ..., 1, 0, 1], dtype=torch.uint8), tensor([1, 1, 0,  ..., 1, 0, 1], dtype=torch.uint8), tensor([1, 1, 0,  ..., 1, 0, 1], dtype=torch.uint8), tensor([1, 1, 0,  ..., 1, 0, 1], dtype=torch.uint8), tensor([1, 1, 0,  ..., 1, 0, 1], dtype=torch.uint8), tensor([1, 1, 0,  ..., 1, 0, 1], dtype=torch.uint8), tensor([1, 1, 0,  ..., 1, 0, 1], dtype=torch.uint8), tensor([1, 1, 0,  ..., 1, 0, 1], dtype=torch.uint8), tensor([1, 1, 0,  ..., 1, 0, 1], dtype=torch.uint8), tensor([1, 1, 0,  ..., 1, 0, 1], dtype=torch.uint8), tensor([1, 1, 0,  ..., 1, 0, 1], dtype=torch.uint8), tensor([1, 1, 0,  ..., 1, 0, 1], dtype=torch.uint8), tensor([1, 1, 0,  ..., 1, 0, 1], dtype=torch.uint8), tensor([1, 1, 0,  ..., 1, 0, 1], dtype=torch.uint8), tensor([1, 1, 0,  ..., 1, 0, 1], dtype=torch.uint8), tensor([1, 1, 0,  ..., 1, 0, 1], dtype=torch.uint8), tensor([1, 1, 0,  ..., 1, 0, 1], dtype=torch.uint8), tensor([1, 1, 0,  ..., 1, 0, 1], dtype=torch.uint8), tensor([1, 1, 0,  ..., 1, 0, 1], dtype=torch.uint8), tensor([1, 1, 0,  ..., 1, 0, 1], dtype=torch.uint8), tensor([1, 1, 0,  ..., 1, 0, 1], dtype=torch.uint8), tensor([1, 1, 0,  ..., 1, 0, 1], dtype=torch.uint8), tensor([1, 1, 0,  ..., 1, 0, 1], dtype=torch.uint8), tensor([1, 1, 0,  ..., 1, 0, 1], dtype=torch.uint8), tensor([1, 1, 0,  ..., 1, 0, 1], dtype=torch.uint8), tensor([1, 1, 0,  ..., 1, 0, 1], dtype=torch.uint8), tensor([1, 1, 0,  ..., 1, 0, 1], dtype=torch.uint8), tensor([1, 1, 0,  ..., 1, 0, 1], dtype=torch.uint8), tensor([1, 1, 0,  ..., 1, 0, 1], dtype=torch.uint8), tensor([1, 1, 0,  ..., 1, 0, 1], dtype=torch.uint8), tensor([1, 1, 0,  ..., 1, 0, 1], dtype=torch.uint8), tensor([1, 1, 0,  ..., 1, 0, 1], dtype=torch.uint8), tensor([1, 1, 0,  ..., 1, 0, 1], dtype=torch.uint8), tensor([1, 1, 0,  ..., 1, 0, 1], dtype=torch.uint8), tensor([1, 1, 0,  ..., 1, 0, 1], dtype=torch.uint8), tensor([1, 1, 0,  ..., 1, 0, 1], dtype=torch.uint8), tensor([1, 1, 0,  ..., 1, 0, 1], dtype=torch.uint8), tensor([1, 1, 0,  ..., 1, 0, 1], dtype=torch.uint8), tensor([1, 1, 0,  ..., 1, 0, 1], dtype=torch.uint8), tensor([1, 1, 0,  ..., 1, 0, 1], dtype=torch.uint8), tensor([1, 1, 0,  ..., 1, 0, 1], dtype=torch.uint8), tensor([1, 1, 0,  ..., 1, 0, 1], dtype=torch.uint8), tensor([1, 1, 0,  ..., 1, 0, 1], dtype=torch.uint8), tensor([1, 1, 0,  ..., 1, 0, 1], dtype=torch.uint8), tensor([1, 1, 0,  ..., 1, 0, 1], dtype=torch.uint8), tensor([1, 1, 0,  ..., 1, 0, 1], dtype=torch.uint8), tensor([1, 1, 0,  ..., 1, 0, 1], dtype=torch.uint8), tensor([1, 1, 0,  ..., 1, 0, 1], dtype=torch.uint8), tensor([1, 1, 0,  ..., 1, 0, 1], dtype=torch.uint8), tensor([1, 1, 0,  ..., 1, 0, 1], dtype=torch.uint8), tensor([1, 1, 0,  ..., 1, 0, 1], dtype=torch.uint8), tensor([1, 1, 0,  ..., 1, 0, 1], dtype=torch.uint8), tensor([1, 1, 0,  ..., 1, 0, 1], dtype=torch.uint8), tensor([1, 1, 0,  ..., 1, 0, 1], dtype=torch.uint8), tensor([1, 1, 0,  ..., 1, 0, 1], dtype=torch.uint8), tensor([1, 1, 0,  ..., 1, 0, 1], dtype=torch.uint8), tensor([1, 1, 0,  ..., 1, 0, 1], dtype=torch.uint8), tensor([1, 1, 0,  ..., 1, 0, 1], dtype=torch.uint8), tensor([1, 1, 0,  ..., 1, 0, 1], dtype=torch.uint8), tensor([1, 1, 0,  ..., 1, 0, 1], dtype=torch.uint8), tensor([1, 1, 0,  ..., 1, 0, 1], dtype=torch.uint8), tensor([1, 1, 0,  ..., 1, 0, 1], dtype=torch.uint8), tensor([1, 1, 0,  ..., 1, 0, 1], dtype=torch.uint8), tensor([1, 1, 0,  ..., 1, 0, 1], dtype=torch.uint8), tensor([1, 1, 0,  ..., 1, 0, 1], dtype=torch.uint8), tensor([1, 1, 0,  ..., 1, 0, 1], dtype=torch.uint8), tensor([1, 1, 0,  ..., 1, 0, 1], dtype=torch.uint8), tensor([1, 1, 0,  ..., 1, 0, 1], dtype=torch.uint8), tensor([1, 1, 0,  ..., 1, 0, 1], dtype=torch.uint8), tensor([1, 1, 0,  ..., 1, 0, 1], dtype=torch.uint8), tensor([1, 1, 0,  ..., 1, 0, 1], dtype=torch.uint8), tensor([1, 1, 0,  ..., 1, 0, 1], dtype=torch.uint8), tensor([1, 1, 0,  ..., 1, 0, 1], dtype=torch.uint8), tensor([1, 1, 0,  ..., 1, 0, 1], dtype=torch.uint8), tensor([1, 1, 0,  ..., 1, 0, 1], dtype=torch.uint8), tensor([1, 1, 0,  ..., 1, 0, 1], dtype=torch.uint8), tensor([1, 1, 0,  ..., 1, 0, 1], dtype=torch.uint8), tensor([1, 1, 0,  ..., 1, 0, 1], dtype=torch.uint8), tensor([1, 1, 0,  ..., 1, 0, 1], dtype=torch.uint8), tensor([1, 1, 0,  ..., 1, 0, 1], dtype=torch.uint8), tensor([1, 1, 0,  ..., 1, 0, 1], dtype=torch.uint8), tensor([1, 1, 0,  ..., 1, 0, 1], dtype=torch.uint8), tensor([1, 1, 0,  ..., 1, 0, 1], dtype=torch.uint8), tensor([1, 1, 0,  ..., 1, 0, 1], dtype=torch.uint8), tensor([1, 1, 0,  ..., 1, 0, 1], dtype=torch.uint8), tensor([1, 1, 0,  ..., 1, 0, 1], dtype=torch.uint8), tensor([1, 1, 0,  ..., 1, 0, 1], dtype=torch.uint8), tensor([1, 1, 0,  ..., 1, 0, 1], dtype=torch.uint8), tensor([1, 1, 0,  ..., 1, 0, 1], dtype=torch.uint8), tensor([1, 1, 0,  ..., 1, 0, 1], dtype=torch.uint8), tensor([1, 1, 0,  ..., 1, 0, 1], dtype=torch.uint8), tensor([1, 1, 0,  ..., 1, 0, 1], dtype=torch.uint8), tensor([1, 1, 0,  ..., 1, 0, 1], dtype=torch.uint8), tensor([1, 1, 0,  ..., 1, 0, 1], dtype=torch.uint8), tensor([1, 1, 0,  ..., 1, 0, 1], dtype=torch.uint8), tensor([1, 1, 0,  ..., 1, 0, 1], dtype=torch.uint8), tensor([1, 1, 0,  ..., 1, 0, 1], dtype=torch.uint8), tensor([1, 1, 0,  ..., 1, 0, 1], dtype=torch.uint8), tensor([1, 1, 0,  ..., 1, 0, 1], dtype=torch.uint8), tensor([1, 1, 0,  ..., 1, 0, 1], dtype=torch.uint8), tensor([1, 1, 0,  ..., 1, 0, 1], dtype=torch.uint8), tensor([1, 1, 0,  ..., 1, 0, 1], dtype=torch.uint8), tensor([1, 1, 0,  ..., 1, 0, 1], dtype=torch.uint8), tensor([1, 1, 0,  ..., 1, 0, 1], dtype=torch.uint8), tensor([1, 1, 0,  ..., 1, 0, 1], dtype=torch.uint8), tensor([1, 1, 0,  ..., 1, 0, 1], dtype=torch.uint8), tensor([1, 1, 0,  ..., 1, 0, 1], dtype=torch.uint8), tensor([1, 1, 0,  ..., 1, 0, 1], dtype=torch.uint8), tensor([1, 1, 0,  ..., 1, 0, 1], dtype=torch.uint8), tensor([1, 1, 0,  ..., 1, 0, 1], dtype=torch.uint8), tensor([1, 1, 0,  ..., 1, 0, 1], dtype=torch.uint8), tensor([1, 1, 0,  ..., 1, 0, 1], dtype=torch.uint8), tensor([1, 1, 0,  ..., 1, 0, 1], dtype=torch.uint8), tensor([1, 1, 0,  ..., 1, 0, 1], dtype=torch.uint8), tensor([1, 1, 0,  ..., 1, 0, 1], dtype=torch.uint8), tensor([1, 1, 0,  ..., 1, 0, 1], dtype=torch.uint8), tensor([1, 1, 0,  ..., 1, 0, 1], dtype=torch.uint8), tensor([1, 1, 0,  ..., 1, 0, 1], dtype=torch.uint8), tensor([1, 1, 0,  ..., 1, 0, 1], dtype=torch.uint8), tensor([1, 1, 0,  ..., 1, 0, 1], dtype=torch.uint8), tensor([1, 1, 0,  ..., 1, 0, 1], dtype=torch.uint8), tensor([1, 1, 0,  ..., 1, 0, 1], dtype=torch.uint8), tensor([1, 1, 0,  ..., 1, 0, 1], dtype=torch.uint8), tensor([1, 1, 0,  ..., 1, 0, 1], dtype=torch.uint8), tensor([1, 1, 0,  ..., 1, 0, 1], dtype=torch.uint8), tensor([1, 1, 0,  ..., 1, 0, 1], dtype=torch.uint8), tensor([1, 1, 0,  ..., 1, 0, 1], dtype=torch.uint8), tensor([1, 1, 0,  ..., 1, 0, 1], dtype=torch.uint8), tensor([1, 1, 0,  ..., 1, 0, 1], dtype=torch.uint8), tensor([1, 1, 0,  ..., 1, 0, 1], dtype=torch.uint8), tensor([1, 1, 0,  ..., 1, 0, 1], dtype=torch.uint8), tensor([1, 1, 0,  ..., 1, 0, 1], dtype=torch.uint8), tensor([1, 1, 0,  ..., 1, 0, 1], dtype=torch.uint8), tensor([1, 1, 0,  ..., 1, 0, 1], dtype=torch.uint8), tensor([1, 1, 0,  ..., 1, 0, 1], dtype=torch.uint8), tensor([1, 1, 0,  ..., 1, 0, 1], dtype=torch.uint8), tensor([1, 1, 0,  ..., 1, 0, 1], dtype=torch.uint8), tensor([1, 1, 0,  ..., 1, 0, 1], dtype=torch.uint8), tensor([1, 1, 0,  ..., 1, 0, 1], dtype=torch.uint8), tensor([1, 1, 0,  ..., 1, 0, 1], dtype=torch.uint8), tensor([1, 1, 0,  ..., 1, 0, 1], dtype=torch.uint8), tensor([1, 1, 0,  ..., 1, 0, 1], dtype=torch.uint8), tensor([1, 1, 0,  ..., 1, 0, 1], dtype=torch.uint8), tensor([1, 1, 0,  ..., 1, 0, 1], dtype=torch.uint8), tensor([1, 1, 0,  ..., 1, 0, 1], dtype=torch.uint8), tensor([1, 1, 0,  ..., 1, 0, 1], dtype=torch.uint8), tensor([1, 1, 0,  ..., 1, 0, 1], dtype=torch.uint8), tensor([1, 1, 0,  ..., 1, 0, 1], dtype=torch.uint8), tensor([1, 1, 0,  ..., 1, 0, 1], dtype=torch.uint8), tensor([1, 1, 0,  ..., 1, 0, 1], dtype=torch.uint8), tensor([1, 1, 0,  ..., 1, 0, 1], dtype=torch.uint8), tensor([1, 1, 0,  ..., 1, 0, 1], dtype=torch.uint8), tensor([1, 1, 0,  ..., 1, 0, 1], dtype=torch.uint8), tensor([1, 1, 0,  ..., 1, 0, 1], dtype=torch.uint8), tensor([1, 1, 0,  ..., 1, 0, 1], dtype=torch.uint8), tensor([1, 1, 0,  ..., 1, 0, 1], dtype=torch.uint8), tensor([1, 1, 0,  ..., 1, 0, 1], dtype=torch.uint8), tensor([1, 1, 0,  ..., 1, 0, 1], dtype=torch.uint8), tensor([1, 1, 0,  ..., 1, 0, 1], dtype=torch.uint8), tensor([1, 1, 0,  ..., 1, 0, 1], dtype=torch.uint8), tensor([1, 1, 0,  ..., 1, 0, 1], dtype=torch.uint8), tensor([1, 1, 0,  ..., 1, 0, 1], dtype=torch.uint8), tensor([1, 1, 0,  ..., 1, 0, 1], dtype=torch.uint8), tensor([1, 1, 0,  ..., 1, 0, 1], dtype=torch.uint8), tensor([1, 1, 0,  ..., 1, 0, 1], dtype=torch.uint8), tensor([1, 1, 0,  ..., 1, 0, 1], dtype=torch.uint8), tensor([1, 1, 0,  ..., 1, 0, 1], dtype=torch.uint8), tensor([1, 1, 0,  ..., 1, 0, 1], dtype=torch.uint8), tensor([1, 1, 0,  ..., 1, 0, 1], dtype=torch.uint8), tensor([1, 1, 0,  ..., 1, 0, 1], dtype=torch.uint8), tensor([1, 1, 0,  ..., 1, 0, 1], dtype=torch.uint8), tensor([1, 1, 0,  ..., 1, 0, 1], dtype=torch.uint8), tensor([1, 1, 0,  ..., 1, 0, 1], dtype=torch.uint8), tensor([1, 1, 0,  ..., 1, 0, 1], dtype=torch.uint8), tensor([1, 1, 0,  ..., 1, 0, 1], dtype=torch.uint8), tensor([1, 1, 0,  ..., 1, 0, 1], dtype=torch.uint8), tensor([1, 1, 0,  ..., 1, 0, 1], dtype=torch.uint8), tensor([1, 1, 0,  ..., 1, 0, 1], dtype=torch.uint8), tensor([1, 1, 0,  ..., 1, 0, 1], dtype=torch.uint8), tensor([1, 1, 0,  ..., 1, 0, 1], dtype=torch.uint8), tensor([1, 1, 0,  ..., 1, 0, 1], dtype=torch.uint8), tensor([1, 1, 0,  ..., 1, 0, 1], dtype=torch.uint8), tensor([1, 1, 0,  ..., 1, 0, 1], dtype=torch.uint8), tensor([1, 1, 0,  ..., 1, 0, 1], dtype=torch.uint8), tensor([1, 1, 0,  ..., 1, 0, 1], dtype=torch.uint8), tensor([1, 1, 0,  ..., 1, 0, 1], dtype=torch.uint8), tensor([1, 1, 0,  ..., 1, 0, 1], dtype=torch.uint8), tensor([1, 1, 0,  ..., 1, 0, 1], dtype=torch.uint8), tensor([1, 1, 0,  ..., 1, 0, 1], dtype=torch.uint8), tensor([1, 1, 0,  ..., 1, 0, 1], dtype=torch.uint8), tensor([1, 1, 0,  ..., 1, 0, 1], dtype=torch.uint8), tensor([1, 1, 0,  ..., 1, 0, 1], dtype=torch.uint8), tensor([1, 1, 0,  ..., 1, 0, 1], dtype=torch.uint8), tensor([1, 1, 0,  ..., 1, 0, 1], dtype=torch.uint8), tensor([1, 1, 0,  ..., 1, 0, 1], dtype=torch.uint8), tensor([1, 1, 0,  ..., 1, 0, 1], dtype=torch.uint8), tensor([1, 1, 0,  ..., 1, 0, 1], dtype=torch.uint8), tensor([1, 1, 0,  ..., 1, 0, 1], dtype=torch.uint8), tensor([1, 1, 0,  ..., 1, 0, 1], dtype=torch.uint8), tensor([1, 1, 0,  ..., 1, 0, 1], dtype=torch.uint8), tensor([1, 1, 0,  ..., 1, 0, 1], dtype=torch.uint8), tensor([1, 1, 0,  ..., 1, 0, 1], dtype=torch.uint8), tensor([1, 1, 0,  ..., 1, 0, 1], dtype=torch.uint8), tensor([1, 1, 0,  ..., 1, 0, 1], dtype=torch.uint8), tensor([1, 1, 0,  ..., 1, 0, 1], dtype=torch.uint8), tensor([1, 1, 0,  ..., 1, 0, 1], dtype=torch.uint8), tensor([1, 1, 0,  ..., 1, 0, 1], dtype=torch.uint8), tensor([1, 1, 0,  ..., 1, 0, 1], dtype=torch.uint8), tensor([1, 1, 0,  ..., 1, 0, 1], dtype=torch.uint8), tensor([1, 1, 0,  ..., 1, 0, 1], dtype=torch.uint8), tensor([1, 1, 0,  ..., 1, 0, 1], dtype=torch.uint8), tensor([1, 1, 0,  ..., 1, 0, 1], dtype=torch.uint8), tensor([1, 1, 0,  ..., 1, 0, 1], dtype=torch.uint8), tensor([1, 1, 0,  ..., 1, 0, 1], dtype=torch.uint8), tensor([1, 1, 0,  ..., 1, 0, 1], dtype=torch.uint8), tensor([1, 1, 0,  ..., 1, 0, 1], dtype=torch.uint8), tensor([1, 1, 0,  ..., 1, 0, 1], dtype=torch.uint8), tensor([1, 1, 0,  ..., 1, 0, 1], dtype=torch.uint8), tensor([1, 1, 0,  ..., 1, 0, 1], dtype=torch.uint8), tensor([1, 1, 0,  ..., 1, 0, 1], dtype=torch.uint8), tensor([1, 1, 0,  ..., 1, 0, 1], dtype=torch.uint8), tensor([1, 1, 0,  ..., 1, 0, 1], dtype=torch.uint8), tensor([1, 1, 0,  ..., 1, 0, 1], dtype=torch.uint8), tensor([1, 1, 0,  ..., 1, 0, 1], dtype=torch.uint8), tensor([1, 1, 0,  ..., 1, 0, 1], dtype=torch.uint8), tensor([1, 1, 0,  ..., 1, 0, 1], dtype=torch.uint8), tensor([1, 1, 0,  ..., 1, 0, 1], dtype=torch.uint8), tensor([1, 1, 0,  ..., 1, 0, 1], dtype=torch.uint8), tensor([1, 1, 0,  ..., 1, 0, 1], dtype=torch.uint8), tensor([1, 1, 0,  ..., 1, 0, 1], dtype=torch.uint8), tensor([1, 1, 0,  ..., 1, 0, 1], dtype=torch.uint8), tensor([1, 1, 0,  ..., 1, 0, 1], dtype=torch.uint8), tensor([1, 1, 0,  ..., 1, 0, 1], dtype=torch.uint8), tensor([1, 1, 0,  ..., 1, 0, 1], dtype=torch.uint8), tensor([1, 1, 0,  ..., 1, 0, 1], dtype=torch.uint8), tensor([1, 1, 0,  ..., 1, 0, 1], dtype=torch.uint8), tensor([1, 1, 0,  ..., 1, 0, 1], dtype=torch.uint8), tensor([1, 1, 0,  ..., 1, 0, 1], dtype=torch.uint8), tensor([1, 1, 0,  ..., 1, 0, 1], dtype=torch.uint8), tensor([1, 1, 0,  ..., 1, 0, 1], dtype=torch.uint8), tensor([1, 1, 0,  ..., 1, 0, 1], dtype=torch.uint8), tensor([1, 1, 0,  ..., 1, 0, 1], dtype=torch.uint8), tensor([1, 1, 0,  ..., 1, 0, 1], dtype=torch.uint8), tensor([1, 1, 0,  ..., 1, 0, 1], dtype=torch.uint8), tensor([1, 1, 0,  ..., 1, 0, 1], dtype=torch.uint8), tensor([1, 1, 0,  ..., 1, 0, 1], dtype=torch.uint8), tensor([1, 1, 0,  ..., 1, 0, 1], dtype=torch.uint8), tensor([1, 1, 0,  ..., 1, 0, 1], dtype=torch.uint8), tensor([1, 1, 0,  ..., 1, 0, 1], dtype=torch.uint8), tensor([1, 1, 0,  ..., 1, 0, 1], dtype=torch.uint8), tensor([1, 1, 0,  ..., 1, 0, 1], dtype=torch.uint8), tensor([1, 1, 0,  ..., 1, 0, 1], dtype=torch.uint8), tensor([1, 1, 0,  ..., 1, 0, 1], dtype=torch.uint8), tensor([1, 1, 0,  ..., 1, 0, 1], dtype=torch.uint8), tensor([1, 1, 0,  ..., 1, 0, 1], dtype=torch.uint8), tensor([1, 1, 0,  ..., 1, 0, 1], dtype=torch.uint8), tensor([1, 1, 0,  ..., 1, 0, 1], dtype=torch.uint8), tensor([1, 1, 0,  ..., 1, 0, 1], dtype=torch.uint8), tensor([1, 1, 0,  ..., 1, 0, 1], dtype=torch.uint8), tensor([1, 1, 0,  ..., 1, 0, 1], dtype=torch.uint8), tensor([1, 1, 0,  ..., 1, 0, 1], dtype=torch.uint8), tensor([1, 1, 0,  ..., 1, 0, 1], dtype=torch.uint8), tensor([1, 1, 0,  ..., 1, 0, 1], dtype=torch.uint8), tensor([1, 1, 0,  ..., 1, 0, 1], dtype=torch.uint8), tensor([1, 1, 0,  ..., 1, 0, 1], dtype=torch.uint8), tensor([1, 1, 0,  ..., 1, 0, 1], dtype=torch.uint8), tensor([1, 1, 0,  ..., 1, 0, 1], dtype=torch.uint8), tensor([1, 1, 0,  ..., 1, 0, 1], dtype=torch.uint8), tensor([1, 1, 0,  ..., 1, 0, 1], dtype=torch.uint8), tensor([1, 1, 0,  ..., 1, 0, 1], dtype=torch.uint8), tensor([1, 1, 0,  ..., 1, 0, 1], dtype=torch.uint8), tensor([1, 1, 0,  ..., 1, 0, 1], dtype=torch.uint8), tensor([1, 1, 0,  ..., 1, 0, 1], dtype=torch.uint8), tensor([1, 1, 0,  ..., 1, 0, 1], dtype=torch.uint8), tensor([1, 1, 0,  ..., 1, 0, 1], dtype=torch.uint8), tensor([1, 1, 0,  ..., 1, 0, 1], dtype=torch.uint8), tensor([1, 1, 0,  ..., 1, 0, 1], dtype=torch.uint8), tensor([1, 1, 0,  ..., 1, 0, 1], dtype=torch.uint8), tensor([1, 1, 0,  ..., 1, 0, 1], dtype=torch.uint8), tensor([1, 1, 0,  ..., 1, 0, 1], dtype=torch.uint8), tensor([1, 1, 0,  ..., 1, 0, 1], dtype=torch.uint8), tensor([1, 1, 0,  ..., 1, 0, 1], dtype=torch.uint8), tensor([1, 1, 0,  ..., 1, 0, 1], dtype=torch.uint8), tensor([1, 1, 0,  ..., 1, 0, 1], dtype=torch.uint8), tensor([1, 1, 0,  ..., 1, 0, 1], dtype=torch.uint8), tensor([1, 1, 0,  ..., 1, 0, 1], dtype=torch.uint8), tensor([1, 1, 0,  ..., 1, 0, 1], dtype=torch.uint8), tensor([1, 1, 0,  ..., 1, 0, 1], dtype=torch.uint8), tensor([1, 1, 0,  ..., 1, 0, 1], dtype=torch.uint8), tensor([1, 1, 0,  ..., 1, 0, 1], dtype=torch.uint8), tensor([1, 1, 0,  ..., 1, 0, 1], dtype=torch.uint8), tensor([1, 1, 0,  ..., 1, 0, 1], dtype=torch.uint8), tensor([1, 1, 0,  ..., 1, 0, 1], dtype=torch.uint8), tensor([1, 1, 0,  ..., 1, 0, 1], dtype=torch.uint8), tensor([1, 1, 0,  ..., 1, 0, 1], dtype=torch.uint8), tensor([1, 1, 0,  ..., 1, 0, 1], dtype=torch.uint8), tensor([1, 1, 0,  ..., 1, 0, 1], dtype=torch.uint8), tensor([1, 1, 0,  ..., 1, 0, 1], dtype=torch.uint8), tensor([1, 1, 0,  ..., 1, 0, 1], dtype=torch.uint8), tensor([1, 1, 0,  ..., 1, 0, 1], dtype=torch.uint8), tensor([1, 1, 0,  ..., 1, 0, 1], dtype=torch.uint8), tensor([1, 1, 0,  ..., 1, 0, 1], dtype=torch.uint8), tensor([1, 1, 0,  ..., 1, 0, 1], dtype=torch.uint8), tensor([1, 1, 0,  ..., 1, 0, 1], dtype=torch.uint8), tensor([1, 1, 0,  ..., 1, 0, 1], dtype=torch.uint8), tensor([1, 1, 0,  ..., 1, 0, 1], dtype=torch.uint8), tensor([1, 1, 0,  ..., 1, 0, 1], dtype=torch.uint8), tensor([1, 1, 0,  ..., 1, 0, 1], dtype=torch.uint8), tensor([1, 1, 0,  ..., 1, 0, 1], dtype=torch.uint8), tensor([1, 1, 0,  ..., 1, 0, 1], dtype=torch.uint8), tensor([1, 1, 0,  ..., 1, 0, 1], dtype=torch.uint8), tensor([1, 1, 0,  ..., 1, 0, 1], dtype=torch.uint8), tensor([1, 1, 0,  ..., 1, 0, 1], dtype=torch.uint8), tensor([1, 1, 0,  ..., 1, 0, 1], dtype=torch.uint8), tensor([1, 1, 0,  ..., 1, 0, 1], dtype=torch.uint8), tensor([1, 1, 0,  ..., 1, 0, 1], dtype=torch.uint8), tensor([1, 1, 0,  ..., 1, 0, 1], dtype=torch.uint8), tensor([1, 1, 0,  ..., 1, 0, 1], dtype=torch.uint8), tensor([1, 1, 0,  ..., 1, 0, 1], dtype=torch.uint8), tensor([1, 1, 0,  ..., 1, 0, 1], dtype=torch.uint8), tensor([1, 1, 0,  ..., 1, 0, 1], dtype=torch.uint8), tensor([1, 1, 0,  ..., 1, 0, 1], dtype=torch.uint8), tensor([1, 1, 0,  ..., 1, 0, 1], dtype=torch.uint8), tensor([1, 1, 0,  ..., 1, 0, 1], dtype=torch.uint8), tensor([1, 1, 0,  ..., 1, 0, 1], dtype=torch.uint8), tensor([1, 1, 0,  ..., 1, 0, 1], dtype=torch.uint8), tensor([1, 1, 0,  ..., 1, 0, 1], dtype=torch.uint8), tensor([1, 1, 0,  ..., 1, 0, 1], dtype=torch.uint8), tensor([1, 1, 0,  ..., 1, 0, 1], dtype=torch.uint8), tensor([1, 1, 0,  ..., 1, 0, 1], dtype=torch.uint8), tensor([1, 1, 0,  ..., 1, 0, 1], dtype=torch.uint8), tensor([1, 1, 0,  ..., 1, 0, 1], dtype=torch.uint8), tensor([1, 1, 0,  ..., 1, 0, 1], dtype=torch.uint8), tensor([1, 1, 0,  ..., 1, 0, 1], dtype=torch.uint8), tensor([1, 1, 0,  ..., 1, 0, 1], dtype=torch.uint8), tensor([1, 1, 0,  ..., 1, 0, 1], dtype=torch.uint8), tensor([1, 1, 0,  ..., 1, 0, 1], dtype=torch.uint8), tensor([1, 1, 0,  ..., 1, 0, 1], dtype=torch.uint8), tensor([1, 1, 0,  ..., 1, 0, 1], dtype=torch.uint8), tensor([1, 1, 0,  ..., 1, 0, 1], dtype=torch.uint8), tensor([1, 1, 0,  ..., 1, 0, 1], dtype=torch.uint8), tensor([1, 1, 0,  ..., 1, 0, 1], dtype=torch.uint8), tensor([1, 1, 0,  ..., 1, 0, 1], dtype=torch.uint8), tensor([1, 1, 0,  ..., 1, 0, 1], dtype=torch.uint8), tensor([1, 1, 0,  ..., 1, 0, 1], dtype=torch.uint8), tensor([1, 1, 0,  ..., 1, 0, 1], dtype=torch.uint8), tensor([1, 1, 0,  ..., 1, 0, 1], dtype=torch.uint8), tensor([1, 1, 0,  ..., 1, 0, 1], dtype=torch.uint8), tensor([1, 1, 0,  ..., 1, 0, 1], dtype=torch.uint8), tensor([1, 1, 0,  ..., 1, 0, 1], dtype=torch.uint8), tensor([1, 1, 0,  ..., 1, 0, 1], dtype=torch.uint8), tensor([1, 1, 0,  ..., 1, 0, 1], dtype=torch.uint8), tensor([1, 1, 0,  ..., 1, 0, 1], dtype=torch.uint8), tensor([1, 1, 0,  ..., 1, 0, 1], dtype=torch.uint8), tensor([1, 1, 0,  ..., 1, 0, 1], dtype=torch.uint8), tensor([1, 1, 0,  ..., 1, 0, 1], dtype=torch.uint8), tensor([1, 1, 0,  ..., 1, 0, 1], dtype=torch.uint8), tensor([1, 1, 0,  ..., 1, 0, 1], dtype=torch.uint8), tensor([1, 1, 0,  ..., 1, 0, 1], dtype=torch.uint8), tensor([1, 1, 0,  ..., 1, 0, 1], dtype=torch.uint8), tensor([1, 1, 0,  ..., 1, 0, 1], dtype=torch.uint8), tensor([1, 1, 0,  ..., 1, 0, 1], dtype=torch.uint8), tensor([1, 1, 0,  ..., 1, 0, 1], dtype=torch.uint8), tensor([1, 1, 0,  ..., 1, 0, 1], dtype=torch.uint8), tensor([1, 1, 0,  ..., 1, 0, 1], dtype=torch.uint8), tensor([1, 1, 0,  ..., 1, 0, 1], dtype=torch.uint8), tensor([1, 1, 0,  ..., 1, 0, 1], dtype=torch.uint8), tensor([1, 1, 0,  ..., 1, 0, 1], dtype=torch.uint8), tensor([1, 1, 0,  ..., 1, 0, 1], dtype=torch.uint8), tensor([1, 1, 0,  ..., 1, 0, 1], dtype=torch.uint8), tensor([1, 1, 0,  ..., 1, 0, 1], dtype=torch.uint8), tensor([1, 1, 0,  ..., 1, 0, 1], dtype=torch.uint8), tensor([1, 1, 0,  ..., 1, 0, 1], dtype=torch.uint8), tensor([1, 1, 0,  ..., 1, 0, 1], dtype=torch.uint8), tensor([1, 1, 0,  ..., 1, 0, 1], dtype=torch.uint8), tensor([1, 1, 0,  ..., 1, 0, 1], dtype=torch.uint8), tensor([1, 1, 0,  ..., 1, 0, 1], dtype=torch.uint8), tensor([1, 1, 0,  ..., 1, 0, 1], dtype=torch.uint8), tensor([1, 1, 0,  ..., 1, 0, 1], dtype=torch.uint8), tensor([1, 1, 0,  ..., 1, 0, 1], dtype=torch.uint8), tensor([1, 1, 0,  ..., 1, 0, 1], dtype=torch.uint8), tensor([1, 1, 0,  ..., 1, 0, 1], dtype=torch.uint8), tensor([1, 1, 0,  ..., 1, 0, 1], dtype=torch.uint8), tensor([1, 1, 0,  ..., 1, 0, 1], dtype=torch.uint8), tensor([1, 1, 0,  ..., 1, 0, 1], dtype=torch.uint8), tensor([1, 1, 0,  ..., 1, 0, 1], dtype=torch.uint8), tensor([1, 1, 0,  ..., 1, 0, 1], dtype=torch.uint8), tensor([1, 1, 0,  ..., 1, 0, 1], dtype=torch.uint8), tensor([1, 1, 0,  ..., 1, 0, 1], dtype=torch.uint8), tensor([1, 1, 0,  ..., 1, 0, 1], dtype=torch.uint8), tensor([1, 1, 0,  ..., 1, 0, 1], dtype=torch.uint8), tensor([1, 1, 0,  ..., 1, 0, 1], dtype=torch.uint8), tensor([1, 1, 0,  ..., 1, 0, 1], dtype=torch.uint8), tensor([1, 1, 0,  ..., 1, 0, 1], dtype=torch.uint8), tensor([1, 1, 0,  ..., 1, 0, 1], dtype=torch.uint8), tensor([1, 1, 0,  ..., 1, 0, 1], dtype=torch.uint8), tensor([1, 1, 0,  ..., 1, 0, 1], dtype=torch.uint8), tensor([1, 1, 0,  ..., 1, 0, 1], dtype=torch.uint8), tensor([1, 1, 0,  ..., 1, 0, 1], dtype=torch.uint8), tensor([1, 1, 0,  ..., 1, 0, 1], dtype=torch.uint8), tensor([1, 1, 0,  ..., 1, 0, 1], dtype=torch.uint8), tensor([1, 1, 0,  ..., 1, 0, 1], dtype=torch.uint8), tensor([1, 1, 0,  ..., 1, 0, 1], dtype=torch.uint8), tensor([1, 1, 0,  ..., 1, 0, 1], dtype=torch.uint8), tensor([1, 1, 0,  ..., 1, 0, 1], dtype=torch.uint8), tensor([1, 1, 0,  ..., 1, 0, 1], dtype=torch.uint8), tensor([1, 1, 0,  ..., 1, 0, 1], dtype=torch.uint8), tensor([1, 1, 0,  ..., 1, 0, 1], dtype=torch.uint8), tensor([1, 1, 0,  ..., 1, 0, 1], dtype=torch.uint8), tensor([1, 1, 0,  ..., 1, 0, 1], dtype=torch.uint8), tensor([1, 1, 0,  ..., 1, 0, 1], dtype=torch.uint8), tensor([1, 1, 0,  ..., 1, 0, 1], dtype=torch.uint8), tensor([1, 1, 0,  ..., 1, 0, 1], dtype=torch.uint8), tensor([1, 1, 0,  ..., 1, 0, 1], dtype=torch.uint8), tensor([1, 1, 0,  ..., 1, 0, 1], dtype=torch.uint8), tensor([1, 1, 0,  ..., 1, 0, 1], dtype=torch.uint8), tensor([1, 1, 0,  ..., 1, 0, 1], dtype=torch.uint8), tensor([1, 1, 0,  ..., 1, 0, 1], dtype=torch.uint8), tensor([1, 1, 0,  ..., 1, 0, 1], dtype=torch.uint8), tensor([1, 1, 0,  ..., 1, 0, 1], dtype=torch.uint8), tensor([1, 1, 0,  ..., 1, 0, 1], dtype=torch.uint8), tensor([1, 1, 0,  ..., 1, 0, 1], dtype=torch.uint8), tensor([1, 1, 0,  ..., 1, 0, 1], dtype=torch.uint8), tensor([1, 1, 0,  ..., 1, 0, 1], dtype=torch.uint8), tensor([1, 1, 0,  ..., 1, 0, 1], dtype=torch.uint8), tensor([1, 1, 0,  ..., 1, 0, 1], dtype=torch.uint8), tensor([1, 1, 0,  ..., 1, 0, 1], dtype=torch.uint8), tensor([1, 1, 0,  ..., 1, 0, 1], dtype=torch.uint8), tensor([1, 1, 0,  ..., 1, 0, 1], dtype=torch.uint8), tensor([1, 1, 0,  ..., 1, 0, 1], dtype=torch.uint8), tensor([1, 1, 0,  ..., 1, 0, 1], dtype=torch.uint8), tensor([1, 1, 0,  ..., 1, 0, 1], dtype=torch.uint8), tensor([1, 1, 0,  ..., 1, 0, 1], dtype=torch.uint8), tensor([1, 1, 0,  ..., 1, 0, 1], dtype=torch.uint8), tensor([1, 1, 0,  ..., 1, 0, 1], dtype=torch.uint8), tensor([1, 1, 0,  ..., 1, 0, 1], dtype=torch.uint8), tensor([1, 1, 0,  ..., 1, 0, 1], dtype=torch.uint8), tensor([1, 1, 0,  ..., 1, 0, 1], dtype=torch.uint8), tensor([1, 1, 0,  ..., 1, 0, 1], dtype=torch.uint8), tensor([1, 1, 0,  ..., 1, 0, 1], dtype=torch.uint8), tensor([1, 1, 0,  ..., 1, 0, 1], dtype=torch.uint8), tensor([1, 1, 0,  ..., 1, 0, 1], dtype=torch.uint8), tensor([1, 1, 0,  ..., 1, 0, 1], dtype=torch.uint8), tensor([1, 1, 0,  ..., 1, 0, 1], dtype=torch.uint8), tensor([1, 1, 0,  ..., 1, 0, 1], dtype=torch.uint8), tensor([1, 1, 0,  ..., 1, 0, 1], dtype=torch.uint8), tensor([1, 1, 0,  ..., 1, 0, 1], dtype=torch.uint8), tensor([1, 1, 0,  ..., 1, 0, 1], dtype=torch.uint8), tensor([1, 1, 0,  ..., 1, 0, 1], dtype=torch.uint8), tensor([1, 1, 0,  ..., 1, 0, 1], dtype=torch.uint8), tensor([1, 1, 0,  ..., 1, 0, 1], dtype=torch.uint8), tensor([1, 1, 0,  ..., 1, 0, 1], dtype=torch.uint8), tensor([1, 1, 0,  ..., 1, 0, 1], dtype=torch.uint8), tensor([1, 1, 0,  ..., 1, 0, 1], dtype=torch.uint8), tensor([1, 1, 0,  ..., 1, 0, 1], dtype=torch.uint8), tensor([1, 1, 0,  ..., 1, 0, 1], dtype=torch.uint8), tensor([1, 1, 0,  ..., 1, 0, 1], dtype=torch.uint8), tensor([1, 1, 0,  ..., 1, 0, 1], dtype=torch.uint8), tensor([1, 1, 0,  ..., 1, 0, 1], dtype=torch.uint8), tensor([1, 1, 0,  ..., 1, 0, 1], dtype=torch.uint8), tensor([1, 1, 0,  ..., 1, 0, 1], dtype=torch.uint8), tensor([1, 1, 0,  ..., 1, 0, 1], dtype=torch.uint8), tensor([1, 1, 0,  ..., 1, 0, 1], dtype=torch.uint8), tensor([1, 1, 0,  ..., 1, 0, 1], dtype=torch.uint8), tensor([1, 1, 0,  ..., 1, 0, 1], dtype=torch.uint8), tensor([1, 1, 0,  ..., 1, 0, 1], dtype=torch.uint8), tensor([1, 1, 0,  ..., 1, 0, 1], dtype=torch.uint8), tensor([1, 1, 0,  ..., 1, 0, 1], dtype=torch.uint8), tensor([1, 1, 0,  ..., 1, 0, 1], dtype=torch.uint8), tensor([1, 1, 0,  ..., 1, 0, 1], dtype=torch.uint8), tensor([1, 1, 0,  ..., 1, 0, 1], dtype=torch.uint8), tensor([1, 1, 0,  ..., 1, 0, 1], dtype=torch.uint8), tensor([1, 1, 0,  ..., 1, 0, 1], dtype=torch.uint8), tensor([1, 1, 0,  ..., 1, 0, 1], dtype=torch.uint8), tensor([1, 1, 0,  ..., 1, 0, 1], dtype=torch.uint8), tensor([1, 1, 0,  ..., 1, 0, 1], dtype=torch.uint8), tensor([1, 1, 0,  ..., 1, 0, 1], dtype=torch.uint8), tensor([1, 1, 0,  ..., 1, 0, 1], dtype=torch.uint8), tensor([1, 1, 0,  ..., 1, 0, 1], dtype=torch.uint8), tensor([1, 1, 0,  ..., 1, 0, 1], dtype=torch.uint8), tensor([1, 1, 0,  ..., 1, 0, 1], dtype=torch.uint8), tensor([1, 1, 0,  ..., 1, 0, 1], dtype=torch.uint8), tensor([1, 1, 0,  ..., 1, 0, 1], dtype=torch.uint8), tensor([1, 1, 0,  ..., 1, 0, 1], dtype=torch.uint8), tensor([1, 1, 0,  ..., 1, 0, 1], dtype=torch.uint8), tensor([1, 1, 0,  ..., 1, 0, 1], dtype=torch.uint8), tensor([1, 1, 0,  ..., 1, 0, 1], dtype=torch.uint8), tensor([1, 1, 0,  ..., 1, 0, 1], dtype=torch.uint8), tensor([1, 1, 0,  ..., 1, 0, 1], dtype=torch.uint8), tensor([1, 1, 0,  ..., 1, 0, 1], dtype=torch.uint8), tensor([1, 1, 0,  ..., 1, 0, 1], dtype=torch.uint8), tensor([1, 1, 0,  ..., 1, 0, 1], dtype=torch.uint8), tensor([1, 1, 0,  ..., 1, 0, 1], dtype=torch.uint8), tensor([1, 1, 0,  ..., 1, 0, 1], dtype=torch.uint8), tensor([1, 1, 0,  ..., 1, 0, 1], dtype=torch.uint8), tensor([1, 1, 0,  ..., 1, 0, 1], dtype=torch.uint8), tensor([1, 1, 0,  ..., 1, 0, 1], dtype=torch.uint8), tensor([1, 1, 0,  ..., 1, 0, 1], dtype=torch.uint8), tensor([1, 1, 0,  ..., 1, 0, 1], dtype=torch.uint8), tensor([1, 1, 0,  ..., 1, 0, 1], dtype=torch.uint8), tensor([1, 1, 0,  ..., 1, 0, 1], dtype=torch.uint8), tensor([1, 1, 0,  ..., 1, 0, 1], dtype=torch.uint8), tensor([1, 1, 0,  ..., 1, 0, 1], dtype=torch.uint8), tensor([1, 1, 0,  ..., 1, 0, 1], dtype=torch.uint8), tensor([1, 1, 0,  ..., 1, 0, 1], dtype=torch.uint8), tensor([1, 1, 0,  ..., 1, 0, 1], dtype=torch.uint8), tensor([1, 1, 0,  ..., 1, 0, 1], dtype=torch.uint8), tensor([1, 1, 0,  ..., 1, 0, 1], dtype=torch.uint8), tensor([1, 1, 0,  ..., 1, 0, 1], dtype=torch.uint8), tensor([1, 1, 0,  ..., 1, 0, 1], dtype=torch.uint8), tensor([1, 1, 0,  ..., 1, 0, 1], dtype=torch.uint8), tensor([1, 1, 0,  ..., 1, 0, 1], dtype=torch.uint8), tensor([1, 1, 0,  ..., 1, 0, 1], dtype=torch.uint8), tensor([1, 1, 0,  ..., 1, 0, 1], dtype=torch.uint8), tensor([1, 1, 0,  ..., 1, 0, 1], dtype=torch.uint8), tensor([1, 1, 0,  ..., 1, 0, 1], dtype=torch.uint8), tensor([1, 1, 0,  ..., 1, 0, 1], dtype=torch.uint8), tensor([1, 1, 0,  ..., 1, 0, 1], dtype=torch.uint8), tensor([1, 1, 0,  ..., 1, 0, 1], dtype=torch.uint8), tensor([1, 1, 0,  ..., 1, 0, 1], dtype=torch.uint8), tensor([1, 1, 0,  ..., 1, 0, 1], dtype=torch.uint8), tensor([1, 1, 0,  ..., 1, 0, 1], dtype=torch.uint8), tensor([1, 1, 0,  ..., 1, 0, 1], dtype=torch.uint8), tensor([1, 1, 0,  ..., 1, 0, 1], dtype=torch.uint8), tensor([1, 1, 0,  ..., 1, 0, 1], dtype=torch.uint8), tensor([1, 1, 0,  ..., 1, 0, 1], dtype=torch.uint8), tensor([1, 1, 0,  ..., 1, 0, 1], dtype=torch.uint8), tensor([1, 1, 0,  ..., 1, 0, 1], dtype=torch.uint8), tensor([1, 1, 0,  ..., 1, 0, 1], dtype=torch.uint8), tensor([1, 1, 0,  ..., 1, 0, 1], dtype=torch.uint8), tensor([1, 1, 0,  ..., 1, 0, 1], dtype=torch.uint8), tensor([1, 1, 0,  ..., 1, 0, 1], dtype=torch.uint8), tensor([1, 1, 0,  ..., 1, 0, 1], dtype=torch.uint8), tensor([1, 1, 0,  ..., 1, 0, 1], dtype=torch.uint8), tensor([1, 1, 0,  ..., 1, 0, 1], dtype=torch.uint8), tensor([1, 1, 0,  ..., 1, 0, 1], dtype=torch.uint8), tensor([1, 1, 0,  ..., 1, 0, 1], dtype=torch.uint8), tensor([1, 1, 0,  ..., 1, 0, 1], dtype=torch.uint8), tensor([1, 1, 0,  ..., 1, 0, 1], dtype=torch.uint8), tensor([1, 1, 0,  ..., 1, 0, 1], dtype=torch.uint8), tensor([1, 1, 0,  ..., 1, 0, 1], dtype=torch.uint8), tensor([1, 1, 0,  ..., 1, 0, 1], dtype=torch.uint8), tensor([1, 1, 0,  ..., 1, 0, 1], dtype=torch.uint8), tensor([1, 1, 0,  ..., 1, 0, 1], dtype=torch.uint8), tensor([1, 1, 0,  ..., 1, 0, 1], dtype=torch.uint8), tensor([1, 1, 0,  ..., 1, 0, 1], dtype=torch.uint8), tensor([1, 1, 0,  ..., 1, 0, 1], dtype=torch.uint8), tensor([1, 1, 0,  ..., 1, 0, 1], dtype=torch.uint8), tensor([1, 1, 0,  ..., 1, 0, 1], dtype=torch.uint8), tensor([1, 1, 0,  ..., 1, 0, 1], dtype=torch.uint8), tensor([1, 1, 0,  ..., 1, 0, 1], dtype=torch.uint8), tensor([1, 1, 0,  ..., 1, 0, 1], dtype=torch.uint8), tensor([1, 1, 0,  ..., 1, 0, 1], dtype=torch.uint8), tensor([1, 1, 0,  ..., 1, 0, 1], dtype=torch.uint8), tensor([1, 1, 0,  ..., 1, 0, 1], dtype=torch.uint8), tensor([1, 1, 0,  ..., 1, 0, 1], dtype=torch.uint8), tensor([1, 1, 0,  ..., 1, 0, 1], dtype=torch.uint8), tensor([1, 1, 0,  ..., 1, 0, 1], dtype=torch.uint8), tensor([1, 1, 0,  ..., 1, 0, 1], dtype=torch.uint8), tensor([1, 1, 0,  ..., 1, 0, 1], dtype=torch.uint8), tensor([1, 1, 0,  ..., 1, 0, 1], dtype=torch.uint8), tensor([1, 1, 0,  ..., 1, 0, 1], dtype=torch.uint8), tensor([1, 1, 0,  ..., 1, 0, 1], dtype=torch.uint8), tensor([1, 1, 0,  ..., 1, 0, 1], dtype=torch.uint8), tensor([1, 1, 0,  ..., 1, 0, 1], dtype=torch.uint8), tensor([1, 1, 0,  ..., 1, 0, 1], dtype=torch.uint8), tensor([1, 1, 0,  ..., 1, 0, 1], dtype=torch.uint8), tensor([1, 1, 0,  ..., 1, 0, 1], dtype=torch.uint8), tensor([1, 1, 0,  ..., 1, 0, 1], dtype=torch.uint8), tensor([1, 1, 0,  ..., 1, 0, 1], dtype=torch.uint8), tensor([1, 1, 0,  ..., 1, 0, 1], dtype=torch.uint8), tensor([1, 1, 0,  ..., 1, 0, 1], dtype=torch.uint8), tensor([1, 1, 0,  ..., 1, 0, 1], dtype=torch.uint8), tensor([1, 1, 0,  ..., 1, 0, 1], dtype=torch.uint8), tensor([1, 1, 0,  ..., 1, 0, 1], dtype=torch.uint8), tensor([1, 1, 0,  ..., 1, 0, 1], dtype=torch.uint8), tensor([1, 1, 0,  ..., 1, 0, 1], dtype=torch.uint8), tensor([1, 1, 0,  ..., 1, 0, 1], dtype=torch.uint8), tensor([1, 1, 0,  ..., 1, 0, 1], dtype=torch.uint8), tensor([1, 1, 0,  ..., 1, 0, 1], dtype=torch.uint8), tensor([1, 1, 0,  ..., 1, 0, 1], dtype=torch.uint8), tensor([1, 1, 0,  ..., 1, 0, 1], dtype=torch.uint8), tensor([1, 1, 0,  ..., 1, 0, 1], dtype=torch.uint8), tensor([1, 1, 0,  ..., 1, 0, 1], dtype=torch.uint8), tensor([1, 1, 0,  ..., 1, 0, 1], dtype=torch.uint8), tensor([1, 1, 0,  ..., 1, 0, 1], dtype=torch.uint8), tensor([1, 1, 0,  ..., 1, 0, 1], dtype=torch.uint8), tensor([1, 1, 0,  ..., 1, 0, 1], dtype=torch.uint8), tensor([1, 1, 0,  ..., 1, 0, 1], dtype=torch.uint8), tensor([1, 1, 0,  ..., 1, 0, 1], dtype=torch.uint8), tensor([1, 1, 0,  ..., 1, 0, 1], dtype=torch.uint8), tensor([1, 1, 0,  ..., 1, 0, 1], dtype=torch.uint8), tensor([1, 1, 0,  ..., 1, 0, 1], dtype=torch.uint8), tensor([1, 1, 0,  ..., 1, 0, 1], dtype=torch.uint8), tensor([1, 1, 0,  ..., 1, 0, 1], dtype=torch.uint8), tensor([1, 1, 0,  ..., 1, 0, 1], dtype=torch.uint8), tensor([1, 1, 0,  ..., 1, 0, 1], dtype=torch.uint8), tensor([1, 1, 0,  ..., 1, 0, 1], dtype=torch.uint8), tensor([1, 1, 0,  ..., 1, 0, 1], dtype=torch.uint8), tensor([1, 1, 0,  ..., 1, 0, 1], dtype=torch.uint8), tensor([1, 1, 0,  ..., 1, 0, 1], dtype=torch.uint8), tensor([1, 1, 0,  ..., 1, 0, 1], dtype=torch.uint8), tensor([1, 1, 0,  ..., 1, 0, 1], dtype=torch.uint8), tensor([1, 1, 0,  ..., 1, 0, 1], dtype=torch.uint8), tensor([1, 1, 0,  ..., 1, 0, 1], dtype=torch.uint8), tensor([1, 1, 0,  ..., 1, 0, 1], dtype=torch.uint8), tensor([1, 1, 0,  ..., 1, 0, 1], dtype=torch.uint8), tensor([1, 1, 0,  ..., 1, 0, 1], dtype=torch.uint8), tensor([1, 1, 0,  ..., 1, 0, 1], dtype=torch.uint8), tensor([1, 1, 0,  ..., 1, 0, 1], dtype=torch.uint8), tensor([1, 1, 0,  ..., 1, 0, 1], dtype=torch.uint8), tensor([1, 1, 0,  ..., 1, 0, 1], dtype=torch.uint8), tensor([1, 1, 0,  ..., 1, 0, 1], dtype=torch.uint8), tensor([1, 1, 0,  ..., 1, 0, 1], dtype=torch.uint8), tensor([1, 1, 0,  ..., 1, 0, 1], dtype=torch.uint8), tensor([1, 1, 0,  ..., 1, 0, 1], dtype=torch.uint8), tensor([1, 1, 0,  ..., 1, 0, 1], dtype=torch.uint8), tensor([1, 1, 0,  ..., 1, 0, 1], dtype=torch.uint8), tensor([1, 1, 0,  ..., 1, 0, 1], dtype=torch.uint8), tensor([1, 1, 0,  ..., 1, 0, 1], dtype=torch.uint8), tensor([1, 1, 0,  ..., 1, 0, 1], dtype=torch.uint8), tensor([1, 1, 0,  ..., 1, 0, 1], dtype=torch.uint8), tensor([1, 1, 0,  ..., 1, 0, 1], dtype=torch.uint8), tensor([1, 1, 0,  ..., 1, 0, 1], dtype=torch.uint8), tensor([1, 1, 0,  ..., 1, 0, 1], dtype=torch.uint8), tensor([1, 1, 0,  ..., 1, 0, 1], dtype=torch.uint8), tensor([1, 1, 0,  ..., 1, 0, 1], dtype=torch.uint8), tensor([1, 1, 0,  ..., 1, 0, 1], dtype=torch.uint8), tensor([1, 1, 0,  ..., 1, 0, 1], dtype=torch.uint8), tensor([1, 1, 0,  ..., 1, 0, 1], dtype=torch.uint8), tensor([1, 1, 0,  ..., 1, 0, 1], dtype=torch.uint8), tensor([1, 1, 0,  ..., 1, 0, 1], dtype=torch.uint8), tensor([1, 1, 0,  ..., 1, 0, 1], dtype=torch.uint8), tensor([1, 1, 0,  ..., 1, 0, 1], dtype=torch.uint8), tensor([1, 1, 0,  ..., 1, 0, 1], dtype=torch.uint8), tensor([1, 1, 0,  ..., 1, 0, 1], dtype=torch.uint8), tensor([1, 1, 0,  ..., 1, 0, 1], dtype=torch.uint8), tensor([1, 1, 0,  ..., 1, 0, 1], dtype=torch.uint8), tensor([1, 1, 0,  ..., 1, 0, 1], dtype=torch.uint8), tensor([1, 1, 0,  ..., 1, 0, 1], dtype=torch.uint8), tensor([1, 1, 0,  ..., 1, 0, 1], dtype=torch.uint8), tensor([1, 1, 0,  ..., 1, 0, 1], dtype=torch.uint8), tensor([1, 1, 0,  ..., 1, 0, 1], dtype=torch.uint8), tensor([1, 1, 0,  ..., 1, 0, 1], dtype=torch.uint8), tensor([1, 1, 0,  ..., 1, 0, 1], dtype=torch.uint8), tensor([1, 1, 0,  ..., 1, 0, 1], dtype=torch.uint8), tensor([1, 1, 0,  ..., 1, 0, 1], dtype=torch.uint8), tensor([1, 1, 0,  ..., 1, 0, 1], dtype=torch.uint8), tensor([1, 1, 0,  ..., 1, 0, 1], dtype=torch.uint8), tensor([1, 1, 0,  ..., 1, 0, 1], dtype=torch.uint8), tensor([1, 1, 0,  ..., 1, 0, 1], dtype=torch.uint8), tensor([1, 1, 0,  ..., 1, 0, 1], dtype=torch.uint8), tensor([1, 1, 0,  ..., 1, 0, 1], dtype=torch.uint8), tensor([1, 1, 0,  ..., 1, 0, 1], dtype=torch.uint8), tensor([1, 1, 0,  ..., 1, 0, 1], dtype=torch.uint8), tensor([1, 1, 0,  ..., 1, 0, 1], dtype=torch.uint8), tensor([1, 1, 0,  ..., 1, 0, 1], dtype=torch.uint8), tensor([1, 1, 0,  ..., 1, 0, 1], dtype=torch.uint8), tensor([1, 1, 0,  ..., 1, 0, 1], dtype=torch.uint8), tensor([1, 1, 0,  ..., 1, 0, 1], dtype=torch.uint8), tensor([1, 1, 0,  ..., 1, 0, 1], dtype=torch.uint8), tensor([1, 1, 0,  ..., 1, 0, 1], dtype=torch.uint8), tensor([1, 1, 0,  ..., 1, 0, 1], dtype=torch.uint8), tensor([1, 1, 0,  ..., 1, 0, 1], dtype=torch.uint8), tensor([1, 1, 0,  ..., 1, 0, 1], dtype=torch.uint8), tensor([1, 1, 0,  ..., 1, 0, 1], dtype=torch.uint8), tensor([1, 1, 0,  ..., 1, 0, 1], dtype=torch.uint8), tensor([1, 1, 0,  ..., 1, 0, 1], dtype=torch.uint8), tensor([1, 1, 0,  ..., 1, 0, 1], dtype=torch.uint8), tensor([1, 1, 0,  ..., 1, 0, 1], dtype=torch.uint8), tensor([1, 1, 0,  ..., 1, 0, 1], dtype=torch.uint8), tensor([1, 1, 0,  ..., 1, 0, 1], dtype=torch.uint8), tensor([1, 1, 0,  ..., 1, 0, 1], dtype=torch.uint8), tensor([1, 1, 0,  ..., 1, 0, 1], dtype=torch.uint8), tensor([1, 1, 0,  ..., 1, 0, 1], dtype=torch.uint8), tensor([1, 1, 0,  ..., 1, 0, 1], dtype=torch.uint8), tensor([1, 1, 0,  ..., 1, 0, 1], dtype=torch.uint8), tensor([1, 1, 0,  ..., 1, 0, 1], dtype=torch.uint8), tensor([1, 1, 0,  ..., 1, 0, 1], dtype=torch.uint8), tensor([1, 1, 0,  ..., 1, 0, 1], dtype=torch.uint8), tensor([1, 1, 0,  ..., 1, 0, 1], dtype=torch.uint8), tensor([1, 1, 0,  ..., 1, 0, 1], dtype=torch.uint8), tensor([1, 1, 0,  ..., 1, 0, 1], dtype=torch.uint8), tensor([1, 1, 0,  ..., 1, 0, 1], dtype=torch.uint8), tensor([1, 1, 0,  ..., 1, 0, 1], dtype=torch.uint8), tensor([1, 1, 0,  ..., 1, 0, 1], dtype=torch.uint8), tensor([1, 1, 0,  ..., 1, 0, 1], dtype=torch.uint8), tensor([1, 1, 0,  ..., 1, 0, 1], dtype=torch.uint8), tensor([1, 1, 0,  ..., 1, 0, 1], dtype=torch.uint8), tensor([1, 1, 0,  ..., 1, 0, 1], dtype=torch.uint8), tensor([1, 1, 0,  ..., 1, 0, 1], dtype=torch.uint8), tensor([1, 1, 0,  ..., 1, 0, 1], dtype=torch.uint8), tensor([1, 1, 0,  ..., 1, 0, 1], dtype=torch.uint8), tensor([1, 1, 0,  ..., 1, 0, 1], dtype=torch.uint8), tensor([1, 1, 0,  ..., 1, 0, 1], dtype=torch.uint8), tensor([1, 1, 0,  ..., 1, 0, 1], dtype=torch.uint8), tensor([1, 1, 0,  ..., 1, 0, 1], dtype=torch.uint8), tensor([1, 1, 0,  ..., 1, 0, 1], dtype=torch.uint8), tensor([1, 1, 0,  ..., 1, 0, 1], dtype=torch.uint8), tensor([1, 1, 0,  ..., 1, 0, 1], dtype=torch.uint8), tensor([1, 1, 0,  ..., 1, 0, 1], dtype=torch.uint8), tensor([1, 1, 0,  ..., 1, 0, 1], dtype=torch.uint8), tensor([1, 1, 0,  ..., 1, 0, 1], dtype=torch.uint8), tensor([1, 1, 0,  ..., 1, 0, 1], dtype=torch.uint8), tensor([1, 1, 0,  ..., 1, 0, 1], dtype=torch.uint8), tensor([1, 1, 0,  ..., 1, 0, 1], dtype=torch.uint8), tensor([1, 1, 0,  ..., 1, 0, 1], dtype=torch.uint8), tensor([1, 1, 0,  ..., 1, 0, 1], dtype=torch.uint8), tensor([1, 1, 0,  ..., 1, 0, 1], dtype=torch.uint8), tensor([1, 1, 0,  ..., 1, 0, 1], dtype=torch.uint8), tensor([1, 1, 0,  ..., 1, 0, 1], dtype=torch.uint8), tensor([1, 1, 0,  ..., 1, 0, 1], dtype=torch.uint8), tensor([1, 1, 0,  ..., 1, 0, 1], dtype=torch.uint8), tensor([1, 1, 0,  ..., 1, 0, 1], dtype=torch.uint8), tensor([1, 1, 0,  ..., 1, 0, 1], dtype=torch.uint8), tensor([1, 1, 0,  ..., 1, 0, 1], dtype=torch.uint8), tensor([1, 1, 0,  ..., 1, 0, 1], dtype=torch.uint8), tensor([1, 1, 0,  ..., 1, 0, 1], dtype=torch.uint8), tensor([1, 1, 0,  ..., 1, 0, 1], dtype=torch.uint8), tensor([1, 1, 0,  ..., 1, 0, 1], dtype=torch.uint8), tensor([1, 1, 0,  ..., 1, 0, 1], dtype=torch.uint8), tensor([1, 1, 0,  ..., 1, 0, 1], dtype=torch.uint8), tensor([1, 1, 0,  ..., 1, 0, 1], dtype=torch.uint8), tensor([1, 1, 0,  ..., 1, 0, 1], dtype=torch.uint8), tensor([1, 1, 0,  ..., 1, 0, 1], dtype=torch.uint8), tensor([1, 1, 0,  ..., 1, 0, 1], dtype=torch.uint8), tensor([1, 1, 0,  ..., 1, 0, 1], dtype=torch.uint8), tensor([1, 1, 0,  ..., 1, 0, 1], dtype=torch.uint8), tensor([1, 1, 0,  ..., 1, 0, 1], dtype=torch.uint8), tensor([1, 1, 0,  ..., 1, 0, 1], dtype=torch.uint8), tensor([1, 1, 0,  ..., 1, 0, 1], dtype=torch.uint8), tensor([1, 1, 0,  ..., 1, 0, 1], dtype=torch.uint8), tensor([1, 1, 0,  ..., 1, 0, 1], dtype=torch.uint8), tensor([1, 1, 0,  ..., 1, 0, 1], dtype=torch.uint8), tensor([1, 1, 0,  ..., 1, 0, 1], dtype=torch.uint8), tensor([1, 1, 0,  ..., 1, 0, 1], dtype=torch.uint8), tensor([1, 1, 0,  ..., 1, 0, 1], dtype=torch.uint8), tensor([1, 1, 0,  ..., 1, 0, 1], dtype=torch.uint8), tensor([1, 1, 0,  ..., 1, 0, 1], dtype=torch.uint8), tensor([1, 1, 0,  ..., 1, 0, 1], dtype=torch.uint8), tensor([1, 1, 0,  ..., 1, 0, 1], dtype=torch.uint8), tensor([1, 1, 0,  ..., 1, 0, 1], dtype=torch.uint8), tensor([1, 1, 0,  ..., 1, 0, 1], dtype=torch.uint8), tensor([1, 1, 0,  ..., 1, 0, 1], dtype=torch.uint8), tensor([1, 1, 0,  ..., 1, 0, 1], dtype=torch.uint8), tensor([1, 1, 0,  ..., 1, 0, 1], dtype=torch.uint8), tensor([1, 1, 0,  ..., 1, 0, 1], dtype=torch.uint8), tensor([1, 1, 0,  ..., 1, 0, 1], dtype=torch.uint8), tensor([1, 1, 0,  ..., 1, 0, 1], dtype=torch.uint8), tensor([1, 1, 0,  ..., 1, 0, 1], dtype=torch.uint8), tensor([1, 1, 0,  ..., 1, 0, 1], dtype=torch.uint8), tensor([1, 1, 0,  ..., 1, 0, 1], dtype=torch.uint8), tensor([1, 1, 0,  ..., 1, 0, 1], dtype=torch.uint8), tensor([1, 1, 0,  ..., 1, 0, 1], dtype=torch.uint8), tensor([1, 1, 0,  ..., 1, 0, 1], dtype=torch.uint8), tensor([1, 1, 0,  ..., 1, 0, 1], dtype=torch.uint8), tensor([1, 1, 0,  ..., 1, 0, 1], dtype=torch.uint8), tensor([1, 1, 0,  ..., 1, 0, 1], dtype=torch.uint8), tensor([1, 1, 0,  ..., 1, 0, 1], dtype=torch.uint8), tensor([1, 1, 0,  ..., 1, 0, 1], dtype=torch.uint8), tensor([1, 1, 0,  ..., 1, 0, 1], dtype=torch.uint8), tensor([1, 1, 0,  ..., 1, 0, 1], dtype=torch.uint8), tensor([1, 1, 0,  ..., 1, 0, 1], dtype=torch.uint8), tensor([1, 1, 0,  ..., 1, 0, 1], dtype=torch.uint8), tensor([1, 1, 0,  ..., 1, 0, 1], dtype=torch.uint8), tensor([1, 1, 0,  ..., 1, 0, 1], dtype=torch.uint8), tensor([1, 1, 0,  ..., 1, 0, 1], dtype=torch.uint8), tensor([1, 1, 0,  ..., 1, 0, 1], dtype=torch.uint8), tensor([1, 1, 0,  ..., 1, 0, 1], dtype=torch.uint8), tensor([1, 1, 0,  ..., 1, 0, 1], dtype=torch.uint8), tensor([1, 1, 0,  ..., 1, 0, 1], dtype=torch.uint8), tensor([1, 1, 0,  ..., 1, 0, 1], dtype=torch.uint8), tensor([1, 1, 0,  ..., 1, 0, 1], dtype=torch.uint8), tensor([1, 1, 0,  ..., 1, 0, 1], dtype=torch.uint8), tensor([1, 1, 0,  ..., 1, 0, 1], dtype=torch.uint8), tensor([1, 1, 0,  ..., 1, 0, 1], dtype=torch.uint8), tensor([1, 1, 0,  ..., 1, 0, 1], dtype=torch.uint8), tensor([1, 1, 0,  ..., 1, 0, 1], dtype=torch.uint8), tensor([1, 1, 0,  ..., 1, 0, 1], dtype=torch.uint8), tensor([1, 1, 0,  ..., 1, 0, 1], dtype=torch.uint8), tensor([1, 1, 0,  ..., 1, 0, 1], dtype=torch.uint8), tensor([1, 1, 0,  ..., 1, 0, 1], dtype=torch.uint8), tensor([1, 1, 0,  ..., 1, 0, 1], dtype=torch.uint8), tensor([1, 1, 0,  ..., 1, 0, 1], dtype=torch.uint8), tensor([1, 1, 0,  ..., 1, 0, 1], dtype=torch.uint8), tensor([1, 1, 0,  ..., 1, 0, 1], dtype=torch.uint8), tensor([1, 1, 0,  ..., 1, 0, 1], dtype=torch.uint8), tensor([1, 1, 0,  ..., 1, 0, 1], dtype=torch.uint8), tensor([1, 1, 0,  ..., 1, 0, 1], dtype=torch.uint8), tensor([1, 1, 0,  ..., 1, 0, 1], dtype=torch.uint8), tensor([1, 1, 0,  ..., 1, 0, 1], dtype=torch.uint8), tensor([1, 1, 0,  ..., 1, 0, 1], dtype=torch.uint8), tensor([1, 1, 0,  ..., 1, 0, 1], dtype=torch.uint8), tensor([1, 1, 0,  ..., 1, 0, 1], dtype=torch.uint8), tensor([1, 1, 0,  ..., 1, 0, 1], dtype=torch.uint8), tensor([1, 1, 0,  ..., 1, 0, 1], dtype=torch.uint8), tensor([1, 1, 0,  ..., 1, 0, 1], dtype=torch.uint8), tensor([1, 1, 0,  ..., 1, 0, 1], dtype=torch.uint8), tensor([1, 1, 0,  ..., 1, 0, 1], dtype=torch.uint8), tensor([1, 1, 0,  ..., 1, 0, 1], dtype=torch.uint8), tensor([1, 1, 0,  ..., 1, 0, 1], dtype=torch.uint8), tensor([1, 1, 0,  ..., 1, 0, 1], dtype=torch.uint8), tensor([1, 1, 0,  ..., 1, 0, 1], dtype=torch.uint8), tensor([1, 1, 0,  ..., 1, 0, 1], dtype=torch.uint8), tensor([1, 1, 0,  ..., 1, 0, 1], dtype=torch.uint8), tensor([1, 1, 0,  ..., 1, 0, 1], dtype=torch.uint8), tensor([1, 1, 0,  ..., 1, 0, 1], dtype=torch.uint8), tensor([1, 1, 0,  ..., 1, 0, 1], dtype=torch.uint8), tensor([1, 1, 0,  ..., 1, 0, 1], dtype=torch.uint8), tensor([1, 1, 0,  ..., 1, 0, 1], dtype=torch.uint8), tensor([1, 1, 0,  ..., 1, 0, 1], dtype=torch.uint8), tensor([1, 1, 0,  ..., 1, 0, 1], dtype=torch.uint8), tensor([1, 1, 0,  ..., 1, 0, 1], dtype=torch.uint8), tensor([1, 1, 0,  ..., 1, 0, 1], dtype=torch.uint8), tensor([1, 1, 0,  ..., 1, 0, 1], dtype=torch.uint8), tensor([1, 1, 0,  ..., 1, 0, 1], dtype=torch.uint8), tensor([1, 1, 0,  ..., 1, 0, 1], dtype=torch.uint8), tensor([1, 1, 0,  ..., 1, 0, 1], dtype=torch.uint8), tensor([1, 1, 0,  ..., 1, 0, 1], dtype=torch.uint8), tensor([1, 1, 0,  ..., 1, 0, 1], dtype=torch.uint8), tensor([1, 1, 0,  ..., 1, 0, 1], dtype=torch.uint8), tensor([1, 1, 0,  ..., 1, 0, 1], dtype=torch.uint8), tensor([1, 1, 0,  ..., 1, 0, 1], dtype=torch.uint8), tensor([1, 1, 0,  ..., 1, 0, 1], dtype=torch.uint8), tensor([1, 1, 0,  ..., 1, 0, 1], dtype=torch.uint8), tensor([1, 1, 0,  ..., 1, 0, 1], dtype=torch.uint8), tensor([1, 1, 0,  ..., 1, 0, 1], dtype=torch.uint8), tensor([1, 1, 0,  ..., 1, 0, 1], dtype=torch.uint8), tensor([1, 1, 0,  ..., 1, 0, 1], dtype=torch.uint8), tensor([1, 1, 0,  ..., 1, 0, 1], dtype=torch.uint8), tensor([1, 1, 0,  ..., 1, 0, 1], dtype=torch.uint8), tensor([1, 1, 0,  ..., 1, 0, 1], dtype=torch.uint8), tensor([1, 1, 0,  ..., 1, 0, 1], dtype=torch.uint8), tensor([1, 1, 0,  ..., 1, 0, 1], dtype=torch.uint8), tensor([1, 1, 0,  ..., 1, 0, 1], dtype=torch.uint8), tensor([1, 1, 0,  ..., 1, 0, 1], dtype=torch.uint8), tensor([1, 1, 0,  ..., 1, 0, 1], dtype=torch.uint8), tensor([1, 1, 0,  ..., 1, 0, 1], dtype=torch.uint8), tensor([1, 1, 0,  ..., 1, 0, 1], dtype=torch.uint8), tensor([1, 1, 0,  ..., 1, 0, 1], dtype=torch.uint8), tensor([1, 1, 0,  ..., 1, 0, 1], dtype=torch.uint8), tensor([1, 1, 0,  ..., 1, 0, 1], dtype=torch.uint8), tensor([1, 1, 0,  ..., 1, 0, 1], dtype=torch.uint8), tensor([1, 1, 0,  ..., 1, 0, 1], dtype=torch.uint8), tensor([1, 1, 0,  ..., 1, 0, 1], dtype=torch.uint8), tensor([1, 1, 0,  ..., 1, 0, 1], dtype=torch.uint8), tensor([1, 1, 0,  ..., 1, 0, 1], dtype=torch.uint8), tensor([1, 1, 0,  ..., 1, 0, 1], dtype=torch.uint8), tensor([1, 1, 0,  ..., 1, 0, 1], dtype=torch.uint8), tensor([1, 1, 0,  ..., 1, 0, 1], dtype=torch.uint8), tensor([1, 1, 0,  ..., 1, 0, 1], dtype=torch.uint8), tensor([1, 1, 0,  ..., 1, 0, 1], dtype=torch.uint8), tensor([1, 1, 0,  ..., 1, 0, 1], dtype=torch.uint8), tensor([1, 1, 0,  ..., 1, 0, 1], dtype=torch.uint8), tensor([1, 1, 0,  ..., 1, 0, 1], dtype=torch.uint8), tensor([1, 1, 0,  ..., 1, 0, 1], dtype=torch.uint8), tensor([1, 1, 0,  ..., 1, 0, 1], dtype=torch.uint8), tensor([1, 1, 0,  ..., 1, 0, 1], dtype=torch.uint8), tensor([1, 1, 0,  ..., 1, 0, 1], dtype=torch.uint8), tensor([1, 1, 0,  ..., 1, 0, 1], dtype=torch.uint8), tensor([1, 1, 0,  ..., 1, 0, 1], dtype=torch.uint8), tensor([1, 1, 0,  ..., 1, 0, 1], dtype=torch.uint8), tensor([1, 1, 0,  ..., 1, 0, 1], dtype=torch.uint8), tensor([1, 1, 0,  ..., 1, 0, 1], dtype=torch.uint8), tensor([1, 1, 0,  ..., 1, 0, 1], dtype=torch.uint8), tensor([1, 1, 0,  ..., 1, 0, 1], dtype=torch.uint8), tensor([1, 1, 0,  ..., 1, 0, 1], dtype=torch.uint8), tensor([1, 1, 0,  ..., 1, 0, 1], dtype=torch.uint8), tensor([1, 1, 0,  ..., 1, 0, 1], dtype=torch.uint8), tensor([1, 1, 0,  ..., 1, 0, 1], dtype=torch.uint8), tensor([1, 1, 0,  ..., 1, 0, 1], dtype=torch.uint8), tensor([1, 1, 0,  ..., 1, 0, 1], dtype=torch.uint8), tensor([1, 1, 0,  ..., 1, 0, 1], dtype=torch.uint8), tensor([1, 1, 0,  ..., 1, 0, 1], dtype=torch.uint8), tensor([1, 1, 0,  ..., 1, 0, 1], dtype=torch.uint8), tensor([1, 1, 0,  ..., 1, 0, 1], dtype=torch.uint8), tensor([1, 1, 0,  ..., 1, 0, 1], dtype=torch.uint8), tensor([1, 1, 0,  ..., 1, 0, 1], dtype=torch.uint8), tensor([1, 1, 0,  ..., 1, 0, 1], dtype=torch.uint8), tensor([1, 1, 0,  ..., 1, 0, 1], dtype=torch.uint8), tensor([1, 1, 0,  ..., 1, 0, 1], dtype=torch.uint8), tensor([1, 1, 0,  ..., 1, 0, 1], dtype=torch.uint8), tensor([1, 1, 0,  ..., 1, 0, 1], dtype=torch.uint8), tensor([1, 1, 0,  ..., 1, 0, 1], dtype=torch.uint8), tensor([1, 1, 0,  ..., 1, 0, 1], dtype=torch.uint8), tensor([1, 1, 0,  ..., 1, 0, 1], dtype=torch.uint8), tensor([1, 1, 0,  ..., 1, 0, 1], dtype=torch.uint8), tensor([1, 1, 0,  ..., 1, 0, 1], dtype=torch.uint8), tensor([1, 1, 0,  ..., 1, 0, 1], dtype=torch.uint8), tensor([1, 1, 0,  ..., 1, 0, 1], dtype=torch.uint8), tensor([1, 1, 0,  ..., 1, 0, 1], dtype=torch.uint8), tensor([1, 1, 0,  ..., 1, 0, 1], dtype=torch.uint8), tensor([1, 1, 0,  ..., 1, 0, 1], dtype=torch.uint8), tensor([1, 1, 0,  ..., 1, 0, 1], dtype=torch.uint8), tensor([1, 1, 0,  ..., 1, 0, 1], dtype=torch.uint8), tensor([1, 1, 0,  ..., 1, 0, 1], dtype=torch.uint8), tensor([1, 1, 0,  ..., 1, 0, 1], dtype=torch.uint8), tensor([1, 1, 0,  ..., 1, 0, 1], dtype=torch.uint8), tensor([1, 1, 0,  ..., 1, 0, 1], dtype=torch.uint8), tensor([1, 1, 0,  ..., 1, 0, 1], dtype=torch.uint8), tensor([1, 1, 0,  ..., 1, 0, 1], dtype=torch.uint8), tensor([1, 1, 0,  ..., 1, 0, 1], dtype=torch.uint8), tensor([1, 1, 0,  ..., 1, 0, 1], dtype=torch.uint8), tensor([1, 1, 0,  ..., 1, 0, 1], dtype=torch.uint8), tensor([1, 1, 0,  ..., 1, 0, 1], dtype=torch.uint8), tensor([1, 1, 0,  ..., 1, 0, 1], dtype=torch.uint8), tensor([1, 1, 0,  ..., 1, 0, 1], dtype=torch.uint8), tensor([1, 1, 0,  ..., 1, 0, 1], dtype=torch.uint8), tensor([1, 1, 0,  ..., 1, 0, 1], dtype=torch.uint8), tensor([1, 1, 0,  ..., 1, 0, 1], dtype=torch.uint8), tensor([1, 1, 0,  ..., 1, 0, 1], dtype=torch.uint8), tensor([1, 1, 0,  ..., 1, 0, 1], dtype=torch.uint8), tensor([1, 1, 0,  ..., 1, 0, 1], dtype=torch.uint8), tensor([1, 1, 0,  ..., 1, 0, 1], dtype=torch.uint8), tensor([1, 1, 0,  ..., 1, 0, 1], dtype=torch.uint8), tensor([1, 1, 0,  ..., 1, 0, 1], dtype=torch.uint8), tensor([1, 1, 0,  ..., 1, 0, 1], dtype=torch.uint8), tensor([1, 1, 0,  ..., 1, 0, 1], dtype=torch.uint8), tensor([1, 1, 0,  ..., 1, 0, 1], dtype=torch.uint8), tensor([1, 1, 0,  ..., 1, 0, 1], dtype=torch.uint8), tensor([1, 1, 0,  ..., 1, 0, 1], dtype=torch.uint8), tensor([1, 1, 0,  ..., 1, 0, 1], dtype=torch.uint8), tensor([1, 1, 0,  ..., 1, 0, 1], dtype=torch.uint8), tensor([1, 1, 0,  ..., 1, 0, 1], dtype=torch.uint8), tensor([1, 1, 0,  ..., 1, 0, 1], dtype=torch.uint8), tensor([1, 1, 0,  ..., 1, 0, 1], dtype=torch.uint8), tensor([1, 1, 0,  ..., 1, 0, 1], dtype=torch.uint8), tensor([1, 1, 0,  ..., 1, 0, 1], dtype=torch.uint8), tensor([1, 1, 0,  ..., 1, 0, 1], dtype=torch.uint8), tensor([1, 1, 0,  ..., 1, 0, 1], dtype=torch.uint8), tensor([1, 1, 0,  ..., 1, 0, 1], dtype=torch.uint8), tensor([1, 1, 0,  ..., 1, 0, 1], dtype=torch.uint8), tensor([1, 1, 0,  ..., 1, 0, 1], dtype=torch.uint8), tensor([1, 1, 0,  ..., 1, 0, 1], dtype=torch.uint8), tensor([1, 1, 0,  ..., 1, 0, 1], dtype=torch.uint8), tensor([1, 1, 0,  ..., 1, 0, 1], dtype=torch.uint8), tensor([1, 1, 0,  ..., 1, 0, 1], dtype=torch.uint8), tensor([1, 1, 0,  ..., 1, 0, 1], dtype=torch.uint8), tensor([1, 1, 0,  ..., 1, 0, 1], dtype=torch.uint8), tensor([1, 1, 0,  ..., 1, 0, 1], dtype=torch.uint8), tensor([1, 1, 0,  ..., 1, 0, 1], dtype=torch.uint8), tensor([1, 1, 0,  ..., 1, 0, 1], dtype=torch.uint8), tensor([1, 1, 0,  ..., 1, 0, 1], dtype=torch.uint8), tensor([1, 1, 0,  ..., 1, 0, 1], dtype=torch.uint8), tensor([1, 1, 0,  ..., 1, 0, 1], dtype=torch.uint8), tensor([1, 1, 0,  ..., 1, 0, 1], dtype=torch.uint8), tensor([1, 1, 0,  ..., 1, 0, 1], dtype=torch.uint8), tensor([1, 1, 0,  ..., 1, 0, 1], dtype=torch.uint8), tensor([1, 1, 0,  ..., 1, 0, 1], dtype=torch.uint8), tensor([1, 1, 0,  ..., 1, 0, 1], dtype=torch.uint8), tensor([1, 1, 0,  ..., 1, 0, 1], dtype=torch.uint8), tensor([1, 1, 0,  ..., 1, 0, 1], dtype=torch.uint8), tensor([1, 1, 0,  ..., 1, 0, 1], dtype=torch.uint8), tensor([1, 1, 0,  ..., 1, 0, 1], dtype=torch.uint8), tensor([1, 1, 0,  ..., 1, 0, 1], dtype=torch.uint8), tensor([1, 1, 0,  ..., 1, 0, 1], dtype=torch.uint8), tensor([1, 1, 0,  ..., 1, 0, 1], dtype=torch.uint8), tensor([1, 1, 0,  ..., 1, 0, 1], dtype=torch.uint8), tensor([1, 1, 0,  ..., 1, 0, 1], dtype=torch.uint8), tensor([1, 1, 0,  ..., 1, 0, 1], dtype=torch.uint8), tensor([1, 1, 0,  ..., 1, 0, 1], dtype=torch.uint8), tensor([1, 1, 0,  ..., 1, 0, 1], dtype=torch.uint8), tensor([1, 1, 0,  ..., 1, 0, 1], dtype=torch.uint8), tensor([1, 1, 0,  ..., 1, 0, 1], dtype=torch.uint8), tensor([1, 1, 0,  ..., 1, 0, 1], dtype=torch.uint8), tensor([1, 1, 0,  ..., 1, 0, 1], dtype=torch.uint8), tensor([1, 1, 0,  ..., 1, 0, 1], dtype=torch.uint8), tensor([1, 1, 0,  ..., 1, 0, 1], dtype=torch.uint8), tensor([1, 1, 0,  ..., 1, 0, 1], dtype=torch.uint8), tensor([1, 1, 0,  ..., 1, 0, 1], dtype=torch.uint8), tensor([1, 1, 0,  ..., 1, 0, 1], dtype=torch.uint8), tensor([1, 1, 0,  ..., 1, 0, 1], dtype=torch.uint8), tensor([1, 1, 0,  ..., 1, 0, 1], dtype=torch.uint8), tensor([1, 1, 0,  ..., 1, 0, 1], dtype=torch.uint8), tensor([1, 1, 0,  ..., 1, 0, 1], dtype=torch.uint8), tensor([1, 1, 0,  ..., 1, 0, 1], dtype=torch.uint8), tensor([1, 1, 0,  ..., 1, 0, 1], dtype=torch.uint8), tensor([1, 1, 0,  ..., 1, 0, 1], dtype=torch.uint8), tensor([1, 1, 0,  ..., 1, 0, 1], dtype=torch.uint8), tensor([1, 1, 0,  ..., 1, 0, 1], dtype=torch.uint8), tensor([1, 1, 0,  ..., 1, 0, 1], dtype=torch.uint8), tensor([1, 1, 0,  ..., 1, 0, 1], dtype=torch.uint8), tensor([1, 1, 0,  ..., 1, 0, 1], dtype=torch.uint8), tensor([1, 1, 0,  ..., 1, 0, 1], dtype=torch.uint8), tensor([1, 1, 0,  ..., 1, 0, 1], dtype=torch.uint8), tensor([1, 1, 0,  ..., 1, 0, 1], dtype=torch.uint8), tensor([1, 1, 0,  ..., 1, 0, 1], dtype=torch.uint8), tensor([1, 1, 0,  ..., 1, 0, 1], dtype=torch.uint8), tensor([1, 1, 0,  ..., 1, 0, 1], dtype=torch.uint8), tensor([1, 1, 0,  ..., 1, 0, 1], dtype=torch.uint8), tensor([1, 1, 0,  ..., 1, 0, 1], dtype=torch.uint8), tensor([1, 1, 0,  ..., 1, 0, 1], dtype=torch.uint8), tensor([1, 1, 0,  ..., 1, 0, 1], dtype=torch.uint8), tensor([1, 1, 0,  ..., 1, 0, 1], dtype=torch.uint8), tensor([1, 1, 0,  ..., 1, 0, 1], dtype=torch.uint8), tensor([1, 1, 0,  ..., 1, 0, 1], dtype=torch.uint8), tensor([1, 1, 0,  ..., 1, 0, 1], dtype=torch.uint8), tensor([1, 1, 0,  ..., 1, 0, 1], dtype=torch.uint8), tensor([1, 1, 0,  ..., 1, 0, 1], dtype=torch.uint8), tensor([1, 1, 0,  ..., 1, 0, 1], dtype=torch.uint8), tensor([1, 1, 0,  ..., 1, 0, 1], dtype=torch.uint8), tensor([1, 1, 0,  ..., 1, 0, 1], dtype=torch.uint8), tensor([1, 1, 0,  ..., 1, 0, 1], dtype=torch.uint8), tensor([1, 1, 0,  ..., 1, 0, 1], dtype=torch.uint8), tensor([1, 1, 0,  ..., 1, 0, 1], dtype=torch.uint8), tensor([1, 1, 0,  ..., 1, 0, 1], dtype=torch.uint8), tensor([1, 1, 0,  ..., 1, 0, 1], dtype=torch.uint8), tensor([1, 1, 0,  ..., 1, 0, 1], dtype=torch.uint8), tensor([1, 1, 0,  ..., 1, 0, 1], dtype=torch.uint8), tensor([1, 1, 0,  ..., 1, 0, 1], dtype=torch.uint8), tensor([1, 1, 0,  ..., 1, 0, 1], dtype=torch.uint8), tensor([1, 1, 0,  ..., 1, 0, 1], dtype=torch.uint8), tensor([1, 1, 0,  ..., 1, 0, 1], dtype=torch.uint8), tensor([1, 1, 0,  ..., 1, 0, 1], dtype=torch.uint8), tensor([1, 1, 0,  ..., 1, 0, 1], dtype=torch.uint8), tensor([1, 1, 0,  ..., 1, 0, 1], dtype=torch.uint8), tensor([1, 1, 0,  ..., 1, 0, 1], dtype=torch.uint8), tensor([1, 1, 0,  ..., 1, 0, 1], dtype=torch.uint8), tensor([1, 1, 0,  ..., 1, 0, 1], dtype=torch.uint8), tensor([1, 1, 0,  ..., 1, 0, 1], dtype=torch.uint8), tensor([1, 1, 0,  ..., 1, 0, 1], dtype=torch.uint8), tensor([1, 1, 0,  ..., 1, 0, 1], dtype=torch.uint8), tensor([1, 1, 0,  ..., 1, 0, 1], dtype=torch.uint8), tensor([1, 1, 0,  ..., 1, 0, 1], dtype=torch.uint8), tensor([1, 1, 0,  ..., 1, 0, 1], dtype=torch.uint8), tensor([1, 1, 0,  ..., 1, 0, 1], dtype=torch.uint8), tensor([1, 1, 0,  ..., 1, 0, 1], dtype=torch.uint8), tensor([1, 1, 0,  ..., 1, 0, 1], dtype=torch.uint8), tensor([1, 1, 0,  ..., 1, 0, 1], dtype=torch.uint8), tensor([1, 1, 0,  ..., 1, 0, 1], dtype=torch.uint8), tensor([1, 1, 0,  ..., 1, 0, 1], dtype=torch.uint8), tensor([1, 1, 0,  ..., 1, 0, 1], dtype=torch.uint8), tensor([1, 1, 0,  ..., 1, 0, 1], dtype=torch.uint8), tensor([1, 1, 0,  ..., 1, 0, 1], dtype=torch.uint8), tensor([1, 1, 0,  ..., 1, 0, 1], dtype=torch.uint8), tensor([1, 1, 0,  ..., 1, 0, 1], dtype=torch.uint8), tensor([1, 1, 0,  ..., 1, 0, 1], dtype=torch.uint8), tensor([1, 1, 0,  ..., 1, 0, 1], dtype=torch.uint8), tensor([1, 1, 0,  ..., 1, 0, 1], dtype=torch.uint8), tensor([1, 1, 0,  ..., 1, 0, 1], dtype=torch.uint8), tensor([1, 1, 0,  ..., 1, 0, 1], dtype=torch.uint8), tensor([1, 1, 0,  ..., 1, 0, 1], dtype=torch.uint8), tensor([1, 1, 0,  ..., 1, 0, 1], dtype=torch.uint8), tensor([1, 1, 0,  ..., 1, 0, 1], dtype=torch.uint8), tensor([1, 1, 0,  ..., 1, 0, 1], dtype=torch.uint8), tensor([1, 1, 0,  ..., 1, 0, 1], dtype=torch.uint8), tensor([1, 1, 0,  ..., 1, 0, 1], dtype=torch.uint8), tensor([1, 1, 0,  ..., 1, 0, 1], dtype=torch.uint8), tensor([1, 1, 0,  ..., 1, 0, 1], dtype=torch.uint8), tensor([1, 1, 0,  ..., 1, 0, 1], dtype=torch.uint8), tensor([1, 1, 0,  ..., 1, 0, 1], dtype=torch.uint8), tensor([1, 1, 0,  ..., 1, 0, 1], dtype=torch.uint8), tensor([1, 1, 0,  ..., 1, 0, 1], dtype=torch.uint8), tensor([1, 1, 0,  ..., 1, 0, 1], dtype=torch.uint8), tensor([1, 1, 0,  ..., 1, 0, 1], dtype=torch.uint8), tensor([1, 1, 0,  ..., 1, 0, 1], dtype=torch.uint8), tensor([1, 1, 0,  ..., 1, 0, 1], dtype=torch.uint8), tensor([1, 1, 0,  ..., 1, 0, 1], dtype=torch.uint8), tensor([1, 1, 0,  ..., 1, 0, 1], dtype=torch.uint8), tensor([1, 1, 0,  ..., 1, 0, 1], dtype=torch.uint8), tensor([1, 1, 0,  ..., 1, 0, 1], dtype=torch.uint8), tensor([1, 1, 0,  ..., 1, 0, 1], dtype=torch.uint8), tensor([1, 1, 0,  ..., 1, 0, 1], dtype=torch.uint8), tensor([1, 1, 0,  ..., 1, 0, 1], dtype=torch.uint8), tensor([1, 1, 0,  ..., 1, 0, 1], dtype=torch.uint8), tensor([1, 1, 0,  ..., 1, 0, 1], dtype=torch.uint8), tensor([1, 1, 0,  ..., 1, 0, 1], dtype=torch.uint8), tensor([1, 1, 0,  ..., 1, 0, 1], dtype=torch.uint8), tensor([1, 1, 0,  ..., 1, 0, 1], dtype=torch.uint8), tensor([1, 1, 0,  ..., 1, 0, 1], dtype=torch.uint8), tensor([1, 1, 0,  ..., 1, 0, 1], dtype=torch.uint8), tensor([1, 1, 0,  ..., 1, 0, 1], dtype=torch.uint8), tensor([1, 1, 0,  ..., 1, 0, 1], dtype=torch.uint8), tensor([1, 1, 0,  ..., 1, 0, 1], dtype=torch.uint8), tensor([1, 1, 0,  ..., 1, 0, 1], dtype=torch.uint8), tensor([1, 1, 0,  ..., 1, 0, 1], dtype=torch.uint8), tensor([1, 1, 0,  ..., 1, 0, 1], dtype=torch.uint8), tensor([1, 1, 0,  ..., 1, 0, 1], dtype=torch.uint8), tensor([1, 1, 0,  ..., 1, 0, 1], dtype=torch.uint8), tensor([1, 1, 0,  ..., 1, 0, 1], dtype=torch.uint8), tensor([1, 1, 0,  ..., 1, 0, 1], dtype=torch.uint8), tensor([1, 1, 0,  ..., 1, 0, 1], dtype=torch.uint8), tensor([1, 1, 0,  ..., 1, 0, 1], dtype=torch.uint8), tensor([1, 1, 0,  ..., 1, 0, 1], dtype=torch.uint8), tensor([1, 1, 0,  ..., 1, 0, 1], dtype=torch.uint8), tensor([1, 1, 0,  ..., 1, 0, 1], dtype=torch.uint8), tensor([1, 1, 0,  ..., 1, 0, 1], dtype=torch.uint8), tensor([1, 1, 0,  ..., 1, 0, 1], dtype=torch.uint8), tensor([1, 1, 0,  ..., 1, 0, 1], dtype=torch.uint8), tensor([1, 1, 0,  ..., 1, 0, 1], dtype=torch.uint8), tensor([1, 1, 0,  ..., 1, 0, 1], dtype=torch.uint8), tensor([1, 1, 0,  ..., 1, 0, 1], dtype=torch.uint8), tensor([1, 1, 0,  ..., 1, 0, 1], dtype=torch.uint8), tensor([1, 1, 0,  ..., 1, 0, 1], dtype=torch.uint8), tensor([1, 1, 0,  ..., 1, 0, 1], dtype=torch.uint8), tensor([1, 1, 0,  ..., 1, 0, 1], dtype=torch.uint8), tensor([1, 1, 0,  ..., 1, 0, 1], dtype=torch.uint8), tensor([1, 1, 0,  ..., 1, 0, 1], dtype=torch.uint8), tensor([1, 1, 0,  ..., 1, 0, 1], dtype=torch.uint8), tensor([1, 1, 0,  ..., 1, 0, 1], dtype=torch.uint8), tensor([1, 1, 0,  ..., 1, 0, 1], dtype=torch.uint8), tensor([1, 1, 0,  ..., 1, 0, 1], dtype=torch.uint8), tensor([1, 1, 0,  ..., 1, 0, 1], dtype=torch.uint8), tensor([1, 1, 0,  ..., 1, 0, 1], dtype=torch.uint8), tensor([1, 1, 0,  ..., 1, 0, 1], dtype=torch.uint8), tensor([1, 1, 0,  ..., 1, 0, 1], dtype=torch.uint8), tensor([1, 1, 0,  ..., 1, 0, 1], dtype=torch.uint8), tensor([1, 1, 0,  ..., 1, 0, 1], dtype=torch.uint8), tensor([1, 1, 0,  ..., 1, 0, 1], dtype=torch.uint8), tensor([1, 1, 0,  ..., 1, 0, 1], dtype=torch.uint8), tensor([1, 1, 0,  ..., 1, 0, 1], dtype=torch.uint8), tensor([1, 1, 0,  ..., 1, 0, 1], dtype=torch.uint8), tensor([1, 1, 0,  ..., 1, 0, 1], dtype=torch.uint8), tensor([1, 1, 0,  ..., 1, 0, 1], dtype=torch.uint8), tensor([1, 1, 0,  ..., 1, 0, 1], dtype=torch.uint8), tensor([1, 1, 0,  ..., 1, 0, 1], dtype=torch.uint8), tensor([1, 1, 0,  ..., 1, 0, 1], dtype=torch.uint8), tensor([1, 1, 0,  ..., 1, 0, 1], dtype=torch.uint8), tensor([1, 1, 0,  ..., 1, 0, 1], dtype=torch.uint8), tensor([1, 1, 0,  ..., 1, 0, 1], dtype=torch.uint8), tensor([1, 1, 0,  ..., 1, 0, 1], dtype=torch.uint8), tensor([1, 1, 0,  ..., 1, 0, 1], dtype=torch.uint8), tensor([1, 1, 0,  ..., 1, 0, 1], dtype=torch.uint8), tensor([1, 1, 0,  ..., 1, 0, 1], dtype=torch.uint8), tensor([1, 1, 0,  ..., 1, 0, 1], dtype=torch.uint8), tensor([1, 1, 0,  ..., 1, 0, 1], dtype=torch.uint8), tensor([1, 1, 0,  ..., 1, 0, 1], dtype=torch.uint8), tensor([1, 1, 0,  ..., 1, 0, 1], dtype=torch.uint8), tensor([1, 1, 0,  ..., 1, 0, 1], dtype=torch.uint8), tensor([1, 1, 0,  ..., 1, 0, 1], dtype=torch.uint8), tensor([1, 1, 0,  ..., 1, 0, 1], dtype=torch.uint8), tensor([1, 1, 0,  ..., 1, 0, 1], dtype=torch.uint8), tensor([1, 1, 0,  ..., 1, 0, 1], dtype=torch.uint8), tensor([1, 1, 0,  ..., 1, 0, 1], dtype=torch.uint8), tensor([1, 1, 0,  ..., 1, 0, 1], dtype=torch.uint8), tensor([1, 1, 0,  ..., 1, 0, 1], dtype=torch.uint8), tensor([1, 1, 0,  ..., 1, 0, 1], dtype=torch.uint8), tensor([1, 1, 0,  ..., 1, 0, 1], dtype=torch.uint8), tensor([1, 1, 0,  ..., 1, 0, 1], dtype=torch.uint8), tensor([1, 1, 0,  ..., 1, 0, 1], dtype=torch.uint8), tensor([1, 1, 0,  ..., 1, 0, 1], dtype=torch.uint8), tensor([1, 1, 0,  ..., 1, 0, 1], dtype=torch.uint8), tensor([1, 1, 0,  ..., 1, 0, 1], dtype=torch.uint8), tensor([1, 1, 0,  ..., 1, 0, 1], dtype=torch.uint8), tensor([1, 1, 0,  ..., 1, 0, 1], dtype=torch.uint8), tensor([1, 1, 0,  ..., 1, 0, 1], dtype=torch.uint8), tensor([1, 1, 0,  ..., 1, 0, 1], dtype=torch.uint8), tensor([1, 1, 0,  ..., 1, 0, 1], dtype=torch.uint8), tensor([1, 1, 0,  ..., 1, 0, 1], dtype=torch.uint8), tensor([1, 1, 0,  ..., 1, 0, 1], dtype=torch.uint8), tensor([1, 1, 0,  ..., 1, 0, 1], dtype=torch.uint8), tensor([1, 1, 0,  ..., 1, 0, 1], dtype=torch.uint8), tensor([1, 1, 0,  ..., 1, 0, 1], dtype=torch.uint8), tensor([1, 1, 0,  ..., 1, 0, 1], dtype=torch.uint8), tensor([1, 1, 0,  ..., 1, 0, 1], dtype=torch.uint8), tensor([1, 1, 0,  ..., 1, 0, 1], dtype=torch.uint8), tensor([1, 1, 0,  ..., 1, 0, 1], dtype=torch.uint8), tensor([1, 1, 0,  ..., 1, 0, 1], dtype=torch.uint8), tensor([1, 1, 0,  ..., 1, 0, 1], dtype=torch.uint8), tensor([1, 1, 0,  ..., 1, 0, 1], dtype=torch.uint8), tensor([1, 1, 0,  ..., 1, 0, 1], dtype=torch.uint8), tensor([1, 1, 0,  ..., 1, 0, 1], dtype=torch.uint8), tensor([1, 1, 0,  ..., 1, 0, 1], dtype=torch.uint8), tensor([1, 1, 0,  ..., 1, 0, 1], dtype=torch.uint8), tensor([1, 1, 0,  ..., 1, 0, 1], dtype=torch.uint8), tensor([1, 1, 0,  ..., 1, 0, 1], dtype=torch.uint8), tensor([1, 1, 0,  ..., 1, 0, 1], dtype=torch.uint8), tensor([1, 1, 0,  ..., 1, 0, 1], dtype=torch.uint8), tensor([1, 1, 0,  ..., 1, 0, 1], dtype=torch.uint8), tensor([1, 1, 0,  ..., 1, 0, 1], dtype=torch.uint8), tensor([1, 1, 0,  ..., 1, 0, 1], dtype=torch.uint8), tensor([1, 1, 0,  ..., 1, 0, 1], dtype=torch.uint8), tensor([1, 1, 0,  ..., 1, 0, 1], dtype=torch.uint8), tensor([1, 1, 0,  ..., 1, 0, 1], dtype=torch.uint8), tensor([1, 1, 0,  ..., 1, 0, 1], dtype=torch.uint8), tensor([1, 1, 0,  ..., 1, 0, 1], dtype=torch.uint8), tensor([1, 1, 0,  ..., 1, 0, 1], dtype=torch.uint8), tensor([1, 1, 0,  ..., 1, 0, 1], dtype=torch.uint8), tensor([1, 1, 0,  ..., 1, 0, 1], dtype=torch.uint8), tensor([1, 1, 0,  ..., 1, 0, 1], dtype=torch.uint8), tensor([1, 1, 0,  ..., 1, 0, 1], dtype=torch.uint8), tensor([1, 1, 0,  ..., 1, 0, 1], dtype=torch.uint8), tensor([1, 1, 0,  ..., 1, 0, 1], dtype=torch.uint8), tensor([1, 1, 0,  ..., 1, 0, 1], dtype=torch.uint8), tensor([1, 1, 0,  ..., 1, 0, 1], dtype=torch.uint8), tensor([1, 1, 0,  ..., 1, 0, 1], dtype=torch.uint8), tensor([1, 1, 0,  ..., 1, 0, 1], dtype=torch.uint8), tensor([1, 1, 0,  ..., 1, 0, 1], dtype=torch.uint8), tensor([1, 1, 0,  ..., 1, 0, 1], dtype=torch.uint8), tensor([1, 1, 0,  ..., 1, 0, 1], dtype=torch.uint8), tensor([1, 1, 0,  ..., 1, 0, 1], dtype=torch.uint8), tensor([1, 1, 0,  ..., 1, 0, 1], dtype=torch.uint8), tensor([1, 1, 0,  ..., 1, 0, 1], dtype=torch.uint8), tensor([1, 1, 0,  ..., 1, 0, 1], dtype=torch.uint8), tensor([1, 1, 0,  ..., 1, 0, 1], dtype=torch.uint8), tensor([1, 1, 0,  ..., 1, 0, 1], dtype=torch.uint8), tensor([1, 1, 0,  ..., 1, 0, 1], dtype=torch.uint8), tensor([1, 1, 0,  ..., 1, 0, 1], dtype=torch.uint8), tensor([1, 1, 0,  ..., 1, 0, 1], dtype=torch.uint8), tensor([1, 1, 0,  ..., 1, 0, 1], dtype=torch.uint8), tensor([1, 1, 0,  ..., 1, 0, 1], dtype=torch.uint8), tensor([1, 1, 0,  ..., 1, 0, 1], dtype=torch.uint8), tensor([1, 1, 0,  ..., 1, 0, 1], dtype=torch.uint8), tensor([1, 1, 0,  ..., 1, 0, 1], dtype=torch.uint8), tensor([1, 1, 0,  ..., 1, 0, 1], dtype=torch.uint8), tensor([1, 1, 0,  ..., 1, 0, 1], dtype=torch.uint8), tensor([1, 1, 0,  ..., 1, 0, 1], dtype=torch.uint8), tensor([1, 1, 0,  ..., 1, 0, 1], dtype=torch.uint8), tensor([1, 1, 0,  ..., 1, 0, 1], dtype=torch.uint8), tensor([1, 1, 0,  ..., 1, 0, 1], dtype=torch.uint8), tensor([1, 1, 0,  ..., 1, 0, 1], dtype=torch.uint8), tensor([1, 1, 0,  ..., 1, 0, 1], dtype=torch.uint8), tensor([1, 1, 0,  ..., 1, 0, 1], dtype=torch.uint8), tensor([1, 1, 0,  ..., 1, 0, 1], dtype=torch.uint8), tensor([1, 1, 0,  ..., 1, 0, 1], dtype=torch.uint8), tensor([1, 1, 0,  ..., 1, 0, 1], dtype=torch.uint8), tensor([1, 1, 0,  ..., 1, 0, 1], dtype=torch.uint8), tensor([1, 1, 0,  ..., 1, 0, 1], dtype=torch.uint8), tensor([1, 1, 0,  ..., 1, 0, 1], dtype=torch.uint8), tensor([1, 1, 0,  ..., 1, 0, 1], dtype=torch.uint8), tensor([1, 1, 0,  ..., 1, 0, 1], dtype=torch.uint8), tensor([1, 1, 0,  ..., 1, 0, 1], dtype=torch.uint8), tensor([1, 1, 0,  ..., 1, 0, 1], dtype=torch.uint8), tensor([1, 1, 0,  ..., 1, 0, 1], dtype=torch.uint8), tensor([1, 1, 0,  ..., 1, 0, 1], dtype=torch.uint8), tensor([1, 1, 0,  ..., 1, 0, 1], dtype=torch.uint8), tensor([1, 1, 0,  ..., 1, 0, 1], dtype=torch.uint8), tensor([1, 1, 0,  ..., 1, 0, 1], dtype=torch.uint8), tensor([1, 1, 0,  ..., 1, 0, 1], dtype=torch.uint8), tensor([1, 1, 0,  ..., 1, 0, 1], dtype=torch.uint8), tensor([1, 1, 0,  ..., 1, 0, 1], dtype=torch.uint8), tensor([1, 1, 0,  ..., 1, 0, 1], dtype=torch.uint8), tensor([1, 1, 0,  ..., 1, 0, 1], dtype=torch.uint8), tensor([1, 1, 0,  ..., 1, 0, 1], dtype=torch.uint8), tensor([1, 1, 0,  ..., 1, 0, 1], dtype=torch.uint8), tensor([1, 1, 0,  ..., 1, 0, 1], dtype=torch.uint8), tensor([1, 1, 0,  ..., 1, 0, 1], dtype=torch.uint8), tensor([1, 1, 0,  ..., 1, 0, 1], dtype=torch.uint8), tensor([1, 1, 0,  ..., 1, 0, 1], dtype=torch.uint8), tensor([1, 1, 0,  ..., 1, 0, 1], dtype=torch.uint8), tensor([1, 1, 0,  ..., 1, 0, 1], dtype=torch.uint8), tensor([1, 1, 0,  ..., 1, 0, 1], dtype=torch.uint8), tensor([1, 1, 0,  ..., 1, 0, 1], dtype=torch.uint8), tensor([1, 1, 0,  ..., 1, 0, 1], dtype=torch.uint8), tensor([1, 1, 0,  ..., 1, 0, 1], dtype=torch.uint8), tensor([1, 1, 0,  ..., 1, 0, 1], dtype=torch.uint8), tensor([1, 1, 0,  ..., 1, 0, 1], dtype=torch.uint8), tensor([1, 1, 0,  ..., 1, 0, 1], dtype=torch.uint8), tensor([1, 1, 0,  ..., 1, 0, 1], dtype=torch.uint8), tensor([1, 1, 0,  ..., 1, 0, 1], dtype=torch.uint8), tensor([1, 1, 0,  ..., 1, 0, 1], dtype=torch.uint8), tensor([1, 1, 0,  ..., 1, 0, 1], dtype=torch.uint8), tensor([1, 1, 0,  ..., 1, 0, 1], dtype=torch.uint8), tensor([1, 1, 0,  ..., 1, 0, 1], dtype=torch.uint8), tensor([1, 1, 0,  ..., 1, 0, 1], dtype=torch.uint8), tensor([1, 1, 0,  ..., 1, 0, 1], dtype=torch.uint8), tensor([1, 1, 0,  ..., 1, 0, 1], dtype=torch.uint8), tensor([1, 1, 0,  ..., 1, 0, 1], dtype=torch.uint8), tensor([1, 1, 0,  ..., 1, 0, 1], dtype=torch.uint8), tensor([1, 1, 0,  ..., 1, 0, 1], dtype=torch.uint8), tensor([1, 1, 0,  ..., 1, 0, 1], dtype=torch.uint8), tensor([1, 1, 0,  ..., 1, 0, 1], dtype=torch.uint8), tensor([1, 1, 0,  ..., 1, 0, 1], dtype=torch.uint8), tensor([1, 1, 0,  ..., 1, 0, 1], dtype=torch.uint8), tensor([1, 1, 0,  ..., 1, 0, 1], dtype=torch.uint8), tensor([1, 1, 0,  ..., 1, 0, 1], dtype=torch.uint8), tensor([1, 1, 0,  ..., 1, 0, 1], dtype=torch.uint8), tensor([1, 1, 0,  ..., 1, 0, 1], dtype=torch.uint8), tensor([1, 1, 0,  ..., 1, 0, 1], dtype=torch.uint8), tensor([1, 1, 0,  ..., 1, 0, 1], dtype=torch.uint8), tensor([1, 1, 0,  ..., 1, 0, 1], dtype=torch.uint8), tensor([1, 1, 0,  ..., 1, 0, 1], dtype=torch.uint8), tensor([1, 1, 0,  ..., 1, 0, 1], dtype=torch.uint8), tensor([1, 1, 0,  ..., 1, 0, 1], dtype=torch.uint8), tensor([1, 1, 0,  ..., 1, 0, 1], dtype=torch.uint8), tensor([1, 1, 0,  ..., 1, 0, 1], dtype=torch.uint8), tensor([1, 1, 0,  ..., 1, 0, 1], dtype=torch.uint8), tensor([1, 1, 0,  ..., 1, 0, 1], dtype=torch.uint8), tensor([1, 1, 0,  ..., 1, 0, 1], dtype=torch.uint8), tensor([1, 1, 0,  ..., 1, 0, 1], dtype=torch.uint8), tensor([1, 1, 0,  ..., 1, 0, 1], dtype=torch.uint8), tensor([1, 1, 0,  ..., 1, 0, 1], dtype=torch.uint8), tensor([1, 1, 0,  ..., 1, 0, 1], dtype=torch.uint8), tensor([1, 1, 0,  ..., 1, 0, 1], dtype=torch.uint8), tensor([1, 1, 0,  ..., 1, 0, 1], dtype=torch.uint8), tensor([1, 1, 0,  ..., 1, 0, 1], dtype=torch.uint8), tensor([1, 1, 0,  ..., 1, 0, 1], dtype=torch.uint8), tensor([1, 1, 0,  ..., 1, 0, 1], dtype=torch.uint8), tensor([1, 1, 0,  ..., 1, 0, 1], dtype=torch.uint8), tensor([1, 1, 0,  ..., 1, 0, 1], dtype=torch.uint8), tensor([1, 1, 0,  ..., 1, 0, 1], dtype=torch.uint8), tensor([1, 1, 0,  ..., 1, 0, 1], dtype=torch.uint8), tensor([1, 1, 0,  ..., 1, 0, 1], dtype=torch.uint8), tensor([1, 1, 0,  ..., 1, 0, 1], dtype=torch.uint8), tensor([1, 1, 0,  ..., 1, 0, 1], dtype=torch.uint8), tensor([1, 1, 0,  ..., 1, 0, 1], dtype=torch.uint8), tensor([1, 1, 0,  ..., 1, 0, 1], dtype=torch.uint8), tensor([1, 1, 0,  ..., 1, 0, 1], dtype=torch.uint8), tensor([1, 1, 0,  ..., 1, 0, 1], dtype=torch.uint8), tensor([1, 1, 0,  ..., 1, 0, 1], dtype=torch.uint8), tensor([1, 1, 0,  ..., 1, 0, 1], dtype=torch.uint8), tensor([1, 1, 0,  ..., 1, 0, 1], dtype=torch.uint8), tensor([1, 1, 0,  ..., 1, 0, 1], dtype=torch.uint8), tensor([1, 1, 0,  ..., 1, 0, 1], dtype=torch.uint8), tensor([1, 1, 0,  ..., 1, 0, 1], dtype=torch.uint8), tensor([1, 1, 0,  ..., 1, 0, 1], dtype=torch.uint8), tensor([1, 1, 0,  ..., 1, 0, 1], dtype=torch.uint8), tensor([1, 1, 0,  ..., 1, 0, 1], dtype=torch.uint8), tensor([1, 1, 0,  ..., 1, 0, 1], dtype=torch.uint8), tensor([1, 1, 0,  ..., 1, 0, 1], dtype=torch.uint8), tensor([1, 1, 0,  ..., 1, 0, 1], dtype=torch.uint8), tensor([1, 1, 0,  ..., 1, 0, 1], dtype=torch.uint8), tensor([1, 1, 0,  ..., 1, 0, 1], dtype=torch.uint8), tensor([1, 1, 0,  ..., 1, 0, 1], dtype=torch.uint8), tensor([1, 1, 0,  ..., 1, 0, 1], dtype=torch.uint8), tensor([1, 1, 0,  ..., 1, 0, 1], dtype=torch.uint8), tensor([1, 1, 0,  ..., 1, 0, 1], dtype=torch.uint8), tensor([1, 1, 0,  ..., 1, 0, 1], dtype=torch.uint8), tensor([1, 1, 0,  ..., 1, 0, 1], dtype=torch.uint8), tensor([1, 1, 0,  ..., 1, 0, 1], dtype=torch.uint8), tensor([1, 1, 0,  ..., 1, 0, 1], dtype=torch.uint8), tensor([1, 1, 0,  ..., 1, 0, 1], dtype=torch.uint8), tensor([1, 1, 0,  ..., 1, 0, 1], dtype=torch.uint8), tensor([1, 1, 0,  ..., 1, 0, 1], dtype=torch.uint8), tensor([1, 1, 0,  ..., 1, 0, 1], dtype=torch.uint8), tensor([1, 1, 0,  ..., 1, 0, 1], dtype=torch.uint8), tensor([1, 1, 0,  ..., 1, 0, 1], dtype=torch.uint8), tensor([1, 1, 0,  ..., 1, 0, 1], dtype=torch.uint8), tensor([1, 1, 0,  ..., 1, 0, 1], dtype=torch.uint8), tensor([1, 1, 0,  ..., 1, 0, 1], dtype=torch.uint8), tensor([1, 1, 0,  ..., 1, 0, 1], dtype=torch.uint8), tensor([1, 1, 0,  ..., 1, 0, 1], dtype=torch.uint8), tensor([1, 1, 0,  ..., 1, 0, 1], dtype=torch.uint8), tensor([1, 1, 0,  ..., 1, 0, 1], dtype=torch.uint8), tensor([1, 1, 0,  ..., 1, 0, 1], dtype=torch.uint8), tensor([1, 1, 0,  ..., 1, 0, 1], dtype=torch.uint8), tensor([1, 1, 0,  ..., 1, 0, 1], dtype=torch.uint8), tensor([1, 1, 0,  ..., 1, 0, 1], dtype=torch.uint8), tensor([1, 1, 0,  ..., 1, 0, 1], dtype=torch.uint8), tensor([1, 1, 0,  ..., 1, 0, 1], dtype=torch.uint8), tensor([1, 1, 0,  ..., 1, 0, 1], dtype=torch.uint8), tensor([1, 1, 0,  ..., 1, 0, 1], dtype=torch.uint8), tensor([1, 1, 0,  ..., 1, 0, 1], dtype=torch.uint8), tensor([1, 1, 0,  ..., 1, 0, 1], dtype=torch.uint8), tensor([1, 1, 0,  ..., 1, 0, 1], dtype=torch.uint8), tensor([1, 1, 0,  ..., 1, 0, 1], dtype=torch.uint8), tensor([1, 1, 0,  ..., 1, 0, 1], dtype=torch.uint8), tensor([1, 1, 0,  ..., 1, 0, 1], dtype=torch.uint8), tensor([1, 1, 0,  ..., 1, 0, 1], dtype=torch.uint8), tensor([1, 1, 0,  ..., 1, 0, 1], dtype=torch.uint8), tensor([1, 1, 0,  ..., 1, 0, 1], dtype=torch.uint8), tensor([1, 1, 0,  ..., 1, 0, 1], dtype=torch.uint8), tensor([1, 1, 0,  ..., 1, 0, 1], dtype=torch.uint8), tensor([1, 1, 0,  ..., 1, 0, 1], dtype=torch.uint8), tensor([1, 1, 0,  ..., 1, 0, 1], dtype=torch.uint8), tensor([1, 1, 0,  ..., 1, 0, 1], dtype=torch.uint8), tensor([1, 1, 0,  ..., 1, 0, 1], dtype=torch.uint8), tensor([1, 1, 0,  ..., 1, 0, 1], dtype=torch.uint8), tensor([1, 1, 0,  ..., 1, 0, 1], dtype=torch.uint8), tensor([1, 1, 0,  ..., 1, 0, 1], dtype=torch.uint8), tensor([1, 1, 0,  ..., 1, 0, 1], dtype=torch.uint8), tensor([1, 1, 0,  ..., 1, 0, 1], dtype=torch.uint8), tensor([1, 1, 0,  ..., 1, 0, 1], dtype=torch.uint8), tensor([1, 1, 0,  ..., 1, 0, 1], dtype=torch.uint8), tensor([1, 1, 0,  ..., 1, 0, 1], dtype=torch.uint8), tensor([1, 1, 0,  ..., 1, 0, 1], dtype=torch.uint8), tensor([1, 1, 0,  ..., 1, 0, 1], dtype=torch.uint8), tensor([1, 1, 0,  ..., 1, 0, 1], dtype=torch.uint8), tensor([1, 1, 0,  ..., 1, 0, 1], dtype=torch.uint8), tensor([1, 1, 0,  ..., 1, 0, 1], dtype=torch.uint8), tensor([1, 1, 0,  ..., 1, 0, 1], dtype=torch.uint8), tensor([1, 1, 0,  ..., 1, 0, 1], dtype=torch.uint8), tensor([1, 1, 0,  ..., 1, 0, 1], dtype=torch.uint8), tensor([1, 1, 0,  ..., 1, 0, 1], dtype=torch.uint8), tensor([1, 1, 0,  ..., 1, 0, 1], dtype=torch.uint8), tensor([1, 1, 0,  ..., 1, 0, 1], dtype=torch.uint8), tensor([1, 1, 0,  ..., 1, 0, 1], dtype=torch.uint8), tensor([1, 1, 0,  ..., 1, 0, 1], dtype=torch.uint8), tensor([1, 1, 0,  ..., 1, 0, 1], dtype=torch.uint8), tensor([1, 1, 0,  ..., 1, 0, 1], dtype=torch.uint8), tensor([1, 1, 0,  ..., 1, 0, 1], dtype=torch.uint8), tensor([1, 1, 0,  ..., 1, 0, 1], dtype=torch.uint8), tensor([1, 1, 0,  ..., 1, 0, 1], dtype=torch.uint8), tensor([1, 1, 0,  ..., 1, 0, 1], dtype=torch.uint8), tensor([1, 1, 0,  ..., 1, 0, 1], dtype=torch.uint8), tensor([1, 1, 0,  ..., 1, 0, 1], dtype=torch.uint8), tensor([1, 1, 0,  ..., 1, 0, 1], dtype=torch.uint8), tensor([1, 1, 0,  ..., 1, 0, 1], dtype=torch.uint8), tensor([1, 1, 0,  ..., 1, 0, 1], dtype=torch.uint8), tensor([1, 1, 0,  ..., 1, 0, 1], dtype=torch.uint8), tensor([1, 1, 0,  ..., 1, 0, 1], dtype=torch.uint8), tensor([1, 1, 0,  ..., 1, 0, 1], dtype=torch.uint8), tensor([1, 1, 0,  ..., 1, 0, 1], dtype=torch.uint8), tensor([1, 1, 0,  ..., 1, 0, 1], dtype=torch.uint8), tensor([1, 1, 0,  ..., 1, 0, 1], dtype=torch.uint8), tensor([1, 1, 0,  ..., 1, 0, 1], dtype=torch.uint8), tensor([1, 1, 0,  ..., 1, 0, 1], dtype=torch.uint8), tensor([1, 1, 0,  ..., 1, 0, 1], dtype=torch.uint8), tensor([1, 1, 0,  ..., 1, 0, 1], dtype=torch.uint8), tensor([1, 1, 0,  ..., 1, 0, 1], dtype=torch.uint8), tensor([1, 1, 0,  ..., 1, 0, 1], dtype=torch.uint8), tensor([1, 1, 0,  ..., 1, 0, 1], dtype=torch.uint8), tensor([1, 1, 0,  ..., 1, 0, 1], dtype=torch.uint8), tensor([1, 1, 0,  ..., 1, 0, 1], dtype=torch.uint8), tensor([1, 1, 0,  ..., 1, 0, 1], dtype=torch.uint8), tensor([1, 1, 0,  ..., 1, 0, 1], dtype=torch.uint8), tensor([1, 1, 0,  ..., 1, 0, 1], dtype=torch.uint8), tensor([1, 1, 0,  ..., 1, 0, 1], dtype=torch.uint8), tensor([1, 1, 0,  ..., 1, 0, 1], dtype=torch.uint8), tensor([1, 1, 0,  ..., 1, 0, 1], dtype=torch.uint8), tensor([1, 1, 0,  ..., 1, 0, 1], dtype=torch.uint8), tensor([1, 1, 0,  ..., 1, 0, 1], dtype=torch.uint8), tensor([1, 1, 0,  ..., 1, 0, 1], dtype=torch.uint8), tensor([1, 1, 0,  ..., 1, 0, 1], dtype=torch.uint8), tensor([1, 1, 0,  ..., 1, 0, 1], dtype=torch.uint8), tensor([1, 1, 0,  ..., 1, 0, 1], dtype=torch.uint8), tensor([1, 1, 0,  ..., 1, 0, 1], dtype=torch.uint8), tensor([1, 1, 0,  ..., 1, 0, 1], dtype=torch.uint8), tensor([1, 1, 0,  ..., 1, 0, 1], dtype=torch.uint8), tensor([1, 1, 0,  ..., 1, 0, 1], dtype=torch.uint8), tensor([1, 1, 0,  ..., 1, 0, 1], dtype=torch.uint8), tensor([1, 1, 0,  ..., 1, 0, 1], dtype=torch.uint8), tensor([1, 1, 0,  ..., 1, 0, 1], dtype=torch.uint8), tensor([1, 1, 0,  ..., 1, 0, 1], dtype=torch.uint8), tensor([1, 1, 0,  ..., 1, 0, 1], dtype=torch.uint8), tensor([1, 1, 0,  ..., 1, 0, 1], dtype=torch.uint8), tensor([1, 1, 0,  ..., 1, 0, 1], dtype=torch.uint8), tensor([1, 1, 0,  ..., 1, 0, 1], dtype=torch.uint8), tensor([1, 1, 0,  ..., 1, 0, 1], dtype=torch.uint8), tensor([1, 1, 0,  ..., 1, 0, 1], dtype=torch.uint8), tensor([1, 1, 0,  ..., 1, 0, 1], dtype=torch.uint8), tensor([1, 1, 0,  ..., 1, 0, 1], dtype=torch.uint8), tensor([1, 1, 0,  ..., 1, 0, 1], dtype=torch.uint8), tensor([1, 1, 0,  ..., 1, 0, 1], dtype=torch.uint8), tensor([1, 1, 0,  ..., 1, 0, 1], dtype=torch.uint8), tensor([1, 1, 0,  ..., 1, 0, 1], dtype=torch.uint8), tensor([1, 1, 0,  ..., 1, 0, 1], dtype=torch.uint8), tensor([1, 1, 0,  ..., 1, 0, 1], dtype=torch.uint8), tensor([1, 1, 0,  ..., 1, 0, 1], dtype=torch.uint8), tensor([1, 1, 0,  ..., 1, 0, 1], dtype=torch.uint8), tensor([1, 1, 0,  ..., 1, 0, 1], dtype=torch.uint8), tensor([1, 1, 0,  ..., 1, 0, 1], dtype=torch.uint8), tensor([1, 1, 0,  ..., 1, 0, 1], dtype=torch.uint8), tensor([1, 1, 0,  ..., 1, 0, 1], dtype=torch.uint8), tensor([1, 1, 0,  ..., 1, 0, 1], dtype=torch.uint8), tensor([1, 1, 0,  ..., 1, 0, 1], dtype=torch.uint8), tensor([1, 1, 0,  ..., 1, 0, 1], dtype=torch.uint8), tensor([1, 1, 0,  ..., 1, 0, 1], dtype=torch.uint8), tensor([1, 1, 0,  ..., 1, 0, 1], dtype=torch.uint8), tensor([1, 1, 0,  ..., 1, 0, 1], dtype=torch.uint8), tensor([1, 1, 0,  ..., 1, 0, 1], dtype=torch.uint8), tensor([1, 1, 0,  ..., 1, 0, 1], dtype=torch.uint8), tensor([1, 1, 0,  ..., 1, 0, 1], dtype=torch.uint8), tensor([1, 1, 0,  ..., 1, 0, 1], dtype=torch.uint8), tensor([1, 1, 0,  ..., 1, 0, 1], dtype=torch.uint8), tensor([1, 1, 0,  ..., 1, 0, 1], dtype=torch.uint8), tensor([1, 1, 0,  ..., 1, 0, 1], dtype=torch.uint8), tensor([1, 1, 0,  ..., 1, 0, 1], dtype=torch.uint8), tensor([1, 1, 0,  ..., 1, 0, 1], dtype=torch.uint8), tensor([1, 1, 0,  ..., 1, 0, 1], dtype=torch.uint8), tensor([1, 1, 0,  ..., 1, 0, 1], dtype=torch.uint8), tensor([1, 1, 0,  ..., 1, 0, 1], dtype=torch.uint8), tensor([1, 1, 0,  ..., 1, 0, 1], dtype=torch.uint8), tensor([1, 1, 0,  ..., 1, 0, 1], dtype=torch.uint8), tensor([1, 1, 0,  ..., 1, 0, 1], dtype=torch.uint8), tensor([1, 1, 0,  ..., 1, 0, 1], dtype=torch.uint8), tensor([1, 1, 0,  ..., 1, 0, 1], dtype=torch.uint8), tensor([1, 1, 0,  ..., 1, 0, 1], dtype=torch.uint8), tensor([1, 1, 0,  ..., 1, 0, 1], dtype=torch.uint8), tensor([1, 1, 0,  ..., 1, 0, 1], dtype=torch.uint8), tensor([1, 1, 0,  ..., 1, 0, 1], dtype=torch.uint8), tensor([1, 1, 0,  ..., 1, 0, 1], dtype=torch.uint8), tensor([1, 1, 0,  ..., 1, 0, 1], dtype=torch.uint8), tensor([1, 1, 0,  ..., 1, 0, 1], dtype=torch.uint8), tensor([1, 1, 0,  ..., 1, 0, 1], dtype=torch.uint8), tensor([1, 1, 0,  ..., 1, 0, 1], dtype=torch.uint8), tensor([1, 1, 0,  ..., 1, 0, 1], dtype=torch.uint8), tensor([1, 1, 0,  ..., 1, 0, 1], dtype=torch.uint8), tensor([1, 1, 0,  ..., 1, 0, 1], dtype=torch.uint8), tensor([1, 1, 0,  ..., 1, 0, 1], dtype=torch.uint8), tensor([1, 1, 0,  ..., 1, 0, 1], dtype=torch.uint8), tensor([1, 1, 0,  ..., 1, 0, 1], dtype=torch.uint8), tensor([1, 1, 0,  ..., 1, 0, 1], dtype=torch.uint8), tensor([1, 1, 0,  ..., 1, 0, 1], dtype=torch.uint8), tensor([1, 1, 0,  ..., 1, 0, 1], dtype=torch.uint8), tensor([1, 1, 0,  ..., 1, 0, 1], dtype=torch.uint8), tensor([1, 1, 0,  ..., 1, 0, 1], dtype=torch.uint8), tensor([1, 1, 0,  ..., 1, 0, 1], dtype=torch.uint8), tensor([1, 1, 0,  ..., 1, 0, 1], dtype=torch.uint8), tensor([1, 1, 0,  ..., 1, 0, 1], dtype=torch.uint8), tensor([1, 1, 0,  ..., 1, 0, 1], dtype=torch.uint8), tensor([1, 1, 0,  ..., 1, 0, 1], dtype=torch.uint8), tensor([1, 1, 0,  ..., 1, 0, 1], dtype=torch.uint8), tensor([1, 1, 0,  ..., 1, 0, 1], dtype=torch.uint8), tensor([1, 1, 0,  ..., 1, 0, 1], dtype=torch.uint8), tensor([1, 1, 0,  ..., 1, 0, 1], dtype=torch.uint8), tensor([1, 1, 0,  ..., 1, 0, 1], dtype=torch.uint8), tensor([1, 1, 0,  ..., 1, 0, 1], dtype=torch.uint8), tensor([1, 1, 0,  ..., 1, 0, 1], dtype=torch.uint8), tensor([1, 1, 0,  ..., 1, 0, 1], dtype=torch.uint8), tensor([1, 1, 0,  ..., 1, 0, 1], dtype=torch.uint8), tensor([1, 1, 0,  ..., 1, 0, 1], dtype=torch.uint8), tensor([1, 1, 0,  ..., 1, 0, 1], dtype=torch.uint8), tensor([1, 1, 0,  ..., 1, 0, 1], dtype=torch.uint8), tensor([1, 1, 0,  ..., 1, 0, 1], dtype=torch.uint8), tensor([1, 1, 0,  ..., 1, 0, 1], dtype=torch.uint8), tensor([1, 1, 0,  ..., 1, 0, 1], dtype=torch.uint8), tensor([1, 1, 0,  ..., 1, 0, 1], dtype=torch.uint8), tensor([1, 1, 0,  ..., 1, 0, 1], dtype=torch.uint8), tensor([1, 1, 0,  ..., 1, 0, 1], dtype=torch.uint8), tensor([1, 1, 0,  ..., 1, 0, 1], dtype=torch.uint8), tensor([1, 1, 0,  ..., 1, 0, 1], dtype=torch.uint8), tensor([1, 1, 0,  ..., 1, 0, 1], dtype=torch.uint8), tensor([1, 1, 0,  ..., 1, 0, 1], dtype=torch.uint8), tensor([1, 1, 0,  ..., 1, 0, 1], dtype=torch.uint8), tensor([1, 1, 0,  ..., 1, 0, 1], dtype=torch.uint8), tensor([1, 1, 0,  ..., 1, 0, 1], dtype=torch.uint8), tensor([1, 1, 0,  ..., 1, 0, 1], dtype=torch.uint8), tensor([1, 1, 0,  ..., 1, 0, 1], dtype=torch.uint8), tensor([1, 1, 0,  ..., 1, 0, 1], dtype=torch.uint8), tensor([1, 1, 0,  ..., 1, 0, 1], dtype=torch.uint8), tensor([1, 1, 0,  ..., 1, 0, 1], dtype=torch.uint8), tensor([1, 1, 0,  ..., 1, 0, 1], dtype=torch.uint8), tensor([1, 1, 0,  ..., 1, 0, 1], dtype=torch.uint8), tensor([1, 1, 0,  ..., 1, 0, 1], dtype=torch.uint8), tensor([1, 1, 0,  ..., 1, 0, 1], dtype=torch.uint8), tensor([1, 1, 0,  ..., 1, 0, 1], dtype=torch.uint8), tensor([1, 1, 0,  ..., 1, 0, 1], dtype=torch.uint8), tensor([1, 1, 0,  ..., 1, 0, 1], dtype=torch.uint8), tensor([1, 1, 0,  ..., 1, 0, 1], dtype=torch.uint8), tensor([1, 1, 0,  ..., 1, 0, 1], dtype=torch.uint8), tensor([1, 1, 0,  ..., 1, 0, 1], dtype=torch.uint8), tensor([1, 1, 0,  ..., 1, 0, 1], dtype=torch.uint8), tensor([1, 1, 0,  ..., 1, 0, 1], dtype=torch.uint8), tensor([1, 1, 0,  ..., 1, 0, 1], dtype=torch.uint8), tensor([1, 1, 0,  ..., 1, 0, 1], dtype=torch.uint8), tensor([1, 1, 0,  ..., 1, 0, 1], dtype=torch.uint8), tensor([1, 1, 0,  ..., 1, 0, 1], dtype=torch.uint8), tensor([1, 1, 0,  ..., 1, 0, 1], dtype=torch.uint8), tensor([1, 1, 0,  ..., 1, 0, 1], dtype=torch.uint8), tensor([1, 1, 0,  ..., 1, 0, 1], dtype=torch.uint8), tensor([1, 1, 0,  ..., 1, 0, 1], dtype=torch.uint8), tensor([1, 1, 0,  ..., 1, 0, 1], dtype=torch.uint8), tensor([1, 1, 0,  ..., 1, 0, 1], dtype=torch.uint8), tensor([1, 1, 0,  ..., 1, 0, 1], dtype=torch.uint8), tensor([1, 1, 0,  ..., 1, 0, 1], dtype=torch.uint8), tensor([1, 1, 0,  ..., 1, 0, 1], dtype=torch.uint8), tensor([1, 1, 0,  ..., 1, 0, 1], dtype=torch.uint8), tensor([1, 1, 0,  ..., 1, 0, 1], dtype=torch.uint8), tensor([1, 1, 0,  ..., 1, 0, 1], dtype=torch.uint8), tensor([1, 1, 0,  ..., 1, 0, 1], dtype=torch.uint8), tensor([1, 1, 0,  ..., 1, 0, 1], dtype=torch.uint8), tensor([1, 1, 0,  ..., 1, 0, 1], dtype=torch.uint8), tensor([1, 1, 0,  ..., 1, 0, 1], dtype=torch.uint8), tensor([1, 1, 0,  ..., 1, 0, 1], dtype=torch.uint8), tensor([1, 1, 0,  ..., 1, 0, 1], dtype=torch.uint8), tensor([1, 1, 0,  ..., 1, 0, 1], dtype=torch.uint8), tensor([1, 1, 0,  ..., 1, 0, 1], dtype=torch.uint8), tensor([1, 1, 0,  ..., 1, 0, 1], dtype=torch.uint8), tensor([1, 1, 0,  ..., 1, 0, 1], dtype=torch.uint8), tensor([1, 1, 0,  ..., 1, 0, 1], dtype=torch.uint8), tensor([1, 1, 0,  ..., 1, 0, 1], dtype=torch.uint8), tensor([1, 1, 0,  ..., 1, 0, 1], dtype=torch.uint8), tensor([1, 1, 0,  ..., 1, 0, 1], dtype=torch.uint8), tensor([1, 1, 0,  ..., 1, 0, 1], dtype=torch.uint8), tensor([1, 1, 0,  ..., 1, 0, 1], dtype=torch.uint8), tensor([1, 1, 0,  ..., 1, 0, 1], dtype=torch.uint8), tensor([1, 1, 0,  ..., 1, 0, 1], dtype=torch.uint8), tensor([1, 1, 0,  ..., 1, 0, 1], dtype=torch.uint8), tensor([1, 1, 0,  ..., 1, 0, 1], dtype=torch.uint8), tensor([1, 1, 0,  ..., 1, 0, 1], dtype=torch.uint8), tensor([1, 1, 0,  ..., 1, 0, 1], dtype=torch.uint8), tensor([1, 1, 0,  ..., 1, 0, 1], dtype=torch.uint8), tensor([1, 1, 0,  ..., 1, 0, 1], dtype=torch.uint8), tensor([1, 1, 0,  ..., 1, 0, 1], dtype=torch.uint8), tensor([1, 1, 0,  ..., 1, 0, 1], dtype=torch.uint8), tensor([1, 1, 0,  ..., 1, 0, 1], dtype=torch.uint8), tensor([1, 1, 0,  ..., 1, 0, 1], dtype=torch.uint8), tensor([1, 1, 0,  ..., 1, 0, 1], dtype=torch.uint8), tensor([1, 1, 0,  ..., 1, 0, 1], dtype=torch.uint8), tensor([1, 1, 0,  ..., 1, 0, 1], dtype=torch.uint8), tensor([1, 1, 0,  ..., 1, 0, 1], dtype=torch.uint8), tensor([1, 1, 0,  ..., 1, 0, 1], dtype=torch.uint8), tensor([1, 1, 0,  ..., 1, 0, 1], dtype=torch.uint8), tensor([1, 1, 0,  ..., 1, 0, 1], dtype=torch.uint8), tensor([1, 1, 0,  ..., 1, 0, 1], dtype=torch.uint8), tensor([1, 1, 0,  ..., 1, 0, 1], dtype=torch.uint8), tensor([1, 1, 0,  ..., 1, 0, 1], dtype=torch.uint8), tensor([1, 1, 0,  ..., 1, 0, 1], dtype=torch.uint8), tensor([1, 1, 0,  ..., 1, 0, 1], dtype=torch.uint8), tensor([1, 1, 0,  ..., 1, 0, 1], dtype=torch.uint8), tensor([1, 1, 0,  ..., 1, 0, 1], dtype=torch.uint8), tensor([1, 1, 0,  ..., 1, 0, 1], dtype=torch.uint8), tensor([1, 1, 0,  ..., 1, 0, 1], dtype=torch.uint8), tensor([1, 1, 0,  ..., 1, 0, 1], dtype=torch.uint8), tensor([1, 1, 0,  ..., 1, 0, 1], dtype=torch.uint8), tensor([1, 1, 0,  ..., 1, 0, 1], dtype=torch.uint8), tensor([1, 1, 0,  ..., 1, 0, 1], dtype=torch.uint8), tensor([1, 1, 0,  ..., 1, 0, 1], dtype=torch.uint8), tensor([1, 1, 0,  ..., 1, 0, 1], dtype=torch.uint8), tensor([1, 1, 0,  ..., 1, 0, 1], dtype=torch.uint8), tensor([1, 1, 0,  ..., 1, 0, 1], dtype=torch.uint8), tensor([1, 1, 0,  ..., 1, 0, 1], dtype=torch.uint8), tensor([1, 1, 0,  ..., 1, 0, 1], dtype=torch.uint8), tensor([1, 1, 0,  ..., 1, 0, 1], dtype=torch.uint8), tensor([1, 1, 0,  ..., 1, 0, 1], dtype=torch.uint8), tensor([1, 1, 0,  ..., 1, 0, 1], dtype=torch.uint8), tensor([1, 1, 0,  ..., 1, 0, 1], dtype=torch.uint8), tensor([1, 1, 0,  ..., 1, 0, 1], dtype=torch.uint8), tensor([1, 1, 0,  ..., 1, 0, 1], dtype=torch.uint8), tensor([1, 1, 0,  ..., 1, 0, 1], dtype=torch.uint8), tensor([1, 1, 0,  ..., 1, 0, 1], dtype=torch.uint8), tensor([1, 1, 0,  ..., 1, 0, 1], dtype=torch.uint8), tensor([1, 1, 0,  ..., 1, 0, 1], dtype=torch.uint8), tensor([1, 1, 0,  ..., 1, 0, 1], dtype=torch.uint8), tensor([1, 1, 0,  ..., 1, 0, 1], dtype=torch.uint8), tensor([1, 1, 0,  ..., 1, 0, 1], dtype=torch.uint8), tensor([1, 1, 0,  ..., 1, 0, 1], dtype=torch.uint8), tensor([1, 1, 0,  ..., 1, 0, 1], dtype=torch.uint8), tensor([1, 1, 0,  ..., 1, 0, 1], dtype=torch.uint8), tensor([1, 1, 0,  ..., 1, 0, 1], dtype=torch.uint8), tensor([1, 1, 0,  ..., 1, 0, 1], dtype=torch.uint8), tensor([1, 1, 0,  ..., 1, 0, 1], dtype=torch.uint8), tensor([1, 1, 0,  ..., 1, 0, 1], dtype=torch.uint8), tensor([1, 1, 0,  ..., 1, 0, 1], dtype=torch.uint8), tensor([1, 1, 0,  ..., 1, 0, 1], dtype=torch.uint8), tensor([1, 1, 0,  ..., 1, 0, 1], dtype=torch.uint8), tensor([1, 1, 0,  ..., 1, 0, 1], dtype=torch.uint8), tensor([1, 1, 0,  ..., 1, 0, 1], dtype=torch.uint8), tensor([1, 1, 0,  ..., 1, 0, 1], dtype=torch.uint8), tensor([1, 1, 0,  ..., 1, 0, 1], dtype=torch.uint8), tensor([1, 1, 0,  ..., 1, 0, 1], dtype=torch.uint8), tensor([1, 1, 0,  ..., 1, 0, 1], dtype=torch.uint8), tensor([1, 1, 0,  ..., 1, 0, 1], dtype=torch.uint8), tensor([1, 1, 0,  ..., 1, 0, 1], dtype=torch.uint8), tensor([1, 1, 0,  ..., 1, 0, 1], dtype=torch.uint8), tensor([1, 1, 0,  ..., 1, 0, 1], dtype=torch.uint8), tensor([1, 1, 0,  ..., 1, 0, 1], dtype=torch.uint8), tensor([1, 1, 0,  ..., 1, 0, 1], dtype=torch.uint8), tensor([1, 1, 0,  ..., 1, 0, 1], dtype=torch.uint8), tensor([1, 1, 0,  ..., 1, 0, 1], dtype=torch.uint8), tensor([1, 1, 0,  ..., 1, 0, 1], dtype=torch.uint8), tensor([1, 1, 0,  ..., 1, 0, 1], dtype=torch.uint8), tensor([1, 1, 0,  ..., 1, 0, 1], dtype=torch.uint8), tensor([1, 1, 0,  ..., 1, 0, 1], dtype=torch.uint8), tensor([1, 1, 0,  ..., 1, 0, 1], dtype=torch.uint8), tensor([1, 1, 0,  ..., 1, 0, 1], dtype=torch.uint8), tensor([1, 1, 0,  ..., 1, 0, 1], dtype=torch.uint8), tensor([1, 1, 0,  ..., 1, 0, 1], dtype=torch.uint8), tensor([1, 1, 0,  ..., 1, 0, 1], dtype=torch.uint8), tensor([1, 1, 0,  ..., 1, 0, 1], dtype=torch.uint8), tensor([1, 1, 0,  ..., 1, 0, 1], dtype=torch.uint8), tensor([1, 1, 0,  ..., 1, 0, 1], dtype=torch.uint8), tensor([1, 1, 0,  ..., 1, 0, 1], dtype=torch.uint8), tensor([1, 1, 0,  ..., 1, 0, 1], dtype=torch.uint8), tensor([1, 1, 0,  ..., 1, 0, 1], dtype=torch.uint8), tensor([1, 1, 0,  ..., 1, 0, 1], dtype=torch.uint8), tensor([1, 1, 0,  ..., 1, 0, 1], dtype=torch.uint8), tensor([1, 1, 0,  ..., 1, 0, 1], dtype=torch.uint8), tensor([1, 1, 0,  ..., 1, 0, 1], dtype=torch.uint8), tensor([1, 1, 0,  ..., 1, 0, 1], dtype=torch.uint8), tensor([1, 1, 0,  ..., 1, 0, 1], dtype=torch.uint8), tensor([1, 1, 0,  ..., 1, 0, 1], dtype=torch.uint8), tensor([1, 1, 0,  ..., 1, 0, 1], dtype=torch.uint8), tensor([1, 1, 0,  ..., 1, 0, 1], dtype=torch.uint8), tensor([1, 1, 0,  ..., 1, 0, 1], dtype=torch.uint8), tensor([1, 1, 0,  ..., 1, 0, 1], dtype=torch.uint8), tensor([1, 1, 0,  ..., 1, 0, 1], dtype=torch.uint8), tensor([1, 1, 0,  ..., 1, 0, 1], dtype=torch.uint8), tensor([1, 1, 0,  ..., 1, 0, 1], dtype=torch.uint8), tensor([1, 1, 0,  ..., 1, 0, 1], dtype=torch.uint8), tensor([1, 1, 0,  ..., 1, 0, 1], dtype=torch.uint8), tensor([1, 1, 0,  ..., 1, 0, 1], dtype=torch.uint8), tensor([1, 1, 0,  ..., 1, 0, 1], dtype=torch.uint8), tensor([1, 1, 0,  ..., 1, 0, 1], dtype=torch.uint8), tensor([1, 1, 0,  ..., 1, 0, 1], dtype=torch.uint8), tensor([1, 1, 0,  ..., 1, 0, 1], dtype=torch.uint8), tensor([1, 1, 0,  ..., 1, 0, 1], dtype=torch.uint8), tensor([1, 1, 0,  ..., 1, 0, 1], dtype=torch.uint8), tensor([1, 1, 0,  ..., 1, 0, 1], dtype=torch.uint8), tensor([1, 1, 0,  ..., 1, 0, 1], dtype=torch.uint8), tensor([1, 1, 0,  ..., 1, 0, 1], dtype=torch.uint8), tensor([1, 1, 0,  ..., 1, 0, 1], dtype=torch.uint8), tensor([1, 1, 0,  ..., 1, 0, 1], dtype=torch.uint8), tensor([1, 1, 0,  ..., 1, 0, 1], dtype=torch.uint8), tensor([1, 1, 0,  ..., 1, 0, 1], dtype=torch.uint8), tensor([1, 1, 0,  ..., 1, 0, 1], dtype=torch.uint8), tensor([1, 1, 0,  ..., 1, 0, 1], dtype=torch.uint8), tensor([1, 1, 0,  ..., 1, 0, 1], dtype=torch.uint8), tensor([1, 1, 0,  ..., 1, 0, 1], dtype=torch.uint8), tensor([1, 1, 0,  ..., 1, 0, 1], dtype=torch.uint8), tensor([1, 1, 0,  ..., 1, 0, 1], dtype=torch.uint8), tensor([1, 1, 0,  ..., 1, 0, 1], dtype=torch.uint8), tensor([1, 1, 0,  ..., 1, 0, 1], dtype=torch.uint8), tensor([1, 1, 0,  ..., 1, 0, 1], dtype=torch.uint8), tensor([1, 1, 0,  ..., 1, 0, 1], dtype=torch.uint8), tensor([1, 1, 0,  ..., 1, 0, 1], dtype=torch.uint8), tensor([1, 1, 0,  ..., 1, 0, 1], dtype=torch.uint8), tensor([1, 1, 0,  ..., 1, 0, 1], dtype=torch.uint8), tensor([1, 1, 0,  ..., 1, 0, 1], dtype=torch.uint8), tensor([1, 1, 0,  ..., 1, 0, 1], dtype=torch.uint8), tensor([1, 1, 0,  ..., 1, 0, 1], dtype=torch.uint8), tensor([1, 1, 0,  ..., 1, 0, 1], dtype=torch.uint8), tensor([1, 1, 0,  ..., 1, 0, 1], dtype=torch.uint8), tensor([1, 1, 0,  ..., 1, 0, 1], dtype=torch.uint8), tensor([1, 1, 0,  ..., 1, 0, 1], dtype=torch.uint8), tensor([1, 1, 0,  ..., 1, 0, 1], dtype=torch.uint8), tensor([1, 1, 0,  ..., 1, 0, 1], dtype=torch.uint8), tensor([1, 1, 0,  ..., 1, 0, 1], dtype=torch.uint8), tensor([1, 1, 0,  ..., 1, 0, 1], dtype=torch.uint8), tensor([1, 1, 0,  ..., 1, 0, 1], dtype=torch.uint8), tensor([1, 1, 0,  ..., 1, 0, 1], dtype=torch.uint8), tensor([1, 1, 0,  ..., 1, 0, 1], dtype=torch.uint8), tensor([1, 1, 0,  ..., 1, 0, 1], dtype=torch.uint8), tensor([1, 1, 0,  ..., 1, 0, 1], dtype=torch.uint8), tensor([1, 1, 0,  ..., 1, 0, 1], dtype=torch.uint8), tensor([1, 1, 0,  ..., 1, 0, 1], dtype=torch.uint8), tensor([1, 1, 0,  ..., 1, 0, 1], dtype=torch.uint8), tensor([1, 1, 0,  ..., 1, 0, 1], dtype=torch.uint8), tensor([1, 1, 0,  ..., 1, 0, 1], dtype=torch.uint8), tensor([1, 1, 0,  ..., 1, 0, 1], dtype=torch.uint8), tensor([1, 1, 0,  ..., 1, 0, 1], dtype=torch.uint8), tensor([1, 1, 0,  ..., 1, 0, 1], dtype=torch.uint8), tensor([1, 1, 0,  ..., 1, 0, 1], dtype=torch.uint8), tensor([1, 1, 0,  ..., 1, 0, 1], dtype=torch.uint8), tensor([1, 1, 0,  ..., 1, 0, 1], dtype=torch.uint8), tensor([1, 1, 0,  ..., 1, 0, 1], dtype=torch.uint8), tensor([1, 1, 0,  ..., 1, 0, 1], dtype=torch.uint8), tensor([1, 1, 0,  ..., 1, 0, 1], dtype=torch.uint8), tensor([1, 1, 0,  ..., 1, 0, 1], dtype=torch.uint8), tensor([1, 1, 0,  ..., 1, 0, 1], dtype=torch.uint8), tensor([1, 1, 0,  ..., 1, 0, 1], dtype=torch.uint8), tensor([1, 1, 0,  ..., 1, 0, 1], dtype=torch.uint8), tensor([1, 1, 0,  ..., 1, 0, 1], dtype=torch.uint8), tensor([1, 1, 0,  ..., 1, 0, 1], dtype=torch.uint8), tensor([1, 1, 0,  ..., 1, 0, 1], dtype=torch.uint8), tensor([1, 1, 0,  ..., 1, 0, 1], dtype=torch.uint8), tensor([1, 1, 0,  ..., 1, 0, 1], dtype=torch.uint8), tensor([1, 1, 0,  ..., 1, 0, 1], dtype=torch.uint8), tensor([1, 1, 0,  ..., 1, 0, 1], dtype=torch.uint8), tensor([1, 1, 0,  ..., 1, 0, 1], dtype=torch.uint8), tensor([1, 1, 0,  ..., 1, 0, 1], dtype=torch.uint8), tensor([1, 1, 0,  ..., 1, 0, 1], dtype=torch.uint8), tensor([1, 1, 0,  ..., 1, 0, 1], dtype=torch.uint8), tensor([1, 1, 0,  ..., 1, 0, 1], dtype=torch.uint8), tensor([1, 1, 0,  ..., 1, 0, 1], dtype=torch.uint8), tensor([1, 1, 0,  ..., 1, 0, 1], dtype=torch.uint8), tensor([1, 1, 0,  ..., 1, 0, 1], dtype=torch.uint8), tensor([1, 1, 0,  ..., 1, 0, 1], dtype=torch.uint8), tensor([1, 1, 0,  ..., 1, 0, 1], dtype=torch.uint8), tensor([1, 1, 0,  ..., 1, 0, 1], dtype=torch.uint8), tensor([1, 1, 0,  ..., 1, 0, 1], dtype=torch.uint8), tensor([1, 1, 0,  ..., 1, 0, 1], dtype=torch.uint8), tensor([1, 1, 0,  ..., 1, 0, 1], dtype=torch.uint8), tensor([1, 1, 0,  ..., 1, 0, 1], dtype=torch.uint8), tensor([1, 1, 0,  ..., 1, 0, 1], dtype=torch.uint8), tensor([1, 1, 0,  ..., 1, 0, 1], dtype=torch.uint8), tensor([1, 1, 0,  ..., 1, 0, 1], dtype=torch.uint8), tensor([1, 1, 0,  ..., 1, 0, 1], dtype=torch.uint8), tensor([1, 1, 0,  ..., 1, 0, 1], dtype=torch.uint8), tensor([1, 1, 0,  ..., 1, 0, 1], dtype=torch.uint8), tensor([1, 1, 0,  ..., 1, 0, 1], dtype=torch.uint8), tensor([1, 1, 0,  ..., 1, 0, 1], dtype=torch.uint8), tensor([1, 1, 0,  ..., 1, 0, 1], dtype=torch.uint8), tensor([1, 1, 0,  ..., 1, 0, 1], dtype=torch.uint8), tensor([1, 1, 0,  ..., 1, 0, 1], dtype=torch.uint8), tensor([1, 1, 0,  ..., 1, 0, 1], dtype=torch.uint8), tensor([1, 1, 0,  ..., 1, 0, 1], dtype=torch.uint8), tensor([1, 1, 0,  ..., 1, 0, 1], dtype=torch.uint8), tensor([1, 1, 0,  ..., 1, 0, 1], dtype=torch.uint8), tensor([1, 1, 0,  ..., 1, 0, 1], dtype=torch.uint8), tensor([1, 1, 0,  ..., 1, 0, 1], dtype=torch.uint8), tensor([1, 1, 0,  ..., 1, 0, 1], dtype=torch.uint8), tensor([1, 1, 0,  ..., 1, 0, 1], dtype=torch.uint8), tensor([1, 1, 0,  ..., 1, 0, 1], dtype=torch.uint8), tensor([1, 1, 0,  ..., 1, 0, 1], dtype=torch.uint8), tensor([1, 1, 0,  ..., 1, 0, 1], dtype=torch.uint8), tensor([1, 1, 0,  ..., 1, 0, 1], dtype=torch.uint8), tensor([1, 1, 0,  ..., 1, 0, 1], dtype=torch.uint8), tensor([1, 1, 0,  ..., 1, 0, 1], dtype=torch.uint8), tensor([1, 1, 0,  ..., 1, 0, 1], dtype=torch.uint8), tensor([1, 1, 0,  ..., 1, 0, 1], dtype=torch.uint8), tensor([1, 1, 0,  ..., 1, 0, 1], dtype=torch.uint8), tensor([1, 1, 0,  ..., 1, 0, 1], dtype=torch.uint8), tensor([1, 1, 0,  ..., 1, 0, 1], dtype=torch.uint8), tensor([1, 1, 0,  ..., 1, 0, 1], dtype=torch.uint8), tensor([1, 1, 0,  ..., 1, 0, 1], dtype=torch.uint8), tensor([1, 1, 0,  ..., 1, 0, 1], dtype=torch.uint8), tensor([1, 1, 0,  ..., 1, 0, 1], dtype=torch.uint8), tensor([1, 1, 0,  ..., 1, 0, 1], dtype=torch.uint8), tensor([1, 1, 0,  ..., 1, 0, 1], dtype=torch.uint8), tensor([1, 1, 0,  ..., 1, 0, 1], dtype=torch.uint8), tensor([1, 1, 0,  ..., 1, 0, 1], dtype=torch.uint8), tensor([1, 1, 0,  ..., 1, 0, 1], dtype=torch.uint8), tensor([1, 1, 0,  ..., 1, 0, 1], dtype=torch.uint8), tensor([1, 1, 0,  ..., 1, 0, 1], dtype=torch.uint8), tensor([1, 1, 0,  ..., 1, 0, 1], dtype=torch.uint8), tensor([1, 1, 0,  ..., 1, 0, 1], dtype=torch.uint8), tensor([1, 1, 0,  ..., 1, 0, 1], dtype=torch.uint8), tensor([1, 1, 0,  ..., 1, 0, 1], dtype=torch.uint8), tensor([1, 1, 0,  ..., 1, 0, 1], dtype=torch.uint8), tensor([1, 1, 0,  ..., 1, 0, 1], dtype=torch.uint8), tensor([1, 1, 0,  ..., 1, 0, 1], dtype=torch.uint8), tensor([1, 1, 0,  ..., 1, 0, 1], dtype=torch.uint8), tensor([1, 1, 0,  ..., 1, 0, 1], dtype=torch.uint8), tensor([1, 1, 0,  ..., 1, 0, 1], dtype=torch.uint8), tensor([1, 1, 0,  ..., 1, 0, 1], dtype=torch.uint8), tensor([1, 1, 0,  ..., 1, 0, 1], dtype=torch.uint8), tensor([1, 1, 0,  ..., 1, 0, 1], dtype=torch.uint8), tensor([1, 1, 0,  ..., 1, 0, 1], dtype=torch.uint8), tensor([1, 1, 0,  ..., 1, 0, 1], dtype=torch.uint8), tensor([1, 1, 0,  ..., 1, 0, 1], dtype=torch.uint8), tensor([1, 1, 0,  ..., 1, 0, 1], dtype=torch.uint8), tensor([1, 1, 0,  ..., 1, 0, 1], dtype=torch.uint8), tensor([1, 1, 0,  ..., 1, 0, 1], dtype=torch.uint8), tensor([1, 1, 0,  ..., 1, 0, 1], dtype=torch.uint8), tensor([1, 1, 0,  ..., 1, 0, 1], dtype=torch.uint8), tensor([1, 1, 0,  ..., 1, 0, 1], dtype=torch.uint8), tensor([1, 1, 0,  ..., 1, 0, 1], dtype=torch.uint8), tensor([1, 1, 0,  ..., 1, 0, 1], dtype=torch.uint8), tensor([1, 1, 0,  ..., 1, 0, 1], dtype=torch.uint8), tensor([1, 1, 0,  ..., 1, 0, 1], dtype=torch.uint8), tensor([1, 1, 0,  ..., 1, 0, 1], dtype=torch.uint8), tensor([1, 1, 0,  ..., 1, 0, 1], dtype=torch.uint8), tensor([1, 1, 0,  ..., 1, 0, 1], dtype=torch.uint8), tensor([1, 1, 0,  ..., 1, 0, 1], dtype=torch.uint8), tensor([1, 1, 0,  ..., 1, 0, 1], dtype=torch.uint8), tensor([1, 1, 0,  ..., 1, 0, 1], dtype=torch.uint8), tensor([1, 1, 0,  ..., 1, 0, 1], dtype=torch.uint8), tensor([1, 1, 0,  ..., 1, 0, 1], dtype=torch.uint8), tensor([1, 1, 0,  ..., 1, 0, 1], dtype=torch.uint8), tensor([1, 1, 0,  ..., 1, 0, 1], dtype=torch.uint8), tensor([1, 1, 0,  ..., 1, 0, 1], dtype=torch.uint8), tensor([1, 1, 0,  ..., 1, 0, 1], dtype=torch.uint8), tensor([1, 1, 0,  ..., 1, 0, 1], dtype=torch.uint8), tensor([1, 1, 0,  ..., 1, 0, 1], dtype=torch.uint8), tensor([1, 1, 0,  ..., 1, 0, 1], dtype=torch.uint8), tensor([1, 1, 0,  ..., 1, 0, 1], dtype=torch.uint8), tensor([1, 1, 0,  ..., 1, 0, 1], dtype=torch.uint8), tensor([1, 1, 0,  ..., 1, 0, 1], dtype=torch.uint8), tensor([1, 1, 0,  ..., 1, 0, 1], dtype=torch.uint8), tensor([1, 1, 0,  ..., 1, 0, 1], dtype=torch.uint8), tensor([1, 1, 0,  ..., 1, 0, 1], dtype=torch.uint8), tensor([1, 1, 0,  ..., 1, 0, 1], dtype=torch.uint8), tensor([1, 1, 0,  ..., 1, 0, 1], dtype=torch.uint8), tensor([1, 1, 0,  ..., 1, 0, 1], dtype=torch.uint8), tensor([1, 1, 0,  ..., 1, 0, 1], dtype=torch.uint8), tensor([1, 1, 0,  ..., 1, 0, 1], dtype=torch.uint8), tensor([1, 1, 0,  ..., 1, 0, 1], dtype=torch.uint8), tensor([1, 1, 0,  ..., 1, 0, 1], dtype=torch.uint8), tensor([1, 1, 0,  ..., 1, 0, 1], dtype=torch.uint8), tensor([1, 1, 0,  ..., 1, 0, 1], dtype=torch.uint8), tensor([1, 1, 0,  ..., 1, 0, 1], dtype=torch.uint8), tensor([1, 1, 0,  ..., 1, 0, 1], dtype=torch.uint8), tensor([1, 1, 0,  ..., 1, 0, 1], dtype=torch.uint8), tensor([1, 1, 0,  ..., 1, 0, 1], dtype=torch.uint8), tensor([1, 1, 0,  ..., 1, 0, 1], dtype=torch.uint8), tensor([1, 1, 0,  ..., 1, 0, 1], dtype=torch.uint8), tensor([1, 1, 0,  ..., 1, 0, 1], dtype=torch.uint8), tensor([1, 1, 0,  ..., 1, 0, 1], dtype=torch.uint8), tensor([1, 1, 0,  ..., 1, 0, 1], dtype=torch.uint8), tensor([1, 1, 0,  ..., 1, 0, 1], dtype=torch.uint8), tensor([1, 1, 0,  ..., 1, 0, 1], dtype=torch.uint8), tensor([1, 1, 0,  ..., 1, 0, 1], dtype=torch.uint8), tensor([1, 1, 0,  ..., 1, 0, 1], dtype=torch.uint8), tensor([1, 1, 0,  ..., 1, 0, 1], dtype=torch.uint8), tensor([1, 1, 0,  ..., 1, 0, 1], dtype=torch.uint8), tensor([1, 1, 0,  ..., 1, 0, 1], dtype=torch.uint8), tensor([1, 1, 0,  ..., 1, 0, 1], dtype=torch.uint8), tensor([1, 1, 0,  ..., 1, 0, 1], dtype=torch.uint8), tensor([1, 1, 0,  ..., 1, 0, 1], dtype=torch.uint8), tensor([1, 1, 0,  ..., 1, 0, 1], dtype=torch.uint8), tensor([1, 1, 0,  ..., 1, 0, 1], dtype=torch.uint8), tensor([1, 1, 0,  ..., 1, 0, 1], dtype=torch.uint8), tensor([1, 1, 0,  ..., 1, 0, 1], dtype=torch.uint8), tensor([1, 1, 0,  ..., 1, 0, 1], dtype=torch.uint8), tensor([1, 1, 0,  ..., 1, 0, 1], dtype=torch.uint8), tensor([1, 1, 0,  ..., 1, 0, 1], dtype=torch.uint8), tensor([1, 1, 0,  ..., 1, 0, 1], dtype=torch.uint8), tensor([1, 1, 0,  ..., 1, 0, 1], dtype=torch.uint8), tensor([1, 1, 0,  ..., 1, 0, 1], dtype=torch.uint8), tensor([1, 1, 0,  ..., 1, 0, 1], dtype=torch.uint8), tensor([1, 1, 0,  ..., 1, 0, 1], dtype=torch.uint8), tensor([1, 1, 0,  ..., 1, 0, 1], dtype=torch.uint8), tensor([1, 1, 0,  ..., 1, 0, 1], dtype=torch.uint8), tensor([1, 1, 0,  ..., 1, 0, 1], dtype=torch.uint8), tensor([1, 1, 0,  ..., 1, 0, 1], dtype=torch.uint8), tensor([1, 1, 0,  ..., 1, 0, 1], dtype=torch.uint8), tensor([1, 1, 0,  ..., 1, 0, 1], dtype=torch.uint8), tensor([1, 1, 0,  ..., 1, 0, 1], dtype=torch.uint8), tensor([1, 1, 0,  ..., 1, 0, 1], dtype=torch.uint8), tensor([1, 1, 0,  ..., 1, 0, 1], dtype=torch.uint8), tensor([1, 1, 0,  ..., 1, 0, 1], dtype=torch.uint8), tensor([1, 1, 0,  ..., 1, 0, 1], dtype=torch.uint8), tensor([1, 1, 0,  ..., 1, 0, 1], dtype=torch.uint8), tensor([1, 1, 0,  ..., 1, 0, 1], dtype=torch.uint8), tensor([1, 1, 0,  ..., 1, 0, 1], dtype=torch.uint8), tensor([1, 1, 0,  ..., 1, 0, 1], dtype=torch.uint8), tensor([1, 1, 0,  ..., 1, 0, 1], dtype=torch.uint8), tensor([1, 1, 0,  ..., 1, 0, 1], dtype=torch.uint8), tensor([1, 1, 0,  ..., 1, 0, 1], dtype=torch.uint8), tensor([1, 1, 0,  ..., 1, 0, 1], dtype=torch.uint8), tensor([1, 1, 0,  ..., 1, 0, 1], dtype=torch.uint8), tensor([1, 1, 0,  ..., 1, 0, 1], dtype=torch.uint8), tensor([1, 1, 0,  ..., 1, 0, 1], dtype=torch.uint8), tensor([1, 1, 0,  ..., 1, 0, 1], dtype=torch.uint8), tensor([1, 1, 0,  ..., 1, 0, 1], dtype=torch.uint8), tensor([1, 1, 0,  ..., 1, 0, 1], dtype=torch.uint8), tensor([1, 1, 0,  ..., 1, 0, 1], dtype=torch.uint8), tensor([1, 1, 0,  ..., 1, 0, 1], dtype=torch.uint8), tensor([1, 1, 0,  ..., 1, 0, 1], dtype=torch.uint8), tensor([1, 1, 0,  ..., 1, 0, 1], dtype=torch.uint8), tensor([1, 1, 0,  ..., 1, 0, 1], dtype=torch.uint8), tensor([1, 1, 0,  ..., 1, 0, 1], dtype=torch.uint8), tensor([1, 1, 0,  ..., 1, 0, 1], dtype=torch.uint8), tensor([1, 1, 0,  ..., 1, 0, 1], dtype=torch.uint8), tensor([1, 1, 0,  ..., 1, 0, 1], dtype=torch.uint8), tensor([1, 1, 0,  ..., 1, 0, 1], dtype=torch.uint8), tensor([1, 1, 0,  ..., 1, 0, 1], dtype=torch.uint8), tensor([1, 1, 0,  ..., 1, 0, 1], dtype=torch.uint8), tensor([1, 1, 0,  ..., 1, 0, 1], dtype=torch.uint8), tensor([1, 1, 0,  ..., 1, 0, 1], dtype=torch.uint8), tensor([1, 1, 0,  ..., 1, 0, 1], dtype=torch.uint8), tensor([1, 1, 0,  ..., 1, 0, 1], dtype=torch.uint8), tensor([1, 1, 0,  ..., 1, 0, 1], dtype=torch.uint8), tensor([1, 1, 0,  ..., 1, 0, 1], dtype=torch.uint8), tensor([1, 1, 0,  ..., 1, 0, 1], dtype=torch.uint8), tensor([1, 1, 0,  ..., 1, 0, 1], dtype=torch.uint8), tensor([1, 1, 0,  ..., 1, 0, 1], dtype=torch.uint8), tensor([1, 1, 0,  ..., 1, 0, 1], dtype=torch.uint8), tensor([1, 1, 0,  ..., 1, 0, 1], dtype=torch.uint8), tensor([1, 1, 0,  ..., 1, 0, 1], dtype=torch.uint8), tensor([1, 1, 0,  ..., 1, 0, 1], dtype=torch.uint8), tensor([1, 1, 0,  ..., 1, 0, 1], dtype=torch.uint8), tensor([1, 1, 0,  ..., 1, 0, 1], dtype=torch.uint8), tensor([1, 1, 0,  ..., 1, 0, 1], dtype=torch.uint8), tensor([1, 1, 0,  ..., 1, 0, 1], dtype=torch.uint8), tensor([1, 1, 0,  ..., 1, 0, 1], dtype=torch.uint8), tensor([1, 1, 0,  ..., 1, 0, 1], dtype=torch.uint8), tensor([1, 1, 0,  ..., 1, 0, 1], dtype=torch.uint8), tensor([1, 1, 0,  ..., 1, 0, 1], dtype=torch.uint8), tensor([1, 1, 0,  ..., 1, 0, 1], dtype=torch.uint8), tensor([1, 1, 0,  ..., 1, 0, 1], dtype=torch.uint8), tensor([1, 1, 0,  ..., 1, 0, 1], dtype=torch.uint8), tensor([1, 1, 0,  ..., 1, 0, 1], dtype=torch.uint8), tensor([1, 1, 0,  ..., 1, 0, 1], dtype=torch.uint8), tensor([1, 1, 0,  ..., 1, 0, 1], dtype=torch.uint8), tensor([1, 1, 0,  ..., 1, 0, 1], dtype=torch.uint8), tensor([1, 1, 0,  ..., 1, 0, 1], dtype=torch.uint8), tensor([1, 1, 0,  ..., 1, 0, 1], dtype=torch.uint8), tensor([1, 1, 0,  ..., 1, 0, 1], dtype=torch.uint8), tensor([1, 1, 0,  ..., 1, 0, 1], dtype=torch.uint8), tensor([1, 1, 0,  ..., 1, 0, 1], dtype=torch.uint8), tensor([1, 1, 0,  ..., 1, 0, 1], dtype=torch.uint8), tensor([1, 1, 0,  ..., 1, 0, 1], dtype=torch.uint8), tensor([1, 1, 0,  ..., 1, 0, 1], dtype=torch.uint8), tensor([1, 1, 0,  ..., 1, 0, 1], dtype=torch.uint8), tensor([1, 1, 0,  ..., 1, 0, 1], dtype=torch.uint8), tensor([1, 1, 0,  ..., 1, 0, 1], dtype=torch.uint8), tensor([1, 1, 0,  ..., 1, 0, 1], dtype=torch.uint8), tensor([1, 1, 0,  ..., 1, 0, 1], dtype=torch.uint8), tensor([1, 1, 0,  ..., 1, 0, 1], dtype=torch.uint8), tensor([1, 1, 0,  ..., 1, 0, 1], dtype=torch.uint8), tensor([1, 1, 0,  ..., 1, 0, 1], dtype=torch.uint8), tensor([1, 1, 0,  ..., 1, 0, 1], dtype=torch.uint8), tensor([1, 1, 0,  ..., 1, 0, 1], dtype=torch.uint8), tensor([1, 1, 0,  ..., 1, 0, 1], dtype=torch.uint8), tensor([1, 1, 0,  ..., 1, 0, 1], dtype=torch.uint8), tensor([1, 1, 0,  ..., 1, 0, 1], dtype=torch.uint8), tensor([1, 1, 0,  ..., 1, 0, 1], dtype=torch.uint8), tensor([1, 1, 0,  ..., 1, 0, 1], dtype=torch.uint8), tensor([1, 1, 0,  ..., 1, 0, 1], dtype=torch.uint8), tensor([1, 1, 0,  ..., 1, 0, 1], dtype=torch.uint8), tensor([1, 1, 0,  ..., 1, 0, 1], dtype=torch.uint8), tensor([1, 1, 0,  ..., 1, 0, 1], dtype=torch.uint8), tensor([1, 1, 0,  ..., 1, 0, 1], dtype=torch.uint8), tensor([1, 1, 0,  ..., 1, 0, 1], dtype=torch.uint8), tensor([1, 1, 0,  ..., 1, 0, 1], dtype=torch.uint8), tensor([1, 1, 0,  ..., 1, 0, 1], dtype=torch.uint8), tensor([1, 1, 0,  ..., 1, 0, 1], dtype=torch.uint8), tensor([1, 1, 0,  ..., 1, 0, 1], dtype=torch.uint8), tensor([1, 1, 0,  ..., 1, 0, 1], dtype=torch.uint8), tensor([1, 1, 0,  ..., 1, 0, 1], dtype=torch.uint8), tensor([1, 1, 0,  ..., 1, 0, 1], dtype=torch.uint8), tensor([1, 1, 0,  ..., 1, 0, 1], dtype=torch.uint8), tensor([1, 1, 0,  ..., 1, 0, 1], dtype=torch.uint8), tensor([1, 1, 0,  ..., 1, 0, 1], dtype=torch.uint8), tensor([1, 1, 0,  ..., 1, 0, 1], dtype=torch.uint8), tensor([1, 1, 0,  ..., 1, 0, 1], dtype=torch.uint8), tensor([1, 1, 0,  ..., 1, 0, 1], dtype=torch.uint8), tensor([1, 1, 0,  ..., 1, 0, 1], dtype=torch.uint8), tensor([1, 1, 0,  ..., 1, 0, 1], dtype=torch.uint8), tensor([1, 1, 0,  ..., 1, 0, 1], dtype=torch.uint8), tensor([1, 1, 0,  ..., 1, 0, 1], dtype=torch.uint8), tensor([1, 1, 0,  ..., 1, 0, 1], dtype=torch.uint8), tensor([1, 1, 0,  ..., 1, 0, 1], dtype=torch.uint8), tensor([1, 1, 0,  ..., 1, 0, 1], dtype=torch.uint8), tensor([1, 1, 0,  ..., 1, 0, 1], dtype=torch.uint8), tensor([1, 1, 0,  ..., 1, 0, 1], dtype=torch.uint8), tensor([1, 1, 0,  ..., 1, 0, 1], dtype=torch.uint8), tensor([1, 1, 0,  ..., 1, 0, 1], dtype=torch.uint8), tensor([1, 1, 0,  ..., 1, 0, 1], dtype=torch.uint8), tensor([1, 1, 0,  ..., 1, 0, 1], dtype=torch.uint8), tensor([1, 1, 0,  ..., 1, 0, 1], dtype=torch.uint8), tensor([1, 1, 0,  ..., 1, 0, 1], dtype=torch.uint8), tensor([1, 1, 0,  ..., 1, 0, 1], dtype=torch.uint8), tensor([1, 1, 0,  ..., 1, 0, 1], dtype=torch.uint8), tensor([1, 1, 0,  ..., 1, 0, 1], dtype=torch.uint8), tensor([1, 1, 0,  ..., 1, 0, 1], dtype=torch.uint8), tensor([1, 1, 0,  ..., 1, 0, 1], dtype=torch.uint8), tensor([1, 1, 0,  ..., 1, 0, 1], dtype=torch.uint8), tensor([1, 1, 0,  ..., 1, 0, 1], dtype=torch.uint8), tensor([1, 1, 0,  ..., 1, 0, 1], dtype=torch.uint8), tensor([1, 1, 0,  ..., 1, 0, 1], dtype=torch.uint8), tensor([1, 1, 0,  ..., 1, 0, 1], dtype=torch.uint8), tensor([1, 1, 0,  ..., 1, 0, 1], dtype=torch.uint8), tensor([1, 1, 0,  ..., 1, 0, 1], dtype=torch.uint8), tensor([1, 1, 0,  ..., 1, 0, 1], dtype=torch.uint8), tensor([1, 1, 0,  ..., 1, 0, 1], dtype=torch.uint8), tensor([1, 1, 0,  ..., 1, 0, 1], dtype=torch.uint8), tensor([1, 1, 0,  ..., 1, 0, 1], dtype=torch.uint8), tensor([1, 1, 0,  ..., 1, 0, 1], dtype=torch.uint8), tensor([1, 1, 0,  ..., 1, 0, 1], dtype=torch.uint8), tensor([1, 1, 0,  ..., 1, 0, 1], dtype=torch.uint8), tensor([1, 1, 0,  ..., 1, 0, 1], dtype=torch.uint8), tensor([1, 1, 0,  ..., 1, 0, 1], dtype=torch.uint8), tensor([1, 1, 0,  ..., 1, 0, 1], dtype=torch.uint8), tensor([1, 1, 0,  ..., 1, 0, 1], dtype=torch.uint8), tensor([1, 1, 0,  ..., 1, 0, 1], dtype=torch.uint8), tensor([1, 1, 0,  ..., 1, 0, 1], dtype=torch.uint8), tensor([1, 1, 0,  ..., 1, 0, 1], dtype=torch.uint8), tensor([1, 1, 0,  ..., 1, 0, 1], dtype=torch.uint8), tensor([1, 1, 0,  ..., 1, 0, 1], dtype=torch.uint8), tensor([1, 1, 0,  ..., 1, 0, 1], dtype=torch.uint8), tensor([1, 1, 0,  ..., 1, 0, 1], dtype=torch.uint8), tensor([1, 1, 0,  ..., 1, 0, 1], dtype=torch.uint8), tensor([1, 1, 0,  ..., 1, 0, 1], dtype=torch.uint8), tensor([1, 1, 0,  ..., 1, 0, 1], dtype=torch.uint8), tensor([1, 1, 0,  ..., 1, 0, 1], dtype=torch.uint8), tensor([1, 1, 0,  ..., 1, 0, 1], dtype=torch.uint8), tensor([1, 1, 0,  ..., 1, 0, 1], dtype=torch.uint8), tensor([1, 1, 0,  ..., 1, 0, 1], dtype=torch.uint8), tensor([1, 1, 0,  ..., 1, 0, 1], dtype=torch.uint8), tensor([1, 1, 0,  ..., 1, 0, 1], dtype=torch.uint8), tensor([1, 1, 0,  ..., 1, 0, 1], dtype=torch.uint8), tensor([1, 1, 0,  ..., 1, 0, 1], dtype=torch.uint8), tensor([1, 1, 0,  ..., 1, 0, 1], dtype=torch.uint8), tensor([1, 1, 0,  ..., 1, 0, 1], dtype=torch.uint8), tensor([1, 1, 0,  ..., 1, 0, 1], dtype=torch.uint8), tensor([1, 1, 0,  ..., 1, 0, 1], dtype=torch.uint8), tensor([1, 1, 0,  ..., 1, 0, 1], dtype=torch.uint8), tensor([1, 1, 0,  ..., 1, 0, 1], dtype=torch.uint8), tensor([1, 1, 0,  ..., 1, 0, 1], dtype=torch.uint8), tensor([1, 1, 0,  ..., 1, 0, 1], dtype=torch.uint8), tensor([1, 1, 0,  ..., 1, 0, 1], dtype=torch.uint8), tensor([1, 1, 0,  ..., 1, 0, 1], dtype=torch.uint8), tensor([1, 1, 0,  ..., 1, 0, 1], dtype=torch.uint8), tensor([1, 1, 0,  ..., 1, 0, 1], dtype=torch.uint8), tensor([1, 1, 0,  ..., 1, 0, 1], dtype=torch.uint8), tensor([1, 1, 0,  ..., 1, 0, 1], dtype=torch.uint8), tensor([1, 1, 0,  ..., 1, 0, 1], dtype=torch.uint8), tensor([1, 1, 0,  ..., 1, 0, 1], dtype=torch.uint8), tensor([1, 1, 0,  ..., 1, 0, 1], dtype=torch.uint8), tensor([1, 1, 0,  ..., 1, 0, 1], dtype=torch.uint8), tensor([1, 1, 0,  ..., 1, 0, 1], dtype=torch.uint8), tensor([1, 1, 0,  ..., 1, 0, 1], dtype=torch.uint8), tensor([1, 1, 0,  ..., 1, 0, 1], dtype=torch.uint8), tensor([1, 1, 0,  ..., 1, 0, 1], dtype=torch.uint8), tensor([1, 1, 0,  ..., 1, 0, 1], dtype=torch.uint8), tensor([1, 1, 0,  ..., 1, 0, 1], dtype=torch.uint8), tensor([1, 1, 0,  ..., 1, 0, 1], dtype=torch.uint8), tensor([1, 1, 0,  ..., 1, 0, 1], dtype=torch.uint8), tensor([1, 1, 0,  ..., 1, 0, 1], dtype=torch.uint8), tensor([1, 1, 0,  ..., 1, 0, 1], dtype=torch.uint8), tensor([1, 1, 0,  ..., 1, 0, 1], dtype=torch.uint8), tensor([1, 1, 0,  ..., 1, 0, 1], dtype=torch.uint8), tensor([1, 1, 0,  ..., 1, 0, 1], dtype=torch.uint8), tensor([1, 1, 0,  ..., 1, 0, 1], dtype=torch.uint8), tensor([1, 1, 0,  ..., 1, 0, 1], dtype=torch.uint8), tensor([1, 1, 0,  ..., 1, 0, 1], dtype=torch.uint8), tensor([1, 1, 0,  ..., 1, 0, 1], dtype=torch.uint8), tensor([1, 1, 0,  ..., 1, 0, 1], dtype=torch.uint8), tensor([1, 1, 0,  ..., 1, 0, 1], dtype=torch.uint8), tensor([1, 1, 0,  ..., 1, 0, 1], dtype=torch.uint8), tensor([1, 1, 0,  ..., 1, 0, 1], dtype=torch.uint8), tensor([1, 1, 0,  ..., 1, 0, 1], dtype=torch.uint8), tensor([1, 1, 0,  ..., 1, 0, 1], dtype=torch.uint8), tensor([1, 1, 0,  ..., 1, 0, 1], dtype=torch.uint8), tensor([1, 1, 0,  ..., 1, 0, 1], dtype=torch.uint8), tensor([1, 1, 0,  ..., 1, 0, 1], dtype=torch.uint8), tensor([1, 1, 0,  ..., 1, 0, 1], dtype=torch.uint8), tensor([1, 1, 0,  ..., 1, 0, 1], dtype=torch.uint8), tensor([1, 1, 0,  ..., 1, 0, 1], dtype=torch.uint8), tensor([1, 1, 0,  ..., 1, 0, 1], dtype=torch.uint8), tensor([1, 1, 0,  ..., 1, 0, 1], dtype=torch.uint8), tensor([1, 1, 0,  ..., 1, 0, 1], dtype=torch.uint8), tensor([1, 1, 0,  ..., 1, 0, 1], dtype=torch.uint8), tensor([1, 1, 0,  ..., 1, 0, 1], dtype=torch.uint8), tensor([1, 1, 0,  ..., 1, 0, 1], dtype=torch.uint8), tensor([1, 1, 0,  ..., 1, 0, 1], dtype=torch.uint8), tensor([1, 1, 0,  ..., 1, 0, 1], dtype=torch.uint8), tensor([1, 1, 0,  ..., 1, 0, 1], dtype=torch.uint8), tensor([1, 1, 0,  ..., 1, 0, 1], dtype=torch.uint8), tensor([1, 1, 0,  ..., 1, 0, 1], dtype=torch.uint8), tensor([1, 1, 0,  ..., 1, 0, 1], dtype=torch.uint8), tensor([1, 1, 0,  ..., 1, 0, 1], dtype=torch.uint8), tensor([1, 1, 0,  ..., 1, 0, 1], dtype=torch.uint8), tensor([1, 1, 0,  ..., 1, 0, 1], dtype=torch.uint8), tensor([1, 1, 0,  ..., 1, 0, 1], dtype=torch.uint8), tensor([1, 1, 0,  ..., 1, 0, 1], dtype=torch.uint8), tensor([1, 1, 0,  ..., 1, 0, 1], dtype=torch.uint8), tensor([1, 1, 0,  ..., 1, 0, 1], dtype=torch.uint8), tensor([1, 1, 0,  ..., 1, 0, 1], dtype=torch.uint8), tensor([1, 1, 0,  ..., 1, 0, 1], dtype=torch.uint8), tensor([1, 1, 0,  ..., 1, 0, 1], dtype=torch.uint8), tensor([1, 1, 0,  ..., 1, 0, 1], dtype=torch.uint8), tensor([1, 1, 0,  ..., 1, 0, 1], dtype=torch.uint8), tensor([1, 1, 0,  ..., 1, 0, 1], dtype=torch.uint8), tensor([1, 1, 0,  ..., 1, 0, 1], dtype=torch.uint8), tensor([1, 1, 0,  ..., 1, 0, 1], dtype=torch.uint8), tensor([1, 1, 0,  ..., 1, 0, 1], dtype=torch.uint8), tensor([1, 1, 0,  ..., 1, 0, 1], dtype=torch.uint8), tensor([1, 1, 0,  ..., 1, 0, 1], dtype=torch.uint8), tensor([1, 1, 0,  ..., 1, 0, 1], dtype=torch.uint8), tensor([1, 1, 0,  ..., 1, 0, 1], dtype=torch.uint8), tensor([1, 1, 0,  ..., 1, 0, 1], dtype=torch.uint8), tensor([1, 1, 0,  ..., 1, 0, 1], dtype=torch.uint8), tensor([1, 1, 0,  ..., 1, 0, 1], dtype=torch.uint8), tensor([1, 1, 0,  ..., 1, 0, 1], dtype=torch.uint8), tensor([1, 1, 0,  ..., 1, 0, 1], dtype=torch.uint8), tensor([1, 1, 0,  ..., 1, 0, 1], dtype=torch.uint8), tensor([1, 1, 0,  ..., 1, 0, 1], dtype=torch.uint8), tensor([1, 1, 0,  ..., 1, 0, 1], dtype=torch.uint8), tensor([1, 1, 0,  ..., 1, 0, 1], dtype=torch.uint8), tensor([1, 1, 0,  ..., 1, 0, 1], dtype=torch.uint8), tensor([1, 1, 0,  ..., 1, 0, 1], dtype=torch.uint8), tensor([1, 1, 0,  ..., 1, 0, 1], dtype=torch.uint8), tensor([1, 1, 0,  ..., 1, 0, 1], dtype=torch.uint8), tensor([1, 1, 0,  ..., 1, 0, 1], dtype=torch.uint8), tensor([1, 1, 0,  ..., 1, 0, 1], dtype=torch.uint8), tensor([1, 1, 0,  ..., 1, 0, 1], dtype=torch.uint8), tensor([1, 1, 0,  ..., 1, 0, 1], dtype=torch.uint8), tensor([1, 1, 0,  ..., 1, 0, 1], dtype=torch.uint8), tensor([1, 1, 0,  ..., 1, 0, 1], dtype=torch.uint8), tensor([1, 1, 0,  ..., 1, 0, 1], dtype=torch.uint8), tensor([1, 1, 0,  ..., 1, 0, 1], dtype=torch.uint8), tensor([1, 1, 0,  ..., 1, 0, 1], dtype=torch.uint8), tensor([1, 1, 0,  ..., 1, 0, 1], dtype=torch.uint8), tensor([1, 1, 0,  ..., 1, 0, 1], dtype=torch.uint8), tensor([1, 1, 0,  ..., 1, 0, 1], dtype=torch.uint8), tensor([1, 1, 0,  ..., 1, 0, 1], dtype=torch.uint8), tensor([1, 1, 0,  ..., 1, 0, 1], dtype=torch.uint8), tensor([1, 1, 0,  ..., 1, 0, 1], dtype=torch.uint8), tensor([1, 1, 0,  ..., 1, 0, 1], dtype=torch.uint8), tensor([1, 1, 0,  ..., 1, 0, 1], dtype=torch.uint8), tensor([1, 1, 0,  ..., 1, 0, 1], dtype=torch.uint8), tensor([1, 1, 0,  ..., 1, 0, 1], dtype=torch.uint8), tensor([1, 1, 0,  ..., 1, 0, 1], dtype=torch.uint8), tensor([1, 1, 0,  ..., 1, 0, 1], dtype=torch.uint8), tensor([1, 1, 0,  ..., 1, 0, 1], dtype=torch.uint8), tensor([1, 1, 0,  ..., 1, 0, 1], dtype=torch.uint8), tensor([1, 1, 0,  ..., 1, 0, 1], dtype=torch.uint8), tensor([1, 1, 0,  ..., 1, 0, 1], dtype=torch.uint8), tensor([1, 1, 0,  ..., 1, 0, 1], dtype=torch.uint8), tensor([1, 1, 0,  ..., 1, 0, 1], dtype=torch.uint8), tensor([1, 1, 0,  ..., 1, 0, 1], dtype=torch.uint8), tensor([1, 1, 0,  ..., 1, 0, 1], dtype=torch.uint8), tensor([1, 1, 0,  ..., 1, 0, 1], dtype=torch.uint8), tensor([1, 1, 0,  ..., 1, 0, 1], dtype=torch.uint8), tensor([1, 1, 0,  ..., 1, 0, 1], dtype=torch.uint8), tensor([1, 1, 0,  ..., 1, 0, 1], dtype=torch.uint8), tensor([1, 1, 0,  ..., 1, 0, 1], dtype=torch.uint8), tensor([1, 1, 0,  ..., 1, 0, 1], dtype=torch.uint8), tensor([1, 1, 0,  ..., 1, 0, 1], dtype=torch.uint8), tensor([1, 1, 0,  ..., 1, 0, 1], dtype=torch.uint8), tensor([1, 1, 0,  ..., 1, 0, 1], dtype=torch.uint8), tensor([1, 1, 0,  ..., 1, 0, 1], dtype=torch.uint8), tensor([1, 1, 0,  ..., 1, 0, 1], dtype=torch.uint8), tensor([1, 1, 0,  ..., 1, 0, 1], dtype=torch.uint8), tensor([1, 1, 0,  ..., 1, 0, 1], dtype=torch.uint8), tensor([1, 1, 0,  ..., 1, 0, 1], dtype=torch.uint8), tensor([1, 1, 0,  ..., 1, 0, 1], dtype=torch.uint8), tensor([1, 1, 0,  ..., 1, 0, 1], dtype=torch.uint8), tensor([1, 1, 0,  ..., 1, 0, 1], dtype=torch.uint8), tensor([1, 1, 0,  ..., 1, 0, 1], dtype=torch.uint8), tensor([1, 1, 0,  ..., 1, 0, 1], dtype=torch.uint8), tensor([1, 1, 0,  ..., 1, 0, 1], dtype=torch.uint8), tensor([1, 1, 0,  ..., 1, 0, 1], dtype=torch.uint8), tensor([1, 1, 0,  ..., 1, 0, 1], dtype=torch.uint8), tensor([1, 1, 0,  ..., 1, 0, 1], dtype=torch.uint8), tensor([1, 1, 0,  ..., 1, 0, 1], dtype=torch.uint8), tensor([1, 1, 0,  ..., 1, 0, 1], dtype=torch.uint8), tensor([1, 1, 0,  ..., 1, 0, 1], dtype=torch.uint8), tensor([1, 1, 0,  ..., 1, 0, 1], dtype=torch.uint8), tensor([1, 1, 0,  ..., 1, 0, 1], dtype=torch.uint8), tensor([1, 1, 0,  ..., 1, 0, 1], dtype=torch.uint8), tensor([1, 1, 0,  ..., 1, 0, 1], dtype=torch.uint8), tensor([1, 1, 0,  ..., 1, 0, 1], dtype=torch.uint8), tensor([1, 1, 0,  ..., 1, 0, 1], dtype=torch.uint8), tensor([1, 1, 0,  ..., 1, 0, 1], dtype=torch.uint8), tensor([1, 1, 0,  ..., 1, 0, 1], dtype=torch.uint8), tensor([1, 1, 0,  ..., 1, 0, 1], dtype=torch.uint8), tensor([1, 1, 0,  ..., 1, 0, 1], dtype=torch.uint8), tensor([1, 1, 0,  ..., 1, 0, 1], dtype=torch.uint8), tensor([1, 1, 0,  ..., 1, 0, 1], dtype=torch.uint8), tensor([1, 1, 0,  ..., 1, 0, 1], dtype=torch.uint8), tensor([1, 1, 0,  ..., 1, 0, 1], dtype=torch.uint8), tensor([1, 1, 0,  ..., 1, 0, 1], dtype=torch.uint8), tensor([1, 1, 0,  ..., 1, 0, 1], dtype=torch.uint8), tensor([1, 1, 0,  ..., 1, 0, 1], dtype=torch.uint8), tensor([1, 1, 0,  ..., 1, 0, 1], dtype=torch.uint8), tensor([1, 1, 0,  ..., 1, 0, 1], dtype=torch.uint8), tensor([1, 1, 0,  ..., 1, 0, 1], dtype=torch.uint8), tensor([1, 1, 0,  ..., 1, 0, 1], dtype=torch.uint8), tensor([1, 1, 0,  ..., 1, 0, 1], dtype=torch.uint8), tensor([1, 1, 0,  ..., 1, 0, 1], dtype=torch.uint8), tensor([1, 1, 0,  ..., 1, 0, 1], dtype=torch.uint8), tensor([1, 1, 0,  ..., 1, 0, 1], dtype=torch.uint8), tensor([1, 1, 0,  ..., 1, 0, 1], dtype=torch.uint8), tensor([1, 1, 0,  ..., 1, 0, 1], dtype=torch.uint8), tensor([1, 1, 0,  ..., 1, 0, 1], dtype=torch.uint8), tensor([1, 1, 0,  ..., 1, 0, 1], dtype=torch.uint8), tensor([1, 1, 0,  ..., 1, 0, 1], dtype=torch.uint8), tensor([1, 1, 0,  ..., 1, 0, 1], dtype=torch.uint8), tensor([1, 1, 0,  ..., 1, 0, 1], dtype=torch.uint8), tensor([1, 1, 0,  ..., 1, 0, 1], dtype=torch.uint8), tensor([1, 1, 0,  ..., 1, 0, 1], dtype=torch.uint8), tensor([1, 1, 0,  ..., 1, 0, 1], dtype=torch.uint8), tensor([1, 1, 0,  ..., 1, 0, 1], dtype=torch.uint8), tensor([1, 1, 0,  ..., 1, 0, 1], dtype=torch.uint8), tensor([1, 1, 0,  ..., 1, 0, 1], dtype=torch.uint8), tensor([1, 1, 0,  ..., 1, 0, 1], dtype=torch.uint8), tensor([1, 1, 0,  ..., 1, 0, 1], dtype=torch.uint8), tensor([1, 1, 0,  ..., 1, 0, 1], dtype=torch.uint8), tensor([1, 1, 0,  ..., 1, 0, 1], dtype=torch.uint8), tensor([1, 1, 0,  ..., 1, 0, 1], dtype=torch.uint8), tensor([1, 1, 0,  ..., 1, 0, 1], dtype=torch.uint8), tensor([1, 1, 0,  ..., 1, 0, 1], dtype=torch.uint8), tensor([1, 1, 0,  ..., 1, 0, 1], dtype=torch.uint8), tensor([1, 1, 0,  ..., 1, 0, 1], dtype=torch.uint8), tensor([1, 1, 0,  ..., 1, 0, 1], dtype=torch.uint8), tensor([1, 1, 0,  ..., 1, 0, 1], dtype=torch.uint8), tensor([1, 1, 0,  ..., 1, 0, 1], dtype=torch.uint8), tensor([1, 1, 0,  ..., 1, 0, 1], dtype=torch.uint8), tensor([1, 1, 0,  ..., 1, 0, 1], dtype=torch.uint8), tensor([1, 1, 0,  ..., 1, 0, 1], dtype=torch.uint8), tensor([1, 1, 0,  ..., 1, 0, 1], dtype=torch.uint8), tensor([1, 1, 0,  ..., 1, 0, 1], dtype=torch.uint8), tensor([1, 1, 0,  ..., 1, 0, 1], dtype=torch.uint8), tensor([1, 1, 0,  ..., 1, 0, 1], dtype=torch.uint8), tensor([1, 1, 0,  ..., 1, 0, 1], dtype=torch.uint8), tensor([1, 1, 0,  ..., 1, 0, 1], dtype=torch.uint8), tensor([1, 1, 0,  ..., 1, 0, 1], dtype=torch.uint8), tensor([1, 1, 0,  ..., 1, 0, 1], dtype=torch.uint8), tensor([1, 1, 0,  ..., 1, 0, 1], dtype=torch.uint8), tensor([1, 1, 0,  ..., 1, 0, 1], dtype=torch.uint8), tensor([1, 1, 0,  ..., 1, 0, 1], dtype=torch.uint8), tensor([1, 1, 0,  ..., 1, 0, 1], dtype=torch.uint8), tensor([1, 1, 0,  ..., 1, 0, 1], dtype=torch.uint8), tensor([1, 1, 0,  ..., 1, 0, 1], dtype=torch.uint8), tensor([1, 1, 0,  ..., 1, 0, 1], dtype=torch.uint8), tensor([1, 1, 0,  ..., 1, 0, 1], dtype=torch.uint8), tensor([1, 1, 0,  ..., 1, 0, 1], dtype=torch.uint8), tensor([1, 1, 0,  ..., 1, 0, 1], dtype=torch.uint8), tensor([1, 1, 0,  ..., 1, 0, 1], dtype=torch.uint8), tensor([1, 1, 0,  ..., 1, 0, 1], dtype=torch.uint8), tensor([1, 1, 0,  ..., 1, 0, 1], dtype=torch.uint8), tensor([1, 1, 0,  ..., 1, 0, 1], dtype=torch.uint8), tensor([1, 1, 0,  ..., 1, 0, 1], dtype=torch.uint8), tensor([1, 1, 0,  ..., 1, 0, 1], dtype=torch.uint8), tensor([1, 1, 0,  ..., 1, 0, 1], dtype=torch.uint8), tensor([1, 1, 0,  ..., 1, 0, 1], dtype=torch.uint8), tensor([1, 1, 0,  ..., 1, 0, 1], dtype=torch.uint8), tensor([1, 1, 0,  ..., 1, 0, 1], dtype=torch.uint8), tensor([1, 1, 0,  ..., 1, 0, 1], dtype=torch.uint8), tensor([1, 1, 0,  ..., 1, 0, 1], dtype=torch.uint8), tensor([1, 1, 0,  ..., 1, 0, 1], dtype=torch.uint8), tensor([1, 1, 0,  ..., 1, 0, 1], dtype=torch.uint8), tensor([1, 1, 0,  ..., 1, 0, 1], dtype=torch.uint8), tensor([1, 1, 0,  ..., 1, 0, 1], dtype=torch.uint8), tensor([1, 1, 0,  ..., 1, 0, 1], dtype=torch.uint8), tensor([1, 1, 0,  ..., 1, 0, 1], dtype=torch.uint8), tensor([1, 1, 0,  ..., 1, 0, 1], dtype=torch.uint8), tensor([1, 1, 0,  ..., 1, 0, 1], dtype=torch.uint8), tensor([1, 1, 0,  ..., 1, 0, 1], dtype=torch.uint8), tensor([1, 1, 0,  ..., 1, 0, 1], dtype=torch.uint8), tensor([1, 1, 0,  ..., 1, 0, 1], dtype=torch.uint8), tensor([1, 1, 0,  ..., 1, 0, 1], dtype=torch.uint8), tensor([1, 1, 0,  ..., 1, 0, 1], dtype=torch.uint8), tensor([1, 1, 0,  ..., 1, 0, 1], dtype=torch.uint8), tensor([1, 1, 0,  ..., 1, 0, 1], dtype=torch.uint8), tensor([1, 1, 0,  ..., 1, 0, 1], dtype=torch.uint8), tensor([1, 1, 0,  ..., 1, 0, 1], dtype=torch.uint8), tensor([1, 1, 0,  ..., 1, 0, 1], dtype=torch.uint8), tensor([1, 1, 0,  ..., 1, 0, 1], dtype=torch.uint8), tensor([1, 1, 0,  ..., 1, 0, 1], dtype=torch.uint8), tensor([1, 1, 0,  ..., 1, 0, 1], dtype=torch.uint8), tensor([1, 1, 0,  ..., 1, 0, 1], dtype=torch.uint8), tensor([1, 1, 0,  ..., 1, 0, 1], dtype=torch.uint8), tensor([1, 1, 0,  ..., 1, 0, 1], dtype=torch.uint8), tensor([1, 1, 0,  ..., 1, 0, 1], dtype=torch.uint8), tensor([1, 1, 0,  ..., 1, 0, 1], dtype=torch.uint8), tensor([1, 1, 0,  ..., 1, 0, 1], dtype=torch.uint8), tensor([1, 1, 0,  ..., 1, 0, 1], dtype=torch.uint8), tensor([1, 1, 0,  ..., 1, 0, 1], dtype=torch.uint8), tensor([1, 1, 0,  ..., 1, 0, 1], dtype=torch.uint8), tensor([1, 1, 0,  ..., 1, 0, 1], dtype=torch.uint8), tensor([1, 1, 0,  ..., 1, 0, 1], dtype=torch.uint8), tensor([1, 1, 0,  ..., 1, 0, 1], dtype=torch.uint8), tensor([1, 1, 0,  ..., 1, 0, 1], dtype=torch.uint8), tensor([1, 1, 0,  ..., 1, 0, 1], dtype=torch.uint8), tensor([1, 1, 0,  ..., 1, 0, 1], dtype=torch.uint8), tensor([1, 1, 0,  ..., 1, 0, 1], dtype=torch.uint8), tensor([1, 1, 0,  ..., 1, 0, 1], dtype=torch.uint8), tensor([1, 1, 0,  ..., 1, 0, 1], dtype=torch.uint8), tensor([1, 1, 0,  ..., 1, 0, 1], dtype=torch.uint8), tensor([1, 1, 0,  ..., 1, 0, 1], dtype=torch.uint8), tensor([1, 1, 0,  ..., 1, 0, 1], dtype=torch.uint8), tensor([1, 1, 0,  ..., 1, 0, 1], dtype=torch.uint8), tensor([1, 1, 0,  ..., 1, 0, 1], dtype=torch.uint8), tensor([1, 1, 0,  ..., 1, 0, 1], dtype=torch.uint8), tensor([1, 1, 0,  ..., 1, 0, 1], dtype=torch.uint8), tensor([1, 1, 0,  ..., 1, 0, 1], dtype=torch.uint8), tensor([1, 1, 0,  ..., 1, 0, 1], dtype=torch.uint8), tensor([1, 1, 0,  ..., 1, 0, 1], dtype=torch.uint8), tensor([1, 1, 0,  ..., 1, 0, 1], dtype=torch.uint8), tensor([1, 1, 0,  ..., 1, 0, 1], dtype=torch.uint8), tensor([1, 1, 0,  ..., 1, 0, 1], dtype=torch.uint8), tensor([1, 1, 0,  ..., 1, 0, 1], dtype=torch.uint8), tensor([1, 1, 0,  ..., 1, 0, 1], dtype=torch.uint8), tensor([1, 1, 0,  ..., 1, 0, 1], dtype=torch.uint8), tensor([1, 1, 0,  ..., 1, 0, 1], dtype=torch.uint8), tensor([1, 1, 0,  ..., 1, 0, 1], dtype=torch.uint8), tensor([1, 1, 0,  ..., 1, 0, 1], dtype=torch.uint8), tensor([1, 1, 0,  ..., 1, 0, 1], dtype=torch.uint8), tensor([1, 1, 0,  ..., 1, 0, 1], dtype=torch.uint8), tensor([1, 1, 0,  ..., 1, 0, 1], dtype=torch.uint8), tensor([1, 1, 0,  ..., 1, 0, 1], dtype=torch.uint8), tensor([1, 1, 0,  ..., 1, 0, 1], dtype=torch.uint8), tensor([1, 1, 0,  ..., 1, 0, 1], dtype=torch.uint8), tensor([1, 1, 0,  ..., 1, 0, 1], dtype=torch.uint8), tensor([1, 1, 0,  ..., 1, 0, 1], dtype=torch.uint8), tensor([1, 1, 0,  ..., 1, 0, 1], dtype=torch.uint8), tensor([1, 1, 0,  ..., 1, 0, 1], dtype=torch.uint8), tensor([1, 1, 0,  ..., 1, 0, 1], dtype=torch.uint8), tensor([1, 1, 0,  ..., 1, 0, 1], dtype=torch.uint8), tensor([1, 1, 0,  ..., 1, 0, 1], dtype=torch.uint8), tensor([1, 1, 0,  ..., 1, 0, 1], dtype=torch.uint8), tensor([1, 1, 0,  ..., 1, 0, 1], dtype=torch.uint8), tensor([1, 1, 0,  ..., 1, 0, 1], dtype=torch.uint8), tensor([1, 1, 0,  ..., 1, 0, 1], dtype=torch.uint8), tensor([1, 1, 0,  ..., 1, 0, 1], dtype=torch.uint8), tensor([1, 1, 0,  ..., 1, 0, 1], dtype=torch.uint8), tensor([1, 1, 0,  ..., 1, 0, 1], dtype=torch.uint8), tensor([1, 1, 0,  ..., 1, 0, 1], dtype=torch.uint8), tensor([1, 1, 0,  ..., 1, 0, 1], dtype=torch.uint8), tensor([1, 1, 0,  ..., 1, 0, 1], dtype=torch.uint8), tensor([1, 1, 0,  ..., 1, 0, 1], dtype=torch.uint8), tensor([1, 1, 0,  ..., 1, 0, 1], dtype=torch.uint8), tensor([1, 1, 0,  ..., 1, 0, 1], dtype=torch.uint8), tensor([1, 1, 0,  ..., 1, 0, 1], dtype=torch.uint8), tensor([1, 1, 0,  ..., 1, 0, 1], dtype=torch.uint8), tensor([1, 1, 0,  ..., 1, 0, 1], dtype=torch.uint8), tensor([1, 1, 0,  ..., 1, 0, 1], dtype=torch.uint8), tensor([1, 1, 0,  ..., 1, 0, 1], dtype=torch.uint8), tensor([1, 1, 0,  ..., 1, 0, 1], dtype=torch.uint8), tensor([1, 1, 0,  ..., 1, 0, 1], dtype=torch.uint8), tensor([1, 1, 0,  ..., 1, 0, 1], dtype=torch.uint8), tensor([1, 1, 0,  ..., 1, 0, 1], dtype=torch.uint8), tensor([1, 1, 0,  ..., 1, 0, 1], dtype=torch.uint8), tensor([1, 1, 0,  ..., 1, 0, 1], dtype=torch.uint8), tensor([1, 1, 0,  ..., 1, 0, 1], dtype=torch.uint8), tensor([1, 1, 0,  ..., 1, 0, 1], dtype=torch.uint8), tensor([1, 1, 0,  ..., 1, 0, 1], dtype=torch.uint8), tensor([1, 1, 0,  ..., 1, 0, 1], dtype=torch.uint8), tensor([1, 1, 0,  ..., 1, 0, 1], dtype=torch.uint8), tensor([1, 1, 0,  ..., 1, 0, 1], dtype=torch.uint8), tensor([1, 1, 0,  ..., 1, 0, 1], dtype=torch.uint8), tensor([1, 1, 0,  ..., 1, 0, 1], dtype=torch.uint8), tensor([1, 1, 0,  ..., 1, 0, 1], dtype=torch.uint8), tensor([1, 1, 0,  ..., 1, 0, 1], dtype=torch.uint8), tensor([1, 1, 0,  ..., 1, 0, 1], dtype=torch.uint8), tensor([1, 1, 0,  ..., 1, 0, 1], dtype=torch.uint8), tensor([1, 1, 0,  ..., 1, 0, 1], dtype=torch.uint8), tensor([1, 1, 0,  ..., 1, 0, 1], dtype=torch.uint8), tensor([1, 1, 0,  ..., 1, 0, 1], dtype=torch.uint8), tensor([1, 1, 0,  ..., 1, 0, 1], dtype=torch.uint8), tensor([1, 1, 0,  ..., 1, 0, 1], dtype=torch.uint8), tensor([1, 1, 0,  ..., 1, 0, 1], dtype=torch.uint8), tensor([1, 1, 0,  ..., 1, 0, 1], dtype=torch.uint8), tensor([1, 1, 0,  ..., 1, 0, 1], dtype=torch.uint8), tensor([1, 1, 0,  ..., 1, 0, 1], dtype=torch.uint8), tensor([1, 1, 0,  ..., 1, 0, 1], dtype=torch.uint8), tensor([1, 1, 0,  ..., 1, 0, 1], dtype=torch.uint8), tensor([1, 1, 0,  ..., 1, 0, 1], dtype=torch.uint8), tensor([1, 1, 0,  ..., 1, 0, 1], dtype=torch.uint8), tensor([1, 1, 0,  ..., 1, 0, 1], dtype=torch.uint8), tensor([1, 1, 0,  ..., 1, 0, 1], dtype=torch.uint8), tensor([1, 1, 0,  ..., 1, 0, 1], dtype=torch.uint8), tensor([1, 1, 0,  ..., 1, 0, 1], dtype=torch.uint8), tensor([1, 1, 0,  ..., 1, 0, 1], dtype=torch.uint8), tensor([1, 1, 0,  ..., 1, 0, 1], dtype=torch.uint8), tensor([1, 1, 0,  ..., 1, 0, 1], dtype=torch.uint8), tensor([1, 1, 0,  ..., 1, 0, 1], dtype=torch.uint8), tensor([1, 1, 0,  ..., 1, 0, 1], dtype=torch.uint8), tensor([1, 1, 0,  ..., 1, 0, 1], dtype=torch.uint8), tensor([1, 1, 0,  ..., 1, 0, 1], dtype=torch.uint8), tensor([1, 1, 0,  ..., 1, 0, 1], dtype=torch.uint8), tensor([1, 1, 0,  ..., 1, 0, 1], dtype=torch.uint8), tensor([1, 1, 0,  ..., 1, 0, 1], dtype=torch.uint8), tensor([1, 1, 0,  ..., 1, 0, 1], dtype=torch.uint8), tensor([1, 1, 0,  ..., 1, 0, 1], dtype=torch.uint8), tensor([1, 1, 0,  ..., 1, 0, 1], dtype=torch.uint8), tensor([1, 1, 0,  ..., 1, 0, 1], dtype=torch.uint8), tensor([1, 1, 0,  ..., 1, 0, 1], dtype=torch.uint8), tensor([1, 1, 0,  ..., 1, 0, 1], dtype=torch.uint8), tensor([1, 1, 0,  ..., 1, 0, 1], dtype=torch.uint8), tensor([1, 1, 0,  ..., 1, 0, 1], dtype=torch.uint8), tensor([1, 1, 0,  ..., 1, 0, 1], dtype=torch.uint8), tensor([1, 1, 0,  ..., 1, 0, 1], dtype=torch.uint8), tensor([1, 1, 0,  ..., 1, 0, 1], dtype=torch.uint8), tensor([1, 1, 0,  ..., 1, 0, 1], dtype=torch.uint8), tensor([1, 1, 0,  ..., 1, 0, 1], dtype=torch.uint8), tensor([1, 1, 0,  ..., 1, 0, 1], dtype=torch.uint8), tensor([1, 1, 0,  ..., 1, 0, 1], dtype=torch.uint8), tensor([1, 1, 0,  ..., 1, 0, 1], dtype=torch.uint8), tensor([1, 1, 0,  ..., 1, 0, 1], dtype=torch.uint8), tensor([1, 1, 0,  ..., 1, 0, 1], dtype=torch.uint8), tensor([1, 1, 0,  ..., 1, 0, 1], dtype=torch.uint8), tensor([1, 1, 0,  ..., 1, 0, 1], dtype=torch.uint8), tensor([1, 1, 0,  ..., 1, 0, 1], dtype=torch.uint8), tensor([1, 1, 0,  ..., 1, 0, 1], dtype=torch.uint8), tensor([1, 1, 0,  ..., 1, 0, 1], dtype=torch.uint8), tensor([1, 1, 0,  ..., 1, 0, 1], dtype=torch.uint8), tensor([1, 1, 0,  ..., 1, 0, 1], dtype=torch.uint8), tensor([1, 1, 0,  ..., 1, 0, 1], dtype=torch.uint8), tensor([1, 1, 0,  ..., 1, 0, 1], dtype=torch.uint8), tensor([1, 1, 0,  ..., 1, 0, 1], dtype=torch.uint8), tensor([1, 1, 0,  ..., 1, 0, 1], dtype=torch.uint8), tensor([1, 1, 0,  ..., 1, 0, 1], dtype=torch.uint8), tensor([1, 1, 0,  ..., 1, 0, 1], dtype=torch.uint8), tensor([1, 1, 0,  ..., 1, 0, 1], dtype=torch.uint8), tensor([1, 1, 0,  ..., 1, 0, 1], dtype=torch.uint8), tensor([1, 1, 0,  ..., 1, 0, 1], dtype=torch.uint8), tensor([1, 1, 0,  ..., 1, 0, 1], dtype=torch.uint8), tensor([1, 1, 0,  ..., 1, 0, 1], dtype=torch.uint8), tensor([1, 1, 0,  ..., 1, 0, 1], dtype=torch.uint8), tensor([1, 1, 0,  ..., 1, 0, 1], dtype=torch.uint8), tensor([1, 1, 0,  ..., 1, 0, 1], dtype=torch.uint8), tensor([1, 1, 0,  ..., 1, 0, 1], dtype=torch.uint8), tensor([1, 1, 0,  ..., 1, 0, 1], dtype=torch.uint8), tensor([1, 1, 0,  ..., 1, 0, 1], dtype=torch.uint8), tensor([1, 1, 0,  ..., 1, 0, 1], dtype=torch.uint8), tensor([1, 1, 0,  ..., 1, 0, 1], dtype=torch.uint8), tensor([1, 1, 0,  ..., 1, 0, 1], dtype=torch.uint8), tensor([1, 1, 0,  ..., 1, 0, 1], dtype=torch.uint8), tensor([1, 1, 0,  ..., 1, 0, 1], dtype=torch.uint8), tensor([1, 1, 0,  ..., 1, 0, 1], dtype=torch.uint8), tensor([1, 1, 0,  ..., 1, 0, 1], dtype=torch.uint8), tensor([1, 1, 0,  ..., 1, 0, 1], dtype=torch.uint8), tensor([1, 1, 0,  ..., 1, 0, 1], dtype=torch.uint8), tensor([1, 1, 0,  ..., 1, 0, 1], dtype=torch.uint8), tensor([1, 1, 0,  ..., 1, 0, 1], dtype=torch.uint8), tensor([1, 1, 0,  ..., 1, 0, 1], dtype=torch.uint8), tensor([1, 1, 0,  ..., 1, 0, 1], dtype=torch.uint8), tensor([1, 1, 0,  ..., 1, 0, 1], dtype=torch.uint8), tensor([1, 1, 0,  ..., 1, 0, 1], dtype=torch.uint8), tensor([1, 1, 0,  ..., 1, 0, 1], dtype=torch.uint8), tensor([1, 1, 0,  ..., 1, 0, 1], dtype=torch.uint8), tensor([1, 1, 0,  ..., 1, 0, 1], dtype=torch.uint8), tensor([1, 1, 0,  ..., 1, 0, 1], dtype=torch.uint8), tensor([1, 1, 0,  ..., 1, 0, 1], dtype=torch.uint8), tensor([1, 1, 0,  ..., 1, 0, 1], dtype=torch.uint8), tensor([1, 1, 0,  ..., 1, 0, 1], dtype=torch.uint8), tensor([1, 1, 0,  ..., 1, 0, 1], dtype=torch.uint8), tensor([1, 1, 0,  ..., 1, 0, 1], dtype=torch.uint8), tensor([1, 1, 0,  ..., 1, 0, 1], dtype=torch.uint8), tensor([1, 1, 0,  ..., 1, 0, 1], dtype=torch.uint8), tensor([1, 1, 0,  ..., 1, 0, 1], dtype=torch.uint8), tensor([1, 1, 0,  ..., 1, 0, 1], dtype=torch.uint8), tensor([1, 1, 0,  ..., 1, 0, 1], dtype=torch.uint8), tensor([1, 1, 0,  ..., 1, 0, 1], dtype=torch.uint8), tensor([1, 1, 0,  ..., 1, 0, 1], dtype=torch.uint8), tensor([1, 1, 0,  ..., 1, 0, 1], dtype=torch.uint8), tensor([1, 1, 0,  ..., 1, 0, 1], dtype=torch.uint8), tensor([1, 1, 0,  ..., 1, 0, 1], dtype=torch.uint8), tensor([1, 1, 0,  ..., 1, 0, 1], dtype=torch.uint8), tensor([1, 1, 0,  ..., 1, 0, 1], dtype=torch.uint8), tensor([1, 1, 0,  ..., 1, 0, 1], dtype=torch.uint8), tensor([1, 1, 0,  ..., 1, 0, 1], dtype=torch.uint8), tensor([1, 1, 0,  ..., 1, 0, 1], dtype=torch.uint8), tensor([1, 1, 0,  ..., 1, 0, 1], dtype=torch.uint8), tensor([1, 1, 0,  ..., 1, 0, 1], dtype=torch.uint8), tensor([1, 1, 0,  ..., 1, 0, 1], dtype=torch.uint8), tensor([1, 1, 0,  ..., 1, 0, 1], dtype=torch.uint8), tensor([1, 1, 0,  ..., 1, 0, 1], dtype=torch.uint8), tensor([1, 1, 0,  ..., 1, 0, 1], dtype=torch.uint8), tensor([1, 1, 0,  ..., 1, 0, 1], dtype=torch.uint8), tensor([1, 1, 0,  ..., 1, 0, 1], dtype=torch.uint8), tensor([1, 1, 0,  ..., 1, 0, 1], dtype=torch.uint8), tensor([1, 1, 0,  ..., 1, 0, 1], dtype=torch.uint8), tensor([1, 1, 0,  ..., 1, 0, 1], dtype=torch.uint8), tensor([1, 1, 0,  ..., 1, 0, 1], dtype=torch.uint8), tensor([1, 1, 0,  ..., 1, 0, 1], dtype=torch.uint8), tensor([1, 1, 0,  ..., 1, 0, 1], dtype=torch.uint8), tensor([1, 1, 0,  ..., 1, 0, 1], dtype=torch.uint8), tensor([1, 1, 0,  ..., 1, 0, 1], dtype=torch.uint8), tensor([1, 1, 0,  ..., 1, 0, 1], dtype=torch.uint8), tensor([1, 1, 0,  ..., 1, 0, 1], dtype=torch.uint8), tensor([1, 1, 0,  ..., 1, 0, 1], dtype=torch.uint8), tensor([1, 1, 0,  ..., 1, 0, 1], dtype=torch.uint8), tensor([1, 1, 0,  ..., 1, 0, 1], dtype=torch.uint8), tensor([1, 1, 0,  ..., 1, 0, 1], dtype=torch.uint8), tensor([1, 1, 0,  ..., 1, 0, 1], dtype=torch.uint8), tensor([1, 1, 0,  ..., 1, 0, 1], dtype=torch.uint8), tensor([1, 1, 0,  ..., 1, 0, 1], dtype=torch.uint8), tensor([1, 1, 0,  ..., 1, 0, 1], dtype=torch.uint8), tensor([1, 1, 0,  ..., 1, 0, 1], dtype=torch.uint8), tensor([1, 1, 0,  ..., 1, 0, 1], dtype=torch.uint8), tensor([1, 1, 0,  ..., 1, 0, 1], dtype=torch.uint8), tensor([1, 1, 0,  ..., 1, 0, 1], dtype=torch.uint8), tensor([1, 1, 0,  ..., 1, 0, 1], dtype=torch.uint8), tensor([1, 1, 0,  ..., 1, 0, 1], dtype=torch.uint8), tensor([1, 1, 0,  ..., 1, 0, 1], dtype=torch.uint8), tensor([1, 1, 0,  ..., 1, 0, 1], dtype=torch.uint8), tensor([1, 1, 0,  ..., 1, 0, 1], dtype=torch.uint8), tensor([1, 1, 0,  ..., 1, 0, 1], dtype=torch.uint8), tensor([1, 1, 0,  ..., 1, 0, 1], dtype=torch.uint8), tensor([1, 1, 0,  ..., 1, 0, 1], dtype=torch.uint8), tensor([1, 1, 0,  ..., 1, 0, 1], dtype=torch.uint8), tensor([1, 1, 0,  ..., 1, 0, 1], dtype=torch.uint8), tensor([1, 1, 0,  ..., 1, 0, 1], dtype=torch.uint8), tensor([1, 1, 0,  ..., 1, 0, 1], dtype=torch.uint8), tensor([1, 1, 0,  ..., 1, 0, 1], dtype=torch.uint8), tensor([1, 1, 0,  ..., 1, 0, 1], dtype=torch.uint8), tensor([1, 1, 0,  ..., 1, 0, 1], dtype=torch.uint8), tensor([1, 1, 0,  ..., 1, 0, 1], dtype=torch.uint8), tensor([1, 1, 0,  ..., 1, 0, 1], dtype=torch.uint8), tensor([1, 1, 0,  ..., 1, 0, 1], dtype=torch.uint8), tensor([1, 1, 0,  ..., 1, 0, 1], dtype=torch.uint8), tensor([1, 1, 0,  ..., 1, 0, 1], dtype=torch.uint8), tensor([1, 1, 0,  ..., 1, 0, 1], dtype=torch.uint8), tensor([1, 1, 0,  ..., 1, 0, 1], dtype=torch.uint8), tensor([1, 1, 0,  ..., 1, 0, 1], dtype=torch.uint8), tensor([1, 1, 0,  ..., 1, 0, 1], dtype=torch.uint8), tensor([1, 1, 0,  ..., 1, 0, 1], dtype=torch.uint8), tensor([1, 1, 0,  ..., 1, 0, 1], dtype=torch.uint8), tensor([1, 1, 0,  ..., 1, 0, 1], dtype=torch.uint8), tensor([1, 1, 0,  ..., 1, 0, 1], dtype=torch.uint8), tensor([1, 1, 0,  ..., 1, 0, 1], dtype=torch.uint8), tensor([1, 1, 0,  ..., 1, 0, 1], dtype=torch.uint8), tensor([1, 1, 0,  ..., 1, 0, 1], dtype=torch.uint8), tensor([1, 1, 0,  ..., 1, 0, 1], dtype=torch.uint8), tensor([1, 1, 0,  ..., 1, 0, 1], dtype=torch.uint8), tensor([1, 1, 0,  ..., 1, 0, 1], dtype=torch.uint8), tensor([1, 1, 0,  ..., 1, 0, 1], dtype=torch.uint8), tensor([1, 1, 0,  ..., 1, 0, 1], dtype=torch.uint8), tensor([1, 1, 0,  ..., 1, 0, 1], dtype=torch.uint8), tensor([1, 1, 0,  ..., 1, 0, 1], dtype=torch.uint8), tensor([1, 1, 0,  ..., 1, 0, 1], dtype=torch.uint8), tensor([1, 1, 0,  ..., 1, 0, 1], dtype=torch.uint8), tensor([1, 1, 0,  ..., 1, 0, 1], dtype=torch.uint8), tensor([1, 1, 0,  ..., 1, 0, 1], dtype=torch.uint8), tensor([1, 1, 0,  ..., 1, 0, 1], dtype=torch.uint8), tensor([1, 1, 0,  ..., 1, 0, 1], dtype=torch.uint8), tensor([1, 1, 0,  ..., 1, 0, 1], dtype=torch.uint8), tensor([1, 1, 0,  ..., 1, 0, 1], dtype=torch.uint8), tensor([1, 1, 0,  ..., 1, 0, 1], dtype=torch.uint8), tensor([1, 1, 0,  ..., 1, 0, 1], dtype=torch.uint8), tensor([1, 1, 0,  ..., 1, 0, 1], dtype=torch.uint8), tensor([1, 1, 0,  ..., 1, 0, 1], dtype=torch.uint8), tensor([1, 1, 0,  ..., 1, 0, 1], dtype=torch.uint8), tensor([1, 1, 0,  ..., 1, 0, 1], dtype=torch.uint8), tensor([1, 1, 0,  ..., 1, 0, 1], dtype=torch.uint8), tensor([1, 1, 0,  ..., 1, 0, 1], dtype=torch.uint8), tensor([1, 1, 0,  ..., 1, 0, 1], dtype=torch.uint8), tensor([1, 1, 0,  ..., 1, 0, 1], dtype=torch.uint8), tensor([1, 1, 0,  ..., 1, 0, 1], dtype=torch.uint8), tensor([1, 1, 0,  ..., 1, 0, 1], dtype=torch.uint8), tensor([1, 1, 0,  ..., 1, 0, 1], dtype=torch.uint8), tensor([1, 1, 0,  ..., 1, 0, 1], dtype=torch.uint8), tensor([1, 1, 0,  ..., 1, 0, 1], dtype=torch.uint8), tensor([1, 1, 0,  ..., 1, 0, 1], dtype=torch.uint8), tensor([1, 1, 0,  ..., 1, 0, 1], dtype=torch.uint8), tensor([1, 1, 0,  ..., 1, 0, 1], dtype=torch.uint8), tensor([1, 1, 0,  ..., 1, 0, 1], dtype=torch.uint8), tensor([1, 1, 0,  ..., 1, 0, 1], dtype=torch.uint8), tensor([1, 1, 0,  ..., 1, 0, 1], dtype=torch.uint8), tensor([1, 1, 0,  ..., 1, 0, 1], dtype=torch.uint8), tensor([1, 1, 0,  ..., 1, 0, 1], dtype=torch.uint8), tensor([1, 1, 0,  ..., 1, 0, 1], dtype=torch.uint8), tensor([1, 1, 0,  ..., 1, 0, 1], dtype=torch.uint8), tensor([1, 1, 0,  ..., 1, 0, 1], dtype=torch.uint8), tensor([1, 1, 0,  ..., 1, 0, 1], dtype=torch.uint8), tensor([1, 1, 0,  ..., 1, 0, 1], dtype=torch.uint8), tensor([1, 1, 0,  ..., 1, 0, 1], dtype=torch.uint8), tensor([1, 1, 0,  ..., 1, 0, 1], dtype=torch.uint8), tensor([1, 1, 0,  ..., 1, 0, 1], dtype=torch.uint8), tensor([1, 1, 0,  ..., 1, 0, 1], dtype=torch.uint8), tensor([1, 1, 0,  ..., 1, 0, 1], dtype=torch.uint8), tensor([1, 1, 0,  ..., 1, 0, 1], dtype=torch.uint8), tensor([1, 1, 0,  ..., 1, 0, 1], dtype=torch.uint8), tensor([1, 1, 0,  ..., 1, 0, 1], dtype=torch.uint8), tensor([1, 1, 0,  ..., 1, 0, 1], dtype=torch.uint8), tensor([1, 1, 0,  ..., 1, 0, 1], dtype=torch.uint8), tensor([1, 1, 0,  ..., 1, 0, 1], dtype=torch.uint8), tensor([1, 1, 0,  ..., 1, 0, 1], dtype=torch.uint8), tensor([1, 1, 0,  ..., 1, 0, 1], dtype=torch.uint8), tensor([1, 1, 0,  ..., 1, 0, 1], dtype=torch.uint8), tensor([1, 1, 0,  ..., 1, 0, 1], dtype=torch.uint8), tensor([1, 1, 0,  ..., 1, 0, 1], dtype=torch.uint8), tensor([1, 1, 0,  ..., 1, 0, 1], dtype=torch.uint8), tensor([1, 1, 0,  ..., 1, 0, 1], dtype=torch.uint8), tensor([1, 1, 0,  ..., 1, 0, 1], dtype=torch.uint8), tensor([1, 1, 0,  ..., 1, 0, 1], dtype=torch.uint8), tensor([1, 1, 0,  ..., 1, 0, 1], dtype=torch.uint8), tensor([1, 1, 0,  ..., 1, 0, 1], dtype=torch.uint8), tensor([1, 1, 0,  ..., 1, 0, 1], dtype=torch.uint8), tensor([1, 1, 0,  ..., 1, 0, 1], dtype=torch.uint8), tensor([1, 1, 0,  ..., 1, 0, 1], dtype=torch.uint8), tensor([1, 1, 0,  ..., 1, 0, 1], dtype=torch.uint8), tensor([1, 1, 0,  ..., 1, 0, 1], dtype=torch.uint8), tensor([1, 1, 0,  ..., 1, 0, 1], dtype=torch.uint8), tensor([1, 1, 0,  ..., 1, 0, 1], dtype=torch.uint8), tensor([1, 1, 0,  ..., 1, 0, 1], dtype=torch.uint8), tensor([1, 1, 0,  ..., 1, 0, 1], dtype=torch.uint8), tensor([1, 1, 0,  ..., 1, 0, 1], dtype=torch.uint8), tensor([1, 1, 0,  ..., 1, 0, 1], dtype=torch.uint8), tensor([1, 1, 0,  ..., 1, 0, 1], dtype=torch.uint8), tensor([1, 1, 0,  ..., 1, 0, 1], dtype=torch.uint8), tensor([1, 1, 0,  ..., 1, 0, 1], dtype=torch.uint8), tensor([1, 1, 0,  ..., 1, 0, 1], dtype=torch.uint8), tensor([1, 1, 0,  ..., 1, 0, 1], dtype=torch.uint8), tensor([1, 1, 0,  ..., 1, 0, 1], dtype=torch.uint8), tensor([1, 1, 0,  ..., 1, 0, 1], dtype=torch.uint8), tensor([1, 1, 0,  ..., 1, 0, 1], dtype=torch.uint8), tensor([1, 1, 0,  ..., 1, 0, 1], dtype=torch.uint8), tensor([1, 1, 0,  ..., 1, 0, 1], dtype=torch.uint8), tensor([1, 1, 0,  ..., 1, 0, 1], dtype=torch.uint8), tensor([1, 1, 0,  ..., 1, 0, 1], dtype=torch.uint8), tensor([1, 1, 0,  ..., 1, 0, 1], dtype=torch.uint8), tensor([1, 1, 0,  ..., 1, 0, 1], dtype=torch.uint8), tensor([1, 1, 0,  ..., 1, 0, 1], dtype=torch.uint8), tensor([1, 1, 0,  ..., 1, 0, 1], dtype=torch.uint8), tensor([1, 1, 0,  ..., 1, 0, 1], dtype=torch.uint8), tensor([1, 1, 0,  ..., 1, 0, 1], dtype=torch.uint8), tensor([1, 1, 0,  ..., 1, 0, 1], dtype=torch.uint8), tensor([1, 1, 0,  ..., 1, 0, 1], dtype=torch.uint8), tensor([1, 1, 0,  ..., 1, 0, 1], dtype=torch.uint8), tensor([1, 1, 0,  ..., 1, 0, 1], dtype=torch.uint8), tensor([1, 1, 0,  ..., 1, 0, 1], dtype=torch.uint8), tensor([1, 1, 0,  ..., 1, 0, 1], dtype=torch.uint8), tensor([1, 1, 0,  ..., 1, 0, 1], dtype=torch.uint8), tensor([1, 1, 0,  ..., 1, 0, 1], dtype=torch.uint8), tensor([1, 1, 0,  ..., 1, 0, 1], dtype=torch.uint8), tensor([1, 1, 0,  ..., 1, 0, 1], dtype=torch.uint8), tensor([1, 1, 0,  ..., 1, 0, 1], dtype=torch.uint8), tensor([1, 1, 0,  ..., 1, 0, 1], dtype=torch.uint8), tensor([1, 1, 0,  ..., 1, 0, 1], dtype=torch.uint8), tensor([1, 1, 0,  ..., 1, 0, 1], dtype=torch.uint8), tensor([1, 1, 0,  ..., 1, 0, 1], dtype=torch.uint8), tensor([1, 1, 0,  ..., 1, 0, 1], dtype=torch.uint8), tensor([1, 1, 0,  ..., 1, 0, 1], dtype=torch.uint8), tensor([1, 1, 0,  ..., 1, 0, 1], dtype=torch.uint8), tensor([1, 1, 0,  ..., 1, 0, 1], dtype=torch.uint8), tensor([1, 1, 0,  ..., 1, 0, 1], dtype=torch.uint8), tensor([1, 1, 0,  ..., 1, 0, 1], dtype=torch.uint8), tensor([1, 1, 0,  ..., 1, 0, 1], dtype=torch.uint8), tensor([1, 1, 0,  ..., 1, 0, 1], dtype=torch.uint8), tensor([1, 1, 0,  ..., 1, 0, 1], dtype=torch.uint8), tensor([1, 1, 0,  ..., 1, 0, 1], dtype=torch.uint8), tensor([1, 1, 0,  ..., 1, 0, 1], dtype=torch.uint8), tensor([1, 1, 0,  ..., 1, 0, 1], dtype=torch.uint8), tensor([1, 1, 0,  ..., 1, 0, 1], dtype=torch.uint8), tensor([1, 1, 0,  ..., 1, 0, 1], dtype=torch.uint8), tensor([1, 1, 0,  ..., 1, 0, 1], dtype=torch.uint8), tensor([1, 1, 0,  ..., 1, 0, 1], dtype=torch.uint8), tensor([1, 1, 0,  ..., 1, 0, 1], dtype=torch.uint8), tensor([1, 1, 0,  ..., 1, 0, 1], dtype=torch.uint8), tensor([1, 1, 0,  ..., 1, 0, 1], dtype=torch.uint8), tensor([1, 1, 0,  ..., 1, 0, 1], dtype=torch.uint8), tensor([1, 1, 0,  ..., 1, 0, 1], dtype=torch.uint8), tensor([1, 1, 0,  ..., 1, 0, 1], dtype=torch.uint8), tensor([1, 1, 0,  ..., 1, 0, 1], dtype=torch.uint8), tensor([1, 1, 0,  ..., 1, 0, 1], dtype=torch.uint8), tensor([1, 1, 0,  ..., 1, 0, 1], dtype=torch.uint8), tensor([1, 1, 0,  ..., 1, 0, 1], dtype=torch.uint8), tensor([1, 1, 0,  ..., 1, 0, 1], dtype=torch.uint8), tensor([1, 1, 0,  ..., 1, 0, 1], dtype=torch.uint8), tensor([1, 1, 0,  ..., 1, 0, 1], dtype=torch.uint8), tensor([1, 1, 0,  ..., 1, 0, 1], dtype=torch.uint8), tensor([1, 1, 0,  ..., 1, 0, 1], dtype=torch.uint8), tensor([1, 1, 0,  ..., 1, 0, 1], dtype=torch.uint8), tensor([1, 1, 0,  ..., 1, 0, 1], dtype=torch.uint8), tensor([1, 1, 0,  ..., 1, 0, 1], dtype=torch.uint8), tensor([1, 1, 0,  ..., 1, 0, 1], dtype=torch.uint8), tensor([1, 1, 0,  ..., 1, 0, 1], dtype=torch.uint8), tensor([1, 1, 0,  ..., 1, 0, 1], dtype=torch.uint8), tensor([1, 1, 0,  ..., 1, 0, 1], dtype=torch.uint8), tensor([1, 1, 0,  ..., 1, 0, 1], dtype=torch.uint8), tensor([1, 1, 0,  ..., 1, 0, 1], dtype=torch.uint8), tensor([1, 1, 0,  ..., 1, 0, 1], dtype=torch.uint8), tensor([1, 1, 0,  ..., 1, 0, 1], dtype=torch.uint8), tensor([1, 1, 0,  ..., 1, 0, 1], dtype=torch.uint8), tensor([1, 1, 0,  ..., 1, 0, 1], dtype=torch.uint8), tensor([1, 1, 0,  ..., 1, 0, 1], dtype=torch.uint8), tensor([1, 1, 0,  ..., 1, 0, 1], dtype=torch.uint8), tensor([1, 1, 0,  ..., 1, 0, 1], dtype=torch.uint8), tensor([1, 1, 0,  ..., 1, 0, 1], dtype=torch.uint8), tensor([1, 1, 0,  ..., 1, 0, 1], dtype=torch.uint8), tensor([1, 1, 0,  ..., 1, 0, 1], dtype=torch.uint8), tensor([1, 1, 0,  ..., 1, 0, 1], dtype=torch.uint8), tensor([1, 1, 0,  ..., 1, 0, 1], dtype=torch.uint8), tensor([1, 1, 0,  ..., 1, 0, 1], dtype=torch.uint8), tensor([1, 1, 0,  ..., 1, 0, 1], dtype=torch.uint8), tensor([1, 1, 0,  ..., 1, 0, 1], dtype=torch.uint8), tensor([1, 1, 0,  ..., 1, 0, 1], dtype=torch.uint8), tensor([1, 1, 0,  ..., 1, 0, 1], dtype=torch.uint8), tensor([1, 1, 0,  ..., 1, 0, 1], dtype=torch.uint8), tensor([1, 1, 0,  ..., 1, 0, 1], dtype=torch.uint8), tensor([1, 1, 0,  ..., 1, 0, 1], dtype=torch.uint8), tensor([1, 1, 0,  ..., 1, 0, 1], dtype=torch.uint8), tensor([1, 1, 0,  ..., 1, 0, 1], dtype=torch.uint8), tensor([1, 1, 0,  ..., 1, 0, 1], dtype=torch.uint8), tensor([1, 1, 0,  ..., 1, 0, 1], dtype=torch.uint8), tensor([1, 1, 0,  ..., 1, 0, 1], dtype=torch.uint8), tensor([1, 1, 0,  ..., 1, 0, 1], dtype=torch.uint8), tensor([1, 1, 0,  ..., 1, 0, 1], dtype=torch.uint8), tensor([1, 1, 0,  ..., 1, 0, 1], dtype=torch.uint8), tensor([1, 1, 0,  ..., 1, 0, 1], dtype=torch.uint8), tensor([1, 1, 0,  ..., 1, 0, 1], dtype=torch.uint8), tensor([1, 1, 0,  ..., 1, 0, 1], dtype=torch.uint8), tensor([1, 1, 0,  ..., 1, 0, 1], dtype=torch.uint8), tensor([1, 1, 0,  ..., 1, 0, 1], dtype=torch.uint8), tensor([1, 1, 0,  ..., 1, 0, 1], dtype=torch.uint8), tensor([1, 1, 0,  ..., 1, 0, 1], dtype=torch.uint8), tensor([1, 1, 0,  ..., 1, 0, 1], dtype=torch.uint8), tensor([1, 1, 0,  ..., 1, 0, 1], dtype=torch.uint8), tensor([1, 1, 0,  ..., 1, 0, 1], dtype=torch.uint8), tensor([1, 1, 0,  ..., 1, 0, 1], dtype=torch.uint8), tensor([1, 1, 0,  ..., 1, 0, 1], dtype=torch.uint8), tensor([1, 1, 0,  ..., 1, 0, 1], dtype=torch.uint8), tensor([1, 1, 0,  ..., 1, 0, 1], dtype=torch.uint8), tensor([1, 1, 0,  ..., 1, 0, 1], dtype=torch.uint8), tensor([1, 1, 0,  ..., 1, 0, 1], dtype=torch.uint8), tensor([1, 1, 0,  ..., 1, 0, 1], dtype=torch.uint8), tensor([1, 1, 0,  ..., 1, 0, 1], dtype=torch.uint8), tensor([1, 1, 0,  ..., 1, 0, 1], dtype=torch.uint8), tensor([1, 1, 0,  ..., 1, 0, 1], dtype=torch.uint8), tensor([1, 1, 0,  ..., 1, 0, 1], dtype=torch.uint8), tensor([1, 1, 0,  ..., 1, 0, 1], dtype=torch.uint8), tensor([1, 1, 0,  ..., 1, 0, 1], dtype=torch.uint8), tensor([1, 1, 0,  ..., 1, 0, 1], dtype=torch.uint8), tensor([1, 1, 0,  ..., 1, 0, 1], dtype=torch.uint8), tensor([1, 1, 0,  ..., 1, 0, 1], dtype=torch.uint8), tensor([1, 1, 0,  ..., 1, 0, 1], dtype=torch.uint8), tensor([1, 1, 0,  ..., 1, 0, 1], dtype=torch.uint8), tensor([1, 1, 0,  ..., 1, 0, 1], dtype=torch.uint8), tensor([1, 1, 0,  ..., 1, 0, 1], dtype=torch.uint8), tensor([1, 1, 0,  ..., 1, 0, 1], dtype=torch.uint8), tensor([1, 1, 0,  ..., 1, 0, 1], dtype=torch.uint8), tensor([1, 1, 0,  ..., 1, 0, 1], dtype=torch.uint8), tensor([1, 1, 0,  ..., 1, 0, 1], dtype=torch.uint8), tensor([1, 1, 0,  ..., 1, 0, 1], dtype=torch.uint8), tensor([1, 1, 0,  ..., 1, 0, 1], dtype=torch.uint8), tensor([1, 1, 0,  ..., 1, 0, 1], dtype=torch.uint8), tensor([1, 1, 0,  ..., 1, 0, 1], dtype=torch.uint8), tensor([1, 1, 0,  ..., 1, 0, 1], dtype=torch.uint8), tensor([1, 1, 0,  ..., 1, 0, 1], dtype=torch.uint8), tensor([1, 1, 0,  ..., 1, 0, 1], dtype=torch.uint8), tensor([1, 1, 0,  ..., 1, 0, 1], dtype=torch.uint8), tensor([1, 1, 0,  ..., 1, 0, 1], dtype=torch.uint8), tensor([1, 1, 0,  ..., 1, 0, 1], dtype=torch.uint8), tensor([1, 1, 0,  ..., 1, 0, 1], dtype=torch.uint8), tensor([1, 1, 0,  ..., 1, 0, 1], dtype=torch.uint8), tensor([1, 1, 0,  ..., 1, 0, 1], dtype=torch.uint8), tensor([1, 1, 0,  ..., 1, 0, 1], dtype=torch.uint8), tensor([1, 1, 0,  ..., 1, 0, 1], dtype=torch.uint8), tensor([1, 1, 0,  ..., 1, 0, 1], dtype=torch.uint8), tensor([1, 1, 0,  ..., 1, 0, 1], dtype=torch.uint8), tensor([1, 1, 0,  ..., 1, 0, 1], dtype=torch.uint8), tensor([1, 1, 0,  ..., 1, 0, 1], dtype=torch.uint8), tensor([1, 1, 0,  ..., 1, 0, 1], dtype=torch.uint8), tensor([1, 1, 0,  ..., 1, 0, 1], dtype=torch.uint8), tensor([1, 1, 0,  ..., 1, 0, 1], dtype=torch.uint8), tensor([1, 1, 0,  ..., 1, 0, 1], dtype=torch.uint8), tensor([1, 1, 0,  ..., 1, 0, 1], dtype=torch.uint8), tensor([1, 1, 0,  ..., 1, 0, 1], dtype=torch.uint8), tensor([1, 1, 0,  ..., 1, 0, 1], dtype=torch.uint8), tensor([1, 1, 0,  ..., 1, 0, 1], dtype=torch.uint8), tensor([1, 1, 0,  ..., 1, 0, 1], dtype=torch.uint8), tensor([1, 1, 0,  ..., 1, 0, 1], dtype=torch.uint8), tensor([1, 1, 0,  ..., 1, 0, 1], dtype=torch.uint8), tensor([1, 1, 0,  ..., 1, 0, 1], dtype=torch.uint8), tensor([1, 1, 0,  ..., 1, 0, 1], dtype=torch.uint8), tensor([1, 1, 0,  ..., 1, 0, 1], dtype=torch.uint8), tensor([1, 1, 0,  ..., 1, 0, 1], dtype=torch.uint8), tensor([1, 1, 0,  ..., 1, 0, 1], dtype=torch.uint8), tensor([1, 1, 0,  ..., 1, 0, 1], dtype=torch.uint8), tensor([1, 1, 0,  ..., 1, 0, 1], dtype=torch.uint8), tensor([1, 1, 0,  ..., 1, 0, 1], dtype=torch.uint8), tensor([1, 1, 0,  ..., 1, 0, 1], dtype=torch.uint8), tensor([1, 1, 0,  ..., 1, 0, 1], dtype=torch.uint8), tensor([1, 1, 0,  ..., 1, 0, 1], dtype=torch.uint8), tensor([1, 1, 0,  ..., 1, 0, 1], dtype=torch.uint8), tensor([1, 1, 0,  ..., 1, 0, 1], dtype=torch.uint8), tensor([1, 1, 0,  ..., 1, 0, 1], dtype=torch.uint8), tensor([1, 1, 0,  ..., 1, 0, 1], dtype=torch.uint8), tensor([1, 1, 0,  ..., 1, 0, 1], dtype=torch.uint8), tensor([1, 1, 0,  ..., 1, 0, 1], dtype=torch.uint8), tensor([1, 1, 0,  ..., 1, 0, 1], dtype=torch.uint8), tensor([1, 1, 0,  ..., 1, 0, 1], dtype=torch.uint8), tensor([1, 1, 0,  ..., 1, 0, 1], dtype=torch.uint8), tensor([1, 1, 0,  ..., 1, 0, 1], dtype=torch.uint8), tensor([1, 1, 0,  ..., 1, 0, 1], dtype=torch.uint8), tensor([1, 1, 0,  ..., 1, 0, 1], dtype=torch.uint8), tensor([1, 1, 0,  ..., 1, 0, 1], dtype=torch.uint8), tensor([1, 1, 0,  ..., 1, 0, 1], dtype=torch.uint8), tensor([1, 1, 0,  ..., 1, 0, 1], dtype=torch.uint8), tensor([1, 1, 0,  ..., 1, 0, 1], dtype=torch.uint8), tensor([1, 1, 0,  ..., 1, 0, 1], dtype=torch.uint8), tensor([1, 1, 0,  ..., 1, 0, 1], dtype=torch.uint8), tensor([1, 1, 0,  ..., 1, 0, 1], dtype=torch.uint8), tensor([1, 1, 0,  ..., 1, 0, 1], dtype=torch.uint8), tensor([1, 1, 0,  ..., 1, 0, 1], dtype=torch.uint8), tensor([1, 1, 0,  ..., 1, 0, 1], dtype=torch.uint8), tensor([1, 1, 0,  ..., 1, 0, 1], dtype=torch.uint8), tensor([1, 1, 0,  ..., 1, 0, 1], dtype=torch.uint8), tensor([1, 1, 0,  ..., 1, 0, 1], dtype=torch.uint8), tensor([1, 1, 0,  ..., 1, 0, 1], dtype=torch.uint8), tensor([1, 1, 0,  ..., 1, 0, 1], dtype=torch.uint8), tensor([1, 1, 0,  ..., 1, 0, 1], dtype=torch.uint8), tensor([1, 1, 0,  ..., 1, 0, 1], dtype=torch.uint8), tensor([1, 1, 0,  ..., 1, 0, 1], dtype=torch.uint8), tensor([1, 1, 0,  ..., 1, 0, 1], dtype=torch.uint8), tensor([1, 1, 0,  ..., 1, 0, 1], dtype=torch.uint8), tensor([1, 1, 0,  ..., 1, 0, 1], dtype=torch.uint8), tensor([1, 1, 0,  ..., 1, 0, 1], dtype=torch.uint8), tensor([1, 1, 0,  ..., 1, 0, 1], dtype=torch.uint8), tensor([1, 1, 0,  ..., 1, 0, 1], dtype=torch.uint8), tensor([1, 1, 0,  ..., 1, 0, 1], dtype=torch.uint8), tensor([1, 1, 0,  ..., 1, 0, 1], dtype=torch.uint8), tensor([1, 1, 0,  ..., 1, 0, 1], dtype=torch.uint8), tensor([1, 1, 0,  ..., 1, 0, 1], dtype=torch.uint8), tensor([1, 1, 0,  ..., 1, 0, 1], dtype=torch.uint8), tensor([1, 1, 0,  ..., 1, 0, 1], dtype=torch.uint8), tensor([1, 1, 0,  ..., 1, 0, 1], dtype=torch.uint8), tensor([1, 1, 0,  ..., 1, 0, 1], dtype=torch.uint8), tensor([1, 1, 0,  ..., 1, 0, 1], dtype=torch.uint8), tensor([1, 1, 0,  ..., 1, 0, 1], dtype=torch.uint8), tensor([1, 1, 0,  ..., 1, 0, 1], dtype=torch.uint8), tensor([1, 1, 0,  ..., 1, 0, 1], dtype=torch.uint8), tensor([1, 1, 0,  ..., 1, 0, 1], dtype=torch.uint8), tensor([1, 1, 0,  ..., 1, 0, 1], dtype=torch.uint8), tensor([1, 1, 0,  ..., 1, 0, 1], dtype=torch.uint8), tensor([1, 1, 0,  ..., 1, 0, 1], dtype=torch.uint8), tensor([1, 1, 0,  ..., 1, 0, 1], dtype=torch.uint8), tensor([1, 1, 0,  ..., 1, 0, 1], dtype=torch.uint8), tensor([1, 1, 0,  ..., 1, 0, 1], dtype=torch.uint8), tensor([1, 1, 0,  ..., 1, 0, 1], dtype=torch.uint8), tensor([1, 1, 0,  ..., 1, 0, 1], dtype=torch.uint8), tensor([1, 1, 0,  ..., 1, 0, 1], dtype=torch.uint8), tensor([1, 1, 0,  ..., 1, 0, 1], dtype=torch.uint8), tensor([1, 1, 0,  ..., 1, 0, 1], dtype=torch.uint8), tensor([1, 1, 0,  ..., 1, 0, 1], dtype=torch.uint8), tensor([1, 1, 0,  ..., 1, 0, 1], dtype=torch.uint8), tensor([1, 1, 0,  ..., 1, 0, 1], dtype=torch.uint8), tensor([1, 1, 0,  ..., 1, 0, 1], dtype=torch.uint8), tensor([1, 1, 0,  ..., 1, 0, 1], dtype=torch.uint8), tensor([1, 1, 0,  ..., 1, 0, 1], dtype=torch.uint8), tensor([1, 1, 0,  ..., 1, 0, 1], dtype=torch.uint8), tensor([1, 1, 0,  ..., 1, 0, 1], dtype=torch.uint8), tensor([1, 1, 0,  ..., 1, 0, 1], dtype=torch.uint8), tensor([1, 1, 0,  ..., 1, 0, 1], dtype=torch.uint8), tensor([1, 1, 0,  ..., 1, 0, 1], dtype=torch.uint8), tensor([1, 1, 0,  ..., 1, 0, 1], dtype=torch.uint8), tensor([1, 1, 0,  ..., 1, 0, 1], dtype=torch.uint8), tensor([1, 1, 0,  ..., 1, 0, 1], dtype=torch.uint8), tensor([1, 1, 0,  ..., 1, 0, 1], dtype=torch.uint8), tensor([1, 1, 0,  ..., 1, 0, 1], dtype=torch.uint8), tensor([1, 1, 0,  ..., 1, 0, 1], dtype=torch.uint8), tensor([1, 1, 0,  ..., 1, 0, 1], dtype=torch.uint8), tensor([1, 1, 0,  ..., 1, 0, 1], dtype=torch.uint8), tensor([1, 1, 0,  ..., 1, 0, 1], dtype=torch.uint8), tensor([1, 1, 0,  ..., 1, 0, 1], dtype=torch.uint8), tensor([1, 1, 0,  ..., 1, 0, 1], dtype=torch.uint8), tensor([1, 1, 0,  ..., 1, 0, 1], dtype=torch.uint8), tensor([1, 1, 0,  ..., 1, 0, 1], dtype=torch.uint8), tensor([1, 1, 0,  ..., 1, 0, 1], dtype=torch.uint8), tensor([1, 1, 0,  ..., 1, 0, 1], dtype=torch.uint8), tensor([1, 1, 0,  ..., 1, 0, 1], dtype=torch.uint8), tensor([1, 1, 0,  ..., 1, 0, 1], dtype=torch.uint8), tensor([1, 1, 0,  ..., 1, 0, 1], dtype=torch.uint8), tensor([1, 1, 0,  ..., 1, 0, 1], dtype=torch.uint8), tensor([1, 1, 0,  ..., 1, 0, 1], dtype=torch.uint8), tensor([1, 1, 0,  ..., 1, 0, 1], dtype=torch.uint8), tensor([1, 1, 0,  ..., 1, 0, 1], dtype=torch.uint8), tensor([1, 1, 0,  ..., 1, 0, 1], dtype=torch.uint8), tensor([1, 1, 0,  ..., 1, 0, 1], dtype=torch.uint8), tensor([1, 1, 0,  ..., 1, 0, 1], dtype=torch.uint8), tensor([1, 1, 0,  ..., 1, 0, 1], dtype=torch.uint8), tensor([1, 1, 0,  ..., 1, 0, 1], dtype=torch.uint8), tensor([1, 1, 0,  ..., 1, 0, 1], dtype=torch.uint8), tensor([1, 1, 0,  ..., 1, 0, 1], dtype=torch.uint8), tensor([1, 1, 0,  ..., 1, 0, 1], dtype=torch.uint8), tensor([1, 1, 0,  ..., 1, 0, 1], dtype=torch.uint8), tensor([1, 1, 0,  ..., 1, 0, 1], dtype=torch.uint8), tensor([1, 1, 0,  ..., 1, 0, 1], dtype=torch.uint8), tensor([1, 1, 0,  ..., 1, 0, 1], dtype=torch.uint8), tensor([1, 1, 0,  ..., 1, 0, 1], dtype=torch.uint8), tensor([1, 1, 0,  ..., 1, 0, 1], dtype=torch.uint8), tensor([1, 1, 0,  ..., 1, 0, 1], dtype=torch.uint8), tensor([1, 1, 0,  ..., 1, 0, 1], dtype=torch.uint8), tensor([1, 1, 0,  ..., 1, 0, 1], dtype=torch.uint8), tensor([1, 1, 0,  ..., 1, 0, 1], dtype=torch.uint8), tensor([1, 1, 0,  ..., 1, 0, 1], dtype=torch.uint8), tensor([1, 1, 0,  ..., 1, 0, 1], dtype=torch.uint8), tensor([1, 1, 0,  ..., 1, 0, 1], dtype=torch.uint8), tensor([1, 1, 0,  ..., 1, 0, 1], dtype=torch.uint8), tensor([1, 1, 0,  ..., 1, 0, 1], dtype=torch.uint8), tensor([1, 1, 0,  ..., 1, 0, 1], dtype=torch.uint8), tensor([1, 1, 0,  ..., 1, 0, 1], dtype=torch.uint8), tensor([1, 1, 0,  ..., 1, 0, 1], dtype=torch.uint8), tensor([1, 1, 0,  ..., 1, 0, 1], dtype=torch.uint8), tensor([1, 1, 0,  ..., 1, 0, 1], dtype=torch.uint8), tensor([1, 1, 0,  ..., 1, 0, 1], dtype=torch.uint8), tensor([1, 1, 0,  ..., 1, 0, 1], dtype=torch.uint8), tensor([1, 1, 0,  ..., 1, 0, 1], dtype=torch.uint8), tensor([1, 1, 0,  ..., 1, 0, 1], dtype=torch.uint8), tensor([1, 1, 0,  ..., 1, 0, 1], dtype=torch.uint8), tensor([1, 1, 0,  ..., 1, 0, 1], dtype=torch.uint8), tensor([1, 1, 0,  ..., 1, 0, 1], dtype=torch.uint8), tensor([1, 1, 0,  ..., 1, 0, 1], dtype=torch.uint8), tensor([1, 1, 0,  ..., 1, 0, 1], dtype=torch.uint8), tensor([1, 1, 0,  ..., 1, 0, 1], dtype=torch.uint8), tensor([1, 1, 0,  ..., 1, 0, 1], dtype=torch.uint8), tensor([1, 1, 0,  ..., 1, 0, 1], dtype=torch.uint8), tensor([1, 1, 0,  ..., 1, 0, 1], dtype=torch.uint8), tensor([1, 1, 0,  ..., 1, 0, 1], dtype=torch.uint8), tensor([1, 1, 0,  ..., 1, 0, 1], dtype=torch.uint8), tensor([1, 1, 0,  ..., 1, 0, 1], dtype=torch.uint8), tensor([1, 1, 0,  ..., 1, 0, 1], dtype=torch.uint8), tensor([1, 1, 0,  ..., 1, 0, 1], dtype=torch.uint8), tensor([1, 1, 0,  ..., 1, 0, 1], dtype=torch.uint8), tensor([1, 1, 0,  ..., 1, 0, 1], dtype=torch.uint8), tensor([1, 1, 0,  ..., 1, 0, 1], dtype=torch.uint8), tensor([1, 1, 0,  ..., 1, 0, 1], dtype=torch.uint8), tensor([1, 1, 0,  ..., 1, 0, 1], dtype=torch.uint8), tensor([1, 1, 0,  ..., 1, 0, 1], dtype=torch.uint8), tensor([1, 1, 0,  ..., 1, 0, 1], dtype=torch.uint8), tensor([1, 1, 0,  ..., 1, 0, 1], dtype=torch.uint8), tensor([1, 1, 0,  ..., 1, 0, 1], dtype=torch.uint8), tensor([1, 1, 0,  ..., 1, 0, 1], dtype=torch.uint8), tensor([1, 1, 0,  ..., 1, 0, 1], dtype=torch.uint8), tensor([1, 1, 0,  ..., 1, 0, 1], dtype=torch.uint8), tensor([1, 1, 0,  ..., 1, 0, 1], dtype=torch.uint8), tensor([1, 1, 0,  ..., 1, 0, 1], dtype=torch.uint8), tensor([1, 1, 0,  ..., 1, 0, 1], dtype=torch.uint8), tensor([1, 1, 0,  ..., 1, 0, 1], dtype=torch.uint8), tensor([1, 1, 0,  ..., 1, 0, 1], dtype=torch.uint8), tensor([1, 1, 0,  ..., 1, 0, 1], dtype=torch.uint8), tensor([1, 1, 0,  ..., 1, 0, 1], dtype=torch.uint8), tensor([1, 1, 0,  ..., 1, 0, 1], dtype=torch.uint8), tensor([1, 1, 0,  ..., 1, 0, 1], dtype=torch.uint8), tensor([1, 1, 0,  ..., 1, 0, 1], dtype=torch.uint8), tensor([1, 1, 0,  ..., 1, 0, 1], dtype=torch.uint8), tensor([1, 1, 0,  ..., 1, 0, 1], dtype=torch.uint8), tensor([1, 1, 0,  ..., 1, 0, 1], dtype=torch.uint8), tensor([1, 1, 0,  ..., 1, 0, 1], dtype=torch.uint8), tensor([1, 1, 0,  ..., 1, 0, 1], dtype=torch.uint8), tensor([1, 1, 0,  ..., 1, 0, 1], dtype=torch.uint8), tensor([1, 1, 0,  ..., 1, 0, 1], dtype=torch.uint8), tensor([1, 1, 0,  ..., 1, 0, 1], dtype=torch.uint8), tensor([1, 1, 0,  ..., 1, 0, 1], dtype=torch.uint8), tensor([1, 1, 0,  ..., 1, 0, 1], dtype=torch.uint8), tensor([1, 1, 0,  ..., 1, 0, 1], dtype=torch.uint8), tensor([1, 1, 0,  ..., 1, 0, 1], dtype=torch.uint8), tensor([1, 1, 0,  ..., 1, 0, 1], dtype=torch.uint8), tensor([1, 1, 0,  ..., 1, 0, 1], dtype=torch.uint8), tensor([1, 1, 0,  ..., 1, 0, 1], dtype=torch.uint8), tensor([1, 1, 0,  ..., 1, 0, 1], dtype=torch.uint8), tensor([1, 1, 0,  ..., 1, 0, 1], dtype=torch.uint8), tensor([1, 1, 0,  ..., 1, 0, 1], dtype=torch.uint8), tensor([1, 1, 0,  ..., 1, 0, 1], dtype=torch.uint8), tensor([1, 1, 0,  ..., 1, 0, 1], dtype=torch.uint8), tensor([1, 1, 0,  ..., 1, 0, 1], dtype=torch.uint8), tensor([1, 1, 0,  ..., 1, 0, 1], dtype=torch.uint8), tensor([1, 1, 0,  ..., 1, 0, 1], dtype=torch.uint8), tensor([1, 1, 0,  ..., 1, 0, 1], dtype=torch.uint8), tensor([1, 1, 0,  ..., 1, 0, 1], dtype=torch.uint8), tensor([1, 1, 0,  ..., 1, 0, 1], dtype=torch.uint8), tensor([1, 1, 0,  ..., 1, 0, 1], dtype=torch.uint8), tensor([1, 1, 0,  ..., 1, 0, 1], dtype=torch.uint8), tensor([1, 1, 0,  ..., 1, 0, 1], dtype=torch.uint8), tensor([1, 1, 0,  ..., 1, 0, 1], dtype=torch.uint8), tensor([1, 1, 0,  ..., 1, 0, 1], dtype=torch.uint8), tensor([1, 1, 0,  ..., 1, 0, 1], dtype=torch.uint8), tensor([1, 1, 0,  ..., 1, 0, 1], dtype=torch.uint8), tensor([1, 1, 0,  ..., 1, 0, 1], dtype=torch.uint8), tensor([1, 1, 0,  ..., 1, 0, 1], dtype=torch.uint8), tensor([1, 1, 0,  ..., 1, 0, 1], dtype=torch.uint8), tensor([1, 1, 0,  ..., 1, 0, 1], dtype=torch.uint8), tensor([1, 1, 0,  ..., 1, 0, 1], dtype=torch.uint8), tensor([1, 1, 0,  ..., 1, 0, 1], dtype=torch.uint8), tensor([1, 1, 0,  ..., 1, 0, 1], dtype=torch.uint8), tensor([1, 1, 0,  ..., 1, 0, 1], dtype=torch.uint8), tensor([1, 1, 0,  ..., 1, 0, 1], dtype=torch.uint8), tensor([1, 1, 0,  ..., 1, 0, 1], dtype=torch.uint8), tensor([1, 1, 0,  ..., 1, 0, 1], dtype=torch.uint8), tensor([1, 1, 0,  ..., 1, 0, 1], dtype=torch.uint8), tensor([1, 1, 0,  ..., 1, 0, 1], dtype=torch.uint8), tensor([1, 1, 0,  ..., 1, 0, 1], dtype=torch.uint8), tensor([1, 1, 0,  ..., 1, 0, 1], dtype=torch.uint8), tensor([1, 1, 0,  ..., 1, 0, 1], dtype=torch.uint8), tensor([1, 1, 0,  ..., 1, 0, 1], dtype=torch.uint8), tensor([1, 1, 0,  ..., 1, 0, 1], dtype=torch.uint8), tensor([1, 1, 0,  ..., 1, 0, 1], dtype=torch.uint8), tensor([1, 1, 0,  ..., 1, 0, 1], dtype=torch.uint8), tensor([1, 1, 0,  ..., 1, 0, 1], dtype=torch.uint8), tensor([1, 1, 0,  ..., 1, 0, 1], dtype=torch.uint8), tensor([1, 1, 0,  ..., 1, 0, 1], dtype=torch.uint8), tensor([1, 1, 0,  ..., 1, 0, 1], dtype=torch.uint8), tensor([1, 1, 0,  ..., 1, 0, 1], dtype=torch.uint8), tensor([1, 1, 0,  ..., 1, 0, 1], dtype=torch.uint8), tensor([1, 1, 0,  ..., 1, 0, 1], dtype=torch.uint8), tensor([1, 1, 0,  ..., 1, 0, 1], dtype=torch.uint8), tensor([1, 1, 0,  ..., 1, 0, 1], dtype=torch.uint8), tensor([1, 1, 0,  ..., 1, 0, 1], dtype=torch.uint8), tensor([1, 1, 0,  ..., 1, 0, 1], dtype=torch.uint8), tensor([1, 1, 0,  ..., 1, 0, 1], dtype=torch.uint8), tensor([1, 1, 0,  ..., 1, 0, 1], dtype=torch.uint8), tensor([1, 1, 0,  ..., 1, 0, 1], dtype=torch.uint8), tensor([1, 1, 0,  ..., 1, 0, 1], dtype=torch.uint8), tensor([1, 1, 0,  ..., 1, 0, 1], dtype=torch.uint8), tensor([1, 1, 0,  ..., 1, 0, 1], dtype=torch.uint8), tensor([1, 1, 0,  ..., 1, 0, 1], dtype=torch.uint8), tensor([1, 1, 0,  ..., 1, 0, 1], dtype=torch.uint8), tensor([1, 1, 0,  ..., 1, 0, 1], dtype=torch.uint8), tensor([1, 1, 0,  ..., 1, 0, 1], dtype=torch.uint8), tensor([1, 1, 0,  ..., 1, 0, 1], dtype=torch.uint8), tensor([1, 1, 0,  ..., 1, 0, 1], dtype=torch.uint8), tensor([1, 1, 0,  ..., 1, 0, 1], dtype=torch.uint8), tensor([1, 1, 0,  ..., 1, 0, 1], dtype=torch.uint8), tensor([1, 1, 0,  ..., 1, 0, 1], dtype=torch.uint8), tensor([1, 1, 0,  ..., 1, 0, 1], dtype=torch.uint8), tensor([1, 1, 0,  ..., 1, 0, 1], dtype=torch.uint8), tensor([1, 1, 0,  ..., 1, 0, 1], dtype=torch.uint8), tensor([1, 1, 0,  ..., 1, 0, 1], dtype=torch.uint8), tensor([1, 1, 0,  ..., 1, 0, 1], dtype=torch.uint8), tensor([1, 1, 0,  ..., 1, 0, 1], dtype=torch.uint8), tensor([1, 1, 0,  ..., 1, 1, 1], dtype=torch.uint8), tensor([1, 1, 0,  ..., 1, 1, 0], dtype=torch.uint8)]\n",
            "5000\n"
          ],
          "name": "stdout"
        }
      ]
    },
    {
      "cell_type": "markdown",
      "metadata": {
        "id": "s39PqER5bfxd",
        "colab_type": "text"
      },
      "source": [
        "Instructor's work from the video"
      ]
    },
    {
      "cell_type": "code",
      "metadata": {
        "id": "VYqnR4fX0Wtl",
        "colab_type": "code",
        "colab": {}
      },
      "source": [
        "# Step 1: Generate a function that creates a parallel database where we specify which value in the database you want to remove.\n",
        "\n",
        "def get_parallel_db(db, remove_index):\n",
        "  return torch.cat((\n",
        "      db[:remove_index],\n",
        "      db[remove_index+1:]\n",
        "  ))"
      ],
      "execution_count": 0,
      "outputs": []
    },
    {
      "cell_type": "code",
      "metadata": {
        "id": "-0eLBNg4dRoa",
        "colab_type": "code",
        "outputId": "5d43b6c0-035d-4c65-fff4-0d8f07205a5b",
        "colab": {
          "base_uri": "https://localhost:8080/",
          "height": 34
        }
      },
      "source": [
        "get_parallel_db(db, 3)"
      ],
      "execution_count": 12,
      "outputs": [
        {
          "output_type": "execute_result",
          "data": {
            "text/plain": [
              "tensor([1, 1, 0,  ..., 1, 0, 1], dtype=torch.uint8)"
            ]
          },
          "metadata": {
            "tags": []
          },
          "execution_count": 12
        }
      ]
    },
    {
      "cell_type": "code",
      "metadata": {
        "id": "aEMesO6qdbII",
        "colab_type": "code",
        "outputId": "f286355f-2528-4349-c7fd-530ddaf39069",
        "colab": {
          "base_uri": "https://localhost:8080/",
          "height": 34
        }
      },
      "source": [
        "get_parallel_db(db, 3).shape"
      ],
      "execution_count": 13,
      "outputs": [
        {
          "output_type": "execute_result",
          "data": {
            "text/plain": [
              "torch.Size([4999])"
            ]
          },
          "metadata": {
            "tags": []
          },
          "execution_count": 13
        }
      ]
    },
    {
      "cell_type": "code",
      "metadata": {
        "id": "MJT5clam0WvL",
        "colab_type": "code",
        "colab": {}
      },
      "source": [
        "# Step 2: Create a function which iterates over all values in the database, generating a copy with one element removed at the specified index."
      ],
      "execution_count": 0,
      "outputs": []
    },
    {
      "cell_type": "code",
      "metadata": {
        "id": "Domck7i1dvVw",
        "colab_type": "code",
        "colab": {}
      },
      "source": [
        "def get_parallel_dbs(db):\n",
        "  # Instantiate a list to contain all of the parallel databases.\n",
        "\n",
        "  parallel_dbs = list()\n",
        "  \n",
        "  #  Iterate over the database \n",
        "\n",
        "  for i in range(len(db)):\n",
        "    pdb = get_parallel_db(db, i)\n",
        "    parallel_dbs.append(pdb)\n",
        "    \n",
        "  return parallel_dbs"
      ],
      "execution_count": 0,
      "outputs": []
    },
    {
      "cell_type": "code",
      "metadata": {
        "id": "kxgU6wW5d8Kt",
        "colab_type": "code",
        "colab": {}
      },
      "source": [
        "pdbs = get_parallel_dbs(db)"
      ],
      "execution_count": 0,
      "outputs": []
    },
    {
      "cell_type": "code",
      "metadata": {
        "id": "ZnFP61_pezQu",
        "colab_type": "code",
        "outputId": "7d88dd05-8dc5-4cb4-b24d-2a71b7667299",
        "colab": {
          "base_uri": "https://localhost:8080/",
          "height": 1000
        }
      },
      "source": [
        "pdbs"
      ],
      "execution_count": 17,
      "outputs": [
        {
          "output_type": "execute_result",
          "data": {
            "text/plain": [
              "[tensor([1, 0, 0,  ..., 1, 0, 1], dtype=torch.uint8),\n",
              " tensor([1, 0, 0,  ..., 1, 0, 1], dtype=torch.uint8),\n",
              " tensor([1, 1, 0,  ..., 1, 0, 1], dtype=torch.uint8),\n",
              " tensor([1, 1, 0,  ..., 1, 0, 1], dtype=torch.uint8),\n",
              " tensor([1, 1, 0,  ..., 1, 0, 1], dtype=torch.uint8),\n",
              " tensor([1, 1, 0,  ..., 1, 0, 1], dtype=torch.uint8),\n",
              " tensor([1, 1, 0,  ..., 1, 0, 1], dtype=torch.uint8),\n",
              " tensor([1, 1, 0,  ..., 1, 0, 1], dtype=torch.uint8),\n",
              " tensor([1, 1, 0,  ..., 1, 0, 1], dtype=torch.uint8),\n",
              " tensor([1, 1, 0,  ..., 1, 0, 1], dtype=torch.uint8),\n",
              " tensor([1, 1, 0,  ..., 1, 0, 1], dtype=torch.uint8),\n",
              " tensor([1, 1, 0,  ..., 1, 0, 1], dtype=torch.uint8),\n",
              " tensor([1, 1, 0,  ..., 1, 0, 1], dtype=torch.uint8),\n",
              " tensor([1, 1, 0,  ..., 1, 0, 1], dtype=torch.uint8),\n",
              " tensor([1, 1, 0,  ..., 1, 0, 1], dtype=torch.uint8),\n",
              " tensor([1, 1, 0,  ..., 1, 0, 1], dtype=torch.uint8),\n",
              " tensor([1, 1, 0,  ..., 1, 0, 1], dtype=torch.uint8),\n",
              " tensor([1, 1, 0,  ..., 1, 0, 1], dtype=torch.uint8),\n",
              " tensor([1, 1, 0,  ..., 1, 0, 1], dtype=torch.uint8),\n",
              " tensor([1, 1, 0,  ..., 1, 0, 1], dtype=torch.uint8),\n",
              " tensor([1, 1, 0,  ..., 1, 0, 1], dtype=torch.uint8),\n",
              " tensor([1, 1, 0,  ..., 1, 0, 1], dtype=torch.uint8),\n",
              " tensor([1, 1, 0,  ..., 1, 0, 1], dtype=torch.uint8),\n",
              " tensor([1, 1, 0,  ..., 1, 0, 1], dtype=torch.uint8),\n",
              " tensor([1, 1, 0,  ..., 1, 0, 1], dtype=torch.uint8),\n",
              " tensor([1, 1, 0,  ..., 1, 0, 1], dtype=torch.uint8),\n",
              " tensor([1, 1, 0,  ..., 1, 0, 1], dtype=torch.uint8),\n",
              " tensor([1, 1, 0,  ..., 1, 0, 1], dtype=torch.uint8),\n",
              " tensor([1, 1, 0,  ..., 1, 0, 1], dtype=torch.uint8),\n",
              " tensor([1, 1, 0,  ..., 1, 0, 1], dtype=torch.uint8),\n",
              " tensor([1, 1, 0,  ..., 1, 0, 1], dtype=torch.uint8),\n",
              " tensor([1, 1, 0,  ..., 1, 0, 1], dtype=torch.uint8),\n",
              " tensor([1, 1, 0,  ..., 1, 0, 1], dtype=torch.uint8),\n",
              " tensor([1, 1, 0,  ..., 1, 0, 1], dtype=torch.uint8),\n",
              " tensor([1, 1, 0,  ..., 1, 0, 1], dtype=torch.uint8),\n",
              " tensor([1, 1, 0,  ..., 1, 0, 1], dtype=torch.uint8),\n",
              " tensor([1, 1, 0,  ..., 1, 0, 1], dtype=torch.uint8),\n",
              " tensor([1, 1, 0,  ..., 1, 0, 1], dtype=torch.uint8),\n",
              " tensor([1, 1, 0,  ..., 1, 0, 1], dtype=torch.uint8),\n",
              " tensor([1, 1, 0,  ..., 1, 0, 1], dtype=torch.uint8),\n",
              " tensor([1, 1, 0,  ..., 1, 0, 1], dtype=torch.uint8),\n",
              " tensor([1, 1, 0,  ..., 1, 0, 1], dtype=torch.uint8),\n",
              " tensor([1, 1, 0,  ..., 1, 0, 1], dtype=torch.uint8),\n",
              " tensor([1, 1, 0,  ..., 1, 0, 1], dtype=torch.uint8),\n",
              " tensor([1, 1, 0,  ..., 1, 0, 1], dtype=torch.uint8),\n",
              " tensor([1, 1, 0,  ..., 1, 0, 1], dtype=torch.uint8),\n",
              " tensor([1, 1, 0,  ..., 1, 0, 1], dtype=torch.uint8),\n",
              " tensor([1, 1, 0,  ..., 1, 0, 1], dtype=torch.uint8),\n",
              " tensor([1, 1, 0,  ..., 1, 0, 1], dtype=torch.uint8),\n",
              " tensor([1, 1, 0,  ..., 1, 0, 1], dtype=torch.uint8),\n",
              " tensor([1, 1, 0,  ..., 1, 0, 1], dtype=torch.uint8),\n",
              " tensor([1, 1, 0,  ..., 1, 0, 1], dtype=torch.uint8),\n",
              " tensor([1, 1, 0,  ..., 1, 0, 1], dtype=torch.uint8),\n",
              " tensor([1, 1, 0,  ..., 1, 0, 1], dtype=torch.uint8),\n",
              " tensor([1, 1, 0,  ..., 1, 0, 1], dtype=torch.uint8),\n",
              " tensor([1, 1, 0,  ..., 1, 0, 1], dtype=torch.uint8),\n",
              " tensor([1, 1, 0,  ..., 1, 0, 1], dtype=torch.uint8),\n",
              " tensor([1, 1, 0,  ..., 1, 0, 1], dtype=torch.uint8),\n",
              " tensor([1, 1, 0,  ..., 1, 0, 1], dtype=torch.uint8),\n",
              " tensor([1, 1, 0,  ..., 1, 0, 1], dtype=torch.uint8),\n",
              " tensor([1, 1, 0,  ..., 1, 0, 1], dtype=torch.uint8),\n",
              " tensor([1, 1, 0,  ..., 1, 0, 1], dtype=torch.uint8),\n",
              " tensor([1, 1, 0,  ..., 1, 0, 1], dtype=torch.uint8),\n",
              " tensor([1, 1, 0,  ..., 1, 0, 1], dtype=torch.uint8),\n",
              " tensor([1, 1, 0,  ..., 1, 0, 1], dtype=torch.uint8),\n",
              " tensor([1, 1, 0,  ..., 1, 0, 1], dtype=torch.uint8),\n",
              " tensor([1, 1, 0,  ..., 1, 0, 1], dtype=torch.uint8),\n",
              " tensor([1, 1, 0,  ..., 1, 0, 1], dtype=torch.uint8),\n",
              " tensor([1, 1, 0,  ..., 1, 0, 1], dtype=torch.uint8),\n",
              " tensor([1, 1, 0,  ..., 1, 0, 1], dtype=torch.uint8),\n",
              " tensor([1, 1, 0,  ..., 1, 0, 1], dtype=torch.uint8),\n",
              " tensor([1, 1, 0,  ..., 1, 0, 1], dtype=torch.uint8),\n",
              " tensor([1, 1, 0,  ..., 1, 0, 1], dtype=torch.uint8),\n",
              " tensor([1, 1, 0,  ..., 1, 0, 1], dtype=torch.uint8),\n",
              " tensor([1, 1, 0,  ..., 1, 0, 1], dtype=torch.uint8),\n",
              " tensor([1, 1, 0,  ..., 1, 0, 1], dtype=torch.uint8),\n",
              " tensor([1, 1, 0,  ..., 1, 0, 1], dtype=torch.uint8),\n",
              " tensor([1, 1, 0,  ..., 1, 0, 1], dtype=torch.uint8),\n",
              " tensor([1, 1, 0,  ..., 1, 0, 1], dtype=torch.uint8),\n",
              " tensor([1, 1, 0,  ..., 1, 0, 1], dtype=torch.uint8),\n",
              " tensor([1, 1, 0,  ..., 1, 0, 1], dtype=torch.uint8),\n",
              " tensor([1, 1, 0,  ..., 1, 0, 1], dtype=torch.uint8),\n",
              " tensor([1, 1, 0,  ..., 1, 0, 1], dtype=torch.uint8),\n",
              " tensor([1, 1, 0,  ..., 1, 0, 1], dtype=torch.uint8),\n",
              " tensor([1, 1, 0,  ..., 1, 0, 1], dtype=torch.uint8),\n",
              " tensor([1, 1, 0,  ..., 1, 0, 1], dtype=torch.uint8),\n",
              " tensor([1, 1, 0,  ..., 1, 0, 1], dtype=torch.uint8),\n",
              " tensor([1, 1, 0,  ..., 1, 0, 1], dtype=torch.uint8),\n",
              " tensor([1, 1, 0,  ..., 1, 0, 1], dtype=torch.uint8),\n",
              " tensor([1, 1, 0,  ..., 1, 0, 1], dtype=torch.uint8),\n",
              " tensor([1, 1, 0,  ..., 1, 0, 1], dtype=torch.uint8),\n",
              " tensor([1, 1, 0,  ..., 1, 0, 1], dtype=torch.uint8),\n",
              " tensor([1, 1, 0,  ..., 1, 0, 1], dtype=torch.uint8),\n",
              " tensor([1, 1, 0,  ..., 1, 0, 1], dtype=torch.uint8),\n",
              " tensor([1, 1, 0,  ..., 1, 0, 1], dtype=torch.uint8),\n",
              " tensor([1, 1, 0,  ..., 1, 0, 1], dtype=torch.uint8),\n",
              " tensor([1, 1, 0,  ..., 1, 0, 1], dtype=torch.uint8),\n",
              " tensor([1, 1, 0,  ..., 1, 0, 1], dtype=torch.uint8),\n",
              " tensor([1, 1, 0,  ..., 1, 0, 1], dtype=torch.uint8),\n",
              " tensor([1, 1, 0,  ..., 1, 0, 1], dtype=torch.uint8),\n",
              " tensor([1, 1, 0,  ..., 1, 0, 1], dtype=torch.uint8),\n",
              " tensor([1, 1, 0,  ..., 1, 0, 1], dtype=torch.uint8),\n",
              " tensor([1, 1, 0,  ..., 1, 0, 1], dtype=torch.uint8),\n",
              " tensor([1, 1, 0,  ..., 1, 0, 1], dtype=torch.uint8),\n",
              " tensor([1, 1, 0,  ..., 1, 0, 1], dtype=torch.uint8),\n",
              " tensor([1, 1, 0,  ..., 1, 0, 1], dtype=torch.uint8),\n",
              " tensor([1, 1, 0,  ..., 1, 0, 1], dtype=torch.uint8),\n",
              " tensor([1, 1, 0,  ..., 1, 0, 1], dtype=torch.uint8),\n",
              " tensor([1, 1, 0,  ..., 1, 0, 1], dtype=torch.uint8),\n",
              " tensor([1, 1, 0,  ..., 1, 0, 1], dtype=torch.uint8),\n",
              " tensor([1, 1, 0,  ..., 1, 0, 1], dtype=torch.uint8),\n",
              " tensor([1, 1, 0,  ..., 1, 0, 1], dtype=torch.uint8),\n",
              " tensor([1, 1, 0,  ..., 1, 0, 1], dtype=torch.uint8),\n",
              " tensor([1, 1, 0,  ..., 1, 0, 1], dtype=torch.uint8),\n",
              " tensor([1, 1, 0,  ..., 1, 0, 1], dtype=torch.uint8),\n",
              " tensor([1, 1, 0,  ..., 1, 0, 1], dtype=torch.uint8),\n",
              " tensor([1, 1, 0,  ..., 1, 0, 1], dtype=torch.uint8),\n",
              " tensor([1, 1, 0,  ..., 1, 0, 1], dtype=torch.uint8),\n",
              " tensor([1, 1, 0,  ..., 1, 0, 1], dtype=torch.uint8),\n",
              " tensor([1, 1, 0,  ..., 1, 0, 1], dtype=torch.uint8),\n",
              " tensor([1, 1, 0,  ..., 1, 0, 1], dtype=torch.uint8),\n",
              " tensor([1, 1, 0,  ..., 1, 0, 1], dtype=torch.uint8),\n",
              " tensor([1, 1, 0,  ..., 1, 0, 1], dtype=torch.uint8),\n",
              " tensor([1, 1, 0,  ..., 1, 0, 1], dtype=torch.uint8),\n",
              " tensor([1, 1, 0,  ..., 1, 0, 1], dtype=torch.uint8),\n",
              " tensor([1, 1, 0,  ..., 1, 0, 1], dtype=torch.uint8),\n",
              " tensor([1, 1, 0,  ..., 1, 0, 1], dtype=torch.uint8),\n",
              " tensor([1, 1, 0,  ..., 1, 0, 1], dtype=torch.uint8),\n",
              " tensor([1, 1, 0,  ..., 1, 0, 1], dtype=torch.uint8),\n",
              " tensor([1, 1, 0,  ..., 1, 0, 1], dtype=torch.uint8),\n",
              " tensor([1, 1, 0,  ..., 1, 0, 1], dtype=torch.uint8),\n",
              " tensor([1, 1, 0,  ..., 1, 0, 1], dtype=torch.uint8),\n",
              " tensor([1, 1, 0,  ..., 1, 0, 1], dtype=torch.uint8),\n",
              " tensor([1, 1, 0,  ..., 1, 0, 1], dtype=torch.uint8),\n",
              " tensor([1, 1, 0,  ..., 1, 0, 1], dtype=torch.uint8),\n",
              " tensor([1, 1, 0,  ..., 1, 0, 1], dtype=torch.uint8),\n",
              " tensor([1, 1, 0,  ..., 1, 0, 1], dtype=torch.uint8),\n",
              " tensor([1, 1, 0,  ..., 1, 0, 1], dtype=torch.uint8),\n",
              " tensor([1, 1, 0,  ..., 1, 0, 1], dtype=torch.uint8),\n",
              " tensor([1, 1, 0,  ..., 1, 0, 1], dtype=torch.uint8),\n",
              " tensor([1, 1, 0,  ..., 1, 0, 1], dtype=torch.uint8),\n",
              " tensor([1, 1, 0,  ..., 1, 0, 1], dtype=torch.uint8),\n",
              " tensor([1, 1, 0,  ..., 1, 0, 1], dtype=torch.uint8),\n",
              " tensor([1, 1, 0,  ..., 1, 0, 1], dtype=torch.uint8),\n",
              " tensor([1, 1, 0,  ..., 1, 0, 1], dtype=torch.uint8),\n",
              " tensor([1, 1, 0,  ..., 1, 0, 1], dtype=torch.uint8),\n",
              " tensor([1, 1, 0,  ..., 1, 0, 1], dtype=torch.uint8),\n",
              " tensor([1, 1, 0,  ..., 1, 0, 1], dtype=torch.uint8),\n",
              " tensor([1, 1, 0,  ..., 1, 0, 1], dtype=torch.uint8),\n",
              " tensor([1, 1, 0,  ..., 1, 0, 1], dtype=torch.uint8),\n",
              " tensor([1, 1, 0,  ..., 1, 0, 1], dtype=torch.uint8),\n",
              " tensor([1, 1, 0,  ..., 1, 0, 1], dtype=torch.uint8),\n",
              " tensor([1, 1, 0,  ..., 1, 0, 1], dtype=torch.uint8),\n",
              " tensor([1, 1, 0,  ..., 1, 0, 1], dtype=torch.uint8),\n",
              " tensor([1, 1, 0,  ..., 1, 0, 1], dtype=torch.uint8),\n",
              " tensor([1, 1, 0,  ..., 1, 0, 1], dtype=torch.uint8),\n",
              " tensor([1, 1, 0,  ..., 1, 0, 1], dtype=torch.uint8),\n",
              " tensor([1, 1, 0,  ..., 1, 0, 1], dtype=torch.uint8),\n",
              " tensor([1, 1, 0,  ..., 1, 0, 1], dtype=torch.uint8),\n",
              " tensor([1, 1, 0,  ..., 1, 0, 1], dtype=torch.uint8),\n",
              " tensor([1, 1, 0,  ..., 1, 0, 1], dtype=torch.uint8),\n",
              " tensor([1, 1, 0,  ..., 1, 0, 1], dtype=torch.uint8),\n",
              " tensor([1, 1, 0,  ..., 1, 0, 1], dtype=torch.uint8),\n",
              " tensor([1, 1, 0,  ..., 1, 0, 1], dtype=torch.uint8),\n",
              " tensor([1, 1, 0,  ..., 1, 0, 1], dtype=torch.uint8),\n",
              " tensor([1, 1, 0,  ..., 1, 0, 1], dtype=torch.uint8),\n",
              " tensor([1, 1, 0,  ..., 1, 0, 1], dtype=torch.uint8),\n",
              " tensor([1, 1, 0,  ..., 1, 0, 1], dtype=torch.uint8),\n",
              " tensor([1, 1, 0,  ..., 1, 0, 1], dtype=torch.uint8),\n",
              " tensor([1, 1, 0,  ..., 1, 0, 1], dtype=torch.uint8),\n",
              " tensor([1, 1, 0,  ..., 1, 0, 1], dtype=torch.uint8),\n",
              " tensor([1, 1, 0,  ..., 1, 0, 1], dtype=torch.uint8),\n",
              " tensor([1, 1, 0,  ..., 1, 0, 1], dtype=torch.uint8),\n",
              " tensor([1, 1, 0,  ..., 1, 0, 1], dtype=torch.uint8),\n",
              " tensor([1, 1, 0,  ..., 1, 0, 1], dtype=torch.uint8),\n",
              " tensor([1, 1, 0,  ..., 1, 0, 1], dtype=torch.uint8),\n",
              " tensor([1, 1, 0,  ..., 1, 0, 1], dtype=torch.uint8),\n",
              " tensor([1, 1, 0,  ..., 1, 0, 1], dtype=torch.uint8),\n",
              " tensor([1, 1, 0,  ..., 1, 0, 1], dtype=torch.uint8),\n",
              " tensor([1, 1, 0,  ..., 1, 0, 1], dtype=torch.uint8),\n",
              " tensor([1, 1, 0,  ..., 1, 0, 1], dtype=torch.uint8),\n",
              " tensor([1, 1, 0,  ..., 1, 0, 1], dtype=torch.uint8),\n",
              " tensor([1, 1, 0,  ..., 1, 0, 1], dtype=torch.uint8),\n",
              " tensor([1, 1, 0,  ..., 1, 0, 1], dtype=torch.uint8),\n",
              " tensor([1, 1, 0,  ..., 1, 0, 1], dtype=torch.uint8),\n",
              " tensor([1, 1, 0,  ..., 1, 0, 1], dtype=torch.uint8),\n",
              " tensor([1, 1, 0,  ..., 1, 0, 1], dtype=torch.uint8),\n",
              " tensor([1, 1, 0,  ..., 1, 0, 1], dtype=torch.uint8),\n",
              " tensor([1, 1, 0,  ..., 1, 0, 1], dtype=torch.uint8),\n",
              " tensor([1, 1, 0,  ..., 1, 0, 1], dtype=torch.uint8),\n",
              " tensor([1, 1, 0,  ..., 1, 0, 1], dtype=torch.uint8),\n",
              " tensor([1, 1, 0,  ..., 1, 0, 1], dtype=torch.uint8),\n",
              " tensor([1, 1, 0,  ..., 1, 0, 1], dtype=torch.uint8),\n",
              " tensor([1, 1, 0,  ..., 1, 0, 1], dtype=torch.uint8),\n",
              " tensor([1, 1, 0,  ..., 1, 0, 1], dtype=torch.uint8),\n",
              " tensor([1, 1, 0,  ..., 1, 0, 1], dtype=torch.uint8),\n",
              " tensor([1, 1, 0,  ..., 1, 0, 1], dtype=torch.uint8),\n",
              " tensor([1, 1, 0,  ..., 1, 0, 1], dtype=torch.uint8),\n",
              " tensor([1, 1, 0,  ..., 1, 0, 1], dtype=torch.uint8),\n",
              " tensor([1, 1, 0,  ..., 1, 0, 1], dtype=torch.uint8),\n",
              " tensor([1, 1, 0,  ..., 1, 0, 1], dtype=torch.uint8),\n",
              " tensor([1, 1, 0,  ..., 1, 0, 1], dtype=torch.uint8),\n",
              " tensor([1, 1, 0,  ..., 1, 0, 1], dtype=torch.uint8),\n",
              " tensor([1, 1, 0,  ..., 1, 0, 1], dtype=torch.uint8),\n",
              " tensor([1, 1, 0,  ..., 1, 0, 1], dtype=torch.uint8),\n",
              " tensor([1, 1, 0,  ..., 1, 0, 1], dtype=torch.uint8),\n",
              " tensor([1, 1, 0,  ..., 1, 0, 1], dtype=torch.uint8),\n",
              " tensor([1, 1, 0,  ..., 1, 0, 1], dtype=torch.uint8),\n",
              " tensor([1, 1, 0,  ..., 1, 0, 1], dtype=torch.uint8),\n",
              " tensor([1, 1, 0,  ..., 1, 0, 1], dtype=torch.uint8),\n",
              " tensor([1, 1, 0,  ..., 1, 0, 1], dtype=torch.uint8),\n",
              " tensor([1, 1, 0,  ..., 1, 0, 1], dtype=torch.uint8),\n",
              " tensor([1, 1, 0,  ..., 1, 0, 1], dtype=torch.uint8),\n",
              " tensor([1, 1, 0,  ..., 1, 0, 1], dtype=torch.uint8),\n",
              " tensor([1, 1, 0,  ..., 1, 0, 1], dtype=torch.uint8),\n",
              " tensor([1, 1, 0,  ..., 1, 0, 1], dtype=torch.uint8),\n",
              " tensor([1, 1, 0,  ..., 1, 0, 1], dtype=torch.uint8),\n",
              " tensor([1, 1, 0,  ..., 1, 0, 1], dtype=torch.uint8),\n",
              " tensor([1, 1, 0,  ..., 1, 0, 1], dtype=torch.uint8),\n",
              " tensor([1, 1, 0,  ..., 1, 0, 1], dtype=torch.uint8),\n",
              " tensor([1, 1, 0,  ..., 1, 0, 1], dtype=torch.uint8),\n",
              " tensor([1, 1, 0,  ..., 1, 0, 1], dtype=torch.uint8),\n",
              " tensor([1, 1, 0,  ..., 1, 0, 1], dtype=torch.uint8),\n",
              " tensor([1, 1, 0,  ..., 1, 0, 1], dtype=torch.uint8),\n",
              " tensor([1, 1, 0,  ..., 1, 0, 1], dtype=torch.uint8),\n",
              " tensor([1, 1, 0,  ..., 1, 0, 1], dtype=torch.uint8),\n",
              " tensor([1, 1, 0,  ..., 1, 0, 1], dtype=torch.uint8),\n",
              " tensor([1, 1, 0,  ..., 1, 0, 1], dtype=torch.uint8),\n",
              " tensor([1, 1, 0,  ..., 1, 0, 1], dtype=torch.uint8),\n",
              " tensor([1, 1, 0,  ..., 1, 0, 1], dtype=torch.uint8),\n",
              " tensor([1, 1, 0,  ..., 1, 0, 1], dtype=torch.uint8),\n",
              " tensor([1, 1, 0,  ..., 1, 0, 1], dtype=torch.uint8),\n",
              " tensor([1, 1, 0,  ..., 1, 0, 1], dtype=torch.uint8),\n",
              " tensor([1, 1, 0,  ..., 1, 0, 1], dtype=torch.uint8),\n",
              " tensor([1, 1, 0,  ..., 1, 0, 1], dtype=torch.uint8),\n",
              " tensor([1, 1, 0,  ..., 1, 0, 1], dtype=torch.uint8),\n",
              " tensor([1, 1, 0,  ..., 1, 0, 1], dtype=torch.uint8),\n",
              " tensor([1, 1, 0,  ..., 1, 0, 1], dtype=torch.uint8),\n",
              " tensor([1, 1, 0,  ..., 1, 0, 1], dtype=torch.uint8),\n",
              " tensor([1, 1, 0,  ..., 1, 0, 1], dtype=torch.uint8),\n",
              " tensor([1, 1, 0,  ..., 1, 0, 1], dtype=torch.uint8),\n",
              " tensor([1, 1, 0,  ..., 1, 0, 1], dtype=torch.uint8),\n",
              " tensor([1, 1, 0,  ..., 1, 0, 1], dtype=torch.uint8),\n",
              " tensor([1, 1, 0,  ..., 1, 0, 1], dtype=torch.uint8),\n",
              " tensor([1, 1, 0,  ..., 1, 0, 1], dtype=torch.uint8),\n",
              " tensor([1, 1, 0,  ..., 1, 0, 1], dtype=torch.uint8),\n",
              " tensor([1, 1, 0,  ..., 1, 0, 1], dtype=torch.uint8),\n",
              " tensor([1, 1, 0,  ..., 1, 0, 1], dtype=torch.uint8),\n",
              " tensor([1, 1, 0,  ..., 1, 0, 1], dtype=torch.uint8),\n",
              " tensor([1, 1, 0,  ..., 1, 0, 1], dtype=torch.uint8),\n",
              " tensor([1, 1, 0,  ..., 1, 0, 1], dtype=torch.uint8),\n",
              " tensor([1, 1, 0,  ..., 1, 0, 1], dtype=torch.uint8),\n",
              " tensor([1, 1, 0,  ..., 1, 0, 1], dtype=torch.uint8),\n",
              " tensor([1, 1, 0,  ..., 1, 0, 1], dtype=torch.uint8),\n",
              " tensor([1, 1, 0,  ..., 1, 0, 1], dtype=torch.uint8),\n",
              " tensor([1, 1, 0,  ..., 1, 0, 1], dtype=torch.uint8),\n",
              " tensor([1, 1, 0,  ..., 1, 0, 1], dtype=torch.uint8),\n",
              " tensor([1, 1, 0,  ..., 1, 0, 1], dtype=torch.uint8),\n",
              " tensor([1, 1, 0,  ..., 1, 0, 1], dtype=torch.uint8),\n",
              " tensor([1, 1, 0,  ..., 1, 0, 1], dtype=torch.uint8),\n",
              " tensor([1, 1, 0,  ..., 1, 0, 1], dtype=torch.uint8),\n",
              " tensor([1, 1, 0,  ..., 1, 0, 1], dtype=torch.uint8),\n",
              " tensor([1, 1, 0,  ..., 1, 0, 1], dtype=torch.uint8),\n",
              " tensor([1, 1, 0,  ..., 1, 0, 1], dtype=torch.uint8),\n",
              " tensor([1, 1, 0,  ..., 1, 0, 1], dtype=torch.uint8),\n",
              " tensor([1, 1, 0,  ..., 1, 0, 1], dtype=torch.uint8),\n",
              " tensor([1, 1, 0,  ..., 1, 0, 1], dtype=torch.uint8),\n",
              " tensor([1, 1, 0,  ..., 1, 0, 1], dtype=torch.uint8),\n",
              " tensor([1, 1, 0,  ..., 1, 0, 1], dtype=torch.uint8),\n",
              " tensor([1, 1, 0,  ..., 1, 0, 1], dtype=torch.uint8),\n",
              " tensor([1, 1, 0,  ..., 1, 0, 1], dtype=torch.uint8),\n",
              " tensor([1, 1, 0,  ..., 1, 0, 1], dtype=torch.uint8),\n",
              " tensor([1, 1, 0,  ..., 1, 0, 1], dtype=torch.uint8),\n",
              " tensor([1, 1, 0,  ..., 1, 0, 1], dtype=torch.uint8),\n",
              " tensor([1, 1, 0,  ..., 1, 0, 1], dtype=torch.uint8),\n",
              " tensor([1, 1, 0,  ..., 1, 0, 1], dtype=torch.uint8),\n",
              " tensor([1, 1, 0,  ..., 1, 0, 1], dtype=torch.uint8),\n",
              " tensor([1, 1, 0,  ..., 1, 0, 1], dtype=torch.uint8),\n",
              " tensor([1, 1, 0,  ..., 1, 0, 1], dtype=torch.uint8),\n",
              " tensor([1, 1, 0,  ..., 1, 0, 1], dtype=torch.uint8),\n",
              " tensor([1, 1, 0,  ..., 1, 0, 1], dtype=torch.uint8),\n",
              " tensor([1, 1, 0,  ..., 1, 0, 1], dtype=torch.uint8),\n",
              " tensor([1, 1, 0,  ..., 1, 0, 1], dtype=torch.uint8),\n",
              " tensor([1, 1, 0,  ..., 1, 0, 1], dtype=torch.uint8),\n",
              " tensor([1, 1, 0,  ..., 1, 0, 1], dtype=torch.uint8),\n",
              " tensor([1, 1, 0,  ..., 1, 0, 1], dtype=torch.uint8),\n",
              " tensor([1, 1, 0,  ..., 1, 0, 1], dtype=torch.uint8),\n",
              " tensor([1, 1, 0,  ..., 1, 0, 1], dtype=torch.uint8),\n",
              " tensor([1, 1, 0,  ..., 1, 0, 1], dtype=torch.uint8),\n",
              " tensor([1, 1, 0,  ..., 1, 0, 1], dtype=torch.uint8),\n",
              " tensor([1, 1, 0,  ..., 1, 0, 1], dtype=torch.uint8),\n",
              " tensor([1, 1, 0,  ..., 1, 0, 1], dtype=torch.uint8),\n",
              " tensor([1, 1, 0,  ..., 1, 0, 1], dtype=torch.uint8),\n",
              " tensor([1, 1, 0,  ..., 1, 0, 1], dtype=torch.uint8),\n",
              " tensor([1, 1, 0,  ..., 1, 0, 1], dtype=torch.uint8),\n",
              " tensor([1, 1, 0,  ..., 1, 0, 1], dtype=torch.uint8),\n",
              " tensor([1, 1, 0,  ..., 1, 0, 1], dtype=torch.uint8),\n",
              " tensor([1, 1, 0,  ..., 1, 0, 1], dtype=torch.uint8),\n",
              " tensor([1, 1, 0,  ..., 1, 0, 1], dtype=torch.uint8),\n",
              " tensor([1, 1, 0,  ..., 1, 0, 1], dtype=torch.uint8),\n",
              " tensor([1, 1, 0,  ..., 1, 0, 1], dtype=torch.uint8),\n",
              " tensor([1, 1, 0,  ..., 1, 0, 1], dtype=torch.uint8),\n",
              " tensor([1, 1, 0,  ..., 1, 0, 1], dtype=torch.uint8),\n",
              " tensor([1, 1, 0,  ..., 1, 0, 1], dtype=torch.uint8),\n",
              " tensor([1, 1, 0,  ..., 1, 0, 1], dtype=torch.uint8),\n",
              " tensor([1, 1, 0,  ..., 1, 0, 1], dtype=torch.uint8),\n",
              " tensor([1, 1, 0,  ..., 1, 0, 1], dtype=torch.uint8),\n",
              " tensor([1, 1, 0,  ..., 1, 0, 1], dtype=torch.uint8),\n",
              " tensor([1, 1, 0,  ..., 1, 0, 1], dtype=torch.uint8),\n",
              " tensor([1, 1, 0,  ..., 1, 0, 1], dtype=torch.uint8),\n",
              " tensor([1, 1, 0,  ..., 1, 0, 1], dtype=torch.uint8),\n",
              " tensor([1, 1, 0,  ..., 1, 0, 1], dtype=torch.uint8),\n",
              " tensor([1, 1, 0,  ..., 1, 0, 1], dtype=torch.uint8),\n",
              " tensor([1, 1, 0,  ..., 1, 0, 1], dtype=torch.uint8),\n",
              " tensor([1, 1, 0,  ..., 1, 0, 1], dtype=torch.uint8),\n",
              " tensor([1, 1, 0,  ..., 1, 0, 1], dtype=torch.uint8),\n",
              " tensor([1, 1, 0,  ..., 1, 0, 1], dtype=torch.uint8),\n",
              " tensor([1, 1, 0,  ..., 1, 0, 1], dtype=torch.uint8),\n",
              " tensor([1, 1, 0,  ..., 1, 0, 1], dtype=torch.uint8),\n",
              " tensor([1, 1, 0,  ..., 1, 0, 1], dtype=torch.uint8),\n",
              " tensor([1, 1, 0,  ..., 1, 0, 1], dtype=torch.uint8),\n",
              " tensor([1, 1, 0,  ..., 1, 0, 1], dtype=torch.uint8),\n",
              " tensor([1, 1, 0,  ..., 1, 0, 1], dtype=torch.uint8),\n",
              " tensor([1, 1, 0,  ..., 1, 0, 1], dtype=torch.uint8),\n",
              " tensor([1, 1, 0,  ..., 1, 0, 1], dtype=torch.uint8),\n",
              " tensor([1, 1, 0,  ..., 1, 0, 1], dtype=torch.uint8),\n",
              " tensor([1, 1, 0,  ..., 1, 0, 1], dtype=torch.uint8),\n",
              " tensor([1, 1, 0,  ..., 1, 0, 1], dtype=torch.uint8),\n",
              " tensor([1, 1, 0,  ..., 1, 0, 1], dtype=torch.uint8),\n",
              " tensor([1, 1, 0,  ..., 1, 0, 1], dtype=torch.uint8),\n",
              " tensor([1, 1, 0,  ..., 1, 0, 1], dtype=torch.uint8),\n",
              " tensor([1, 1, 0,  ..., 1, 0, 1], dtype=torch.uint8),\n",
              " tensor([1, 1, 0,  ..., 1, 0, 1], dtype=torch.uint8),\n",
              " tensor([1, 1, 0,  ..., 1, 0, 1], dtype=torch.uint8),\n",
              " tensor([1, 1, 0,  ..., 1, 0, 1], dtype=torch.uint8),\n",
              " tensor([1, 1, 0,  ..., 1, 0, 1], dtype=torch.uint8),\n",
              " tensor([1, 1, 0,  ..., 1, 0, 1], dtype=torch.uint8),\n",
              " tensor([1, 1, 0,  ..., 1, 0, 1], dtype=torch.uint8),\n",
              " tensor([1, 1, 0,  ..., 1, 0, 1], dtype=torch.uint8),\n",
              " tensor([1, 1, 0,  ..., 1, 0, 1], dtype=torch.uint8),\n",
              " tensor([1, 1, 0,  ..., 1, 0, 1], dtype=torch.uint8),\n",
              " tensor([1, 1, 0,  ..., 1, 0, 1], dtype=torch.uint8),\n",
              " tensor([1, 1, 0,  ..., 1, 0, 1], dtype=torch.uint8),\n",
              " tensor([1, 1, 0,  ..., 1, 0, 1], dtype=torch.uint8),\n",
              " tensor([1, 1, 0,  ..., 1, 0, 1], dtype=torch.uint8),\n",
              " tensor([1, 1, 0,  ..., 1, 0, 1], dtype=torch.uint8),\n",
              " tensor([1, 1, 0,  ..., 1, 0, 1], dtype=torch.uint8),\n",
              " tensor([1, 1, 0,  ..., 1, 0, 1], dtype=torch.uint8),\n",
              " tensor([1, 1, 0,  ..., 1, 0, 1], dtype=torch.uint8),\n",
              " tensor([1, 1, 0,  ..., 1, 0, 1], dtype=torch.uint8),\n",
              " tensor([1, 1, 0,  ..., 1, 0, 1], dtype=torch.uint8),\n",
              " tensor([1, 1, 0,  ..., 1, 0, 1], dtype=torch.uint8),\n",
              " tensor([1, 1, 0,  ..., 1, 0, 1], dtype=torch.uint8),\n",
              " tensor([1, 1, 0,  ..., 1, 0, 1], dtype=torch.uint8),\n",
              " tensor([1, 1, 0,  ..., 1, 0, 1], dtype=torch.uint8),\n",
              " tensor([1, 1, 0,  ..., 1, 0, 1], dtype=torch.uint8),\n",
              " tensor([1, 1, 0,  ..., 1, 0, 1], dtype=torch.uint8),\n",
              " tensor([1, 1, 0,  ..., 1, 0, 1], dtype=torch.uint8),\n",
              " tensor([1, 1, 0,  ..., 1, 0, 1], dtype=torch.uint8),\n",
              " tensor([1, 1, 0,  ..., 1, 0, 1], dtype=torch.uint8),\n",
              " tensor([1, 1, 0,  ..., 1, 0, 1], dtype=torch.uint8),\n",
              " tensor([1, 1, 0,  ..., 1, 0, 1], dtype=torch.uint8),\n",
              " tensor([1, 1, 0,  ..., 1, 0, 1], dtype=torch.uint8),\n",
              " tensor([1, 1, 0,  ..., 1, 0, 1], dtype=torch.uint8),\n",
              " tensor([1, 1, 0,  ..., 1, 0, 1], dtype=torch.uint8),\n",
              " tensor([1, 1, 0,  ..., 1, 0, 1], dtype=torch.uint8),\n",
              " tensor([1, 1, 0,  ..., 1, 0, 1], dtype=torch.uint8),\n",
              " tensor([1, 1, 0,  ..., 1, 0, 1], dtype=torch.uint8),\n",
              " tensor([1, 1, 0,  ..., 1, 0, 1], dtype=torch.uint8),\n",
              " tensor([1, 1, 0,  ..., 1, 0, 1], dtype=torch.uint8),\n",
              " tensor([1, 1, 0,  ..., 1, 0, 1], dtype=torch.uint8),\n",
              " tensor([1, 1, 0,  ..., 1, 0, 1], dtype=torch.uint8),\n",
              " tensor([1, 1, 0,  ..., 1, 0, 1], dtype=torch.uint8),\n",
              " tensor([1, 1, 0,  ..., 1, 0, 1], dtype=torch.uint8),\n",
              " tensor([1, 1, 0,  ..., 1, 0, 1], dtype=torch.uint8),\n",
              " tensor([1, 1, 0,  ..., 1, 0, 1], dtype=torch.uint8),\n",
              " tensor([1, 1, 0,  ..., 1, 0, 1], dtype=torch.uint8),\n",
              " tensor([1, 1, 0,  ..., 1, 0, 1], dtype=torch.uint8),\n",
              " tensor([1, 1, 0,  ..., 1, 0, 1], dtype=torch.uint8),\n",
              " tensor([1, 1, 0,  ..., 1, 0, 1], dtype=torch.uint8),\n",
              " tensor([1, 1, 0,  ..., 1, 0, 1], dtype=torch.uint8),\n",
              " tensor([1, 1, 0,  ..., 1, 0, 1], dtype=torch.uint8),\n",
              " tensor([1, 1, 0,  ..., 1, 0, 1], dtype=torch.uint8),\n",
              " tensor([1, 1, 0,  ..., 1, 0, 1], dtype=torch.uint8),\n",
              " tensor([1, 1, 0,  ..., 1, 0, 1], dtype=torch.uint8),\n",
              " tensor([1, 1, 0,  ..., 1, 0, 1], dtype=torch.uint8),\n",
              " tensor([1, 1, 0,  ..., 1, 0, 1], dtype=torch.uint8),\n",
              " tensor([1, 1, 0,  ..., 1, 0, 1], dtype=torch.uint8),\n",
              " tensor([1, 1, 0,  ..., 1, 0, 1], dtype=torch.uint8),\n",
              " tensor([1, 1, 0,  ..., 1, 0, 1], dtype=torch.uint8),\n",
              " tensor([1, 1, 0,  ..., 1, 0, 1], dtype=torch.uint8),\n",
              " tensor([1, 1, 0,  ..., 1, 0, 1], dtype=torch.uint8),\n",
              " tensor([1, 1, 0,  ..., 1, 0, 1], dtype=torch.uint8),\n",
              " tensor([1, 1, 0,  ..., 1, 0, 1], dtype=torch.uint8),\n",
              " tensor([1, 1, 0,  ..., 1, 0, 1], dtype=torch.uint8),\n",
              " tensor([1, 1, 0,  ..., 1, 0, 1], dtype=torch.uint8),\n",
              " tensor([1, 1, 0,  ..., 1, 0, 1], dtype=torch.uint8),\n",
              " tensor([1, 1, 0,  ..., 1, 0, 1], dtype=torch.uint8),\n",
              " tensor([1, 1, 0,  ..., 1, 0, 1], dtype=torch.uint8),\n",
              " tensor([1, 1, 0,  ..., 1, 0, 1], dtype=torch.uint8),\n",
              " tensor([1, 1, 0,  ..., 1, 0, 1], dtype=torch.uint8),\n",
              " tensor([1, 1, 0,  ..., 1, 0, 1], dtype=torch.uint8),\n",
              " tensor([1, 1, 0,  ..., 1, 0, 1], dtype=torch.uint8),\n",
              " tensor([1, 1, 0,  ..., 1, 0, 1], dtype=torch.uint8),\n",
              " tensor([1, 1, 0,  ..., 1, 0, 1], dtype=torch.uint8),\n",
              " tensor([1, 1, 0,  ..., 1, 0, 1], dtype=torch.uint8),\n",
              " tensor([1, 1, 0,  ..., 1, 0, 1], dtype=torch.uint8),\n",
              " tensor([1, 1, 0,  ..., 1, 0, 1], dtype=torch.uint8),\n",
              " tensor([1, 1, 0,  ..., 1, 0, 1], dtype=torch.uint8),\n",
              " tensor([1, 1, 0,  ..., 1, 0, 1], dtype=torch.uint8),\n",
              " tensor([1, 1, 0,  ..., 1, 0, 1], dtype=torch.uint8),\n",
              " tensor([1, 1, 0,  ..., 1, 0, 1], dtype=torch.uint8),\n",
              " tensor([1, 1, 0,  ..., 1, 0, 1], dtype=torch.uint8),\n",
              " tensor([1, 1, 0,  ..., 1, 0, 1], dtype=torch.uint8),\n",
              " tensor([1, 1, 0,  ..., 1, 0, 1], dtype=torch.uint8),\n",
              " tensor([1, 1, 0,  ..., 1, 0, 1], dtype=torch.uint8),\n",
              " tensor([1, 1, 0,  ..., 1, 0, 1], dtype=torch.uint8),\n",
              " tensor([1, 1, 0,  ..., 1, 0, 1], dtype=torch.uint8),\n",
              " tensor([1, 1, 0,  ..., 1, 0, 1], dtype=torch.uint8),\n",
              " tensor([1, 1, 0,  ..., 1, 0, 1], dtype=torch.uint8),\n",
              " tensor([1, 1, 0,  ..., 1, 0, 1], dtype=torch.uint8),\n",
              " tensor([1, 1, 0,  ..., 1, 0, 1], dtype=torch.uint8),\n",
              " tensor([1, 1, 0,  ..., 1, 0, 1], dtype=torch.uint8),\n",
              " tensor([1, 1, 0,  ..., 1, 0, 1], dtype=torch.uint8),\n",
              " tensor([1, 1, 0,  ..., 1, 0, 1], dtype=torch.uint8),\n",
              " tensor([1, 1, 0,  ..., 1, 0, 1], dtype=torch.uint8),\n",
              " tensor([1, 1, 0,  ..., 1, 0, 1], dtype=torch.uint8),\n",
              " tensor([1, 1, 0,  ..., 1, 0, 1], dtype=torch.uint8),\n",
              " tensor([1, 1, 0,  ..., 1, 0, 1], dtype=torch.uint8),\n",
              " tensor([1, 1, 0,  ..., 1, 0, 1], dtype=torch.uint8),\n",
              " tensor([1, 1, 0,  ..., 1, 0, 1], dtype=torch.uint8),\n",
              " tensor([1, 1, 0,  ..., 1, 0, 1], dtype=torch.uint8),\n",
              " tensor([1, 1, 0,  ..., 1, 0, 1], dtype=torch.uint8),\n",
              " tensor([1, 1, 0,  ..., 1, 0, 1], dtype=torch.uint8),\n",
              " tensor([1, 1, 0,  ..., 1, 0, 1], dtype=torch.uint8),\n",
              " tensor([1, 1, 0,  ..., 1, 0, 1], dtype=torch.uint8),\n",
              " tensor([1, 1, 0,  ..., 1, 0, 1], dtype=torch.uint8),\n",
              " tensor([1, 1, 0,  ..., 1, 0, 1], dtype=torch.uint8),\n",
              " tensor([1, 1, 0,  ..., 1, 0, 1], dtype=torch.uint8),\n",
              " tensor([1, 1, 0,  ..., 1, 0, 1], dtype=torch.uint8),\n",
              " tensor([1, 1, 0,  ..., 1, 0, 1], dtype=torch.uint8),\n",
              " tensor([1, 1, 0,  ..., 1, 0, 1], dtype=torch.uint8),\n",
              " tensor([1, 1, 0,  ..., 1, 0, 1], dtype=torch.uint8),\n",
              " tensor([1, 1, 0,  ..., 1, 0, 1], dtype=torch.uint8),\n",
              " tensor([1, 1, 0,  ..., 1, 0, 1], dtype=torch.uint8),\n",
              " tensor([1, 1, 0,  ..., 1, 0, 1], dtype=torch.uint8),\n",
              " tensor([1, 1, 0,  ..., 1, 0, 1], dtype=torch.uint8),\n",
              " tensor([1, 1, 0,  ..., 1, 0, 1], dtype=torch.uint8),\n",
              " tensor([1, 1, 0,  ..., 1, 0, 1], dtype=torch.uint8),\n",
              " tensor([1, 1, 0,  ..., 1, 0, 1], dtype=torch.uint8),\n",
              " tensor([1, 1, 0,  ..., 1, 0, 1], dtype=torch.uint8),\n",
              " tensor([1, 1, 0,  ..., 1, 0, 1], dtype=torch.uint8),\n",
              " tensor([1, 1, 0,  ..., 1, 0, 1], dtype=torch.uint8),\n",
              " tensor([1, 1, 0,  ..., 1, 0, 1], dtype=torch.uint8),\n",
              " tensor([1, 1, 0,  ..., 1, 0, 1], dtype=torch.uint8),\n",
              " tensor([1, 1, 0,  ..., 1, 0, 1], dtype=torch.uint8),\n",
              " tensor([1, 1, 0,  ..., 1, 0, 1], dtype=torch.uint8),\n",
              " tensor([1, 1, 0,  ..., 1, 0, 1], dtype=torch.uint8),\n",
              " tensor([1, 1, 0,  ..., 1, 0, 1], dtype=torch.uint8),\n",
              " tensor([1, 1, 0,  ..., 1, 0, 1], dtype=torch.uint8),\n",
              " tensor([1, 1, 0,  ..., 1, 0, 1], dtype=torch.uint8),\n",
              " tensor([1, 1, 0,  ..., 1, 0, 1], dtype=torch.uint8),\n",
              " tensor([1, 1, 0,  ..., 1, 0, 1], dtype=torch.uint8),\n",
              " tensor([1, 1, 0,  ..., 1, 0, 1], dtype=torch.uint8),\n",
              " tensor([1, 1, 0,  ..., 1, 0, 1], dtype=torch.uint8),\n",
              " tensor([1, 1, 0,  ..., 1, 0, 1], dtype=torch.uint8),\n",
              " tensor([1, 1, 0,  ..., 1, 0, 1], dtype=torch.uint8),\n",
              " tensor([1, 1, 0,  ..., 1, 0, 1], dtype=torch.uint8),\n",
              " tensor([1, 1, 0,  ..., 1, 0, 1], dtype=torch.uint8),\n",
              " tensor([1, 1, 0,  ..., 1, 0, 1], dtype=torch.uint8),\n",
              " tensor([1, 1, 0,  ..., 1, 0, 1], dtype=torch.uint8),\n",
              " tensor([1, 1, 0,  ..., 1, 0, 1], dtype=torch.uint8),\n",
              " tensor([1, 1, 0,  ..., 1, 0, 1], dtype=torch.uint8),\n",
              " tensor([1, 1, 0,  ..., 1, 0, 1], dtype=torch.uint8),\n",
              " tensor([1, 1, 0,  ..., 1, 0, 1], dtype=torch.uint8),\n",
              " tensor([1, 1, 0,  ..., 1, 0, 1], dtype=torch.uint8),\n",
              " tensor([1, 1, 0,  ..., 1, 0, 1], dtype=torch.uint8),\n",
              " tensor([1, 1, 0,  ..., 1, 0, 1], dtype=torch.uint8),\n",
              " tensor([1, 1, 0,  ..., 1, 0, 1], dtype=torch.uint8),\n",
              " tensor([1, 1, 0,  ..., 1, 0, 1], dtype=torch.uint8),\n",
              " tensor([1, 1, 0,  ..., 1, 0, 1], dtype=torch.uint8),\n",
              " tensor([1, 1, 0,  ..., 1, 0, 1], dtype=torch.uint8),\n",
              " tensor([1, 1, 0,  ..., 1, 0, 1], dtype=torch.uint8),\n",
              " tensor([1, 1, 0,  ..., 1, 0, 1], dtype=torch.uint8),\n",
              " tensor([1, 1, 0,  ..., 1, 0, 1], dtype=torch.uint8),\n",
              " tensor([1, 1, 0,  ..., 1, 0, 1], dtype=torch.uint8),\n",
              " tensor([1, 1, 0,  ..., 1, 0, 1], dtype=torch.uint8),\n",
              " tensor([1, 1, 0,  ..., 1, 0, 1], dtype=torch.uint8),\n",
              " tensor([1, 1, 0,  ..., 1, 0, 1], dtype=torch.uint8),\n",
              " tensor([1, 1, 0,  ..., 1, 0, 1], dtype=torch.uint8),\n",
              " tensor([1, 1, 0,  ..., 1, 0, 1], dtype=torch.uint8),\n",
              " tensor([1, 1, 0,  ..., 1, 0, 1], dtype=torch.uint8),\n",
              " tensor([1, 1, 0,  ..., 1, 0, 1], dtype=torch.uint8),\n",
              " tensor([1, 1, 0,  ..., 1, 0, 1], dtype=torch.uint8),\n",
              " tensor([1, 1, 0,  ..., 1, 0, 1], dtype=torch.uint8),\n",
              " tensor([1, 1, 0,  ..., 1, 0, 1], dtype=torch.uint8),\n",
              " tensor([1, 1, 0,  ..., 1, 0, 1], dtype=torch.uint8),\n",
              " tensor([1, 1, 0,  ..., 1, 0, 1], dtype=torch.uint8),\n",
              " tensor([1, 1, 0,  ..., 1, 0, 1], dtype=torch.uint8),\n",
              " tensor([1, 1, 0,  ..., 1, 0, 1], dtype=torch.uint8),\n",
              " tensor([1, 1, 0,  ..., 1, 0, 1], dtype=torch.uint8),\n",
              " tensor([1, 1, 0,  ..., 1, 0, 1], dtype=torch.uint8),\n",
              " tensor([1, 1, 0,  ..., 1, 0, 1], dtype=torch.uint8),\n",
              " tensor([1, 1, 0,  ..., 1, 0, 1], dtype=torch.uint8),\n",
              " tensor([1, 1, 0,  ..., 1, 0, 1], dtype=torch.uint8),\n",
              " tensor([1, 1, 0,  ..., 1, 0, 1], dtype=torch.uint8),\n",
              " tensor([1, 1, 0,  ..., 1, 0, 1], dtype=torch.uint8),\n",
              " tensor([1, 1, 0,  ..., 1, 0, 1], dtype=torch.uint8),\n",
              " tensor([1, 1, 0,  ..., 1, 0, 1], dtype=torch.uint8),\n",
              " tensor([1, 1, 0,  ..., 1, 0, 1], dtype=torch.uint8),\n",
              " tensor([1, 1, 0,  ..., 1, 0, 1], dtype=torch.uint8),\n",
              " tensor([1, 1, 0,  ..., 1, 0, 1], dtype=torch.uint8),\n",
              " tensor([1, 1, 0,  ..., 1, 0, 1], dtype=torch.uint8),\n",
              " tensor([1, 1, 0,  ..., 1, 0, 1], dtype=torch.uint8),\n",
              " tensor([1, 1, 0,  ..., 1, 0, 1], dtype=torch.uint8),\n",
              " tensor([1, 1, 0,  ..., 1, 0, 1], dtype=torch.uint8),\n",
              " tensor([1, 1, 0,  ..., 1, 0, 1], dtype=torch.uint8),\n",
              " tensor([1, 1, 0,  ..., 1, 0, 1], dtype=torch.uint8),\n",
              " tensor([1, 1, 0,  ..., 1, 0, 1], dtype=torch.uint8),\n",
              " tensor([1, 1, 0,  ..., 1, 0, 1], dtype=torch.uint8),\n",
              " tensor([1, 1, 0,  ..., 1, 0, 1], dtype=torch.uint8),\n",
              " tensor([1, 1, 0,  ..., 1, 0, 1], dtype=torch.uint8),\n",
              " tensor([1, 1, 0,  ..., 1, 0, 1], dtype=torch.uint8),\n",
              " tensor([1, 1, 0,  ..., 1, 0, 1], dtype=torch.uint8),\n",
              " tensor([1, 1, 0,  ..., 1, 0, 1], dtype=torch.uint8),\n",
              " tensor([1, 1, 0,  ..., 1, 0, 1], dtype=torch.uint8),\n",
              " tensor([1, 1, 0,  ..., 1, 0, 1], dtype=torch.uint8),\n",
              " tensor([1, 1, 0,  ..., 1, 0, 1], dtype=torch.uint8),\n",
              " tensor([1, 1, 0,  ..., 1, 0, 1], dtype=torch.uint8),\n",
              " tensor([1, 1, 0,  ..., 1, 0, 1], dtype=torch.uint8),\n",
              " tensor([1, 1, 0,  ..., 1, 0, 1], dtype=torch.uint8),\n",
              " tensor([1, 1, 0,  ..., 1, 0, 1], dtype=torch.uint8),\n",
              " tensor([1, 1, 0,  ..., 1, 0, 1], dtype=torch.uint8),\n",
              " tensor([1, 1, 0,  ..., 1, 0, 1], dtype=torch.uint8),\n",
              " tensor([1, 1, 0,  ..., 1, 0, 1], dtype=torch.uint8),\n",
              " tensor([1, 1, 0,  ..., 1, 0, 1], dtype=torch.uint8),\n",
              " tensor([1, 1, 0,  ..., 1, 0, 1], dtype=torch.uint8),\n",
              " tensor([1, 1, 0,  ..., 1, 0, 1], dtype=torch.uint8),\n",
              " tensor([1, 1, 0,  ..., 1, 0, 1], dtype=torch.uint8),\n",
              " tensor([1, 1, 0,  ..., 1, 0, 1], dtype=torch.uint8),\n",
              " tensor([1, 1, 0,  ..., 1, 0, 1], dtype=torch.uint8),\n",
              " tensor([1, 1, 0,  ..., 1, 0, 1], dtype=torch.uint8),\n",
              " tensor([1, 1, 0,  ..., 1, 0, 1], dtype=torch.uint8),\n",
              " tensor([1, 1, 0,  ..., 1, 0, 1], dtype=torch.uint8),\n",
              " tensor([1, 1, 0,  ..., 1, 0, 1], dtype=torch.uint8),\n",
              " tensor([1, 1, 0,  ..., 1, 0, 1], dtype=torch.uint8),\n",
              " tensor([1, 1, 0,  ..., 1, 0, 1], dtype=torch.uint8),\n",
              " tensor([1, 1, 0,  ..., 1, 0, 1], dtype=torch.uint8),\n",
              " tensor([1, 1, 0,  ..., 1, 0, 1], dtype=torch.uint8),\n",
              " tensor([1, 1, 0,  ..., 1, 0, 1], dtype=torch.uint8),\n",
              " tensor([1, 1, 0,  ..., 1, 0, 1], dtype=torch.uint8),\n",
              " tensor([1, 1, 0,  ..., 1, 0, 1], dtype=torch.uint8),\n",
              " tensor([1, 1, 0,  ..., 1, 0, 1], dtype=torch.uint8),\n",
              " tensor([1, 1, 0,  ..., 1, 0, 1], dtype=torch.uint8),\n",
              " tensor([1, 1, 0,  ..., 1, 0, 1], dtype=torch.uint8),\n",
              " tensor([1, 1, 0,  ..., 1, 0, 1], dtype=torch.uint8),\n",
              " tensor([1, 1, 0,  ..., 1, 0, 1], dtype=torch.uint8),\n",
              " tensor([1, 1, 0,  ..., 1, 0, 1], dtype=torch.uint8),\n",
              " tensor([1, 1, 0,  ..., 1, 0, 1], dtype=torch.uint8),\n",
              " tensor([1, 1, 0,  ..., 1, 0, 1], dtype=torch.uint8),\n",
              " tensor([1, 1, 0,  ..., 1, 0, 1], dtype=torch.uint8),\n",
              " tensor([1, 1, 0,  ..., 1, 0, 1], dtype=torch.uint8),\n",
              " tensor([1, 1, 0,  ..., 1, 0, 1], dtype=torch.uint8),\n",
              " tensor([1, 1, 0,  ..., 1, 0, 1], dtype=torch.uint8),\n",
              " tensor([1, 1, 0,  ..., 1, 0, 1], dtype=torch.uint8),\n",
              " tensor([1, 1, 0,  ..., 1, 0, 1], dtype=torch.uint8),\n",
              " tensor([1, 1, 0,  ..., 1, 0, 1], dtype=torch.uint8),\n",
              " tensor([1, 1, 0,  ..., 1, 0, 1], dtype=torch.uint8),\n",
              " tensor([1, 1, 0,  ..., 1, 0, 1], dtype=torch.uint8),\n",
              " tensor([1, 1, 0,  ..., 1, 0, 1], dtype=torch.uint8),\n",
              " tensor([1, 1, 0,  ..., 1, 0, 1], dtype=torch.uint8),\n",
              " tensor([1, 1, 0,  ..., 1, 0, 1], dtype=torch.uint8),\n",
              " tensor([1, 1, 0,  ..., 1, 0, 1], dtype=torch.uint8),\n",
              " tensor([1, 1, 0,  ..., 1, 0, 1], dtype=torch.uint8),\n",
              " tensor([1, 1, 0,  ..., 1, 0, 1], dtype=torch.uint8),\n",
              " tensor([1, 1, 0,  ..., 1, 0, 1], dtype=torch.uint8),\n",
              " tensor([1, 1, 0,  ..., 1, 0, 1], dtype=torch.uint8),\n",
              " tensor([1, 1, 0,  ..., 1, 0, 1], dtype=torch.uint8),\n",
              " tensor([1, 1, 0,  ..., 1, 0, 1], dtype=torch.uint8),\n",
              " tensor([1, 1, 0,  ..., 1, 0, 1], dtype=torch.uint8),\n",
              " tensor([1, 1, 0,  ..., 1, 0, 1], dtype=torch.uint8),\n",
              " tensor([1, 1, 0,  ..., 1, 0, 1], dtype=torch.uint8),\n",
              " tensor([1, 1, 0,  ..., 1, 0, 1], dtype=torch.uint8),\n",
              " tensor([1, 1, 0,  ..., 1, 0, 1], dtype=torch.uint8),\n",
              " tensor([1, 1, 0,  ..., 1, 0, 1], dtype=torch.uint8),\n",
              " tensor([1, 1, 0,  ..., 1, 0, 1], dtype=torch.uint8),\n",
              " tensor([1, 1, 0,  ..., 1, 0, 1], dtype=torch.uint8),\n",
              " tensor([1, 1, 0,  ..., 1, 0, 1], dtype=torch.uint8),\n",
              " tensor([1, 1, 0,  ..., 1, 0, 1], dtype=torch.uint8),\n",
              " tensor([1, 1, 0,  ..., 1, 0, 1], dtype=torch.uint8),\n",
              " tensor([1, 1, 0,  ..., 1, 0, 1], dtype=torch.uint8),\n",
              " tensor([1, 1, 0,  ..., 1, 0, 1], dtype=torch.uint8),\n",
              " tensor([1, 1, 0,  ..., 1, 0, 1], dtype=torch.uint8),\n",
              " tensor([1, 1, 0,  ..., 1, 0, 1], dtype=torch.uint8),\n",
              " tensor([1, 1, 0,  ..., 1, 0, 1], dtype=torch.uint8),\n",
              " tensor([1, 1, 0,  ..., 1, 0, 1], dtype=torch.uint8),\n",
              " tensor([1, 1, 0,  ..., 1, 0, 1], dtype=torch.uint8),\n",
              " tensor([1, 1, 0,  ..., 1, 0, 1], dtype=torch.uint8),\n",
              " tensor([1, 1, 0,  ..., 1, 0, 1], dtype=torch.uint8),\n",
              " tensor([1, 1, 0,  ..., 1, 0, 1], dtype=torch.uint8),\n",
              " tensor([1, 1, 0,  ..., 1, 0, 1], dtype=torch.uint8),\n",
              " tensor([1, 1, 0,  ..., 1, 0, 1], dtype=torch.uint8),\n",
              " tensor([1, 1, 0,  ..., 1, 0, 1], dtype=torch.uint8),\n",
              " tensor([1, 1, 0,  ..., 1, 0, 1], dtype=torch.uint8),\n",
              " tensor([1, 1, 0,  ..., 1, 0, 1], dtype=torch.uint8),\n",
              " tensor([1, 1, 0,  ..., 1, 0, 1], dtype=torch.uint8),\n",
              " tensor([1, 1, 0,  ..., 1, 0, 1], dtype=torch.uint8),\n",
              " tensor([1, 1, 0,  ..., 1, 0, 1], dtype=torch.uint8),\n",
              " tensor([1, 1, 0,  ..., 1, 0, 1], dtype=torch.uint8),\n",
              " tensor([1, 1, 0,  ..., 1, 0, 1], dtype=torch.uint8),\n",
              " tensor([1, 1, 0,  ..., 1, 0, 1], dtype=torch.uint8),\n",
              " tensor([1, 1, 0,  ..., 1, 0, 1], dtype=torch.uint8),\n",
              " tensor([1, 1, 0,  ..., 1, 0, 1], dtype=torch.uint8),\n",
              " tensor([1, 1, 0,  ..., 1, 0, 1], dtype=torch.uint8),\n",
              " tensor([1, 1, 0,  ..., 1, 0, 1], dtype=torch.uint8),\n",
              " tensor([1, 1, 0,  ..., 1, 0, 1], dtype=torch.uint8),\n",
              " tensor([1, 1, 0,  ..., 1, 0, 1], dtype=torch.uint8),\n",
              " tensor([1, 1, 0,  ..., 1, 0, 1], dtype=torch.uint8),\n",
              " tensor([1, 1, 0,  ..., 1, 0, 1], dtype=torch.uint8),\n",
              " tensor([1, 1, 0,  ..., 1, 0, 1], dtype=torch.uint8),\n",
              " tensor([1, 1, 0,  ..., 1, 0, 1], dtype=torch.uint8),\n",
              " tensor([1, 1, 0,  ..., 1, 0, 1], dtype=torch.uint8),\n",
              " tensor([1, 1, 0,  ..., 1, 0, 1], dtype=torch.uint8),\n",
              " tensor([1, 1, 0,  ..., 1, 0, 1], dtype=torch.uint8),\n",
              " tensor([1, 1, 0,  ..., 1, 0, 1], dtype=torch.uint8),\n",
              " tensor([1, 1, 0,  ..., 1, 0, 1], dtype=torch.uint8),\n",
              " tensor([1, 1, 0,  ..., 1, 0, 1], dtype=torch.uint8),\n",
              " tensor([1, 1, 0,  ..., 1, 0, 1], dtype=torch.uint8),\n",
              " tensor([1, 1, 0,  ..., 1, 0, 1], dtype=torch.uint8),\n",
              " tensor([1, 1, 0,  ..., 1, 0, 1], dtype=torch.uint8),\n",
              " tensor([1, 1, 0,  ..., 1, 0, 1], dtype=torch.uint8),\n",
              " tensor([1, 1, 0,  ..., 1, 0, 1], dtype=torch.uint8),\n",
              " tensor([1, 1, 0,  ..., 1, 0, 1], dtype=torch.uint8),\n",
              " tensor([1, 1, 0,  ..., 1, 0, 1], dtype=torch.uint8),\n",
              " tensor([1, 1, 0,  ..., 1, 0, 1], dtype=torch.uint8),\n",
              " tensor([1, 1, 0,  ..., 1, 0, 1], dtype=torch.uint8),\n",
              " tensor([1, 1, 0,  ..., 1, 0, 1], dtype=torch.uint8),\n",
              " tensor([1, 1, 0,  ..., 1, 0, 1], dtype=torch.uint8),\n",
              " tensor([1, 1, 0,  ..., 1, 0, 1], dtype=torch.uint8),\n",
              " tensor([1, 1, 0,  ..., 1, 0, 1], dtype=torch.uint8),\n",
              " tensor([1, 1, 0,  ..., 1, 0, 1], dtype=torch.uint8),\n",
              " tensor([1, 1, 0,  ..., 1, 0, 1], dtype=torch.uint8),\n",
              " tensor([1, 1, 0,  ..., 1, 0, 1], dtype=torch.uint8),\n",
              " tensor([1, 1, 0,  ..., 1, 0, 1], dtype=torch.uint8),\n",
              " tensor([1, 1, 0,  ..., 1, 0, 1], dtype=torch.uint8),\n",
              " tensor([1, 1, 0,  ..., 1, 0, 1], dtype=torch.uint8),\n",
              " tensor([1, 1, 0,  ..., 1, 0, 1], dtype=torch.uint8),\n",
              " tensor([1, 1, 0,  ..., 1, 0, 1], dtype=torch.uint8),\n",
              " tensor([1, 1, 0,  ..., 1, 0, 1], dtype=torch.uint8),\n",
              " tensor([1, 1, 0,  ..., 1, 0, 1], dtype=torch.uint8),\n",
              " tensor([1, 1, 0,  ..., 1, 0, 1], dtype=torch.uint8),\n",
              " tensor([1, 1, 0,  ..., 1, 0, 1], dtype=torch.uint8),\n",
              " tensor([1, 1, 0,  ..., 1, 0, 1], dtype=torch.uint8),\n",
              " tensor([1, 1, 0,  ..., 1, 0, 1], dtype=torch.uint8),\n",
              " tensor([1, 1, 0,  ..., 1, 0, 1], dtype=torch.uint8),\n",
              " tensor([1, 1, 0,  ..., 1, 0, 1], dtype=torch.uint8),\n",
              " tensor([1, 1, 0,  ..., 1, 0, 1], dtype=torch.uint8),\n",
              " tensor([1, 1, 0,  ..., 1, 0, 1], dtype=torch.uint8),\n",
              " tensor([1, 1, 0,  ..., 1, 0, 1], dtype=torch.uint8),\n",
              " tensor([1, 1, 0,  ..., 1, 0, 1], dtype=torch.uint8),\n",
              " tensor([1, 1, 0,  ..., 1, 0, 1], dtype=torch.uint8),\n",
              " tensor([1, 1, 0,  ..., 1, 0, 1], dtype=torch.uint8),\n",
              " tensor([1, 1, 0,  ..., 1, 0, 1], dtype=torch.uint8),\n",
              " tensor([1, 1, 0,  ..., 1, 0, 1], dtype=torch.uint8),\n",
              " tensor([1, 1, 0,  ..., 1, 0, 1], dtype=torch.uint8),\n",
              " tensor([1, 1, 0,  ..., 1, 0, 1], dtype=torch.uint8),\n",
              " tensor([1, 1, 0,  ..., 1, 0, 1], dtype=torch.uint8),\n",
              " tensor([1, 1, 0,  ..., 1, 0, 1], dtype=torch.uint8),\n",
              " tensor([1, 1, 0,  ..., 1, 0, 1], dtype=torch.uint8),\n",
              " tensor([1, 1, 0,  ..., 1, 0, 1], dtype=torch.uint8),\n",
              " tensor([1, 1, 0,  ..., 1, 0, 1], dtype=torch.uint8),\n",
              " tensor([1, 1, 0,  ..., 1, 0, 1], dtype=torch.uint8),\n",
              " tensor([1, 1, 0,  ..., 1, 0, 1], dtype=torch.uint8),\n",
              " tensor([1, 1, 0,  ..., 1, 0, 1], dtype=torch.uint8),\n",
              " tensor([1, 1, 0,  ..., 1, 0, 1], dtype=torch.uint8),\n",
              " tensor([1, 1, 0,  ..., 1, 0, 1], dtype=torch.uint8),\n",
              " tensor([1, 1, 0,  ..., 1, 0, 1], dtype=torch.uint8),\n",
              " tensor([1, 1, 0,  ..., 1, 0, 1], dtype=torch.uint8),\n",
              " tensor([1, 1, 0,  ..., 1, 0, 1], dtype=torch.uint8),\n",
              " tensor([1, 1, 0,  ..., 1, 0, 1], dtype=torch.uint8),\n",
              " tensor([1, 1, 0,  ..., 1, 0, 1], dtype=torch.uint8),\n",
              " tensor([1, 1, 0,  ..., 1, 0, 1], dtype=torch.uint8),\n",
              " tensor([1, 1, 0,  ..., 1, 0, 1], dtype=torch.uint8),\n",
              " tensor([1, 1, 0,  ..., 1, 0, 1], dtype=torch.uint8),\n",
              " tensor([1, 1, 0,  ..., 1, 0, 1], dtype=torch.uint8),\n",
              " tensor([1, 1, 0,  ..., 1, 0, 1], dtype=torch.uint8),\n",
              " tensor([1, 1, 0,  ..., 1, 0, 1], dtype=torch.uint8),\n",
              " tensor([1, 1, 0,  ..., 1, 0, 1], dtype=torch.uint8),\n",
              " tensor([1, 1, 0,  ..., 1, 0, 1], dtype=torch.uint8),\n",
              " tensor([1, 1, 0,  ..., 1, 0, 1], dtype=torch.uint8),\n",
              " tensor([1, 1, 0,  ..., 1, 0, 1], dtype=torch.uint8),\n",
              " tensor([1, 1, 0,  ..., 1, 0, 1], dtype=torch.uint8),\n",
              " tensor([1, 1, 0,  ..., 1, 0, 1], dtype=torch.uint8),\n",
              " tensor([1, 1, 0,  ..., 1, 0, 1], dtype=torch.uint8),\n",
              " tensor([1, 1, 0,  ..., 1, 0, 1], dtype=torch.uint8),\n",
              " tensor([1, 1, 0,  ..., 1, 0, 1], dtype=torch.uint8),\n",
              " tensor([1, 1, 0,  ..., 1, 0, 1], dtype=torch.uint8),\n",
              " tensor([1, 1, 0,  ..., 1, 0, 1], dtype=torch.uint8),\n",
              " tensor([1, 1, 0,  ..., 1, 0, 1], dtype=torch.uint8),\n",
              " tensor([1, 1, 0,  ..., 1, 0, 1], dtype=torch.uint8),\n",
              " tensor([1, 1, 0,  ..., 1, 0, 1], dtype=torch.uint8),\n",
              " tensor([1, 1, 0,  ..., 1, 0, 1], dtype=torch.uint8),\n",
              " tensor([1, 1, 0,  ..., 1, 0, 1], dtype=torch.uint8),\n",
              " tensor([1, 1, 0,  ..., 1, 0, 1], dtype=torch.uint8),\n",
              " tensor([1, 1, 0,  ..., 1, 0, 1], dtype=torch.uint8),\n",
              " tensor([1, 1, 0,  ..., 1, 0, 1], dtype=torch.uint8),\n",
              " tensor([1, 1, 0,  ..., 1, 0, 1], dtype=torch.uint8),\n",
              " tensor([1, 1, 0,  ..., 1, 0, 1], dtype=torch.uint8),\n",
              " tensor([1, 1, 0,  ..., 1, 0, 1], dtype=torch.uint8),\n",
              " tensor([1, 1, 0,  ..., 1, 0, 1], dtype=torch.uint8),\n",
              " tensor([1, 1, 0,  ..., 1, 0, 1], dtype=torch.uint8),\n",
              " tensor([1, 1, 0,  ..., 1, 0, 1], dtype=torch.uint8),\n",
              " tensor([1, 1, 0,  ..., 1, 0, 1], dtype=torch.uint8),\n",
              " tensor([1, 1, 0,  ..., 1, 0, 1], dtype=torch.uint8),\n",
              " tensor([1, 1, 0,  ..., 1, 0, 1], dtype=torch.uint8),\n",
              " tensor([1, 1, 0,  ..., 1, 0, 1], dtype=torch.uint8),\n",
              " tensor([1, 1, 0,  ..., 1, 0, 1], dtype=torch.uint8),\n",
              " tensor([1, 1, 0,  ..., 1, 0, 1], dtype=torch.uint8),\n",
              " tensor([1, 1, 0,  ..., 1, 0, 1], dtype=torch.uint8),\n",
              " tensor([1, 1, 0,  ..., 1, 0, 1], dtype=torch.uint8),\n",
              " tensor([1, 1, 0,  ..., 1, 0, 1], dtype=torch.uint8),\n",
              " tensor([1, 1, 0,  ..., 1, 0, 1], dtype=torch.uint8),\n",
              " tensor([1, 1, 0,  ..., 1, 0, 1], dtype=torch.uint8),\n",
              " tensor([1, 1, 0,  ..., 1, 0, 1], dtype=torch.uint8),\n",
              " tensor([1, 1, 0,  ..., 1, 0, 1], dtype=torch.uint8),\n",
              " tensor([1, 1, 0,  ..., 1, 0, 1], dtype=torch.uint8),\n",
              " tensor([1, 1, 0,  ..., 1, 0, 1], dtype=torch.uint8),\n",
              " tensor([1, 1, 0,  ..., 1, 0, 1], dtype=torch.uint8),\n",
              " tensor([1, 1, 0,  ..., 1, 0, 1], dtype=torch.uint8),\n",
              " tensor([1, 1, 0,  ..., 1, 0, 1], dtype=torch.uint8),\n",
              " tensor([1, 1, 0,  ..., 1, 0, 1], dtype=torch.uint8),\n",
              " tensor([1, 1, 0,  ..., 1, 0, 1], dtype=torch.uint8),\n",
              " tensor([1, 1, 0,  ..., 1, 0, 1], dtype=torch.uint8),\n",
              " tensor([1, 1, 0,  ..., 1, 0, 1], dtype=torch.uint8),\n",
              " tensor([1, 1, 0,  ..., 1, 0, 1], dtype=torch.uint8),\n",
              " tensor([1, 1, 0,  ..., 1, 0, 1], dtype=torch.uint8),\n",
              " tensor([1, 1, 0,  ..., 1, 0, 1], dtype=torch.uint8),\n",
              " tensor([1, 1, 0,  ..., 1, 0, 1], dtype=torch.uint8),\n",
              " tensor([1, 1, 0,  ..., 1, 0, 1], dtype=torch.uint8),\n",
              " tensor([1, 1, 0,  ..., 1, 0, 1], dtype=torch.uint8),\n",
              " tensor([1, 1, 0,  ..., 1, 0, 1], dtype=torch.uint8),\n",
              " tensor([1, 1, 0,  ..., 1, 0, 1], dtype=torch.uint8),\n",
              " tensor([1, 1, 0,  ..., 1, 0, 1], dtype=torch.uint8),\n",
              " tensor([1, 1, 0,  ..., 1, 0, 1], dtype=torch.uint8),\n",
              " tensor([1, 1, 0,  ..., 1, 0, 1], dtype=torch.uint8),\n",
              " tensor([1, 1, 0,  ..., 1, 0, 1], dtype=torch.uint8),\n",
              " tensor([1, 1, 0,  ..., 1, 0, 1], dtype=torch.uint8),\n",
              " tensor([1, 1, 0,  ..., 1, 0, 1], dtype=torch.uint8),\n",
              " tensor([1, 1, 0,  ..., 1, 0, 1], dtype=torch.uint8),\n",
              " tensor([1, 1, 0,  ..., 1, 0, 1], dtype=torch.uint8),\n",
              " tensor([1, 1, 0,  ..., 1, 0, 1], dtype=torch.uint8),\n",
              " tensor([1, 1, 0,  ..., 1, 0, 1], dtype=torch.uint8),\n",
              " tensor([1, 1, 0,  ..., 1, 0, 1], dtype=torch.uint8),\n",
              " tensor([1, 1, 0,  ..., 1, 0, 1], dtype=torch.uint8),\n",
              " tensor([1, 1, 0,  ..., 1, 0, 1], dtype=torch.uint8),\n",
              " tensor([1, 1, 0,  ..., 1, 0, 1], dtype=torch.uint8),\n",
              " tensor([1, 1, 0,  ..., 1, 0, 1], dtype=torch.uint8),\n",
              " tensor([1, 1, 0,  ..., 1, 0, 1], dtype=torch.uint8),\n",
              " tensor([1, 1, 0,  ..., 1, 0, 1], dtype=torch.uint8),\n",
              " tensor([1, 1, 0,  ..., 1, 0, 1], dtype=torch.uint8),\n",
              " tensor([1, 1, 0,  ..., 1, 0, 1], dtype=torch.uint8),\n",
              " tensor([1, 1, 0,  ..., 1, 0, 1], dtype=torch.uint8),\n",
              " tensor([1, 1, 0,  ..., 1, 0, 1], dtype=torch.uint8),\n",
              " tensor([1, 1, 0,  ..., 1, 0, 1], dtype=torch.uint8),\n",
              " tensor([1, 1, 0,  ..., 1, 0, 1], dtype=torch.uint8),\n",
              " tensor([1, 1, 0,  ..., 1, 0, 1], dtype=torch.uint8),\n",
              " tensor([1, 1, 0,  ..., 1, 0, 1], dtype=torch.uint8),\n",
              " tensor([1, 1, 0,  ..., 1, 0, 1], dtype=torch.uint8),\n",
              " tensor([1, 1, 0,  ..., 1, 0, 1], dtype=torch.uint8),\n",
              " tensor([1, 1, 0,  ..., 1, 0, 1], dtype=torch.uint8),\n",
              " tensor([1, 1, 0,  ..., 1, 0, 1], dtype=torch.uint8),\n",
              " tensor([1, 1, 0,  ..., 1, 0, 1], dtype=torch.uint8),\n",
              " tensor([1, 1, 0,  ..., 1, 0, 1], dtype=torch.uint8),\n",
              " tensor([1, 1, 0,  ..., 1, 0, 1], dtype=torch.uint8),\n",
              " tensor([1, 1, 0,  ..., 1, 0, 1], dtype=torch.uint8),\n",
              " tensor([1, 1, 0,  ..., 1, 0, 1], dtype=torch.uint8),\n",
              " tensor([1, 1, 0,  ..., 1, 0, 1], dtype=torch.uint8),\n",
              " tensor([1, 1, 0,  ..., 1, 0, 1], dtype=torch.uint8),\n",
              " tensor([1, 1, 0,  ..., 1, 0, 1], dtype=torch.uint8),\n",
              " tensor([1, 1, 0,  ..., 1, 0, 1], dtype=torch.uint8),\n",
              " tensor([1, 1, 0,  ..., 1, 0, 1], dtype=torch.uint8),\n",
              " tensor([1, 1, 0,  ..., 1, 0, 1], dtype=torch.uint8),\n",
              " tensor([1, 1, 0,  ..., 1, 0, 1], dtype=torch.uint8),\n",
              " tensor([1, 1, 0,  ..., 1, 0, 1], dtype=torch.uint8),\n",
              " tensor([1, 1, 0,  ..., 1, 0, 1], dtype=torch.uint8),\n",
              " tensor([1, 1, 0,  ..., 1, 0, 1], dtype=torch.uint8),\n",
              " tensor([1, 1, 0,  ..., 1, 0, 1], dtype=torch.uint8),\n",
              " tensor([1, 1, 0,  ..., 1, 0, 1], dtype=torch.uint8),\n",
              " tensor([1, 1, 0,  ..., 1, 0, 1], dtype=torch.uint8),\n",
              " tensor([1, 1, 0,  ..., 1, 0, 1], dtype=torch.uint8),\n",
              " tensor([1, 1, 0,  ..., 1, 0, 1], dtype=torch.uint8),\n",
              " tensor([1, 1, 0,  ..., 1, 0, 1], dtype=torch.uint8),\n",
              " tensor([1, 1, 0,  ..., 1, 0, 1], dtype=torch.uint8),\n",
              " tensor([1, 1, 0,  ..., 1, 0, 1], dtype=torch.uint8),\n",
              " tensor([1, 1, 0,  ..., 1, 0, 1], dtype=torch.uint8),\n",
              " tensor([1, 1, 0,  ..., 1, 0, 1], dtype=torch.uint8),\n",
              " tensor([1, 1, 0,  ..., 1, 0, 1], dtype=torch.uint8),\n",
              " tensor([1, 1, 0,  ..., 1, 0, 1], dtype=torch.uint8),\n",
              " tensor([1, 1, 0,  ..., 1, 0, 1], dtype=torch.uint8),\n",
              " tensor([1, 1, 0,  ..., 1, 0, 1], dtype=torch.uint8),\n",
              " tensor([1, 1, 0,  ..., 1, 0, 1], dtype=torch.uint8),\n",
              " tensor([1, 1, 0,  ..., 1, 0, 1], dtype=torch.uint8),\n",
              " tensor([1, 1, 0,  ..., 1, 0, 1], dtype=torch.uint8),\n",
              " tensor([1, 1, 0,  ..., 1, 0, 1], dtype=torch.uint8),\n",
              " tensor([1, 1, 0,  ..., 1, 0, 1], dtype=torch.uint8),\n",
              " tensor([1, 1, 0,  ..., 1, 0, 1], dtype=torch.uint8),\n",
              " tensor([1, 1, 0,  ..., 1, 0, 1], dtype=torch.uint8),\n",
              " tensor([1, 1, 0,  ..., 1, 0, 1], dtype=torch.uint8),\n",
              " tensor([1, 1, 0,  ..., 1, 0, 1], dtype=torch.uint8),\n",
              " tensor([1, 1, 0,  ..., 1, 0, 1], dtype=torch.uint8),\n",
              " tensor([1, 1, 0,  ..., 1, 0, 1], dtype=torch.uint8),\n",
              " tensor([1, 1, 0,  ..., 1, 0, 1], dtype=torch.uint8),\n",
              " tensor([1, 1, 0,  ..., 1, 0, 1], dtype=torch.uint8),\n",
              " tensor([1, 1, 0,  ..., 1, 0, 1], dtype=torch.uint8),\n",
              " tensor([1, 1, 0,  ..., 1, 0, 1], dtype=torch.uint8),\n",
              " tensor([1, 1, 0,  ..., 1, 0, 1], dtype=torch.uint8),\n",
              " tensor([1, 1, 0,  ..., 1, 0, 1], dtype=torch.uint8),\n",
              " tensor([1, 1, 0,  ..., 1, 0, 1], dtype=torch.uint8),\n",
              " tensor([1, 1, 0,  ..., 1, 0, 1], dtype=torch.uint8),\n",
              " tensor([1, 1, 0,  ..., 1, 0, 1], dtype=torch.uint8),\n",
              " tensor([1, 1, 0,  ..., 1, 0, 1], dtype=torch.uint8),\n",
              " tensor([1, 1, 0,  ..., 1, 0, 1], dtype=torch.uint8),\n",
              " tensor([1, 1, 0,  ..., 1, 0, 1], dtype=torch.uint8),\n",
              " tensor([1, 1, 0,  ..., 1, 0, 1], dtype=torch.uint8),\n",
              " tensor([1, 1, 0,  ..., 1, 0, 1], dtype=torch.uint8),\n",
              " tensor([1, 1, 0,  ..., 1, 0, 1], dtype=torch.uint8),\n",
              " tensor([1, 1, 0,  ..., 1, 0, 1], dtype=torch.uint8),\n",
              " tensor([1, 1, 0,  ..., 1, 0, 1], dtype=torch.uint8),\n",
              " tensor([1, 1, 0,  ..., 1, 0, 1], dtype=torch.uint8),\n",
              " tensor([1, 1, 0,  ..., 1, 0, 1], dtype=torch.uint8),\n",
              " tensor([1, 1, 0,  ..., 1, 0, 1], dtype=torch.uint8),\n",
              " tensor([1, 1, 0,  ..., 1, 0, 1], dtype=torch.uint8),\n",
              " tensor([1, 1, 0,  ..., 1, 0, 1], dtype=torch.uint8),\n",
              " tensor([1, 1, 0,  ..., 1, 0, 1], dtype=torch.uint8),\n",
              " tensor([1, 1, 0,  ..., 1, 0, 1], dtype=torch.uint8),\n",
              " tensor([1, 1, 0,  ..., 1, 0, 1], dtype=torch.uint8),\n",
              " tensor([1, 1, 0,  ..., 1, 0, 1], dtype=torch.uint8),\n",
              " tensor([1, 1, 0,  ..., 1, 0, 1], dtype=torch.uint8),\n",
              " tensor([1, 1, 0,  ..., 1, 0, 1], dtype=torch.uint8),\n",
              " tensor([1, 1, 0,  ..., 1, 0, 1], dtype=torch.uint8),\n",
              " tensor([1, 1, 0,  ..., 1, 0, 1], dtype=torch.uint8),\n",
              " tensor([1, 1, 0,  ..., 1, 0, 1], dtype=torch.uint8),\n",
              " tensor([1, 1, 0,  ..., 1, 0, 1], dtype=torch.uint8),\n",
              " tensor([1, 1, 0,  ..., 1, 0, 1], dtype=torch.uint8),\n",
              " tensor([1, 1, 0,  ..., 1, 0, 1], dtype=torch.uint8),\n",
              " tensor([1, 1, 0,  ..., 1, 0, 1], dtype=torch.uint8),\n",
              " tensor([1, 1, 0,  ..., 1, 0, 1], dtype=torch.uint8),\n",
              " tensor([1, 1, 0,  ..., 1, 0, 1], dtype=torch.uint8),\n",
              " tensor([1, 1, 0,  ..., 1, 0, 1], dtype=torch.uint8),\n",
              " tensor([1, 1, 0,  ..., 1, 0, 1], dtype=torch.uint8),\n",
              " tensor([1, 1, 0,  ..., 1, 0, 1], dtype=torch.uint8),\n",
              " tensor([1, 1, 0,  ..., 1, 0, 1], dtype=torch.uint8),\n",
              " tensor([1, 1, 0,  ..., 1, 0, 1], dtype=torch.uint8),\n",
              " tensor([1, 1, 0,  ..., 1, 0, 1], dtype=torch.uint8),\n",
              " tensor([1, 1, 0,  ..., 1, 0, 1], dtype=torch.uint8),\n",
              " tensor([1, 1, 0,  ..., 1, 0, 1], dtype=torch.uint8),\n",
              " tensor([1, 1, 0,  ..., 1, 0, 1], dtype=torch.uint8),\n",
              " tensor([1, 1, 0,  ..., 1, 0, 1], dtype=torch.uint8),\n",
              " tensor([1, 1, 0,  ..., 1, 0, 1], dtype=torch.uint8),\n",
              " tensor([1, 1, 0,  ..., 1, 0, 1], dtype=torch.uint8),\n",
              " tensor([1, 1, 0,  ..., 1, 0, 1], dtype=torch.uint8),\n",
              " tensor([1, 1, 0,  ..., 1, 0, 1], dtype=torch.uint8),\n",
              " tensor([1, 1, 0,  ..., 1, 0, 1], dtype=torch.uint8),\n",
              " tensor([1, 1, 0,  ..., 1, 0, 1], dtype=torch.uint8),\n",
              " tensor([1, 1, 0,  ..., 1, 0, 1], dtype=torch.uint8),\n",
              " tensor([1, 1, 0,  ..., 1, 0, 1], dtype=torch.uint8),\n",
              " tensor([1, 1, 0,  ..., 1, 0, 1], dtype=torch.uint8),\n",
              " tensor([1, 1, 0,  ..., 1, 0, 1], dtype=torch.uint8),\n",
              " tensor([1, 1, 0,  ..., 1, 0, 1], dtype=torch.uint8),\n",
              " tensor([1, 1, 0,  ..., 1, 0, 1], dtype=torch.uint8),\n",
              " tensor([1, 1, 0,  ..., 1, 0, 1], dtype=torch.uint8),\n",
              " tensor([1, 1, 0,  ..., 1, 0, 1], dtype=torch.uint8),\n",
              " tensor([1, 1, 0,  ..., 1, 0, 1], dtype=torch.uint8),\n",
              " tensor([1, 1, 0,  ..., 1, 0, 1], dtype=torch.uint8),\n",
              " tensor([1, 1, 0,  ..., 1, 0, 1], dtype=torch.uint8),\n",
              " tensor([1, 1, 0,  ..., 1, 0, 1], dtype=torch.uint8),\n",
              " tensor([1, 1, 0,  ..., 1, 0, 1], dtype=torch.uint8),\n",
              " tensor([1, 1, 0,  ..., 1, 0, 1], dtype=torch.uint8),\n",
              " tensor([1, 1, 0,  ..., 1, 0, 1], dtype=torch.uint8),\n",
              " tensor([1, 1, 0,  ..., 1, 0, 1], dtype=torch.uint8),\n",
              " tensor([1, 1, 0,  ..., 1, 0, 1], dtype=torch.uint8),\n",
              " tensor([1, 1, 0,  ..., 1, 0, 1], dtype=torch.uint8),\n",
              " tensor([1, 1, 0,  ..., 1, 0, 1], dtype=torch.uint8),\n",
              " tensor([1, 1, 0,  ..., 1, 0, 1], dtype=torch.uint8),\n",
              " tensor([1, 1, 0,  ..., 1, 0, 1], dtype=torch.uint8),\n",
              " tensor([1, 1, 0,  ..., 1, 0, 1], dtype=torch.uint8),\n",
              " tensor([1, 1, 0,  ..., 1, 0, 1], dtype=torch.uint8),\n",
              " tensor([1, 1, 0,  ..., 1, 0, 1], dtype=torch.uint8),\n",
              " tensor([1, 1, 0,  ..., 1, 0, 1], dtype=torch.uint8),\n",
              " tensor([1, 1, 0,  ..., 1, 0, 1], dtype=torch.uint8),\n",
              " tensor([1, 1, 0,  ..., 1, 0, 1], dtype=torch.uint8),\n",
              " tensor([1, 1, 0,  ..., 1, 0, 1], dtype=torch.uint8),\n",
              " tensor([1, 1, 0,  ..., 1, 0, 1], dtype=torch.uint8),\n",
              " tensor([1, 1, 0,  ..., 1, 0, 1], dtype=torch.uint8),\n",
              " tensor([1, 1, 0,  ..., 1, 0, 1], dtype=torch.uint8),\n",
              " tensor([1, 1, 0,  ..., 1, 0, 1], dtype=torch.uint8),\n",
              " tensor([1, 1, 0,  ..., 1, 0, 1], dtype=torch.uint8),\n",
              " tensor([1, 1, 0,  ..., 1, 0, 1], dtype=torch.uint8),\n",
              " tensor([1, 1, 0,  ..., 1, 0, 1], dtype=torch.uint8),\n",
              " tensor([1, 1, 0,  ..., 1, 0, 1], dtype=torch.uint8),\n",
              " tensor([1, 1, 0,  ..., 1, 0, 1], dtype=torch.uint8),\n",
              " tensor([1, 1, 0,  ..., 1, 0, 1], dtype=torch.uint8),\n",
              " tensor([1, 1, 0,  ..., 1, 0, 1], dtype=torch.uint8),\n",
              " tensor([1, 1, 0,  ..., 1, 0, 1], dtype=torch.uint8),\n",
              " tensor([1, 1, 0,  ..., 1, 0, 1], dtype=torch.uint8),\n",
              " tensor([1, 1, 0,  ..., 1, 0, 1], dtype=torch.uint8),\n",
              " tensor([1, 1, 0,  ..., 1, 0, 1], dtype=torch.uint8),\n",
              " tensor([1, 1, 0,  ..., 1, 0, 1], dtype=torch.uint8),\n",
              " tensor([1, 1, 0,  ..., 1, 0, 1], dtype=torch.uint8),\n",
              " tensor([1, 1, 0,  ..., 1, 0, 1], dtype=torch.uint8),\n",
              " tensor([1, 1, 0,  ..., 1, 0, 1], dtype=torch.uint8),\n",
              " tensor([1, 1, 0,  ..., 1, 0, 1], dtype=torch.uint8),\n",
              " tensor([1, 1, 0,  ..., 1, 0, 1], dtype=torch.uint8),\n",
              " tensor([1, 1, 0,  ..., 1, 0, 1], dtype=torch.uint8),\n",
              " tensor([1, 1, 0,  ..., 1, 0, 1], dtype=torch.uint8),\n",
              " tensor([1, 1, 0,  ..., 1, 0, 1], dtype=torch.uint8),\n",
              " tensor([1, 1, 0,  ..., 1, 0, 1], dtype=torch.uint8),\n",
              " tensor([1, 1, 0,  ..., 1, 0, 1], dtype=torch.uint8),\n",
              " tensor([1, 1, 0,  ..., 1, 0, 1], dtype=torch.uint8),\n",
              " tensor([1, 1, 0,  ..., 1, 0, 1], dtype=torch.uint8),\n",
              " tensor([1, 1, 0,  ..., 1, 0, 1], dtype=torch.uint8),\n",
              " tensor([1, 1, 0,  ..., 1, 0, 1], dtype=torch.uint8),\n",
              " tensor([1, 1, 0,  ..., 1, 0, 1], dtype=torch.uint8),\n",
              " tensor([1, 1, 0,  ..., 1, 0, 1], dtype=torch.uint8),\n",
              " tensor([1, 1, 0,  ..., 1, 0, 1], dtype=torch.uint8),\n",
              " tensor([1, 1, 0,  ..., 1, 0, 1], dtype=torch.uint8),\n",
              " tensor([1, 1, 0,  ..., 1, 0, 1], dtype=torch.uint8),\n",
              " tensor([1, 1, 0,  ..., 1, 0, 1], dtype=torch.uint8),\n",
              " tensor([1, 1, 0,  ..., 1, 0, 1], dtype=torch.uint8),\n",
              " tensor([1, 1, 0,  ..., 1, 0, 1], dtype=torch.uint8),\n",
              " tensor([1, 1, 0,  ..., 1, 0, 1], dtype=torch.uint8),\n",
              " tensor([1, 1, 0,  ..., 1, 0, 1], dtype=torch.uint8),\n",
              " tensor([1, 1, 0,  ..., 1, 0, 1], dtype=torch.uint8),\n",
              " tensor([1, 1, 0,  ..., 1, 0, 1], dtype=torch.uint8),\n",
              " tensor([1, 1, 0,  ..., 1, 0, 1], dtype=torch.uint8),\n",
              " tensor([1, 1, 0,  ..., 1, 0, 1], dtype=torch.uint8),\n",
              " tensor([1, 1, 0,  ..., 1, 0, 1], dtype=torch.uint8),\n",
              " tensor([1, 1, 0,  ..., 1, 0, 1], dtype=torch.uint8),\n",
              " tensor([1, 1, 0,  ..., 1, 0, 1], dtype=torch.uint8),\n",
              " tensor([1, 1, 0,  ..., 1, 0, 1], dtype=torch.uint8),\n",
              " tensor([1, 1, 0,  ..., 1, 0, 1], dtype=torch.uint8),\n",
              " tensor([1, 1, 0,  ..., 1, 0, 1], dtype=torch.uint8),\n",
              " tensor([1, 1, 0,  ..., 1, 0, 1], dtype=torch.uint8),\n",
              " tensor([1, 1, 0,  ..., 1, 0, 1], dtype=torch.uint8),\n",
              " tensor([1, 1, 0,  ..., 1, 0, 1], dtype=torch.uint8),\n",
              " tensor([1, 1, 0,  ..., 1, 0, 1], dtype=torch.uint8),\n",
              " tensor([1, 1, 0,  ..., 1, 0, 1], dtype=torch.uint8),\n",
              " tensor([1, 1, 0,  ..., 1, 0, 1], dtype=torch.uint8),\n",
              " tensor([1, 1, 0,  ..., 1, 0, 1], dtype=torch.uint8),\n",
              " tensor([1, 1, 0,  ..., 1, 0, 1], dtype=torch.uint8),\n",
              " tensor([1, 1, 0,  ..., 1, 0, 1], dtype=torch.uint8),\n",
              " tensor([1, 1, 0,  ..., 1, 0, 1], dtype=torch.uint8),\n",
              " tensor([1, 1, 0,  ..., 1, 0, 1], dtype=torch.uint8),\n",
              " tensor([1, 1, 0,  ..., 1, 0, 1], dtype=torch.uint8),\n",
              " tensor([1, 1, 0,  ..., 1, 0, 1], dtype=torch.uint8),\n",
              " tensor([1, 1, 0,  ..., 1, 0, 1], dtype=torch.uint8),\n",
              " tensor([1, 1, 0,  ..., 1, 0, 1], dtype=torch.uint8),\n",
              " tensor([1, 1, 0,  ..., 1, 0, 1], dtype=torch.uint8),\n",
              " tensor([1, 1, 0,  ..., 1, 0, 1], dtype=torch.uint8),\n",
              " tensor([1, 1, 0,  ..., 1, 0, 1], dtype=torch.uint8),\n",
              " tensor([1, 1, 0,  ..., 1, 0, 1], dtype=torch.uint8),\n",
              " tensor([1, 1, 0,  ..., 1, 0, 1], dtype=torch.uint8),\n",
              " tensor([1, 1, 0,  ..., 1, 0, 1], dtype=torch.uint8),\n",
              " tensor([1, 1, 0,  ..., 1, 0, 1], dtype=torch.uint8),\n",
              " tensor([1, 1, 0,  ..., 1, 0, 1], dtype=torch.uint8),\n",
              " tensor([1, 1, 0,  ..., 1, 0, 1], dtype=torch.uint8),\n",
              " tensor([1, 1, 0,  ..., 1, 0, 1], dtype=torch.uint8),\n",
              " tensor([1, 1, 0,  ..., 1, 0, 1], dtype=torch.uint8),\n",
              " tensor([1, 1, 0,  ..., 1, 0, 1], dtype=torch.uint8),\n",
              " tensor([1, 1, 0,  ..., 1, 0, 1], dtype=torch.uint8),\n",
              " tensor([1, 1, 0,  ..., 1, 0, 1], dtype=torch.uint8),\n",
              " tensor([1, 1, 0,  ..., 1, 0, 1], dtype=torch.uint8),\n",
              " tensor([1, 1, 0,  ..., 1, 0, 1], dtype=torch.uint8),\n",
              " tensor([1, 1, 0,  ..., 1, 0, 1], dtype=torch.uint8),\n",
              " tensor([1, 1, 0,  ..., 1, 0, 1], dtype=torch.uint8),\n",
              " tensor([1, 1, 0,  ..., 1, 0, 1], dtype=torch.uint8),\n",
              " tensor([1, 1, 0,  ..., 1, 0, 1], dtype=torch.uint8),\n",
              " tensor([1, 1, 0,  ..., 1, 0, 1], dtype=torch.uint8),\n",
              " tensor([1, 1, 0,  ..., 1, 0, 1], dtype=torch.uint8),\n",
              " tensor([1, 1, 0,  ..., 1, 0, 1], dtype=torch.uint8),\n",
              " tensor([1, 1, 0,  ..., 1, 0, 1], dtype=torch.uint8),\n",
              " tensor([1, 1, 0,  ..., 1, 0, 1], dtype=torch.uint8),\n",
              " tensor([1, 1, 0,  ..., 1, 0, 1], dtype=torch.uint8),\n",
              " tensor([1, 1, 0,  ..., 1, 0, 1], dtype=torch.uint8),\n",
              " tensor([1, 1, 0,  ..., 1, 0, 1], dtype=torch.uint8),\n",
              " tensor([1, 1, 0,  ..., 1, 0, 1], dtype=torch.uint8),\n",
              " tensor([1, 1, 0,  ..., 1, 0, 1], dtype=torch.uint8),\n",
              " tensor([1, 1, 0,  ..., 1, 0, 1], dtype=torch.uint8),\n",
              " tensor([1, 1, 0,  ..., 1, 0, 1], dtype=torch.uint8),\n",
              " tensor([1, 1, 0,  ..., 1, 0, 1], dtype=torch.uint8),\n",
              " tensor([1, 1, 0,  ..., 1, 0, 1], dtype=torch.uint8),\n",
              " tensor([1, 1, 0,  ..., 1, 0, 1], dtype=torch.uint8),\n",
              " tensor([1, 1, 0,  ..., 1, 0, 1], dtype=torch.uint8),\n",
              " tensor([1, 1, 0,  ..., 1, 0, 1], dtype=torch.uint8),\n",
              " tensor([1, 1, 0,  ..., 1, 0, 1], dtype=torch.uint8),\n",
              " tensor([1, 1, 0,  ..., 1, 0, 1], dtype=torch.uint8),\n",
              " tensor([1, 1, 0,  ..., 1, 0, 1], dtype=torch.uint8),\n",
              " tensor([1, 1, 0,  ..., 1, 0, 1], dtype=torch.uint8),\n",
              " tensor([1, 1, 0,  ..., 1, 0, 1], dtype=torch.uint8),\n",
              " tensor([1, 1, 0,  ..., 1, 0, 1], dtype=torch.uint8),\n",
              " ...]"
            ]
          },
          "metadata": {
            "tags": []
          },
          "execution_count": 17
        }
      ]
    },
    {
      "cell_type": "code",
      "metadata": {
        "id": "9vAyMvzKfBNz",
        "colab_type": "code",
        "colab": {}
      },
      "source": [
        "# Consolidate the two preceding functions\n",
        "\n",
        "def create_db_and_parallels(num_entries):\n",
        "  db = torch.randn(num_entries) > 0.5\n",
        "  pdbs = get_parallel_dbs(db)\n",
        "  return db, pdbs"
      ],
      "execution_count": 0,
      "outputs": []
    },
    {
      "cell_type": "code",
      "metadata": {
        "id": "WhxJSo9Nfxgn",
        "colab_type": "code",
        "colab": {}
      },
      "source": [
        "db, pdbs = create_db_and_parallels(20)"
      ],
      "execution_count": 0,
      "outputs": []
    },
    {
      "cell_type": "code",
      "metadata": {
        "id": "UK2d4-8pf4KK",
        "colab_type": "code",
        "outputId": "5d5ac043-e6b5-4242-b1af-77d8a59dbcaa",
        "colab": {
          "base_uri": "https://localhost:8080/",
          "height": 51
        }
      },
      "source": [
        "db"
      ],
      "execution_count": 20,
      "outputs": [
        {
          "output_type": "execute_result",
          "data": {
            "text/plain": [
              "tensor([0, 0, 0, 0, 1, 0, 0, 0, 1, 1, 0, 0, 0, 0, 0, 0, 0, 0, 0, 0],\n",
              "       dtype=torch.uint8)"
            ]
          },
          "metadata": {
            "tags": []
          },
          "execution_count": 20
        }
      ]
    },
    {
      "cell_type": "code",
      "metadata": {
        "id": "obewZHhqf6Ga",
        "colab_type": "code",
        "outputId": "53d81415-4653-42b8-e4c5-deb3f540ff02",
        "colab": {
          "base_uri": "https://localhost:8080/",
          "height": 697
        }
      },
      "source": [
        "pdbs"
      ],
      "execution_count": 21,
      "outputs": [
        {
          "output_type": "execute_result",
          "data": {
            "text/plain": [
              "[tensor([0, 0, 0, 1, 0, 0, 0, 1, 1, 0, 0, 0, 0, 0, 0, 0, 0, 0, 0],\n",
              "        dtype=torch.uint8),\n",
              " tensor([0, 0, 0, 1, 0, 0, 0, 1, 1, 0, 0, 0, 0, 0, 0, 0, 0, 0, 0],\n",
              "        dtype=torch.uint8),\n",
              " tensor([0, 0, 0, 1, 0, 0, 0, 1, 1, 0, 0, 0, 0, 0, 0, 0, 0, 0, 0],\n",
              "        dtype=torch.uint8),\n",
              " tensor([0, 0, 0, 1, 0, 0, 0, 1, 1, 0, 0, 0, 0, 0, 0, 0, 0, 0, 0],\n",
              "        dtype=torch.uint8),\n",
              " tensor([0, 0, 0, 0, 0, 0, 0, 1, 1, 0, 0, 0, 0, 0, 0, 0, 0, 0, 0],\n",
              "        dtype=torch.uint8),\n",
              " tensor([0, 0, 0, 0, 1, 0, 0, 1, 1, 0, 0, 0, 0, 0, 0, 0, 0, 0, 0],\n",
              "        dtype=torch.uint8),\n",
              " tensor([0, 0, 0, 0, 1, 0, 0, 1, 1, 0, 0, 0, 0, 0, 0, 0, 0, 0, 0],\n",
              "        dtype=torch.uint8),\n",
              " tensor([0, 0, 0, 0, 1, 0, 0, 1, 1, 0, 0, 0, 0, 0, 0, 0, 0, 0, 0],\n",
              "        dtype=torch.uint8),\n",
              " tensor([0, 0, 0, 0, 1, 0, 0, 0, 1, 0, 0, 0, 0, 0, 0, 0, 0, 0, 0],\n",
              "        dtype=torch.uint8),\n",
              " tensor([0, 0, 0, 0, 1, 0, 0, 0, 1, 0, 0, 0, 0, 0, 0, 0, 0, 0, 0],\n",
              "        dtype=torch.uint8),\n",
              " tensor([0, 0, 0, 0, 1, 0, 0, 0, 1, 1, 0, 0, 0, 0, 0, 0, 0, 0, 0],\n",
              "        dtype=torch.uint8),\n",
              " tensor([0, 0, 0, 0, 1, 0, 0, 0, 1, 1, 0, 0, 0, 0, 0, 0, 0, 0, 0],\n",
              "        dtype=torch.uint8),\n",
              " tensor([0, 0, 0, 0, 1, 0, 0, 0, 1, 1, 0, 0, 0, 0, 0, 0, 0, 0, 0],\n",
              "        dtype=torch.uint8),\n",
              " tensor([0, 0, 0, 0, 1, 0, 0, 0, 1, 1, 0, 0, 0, 0, 0, 0, 0, 0, 0],\n",
              "        dtype=torch.uint8),\n",
              " tensor([0, 0, 0, 0, 1, 0, 0, 0, 1, 1, 0, 0, 0, 0, 0, 0, 0, 0, 0],\n",
              "        dtype=torch.uint8),\n",
              " tensor([0, 0, 0, 0, 1, 0, 0, 0, 1, 1, 0, 0, 0, 0, 0, 0, 0, 0, 0],\n",
              "        dtype=torch.uint8),\n",
              " tensor([0, 0, 0, 0, 1, 0, 0, 0, 1, 1, 0, 0, 0, 0, 0, 0, 0, 0, 0],\n",
              "        dtype=torch.uint8),\n",
              " tensor([0, 0, 0, 0, 1, 0, 0, 0, 1, 1, 0, 0, 0, 0, 0, 0, 0, 0, 0],\n",
              "        dtype=torch.uint8),\n",
              " tensor([0, 0, 0, 0, 1, 0, 0, 0, 1, 1, 0, 0, 0, 0, 0, 0, 0, 0, 0],\n",
              "        dtype=torch.uint8),\n",
              " tensor([0, 0, 0, 0, 1, 0, 0, 0, 1, 1, 0, 0, 0, 0, 0, 0, 0, 0, 0],\n",
              "        dtype=torch.uint8)]"
            ]
          },
          "metadata": {
            "tags": []
          },
          "execution_count": 21
        }
      ]
    },
    {
      "cell_type": "markdown",
      "metadata": {
        "id": "fqvXAMZa0Wvw",
        "colab_type": "text"
      },
      "source": [
        "# Lesson: Towards Evaluating The Differential Privacy of a Function\n",
        "\n",
        "Intuitively, we want to be able to query our database and evaluate whether or not the result of the query is leaking \"private\" information. As mentioned previously, this is about evaluating whether the output of a query changes when we remove someone from the database. Specifically, we want to evaluate the *maximum* amount the query changes when someone is removed (maximum over all possible people who could be removed). So, in order to evaluate how much privacy is leaked, we're going to iterate over each person in the database and measure the difference in the output of the query relative to when we query the entire database. \n",
        "\n",
        "Just for the sake of argument, let's make our first \"database query\" a simple sum. Aka, we're going to count the number of 1s in the database."
      ]
    },
    {
      "cell_type": "code",
      "metadata": {
        "id": "m_LD_Or50Wv_",
        "colab_type": "code",
        "colab": {}
      },
      "source": [
        "db, pdbs = create_db_and_parallels(5000)"
      ],
      "execution_count": 0,
      "outputs": []
    },
    {
      "cell_type": "code",
      "metadata": {
        "id": "99mgpDrP0Wwy",
        "colab_type": "code",
        "colab": {}
      },
      "source": [
        "def query(db):\n",
        "    return db.sum()"
      ],
      "execution_count": 0,
      "outputs": []
    },
    {
      "cell_type": "code",
      "metadata": {
        "id": "yP7aCp3z0Wxk",
        "colab_type": "code",
        "colab": {}
      },
      "source": [
        "full_db_result = query(db)"
      ],
      "execution_count": 0,
      "outputs": []
    },
    {
      "cell_type": "code",
      "metadata": {
        "id": "TLmwHuRe0Wyl",
        "colab_type": "code",
        "colab": {}
      },
      "source": [
        "sensitivity = 0\n",
        "for pdb in pdbs:\n",
        "    pdb_result = query(pdb)\n",
        "    \n",
        "    db_distance = torch.abs(pdb_result - full_db_result)\n",
        "    \n",
        "    if(db_distance > sensitivity):\n",
        "        sensitivity = db_distance"
      ],
      "execution_count": 0,
      "outputs": []
    },
    {
      "cell_type": "code",
      "metadata": {
        "id": "9AMLurUy0Wzm",
        "colab_type": "code",
        "outputId": "06626599-7fe3-4f77-dea6-74c2cd927073",
        "colab": {
          "base_uri": "https://localhost:8080/",
          "height": 34
        }
      },
      "source": [
        "sensitivity"
      ],
      "execution_count": 26,
      "outputs": [
        {
          "output_type": "execute_result",
          "data": {
            "text/plain": [
              "tensor(1)"
            ]
          },
          "metadata": {
            "tags": []
          },
          "execution_count": 26
        }
      ]
    },
    {
      "cell_type": "markdown",
      "metadata": {
        "id": "bgO3Z9vO-tEK",
        "colab_type": "text"
      },
      "source": [
        "### Create a single function called sensitivity (query, n_entries)\n",
        "* initialize a database of correct size\n",
        "* initialize all parallel databases\n",
        "* run the query over all databases\n",
        "* correctly calculate sensitivity\n",
        "* return the sensitivity"
      ]
    },
    {
      "cell_type": "code",
      "metadata": {
        "id": "1sZt52wIAFu5",
        "colab_type": "code",
        "colab": {}
      },
      "source": [
        "# input query function to sensitivity function\n",
        "def query(db):\n",
        "  return db.sum()\n",
        "\n",
        "# Generate a function that creates a parallel database where we specify which value in the database you want to remove.\n",
        "def get_parallel_db(db, remove_index):\n",
        "  return torch.cat((\n",
        "      db[:remove_index],\n",
        "      db[remove_index+1:]\n",
        "  ))\n",
        "\n",
        "# Create a function which iterates over all values in the database, generating a copy with one element removed at the specified index.\n",
        "def get_parallel_dbs(db):\n",
        "  # Instantiate a list to contain all of the parallel databases.\n",
        "\n",
        "  parallel_dbs = list()\n",
        "  \n",
        "  #  Iterate over the database \n",
        "\n",
        "  for i in range(len(db)):\n",
        "    pdb = get_parallel_db(db, i)\n",
        "    parallel_dbs.append(pdb)\n",
        "    \n",
        "  return parallel_dbs\n"
      ],
      "execution_count": 0,
      "outputs": []
    },
    {
      "cell_type": "code",
      "metadata": {
        "id": "meu9pwswED5t",
        "colab_type": "code",
        "colab": {}
      },
      "source": [
        "# sensitivity function\n",
        "def sensitivity(query, n_entries):\n",
        "  \n",
        "  # initialize a database of correct size\n",
        "  db = torch.rand(n_entries) > 0.5\n",
        "  \n",
        "  # initialize all parallel databases\n",
        "  pdbs = get_parallel_dbs(db)\n",
        "  \n",
        "  # run the query over all the databases\n",
        "  # correctly calculate sensitivity\n",
        "  \n",
        "  full_db_result = query(db)\n",
        "  \n",
        "  sensitivity = 0\n",
        "  for pdb in pdbs:\n",
        "      pdb_result = query(pdb)\n",
        "\n",
        "      db_distance = torch.abs(pdb_result - full_db_result)\n",
        "\n",
        "      if(db_distance > sensitivity):\n",
        "          sensitivity = db_distance\n",
        "  \n",
        "  \n",
        "  # return the sensitivity\n",
        "  return sensitivity"
      ],
      "execution_count": 0,
      "outputs": []
    },
    {
      "cell_type": "code",
      "metadata": {
        "id": "I2eBf8g5EWBp",
        "colab_type": "code",
        "outputId": "d5bbfaea-b730-49ac-e530-733b278518ad",
        "colab": {
          "base_uri": "https://localhost:8080/",
          "height": 34
        }
      },
      "source": [
        "s = sensitivity(query, 5000)\n",
        "print(s)"
      ],
      "execution_count": 29,
      "outputs": [
        {
          "output_type": "stream",
          "text": [
            "tensor(1)\n"
          ],
          "name": "stdout"
        }
      ]
    },
    {
      "cell_type": "markdown",
      "metadata": {
        "id": "qy591Pcc0Wzy",
        "colab_type": "text"
      },
      "source": [
        "# Project - Evaluating the Privacy of a Function\n",
        "\n",
        "In the last section, we measured the difference between each parallel db's query result and the query result for the entire database and then calculated the max value (which was 1). This value is called \"sensitivity\", and it corresponds to the function we chose for the query. Namely, the \"sum\" query will always have a sensitivity of exactly 1. However, we can also calculate sensitivity for other functions as well.\n",
        "\n",
        "Let's try to calculate sensitivity for the \"mean\" function."
      ]
    },
    {
      "cell_type": "code",
      "metadata": {
        "id": "0uLc-qDk0Wz1",
        "colab_type": "code",
        "colab": {}
      },
      "source": [
        "# try this project here!"
      ],
      "execution_count": 0,
      "outputs": []
    },
    {
      "cell_type": "code",
      "metadata": {
        "id": "WSQSu1xV0W0F",
        "colab_type": "code",
        "colab": {}
      },
      "source": [
        "def sensitivity(query, n_entries=1000):\n",
        "  \n",
        "  db, pdbs = create_db_and_parallels(n_entries)\n",
        "  \n",
        "  full_db_result = query(db)\n",
        "  \n",
        "  max_distance = 0\n",
        "  \n",
        "  for pdb in pdbs:\n",
        "    pdb_result = query(pdb)\n",
        "    \n",
        "    db_distance = torch.abs(pdb_result - full_db_result)\n",
        "    \n",
        "    if(db_distance > max_distance): \n",
        "      max_distance = db_distance\n",
        "      \n",
        "  return max_distance"
      ],
      "execution_count": 0,
      "outputs": []
    },
    {
      "cell_type": "code",
      "metadata": {
        "id": "e6eXpyeW0W0U",
        "colab_type": "code",
        "colab": {}
      },
      "source": [
        "def query(db):\n",
        "  return db.float().mean()"
      ],
      "execution_count": 0,
      "outputs": []
    },
    {
      "cell_type": "code",
      "metadata": {
        "id": "2v18ThHz0W01",
        "colab_type": "code",
        "outputId": "6db66fc7-0130-4dd2-c6d1-cfce8e2613e9",
        "colab": {
          "base_uri": "https://localhost:8080/",
          "height": 34
        }
      },
      "source": [
        "sensitivity(query)"
      ],
      "execution_count": 33,
      "outputs": [
        {
          "output_type": "execute_result",
          "data": {
            "text/plain": [
              "tensor(0.0007)"
            ]
          },
          "metadata": {
            "tags": []
          },
          "execution_count": 33
        }
      ]
    },
    {
      "cell_type": "code",
      "metadata": {
        "id": "FWcxm4z20W1N",
        "colab_type": "code",
        "outputId": "ecead6d5-bf6c-4820-8881-39213f53e678",
        "colab": {
          "base_uri": "https://localhost:8080/",
          "height": 34
        }
      },
      "source": [
        "# average value in the database divided by the number of entries\n",
        "\n",
        "avg = (1 + 0) / 2\n",
        "\n",
        "avg / 1000"
      ],
      "execution_count": 34,
      "outputs": [
        {
          "output_type": "execute_result",
          "data": {
            "text/plain": [
              "0.0005"
            ]
          },
          "metadata": {
            "tags": []
          },
          "execution_count": 34
        }
      ]
    },
    {
      "cell_type": "code",
      "metadata": {
        "id": "VB8N4H430W1V",
        "colab_type": "code",
        "colab": {}
      },
      "source": [
        ""
      ],
      "execution_count": 0,
      "outputs": []
    },
    {
      "cell_type": "code",
      "metadata": {
        "id": "reFuA8qw0W1c",
        "colab_type": "code",
        "colab": {}
      },
      "source": [
        ""
      ],
      "execution_count": 0,
      "outputs": []
    },
    {
      "cell_type": "code",
      "metadata": {
        "id": "h1LdfVlk0W1r",
        "colab_type": "code",
        "colab": {}
      },
      "source": [
        ""
      ],
      "execution_count": 0,
      "outputs": []
    },
    {
      "cell_type": "markdown",
      "metadata": {
        "id": "6MoX7PlF0W2B",
        "colab_type": "text"
      },
      "source": [
        "Wow! That sensitivity is WAY lower. Note the intuition here. \"Sensitivity\" is measuring how sensitive the output of the query is to a person being removed from the database. For a simple sum, this is always 1, but for the mean, removing a person is going to change the result of the query by rougly 1 divided by the size of the database (which is much smaller). Thus, \"mean\" is a VASTLY less \"sensitive\" function (query) than SUM."
      ]
    },
    {
      "cell_type": "markdown",
      "metadata": {
        "id": "OUapGllA0W2E",
        "colab_type": "text"
      },
      "source": [
        "# Project: Calculate L1 Sensitivity For Threshold\n",
        "\n",
        "In this first project, I want you to calculate the sensitivty for the \"threshold\" function. \n",
        "\n",
        "- First compute the sum over the database (i.e. sum(db)) and return whether that sum is greater than a certain threshold.\n",
        "- Then, I want you to create databases of size 10 and threshold of 5 and calculate the sensitivity of the function. \n",
        "- Finally, re-initialize the database 10 times and calculate the sensitivity each time."
      ]
    },
    {
      "cell_type": "markdown",
      "metadata": {
        "id": "FUohuVBBk4NZ",
        "colab_type": "text"
      },
      "source": [
        "My work"
      ]
    },
    {
      "cell_type": "code",
      "metadata": {
        "id": "SazAxTCO0W2N",
        "colab_type": "code",
        "colab": {}
      },
      "source": [
        "# try this project here!"
      ],
      "execution_count": 0,
      "outputs": []
    },
    {
      "cell_type": "code",
      "metadata": {
        "id": "fgc-yaOR0W2Z",
        "colab_type": "code",
        "colab": {}
      },
      "source": [
        "# create the query function:\n",
        "#  compute the sum over the database and return whether the sum is greater than or less than a certain threshold.\n",
        "\n",
        "def query(t, db):\n",
        "  # calculate sum of database\n",
        "  db_sum = db.sum()\n",
        "  \n",
        "  # initialize a variable for distance past threshold\n",
        "  above_t = 0\n",
        "  \n",
        "  # update above_t if sum of database is above threshold\n",
        "  if(db_sum > t):\n",
        "    above_t = db_sum - t\n",
        "    \n",
        "  return above_t"
      ],
      "execution_count": 0,
      "outputs": []
    },
    {
      "cell_type": "code",
      "metadata": {
        "id": "sGK0w_7D0W2h",
        "colab_type": "code",
        "colab": {}
      },
      "source": [
        "# create 10 databases of size 10\n",
        "\n",
        "def get_dbs(num_dbs, num_db_entries):\n",
        "  # Instantiate a list to contain all of the databases.\n",
        "\n",
        "  dbs = list()\n",
        "  \n",
        "  #  Iterate over the number of databases (num_dbs) to generate as many dbs of length num_db_entries \n",
        "\n",
        "  for i in range(num_dbs):\n",
        "    db = torch.rand(num_db_entries) > 0.5\n",
        "    dbs.append(db)\n",
        "  \n",
        "  return dbs"
      ],
      "execution_count": 0,
      "outputs": []
    },
    {
      "cell_type": "code",
      "metadata": {
        "id": "U_n3-y8yoIXM",
        "colab_type": "code",
        "colab": {}
      },
      "source": [
        "dbs = get_dbs(10, 10)"
      ],
      "execution_count": 0,
      "outputs": []
    },
    {
      "cell_type": "code",
      "metadata": {
        "id": "PfQwmH3xowAm",
        "colab_type": "code",
        "outputId": "abe47231-8e42-4c8a-a9c6-c3960ba38511",
        "colab": {
          "base_uri": "https://localhost:8080/",
          "height": 34
        }
      },
      "source": [
        "len(dbs)"
      ],
      "execution_count": 39,
      "outputs": [
        {
          "output_type": "execute_result",
          "data": {
            "text/plain": [
              "10"
            ]
          },
          "metadata": {
            "tags": []
          },
          "execution_count": 39
        }
      ]
    },
    {
      "cell_type": "code",
      "metadata": {
        "id": "mE5qvqu6os1n",
        "colab_type": "code",
        "outputId": "98e3c0ea-0930-4473-8ee2-cacc3963e6a7",
        "colab": {
          "base_uri": "https://localhost:8080/",
          "height": 34
        }
      },
      "source": [
        "dbs[0].shape"
      ],
      "execution_count": 40,
      "outputs": [
        {
          "output_type": "execute_result",
          "data": {
            "text/plain": [
              "torch.Size([10])"
            ]
          },
          "metadata": {
            "tags": []
          },
          "execution_count": 40
        }
      ]
    },
    {
      "cell_type": "code",
      "metadata": {
        "id": "2j2-ykqR0W2o",
        "colab_type": "code",
        "colab": {}
      },
      "source": [
        "# query each database with a theshold of 5 (calculate sensitivity)\n",
        "\n",
        "def query_dbs(dbs, query, t):\n",
        "  \n",
        "  qry_out = list()\n",
        "  \n",
        "  for i in range(len(dbs)):\n",
        "    out = int(query(t, dbs[i]))\n",
        "    qry_out.append(out)\n",
        "    \n",
        "  return qry_out"
      ],
      "execution_count": 0,
      "outputs": []
    },
    {
      "cell_type": "code",
      "metadata": {
        "id": "t09mK96ilF-0",
        "colab_type": "code",
        "colab": {}
      },
      "source": [
        "# print out the sensitivity of each database\n",
        "\n",
        "result = query_dbs(dbs, query, 5)"
      ],
      "execution_count": 0,
      "outputs": []
    },
    {
      "cell_type": "code",
      "metadata": {
        "id": "S3mDh4nQqK4I",
        "colab_type": "code",
        "outputId": "3c57f24d-5788-440b-f600-26a34c39703d",
        "colab": {
          "base_uri": "https://localhost:8080/",
          "height": 34
        }
      },
      "source": [
        "print(result)"
      ],
      "execution_count": 43,
      "outputs": [
        {
          "output_type": "stream",
          "text": [
            "[2, 2, 0, 1, 0, 0, 0, 0, 2, 0]\n"
          ],
          "name": "stdout"
        }
      ]
    },
    {
      "cell_type": "markdown",
      "metadata": {
        "id": "PWa60aFGqrd8",
        "colab_type": "text"
      },
      "source": [
        "Instructor's work"
      ]
    },
    {
      "cell_type": "code",
      "metadata": {
        "id": "1LmPflxGqt0E",
        "colab_type": "code",
        "colab": {}
      },
      "source": [
        "def query(db, threshold=5):\n",
        "  return (db.sum() > threshold).float()"
      ],
      "execution_count": 0,
      "outputs": []
    },
    {
      "cell_type": "code",
      "metadata": {
        "id": "-EDjB2e33Ggu",
        "colab_type": "code",
        "outputId": "41032e5a-6007-44b9-dc94-e683bd5c56a3",
        "colab": {
          "base_uri": "https://localhost:8080/",
          "height": 187
        }
      },
      "source": [
        "# explicitly calculate the sensitivity:\n",
        "\n",
        "for i in range(10):\n",
        "\n",
        "  sens_f = sensitivity(query, n_entries=10)\n",
        "  print(sens_f)"
      ],
      "execution_count": 45,
      "outputs": [
        {
          "output_type": "stream",
          "text": [
            "0\n",
            "0\n",
            "0\n",
            "0\n",
            "0\n",
            "0\n",
            "0\n",
            "0\n",
            "0\n",
            "0\n"
          ],
          "name": "stdout"
        }
      ]
    },
    {
      "cell_type": "markdown",
      "metadata": {
        "id": "K6_q4Gv10W22",
        "colab_type": "text"
      },
      "source": [
        "# Lesson: A Basic Differencing Attack\n",
        "\n",
        "Sadly none of the functions we've looked at so far are differentially private (despite them having varying levels of sensitivity). The most basic type of attack can be done as follows.\n",
        "\n",
        "Let's say we wanted to figure out a specific person's value in the database. All we would have to do is query for the sum of the entire database and then the sum of the entire database without that person!\n",
        "\n",
        "# Project: Perform a Differencing Attack on Row 10\n",
        "\n",
        "In this project, I want you to construct a database and then demonstrate how you can use two different sum queries to explose the value of the person represented by row 10 in the database (note, you'll need to use a database with at least 10 rows)"
      ]
    },
    {
      "cell_type": "markdown",
      "metadata": {
        "id": "lBgzuxzZe4Fg",
        "colab_type": "text"
      },
      "source": [
        "My work"
      ]
    },
    {
      "cell_type": "code",
      "metadata": {
        "id": "EWqC7gel0W27",
        "colab_type": "code",
        "colab": {}
      },
      "source": [
        "# try this project here!"
      ],
      "execution_count": 0,
      "outputs": []
    },
    {
      "cell_type": "code",
      "metadata": {
        "id": "4Duwy2130W3J",
        "colab_type": "code",
        "colab": {}
      },
      "source": [
        "# function that creates a parallel database; specify which value in the database to remove.\n",
        "\n",
        "def get_parallel_db(db, remove_index):\n",
        "  return torch.cat((\n",
        "      db[:remove_index],\n",
        "      db[remove_index+1:]\n",
        "  ))\n",
        "\n",
        "# define the query functions\n",
        "\n",
        "def query_sum(db):\n",
        "  return db.sum()\n",
        "\n",
        "def query_mean(db):\n",
        "  return db.float().mean()\n",
        "\n",
        "def query_threshold(db, threshold=5):\n",
        "  return (db.sum() > threshold).float()"
      ],
      "execution_count": 0,
      "outputs": []
    },
    {
      "cell_type": "code",
      "metadata": {
        "id": "ccPfULmX0W3P",
        "colab_type": "code",
        "colab": {}
      },
      "source": [
        "# differential attack function\n",
        "\n",
        "def diff_attack(num_entries, remove_index, query):\n",
        "  \n",
        "  # create the base database\n",
        "  db = torch.rand(num_entries) > 0.5\n",
        "  \n",
        "  # generate the comparison data that removes the nth (remove_index) entity from the database. store as pdb\n",
        "  pdb = get_parallel_db(db, remove_index)\n",
        "  \n",
        "  # initialize a list to hold the results\n",
        "  output = list()\n",
        "  \n",
        "  # calculate the sensitivity of the original database, append to output list\n",
        "  db_out = query(db)\n",
        "  output.append(db_out)\n",
        "  \n",
        "  # calculate the sensitivity of the dataset with the element removed, append to output list\n",
        "  pdb_out = query(pdb)\n",
        "  output.append(pdb_out)\n",
        "  \n",
        "  return output"
      ],
      "execution_count": 0,
      "outputs": []
    },
    {
      "cell_type": "code",
      "metadata": {
        "id": "iY1mmvbk0W3X",
        "colab_type": "code",
        "colab": {}
      },
      "source": [
        "# create a list of the three query functions to iterate over them.\n",
        "\n",
        "query_list = [query_sum, query_mean, query_threshold]"
      ],
      "execution_count": 0,
      "outputs": []
    },
    {
      "cell_type": "code",
      "metadata": {
        "id": "rTHsp3XP0W3h",
        "colab_type": "code",
        "outputId": "1cb6dfe7-d998-4b6c-a202-a96d28337599",
        "colab": {
          "base_uri": "https://localhost:8080/",
          "height": 170
        }
      },
      "source": [
        "# perform differential attack on the list of queries. \n",
        "\n",
        "num_entries = 5000\n",
        "remove_index = 10\n",
        "\n",
        "for query in range(len(query_list)):\n",
        "  print(query_list[query])\n",
        "  output = diff_attack(num_entries, remove_index, query_list[query])\n",
        "  print(output)\n",
        "  print(output[0] - output[1])"
      ],
      "execution_count": 50,
      "outputs": [
        {
          "output_type": "stream",
          "text": [
            "<function query_sum at 0x7ff2f15dd2f0>\n",
            "[tensor(2457), tensor(2457)]\n",
            "tensor(0)\n",
            "<function query_mean at 0x7ff2efc9e488>\n",
            "[tensor(0.5002), tensor(0.5001)]\n",
            "tensor(9.9957e-05)\n",
            "<function query_threshold at 0x7ff2efc9e400>\n",
            "[tensor(1.), tensor(1.)]\n",
            "tensor(0.)\n"
          ],
          "name": "stdout"
        }
      ]
    },
    {
      "cell_type": "markdown",
      "metadata": {
        "id": "3SCrEYi_pB7y",
        "colab_type": "text"
      },
      "source": [
        "Instructor's work"
      ]
    },
    {
      "cell_type": "code",
      "metadata": {
        "id": "XvEDSk_y0W3o",
        "colab_type": "code",
        "colab": {}
      },
      "source": [
        "# create a database and put 100 values in it\n",
        "\n",
        "db, _ = create_db_and_parallels(100)"
      ],
      "execution_count": 0,
      "outputs": []
    },
    {
      "cell_type": "code",
      "metadata": {
        "id": "Tgdfcz-c0W3w",
        "colab_type": "code",
        "colab": {}
      },
      "source": [
        "# create a parallel database where remove entity at index 10\n",
        "\n",
        "pdb = get_parallel_db(db, remove_index=10)"
      ],
      "execution_count": 0,
      "outputs": []
    },
    {
      "cell_type": "code",
      "metadata": {
        "id": "POEBRW4T0W4G",
        "colab_type": "code",
        "outputId": "3582e179-f25a-4746-82b9-6277eacc30bd",
        "colab": {
          "base_uri": "https://localhost:8080/",
          "height": 34
        }
      },
      "source": [
        "# differencing attack using addition (sum query)\n",
        "sum(db) - sum(pdb)"
      ],
      "execution_count": 53,
      "outputs": [
        {
          "output_type": "execute_result",
          "data": {
            "text/plain": [
              "tensor(1, dtype=torch.uint8)"
            ]
          },
          "metadata": {
            "tags": []
          },
          "execution_count": 53
        }
      ]
    },
    {
      "cell_type": "code",
      "metadata": {
        "id": "KpfM7o6BqShP",
        "colab_type": "code",
        "outputId": "c38ab6ec-a1c3-4f66-e2ec-5001aa485078",
        "colab": {
          "base_uri": "https://localhost:8080/",
          "height": 34
        }
      },
      "source": [
        "# differencing attack using mean \n",
        "# if value is nonzero, indicates that missing value is a one.\n",
        "\n",
        "(sum(db).float()/len(db)) - (sum(pdb).float()/len(pdb))"
      ],
      "execution_count": 54,
      "outputs": [
        {
          "output_type": "execute_result",
          "data": {
            "text/plain": [
              "tensor(0.0075)"
            ]
          },
          "metadata": {
            "tags": []
          },
          "execution_count": 54
        }
      ]
    },
    {
      "cell_type": "code",
      "metadata": {
        "id": "fRbFL5rjqjQ9",
        "colab_type": "code",
        "outputId": "56825fb2-b9af-4fab-d96b-388d595852e4",
        "colab": {
          "base_uri": "https://localhost:8080/",
          "height": 34
        }
      },
      "source": [
        "# differencing attack using threshold\n",
        "\n",
        "(sum(db).float() > 49) - (sum(pdb).float() > 49)"
      ],
      "execution_count": 55,
      "outputs": [
        {
          "output_type": "execute_result",
          "data": {
            "text/plain": [
              "tensor(0, dtype=torch.uint8)"
            ]
          },
          "metadata": {
            "tags": []
          },
          "execution_count": 55
        }
      ]
    },
    {
      "cell_type": "markdown",
      "metadata": {
        "id": "6noC8ll_0W4Q",
        "colab_type": "text"
      },
      "source": [
        "# Project: Local Differential Privacy\n",
        "\n",
        "As you can see, the basic sum query is not differentially private at all! In truth, differential privacy always requires a form of randomness added to the query. Let me show you what I mean.\n",
        "\n",
        "### Randomized Response (Local Differential Privacy)\n",
        "\n",
        "Let's say I have a group of people I wish to survey about a very taboo behavior which I think they will lie about (say, I want to know if they have ever committed a certain kind of crime). I'm not a policeman, I'm just trying to collect statistics to understand the higher level trend in society. So, how do we do this? One technique is to add randomness to each person's response by giving each person the following instructions (assuming I'm asking a simple yes/no question):\n",
        "\n",
        "- Flip a coin 2 times.\n",
        "- If the first coin flip is heads, answer honestly\n",
        "- If the first coin flip is tails, answer according to the second coin flip (heads for yes, tails for no)!\n",
        "\n",
        "Thus, each person is now protected with \"plausible deniability\". If they answer \"Yes\" to the question \"have you committed X crime?\", then it might becasue they actually did, or it might be becasue they are answering according to a random coin flip. Each person has a high degree of protection. Furthermore, we can recover the underlying statistics with some accuracy, as the \"true statistics\" are simply averaged with a 50% probability. Thus, if we collect a bunch of samples and it turns out that 60% of people answer yes, then we know that the TRUE distribution is actually centered around 70%, because 70% averaged wtih 50% (a coin flip) is 60% which is the result we obtained. \n",
        "\n",
        "However, it should be noted that, especially when we only have a few samples, the this comes at the cost of accuracy. This tradeoff exists across all of Differential Privacy. The greater the privacy protection (plausible deniability) the less accurate the results. \n",
        "\n",
        "Let's implement this local DP for our database before!"
      ]
    },
    {
      "cell_type": "markdown",
      "metadata": {
        "id": "6b2mq-BtSxdL",
        "colab_type": "text"
      },
      "source": [
        "My work"
      ]
    },
    {
      "cell_type": "code",
      "metadata": {
        "id": "7izgCUuo0W4d",
        "colab_type": "code",
        "colab": {}
      },
      "source": [
        "# try this project here!"
      ],
      "execution_count": 0,
      "outputs": []
    },
    {
      "cell_type": "code",
      "metadata": {
        "id": "QbgP62FrYrJT",
        "colab_type": "code",
        "colab": {}
      },
      "source": [
        "# define the query functions\n",
        "\n",
        "def query_mean(db):\n",
        "  return db.float().mean()"
      ],
      "execution_count": 0,
      "outputs": []
    },
    {
      "cell_type": "code",
      "metadata": {
        "id": "5Ru0AwFV0W44",
        "colab_type": "code",
        "colab": {}
      },
      "source": [
        "# local differential privacy function\n",
        "\n",
        "def local_diff_privacy(num_entries, query):\n",
        "  \n",
        "  bias = 0.5\n",
        "  \n",
        "  # create the base database\n",
        "  db = torch.rand(num_entries) > 0.5\n",
        "  \n",
        "  # initialize a list for the locally private instance.\n",
        "  lpdb_l = list()\n",
        "  rdb0_l = list()\n",
        "  rdb1_l = list()\n",
        "  \n",
        "  # create a for loop that iterates through each entry in the database.\n",
        "  for i in range(len(db)):\n",
        "    \n",
        "    # Flip a coin two times. Let 0 represent tails and 1 represent heads. \n",
        "    c = torch.rand(2) > 0.5\n",
        "    \n",
        "    # If the first coin flip is heads, answer honestly.\n",
        "    # If the first coin flip is tails, answer according to the second coin flip (heads for yes, tails for no)\n",
        "    rdb0_l.append(c[0])\n",
        "    rdb1_l.append(c[1])\n",
        "    \n",
        "    if(c[0] == 1):\n",
        "      lpdb_l.append(db[i])\n",
        "    else:\n",
        "      if(c[1] == 0):\n",
        "        lpdb_l.append(0)\n",
        "      else:\n",
        "        lpdb_l.append(1)\n",
        "  \n",
        "  # convert locally private list to tensor\n",
        "  lpdb = torch.FloatTensor(lpdb_l)\n",
        "  rdb0 = torch.FloatTensor(rdb0_l)\n",
        "  rdb1 = torch.FloatTensor(rdb1_l)\n",
        "  \n",
        "  # initialize a list to hold the results\n",
        "  output = list()\n",
        "  \n",
        "  # calculate the query of the original database, append to output list\n",
        "  # don't have to put .float() here because it's part of the query function's definition.\n",
        "  db_out = query(db)\n",
        "  output.append(db_out)\n",
        "  \n",
        "  # calculate the query of the dataset, adjust for skew, append to output list\n",
        "  lpdb_out = query(lpdb) # augmented database\n",
        "  rdb0_out = query(rdb0) # weighting in favor of original database\n",
        "  rdb1_out = query(rdb1) # random noise (coin flip) database\n",
        "  \n",
        "  # (noise) * query(original result) + (1 - noise) * query(coin flip result) = query(augmented result)\n",
        "  # query(original result) = (1/noise) * (query(augmented result) - ((1-noise)*query(coin flip result)))\n",
        "  \n",
        "  norm_lpdb = (1 / bias) * (lpdb_out.float() - ((1 - bias) * rdb1_out.float()))\n",
        "  output.append(norm_lpdb.float())\n",
        "  \n",
        "  return rdb0_out, rdb1_out, output"
      ],
      "execution_count": 0,
      "outputs": []
    },
    {
      "cell_type": "code",
      "metadata": {
        "id": "ZsPTahui0W5C",
        "colab_type": "code",
        "outputId": "70519a17-0270-4eaa-a3a9-4ef0ccc87a1c",
        "colab": {
          "base_uri": "https://localhost:8080/",
          "height": 85
        }
      },
      "source": [
        "bias = 0.5\n",
        "bias0_mean, bias1_mean, output = local_diff_privacy(10, query_mean)\n",
        "\n",
        "print(\"Mean of coin flip 1: bias of \" + str(bias) + \" in favor of original database: \" + str(bias0_mean))\n",
        "print(\"Mean of coin flip 2: noise in place of database: \" + str(bias1_mean))\n",
        "print(\"Without Noise: \" + str(output[0]))\n",
        "print(\"With Noise: \" + str(output[1]))"
      ],
      "execution_count": 59,
      "outputs": [
        {
          "output_type": "stream",
          "text": [
            "Mean of coin flip 1: bias of 0.5 in favor of original database: tensor(0.5000)\n",
            "Mean of coin flip 2: noise in place of database: tensor(0.5000)\n",
            "Without Noise: tensor(0.6000)\n",
            "With Noise: tensor(1.1000)\n"
          ],
          "name": "stdout"
        }
      ]
    },
    {
      "cell_type": "code",
      "metadata": {
        "id": "kmiqvHkP0W5J",
        "colab_type": "code",
        "outputId": "4a0b6271-2e10-4207-c170-07eaa34397c9",
        "colab": {
          "base_uri": "https://localhost:8080/",
          "height": 85
        }
      },
      "source": [
        "bias = 0.5\n",
        "bias0_mean, bias1_mean, output = local_diff_privacy(100, query_mean)\n",
        "\n",
        "print(\"Mean of coin flip 1: bias of \" + str(bias) + \" in favor of original database: \" + str(bias0_mean))\n",
        "print(\"Mean of coin flip 2: noise in place of database: \" + str(bias1_mean))\n",
        "print(\"Without Noise: \" + str(output[0]))\n",
        "print(\"With Noise: \" + str(output[1]))"
      ],
      "execution_count": 60,
      "outputs": [
        {
          "output_type": "stream",
          "text": [
            "Mean of coin flip 1: bias of 0.5 in favor of original database: tensor(0.5000)\n",
            "Mean of coin flip 2: noise in place of database: tensor(0.5200)\n",
            "Without Noise: tensor(0.5400)\n",
            "With Noise: tensor(0.5600)\n"
          ],
          "name": "stdout"
        }
      ]
    },
    {
      "cell_type": "code",
      "metadata": {
        "id": "3WIZoEE80W5T",
        "colab_type": "code",
        "outputId": "675798d7-3039-4e51-ebc9-69dd1c7d6774",
        "colab": {
          "base_uri": "https://localhost:8080/",
          "height": 85
        }
      },
      "source": [
        "bias = 0.5\n",
        "bias0_mean, bias1_mean, output = local_diff_privacy(1000, query_mean)\n",
        "\n",
        "print(\"Mean of coin flip 1: bias of \" + str(bias) + \" in favor of original database: \" + str(bias0_mean))\n",
        "print(\"Mean of coin flip 2: noise in place of database: \" + str(bias1_mean))\n",
        "print(\"Without Noise: \" + str(output[0]))\n",
        "print(\"With Noise: \" + str(output[1]))"
      ],
      "execution_count": 61,
      "outputs": [
        {
          "output_type": "stream",
          "text": [
            "Mean of coin flip 1: bias of 0.5 in favor of original database: tensor(0.4950)\n",
            "Mean of coin flip 2: noise in place of database: tensor(0.4880)\n",
            "Without Noise: tensor(0.4980)\n",
            "With Noise: tensor(0.4880)\n"
          ],
          "name": "stdout"
        }
      ]
    },
    {
      "cell_type": "code",
      "metadata": {
        "id": "lvkIj2cq0W5c",
        "colab_type": "code",
        "outputId": "a75223e1-d50e-47c4-e034-474d235c7460",
        "colab": {
          "base_uri": "https://localhost:8080/",
          "height": 85
        }
      },
      "source": [
        "bias = 0.5\n",
        "bias0_mean, bias1_mean, output = local_diff_privacy(10000, query_mean)\n",
        "\n",
        "print(\"Mean of coin flip 1: bias of \" + str(bias) + \" in favor of original database: \" + str(bias0_mean))\n",
        "print(\"Mean of coin flip 2: noise in place of database: \" + str(bias1_mean))\n",
        "print(\"Without Noise: \" + str(output[0]))\n",
        "print(\"With Noise: \" + str(output[1]))"
      ],
      "execution_count": 62,
      "outputs": [
        {
          "output_type": "stream",
          "text": [
            "Mean of coin flip 1: bias of 0.5 in favor of original database: tensor(0.4982)\n",
            "Mean of coin flip 2: noise in place of database: tensor(0.5082)\n",
            "Without Noise: tensor(0.5013)\n",
            "With Noise: tensor(0.4990)\n"
          ],
          "name": "stdout"
        }
      ]
    },
    {
      "cell_type": "markdown",
      "metadata": {
        "id": "19zj37-GdXFL",
        "colab_type": "text"
      },
      "source": [
        "Instructor's work"
      ]
    },
    {
      "cell_type": "code",
      "metadata": {
        "id": "eQm0k1v-0W5o",
        "colab_type": "code",
        "colab": {}
      },
      "source": [
        "db, pdbs = create_db_and_parallels(100)"
      ],
      "execution_count": 0,
      "outputs": []
    },
    {
      "cell_type": "code",
      "metadata": {
        "id": "SspqL6Ui0W5t",
        "colab_type": "code",
        "outputId": "cb2769ca-6789-432d-857b-36d293f84028",
        "colab": {
          "base_uri": "https://localhost:8080/",
          "height": 34
        }
      },
      "source": [
        "true_result = torch.mean(db.float())\n",
        "true_result"
      ],
      "execution_count": 64,
      "outputs": [
        {
          "output_type": "execute_result",
          "data": {
            "text/plain": [
              "tensor(0.3700)"
            ]
          },
          "metadata": {
            "tags": []
          },
          "execution_count": 64
        }
      ]
    },
    {
      "cell_type": "code",
      "metadata": {
        "id": "apv6Z1UP0W50",
        "colab_type": "code",
        "colab": {}
      },
      "source": [
        "def query(db):\n",
        "  \n",
        "  true_result = torch.mean(db.float())\n",
        "  \n",
        "  first_coin_flip = (torch.rand(len(db)) > 0.5).float()\n",
        "  second_coin_flip = (torch.rand(len(db)) > 0.5).float()\n",
        "  \n",
        "  augmented_database = db.float() * first_coin_flip + (1 - first_coin_flip) * second_coin_flip\n",
        "  \n",
        "  # need to de-skew the result\n",
        "  db_result = torch.mean(augmented_database.float()) * 2 - 0.5\n",
        "  \n",
        "  return true_result, db_result"
      ],
      "execution_count": 0,
      "outputs": []
    },
    {
      "cell_type": "code",
      "metadata": {
        "id": "XbjT_4BJfJNY",
        "colab_type": "code",
        "outputId": "2c1fb184-2169-440d-a8cd-0fe5fc796ec8",
        "colab": {
          "base_uri": "https://localhost:8080/",
          "height": 51
        }
      },
      "source": [
        "db, pdbs = create_db_and_parallels(10)\n",
        "true_result, private_result = query(db)\n",
        "print(\"Without Noise: \" + str(true_result))\n",
        "print(\"With Noise: \" + str(private_result))"
      ],
      "execution_count": 66,
      "outputs": [
        {
          "output_type": "stream",
          "text": [
            "Without Noise: tensor(0.3000)\n",
            "With Noise: tensor(0.5000)\n"
          ],
          "name": "stdout"
        }
      ]
    },
    {
      "cell_type": "code",
      "metadata": {
        "id": "gsi1e1xTfXOX",
        "colab_type": "code",
        "outputId": "55a392a3-414d-4bb6-ff1c-a36cec0b0fe6",
        "colab": {
          "base_uri": "https://localhost:8080/",
          "height": 51
        }
      },
      "source": [
        "db, pdbs = create_db_and_parallels(100)\n",
        "true_result, private_result = query(db)\n",
        "print(\"Without Noise: \" + str(true_result))\n",
        "print(\"With Noise: \" + str(private_result))"
      ],
      "execution_count": 67,
      "outputs": [
        {
          "output_type": "stream",
          "text": [
            "Without Noise: tensor(0.3100)\n",
            "With Noise: tensor(0.3200)\n"
          ],
          "name": "stdout"
        }
      ]
    },
    {
      "cell_type": "code",
      "metadata": {
        "id": "vCGsEJ6clApN",
        "colab_type": "code",
        "outputId": "e5e0c6f6-292d-4098-bbdd-ab960bbfe14b",
        "colab": {
          "base_uri": "https://localhost:8080/",
          "height": 51
        }
      },
      "source": [
        "db, pdbs = create_db_and_parallels(1000)\n",
        "true_result, private_result = query(db)\n",
        "print(\"Without Noise: \" + str(true_result))\n",
        "print(\"With Noise: \" + str(private_result))"
      ],
      "execution_count": 68,
      "outputs": [
        {
          "output_type": "stream",
          "text": [
            "Without Noise: tensor(0.2920)\n",
            "With Noise: tensor(0.2480)\n"
          ],
          "name": "stdout"
        }
      ]
    },
    {
      "cell_type": "code",
      "metadata": {
        "id": "JZkJoorXlDCa",
        "colab_type": "code",
        "outputId": "1dff49d6-d747-4916-cf71-794889cd06f6",
        "colab": {
          "base_uri": "https://localhost:8080/",
          "height": 51
        }
      },
      "source": [
        "db, pdbs = create_db_and_parallels(10000)\n",
        "true_result, private_result = query(db)\n",
        "print(\"Without Noise: \" + str(true_result))\n",
        "print(\"With Noise: \" + str(private_result))"
      ],
      "execution_count": 69,
      "outputs": [
        {
          "output_type": "stream",
          "text": [
            "Without Noise: tensor(0.3107)\n",
            "With Noise: tensor(0.2980)\n"
          ],
          "name": "stdout"
        }
      ]
    },
    {
      "cell_type": "markdown",
      "metadata": {
        "id": "tdQ373eR0W57",
        "colab_type": "text"
      },
      "source": [
        "# Project: Varying Amounts of Noise\n",
        "\n",
        "In this project, I want you to augment the randomized response query (the one we just wrote) to allow for varying amounts of randomness to be added. Specifically, I want you to bias the coin flip to be higher or lower and then run the same experiment. \n",
        "\n",
        "Note - this one is a bit tricker than you might expect. You need to both adjust the likelihood of the first coin flip AND the de-skewing at the end (where we create the \"augmented_result\" variable)."
      ]
    },
    {
      "cell_type": "markdown",
      "metadata": {
        "id": "IKqkOfjcv10Z",
        "colab_type": "text"
      },
      "source": [
        "My work"
      ]
    },
    {
      "cell_type": "code",
      "metadata": {
        "id": "KKdN8NE30W5-",
        "colab_type": "code",
        "colab": {}
      },
      "source": [
        "# try this project here!"
      ],
      "execution_count": 0,
      "outputs": []
    },
    {
      "cell_type": "code",
      "metadata": {
        "id": "yHtW0Vph0W6E",
        "colab_type": "code",
        "outputId": "658cb72c-07a0-4721-82a8-655ce7eb33af",
        "colab": {
          "base_uri": "https://localhost:8080/",
          "height": 34
        }
      },
      "source": [
        "db_test = torch.rand(10000) > 0.3\n",
        "db_test_mean = db_test.float().mean()\n",
        "db_test_mean"
      ],
      "execution_count": 71,
      "outputs": [
        {
          "output_type": "execute_result",
          "data": {
            "text/plain": [
              "tensor(0.6976)"
            ]
          },
          "metadata": {
            "tags": []
          },
          "execution_count": 71
        }
      ]
    },
    {
      "cell_type": "code",
      "metadata": {
        "id": "pdZSypTM0W6M",
        "colab_type": "code",
        "colab": {}
      },
      "source": [
        "# local differential privacy function with flexible bias\n",
        "\n",
        "def local_diff_privacy_bias(num_entries, query, bias):\n",
        "  \n",
        "  # create the base database\n",
        "  db = torch.rand(num_entries) > 0.5\n",
        "  \n",
        "  # initialize a list for the locally private instance.\n",
        "  augmented_db_list = list()\n",
        "  noise_factor_list = list() # bias toward orig db\n",
        "  noise_value_list = list() # noise\n",
        "  private_db_list = list()\n",
        "  \n",
        "  # create a for loop that iterates through each entry in the database.\n",
        "  for i in range(len(db)):\n",
        "    \n",
        "    # Flip a coin two times. Let 0 represent tails and 1 represent heads. \n",
        "    c0_noise_factor = (torch.rand(1) > (1 - bias)).float()\n",
        "    c1_noise_value = (torch.rand(1) > 0.5).float()\n",
        "    \n",
        "    # Populate noise factor (bias) and noise value (unbiased coin) databases\n",
        "    noise_factor_list.append(c0_noise_factor)\n",
        "    noise_value_list.append(c1_noise_value)\n",
        "    \n",
        "    # If the first coin flip is heads, answer honestly.\n",
        "    # If the first coin flip is tails, answer according to the second coin flip (heads for yes, tails for no)\n",
        "    if(c0_noise_factor == 1):\n",
        "      augmented_db_list.append(db[i])\n",
        "    else:\n",
        "      augmented_db_list.append(c1_noise_value)\n",
        "  \n",
        "  # convert locally private list to tensor\n",
        "  augmented_db = torch.FloatTensor(augmented_db_list)\n",
        "  noise_factor = torch.FloatTensor(noise_factor_list)\n",
        "  noise_value = torch.FloatTensor(noise_value_list)\n",
        "  \n",
        "  # test\n",
        "  # print(\"original database\")\n",
        "  # print(db)\n",
        "  # print(\"bias factor\")\n",
        "  # print(noise_factor)\n",
        "  # print(\"unbiased coin\")\n",
        "  # print(noise_value)\n",
        "  # print(\"augmented db\")\n",
        "  # print(augmented_db)\n",
        "  \n",
        "  \n",
        "  # calculate the query of the original database, append to output list\n",
        "  # don't have to put .float() here because it's part of the query function's definition.\n",
        "  db_query = query(db)\n",
        "  print(\"Query: original database: \" + str(db_query))\n",
        "  \n",
        "  # calculate the query of the dataset, adjust for skew, append to output list\n",
        "  augmented_db_query = query(augmented_db) # augmented database\n",
        "  noise_factor_query = query(noise_factor) # weighting in favor of original database\n",
        "  noise_value_query = query(noise_value) # random noise (coin flip) database\n",
        "  \n",
        "  print(\"Query: augmented database, unadjusted (skewed): \" + str(augmented_db_query))\n",
        "  print(\"Query: bias: \" + str(noise_factor_query))\n",
        "  print(\"Query: noise: \" + str(noise_value_query))\n",
        "  \n",
        "  # impute private database result from the augmented database result, noise bias, and noise values.\n",
        "  private_db_query = (1 / bias) * (augmented_db_query - (1 - bias)*(noise_value_query))\n",
        "  print(\"Query: augmented database, adjusted (unskewed): \" + str(private_db_query))\n",
        "  \n",
        "  # validation\n",
        "  wtd_private_db = noise_factor_query.float() * private_db_query.float()\n",
        "  wtd_noise = (1 - noise_factor_query.float()) * noise_value_query.float()\n",
        "  \n",
        "  print(\"(bias) * (unskewed db) + (1 - bias) * (noise) = (skewed db)\")\n",
        "  print(\"skewed result = \" + str(wtd_private_db + wtd_noise))\n",
        "  \n",
        "  return db_query, augmented_db_query, noise_factor_query, noise_value_query, private_db_query"
      ],
      "execution_count": 0,
      "outputs": []
    },
    {
      "cell_type": "code",
      "metadata": {
        "id": "D_y-vXgwHe3Z",
        "colab_type": "code",
        "outputId": "15591648-5479-45ab-b25b-037bc23a0c09",
        "colab": {
          "base_uri": "https://localhost:8080/",
          "height": 136
        }
      },
      "source": [
        "bias = 0.5\n",
        "db_query, augmented_db_query, noise_factor_query, noise_value_query, private_db_query = local_diff_privacy_bias(1000, query_mean, bias)\n",
        "\n"
      ],
      "execution_count": 73,
      "outputs": [
        {
          "output_type": "stream",
          "text": [
            "Query: original database: tensor(0.4970)\n",
            "Query: augmented database, unadjusted (skewed): tensor(0.5040)\n",
            "Query: bias: tensor(0.5100)\n",
            "Query: noise: tensor(0.5040)\n",
            "Query: augmented database, adjusted (unskewed): tensor(0.5040)\n",
            "(bias) * (unskewed db) + (1 - bias) * (noise) = (skewed db)\n",
            "skewed result = tensor(0.5040)\n"
          ],
          "name": "stdout"
        }
      ]
    },
    {
      "cell_type": "code",
      "metadata": {
        "id": "43x1qJ8m0W6V",
        "colab_type": "code",
        "outputId": "727d3d65-2318-4b73-8a0a-a60e3e267cff",
        "colab": {
          "base_uri": "https://localhost:8080/",
          "height": 136
        }
      },
      "source": [
        "bias = 0.1\n",
        "db_query, augmented_db_query, noise_factor_query, noise_value_query, private_db_query = local_diff_privacy_bias(1000, query_mean, bias)"
      ],
      "execution_count": 74,
      "outputs": [
        {
          "output_type": "stream",
          "text": [
            "Query: original database: tensor(0.5110)\n",
            "Query: augmented database, unadjusted (skewed): tensor(0.5030)\n",
            "Query: bias: tensor(0.0920)\n",
            "Query: noise: tensor(0.4980)\n",
            "Query: augmented database, adjusted (unskewed): tensor(0.5480)\n",
            "(bias) * (unskewed db) + (1 - bias) * (noise) = (skewed db)\n",
            "skewed result = tensor(0.5026)\n"
          ],
          "name": "stdout"
        }
      ]
    },
    {
      "cell_type": "code",
      "metadata": {
        "id": "r9jKmW2h0W6x",
        "colab_type": "code",
        "outputId": "b8183e3a-6b78-4d45-d15a-02981700f84a",
        "colab": {
          "base_uri": "https://localhost:8080/",
          "height": 136
        }
      },
      "source": [
        "bias = 0.5\n",
        "db_query, augmented_db_query, noise_factor_query, noise_value_query, private_db_query = local_diff_privacy_bias(1000, query_mean, bias)"
      ],
      "execution_count": 75,
      "outputs": [
        {
          "output_type": "stream",
          "text": [
            "Query: original database: tensor(0.5110)\n",
            "Query: augmented database, unadjusted (skewed): tensor(0.5130)\n",
            "Query: bias: tensor(0.5080)\n",
            "Query: noise: tensor(0.4970)\n",
            "Query: augmented database, adjusted (unskewed): tensor(0.5290)\n",
            "(bias) * (unskewed db) + (1 - bias) * (noise) = (skewed db)\n",
            "skewed result = tensor(0.5133)\n"
          ],
          "name": "stdout"
        }
      ]
    },
    {
      "cell_type": "code",
      "metadata": {
        "id": "K7tB3pTp0W6-",
        "colab_type": "code",
        "outputId": "c3b09f43-3986-4a68-8c0c-f7878aff7d92",
        "colab": {
          "base_uri": "https://localhost:8080/",
          "height": 136
        }
      },
      "source": [
        "bias = 0.9\n",
        "db_query, augmented_db_query, noise_factor_query, noise_value_query, private_db_query = local_diff_privacy_bias(1000, query_mean, bias)"
      ],
      "execution_count": 76,
      "outputs": [
        {
          "output_type": "stream",
          "text": [
            "Query: original database: tensor(0.4820)\n",
            "Query: augmented database, unadjusted (skewed): tensor(0.4730)\n",
            "Query: bias: tensor(0.9150)\n",
            "Query: noise: tensor(0.4830)\n",
            "Query: augmented database, adjusted (unskewed): tensor(0.4719)\n",
            "(bias) * (unskewed db) + (1 - bias) * (noise) = (skewed db)\n",
            "skewed result = tensor(0.4728)\n"
          ],
          "name": "stdout"
        }
      ]
    },
    {
      "cell_type": "markdown",
      "metadata": {
        "id": "UJUwdxaKyKa1",
        "colab_type": "text"
      },
      "source": [
        "Instructor's work"
      ]
    },
    {
      "cell_type": "code",
      "metadata": {
        "id": "BAftzkFl0W7R",
        "colab_type": "code",
        "colab": {}
      },
      "source": [
        "def query(db, noise):\n",
        "  \n",
        "  true_result = torch.mean(db.float())\n",
        "  \n",
        "  first_coin_flip = (torch.rand(len(db)) > noise).float()\n",
        "  second_coin_flip = (torch.rand(len(db)) > 0.5).float()\n",
        "  \n",
        "  augmented_database = db.float() * first_coin_flip + (1 - first_coin_flip) * second_coin_flip\n",
        "  \n",
        "  # skewed result\n",
        "  sk_result = augmented_database.float().mean()\n",
        "  \n",
        "  private_result = ((sk_result / noise) - 0.5) * noise / (1-noise)\n",
        "  \n",
        "  # need to de-skew the result\n",
        "  # db_result = torch.mean(augmented_database.float()) * 2 - 0.5\n",
        "  \n",
        "  return private_result, true_result"
      ],
      "execution_count": 0,
      "outputs": []
    },
    {
      "cell_type": "code",
      "metadata": {
        "id": "jzCqEJ7R0W7w",
        "colab_type": "code",
        "outputId": "779e2db5-927a-4a26-b96e-613f7b1d3701",
        "colab": {
          "base_uri": "https://localhost:8080/",
          "height": 51
        }
      },
      "source": [
        "noise = 0.1\n",
        "db, pdbs = create_db_and_parallels(100)\n",
        "private_result, true_result = query(db, noise)\n",
        "print(\"With Noise: \" + str(private_result))\n",
        "print(\"Without Noise: \" + str(true_result))"
      ],
      "execution_count": 78,
      "outputs": [
        {
          "output_type": "stream",
          "text": [
            "With Noise: tensor(0.3667)\n",
            "Without Noise: tensor(0.3800)\n"
          ],
          "name": "stdout"
        }
      ]
    },
    {
      "cell_type": "code",
      "metadata": {
        "id": "CxDxe7JY0W8A",
        "colab_type": "code",
        "outputId": "4d8cb5b6-4d30-447f-e036-dae049c7b7d2",
        "colab": {
          "base_uri": "https://localhost:8080/",
          "height": 51
        }
      },
      "source": [
        "noise = 0.2\n",
        "db, pdbs = create_db_and_parallels(100)\n",
        "private_result, true_result = query(db, noise)\n",
        "print(\"With Noise: \" + str(private_result))\n",
        "print(\"Without Noise: \" + str(true_result))"
      ],
      "execution_count": 79,
      "outputs": [
        {
          "output_type": "stream",
          "text": [
            "With Noise: tensor(0.4000)\n",
            "Without Noise: tensor(0.3500)\n"
          ],
          "name": "stdout"
        }
      ]
    },
    {
      "cell_type": "code",
      "metadata": {
        "id": "0dElJuSK0W8K",
        "colab_type": "code",
        "outputId": "bdaab0ed-1227-47fa-c31e-e542a1376f32",
        "colab": {
          "base_uri": "https://localhost:8080/",
          "height": 51
        }
      },
      "source": [
        "noise = 0.4\n",
        "db, pdbs = create_db_and_parallels(100)\n",
        "private_result, true_result = query(db, noise)\n",
        "print(\"With Noise: \" + str(private_result))\n",
        "print(\"Without Noise: \" + str(true_result))"
      ],
      "execution_count": 80,
      "outputs": [
        {
          "output_type": "stream",
          "text": [
            "With Noise: tensor(0.3667)\n",
            "Without Noise: tensor(0.3700)\n"
          ],
          "name": "stdout"
        }
      ]
    },
    {
      "cell_type": "code",
      "metadata": {
        "id": "VvVpbQB5Rwxg",
        "colab_type": "code",
        "outputId": "d837af29-59c0-48b2-d64f-30e281734dbc",
        "colab": {
          "base_uri": "https://localhost:8080/",
          "height": 51
        }
      },
      "source": [
        "noise = 0.8\n",
        "db, pdbs = create_db_and_parallels(100)\n",
        "private_result, true_result = query(db, noise)\n",
        "print(\"With Noise: \" + str(private_result))\n",
        "print(\"Without Noise: \" + str(true_result))"
      ],
      "execution_count": 81,
      "outputs": [
        {
          "output_type": "stream",
          "text": [
            "With Noise: tensor(0.3500)\n",
            "Without Noise: tensor(0.3600)\n"
          ],
          "name": "stdout"
        }
      ]
    },
    {
      "cell_type": "code",
      "metadata": {
        "id": "anuCRQfORzX6",
        "colab_type": "code",
        "outputId": "0c3deb88-feca-47c2-eb99-33bf8b084be9",
        "colab": {
          "base_uri": "https://localhost:8080/",
          "height": 51
        }
      },
      "source": [
        "# convergence when increase size of dataset\n",
        "# thus, the larger the dataset, the more privacy you can add.\n",
        "noise = 0.1\n",
        "db, pdbs = create_db_and_parallels(10000)\n",
        "private_result, true_result = query(db, noise)\n",
        "print(\"With Noise: \" + str(private_result))\n",
        "print(\"Without Noise: \" + str(true_result))"
      ],
      "execution_count": 82,
      "outputs": [
        {
          "output_type": "stream",
          "text": [
            "With Noise: tensor(0.3108)\n",
            "Without Noise: tensor(0.3103)\n"
          ],
          "name": "stdout"
        }
      ]
    },
    {
      "cell_type": "markdown",
      "metadata": {
        "id": "20dQeWpq0W8l",
        "colab_type": "text"
      },
      "source": [
        "# Lesson: The Formal Definition of Differential Privacy\n",
        "\n",
        "The previous method of adding noise was called \"Local Differentail Privacy\" because we added noise to each datapoint individually. This is necessary for some situations wherein the data is SO sensitive that individuals do not trust noise to be added later. However, it comes at a very high cost in terms of accuracy. \n",
        "\n",
        "However, alternatively we can add noise AFTER data has been aggregated by a function. This kind of noise can allow for similar levels of protection with a lower affect on accuracy. However, participants must be able to trust that no-one looked at their datapoints _before_ the aggregation took place. In some situations this works out well, in others (such as an individual hand-surveying a group of people), this is less realistic.\n",
        "\n",
        "Nevertheless, global differential privacy is incredibly important because it allows us to perform differential privacy on smaller groups of individuals with lower amounts of noise. Let's revisit our sum functions."
      ]
    },
    {
      "cell_type": "code",
      "metadata": {
        "id": "0YTIISU40W8q",
        "colab_type": "code",
        "colab": {}
      },
      "source": [
        "# db, pdbs = create_db_and_parallels(100)\n",
        "\n",
        "# def query(db):\n",
        "#     return torch.sum(db.float())\n",
        "\n",
        "# def M(db):\n",
        "#    query(db) + noise\n",
        "\n",
        "# query(db)"
      ],
      "execution_count": 0,
      "outputs": []
    },
    {
      "cell_type": "markdown",
      "metadata": {
        "id": "M3vozRGL0W8y",
        "colab_type": "text"
      },
      "source": [
        "So the idea here is that we want to add noise to the output of our function. We actually have two different kinds of noise we can add - Laplacian Noise or Gaussian Noise. However, before we do so at this point we need to dive into the formal definition of Differential Privacy.\n",
        "\n",
        "![alt text](dp_formula.png \"Title\")"
      ]
    },
    {
      "cell_type": "markdown",
      "metadata": {
        "id": "3azsdR1P0W81",
        "colab_type": "text"
      },
      "source": [
        "_Image From: \"The Algorithmic Foundations of Differential Privacy\" - Cynthia Dwork and Aaron Roth - https://www.cis.upenn.edu/~aaroth/Papers/privacybook.pdf_"
      ]
    },
    {
      "cell_type": "markdown",
      "metadata": {
        "id": "W3vT3Lf30W83",
        "colab_type": "text"
      },
      "source": [
        "This definition does not _create_ differential privacy, instead it is a measure of how much privacy is afforded by a query M. Specifically, it's a comparison between running the query M on a database (x) and a parallel database (y). As you remember, parallel databases are defined to be the same as a full database (x) with one entry/person removed.\n",
        "\n",
        "Thus, this definition says that FOR ALL parallel databases, the maximum distance between a query on database (x) and the same query on database (y) will be e^epsilon, but that occasionally this constraint won't hold with probability delta. Thus, this theorem is called \"epsilon delta\" differential privacy.\n",
        "\n",
        "# Epsilon\n",
        "\n",
        "Let's unpack the intuition of this for a moment. \n",
        "\n",
        "Epsilon Zero: If a query satisfied this inequality where epsilon was set to 0, then that would mean that the query for all parallel databases outputed the exact same value as the full database. As you may remember, when we calculated the \"threshold\" function, often the Sensitivity was 0. In that case, the epsilon also happened to be zero.\n",
        "\n",
        "Epsilon One: If a query satisfied this inequality with epsilon 1, then the maximum distance between all queries would be 1 - or more precisely - the maximum distance between the two random distributions M(x) and M(y) is 1 (because all these queries have some amount of randomness in them, just like we observed in the last section).\n",
        "\n",
        "# Delta\n",
        "\n",
        "Delta is basically the probability that epsilon breaks. Namely, sometimes the epsilon is different for some queries than it is for others. For example, you may remember when we were calculating the sensitivity of threshold, most of the time sensitivity was 0 but sometimes it was 1. Thus, we could calculate this as \"epsilon zero but non-zero delta\" which would say that epsilon is perfect except for some probability of the time when it's arbitrarily higher. Note that this expression doesn't represent the full tradeoff between epsilon and delta."
      ]
    },
    {
      "cell_type": "markdown",
      "metadata": {
        "id": "LmBp-Wfi0W84",
        "colab_type": "text"
      },
      "source": [
        "# Lesson: How To Add Noise for Global Differential Privacy\n",
        "\n",
        "In this lesson, we're going to learn about how to take a query and add varying amounts of noise so that it satisfies a certain degree of differential privacy. In particular, we're going to leave behind the Local Differential privacy previously discussed and instead opt to focus on Global differential privacy. \n",
        "\n",
        "So, to sum up, this lesson is about adding noise to the output of our query so that it satisfies a certain epsilon-delta differential privacy threshold.\n",
        "\n",
        "There are two kinds of noise we can add - Gaussian Noise or Laplacian Noise. Generally speaking Laplacian is better, but both are still valid. Now to the hard question...\n",
        "\n",
        "### How much noise should we add?\n",
        "\n",
        "The amount of noise necessary to add to the output of a query is a function of four things:\n",
        "\n",
        "- the type of noise (Gaussian/Laplacian)\n",
        "- the sensitivity of the query/function\n",
        "- the desired epsilon (ε)\n",
        "- the desired delta (δ)\n",
        "\n",
        "Thus, for each type of noise we're adding, we have different way of calculating how much to add as a function of sensitivity, epsilon, and delta. We're going to focus on Laplacian noise. Laplacian noise is increased/decreased according to a \"scale\" parameter b. We choose \"b\" based on the following formula.\n",
        "\n",
        "b = sensitivity(query) / epsilon\n",
        "\n",
        "In other words, if we set b to be this value, then we know that we will have a privacy leakage of <= epsilon. Furthermore, the nice thing about Laplace is that it guarantees this with delta == 0. There are some tunings where we can have very low epsilon where delta is non-zero, but we'll ignore them for now.\n",
        "\n",
        "### Querying Repeatedly\n",
        "\n",
        "- if we query the database multiple times - we can simply add the epsilons (Even if we change the amount of noise and their epsilons are not the same)."
      ]
    },
    {
      "cell_type": "markdown",
      "metadata": {
        "id": "v0_XrQs8qcdj",
        "colab_type": "text"
      },
      "source": [
        "My work"
      ]
    },
    {
      "cell_type": "code",
      "metadata": {
        "id": "tRddyzkq0W86",
        "colab_type": "code",
        "outputId": "2c4e80af-3329-47c0-8a24-b3f49b8e8efa",
        "colab": {
          "base_uri": "https://localhost:8080/",
          "height": 51
        }
      },
      "source": [
        "# set a number of entries\n",
        "n = 10000\n",
        "\n",
        "# define epsilon, bounded between 0 and 1\n",
        "e = 0.5\n",
        "\n",
        "# create the base database\n",
        "db = torch.rand(n) > 0.5\n",
        "\n",
        "# define the query functions\n",
        "def query_sum(db):\n",
        "  return db.sum()\n",
        "\n",
        "def query_mean(db):\n",
        "  return db.float().mean()\n",
        "\n",
        "# define sensitivities\n",
        "s_sum = 1\n",
        "print(s_sum)\n",
        "\n",
        "s_mean = ((1 + 0) / 2) / n\n",
        "print(s_mean)"
      ],
      "execution_count": 84,
      "outputs": [
        {
          "output_type": "stream",
          "text": [
            "1\n",
            "5e-05\n"
          ],
          "name": "stdout"
        }
      ]
    },
    {
      "cell_type": "code",
      "metadata": {
        "id": "SPXFP8-E2FLs",
        "colab_type": "code",
        "outputId": "db91a205-675f-46fe-cf3d-705424244464",
        "colab": {
          "base_uri": "https://localhost:8080/",
          "height": 51
        }
      },
      "source": [
        "# define scale parameter beta for each query method:\n",
        "b_sum = s_sum / e\n",
        "b_mean = s_mean / e\n",
        "\n",
        "print(b_sum)\n",
        "print(b_mean)"
      ],
      "execution_count": 85,
      "outputs": [
        {
          "output_type": "stream",
          "text": [
            "2.0\n",
            "0.0001\n"
          ],
          "name": "stdout"
        }
      ]
    },
    {
      "cell_type": "code",
      "metadata": {
        "id": "VVXgj9pk428_",
        "colab_type": "code",
        "outputId": "61cfa90c-61a2-453a-a0da-16669790f888",
        "colab": {
          "base_uri": "https://localhost:8080/",
          "height": 119
        }
      },
      "source": [
        "# https://discuss.pytorch.org/t/gpytorch-runtimeerror-expected-backend-cpu-and-dtype-double-but-got-backend-cpu-and-dtype-float/44309/2\n",
        "\n",
        "lpl = np.random.laplace(0, 1, n)\n",
        "noise = torch.tensor(lpl * b_sum)\n",
        "print(noise)\n",
        "print(noise.shape)\n",
        "print(db.shape)\n",
        "print(noise.double() + db.double())"
      ],
      "execution_count": 86,
      "outputs": [
        {
          "output_type": "stream",
          "text": [
            "tensor([-1.7420,  3.0316,  0.8927,  ..., -0.9474,  4.7084, -1.8309],\n",
            "       dtype=torch.float64)\n",
            "torch.Size([10000])\n",
            "torch.Size([10000])\n",
            "tensor([-1.7420,  4.0316,  1.8927,  ..., -0.9474,  4.7084, -0.8309],\n",
            "       dtype=torch.float64)\n"
          ],
          "name": "stdout"
        }
      ]
    },
    {
      "cell_type": "code",
      "metadata": {
        "id": "6l7TY1SY3VPp",
        "colab_type": "code",
        "colab": {}
      },
      "source": [
        "def M(query, e, s):\n",
        "  # create the base database\n",
        "  db = torch.rand(n) > 0.5\n",
        "  \n",
        "  # calculate the noise, using beta as the spread paramater on the Laplacian distribution\n",
        "  b = s / e\n",
        "  lpl = np.random.laplace(0, b, 1)\n",
        "  noise = torch.tensor(lpl)\n",
        "  \n",
        "  # calculate the original result of the query\n",
        "  q = query(db)\n",
        "  \n",
        "  # calulate the noise-enhanced result of the query\n",
        "  m = query(db) + noise\n",
        "  \n",
        "  return q, m"
      ],
      "execution_count": 0,
      "outputs": []
    },
    {
      "cell_type": "code",
      "metadata": {
        "id": "Z_jAotQz6VvI",
        "colab_type": "code",
        "outputId": "fc720f0f-9978-48bb-e6b2-238c2a06c1dc",
        "colab": {
          "base_uri": "https://localhost:8080/",
          "height": 51
        }
      },
      "source": [
        "q_sum, m_sum = M(query_sum, e=0.5, s=1)\n",
        "print(q_sum)\n",
        "print(m_sum)"
      ],
      "execution_count": 88,
      "outputs": [
        {
          "output_type": "stream",
          "text": [
            "tensor(5014)\n",
            "tensor([5012.7787], dtype=torch.float64)\n"
          ],
          "name": "stdout"
        }
      ]
    },
    {
      "cell_type": "code",
      "metadata": {
        "id": "xM_jNtUp-1_G",
        "colab_type": "code",
        "outputId": "239a7ace-68c4-48d7-e0e1-8bac5f8af974",
        "colab": {
          "base_uri": "https://localhost:8080/",
          "height": 51
        }
      },
      "source": [
        "s_mean = ((1 + 0) / 2) / n\n",
        "q_mean, m_mean = M(query_mean, e=0.5, s=s_mean)\n",
        "print(q_mean)\n",
        "print(m_mean)"
      ],
      "execution_count": 89,
      "outputs": [
        {
          "output_type": "stream",
          "text": [
            "tensor(0.4963)\n",
            "tensor([0.4962], dtype=torch.float64)\n"
          ],
          "name": "stdout"
        }
      ]
    },
    {
      "cell_type": "markdown",
      "metadata": {
        "id": "j5sqkZ1OoVL7",
        "colab_type": "text"
      },
      "source": [
        "Instructor's work in next section."
      ]
    },
    {
      "cell_type": "code",
      "metadata": {
        "id": "zOuacS94oX-T",
        "colab_type": "code",
        "colab": {}
      },
      "source": [
        ""
      ],
      "execution_count": 0,
      "outputs": []
    },
    {
      "cell_type": "markdown",
      "metadata": {
        "id": "ZhTSI5pB0W9A",
        "colab_type": "text"
      },
      "source": [
        "# Project: Create a Differentially Private Query\n",
        "\n",
        "In this project, I want you to take what you learned in the previous lesson and create a query function which sums over the database and adds just the right amount of noise such that it satisfies an epsilon constraint. Write a query for both \"sum\" and for \"mean\". Ensure that you use the correct sensitivity measures for both."
      ]
    },
    {
      "cell_type": "code",
      "metadata": {
        "id": "XAhZQqBF0W9B",
        "colab_type": "code",
        "colab": {}
      },
      "source": [
        "# try this project here!"
      ],
      "execution_count": 0,
      "outputs": []
    },
    {
      "cell_type": "markdown",
      "metadata": {
        "id": "gjreUCdJo6rP",
        "colab_type": "text"
      },
      "source": [
        "Instructor's work"
      ]
    },
    {
      "cell_type": "code",
      "metadata": {
        "id": "6968xZOn0W9O",
        "colab_type": "code",
        "colab": {}
      },
      "source": [
        "epsilon = 0.5"
      ],
      "execution_count": 0,
      "outputs": []
    },
    {
      "cell_type": "code",
      "metadata": {
        "id": "Wb5hWgAb0W9U",
        "colab_type": "code",
        "colab": {}
      },
      "source": [
        "import numpy as np"
      ],
      "execution_count": 0,
      "outputs": []
    },
    {
      "cell_type": "code",
      "metadata": {
        "id": "0pLy4IgS0W9d",
        "colab_type": "code",
        "colab": {}
      },
      "source": [
        "db, pdbs = create_db_and_parallels(100)"
      ],
      "execution_count": 0,
      "outputs": []
    },
    {
      "cell_type": "code",
      "metadata": {
        "id": "ge_UJDti0W9i",
        "colab_type": "code",
        "outputId": "57ffa299-d2b3-4c89-a30f-a4f9b34a6b81",
        "colab": {
          "base_uri": "https://localhost:8080/",
          "height": 102
        }
      },
      "source": [
        "db"
      ],
      "execution_count": 94,
      "outputs": [
        {
          "output_type": "execute_result",
          "data": {
            "text/plain": [
              "tensor([0, 0, 0, 0, 0, 1, 1, 0, 1, 0, 0, 0, 1, 0, 0, 0, 0, 0, 0, 0, 0, 0, 0, 0,\n",
              "        0, 0, 0, 1, 0, 0, 0, 0, 1, 0, 0, 1, 0, 0, 1, 0, 0, 0, 0, 1, 0, 1, 0, 1,\n",
              "        0, 0, 0, 0, 0, 0, 1, 1, 0, 0, 1, 1, 0, 0, 1, 0, 0, 0, 1, 1, 0, 0, 0, 0,\n",
              "        0, 0, 0, 0, 0, 0, 1, 0, 1, 0, 0, 0, 0, 0, 0, 0, 1, 0, 0, 0, 0, 1, 0, 1,\n",
              "        0, 0, 0, 0], dtype=torch.uint8)"
            ]
          },
          "metadata": {
            "tags": []
          },
          "execution_count": 94
        }
      ]
    },
    {
      "cell_type": "code",
      "metadata": {
        "id": "OT213R_G0W9m",
        "colab_type": "code",
        "colab": {}
      },
      "source": [
        "def sum_query(db):\n",
        "  return db.sum()\n",
        "\n",
        "def mean_query(db):\n",
        "  return torch.mean(db.float())"
      ],
      "execution_count": 0,
      "outputs": []
    },
    {
      "cell_type": "code",
      "metadata": {
        "id": "Ub7xjHYa0W9t",
        "colab_type": "code",
        "colab": {}
      },
      "source": [
        "def laplacian_mechanism(db, query, sensitivity):\n",
        "  beta = sensitivity / epsilon\n",
        "  noise = torch.tensor(np.random.laplace(0, beta, 1))\n",
        "  return query(db) + noise\n",
        "  "
      ],
      "execution_count": 0,
      "outputs": []
    },
    {
      "cell_type": "code",
      "metadata": {
        "id": "kKZXqFNO0W9z",
        "colab_type": "code",
        "outputId": "b731ef92-dc68-4566-f351-df260fb740a2",
        "colab": {
          "base_uri": "https://localhost:8080/",
          "height": 34
        }
      },
      "source": [
        "laplacian_mechanism(db, sum_query, 1)"
      ],
      "execution_count": 97,
      "outputs": [
        {
          "output_type": "execute_result",
          "data": {
            "text/plain": [
              "tensor([23.6449], dtype=torch.float64)"
            ]
          },
          "metadata": {
            "tags": []
          },
          "execution_count": 97
        }
      ]
    },
    {
      "cell_type": "code",
      "metadata": {
        "id": "itUPTguH0W93",
        "colab_type": "code",
        "outputId": "c69c34d7-7133-4790-b763-735d2743affb",
        "colab": {
          "base_uri": "https://localhost:8080/",
          "height": 34
        }
      },
      "source": [
        "sum_query(db)"
      ],
      "execution_count": 98,
      "outputs": [
        {
          "output_type": "execute_result",
          "data": {
            "text/plain": [
              "tensor(23)"
            ]
          },
          "metadata": {
            "tags": []
          },
          "execution_count": 98
        }
      ]
    },
    {
      "cell_type": "code",
      "metadata": {
        "id": "nb6jdDkguyPN",
        "colab_type": "code",
        "outputId": "4f2719e3-918e-4b48-930d-b8f5ccf1cbfc",
        "colab": {
          "base_uri": "https://localhost:8080/",
          "height": 34
        }
      },
      "source": [
        "laplacian_mechanism(db, mean_query, 1/100)"
      ],
      "execution_count": 99,
      "outputs": [
        {
          "output_type": "execute_result",
          "data": {
            "text/plain": [
              "tensor([0.2101], dtype=torch.float64)"
            ]
          },
          "metadata": {
            "tags": []
          },
          "execution_count": 99
        }
      ]
    },
    {
      "cell_type": "code",
      "metadata": {
        "id": "HEkOLUCwu3Uh",
        "colab_type": "code",
        "outputId": "151feffd-8acd-4abc-dc7e-645e9a5e8106",
        "colab": {
          "base_uri": "https://localhost:8080/",
          "height": 34
        }
      },
      "source": [
        "mean_query(db)"
      ],
      "execution_count": 100,
      "outputs": [
        {
          "output_type": "execute_result",
          "data": {
            "text/plain": [
              "tensor(0.2300)"
            ]
          },
          "metadata": {
            "tags": []
          },
          "execution_count": 100
        }
      ]
    },
    {
      "cell_type": "markdown",
      "metadata": {
        "id": "WM3KVtf20W9_",
        "colab_type": "text"
      },
      "source": [
        "# Lesson: Differential Privacy for Deep Learning\n",
        "\n",
        "So in the last lessons you may have been wondering - what does all of this have to do with Deep Learning? Well, these same techniques we were just studying form the core primitives for how Differential Privacy provides guarantees in the context of Deep Learning. \n",
        "\n",
        "Previously, we defined perfect privacy as \"a query to a database returns the same value even if we remove any person from the database\", and used this intuition in the description of epsilon/delta. In the context of deep learning we have a similar standard.\n",
        "\n",
        "Training a model on a dataset should return the same model even if we remove any person from the dataset.\n",
        "\n",
        "Thus, we've replaced \"querying a database\" with \"training a model on a dataset\". In essence, the training process is a kind of query. However, one should note that this adds two points of complexity which database queries did not have:\n",
        "\n",
        "    1. do we always know where \"people\" are referenced in the dataset?\n",
        "    2. neural models rarely never train to the same output model, even on identical data\n",
        "\n",
        "The answer to (1) is to treat each training example as a single, separate person. Strictly speaking, this is often overly zealous as some training examples have no relevance to people and others may have multiple/partial (consider an image with multiple people contained within it). Thus, localizing exactly where \"people\" are referenced, and thus how much your model would change if people were removed, is challenging.\n",
        "\n",
        "The answer to (2) is also an open problem - but several interesitng proposals have been made. We're going to focus on one of the most popular proposals, PATE.\n",
        "\n",
        "## An Example Scenario: A Health Neural Network\n",
        "\n",
        "First we're going to consider a scenario - you work for a hospital and you have a large collection of images about your patients. However, you don't know what's in them. You would like to use these images to develop a neural network which can automatically classify them, however since your images aren't labeled, they aren't sufficient to train a classifier. \n",
        "\n",
        "However, being a cunning strategist, you realize that you can reach out to 10 partner hospitals which DO have annotated data. It is your hope to train your new classifier on their datasets so that you can automatically label your own. While these hospitals are interested in helping, they have privacy concerns regarding information about their patients. Thus, you will use the following technique to train a classifier which protects the privacy of patients in the other hospitals.\n",
        "\n",
        "- 1) You'll ask each of the 10 hospitals to train a model on their own datasets (All of which have the same kinds of labels)\n",
        "- 2) You'll then use each of the 10 partner models to predict on your local dataset, generating 10 labels for each of your datapoints\n",
        "- 3) Then, for each local data point (now with 10 labels), you will perform a DP query to generate the final true label. This query is a \"max\" function, where \"max\" is the most frequent label across the 10 labels. We will need to add laplacian noise to make this Differentially Private to a certain epsilon/delta constraint.\n",
        "- 4) Finally, we will retrain a new model on our local dataset which now has labels. This will be our final \"DP\" model.\n",
        "\n",
        "So, let's walk through these steps. I will assume you're already familiar with how to train/predict a deep neural network, so we'll skip steps 1 and 2 and work with example data. We'll focus instead on step 3, namely how to perform the DP query for each example using toy data.\n",
        "\n",
        "So, let's say we have 10,000 training examples, and we've got 10 labels for each example (from our 10 \"teacher models\" which were trained directly on private data). Each label is chosen from a set of 10 possible labels (categories) for each image."
      ]
    },
    {
      "cell_type": "code",
      "metadata": {
        "id": "QCsUPx4N0W-E",
        "colab_type": "code",
        "colab": {}
      },
      "source": [
        "import numpy as np"
      ],
      "execution_count": 0,
      "outputs": []
    },
    {
      "cell_type": "code",
      "metadata": {
        "id": "9Yd7hurJ0W-J",
        "colab_type": "code",
        "colab": {}
      },
      "source": [
        "num_teachers = 10 # we're working with 10 partner hospitals\n",
        "num_examples = 10000 # the size of OUR dataset\n",
        "num_labels = 10 # number of lablels for our classifier"
      ],
      "execution_count": 0,
      "outputs": []
    },
    {
      "cell_type": "code",
      "metadata": {
        "id": "4FOUJE070W-U",
        "colab_type": "code",
        "colab": {}
      },
      "source": [
        "preds = (np.random.rand(num_teachers, num_examples) * num_labels).astype(int).transpose(1,0) # fake predictions"
      ],
      "execution_count": 0,
      "outputs": []
    },
    {
      "cell_type": "code",
      "metadata": {
        "id": "2hnCeYRM0W-g",
        "colab_type": "code",
        "colab": {}
      },
      "source": [
        "new_labels = list()\n",
        "for an_image in preds:\n",
        "\n",
        "    label_counts = np.bincount(an_image, minlength=num_labels)\n",
        "\n",
        "    epsilon = 0.1\n",
        "    beta = 1 / epsilon\n",
        "\n",
        "    for i in range(len(label_counts)):\n",
        "        label_counts[i] += np.random.laplace(0, beta, 1)\n",
        "\n",
        "    new_label = np.argmax(label_counts)\n",
        "    \n",
        "    new_labels.append(new_label)"
      ],
      "execution_count": 0,
      "outputs": []
    },
    {
      "cell_type": "code",
      "metadata": {
        "id": "Dt3ae5Vc0W-l",
        "colab_type": "code",
        "colab": {}
      },
      "source": [
        "# new_labels"
      ],
      "execution_count": 0,
      "outputs": []
    },
    {
      "cell_type": "markdown",
      "metadata": {
        "id": "WbwOj6K_0W-v",
        "colab_type": "text"
      },
      "source": [
        "# PATE Analysis"
      ]
    },
    {
      "cell_type": "code",
      "metadata": {
        "id": "QiC5LMSy0W-w",
        "colab_type": "code",
        "outputId": "627ce43e-78a4-48a1-ba06-a6a49a5f8c30",
        "colab": {
          "base_uri": "https://localhost:8080/",
          "height": 34
        }
      },
      "source": [
        "labels = np.array([9, 9, 3, 6, 9, 9, 9, 9, 8, 2])\n",
        "counts = np.bincount(labels, minlength=10)\n",
        "query_result = np.argmax(counts)\n",
        "query_result"
      ],
      "execution_count": 106,
      "outputs": [
        {
          "output_type": "execute_result",
          "data": {
            "text/plain": [
              "9"
            ]
          },
          "metadata": {
            "tags": []
          },
          "execution_count": 106
        }
      ]
    },
    {
      "cell_type": "code",
      "metadata": {
        "id": "bsf9dECr0W-3",
        "colab_type": "code",
        "outputId": "45a4904a-f1d9-4567-d2f2-d94af0997073",
        "colab": {
          "base_uri": "https://localhost:8080/",
          "height": 105
        }
      },
      "source": [
        "from syft.frameworks.torch.differential_privacy import pate"
      ],
      "execution_count": 107,
      "outputs": [
        {
          "output_type": "stream",
          "text": [
            "WARNING: Logging before flag parsing goes to stderr.\n",
            "W0704 22:37:17.986018 140683261495168 secure_random.py:26] Falling back to insecure randomness since the required custom op could not be found for the installed version of TensorFlow. Fix this by compiling custom ops. Missing file was '/usr/local/lib/python3.6/dist-packages/tf_encrypted/operations/secure_random/secure_random_module_tf_1.14.0.so'\n",
            "W0704 22:37:18.000128 140683261495168 deprecation_wrapper.py:119] From /usr/local/lib/python3.6/dist-packages/tf_encrypted/session.py:26: The name tf.Session is deprecated. Please use tf.compat.v1.Session instead.\n",
            "\n"
          ],
          "name": "stderr"
        }
      ]
    },
    {
      "cell_type": "code",
      "metadata": {
        "id": "ln96irF-0W_A",
        "colab_type": "code",
        "outputId": "3020b2ef-bfde-4dc0-d006-249d4f69a1eb",
        "colab": {
          "base_uri": "https://localhost:8080/",
          "height": 34
        }
      },
      "source": [
        "num_teachers, num_examples, num_labels = (100, 100, 10)\n",
        "preds = (np.random.rand(num_teachers, num_examples) * num_labels).astype(int) #fake preds\n",
        "indices = (np.random.rand(num_examples) * num_labels).astype(int) # true answers\n",
        "\n",
        "preds[:,0:10] *= 0\n",
        "\n",
        "data_dep_eps, data_ind_eps = pate.perform_analysis(teacher_preds=preds, indices=indices, noise_eps=0.1, delta=1e-5)\n",
        "\n",
        "assert data_dep_eps < data_ind_eps\n",
        "\n"
      ],
      "execution_count": 108,
      "outputs": [
        {
          "output_type": "stream",
          "text": [
            "Warning: May not have used enough values of l. Increase 'moments' variable and run again.\n"
          ],
          "name": "stdout"
        }
      ]
    },
    {
      "cell_type": "code",
      "metadata": {
        "id": "MiJQZP-J0W_L",
        "colab_type": "code",
        "outputId": "f72d2694-66f3-4052-f30c-7705e0a40029",
        "colab": {
          "base_uri": "https://localhost:8080/",
          "height": 68
        }
      },
      "source": [
        "data_dep_eps, data_ind_eps = pate.perform_analysis(teacher_preds=preds, indices=indices, noise_eps=0.1, delta=1e-5)\n",
        "print(\"Data Independent Epsilon:\", data_ind_eps)\n",
        "print(\"Data Dependent Epsilon:\", data_dep_eps)"
      ],
      "execution_count": 109,
      "outputs": [
        {
          "output_type": "stream",
          "text": [
            "Warning: May not have used enough values of l. Increase 'moments' variable and run again.\n",
            "Data Independent Epsilon: 11.756462732485115\n",
            "Data Dependent Epsilon: 1.52655213289881\n"
          ],
          "name": "stdout"
        }
      ]
    },
    {
      "cell_type": "code",
      "metadata": {
        "id": "JzxddNaf0W_W",
        "colab_type": "code",
        "colab": {}
      },
      "source": [
        "preds[:,0:50] *= 0"
      ],
      "execution_count": 0,
      "outputs": []
    },
    {
      "cell_type": "code",
      "metadata": {
        "id": "KZWPrS6s0W_a",
        "colab_type": "code",
        "outputId": "c5e8ecbe-2a06-4d0f-f028-b99cf2a8e23a",
        "colab": {
          "base_uri": "https://localhost:8080/",
          "height": 51
        }
      },
      "source": [
        "data_dep_eps, data_ind_eps = pate.perform_analysis(teacher_preds=preds, indices=indices, noise_eps=0.1, delta=1e-5, moments=20)\n",
        "print(\"Data Independent Epsilon:\", data_ind_eps)\n",
        "print(\"Data Dependent Epsilon:\", data_dep_eps)"
      ],
      "execution_count": 111,
      "outputs": [
        {
          "output_type": "stream",
          "text": [
            "Data Independent Epsilon: 11.756462732485115\n",
            "Data Dependent Epsilon: 0.9029013677789843\n"
          ],
          "name": "stdout"
        }
      ]
    },
    {
      "cell_type": "code",
      "metadata": {
        "id": "iN5MX-Ab0W_l",
        "colab_type": "code",
        "colab": {}
      },
      "source": [
        ""
      ],
      "execution_count": 0,
      "outputs": []
    },
    {
      "cell_type": "markdown",
      "metadata": {
        "id": "5hyaZCoM0W_q",
        "colab_type": "text"
      },
      "source": [
        "# Where to Go From Here\n",
        "\n",
        "\n",
        "Read:\n",
        "    - Algorithmic Foundations of Differential Privacy: https://www.cis.upenn.edu/~aaroth/Papers/privacybook.pdf\n",
        "    - Deep Learning with Differential Privacy: https://arxiv.org/pdf/1607.00133.pdf\n",
        "    - The Ethical Algorithm: https://www.amazon.com/Ethical-Algorithm-Science-Socially-Design/dp/0190948205\n",
        "   \n",
        "Topics:\n",
        "    - The Exponential Mechanism\n",
        "    - The Moment's Accountant\n",
        "    - Differentially Private Stochastic Gradient Descent\n",
        "\n",
        "Advice:\n",
        "    - For deployments - stick with public frameworks!\n",
        "    - Join the Differential Privacy Community\n",
        "    - Don't get ahead of yourself - DP is still in the early days"
      ]
    },
    {
      "cell_type": "code",
      "metadata": {
        "id": "IQZMeTaO0W_s",
        "colab_type": "code",
        "colab": {}
      },
      "source": [
        ""
      ],
      "execution_count": 0,
      "outputs": []
    },
    {
      "cell_type": "code",
      "metadata": {
        "id": "Nu4jnJGS0W_w",
        "colab_type": "code",
        "colab": {}
      },
      "source": [
        ""
      ],
      "execution_count": 0,
      "outputs": []
    },
    {
      "cell_type": "markdown",
      "metadata": {
        "id": "j6dabM3U0W_1",
        "colab_type": "text"
      },
      "source": [
        "# Section Project:\n",
        "\n",
        "For the final project for this section, you're going to train a DP model using this PATE method on the MNIST dataset, provided below."
      ]
    },
    {
      "cell_type": "code",
      "metadata": {
        "id": "822qKcqx0W_6",
        "colab_type": "code",
        "colab": {}
      },
      "source": [
        "import torchvision.datasets as datasets\n",
        "mnist_trainset = datasets.MNIST(root='./data', train=True, download=True, transform=None)"
      ],
      "execution_count": 0,
      "outputs": []
    },
    {
      "cell_type": "code",
      "metadata": {
        "id": "e8U06kkO0XAB",
        "colab_type": "code",
        "outputId": "614cdbd7-bc9a-46cb-cca0-a6edbaa8d133",
        "colab": {
          "base_uri": "https://localhost:8080/",
          "height": 85
        }
      },
      "source": [
        "train_data = mnist_trainset.train_data\n",
        "train_targets = mnist_trainset.train_labels"
      ],
      "execution_count": 113,
      "outputs": [
        {
          "output_type": "stream",
          "text": [
            "/usr/local/lib/python3.6/dist-packages/torchvision/datasets/mnist.py:53: UserWarning: train_data has been renamed data\n",
            "  warnings.warn(\"train_data has been renamed data\")\n",
            "/usr/local/lib/python3.6/dist-packages/torchvision/datasets/mnist.py:43: UserWarning: train_labels has been renamed targets\n",
            "  warnings.warn(\"train_labels has been renamed targets\")\n"
          ],
          "name": "stderr"
        }
      ]
    },
    {
      "cell_type": "code",
      "metadata": {
        "id": "I-labZcH0XAJ",
        "colab_type": "code",
        "outputId": "9dca1019-8b57-4ed0-ea09-36f39b533a9b",
        "colab": {
          "base_uri": "https://localhost:8080/",
          "height": 85
        }
      },
      "source": [
        "test_data = mnist_trainset.test_data\n",
        "test_targets = mnist_trainset.test_labels"
      ],
      "execution_count": 114,
      "outputs": [
        {
          "output_type": "stream",
          "text": [
            "/usr/local/lib/python3.6/dist-packages/torchvision/datasets/mnist.py:58: UserWarning: test_data has been renamed data\n",
            "  warnings.warn(\"test_data has been renamed data\")\n",
            "/usr/local/lib/python3.6/dist-packages/torchvision/datasets/mnist.py:48: UserWarning: test_labels has been renamed targets\n",
            "  warnings.warn(\"test_labels has been renamed targets\")\n"
          ],
          "name": "stderr"
        }
      ]
    },
    {
      "cell_type": "markdown",
      "metadata": {
        "id": "g0yrFEpOwHVk",
        "colab_type": "text"
      },
      "source": [
        "My work. \n",
        "\n",
        "Assumptions:\n",
        "*   train_data = private databases that must be kept differentially private.\n",
        "*   test_data = public dataset that does not need to be kept differentially private.\n",
        "\n",
        "Process:\n",
        "* split train_data into partitions.\n",
        "* train feature models on those partitions.\n",
        "* use those results to annotate test_data for the purpose of training a model.\n",
        "\n"
      ]
    },
    {
      "cell_type": "code",
      "metadata": {
        "id": "ynGtPAGU8i5r",
        "colab_type": "code",
        "colab": {}
      },
      "source": [
        "# Install PyTorch dependencies\n",
        "\n",
        "import torch\n",
        "from torch import nn\n",
        "import torch.nn.functional as F\n",
        "import torchvision\n",
        "from torchvision import datasets, transforms\n",
        "import matplotlib.pyplot as plt\n",
        "\n",
        "# Define helper functions\n",
        "\n",
        "def imshow(image, ax=None, title=None, normalize=True):\n",
        "    \"\"\"Imshow for Tensor.\"\"\"\n",
        "    if ax is None:\n",
        "        fig, ax = plt.subplots()\n",
        "    image = image.numpy().transpose((1, 2, 0))\n",
        "\n",
        "    if normalize:\n",
        "        mean = np.array([0.485, 0.456, 0.406])\n",
        "        std = np.array([0.229, 0.224, 0.225])\n",
        "        image = std * image + mean\n",
        "        image = np.clip(image, 0, 1)\n",
        "\n",
        "    ax.imshow(image)\n",
        "    ax.spines['top'].set_visible(False)\n",
        "    ax.spines['right'].set_visible(False)\n",
        "    ax.spines['left'].set_visible(False)\n",
        "    ax.spines['bottom'].set_visible(False)\n",
        "    ax.tick_params(axis='both', length=0)\n",
        "    ax.set_xticklabels('')\n",
        "    ax.set_yticklabels('')\n",
        "\n",
        "    return ax"
      ],
      "execution_count": 0,
      "outputs": []
    },
    {
      "cell_type": "code",
      "metadata": {
        "id": "HZQeoOMZ0XAW",
        "colab_type": "code",
        "outputId": "5e5d3c10-f380-4b43-9fd9-1cbf44d665a1",
        "colab": {
          "base_uri": "https://localhost:8080/",
          "height": 85
        }
      },
      "source": [
        "# Get info on the properties of training (private) and testing (public) datasets\n",
        "\n",
        "print(\"train_data shape: \", train_data.shape)\n",
        "print(\"train_targets shape: \", train_targets.shape)\n",
        "print(\"test_data shape: \", test_data.shape)\n",
        "print(\"test_targets shape: \", test_targets.shape)"
      ],
      "execution_count": 116,
      "outputs": [
        {
          "output_type": "stream",
          "text": [
            "train_data shape:  torch.Size([60000, 28, 28])\n",
            "train_targets shape:  torch.Size([60000])\n",
            "test_data shape:  torch.Size([60000, 28, 28])\n",
            "test_targets shape:  torch.Size([60000])\n"
          ],
          "name": "stdout"
        }
      ]
    },
    {
      "cell_type": "code",
      "metadata": {
        "id": "D2kQU0gO6FYj",
        "colab_type": "code",
        "outputId": "6a25a999-793a-442f-8021-07b8ab1bdf49",
        "colab": {
          "base_uri": "https://localhost:8080/",
          "height": 153
        }
      },
      "source": [
        "# Define a transform to normalize the data\n",
        "transform = transforms.Compose([transforms.ToTensor(),\n",
        "                                transforms.Normalize((0.5,), (0.5,))])\n",
        "\n",
        "\n",
        "\n",
        "mnist_trainset = torchvision.datasets.MNIST('/data/mnist', train=True, download=True, transform=transform)\n",
        "trainloader = torch.utils.data.DataLoader(mnist_trainset, batch_size=64, shuffle=True)\n",
        "\n",
        "# Download and load the testing data\n",
        "mnist_testset = torchvision.datasets.MNIST(root='./data', train=False, download=True, transform=transform)\n",
        "testloader = torch.utils.data.DataLoader(mnist_testset, batch_size=10000, shuffle=False)\n",
        "\n",
        "# Metrics for tensor properties\n",
        "train_data = mnist_trainset.train_data\n",
        "train_targets = mnist_trainset.train_labels\n",
        "test_data = mnist_testset.test_data\n",
        "test_targets = mnist_testset.test_labels\n"
      ],
      "execution_count": 117,
      "outputs": [
        {
          "output_type": "stream",
          "text": [
            "/usr/local/lib/python3.6/dist-packages/torchvision/datasets/mnist.py:53: UserWarning: train_data has been renamed data\n",
            "  warnings.warn(\"train_data has been renamed data\")\n",
            "/usr/local/lib/python3.6/dist-packages/torchvision/datasets/mnist.py:43: UserWarning: train_labels has been renamed targets\n",
            "  warnings.warn(\"train_labels has been renamed targets\")\n",
            "/usr/local/lib/python3.6/dist-packages/torchvision/datasets/mnist.py:58: UserWarning: test_data has been renamed data\n",
            "  warnings.warn(\"test_data has been renamed data\")\n",
            "/usr/local/lib/python3.6/dist-packages/torchvision/datasets/mnist.py:48: UserWarning: test_labels has been renamed targets\n",
            "  warnings.warn(\"test_labels has been renamed targets\")\n"
          ],
          "name": "stderr"
        }
      ]
    },
    {
      "cell_type": "code",
      "metadata": {
        "id": "O3y6LjXS_CMa",
        "colab_type": "code",
        "outputId": "5a0bbb48-4e27-41ca-af60-f298dabc4c9d",
        "colab": {
          "base_uri": "https://localhost:8080/",
          "height": 51
        }
      },
      "source": [
        "# Return properties of the trainloader and test loader\n",
        "\n",
        "print(\"train loader: \", trainloader.dataset.data.shape)\n",
        "print(\"test loader: \", testloader.dataset.data.shape)"
      ],
      "execution_count": 118,
      "outputs": [
        {
          "output_type": "stream",
          "text": [
            "train loader:  torch.Size([60000, 28, 28])\n",
            "test loader:  torch.Size([10000, 28, 28])\n"
          ],
          "name": "stdout"
        }
      ]
    },
    {
      "cell_type": "code",
      "metadata": {
        "id": "e3z7Ukt8RNG1",
        "colab_type": "code",
        "colab": {}
      },
      "source": [
        "# Partition the trainloader to mimic six private datasets\n",
        "\n",
        "split0_size = ((5/6) * len(mnist_trainset))\n",
        "priv0_size = len(mnist_trainset) - split0_size\n",
        "\n",
        "split0_dataset, priv0_dataset = torch.utils.data.random_split(mnist_trainset, [int(split0_size), int(priv0_size)])\n",
        "\n",
        "split1_size = (4/5) * len(split0_dataset)\n",
        "priv1_size = len(split0_dataset) - split1_size\n",
        "\n",
        "split1_dataset, priv1_dataset = torch.utils.data.random_split(split0_dataset, [int(split1_size), int(priv1_size)])\n",
        "\n",
        "split2_size = (3/4) * len(split1_dataset)\n",
        "priv2_size = len(split1_dataset) - split2_size\n",
        "\n",
        "split2_dataset, priv2_dataset = torch.utils.data.random_split(split1_dataset, [int(split2_size), int(priv2_size)])\n",
        "\n",
        "split3_size = (2/3) * len(split2_dataset)\n",
        "priv3_size = len(split2_dataset) - split3_size\n",
        "\n",
        "split3_dataset, priv3_dataset = torch.utils.data.random_split(split2_dataset, [int(split3_size), int(priv3_size)])\n",
        "\n",
        "split4_size = (1/2) * len(split3_dataset)\n",
        "priv4_size = len(split3_dataset) - split4_size\n",
        "\n",
        "priv4_dataset, priv5_dataset = torch.utils.data.random_split(split3_dataset, [int(split4_size), int(priv4_size)])"
      ],
      "execution_count": 0,
      "outputs": []
    },
    {
      "cell_type": "code",
      "metadata": {
        "id": "-awikxrxbQcG",
        "colab_type": "code",
        "colab": {}
      },
      "source": [
        "# Split each private dataset into a training set and a testing set\n",
        "ptrain_size = 0.9 * len(priv0_dataset)\n",
        "ptest_size = len(priv0_dataset) - ptrain_size\n",
        "\n",
        "priv0_train, priv0_test = torch.utils.data.random_split(priv0_dataset, [int(ptrain_size), int(ptest_size)])\n",
        "priv1_train, priv1_test = torch.utils.data.random_split(priv1_dataset, [int(ptrain_size), int(ptest_size)])\n",
        "priv2_train, priv2_test = torch.utils.data.random_split(priv2_dataset, [int(ptrain_size), int(ptest_size)])\n",
        "priv3_train, priv3_test = torch.utils.data.random_split(priv3_dataset, [int(ptrain_size), int(ptest_size)])\n",
        "priv4_train, priv4_test = torch.utils.data.random_split(priv4_dataset, [int(ptrain_size), int(ptest_size)])\n",
        "priv5_train, priv5_test = torch.utils.data.random_split(priv5_dataset, [int(ptrain_size), int(ptest_size)])"
      ],
      "execution_count": 0,
      "outputs": []
    },
    {
      "cell_type": "code",
      "metadata": {
        "id": "rbokfaNJUPOm",
        "colab_type": "code",
        "colab": {
          "base_uri": "https://localhost:8080/",
          "height": 34
        },
        "outputId": "c22ca2da-e8be-4594-8344-09f2a1cbaf95"
      },
      "source": [
        "# Generate loaders for each of the datasets\n",
        "batch = 64\n",
        "\n",
        "p0_trainloader = torch.utils.data.DataLoader(priv0_train, batch_size=batch, shuffle=True)\n",
        "p0_testloader = torch.utils.data.DataLoader(priv0_test, batch_size=batch, shuffle=True)\n",
        "\n",
        "p1_trainloader = torch.utils.data.DataLoader(priv1_train, batch_size=batch, shuffle=True)\n",
        "p1_testloader = torch.utils.data.DataLoader(priv1_test, batch_size=batch, shuffle=True)\n",
        "\n",
        "p2_trainloader = torch.utils.data.DataLoader(priv2_train, batch_size=batch, shuffle=True)\n",
        "p2_testloader = torch.utils.data.DataLoader(priv2_test, batch_size=batch, shuffle=True)\n",
        "\n",
        "p3_trainloader = torch.utils.data.DataLoader(priv3_train, batch_size=batch, shuffle=True)\n",
        "p3_testloader = torch.utils.data.DataLoader(priv3_test, batch_size=batch, shuffle=True)\n",
        "\n",
        "p4_trainloader = torch.utils.data.DataLoader(priv4_train, batch_size=batch, shuffle=True)\n",
        "p4_testloader = torch.utils.data.DataLoader(priv4_test, batch_size=batch, shuffle=True)\n",
        "\n",
        "p5_trainloader = torch.utils.data.DataLoader(priv5_train, batch_size=batch, shuffle=True)\n",
        "p5_testloader = torch.utils.data.DataLoader(priv5_test, batch_size=batch, shuffle=True)\n",
        "\n",
        "print(\"Private Loader 0: \", p0_trainloader)"
      ],
      "execution_count": 121,
      "outputs": [
        {
          "output_type": "stream",
          "text": [
            "Private Loader 0:  <torch.utils.data.dataloader.DataLoader object at 0x7ff2c6926f28>\n"
          ],
          "name": "stdout"
        }
      ]
    },
    {
      "cell_type": "code",
      "metadata": {
        "id": "ZzUr4VKNzMWc",
        "colab_type": "code",
        "colab": {}
      },
      "source": [
        "# Define the classification model to be used on each of the private loaders.\n",
        "# Theoretically could be six different models. Training the same model on each dataset here for expediency.\n",
        "# See Prior work. Exercise Part 5 of CNNs.\n",
        "\n",
        "## TODO: Define your model with dropout added\n",
        "\n",
        "from torch import nn, optim\n",
        "import torch.nn.functional as F\n",
        "\n",
        "class Classifier(nn.Module):\n",
        "    def __init__(self):\n",
        "        super().__init__()\n",
        "        self.fc1 = nn.Linear(784, 256)\n",
        "        self.fc2 = nn.Linear(256, 128)\n",
        "        self.fc3 = nn.Linear(128, 64)\n",
        "        self.fc4 = nn.Linear(64, 10)\n",
        "        \n",
        "        # add dropout module with 0.2 drop probability\n",
        "        self.dropout = nn.Dropout(p=0.2)\n",
        "        \n",
        "    def forward(self, x):\n",
        "        # make sure input tensor is flattened\n",
        "        x = x.view(x.shape[0], -1)\n",
        "        \n",
        "        # update to include dropout\n",
        "        x = self.dropout(F.relu(self.fc1(x)))\n",
        "        x = self.dropout(F.relu(self.fc2(x)))\n",
        "        x = self.dropout(F.relu(self.fc3(x)))\n",
        "        \n",
        "        # no dropout on output layer\n",
        "        x = F.log_softmax(self.fc4(x), dim=1)\n",
        "        \n",
        "        return x"
      ],
      "execution_count": 0,
      "outputs": []
    },
    {
      "cell_type": "code",
      "metadata": {
        "id": "JyjehnlUKX-l",
        "colab_type": "code",
        "colab": {}
      },
      "source": [
        "# Function to train the model on each of the data loaders for a specified number of epochs, number of steps, and optimizer learning rate.\n",
        "\n",
        "def TrainModel(trainloader, testloader, lr, epochs, steps):\n",
        "  \n",
        "  model = Classifier()\n",
        "  criterion = nn.NLLLoss()\n",
        "  optimizer = optim.Adam(model.parameters(), lr=0.003)\n",
        "\n",
        "  epochs = 30\n",
        "  steps = 0\n",
        "  \n",
        "  train_losses, test_losses, test_accuracy = [], [], []\n",
        "  for e in range(epochs):\n",
        "      running_loss = 0\n",
        "      for images, labels in trainloader:\n",
        "\n",
        "          optimizer.zero_grad()\n",
        "\n",
        "          log_ps = model(images)\n",
        "          loss = criterion(log_ps, labels)\n",
        "          loss.backward()\n",
        "          optimizer.step()\n",
        "\n",
        "          running_loss += loss.item()\n",
        "\n",
        "      else:\n",
        "          ## TODO: Implement the validation pass and print out the validation accuracy\n",
        "          # turn off gradients\n",
        "          test_loss = 0\n",
        "          accuracy = 0\n",
        "\n",
        "          # turn off gradients\n",
        "          with torch.no_grad():\n",
        "\n",
        "            # set model to evaluation mode\n",
        "            model.eval()\n",
        "\n",
        "            # run validation pass\n",
        "            for images, labels in testloader:\n",
        "\n",
        "              optimizer.zero_grad()\n",
        "\n",
        "              log_ps = model(images)\n",
        "              test_loss = test_loss + criterion(log_ps, labels)\n",
        "\n",
        "              # Get the class probabilities\n",
        "              ps = torch.exp(log_ps)\n",
        "\n",
        "              # Use top-k to identify most likely classes\n",
        "              top_p, top_class = ps.topk(1, dim=1)\n",
        "\n",
        "              # compare to true labels\n",
        "              equals = top_class == labels.view(*top_class.shape)\n",
        "              accuracy = accuracy + torch.mean(equals.type(torch.FloatTensor))\n",
        "\n",
        "          # set model back to training mode\n",
        "          model.train()\n",
        "\n",
        "          train_losses.append(running_loss/len(trainloader))\n",
        "          test_losses.append(test_loss/len(testloader))\n",
        "          test_accuracy.append(accuracy/len(testloader))\n",
        "\n",
        "          # print(f'Accuracy: {accuracy.item()*100}%')\n",
        "\n",
        "          #print(\"Epoch: {}/{}.. \".format(e+1, epochs),\n",
        "          #  \"Training loss: {:.3f}.. \".format(running_loss/len(trainloader)),\n",
        "          #  \"Testing loss: {:.3f}.. \".format(test_loss/len(testloader)),\n",
        "          #  \"Test Accuracy: {:.3f}.. \".format(accuracy/len(testloader))\n",
        "          #  )\n",
        "  \n",
        "  plt.plot(train_losses, label='Training Loss')\n",
        "  plt.plot(test_losses, label='Validation Loss')\n",
        "  plt.plot(test_accuracy, label='Test Accuracy')\n",
        "  plt.legend(frameon=False)\n",
        "\n",
        "  return model"
      ],
      "execution_count": 0,
      "outputs": []
    },
    {
      "cell_type": "code",
      "metadata": {
        "id": "OJyF0HdT39k2",
        "colab_type": "code",
        "outputId": "3fffea3d-9857-4ba1-af07-6ce34c080e79",
        "colab": {
          "base_uri": "https://localhost:8080/",
          "height": 269
        }
      },
      "source": [
        "model_0 = TrainModel(trainloader=p0_trainloader, testloader=p0_testloader, lr=0.003, epochs=30, steps=0)"
      ],
      "execution_count": 124,
      "outputs": [
        {
          "output_type": "display_data",
          "data": {
            "image/png": "[encoded data removed]",
            "text/plain": [
              "<Figure size 432x288 with 1 Axes>"
            ]
          },
          "metadata": {
            "tags": []
          }
        }
      ]
    },
    {
      "cell_type": "code",
      "metadata": {
        "id": "kU4UrxVcNDCZ",
        "colab_type": "code",
        "outputId": "67040462-adb7-4e75-982e-e3a2045124c4",
        "colab": {
          "base_uri": "https://localhost:8080/",
          "height": 269
        }
      },
      "source": [
        "model_1 = TrainModel(trainloader=p1_trainloader, testloader=p1_testloader, lr=0.003, epochs=30, steps=0)"
      ],
      "execution_count": 125,
      "outputs": [
        {
          "output_type": "display_data",
          "data": {
            "image/png": "[encoded data removed]",
            "text/plain": [
              "<Figure size 432x288 with 1 Axes>"
            ]
          },
          "metadata": {
            "tags": []
          }
        }
      ]
    },
    {
      "cell_type": "code",
      "metadata": {
        "id": "HfbVdAkzCs8B",
        "colab_type": "code",
        "outputId": "a5727afb-6006-4773-bd06-82943a960829",
        "colab": {
          "base_uri": "https://localhost:8080/",
          "height": 269
        }
      },
      "source": [
        "model_2 = TrainModel(trainloader=p2_trainloader, testloader=p2_testloader, lr=0.003, epochs=30, steps=0)"
      ],
      "execution_count": 126,
      "outputs": [
        {
          "output_type": "display_data",
          "data": {
            "image/png": "[encoded data removed]",
            "text/plain": [
              "<Figure size 432x288 with 1 Axes>"
            ]
          },
          "metadata": {
            "tags": []
          }
        }
      ]
    },
    {
      "cell_type": "code",
      "metadata": {
        "id": "_pqL0_1R88He",
        "colab_type": "code",
        "colab": {
          "base_uri": "https://localhost:8080/",
          "height": 269
        },
        "outputId": "fe215129-14c5-4c88-e844-ec0abca0e43b"
      },
      "source": [
        "model_3 = TrainModel(trainloader=p3_trainloader, testloader=p3_testloader, lr=0.003, epochs=30, steps=0)"
      ],
      "execution_count": 127,
      "outputs": [
        {
          "output_type": "display_data",
          "data": {
            "image/png": "[encoded data removed]",
            "text/plain": [
              "<Figure size 432x288 with 1 Axes>"
            ]
          },
          "metadata": {
            "tags": []
          }
        }
      ]
    },
    {
      "cell_type": "code",
      "metadata": {
        "id": "wI0d6fEwXnlu",
        "colab_type": "code",
        "colab": {
          "base_uri": "https://localhost:8080/",
          "height": 269
        },
        "outputId": "84547326-19fb-4049-be78-bd86b0655683"
      },
      "source": [
        "model_4 = TrainModel(trainloader=p4_trainloader, testloader=p4_testloader, lr=0.003, epochs=30, steps=0)"
      ],
      "execution_count": 128,
      "outputs": [
        {
          "output_type": "display_data",
          "data": {
            "image/png": "[encoded data removed]",
            "text/plain": [
              "<Figure size 432x288 with 1 Axes>"
            ]
          },
          "metadata": {
            "tags": []
          }
        }
      ]
    },
    {
      "cell_type": "code",
      "metadata": {
        "id": "-lOr_7v3f07b",
        "colab_type": "code",
        "colab": {
          "base_uri": "https://localhost:8080/",
          "height": 269
        },
        "outputId": "2f42b00f-e714-4119-93e5-7e4bfbb77105"
      },
      "source": [
        "model_5 = TrainModel(trainloader=p5_trainloader, testloader=p5_testloader, lr=0.003, epochs=30, steps=0)"
      ],
      "execution_count": 129,
      "outputs": [
        {
          "output_type": "display_data",
          "data": {
            "image/png": "[encoded data removed]",
            "text/plain": [
              "<Figure size 432x288 with 1 Axes>"
            ]
          },
          "metadata": {
            "tags": []
          }
        }
      ]
    },
    {
      "cell_type": "code",
      "metadata": {
        "id": "XCgzPr4Zwwip",
        "colab_type": "code",
        "colab": {}
      },
      "source": [
        "# Return top p, k results from test set for each trained model.\n",
        "# https://pytorch.org/tutorials/beginner/blitz/cifar10_tutorial.html\n",
        "\n",
        "def pred(testloader, model):\n",
        "  # model to evaluation mode\n",
        "  model.eval()\n",
        "  \n",
        "  correct = 0\n",
        "  total = 0\n",
        "  \n",
        "  with torch.no_grad():\n",
        "    for data in testloader:\n",
        "      images, labels = data\n",
        "      outputs = model(images)\n",
        "      _, predicted = torch.max(outputs, 1)\n",
        "      total += labels.size(0)\n",
        "      correct += (predicted == labels).sum().item()\n",
        "  \n",
        "  print('Accuracy of the network on the public database: %d %%' % (100 * correct / total))\n",
        "  \n",
        "  return predicted"
      ],
      "execution_count": 0,
      "outputs": []
    },
    {
      "cell_type": "code",
      "metadata": {
        "id": "bqIZhiR70fYm",
        "colab_type": "code",
        "colab": {
          "base_uri": "https://localhost:8080/",
          "height": 51
        },
        "outputId": "54f4df16-56fc-454b-ee22-063a985aa716"
      },
      "source": [
        "pred_0 = pred(testloader, model_0)\n",
        "print(pred_0.shape)"
      ],
      "execution_count": 131,
      "outputs": [
        {
          "output_type": "stream",
          "text": [
            "Accuracy of the network on the public database: 94 %\n",
            "torch.Size([10000])\n"
          ],
          "name": "stdout"
        }
      ]
    },
    {
      "cell_type": "code",
      "metadata": {
        "id": "19b0n6FQ1lgd",
        "colab_type": "code",
        "colab": {
          "base_uri": "https://localhost:8080/",
          "height": 51
        },
        "outputId": "27648299-4fbe-4618-e042-402b8f8d2c20"
      },
      "source": [
        "pred_1 = pred(testloader, model_1)\n",
        "print(pred_1.shape)"
      ],
      "execution_count": 132,
      "outputs": [
        {
          "output_type": "stream",
          "text": [
            "Accuracy of the network on the public database: 95 %\n",
            "torch.Size([10000])\n"
          ],
          "name": "stdout"
        }
      ]
    },
    {
      "cell_type": "code",
      "metadata": {
        "id": "tnlMxnjA1rmM",
        "colab_type": "code",
        "colab": {
          "base_uri": "https://localhost:8080/",
          "height": 51
        },
        "outputId": "3afe7b30-4ca4-451c-e9cf-31d62b879390"
      },
      "source": [
        "pred_2 = pred(testloader, model_2)\n",
        "print(pred_2.shape)"
      ],
      "execution_count": 133,
      "outputs": [
        {
          "output_type": "stream",
          "text": [
            "Accuracy of the network on the public database: 94 %\n",
            "torch.Size([10000])\n"
          ],
          "name": "stdout"
        }
      ]
    },
    {
      "cell_type": "code",
      "metadata": {
        "id": "fNfsWEAT1wn5",
        "colab_type": "code",
        "colab": {
          "base_uri": "https://localhost:8080/",
          "height": 51
        },
        "outputId": "e38a4da9-974d-4a52-bbfc-b37049c72eaf"
      },
      "source": [
        "pred_3 = pred(testloader, model_3)\n",
        "print(pred_3.shape)"
      ],
      "execution_count": 134,
      "outputs": [
        {
          "output_type": "stream",
          "text": [
            "Accuracy of the network on the public database: 94 %\n",
            "torch.Size([10000])\n"
          ],
          "name": "stdout"
        }
      ]
    },
    {
      "cell_type": "code",
      "metadata": {
        "id": "DxLPgSY4127R",
        "colab_type": "code",
        "colab": {
          "base_uri": "https://localhost:8080/",
          "height": 51
        },
        "outputId": "fef54a8f-a36d-409b-a87f-60eaeb607088"
      },
      "source": [
        "pred_4 = pred(testloader, model_4)\n",
        "print(pred_4.shape)"
      ],
      "execution_count": 135,
      "outputs": [
        {
          "output_type": "stream",
          "text": [
            "Accuracy of the network on the public database: 94 %\n",
            "torch.Size([10000])\n"
          ],
          "name": "stdout"
        }
      ]
    },
    {
      "cell_type": "code",
      "metadata": {
        "id": "jiGlUveW18Dc",
        "colab_type": "code",
        "colab": {
          "base_uri": "https://localhost:8080/",
          "height": 51
        },
        "outputId": "b605af61-1631-4d89-e536-3f891f2718f2"
      },
      "source": [
        "pred_5 = pred(testloader, model_5)\n",
        "print(pred_5.shape)"
      ],
      "execution_count": 136,
      "outputs": [
        {
          "output_type": "stream",
          "text": [
            "Accuracy of the network on the public database: 95 %\n",
            "torch.Size([10000])\n"
          ],
          "name": "stdout"
        }
      ]
    },
    {
      "cell_type": "code",
      "metadata": {
        "id": "rqUgcVs97GmT",
        "colab_type": "code",
        "colab": {
          "base_uri": "https://localhost:8080/",
          "height": 119
        },
        "outputId": "8a9d5589-4793-401f-a156-bb45c18332ed"
      },
      "source": [
        "# Aggregate predictons into one array of arrays. convert to a tensor of arrays.\n",
        "preds_list = []\n",
        "preds_to_append = [pred_0, pred_1, pred_2, pred_3, pred_4, pred_5]\n",
        "\n",
        "for i in range(len(preds_to_append)):\n",
        "  preds_list.append(preds_to_append[i].tolist())\n",
        "\n",
        "preds_arr = np.array(preds_list)\n",
        "preds = torch.tensor(preds_arr)\n",
        "print(preds)\n"
      ],
      "execution_count": 185,
      "outputs": [
        {
          "output_type": "stream",
          "text": [
            "tensor([[7, 2, 1,  ..., 4, 5, 6],\n",
            "        [7, 2, 1,  ..., 4, 5, 6],\n",
            "        [7, 2, 1,  ..., 4, 5, 6],\n",
            "        [7, 2, 1,  ..., 4, 5, 6],\n",
            "        [7, 2, 1,  ..., 4, 5, 6],\n",
            "        [7, 2, 1,  ..., 4, 5, 6]])\n"
          ],
          "name": "stdout"
        }
      ]
    },
    {
      "cell_type": "code",
      "metadata": {
        "id": "SO0SObRd8tc3",
        "colab_type": "code",
        "colab": {
          "base_uri": "https://localhost:8080/",
          "height": 51
        },
        "outputId": "fbe955fb-d71d-4e0e-d61d-b32ca1a19a65"
      },
      "source": [
        "# All predictions from one teacher\n",
        "print(\"All predictions from teacher 0: \", preds[0])\n",
        "\n",
        "# All predictions for the first image across \n",
        "print(\"All predictions for the first image across: \", preds[:, 0])"
      ],
      "execution_count": 191,
      "outputs": [
        {
          "output_type": "stream",
          "text": [
            "All predictions from teacher 0:  tensor([7, 2, 1,  ..., 4, 5, 6])\n",
            "All predictions for the first image across:  tensor([7, 7, 7, 7, 7, 7])\n"
          ],
          "name": "stdout"
        }
      ]
    },
    {
      "cell_type": "code",
      "metadata": {
        "id": "pDsDCh8t-XBe",
        "colab_type": "code",
        "colab": {
          "base_uri": "https://localhost:8080/",
          "height": 51
        },
        "outputId": "55bd254e-09c1-45d4-9b9f-85a5088178e8"
      },
      "source": [
        "# Analysis before adding random noise\n",
        "\n",
        "num_labels = 10 # images of handwritten digits 0 to 9\n",
        "\n",
        "# pull the predictions for a single image\n",
        "an_image = preds[:, 0]\n",
        "\n",
        "# count the nuber of times the models return each integer\n",
        "label_counts = np.bincount(an_image, minlength=num_labels)\n",
        "print(\"counts of labels: \", label_counts)\n",
        "\n",
        "# return the index of the max value\n",
        "max_index = np.argmax(label_counts)\n",
        "print(\"index of the max value: \", max_index)"
      ],
      "execution_count": 192,
      "outputs": [
        {
          "output_type": "stream",
          "text": [
            "counts of labels:  [0 0 0 0 0 0 0 6 0 0]\n",
            "index of the max value:  7\n"
          ],
          "name": "stdout"
        }
      ]
    },
    {
      "cell_type": "code",
      "metadata": {
        "id": "iwCrh4acOGv8",
        "colab_type": "code",
        "colab": {
          "base_uri": "https://localhost:8080/",
          "height": 51
        },
        "outputId": "e32a2eb3-2050-4165-c697-7b5c4149bd4f"
      },
      "source": [
        "# Analysis before adding random noise\n",
        "# Iterate through all the labels\n",
        "\n",
        "true_labels = list()\n",
        "pred = np.array(preds).transpose()\n",
        "\n",
        "for an_image in pred:\n",
        "  \n",
        "  label_counts = np.bincount(an_image, minlength = num_labels)\n",
        "    \n",
        "  max_index = np.argmax(label_counts)\n",
        "  \n",
        "  true_labels.append(max_index)\n",
        "  \n",
        "len(true_labels)\n",
        "\n",
        "true_labels = np.array(true_labels)\n",
        "\n",
        "print(true_labels)\n",
        "print(test_targets)"
      ],
      "execution_count": 203,
      "outputs": [
        {
          "output_type": "stream",
          "text": [
            "[7 2 1 ... 4 5 6]\n",
            "tensor([7, 2, 1,  ..., 4, 5, 6])\n"
          ],
          "name": "stdout"
        }
      ]
    },
    {
      "cell_type": "code",
      "metadata": {
        "id": "eSxOoTTDA1_u",
        "colab_type": "code",
        "colab": {
          "base_uri": "https://localhost:8080/",
          "height": 51
        },
        "outputId": "4bb0dad0-ab16-4fe9-c640-1c1ed84c3497"
      },
      "source": [
        "# Analysis after adding random noise\n",
        "\n",
        "epsilon = 0.1\n",
        "sensitivity = 5\n",
        "beta = 10 / epsilon\n",
        "\n",
        "for i in range(len(label_counts)):\n",
        "  label_counts[i] += np.random.laplace(0, beta, 1)\n",
        "  \n",
        "print(\"label counts with laplacian noise: \", label_counts)\n",
        "\n",
        "# Calculate arg_max on on the labels with the noise added\n",
        "\n",
        "new_label = np.argmax(label_counts)\n",
        "\n",
        "print(\"label with noise added: \", new_label)"
      ],
      "execution_count": 221,
      "outputs": [
        {
          "output_type": "stream",
          "text": [
            "label counts with laplacian noise:  [ -22   12 -173  -37  -67 -154  239  123   25  -88]\n",
            "label with noise added:  6\n"
          ],
          "name": "stdout"
        }
      ]
    },
    {
      "cell_type": "code",
      "metadata": {
        "id": "YVdBxdyqBYtu",
        "colab_type": "code",
        "colab": {
          "base_uri": "https://localhost:8080/",
          "height": 34
        },
        "outputId": "2a9c8436-d961-48d4-bd14-28118206df3a"
      },
      "source": [
        "# Iterate through all the labels\n",
        "\n",
        "new_labels = list()\n",
        "\n",
        "for an_image in pred:\n",
        "  \n",
        "  label_counts = np.bincount(an_image, minlength = 10)\n",
        "  \n",
        "  epsilon = 0.1\n",
        "  sensitivity = 10\n",
        "  beta = sensitivity / epsilon\n",
        "  \n",
        "  for i in range(len(label_counts)):\n",
        "    label_counts[i] += np.random.laplace(0, beta, 1)\n",
        "    \n",
        "  new_label = np.argmax(label_counts)\n",
        "  \n",
        "  new_labels.append(new_label)\n",
        "  \n",
        "len(new_labels)\n",
        "\n",
        "new_labels = np.array(new_labels)\n",
        "\n",
        "print(new_labels)"
      ],
      "execution_count": 222,
      "outputs": [
        {
          "output_type": "stream",
          "text": [
            "[0 1 6 ... 1 4 4]\n"
          ],
          "name": "stdout"
        }
      ]
    },
    {
      "cell_type": "code",
      "metadata": {
        "id": "tMMkwaeqBzld",
        "colab_type": "code",
        "colab": {
          "base_uri": "https://localhost:8080/",
          "height": 51
        },
        "outputId": "c411626c-6cff-4c91-e57c-8f0bdb02e42f"
      },
      "source": [
        "print(true_labels)\n",
        "print(new_labels)"
      ],
      "execution_count": 223,
      "outputs": [
        {
          "output_type": "stream",
          "text": [
            "[7 2 1 ... 4 5 6]\n",
            "[0 1 6 ... 1 4 4]\n"
          ],
          "name": "stdout"
        }
      ]
    },
    {
      "cell_type": "code",
      "metadata": {
        "id": "XTxGqCE9Ne2j",
        "colab_type": "code",
        "colab": {
          "base_uri": "https://localhost:8080/",
          "height": 785
        },
        "outputId": "010011f9-dd8f-49f6-d72c-232735c8a49e"
      },
      "source": [
        "!pip install syft"
      ],
      "execution_count": 224,
      "outputs": [
        {
          "output_type": "stream",
          "text": [
            "Requirement already satisfied: syft in /usr/local/lib/python3.6/dist-packages/syft-0.1.21a1-py3.6.egg (0.1.21a1)\n",
            "Requirement already satisfied: Flask>=1.0.2 in /usr/local/lib/python3.6/dist-packages (from syft) (1.0.3)\n",
            "Requirement already satisfied: flask_socketio>=3.3.2 in /usr/local/lib/python3.6/dist-packages/Flask_SocketIO-4.1.0-py3.6.egg (from syft) (4.1.0)\n",
            "Requirement already satisfied: lz4>=2.1.6 in /usr/local/lib/python3.6/dist-packages (from syft) (2.1.10)\n",
            "Requirement already satisfied: msgpack>=0.6.1 in /usr/local/lib/python3.6/dist-packages (from syft) (0.6.1)\n",
            "Requirement already satisfied: numpy>=1.14.0 in /usr/local/lib/python3.6/dist-packages (from syft) (1.16.4)\n",
            "Requirement already satisfied: scikit-learn>=0.21.0 in /usr/local/lib/python3.6/dist-packages (from syft) (0.21.2)\n",
            "Requirement already satisfied: tblib>=1.4.0 in /usr/local/lib/python3.6/dist-packages (from syft) (1.4.0)\n",
            "Requirement already satisfied: tf_encrypted>=0.5.4 in /usr/local/lib/python3.6/dist-packages (from syft) (0.5.6)\n",
            "Requirement already satisfied: torch>=1.1 in /usr/local/lib/python3.6/dist-packages (from syft) (1.1.0)\n",
            "Requirement already satisfied: torchvision>=0.3.0 in /usr/local/lib/python3.6/dist-packages (from syft) (0.3.0)\n",
            "Requirement already satisfied: websocket_client>=0.56.0 in /usr/local/lib/python3.6/dist-packages/websocket_client-0.56.0-py3.6.egg (from syft) (0.56.0)\n",
            "Requirement already satisfied: websockets>=7.0 in /usr/local/lib/python3.6/dist-packages (from syft) (7.0)\n",
            "Requirement already satisfied: zstd>=1.4.0.0 in /usr/local/lib/python3.6/dist-packages (from syft) (1.4.0.0)\n",
            "Requirement already satisfied: click>=5.1 in /usr/local/lib/python3.6/dist-packages (from Flask>=1.0.2->syft) (7.0)\n",
            "Requirement already satisfied: Jinja2>=2.10 in /usr/local/lib/python3.6/dist-packages (from Flask>=1.0.2->syft) (2.10.1)\n",
            "Requirement already satisfied: Werkzeug>=0.14 in /usr/local/lib/python3.6/dist-packages (from Flask>=1.0.2->syft) (0.15.4)\n",
            "Requirement already satisfied: itsdangerous>=0.24 in /usr/local/lib/python3.6/dist-packages (from Flask>=1.0.2->syft) (1.1.0)\n",
            "Requirement already satisfied: python-socketio>=2.1.0 in /usr/local/lib/python3.6/dist-packages/python_socketio-4.2.0-py3.6.egg (from flask_socketio>=3.3.2->syft) (4.2.0)\n",
            "Requirement already satisfied: joblib>=0.11 in /usr/local/lib/python3.6/dist-packages (from scikit-learn>=0.21.0->syft) (0.13.2)\n",
            "Requirement already satisfied: scipy>=0.17.0 in /usr/local/lib/python3.6/dist-packages (from scikit-learn>=0.21.0->syft) (1.3.0)\n",
            "Requirement already satisfied: tensorflow<2,>=1.12.0 in /usr/local/lib/python3.6/dist-packages (from tf_encrypted>=0.5.4->syft) (1.14.0)\n",
            "Requirement already satisfied: pyyaml>=5.1 in /usr/local/lib/python3.6/dist-packages (from tf_encrypted>=0.5.4->syft) (5.1.1)\n",
            "Requirement already satisfied: six in /usr/local/lib/python3.6/dist-packages (from torchvision>=0.3.0->syft) (1.12.0)\n",
            "Requirement already satisfied: pillow>=4.1.1 in /usr/local/lib/python3.6/dist-packages (from torchvision>=0.3.0->syft) (4.3.0)\n",
            "Requirement already satisfied: MarkupSafe>=0.23 in /usr/local/lib/python3.6/dist-packages (from Jinja2>=2.10->Flask>=1.0.2->syft) (1.1.1)\n",
            "Requirement already satisfied: python-engineio>=3.8.0 in /usr/local/lib/python3.6/dist-packages/python_engineio-3.8.2.post1-py3.6.egg (from python-socketio>=2.1.0->flask_socketio>=3.3.2->syft) (3.8.2.post1)\n",
            "Requirement already satisfied: tensorflow-estimator<1.15.0rc0,>=1.14.0rc0 in /usr/local/lib/python3.6/dist-packages (from tensorflow<2,>=1.12.0->tf_encrypted>=0.5.4->syft) (1.14.0)\n",
            "Requirement already satisfied: keras-preprocessing>=1.0.5 in /usr/local/lib/python3.6/dist-packages (from tensorflow<2,>=1.12.0->tf_encrypted>=0.5.4->syft) (1.1.0)\n",
            "Requirement already satisfied: protobuf>=3.6.1 in /usr/local/lib/python3.6/dist-packages (from tensorflow<2,>=1.12.0->tf_encrypted>=0.5.4->syft) (3.7.1)\n",
            "Requirement already satisfied: astor>=0.6.0 in /usr/local/lib/python3.6/dist-packages (from tensorflow<2,>=1.12.0->tf_encrypted>=0.5.4->syft) (0.8.0)\n",
            "Requirement already satisfied: absl-py>=0.7.0 in /usr/local/lib/python3.6/dist-packages (from tensorflow<2,>=1.12.0->tf_encrypted>=0.5.4->syft) (0.7.1)\n",
            "Requirement already satisfied: gast>=0.2.0 in /usr/local/lib/python3.6/dist-packages (from tensorflow<2,>=1.12.0->tf_encrypted>=0.5.4->syft) (0.2.2)\n",
            "Requirement already satisfied: keras-applications>=1.0.6 in /usr/local/lib/python3.6/dist-packages (from tensorflow<2,>=1.12.0->tf_encrypted>=0.5.4->syft) (1.0.8)\n",
            "Requirement already satisfied: termcolor>=1.1.0 in /usr/local/lib/python3.6/dist-packages (from tensorflow<2,>=1.12.0->tf_encrypted>=0.5.4->syft) (1.1.0)\n",
            "Requirement already satisfied: tensorboard<1.15.0,>=1.14.0 in /usr/local/lib/python3.6/dist-packages (from tensorflow<2,>=1.12.0->tf_encrypted>=0.5.4->syft) (1.14.0)\n",
            "Requirement already satisfied: grpcio>=1.8.6 in /usr/local/lib/python3.6/dist-packages (from tensorflow<2,>=1.12.0->tf_encrypted>=0.5.4->syft) (1.15.0)\n",
            "Requirement already satisfied: google-pasta>=0.1.6 in /usr/local/lib/python3.6/dist-packages (from tensorflow<2,>=1.12.0->tf_encrypted>=0.5.4->syft) (0.1.7)\n",
            "Requirement already satisfied: wrapt>=1.11.1 in /usr/local/lib/python3.6/dist-packages (from tensorflow<2,>=1.12.0->tf_encrypted>=0.5.4->syft) (1.11.2)\n",
            "Requirement already satisfied: wheel>=0.26 in /usr/local/lib/python3.6/dist-packages (from tensorflow<2,>=1.12.0->tf_encrypted>=0.5.4->syft) (0.33.4)\n",
            "Requirement already satisfied: olefile in /usr/local/lib/python3.6/dist-packages (from pillow>=4.1.1->torchvision>=0.3.0->syft) (0.46)\n",
            "Requirement already satisfied: setuptools in /usr/local/lib/python3.6/dist-packages (from protobuf>=3.6.1->tensorflow<2,>=1.12.0->tf_encrypted>=0.5.4->syft) (41.0.1)\n",
            "Requirement already satisfied: h5py in /usr/local/lib/python3.6/dist-packages (from keras-applications>=1.0.6->tensorflow<2,>=1.12.0->tf_encrypted>=0.5.4->syft) (2.8.0)\n",
            "Requirement already satisfied: markdown>=2.6.8 in /usr/local/lib/python3.6/dist-packages (from tensorboard<1.15.0,>=1.14.0->tensorflow<2,>=1.12.0->tf_encrypted>=0.5.4->syft) (3.1.1)\n"
          ],
          "name": "stdout"
        }
      ]
    },
    {
      "cell_type": "code",
      "metadata": {
        "id": "-pBAeIUm0Nox",
        "colab_type": "code",
        "colab": {
          "base_uri": "https://localhost:8080/",
          "height": 54
        },
        "outputId": "9d005fad-6746-4393-941a-917565a485cc"
      },
      "source": [
        "\"\"\"\"Performs PATE analysis on predictions from teachers and combined predictions for student.\n",
        "\n",
        "    Args:\n",
        "        teacher_preds: a numpy array of dim (num_teachers x num_examples). Each value corresponds to the\n",
        "            index of the label which a teacher gave for a specific example\n",
        "        indices: a numpy array of dim (num_examples) of aggregated examples which were aggregated using\n",
        "            the noisy max mechanism.\n",
        "        noise_eps: the epsilon level used to create the indices\n",
        "        delta: the desired level of delta\n",
        "        moments: the number of moments to track (see the paper)\n",
        "        beta: a smoothing parameter (see the paper)\n",
        "    Returns:\n",
        "        tuple: first value is the data dependent epsilon, then the data independent epsilon\n",
        "    \"\"\""
      ],
      "execution_count": 225,
      "outputs": [
        {
          "output_type": "execute_result",
          "data": {
            "text/plain": [
              "'\"Performs PATE analysis on predictions from teachers and combined predictions for student.\\n\\n    Args:\\n        teacher_preds: a numpy array of dim (num_teachers x num_examples). Each value corresponds to the\\n            index of the label which a teacher gave for a specific example\\n        indices: a numpy array of dim (num_examples) of aggregated examples which were aggregated using\\n            the noisy max mechanism.\\n        noise_eps: the epsilon level used to create the indices\\n        delta: the desired level of delta\\n        moments: the number of moments to track (see the paper)\\n        beta: a smoothing parameter (see the paper)\\n    Returns:\\n        tuple: first value is the data dependent epsilon, then the data independent epsilon\\n    '"
            ]
          },
          "metadata": {
            "tags": []
          },
          "execution_count": 225
        }
      ]
    },
    {
      "cell_type": "code",
      "metadata": {
        "id": "mImIRnI4rSup",
        "colab_type": "code",
        "colab": {
          "base_uri": "https://localhost:8080/",
          "height": 119
        },
        "outputId": "131fd33b-3140-4458-f892-64881e97938c"
      },
      "source": [
        "num_teachers, num_examples, num_labels = (len(preds), len(preds[0]), 10)\n",
        "preds_arr = preds.numpy() # fake preds\n",
        "indices = new_labels.astype(int) # true answers\n",
        "\n",
        "print(\"number of teachers: \", num_teachers)\n",
        "print(\"number of examples: \", num_examples)\n",
        "print(\"number of labels: \", num_labels)\n",
        "print(\"shape of preds array: \", preds.shape)\n",
        "print(\"shape of indices array: \", indices.shape)\n",
        "print(indices)"
      ],
      "execution_count": 226,
      "outputs": [
        {
          "output_type": "stream",
          "text": [
            "number of teachers:  6\n",
            "number of examples:  10000\n",
            "number of labels:  10\n",
            "shape of preds array:  torch.Size([6, 10000])\n",
            "shape of indices array:  (10000,)\n",
            "[0 1 6 ... 1 4 4]\n"
          ],
          "name": "stdout"
        }
      ]
    },
    {
      "cell_type": "code",
      "metadata": {
        "id": "vTpP5pJMqANO",
        "colab_type": "code",
        "colab": {
          "base_uri": "https://localhost:8080/",
          "height": 68
        },
        "outputId": "1501db72-800c-4f3d-bec4-3d99397980df"
      },
      "source": [
        "data_dep_eps, data_ind_eps = pate.perform_analysis(teacher_preds=pred.transpose(), indices=indices, noise_eps=0.1, delta=1e-5)\n",
        "\n",
        "print(\"Data dependent epsilon: \", data_dep_eps) \n",
        "print(\"Data independent epsilon: \", data_ind_eps) \n",
        "print(data_dep_eps < data_ind_eps)"
      ],
      "execution_count": 228,
      "outputs": [
        {
          "output_type": "stream",
          "text": [
            "Data dependent epsilon:  411.51292546502725\n",
            "Data independent epsilon:  411.5129254649703\n",
            "False\n"
          ],
          "name": "stdout"
        }
      ]
    }
  ]
}