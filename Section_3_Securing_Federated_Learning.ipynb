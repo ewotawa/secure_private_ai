{
  "nbformat": 4,
  "nbformat_minor": 0,
  "metadata": {
    "colab": {
      "name": "Section 3 - Securing Federated Learning.ipynb",
      "version": "0.3.2",
      "provenance": [],
      "collapsed_sections": [],
      "include_colab_link": true
    },
    "language_info": {
      "codemirror_mode": {
        "name": "ipython",
        "version": 3
      },
      "file_extension": ".py",
      "mimetype": "text/x-python",
      "name": "python",
      "nbconvert_exporter": "python",
      "pygments_lexer": "ipython3",
      "version": "3.6.1"
    },
    "kernelspec": {
      "display_name": "Python 3",
      "language": "python",
      "name": "python3"
    }
  },
  "cells": [
    {
      "cell_type": "markdown",
      "metadata": {
        "id": "view-in-github",
        "colab_type": "text"
      },
      "source": [
        "<a href=\"https://colab.research.google.com/github/ewotawa/secure_private_ai/blob/master/Section_3_Securing_Federated_Learning.ipynb\" target=\"_parent\"><img src=\"https://colab.research.google.com/assets/colab-badge.svg\" alt=\"Open In Colab\"/></a>"
      ]
    },
    {
      "cell_type": "markdown",
      "metadata": {
        "id": "3jzoKqLOaOl4",
        "colab_type": "text"
      },
      "source": [
        "# Section: Securing Federated Learning\n",
        "\n",
        "- Lesson 1: Trusted Aggregator\n",
        "- Lesson 2: Intro to Additive Secret Sharing\n",
        "- Lesson 3: Intro to Fixed Precision Encoding\n",
        "- Lesson 4: Secret Sharing + Fixed Precision in PySyft\n",
        "- Final Project: Federated Learning wtih Encrypted Gradient Aggregation"
      ]
    },
    {
      "cell_type": "markdown",
      "metadata": {
        "id": "lZ9l5evZaOl8",
        "colab_type": "text"
      },
      "source": [
        "# Lesson: Federated Learning with a Trusted Aggregator\n",
        "\n",
        "In the last section, we learned how to train a model on a distributed dataset using Federated Learning. In particular, the last project aggregated gradients directly from one data owner to another. \n",
        "\n",
        "However, while in some cases it could be ideal to do this, what would be even better is to be able to choose a neutral third party to perform the aggregation.\n",
        "\n",
        "As it turns out, we can use the same tools we used previously to accomplish this."
      ]
    },
    {
      "cell_type": "markdown",
      "metadata": {
        "id": "0RN0inkwGTAT",
        "colab_type": "text"
      },
      "source": [
        "### Install libraries and dependencies"
      ]
    },
    {
      "cell_type": "code",
      "metadata": {
        "id": "355SUSnNGVD6",
        "colab_type": "code",
        "outputId": "54eba7f9-6ca1-4f08-c9c7-0ce9dd4b4d32",
        "colab": {
          "base_uri": "https://localhost:8080/",
          "height": 921
        }
      },
      "source": [
        "# PySyft\n",
        "\n",
        "!pip install syft\n",
        "\n",
        "import syft as sy\n",
        "\n",
        "# PyTorch\n",
        "\n",
        "!pip install torch\n",
        "!pip install torchvision\n",
        "\n",
        "import torch\n",
        "import torch.nn as nn\n",
        "import torch.nn.functional as F\n",
        "import torch.optim as optim\n",
        "from torch.utils.data import TensorDataset, DataLoader\n",
        "\n",
        "import torchvision\n",
        "from torchvision import datasets, transforms\n",
        "\n",
        "# Numpy\n",
        "\n",
        "import numpy as np\n",
        "\n",
        "# time\n",
        "\n",
        "import time"
      ],
      "execution_count": 108,
      "outputs": [
        {
          "output_type": "stream",
          "text": [
            "Requirement already satisfied: syft in /usr/local/lib/python3.6/dist-packages (0.1.21a1)\n",
            "Requirement already satisfied: websocket-client>=0.56.0 in /usr/local/lib/python3.6/dist-packages (from syft) (0.56.0)\n",
            "Requirement already satisfied: torch>=1.1 in /usr/local/lib/python3.6/dist-packages (from syft) (1.1.0)\n",
            "Requirement already satisfied: lz4>=2.1.6 in /usr/local/lib/python3.6/dist-packages (from syft) (2.1.10)\n",
            "Requirement already satisfied: tf-encrypted>=0.5.4 in /usr/local/lib/python3.6/dist-packages (from syft) (0.5.7)\n",
            "Requirement already satisfied: numpy>=1.14.0 in /usr/local/lib/python3.6/dist-packages (from syft) (1.16.4)\n",
            "Requirement already satisfied: tblib>=1.4.0 in /usr/local/lib/python3.6/dist-packages (from syft) (1.4.0)\n",
            "Requirement already satisfied: scikit-learn>=0.21.0 in /usr/local/lib/python3.6/dist-packages (from syft) (0.21.2)\n",
            "Requirement already satisfied: websockets>=7.0 in /usr/local/lib/python3.6/dist-packages (from syft) (8.0.1)\n",
            "Requirement already satisfied: msgpack>=0.6.1 in /usr/local/lib/python3.6/dist-packages (from syft) (0.6.1)\n",
            "Requirement already satisfied: zstd>=1.4.0.0 in /usr/local/lib/python3.6/dist-packages (from syft) (1.4.1.0)\n",
            "Requirement already satisfied: Flask>=1.0.2 in /usr/local/lib/python3.6/dist-packages (from syft) (1.1.1)\n",
            "Requirement already satisfied: torchvision>=0.3.0 in /usr/local/lib/python3.6/dist-packages (from syft) (0.3.0)\n",
            "Requirement already satisfied: flask-socketio>=3.3.2 in /usr/local/lib/python3.6/dist-packages (from syft) (4.1.0)\n",
            "Requirement already satisfied: six in /usr/local/lib/python3.6/dist-packages (from websocket-client>=0.56.0->syft) (1.12.0)\n",
            "Requirement already satisfied: pyyaml>=5.1 in /usr/local/lib/python3.6/dist-packages (from tf-encrypted>=0.5.4->syft) (5.1.1)\n",
            "Requirement already satisfied: tensorflow<2,>=1.12.0 in /usr/local/lib/python3.6/dist-packages (from tf-encrypted>=0.5.4->syft) (1.14.0)\n",
            "Requirement already satisfied: scipy>=0.17.0 in /usr/local/lib/python3.6/dist-packages (from scikit-learn>=0.21.0->syft) (1.3.0)\n",
            "Requirement already satisfied: joblib>=0.11 in /usr/local/lib/python3.6/dist-packages (from scikit-learn>=0.21.0->syft) (0.13.2)\n",
            "Requirement already satisfied: click>=5.1 in /usr/local/lib/python3.6/dist-packages (from Flask>=1.0.2->syft) (7.0)\n",
            "Requirement already satisfied: Werkzeug>=0.15 in /usr/local/lib/python3.6/dist-packages (from Flask>=1.0.2->syft) (0.15.5)\n",
            "Requirement already satisfied: Jinja2>=2.10.1 in /usr/local/lib/python3.6/dist-packages (from Flask>=1.0.2->syft) (2.10.1)\n",
            "Requirement already satisfied: itsdangerous>=0.24 in /usr/local/lib/python3.6/dist-packages (from Flask>=1.0.2->syft) (1.1.0)\n",
            "Requirement already satisfied: pillow>=4.1.1 in /usr/local/lib/python3.6/dist-packages (from torchvision>=0.3.0->syft) (4.3.0)\n",
            "Requirement already satisfied: python-socketio>=2.1.0 in /usr/local/lib/python3.6/dist-packages (from flask-socketio>=3.3.2->syft) (4.2.0)\n",
            "Requirement already satisfied: keras-applications>=1.0.6 in /usr/local/lib/python3.6/dist-packages (from tensorflow<2,>=1.12.0->tf-encrypted>=0.5.4->syft) (1.0.8)\n",
            "Requirement already satisfied: wrapt>=1.11.1 in /usr/local/lib/python3.6/dist-packages (from tensorflow<2,>=1.12.0->tf-encrypted>=0.5.4->syft) (1.11.2)\n",
            "Requirement already satisfied: tensorboard<1.15.0,>=1.14.0 in /usr/local/lib/python3.6/dist-packages (from tensorflow<2,>=1.12.0->tf-encrypted>=0.5.4->syft) (1.14.0)\n",
            "Requirement already satisfied: wheel>=0.26 in /usr/local/lib/python3.6/dist-packages (from tensorflow<2,>=1.12.0->tf-encrypted>=0.5.4->syft) (0.33.4)\n",
            "Requirement already satisfied: termcolor>=1.1.0 in /usr/local/lib/python3.6/dist-packages (from tensorflow<2,>=1.12.0->tf-encrypted>=0.5.4->syft) (1.1.0)\n",
            "Requirement already satisfied: absl-py>=0.7.0 in /usr/local/lib/python3.6/dist-packages (from tensorflow<2,>=1.12.0->tf-encrypted>=0.5.4->syft) (0.7.1)\n",
            "Requirement already satisfied: gast>=0.2.0 in /usr/local/lib/python3.6/dist-packages (from tensorflow<2,>=1.12.0->tf-encrypted>=0.5.4->syft) (0.2.2)\n",
            "Requirement already satisfied: protobuf>=3.6.1 in /usr/local/lib/python3.6/dist-packages (from tensorflow<2,>=1.12.0->tf-encrypted>=0.5.4->syft) (3.7.1)\n",
            "Requirement already satisfied: google-pasta>=0.1.6 in /usr/local/lib/python3.6/dist-packages (from tensorflow<2,>=1.12.0->tf-encrypted>=0.5.4->syft) (0.1.7)\n",
            "Requirement already satisfied: keras-preprocessing>=1.0.5 in /usr/local/lib/python3.6/dist-packages (from tensorflow<2,>=1.12.0->tf-encrypted>=0.5.4->syft) (1.1.0)\n",
            "Requirement already satisfied: tensorflow-estimator<1.15.0rc0,>=1.14.0rc0 in /usr/local/lib/python3.6/dist-packages (from tensorflow<2,>=1.12.0->tf-encrypted>=0.5.4->syft) (1.14.0)\n",
            "Requirement already satisfied: astor>=0.6.0 in /usr/local/lib/python3.6/dist-packages (from tensorflow<2,>=1.12.0->tf-encrypted>=0.5.4->syft) (0.8.0)\n",
            "Requirement already satisfied: grpcio>=1.8.6 in /usr/local/lib/python3.6/dist-packages (from tensorflow<2,>=1.12.0->tf-encrypted>=0.5.4->syft) (1.15.0)\n",
            "Requirement already satisfied: MarkupSafe>=0.23 in /usr/local/lib/python3.6/dist-packages (from Jinja2>=2.10.1->Flask>=1.0.2->syft) (1.1.1)\n",
            "Requirement already satisfied: olefile in /usr/local/lib/python3.6/dist-packages (from pillow>=4.1.1->torchvision>=0.3.0->syft) (0.46)\n",
            "Requirement already satisfied: python-engineio>=3.8.0 in /usr/local/lib/python3.6/dist-packages (from python-socketio>=2.1.0->flask-socketio>=3.3.2->syft) (3.8.2.post1)\n",
            "Requirement already satisfied: h5py in /usr/local/lib/python3.6/dist-packages (from keras-applications>=1.0.6->tensorflow<2,>=1.12.0->tf-encrypted>=0.5.4->syft) (2.8.0)\n",
            "Requirement already satisfied: setuptools>=41.0.0 in /usr/local/lib/python3.6/dist-packages (from tensorboard<1.15.0,>=1.14.0->tensorflow<2,>=1.12.0->tf-encrypted>=0.5.4->syft) (41.0.1)\n",
            "Requirement already satisfied: markdown>=2.6.8 in /usr/local/lib/python3.6/dist-packages (from tensorboard<1.15.0,>=1.14.0->tensorflow<2,>=1.12.0->tf-encrypted>=0.5.4->syft) (3.1.1)\n",
            "Requirement already satisfied: torch in /usr/local/lib/python3.6/dist-packages (1.1.0)\n",
            "Requirement already satisfied: numpy in /usr/local/lib/python3.6/dist-packages (from torch) (1.16.4)\n",
            "Requirement already satisfied: torchvision in /usr/local/lib/python3.6/dist-packages (0.3.0)\n",
            "Requirement already satisfied: pillow>=4.1.1 in /usr/local/lib/python3.6/dist-packages (from torchvision) (4.3.0)\n",
            "Requirement already satisfied: six in /usr/local/lib/python3.6/dist-packages (from torchvision) (1.12.0)\n",
            "Requirement already satisfied: numpy in /usr/local/lib/python3.6/dist-packages (from torchvision) (1.16.4)\n",
            "Requirement already satisfied: torch>=1.1.0 in /usr/local/lib/python3.6/dist-packages (from torchvision) (1.1.0)\n",
            "Requirement already satisfied: olefile in /usr/local/lib/python3.6/dist-packages (from pillow>=4.1.1->torchvision) (0.46)\n"
          ],
          "name": "stdout"
        }
      ]
    },
    {
      "cell_type": "markdown",
      "metadata": {
        "id": "sq8Iba7FaOl_",
        "colab_type": "text"
      },
      "source": [
        "# Project: Federated Learning with a Trusted Aggregator"
      ]
    },
    {
      "cell_type": "code",
      "metadata": {
        "id": "T_aKplNKaOmD",
        "colab_type": "code",
        "colab": {}
      },
      "source": [
        "# try this project here!"
      ],
      "execution_count": 0,
      "outputs": []
    },
    {
      "cell_type": "markdown",
      "metadata": {
        "id": "3QxB76WICItF",
        "colab_type": "text"
      },
      "source": [
        "### Instructor's Work"
      ]
    },
    {
      "cell_type": "code",
      "metadata": {
        "id": "gtRx8-evCILB",
        "colab_type": "code",
        "colab": {
          "base_uri": "https://localhost:8080/",
          "height": 34
        },
        "outputId": "34d2096f-5dee-47f2-8603-a06f407d997c"
      },
      "source": [
        "import syft as sy\n",
        "import torch\n",
        "hook = sy.TorchHook(torch)\n",
        "from torch import nn, optim"
      ],
      "execution_count": 110,
      "outputs": [
        {
          "output_type": "stream",
          "text": [
            "W0724 21:32:27.047925 140090936674176 hook.py:98] Torch was already hooked... skipping hooking process\n"
          ],
          "name": "stderr"
        }
      ]
    },
    {
      "cell_type": "code",
      "metadata": {
        "id": "YDQnFg98aOmO",
        "colab_type": "code",
        "colab": {}
      },
      "source": [
        "# create a few workers\n",
        "\n",
        "bob = sy.VirtualWorker(hook, id=\"bob\")\n",
        "alice = sy.VirtualWorker(hook, id=\"alice\")\n",
        "secure_worker = sy.VirtualWorker(hook, id=\"secure_worker\")"
      ],
      "execution_count": 0,
      "outputs": []
    },
    {
      "cell_type": "code",
      "metadata": {
        "id": "KCUIKdajaOmV",
        "colab_type": "code",
        "colab": {
          "base_uri": "https://localhost:8080/",
          "height": 156
        },
        "outputId": "100fe00b-c0cb-4045-a099-6140057e2491"
      },
      "source": [
        "# inform each worker that the other workers exist\n",
        "\n",
        "bob.add_workers([alice, secure_worker])\n",
        "alice.add_workers([bob, secure_worker])\n",
        "secure_worker.add_workers([bob, alice])"
      ],
      "execution_count": 112,
      "outputs": [
        {
          "output_type": "stream",
          "text": [
            "W0724 21:32:27.084788 140090936674176 base.py:628] Worker alice already exists. Replacing old worker which could cause                     unexpected behavior\n",
            "W0724 21:32:27.088282 140090936674176 base.py:628] Worker secure_worker already exists. Replacing old worker which could cause                     unexpected behavior\n",
            "W0724 21:32:27.090273 140090936674176 base.py:628] Worker bob already exists. Replacing old worker which could cause                     unexpected behavior\n",
            "W0724 21:32:27.093098 140090936674176 base.py:628] Worker secure_worker already exists. Replacing old worker which could cause                     unexpected behavior\n",
            "W0724 21:32:27.094432 140090936674176 base.py:628] Worker bob already exists. Replacing old worker which could cause                     unexpected behavior\n",
            "W0724 21:32:27.097769 140090936674176 base.py:628] Worker alice already exists. Replacing old worker which could cause                     unexpected behavior\n"
          ],
          "name": "stderr"
        },
        {
          "output_type": "execute_result",
          "data": {
            "text/plain": [
              "<VirtualWorker id:secure_worker #objects:0>"
            ]
          },
          "metadata": {
            "tags": []
          },
          "execution_count": 112
        }
      ]
    },
    {
      "cell_type": "code",
      "metadata": {
        "id": "rmxe8KRJaOmd",
        "colab_type": "code",
        "colab": {}
      },
      "source": [
        "# Same Toy Dataset and simple linear model\n",
        "\n",
        "data = torch.tensor([[0,0], [0,1], [1,0], [1,1.]], requires_grad=True)\n",
        "target = torch.tensor([[0], [0], [1], [1.]], requires_grad=True)"
      ],
      "execution_count": 0,
      "outputs": []
    },
    {
      "cell_type": "code",
      "metadata": {
        "id": "H-m2myhuaOmk",
        "colab_type": "code",
        "colab": {}
      },
      "source": [
        "# get pointers to training data on each worker by sending some training data to bob and alice\n",
        "\n",
        "bobs_data = data[0:2].send(bob)\n",
        "bobs_target = target[0:2].send(bob)\n",
        "\n",
        "alices_data = data[2:].send(alice)\n",
        "alices_target = target[2:].send(alice)"
      ],
      "execution_count": 0,
      "outputs": []
    },
    {
      "cell_type": "code",
      "metadata": {
        "id": "eFdfkcnnDQ_I",
        "colab_type": "code",
        "colab": {}
      },
      "source": [
        "# initialize a Toy Model\n",
        "\n",
        "model = nn.Linear(2, 1)"
      ],
      "execution_count": 0,
      "outputs": []
    },
    {
      "cell_type": "code",
      "metadata": {
        "id": "CgdGhlWpDQ59",
        "colab_type": "code",
        "colab": {}
      },
      "source": [
        "# instead of having one model, have two different models that we send to the two different workers so that they can be averaged.\n",
        "\n",
        "bobs_model = model.copy().send(bob)\n",
        "alices_model = model.copy().send(alice)"
      ],
      "execution_count": 0,
      "outputs": []
    },
    {
      "cell_type": "code",
      "metadata": {
        "id": "0KmK1pxgDQy2",
        "colab_type": "code",
        "colab": {}
      },
      "source": [
        "# create two separate optimizers\n",
        "\n",
        "bobs_opt = optim.SGD(params=bobs_model.parameters(), lr=0.1)\n",
        "alices_opt = optim.SGD(params=alices_model.parameters(), lr=0.1)"
      ],
      "execution_count": 0,
      "outputs": []
    },
    {
      "cell_type": "code",
      "metadata": {
        "id": "J4ZbPmjEaOmr",
        "colab_type": "code",
        "outputId": "a04dfcee-39e8-4587-d83b-9aed9e8fcf8c",
        "colab": {
          "base_uri": "https://localhost:8080/",
          "height": 1000
        }
      },
      "source": [
        "# train the models\n",
        "\n",
        "for round_iter in range(10):\n",
        "  \n",
        "  bobs_model = model.copy().send(bob)\n",
        "  alices_model = model.copy().send(alice)\n",
        "  \n",
        "  bobs_opt = optim.SGD(params=bobs_model.parameters(), lr=0.1)\n",
        "  alices_opt = optim.SGD(params=alices_model.parameters(), lr=0.1)\n",
        "  \n",
        "  for i in range(10):\n",
        "    \n",
        "    bobs_opt.zero_grad()\n",
        "    bobs_pred = bobs_model(bobs_data)\n",
        "    bobs_loss = ((bobs_pred - bobs_target) **2).sum()\n",
        "    bobs_loss.backward()\n",
        "    \n",
        "    bobs_opt.step()\n",
        "    bobs_loss = bobs_loss.get().data\n",
        "    bobs_loss\n",
        "    \n",
        "    alices_opt.zero_grad()\n",
        "    alices_pred = alices_model(alices_data)\n",
        "    alices_loss = ((alices_pred - alices_target) **2).sum()\n",
        "    alices_loss.backward()\n",
        "    \n",
        "    alices_opt.step()\n",
        "    alices_loss = alices_loss.get().data\n",
        "    alices_loss\n",
        "  \n",
        "  bobs_model.move(secure_worker)\n",
        "  alices_model.move(secure_worker)\n",
        "  \n",
        "  with torch.no_grad():\n",
        "    weights = model.weight.set_(((alices_model.weight.data + bobs_model.weight.data) / 2).get())\n",
        "    bias = model.bias.set_(((alices_model.bias.data + bobs_model.bias.data) / 2).get())\n",
        "  \n",
        "  secure_worker.clear_objects()\n",
        "  \n",
        "  print(\"Iteration:\\t\", round_iter)\n",
        "  print(\"Bob:\\t\", str(bobs_loss), \"\\tAlice:\\t\", str(alices_loss))\n",
        "  print(\"Weights: \", str(weights), \"\\nBias: \", str(bias),\"\\n\")"
      ],
      "execution_count": 118,
      "outputs": [
        {
          "output_type": "stream",
          "text": [
            "Iteration:\t 0\n",
            "Bob:\t tensor(0.0172) \tAlice:\t tensor(0.0478)\n",
            "Weights:  Parameter containing:\n",
            "tensor([[0.0520, 0.2233]], requires_grad=True) \n",
            "Bias:  Parameter containing:\n",
            "tensor([0.1860], requires_grad=True) \n",
            "\n",
            "Iteration:\t 1\n",
            "Bob:\t tensor(0.0008) \tAlice:\t tensor(0.0139)\n",
            "Weights:  Parameter containing:\n",
            "tensor([[0.2214, 0.0932]], requires_grad=True) \n",
            "Bias:  Parameter containing:\n",
            "tensor([0.2514], requires_grad=True) \n",
            "\n",
            "Iteration:\t 2\n",
            "Bob:\t tensor(0.0003) \tAlice:\t tensor(0.0042)\n",
            "Weights:  Parameter containing:\n",
            "tensor([[0.3415, 0.0315]], requires_grad=True) \n",
            "Bias:  Parameter containing:\n",
            "tensor([0.2522], requires_grad=True) \n",
            "\n",
            "Iteration:\t 3\n",
            "Bob:\t tensor(0.0010) \tAlice:\t tensor(0.0015)\n",
            "Weights:  Parameter containing:\n",
            "tensor([[0.4360, 0.0048]], requires_grad=True) \n",
            "Bias:  Parameter containing:\n",
            "tensor([0.2332], requires_grad=True) \n",
            "\n",
            "Iteration:\t 4\n",
            "Bob:\t tensor(0.0013) \tAlice:\t tensor(0.0007)\n",
            "Weights:  Parameter containing:\n",
            "tensor([[ 0.5140, -0.0059]], requires_grad=True) \n",
            "Bias:  Parameter containing:\n",
            "tensor([0.2087], requires_grad=True) \n",
            "\n",
            "Iteration:\t 5\n",
            "Bob:\t tensor(0.0012) \tAlice:\t tensor(0.0004)\n",
            "Weights:  Parameter containing:\n",
            "tensor([[ 0.5798, -0.0096]], requires_grad=True) \n",
            "Bias:  Parameter containing:\n",
            "tensor([0.1839], requires_grad=True) \n",
            "\n",
            "Iteration:\t 6\n",
            "Bob:\t tensor(0.0010) \tAlice:\t tensor(0.0002)\n",
            "Weights:  Parameter containing:\n",
            "tensor([[ 0.6361, -0.0103]], requires_grad=True) \n",
            "Bias:  Parameter containing:\n",
            "tensor([0.1608], requires_grad=True) \n",
            "\n",
            "Iteration:\t 7\n",
            "Bob:\t tensor(0.0008) \tAlice:\t tensor(0.0002)\n",
            "Weights:  Parameter containing:\n",
            "tensor([[ 0.6847, -0.0098]], requires_grad=True) \n",
            "Bias:  Parameter containing:\n",
            "tensor([0.1400], requires_grad=True) \n",
            "\n",
            "Iteration:\t 8\n",
            "Bob:\t tensor(0.0006) \tAlice:\t tensor(0.0001)\n",
            "Weights:  Parameter containing:\n",
            "tensor([[ 0.7266, -0.0089]], requires_grad=True) \n",
            "Bias:  Parameter containing:\n",
            "tensor([0.1217], requires_grad=True) \n",
            "\n",
            "Iteration:\t 9\n",
            "Bob:\t tensor(0.0005) \tAlice:\t tensor(8.2258e-05)\n",
            "Weights:  Parameter containing:\n",
            "tensor([[ 0.7629, -0.0079]], requires_grad=True) \n",
            "Bias:  Parameter containing:\n",
            "tensor([0.1057], requires_grad=True) \n",
            "\n"
          ],
          "name": "stdout"
        }
      ]
    },
    {
      "cell_type": "markdown",
      "metadata": {
        "id": "eX9uUUHWaOmy",
        "colab_type": "text"
      },
      "source": [
        "# Lesson: Intro to Additive Secret Sharing\n",
        "\n",
        "While being able to have a trusted third party to perform the aggregation is certainly nice, in an ideal setting we wouldn't have to trust anyone at all. This is where Cryptography can provide an interesting alterantive. \n",
        "\n",
        "Specifically, we're going to be looking at a simple protocol for Secure Multi-Party Computation called Additive Secret Sharing. This protocol will allow multiple parties (of size 3 or more) to aggregate their gradients without the use of a trusted 3rd party to perform the aggregation. In other words, we can add 3 numbers together from 3 different people without anyone ever learning the inputs of any other actors.\n",
        "\n",
        "Let's start by considering the number 5, which we'll put into a varible x"
      ]
    },
    {
      "cell_type": "code",
      "metadata": {
        "id": "k1lqIxO8aOm0",
        "colab_type": "code",
        "colab": {}
      },
      "source": [
        "x = 5"
      ],
      "execution_count": 0,
      "outputs": []
    },
    {
      "cell_type": "markdown",
      "metadata": {
        "id": "AdiQY-iDaOm7",
        "colab_type": "text"
      },
      "source": [
        "Let's say we wanted to SHARE the ownership of this number between two people, Alice and Bob. We could split this number into two shares, 2, and 3, and give one to Alice and one to Bob"
      ]
    },
    {
      "cell_type": "code",
      "metadata": {
        "id": "Pg-ujOdkaOm-",
        "colab_type": "code",
        "outputId": "a8ff7675-d25e-4d09-93cf-5b6099bfc43e",
        "colab": {
          "base_uri": "https://localhost:8080/",
          "height": 34
        }
      },
      "source": [
        "bob_x_share = 2\n",
        "alice_x_share = 3\n",
        "\n",
        "decrypted_x = bob_x_share + alice_x_share\n",
        "decrypted_x"
      ],
      "execution_count": 120,
      "outputs": [
        {
          "output_type": "execute_result",
          "data": {
            "text/plain": [
              "5"
            ]
          },
          "metadata": {
            "tags": []
          },
          "execution_count": 120
        }
      ]
    },
    {
      "cell_type": "markdown",
      "metadata": {
        "id": "NO4WO_lJaOnQ",
        "colab_type": "text"
      },
      "source": [
        "Note that neither Bob nor Alice know the value of x. They only know the value of their own SHARE of x. Thus, the true value of X is hidden (i.e., encrypted). \n",
        "\n",
        "The truly amazing thing, however, is that Alice and Bob can still compute using this value! They can perform arithmetic over the hidden value! Let's say Bob and Alice wanted to multiply this value by 2! If each of them multiplied their respective share by 2, then the hidden number between them is also multiplied! Check it out!"
      ]
    },
    {
      "cell_type": "code",
      "metadata": {
        "id": "sYHci918aOnS",
        "colab_type": "code",
        "outputId": "9d5c7400-9e75-44dc-fa26-982b943690ce",
        "colab": {
          "base_uri": "https://localhost:8080/",
          "height": 34
        }
      },
      "source": [
        "bob_x_share = 2 * 2\n",
        "alice_x_share = 3 * 2\n",
        "\n",
        "decrypted_x = bob_x_share + alice_x_share\n",
        "decrypted_x"
      ],
      "execution_count": 121,
      "outputs": [
        {
          "output_type": "execute_result",
          "data": {
            "text/plain": [
              "10"
            ]
          },
          "metadata": {
            "tags": []
          },
          "execution_count": 121
        }
      ]
    },
    {
      "cell_type": "markdown",
      "metadata": {
        "id": "CahOx-EeaOnd",
        "colab_type": "text"
      },
      "source": [
        "This even works for addition between two shared values!!"
      ]
    },
    {
      "cell_type": "code",
      "metadata": {
        "id": "1UjdTG4YaOnf",
        "colab_type": "code",
        "outputId": "b5c5ca83-50d0-45e0-fa45-2ee1fa11fffe",
        "colab": {
          "base_uri": "https://localhost:8080/",
          "height": 34
        }
      },
      "source": [
        "# encrypted \"5\"\n",
        "bob_x_share = 2\n",
        "alice_x_share = 3\n",
        "\n",
        "# encrypted \"7\"\n",
        "bob_y_share = 5\n",
        "alice_y_share = 2\n",
        "\n",
        "# encrypted 5 + 7\n",
        "bob_z_share = bob_x_share + bob_y_share\n",
        "alice_z_share = alice_x_share + alice_y_share\n",
        "\n",
        "decrypted_z = bob_z_share + alice_z_share\n",
        "decrypted_z"
      ],
      "execution_count": 122,
      "outputs": [
        {
          "output_type": "execute_result",
          "data": {
            "text/plain": [
              "12"
            ]
          },
          "metadata": {
            "tags": []
          },
          "execution_count": 122
        }
      ]
    },
    {
      "cell_type": "markdown",
      "metadata": {
        "id": "_vBygY8IaOnp",
        "colab_type": "text"
      },
      "source": [
        "As you can see, we just added two numbers together while they were still encrypted!!!\n",
        "\n",
        "One small tweak - notice that since all our numbers are positive, it's possible for each share to reveal a little bit of information about the hidden value, namely, it's always greater than the share. Thus, if Bob has a share \"3\" then he knows that the encrypted value is at least 3.\n",
        "\n",
        "This would be quite bad, but can be solved through a simple fix. Decryption happens by summing all the shares together MODULUS some constant. I.e."
      ]
    },
    {
      "cell_type": "code",
      "metadata": {
        "id": "zXxARaataOnr",
        "colab_type": "code",
        "outputId": "22ad9197-fcac-4921-857d-623b75d102c2",
        "colab": {
          "base_uri": "https://localhost:8080/",
          "height": 34
        }
      },
      "source": [
        "x = 5\n",
        "\n",
        "Q = 23740629843760239486723\n",
        "\n",
        "bob_x_share = 23552870267 # <- a random number\n",
        "alice_x_share = Q - bob_x_share + x\n",
        "alice_x_share"
      ],
      "execution_count": 123,
      "outputs": [
        {
          "output_type": "execute_result",
          "data": {
            "text/plain": [
              "23740629843736686616461"
            ]
          },
          "metadata": {
            "tags": []
          },
          "execution_count": 123
        }
      ]
    },
    {
      "cell_type": "code",
      "metadata": {
        "id": "r67WBxzTaOn1",
        "colab_type": "code",
        "outputId": "755c4a51-7dd6-4612-c687-811bdb95dda3",
        "colab": {
          "base_uri": "https://localhost:8080/",
          "height": 34
        }
      },
      "source": [
        "(bob_x_share + alice_x_share) % Q"
      ],
      "execution_count": 124,
      "outputs": [
        {
          "output_type": "execute_result",
          "data": {
            "text/plain": [
              "5"
            ]
          },
          "metadata": {
            "tags": []
          },
          "execution_count": 124
        }
      ]
    },
    {
      "cell_type": "markdown",
      "metadata": {
        "id": "YxzwV1iZaOoC",
        "colab_type": "text"
      },
      "source": [
        "So now, as you can see, both shares are wildly larger than the number being shared, meaning that individual shares no longer leak this inforation. However, all the properties we discussed earlier still hold! (addition, encryption, decryption, etc.)"
      ]
    },
    {
      "cell_type": "markdown",
      "metadata": {
        "id": "mzkTC1UUaOoE",
        "colab_type": "text"
      },
      "source": [
        "# Project: Build Methods for Encrypt, Decrypt, and Add \n",
        "\n",
        "In this project, you must take the lessons we learned in the last section and write general methods for encrypt, decrypt, and add. Store shares for a variable in a tuple like so."
      ]
    },
    {
      "cell_type": "code",
      "metadata": {
        "id": "RPyDd_n1aOoH",
        "colab_type": "code",
        "colab": {}
      },
      "source": [
        "x_share = (2,5,7)"
      ],
      "execution_count": 0,
      "outputs": []
    },
    {
      "cell_type": "markdown",
      "metadata": {
        "id": "8UIPgJ_laOoO",
        "colab_type": "text"
      },
      "source": [
        "Even though normally those shares would be distributed amongst several workers, you can store them in ordered tuples like this for now :)"
      ]
    },
    {
      "cell_type": "code",
      "metadata": {
        "id": "c9Yc4C5gaOoQ",
        "colab_type": "code",
        "colab": {}
      },
      "source": [
        "# try this project here!"
      ],
      "execution_count": 0,
      "outputs": []
    },
    {
      "cell_type": "markdown",
      "metadata": {
        "id": "E3jpzoTONhRW",
        "colab_type": "text"
      },
      "source": [
        "### My work\n",
        "\n",
        "Create a method called <strong>encrypt()</strong>  \n",
        "<ul>\n",
        "  <li>Accepts two input parameters:\n",
        "    <ul>\n",
        "      <li>Number to be encrypted</li>\n",
        "      <li>Number of shares to be split into</li>\n",
        "    </ul>\n",
        "  </li>\n",
        "  <li>Returns a tuple of shares</li>\n",
        "</ul>\n",
        "\n",
        "Create a method called <strong>decrypt()</strong>  \n",
        "* Accepts as input a tuple of shares \n",
        "* Returns the decrypted value \n",
        "\n",
        "Create a method called <strong>add()</strong> \n",
        "* Accepts two tuples of shares \n",
        "* Returns a single tuple of shares which are added correctly according to the additive secret sharing protocol."
      ]
    },
    {
      "cell_type": "code",
      "metadata": {
        "id": "gAFXLroBNgNK",
        "colab_type": "code",
        "colab": {}
      },
      "source": [
        "def encrypt(orig_number, num_shares, Q):\n",
        "  x = int(orig_number)\n",
        "  \n",
        "  # Q = 23740629843760239486723 #large prime number\n",
        "  \n",
        "  shares = []\n",
        "  share_sum = int()\n",
        "  \n",
        "  for i in range(num_shares - 1):\n",
        "    share = torch.randn(1) * 100000000000\n",
        "    shares.append(int(share.item()))\n",
        "  \n",
        "  last_share = Q - int(sum(shares)) + x\n",
        "  shares.append(last_share)\n",
        "  \n",
        "  sum_out = sum(shares)\n",
        "  \n",
        "  shares = tuple(shares)\n",
        "  \n",
        "  # validation:\n",
        "  # print(sum_out % Q)\n",
        "  \n",
        "  return(shares)"
      ],
      "execution_count": 0,
      "outputs": []
    },
    {
      "cell_type": "code",
      "metadata": {
        "id": "6AvP5Qo1aOoi",
        "colab_type": "code",
        "colab": {}
      },
      "source": [
        "def decrypt(encrypted_shares, Q):\n",
        "  sum_shares = sum(encrypted_shares)\n",
        "  decrypted = sum_shares % Q\n",
        "  return decrypted"
      ],
      "execution_count": 0,
      "outputs": []
    },
    {
      "cell_type": "code",
      "metadata": {
        "id": "VDCuCTOIaOoX",
        "colab_type": "code",
        "colab": {
          "base_uri": "https://localhost:8080/",
          "height": 71
        },
        "outputId": "527eabfc-dd46-4695-9bb0-201cf13e45ca"
      },
      "source": [
        "Q = 23740629843760239486723 #large prime number \n",
        "shares = encrypt(5, 200, Q)\n",
        "print(shares)\n",
        "decrypted = decrypt(shares, Q)\n",
        "print(decrypted)"
      ],
      "execution_count": 129,
      "outputs": [
        {
          "output_type": "stream",
          "text": [
            "(-16299107328, 16417369088, -87592714240, -16138979328, 97785233408, -75280007168, -11164367872, 9505028096, -5318636032, 119584915456, -29610129408, -84420255744, -53044461568, -66198859776, -176867803136, -45476708352, -35281326080, 127880822784, 23148783616, 77031047168, -288498221056, -51866673152, -104891056128, 100198334464, 48427098112, -122550591488, -18821804032, -94069440512, 165857132544, -34860232704, -53949571072, 194290614272, 188169125888, 214135734272, 47238971392, -61646286848, 5192459776, 17673449472, 49621430272, -65583263744, 199062110208, 265959276544, 66966253568, 82215534592, -138244014080, 20322711552, -11248312320, -57689669632, -45540872192, -24303663104, 148596850688, -169381871616, 67125932032, -67575627776, -155408334848, -39351701504, -49157603328, 114195079168, 127995027456, 23084216320, -20253329408, 127976472576, 119955021824, -80149897216, 119349608448, 71245840384, -8270036480, -103439720448, 30777206784, 74971840512, -53201084416, 132974714880, -59341070336, 78246420480, 141401686016, 29597054976, 238562213888, 170960732160, 46158102528, -82914869248, -154157580288, -178846957568, 35048054784, -194275917824, -13547811840, 159899467776, -32489463808, 12170235904, -15884728320, 63223074816, -77662576640, 179621855232, 85776916480, 17067988992, 25398874112, -174081671168, 12228254720, -55641137152, 156554739712, 24734849024, 22009638912, 142465712128, -149095727104, -15044231168, 227909910528, 83093274624, 103416700928, 88474091520, 13512335360, 44746170368, 145454481408, 155819999232, 30004846592, 203209818112, -136601731072, -82408488960, 192268337152, -66967666688, 26088046592, 144318152704, 159057084416, -54083280896, -152290836480, -99952599040, -93537755136, 92031893504, -5677300224, 16738467840, -36919902208, -230443859968, -47372750848, 71304658944, -14432252928, -40198832128, 91145068544, 13819187200, -56555241472, 128138420224, 146012405760, -118429302784, -10157150208, -157979721728, 63874420736, -13215248384, 69571944448, -77438033920, 75416141824, -168744697856, -75294556160, 168319074304, 32362893312, 11572195328, 52364300288, -4884304896, -40662986752, -192563740672, 286257872896, -72407515136, 241179181056, 38752288768, -81886019584, 9356092416, 5412066816, -154599112704, -87192584192, 163860021248, 17992212480, -61837881344, 110007017472, 129427718144, -171251515392, -205154369536, 58111160320, 95218958336, -57738739712, -32290568192, 71431340032, 106253254656, 142348861440, -12607363072, 191715409920, 42085826560, 35245129728, -19565856768, -86614704128, -89956737024, 133357871104, -47330222080, -29946537984, -97717723136, -16733202432, -91196375040, -74471612416, 38494552064, 106753826816, -88060575744, -95814713344, -109992574976, 37984579584, 23740629841699701525768)\n",
            "5\n"
          ],
          "name": "stdout"
        }
      ]
    },
    {
      "cell_type": "code",
      "metadata": {
        "id": "geTTom0HaOot",
        "colab_type": "code",
        "colab": {}
      },
      "source": [
        "def add(tuple1, tuple2):\n",
        "  sum_tuple = tuple1 + tuple2\n",
        "  return sum_tuple"
      ],
      "execution_count": 0,
      "outputs": []
    },
    {
      "cell_type": "code",
      "metadata": {
        "id": "lTMHNSeKaOo2",
        "colab_type": "code",
        "colab": {
          "base_uri": "https://localhost:8080/",
          "height": 71
        },
        "outputId": "c74fef4a-6fc3-4888-a117-91d23906b8ac"
      },
      "source": [
        "tuple1 = encrypt(5, 5, Q)\n",
        "tuple2 = encrypt(10, 5, Q)\n",
        "\n",
        "sum_tuple = add(tuple1, tuple2)\n",
        "print(sum_tuple)\n",
        "\n",
        "decrypt(sum_tuple, Q)"
      ],
      "execution_count": 131,
      "outputs": [
        {
          "output_type": "stream",
          "text": [
            "(123663687680, -12077692928, 19199176704, 11176441856, 23740629843618277873416, -85316141056, -102852673536, -76582682624, 2124237568, 23740629844022866746381)\n"
          ],
          "name": "stdout"
        },
        {
          "output_type": "execute_result",
          "data": {
            "text/plain": [
              "15"
            ]
          },
          "metadata": {
            "tags": []
          },
          "execution_count": 131
        }
      ]
    },
    {
      "cell_type": "markdown",
      "metadata": {
        "id": "GEp4vocmcYJW",
        "colab_type": "text"
      },
      "source": [
        "### Instructor's work"
      ]
    },
    {
      "cell_type": "code",
      "metadata": {
        "id": "ezYgiNX-Yx6N",
        "colab_type": "code",
        "colab": {}
      },
      "source": [
        "import random"
      ],
      "execution_count": 0,
      "outputs": []
    },
    {
      "cell_type": "code",
      "metadata": {
        "id": "XKTlK7tLdEKl",
        "colab_type": "code",
        "colab": {}
      },
      "source": [
        "Q = 23740629843760239486723 #large prime number "
      ],
      "execution_count": 0,
      "outputs": []
    },
    {
      "cell_type": "code",
      "metadata": {
        "id": "n2pxfV6RdHTd",
        "colab_type": "code",
        "colab": {}
      },
      "source": [
        "def encrypt(x, n_shares):\n",
        "  shares = list()\n",
        "  for i in range(n_shares - 1):\n",
        "    shares.append(random.randint(0, Q))\n",
        "  final_share = Q - (sum(shares) % Q) + x\n",
        "  shares.append(final_share)\n",
        "  return tuple(shares)"
      ],
      "execution_count": 0,
      "outputs": []
    },
    {
      "cell_type": "code",
      "metadata": {
        "id": "SPGku6jHeSel",
        "colab_type": "code",
        "colab": {
          "base_uri": "https://localhost:8080/",
          "height": 187
        },
        "outputId": "6ee540d1-e8be-468e-bbde-cccb3cdd7c75"
      },
      "source": [
        "encrypt(5, n_shares=10)"
      ],
      "execution_count": 135,
      "outputs": [
        {
          "output_type": "execute_result",
          "data": {
            "text/plain": [
              "(2854763494207068320741,\n",
              " 3529569098382468296771,\n",
              " 2294435248301830186554,\n",
              " 2434768716663077378205,\n",
              " 6853080886763810499533,\n",
              " 18336730970245194223018,\n",
              " 4053270711496065939998,\n",
              " 17180375321928894169655,\n",
              " 19636594857393027052230,\n",
              " 17788930069659521880192)"
            ]
          },
          "metadata": {
            "tags": []
          },
          "execution_count": 135
        }
      ]
    },
    {
      "cell_type": "code",
      "metadata": {
        "id": "nHdEvowdehIa",
        "colab_type": "code",
        "colab": {}
      },
      "source": [
        "def decrypt(shares):\n",
        "  return sum(shares) % Q"
      ],
      "execution_count": 0,
      "outputs": []
    },
    {
      "cell_type": "code",
      "metadata": {
        "id": "a5HRzaDgexdO",
        "colab_type": "code",
        "colab": {
          "base_uri": "https://localhost:8080/",
          "height": 34
        },
        "outputId": "47bb0119-3212-4ab2-a824-cd46c19dc0ab"
      },
      "source": [
        "decrypt(encrypt(5, 10))"
      ],
      "execution_count": 137,
      "outputs": [
        {
          "output_type": "execute_result",
          "data": {
            "text/plain": [
              "5"
            ]
          },
          "metadata": {
            "tags": []
          },
          "execution_count": 137
        }
      ]
    },
    {
      "cell_type": "code",
      "metadata": {
        "id": "U-4bluRge1cd",
        "colab_type": "code",
        "colab": {}
      },
      "source": [
        "def add(a, b):\n",
        "  c = list()\n",
        "  assert(len(a) == len(b))\n",
        "  for i in range(len(a)):\n",
        "    c.append((a[i] + b[i]) % Q)\n",
        "  return tuple(c)"
      ],
      "execution_count": 0,
      "outputs": []
    },
    {
      "cell_type": "code",
      "metadata": {
        "id": "a4_oodXZfVk1",
        "colab_type": "code",
        "colab": {
          "base_uri": "https://localhost:8080/",
          "height": 34
        },
        "outputId": "b4cf7167-2fd6-4cbc-9771-8926be61851e"
      },
      "source": [
        "decrypt(add(encrypt(5, 10), encrypt(5, 10)))"
      ],
      "execution_count": 139,
      "outputs": [
        {
          "output_type": "execute_result",
          "data": {
            "text/plain": [
              "10"
            ]
          },
          "metadata": {
            "tags": []
          },
          "execution_count": 139
        }
      ]
    },
    {
      "cell_type": "markdown",
      "metadata": {
        "id": "EFZbgXdsaOpA",
        "colab_type": "text"
      },
      "source": [
        "# Lesson: Intro to Fixed Precision Encoding\n",
        "\n",
        "As you may remember, our goal is to aggregate gradients using this new Secret Sharing technique. However, the protocol we've just explored in the last section uses positive integers. However, our neural network weights are NOT integers. Instead, our weights are decimals (floating point numbers).\n",
        "\n",
        "Not a huge deal! We just need to use a fixed precision encoding, which lets us do computation over decimal numbers using integers!"
      ]
    },
    {
      "cell_type": "code",
      "metadata": {
        "id": "5taeIZZqaOpC",
        "colab_type": "code",
        "colab": {}
      },
      "source": [
        "BASE=10\n",
        "PRECISION=4"
      ],
      "execution_count": 0,
      "outputs": []
    },
    {
      "cell_type": "code",
      "metadata": {
        "id": "4rO-HlHFaOpJ",
        "colab_type": "code",
        "colab": {}
      },
      "source": [
        "def encode(x):\n",
        "    return int((x * (BASE ** PRECISION)) % Q)\n",
        "\n",
        "def decode(x):\n",
        "    return (x if x <= Q/2 else x - Q) / BASE**PRECISION"
      ],
      "execution_count": 0,
      "outputs": []
    },
    {
      "cell_type": "code",
      "metadata": {
        "id": "S-RRpwNgaOpX",
        "colab_type": "code",
        "outputId": "21f032e1-7922-4230-f722-b70cc4fc0eb9",
        "colab": {
          "base_uri": "https://localhost:8080/",
          "height": 34
        }
      },
      "source": [
        "encode(3.5)"
      ],
      "execution_count": 142,
      "outputs": [
        {
          "output_type": "execute_result",
          "data": {
            "text/plain": [
              "35000"
            ]
          },
          "metadata": {
            "tags": []
          },
          "execution_count": 142
        }
      ]
    },
    {
      "cell_type": "code",
      "metadata": {
        "id": "MRxTbzEXaOpi",
        "colab_type": "code",
        "outputId": "91a490e1-ec67-4a6f-81d4-cbdb26be24d6",
        "colab": {
          "base_uri": "https://localhost:8080/",
          "height": 34
        }
      },
      "source": [
        "decode(35000)"
      ],
      "execution_count": 143,
      "outputs": [
        {
          "output_type": "execute_result",
          "data": {
            "text/plain": [
              "3.5"
            ]
          },
          "metadata": {
            "tags": []
          },
          "execution_count": 143
        }
      ]
    },
    {
      "cell_type": "code",
      "metadata": {
        "id": "n8coAYwPaOpq",
        "colab_type": "code",
        "outputId": "2489cab7-3132-4064-c1dd-9e70b6b2e532",
        "colab": {
          "base_uri": "https://localhost:8080/",
          "height": 34
        }
      },
      "source": [
        "x = encrypt(encode(5.5), 3)\n",
        "y = encrypt(encode(2.3), 3)\n",
        "z = add(x,y)\n",
        "decode(decrypt(z))"
      ],
      "execution_count": 146,
      "outputs": [
        {
          "output_type": "execute_result",
          "data": {
            "text/plain": [
              "7.8"
            ]
          },
          "metadata": {
            "tags": []
          },
          "execution_count": 146
        }
      ]
    },
    {
      "cell_type": "markdown",
      "metadata": {
        "id": "OxndJNJqaOpz",
        "colab_type": "text"
      },
      "source": [
        "# Lesson: Secret Sharing + Fixed Precision in PySyft\n",
        "\n",
        "While writing things from scratch is certainly educational, PySyft makes a great deal of this much easier for us through its abstractions."
      ]
    },
    {
      "cell_type": "code",
      "metadata": {
        "id": "OrYybTrhaOp1",
        "colab_type": "code",
        "colab": {}
      },
      "source": [
        "bob = bob.clear_objects()\n",
        "alice = alice.clear_objects()\n",
        "secure_worker = secure_worker.clear_objects()"
      ],
      "execution_count": 0,
      "outputs": []
    },
    {
      "cell_type": "code",
      "metadata": {
        "id": "6VMAhg6BaOp7",
        "colab_type": "code",
        "colab": {}
      },
      "source": [
        "x = torch.tensor([1,2,3,4,5])"
      ],
      "execution_count": 0,
      "outputs": []
    },
    {
      "cell_type": "markdown",
      "metadata": {
        "id": "18fTR_nKaOqQ",
        "colab_type": "text"
      },
      "source": [
        "### Secret Sharing Using PySyft\n",
        "\n",
        "We can share using the simple .share() method!"
      ]
    },
    {
      "cell_type": "code",
      "metadata": {
        "id": "Y1jCOLObaOqS",
        "colab_type": "code",
        "colab": {}
      },
      "source": [
        "x = x.share(bob, alice, secure_worker)"
      ],
      "execution_count": 0,
      "outputs": []
    },
    {
      "cell_type": "code",
      "metadata": {
        "id": "KePfhEpqaOqd",
        "colab_type": "code",
        "outputId": "e7dca58f-589e-4301-db2e-cd6e05c9ed98",
        "colab": {
          "base_uri": "https://localhost:8080/",
          "height": 51
        }
      },
      "source": [
        "bob._objects"
      ],
      "execution_count": 151,
      "outputs": [
        {
          "output_type": "execute_result",
          "data": {
            "text/plain": [
              "{85389643982: tensor([ 765499672199538488, 2252359132134492253, 2366545669795321936,\n",
              "         2638457181889128042, 2770828211024011279])}"
            ]
          },
          "metadata": {
            "tags": []
          },
          "execution_count": 151
        }
      ]
    },
    {
      "cell_type": "markdown",
      "metadata": {
        "id": "9oLgGcRWaOqp",
        "colab_type": "text"
      },
      "source": [
        "and as you can see, Bob now has one of the shares of x! Furthermore, we can still call addition in this state, and PySyft will automatically perform the remote execution for us!"
      ]
    },
    {
      "cell_type": "code",
      "metadata": {
        "id": "Eurv7F0laOqr",
        "colab_type": "code",
        "colab": {}
      },
      "source": [
        "y = x + x"
      ],
      "execution_count": 0,
      "outputs": []
    },
    {
      "cell_type": "code",
      "metadata": {
        "id": "XRm5jpW6aOqx",
        "colab_type": "code",
        "outputId": "a389287b-5466-4016-cbd7-21ec51094998",
        "colab": {
          "base_uri": "https://localhost:8080/",
          "height": 102
        }
      },
      "source": [
        "y"
      ],
      "execution_count": 153,
      "outputs": [
        {
          "output_type": "execute_result",
          "data": {
            "text/plain": [
              "(Wrapper)>[AdditiveSharingTensor]\n",
              "\t-> (Wrapper)>[PointerTensor | me:40287335887 -> bob:93993341461]\n",
              "\t-> (Wrapper)>[PointerTensor | me:89385662884 -> alice:68538084216]\n",
              "\t-> (Wrapper)>[PointerTensor | me:84343111995 -> secure_worker:38758458912]\n",
              "\t*crypto provider: me*"
            ]
          },
          "metadata": {
            "tags": []
          },
          "execution_count": 153
        }
      ]
    },
    {
      "cell_type": "code",
      "metadata": {
        "id": "bmASr4yVaOq7",
        "colab_type": "code",
        "outputId": "de560085-3c76-4c41-be69-da3ced0e1a8c",
        "colab": {
          "base_uri": "https://localhost:8080/",
          "height": 34
        }
      },
      "source": [
        "y.get()"
      ],
      "execution_count": 154,
      "outputs": [
        {
          "output_type": "execute_result",
          "data": {
            "text/plain": [
              "tensor([ 2,  4,  6,  8, 10])"
            ]
          },
          "metadata": {
            "tags": []
          },
          "execution_count": 154
        }
      ]
    },
    {
      "cell_type": "markdown",
      "metadata": {
        "id": "USsIL-fvaOrH",
        "colab_type": "text"
      },
      "source": [
        "### Fixed Precision using PySyft\n",
        "\n",
        "We can also convert a tensor to fixed precision using .fix_precision()"
      ]
    },
    {
      "cell_type": "code",
      "metadata": {
        "id": "Ro6HYYKIaOrJ",
        "colab_type": "code",
        "colab": {}
      },
      "source": [
        "x = torch.tensor([0.1,0.2,0.3])"
      ],
      "execution_count": 0,
      "outputs": []
    },
    {
      "cell_type": "code",
      "metadata": {
        "id": "o0F7XtYoaOrV",
        "colab_type": "code",
        "outputId": "28ec77d5-fbaf-46b7-c546-bff3daaea0c4",
        "colab": {
          "base_uri": "https://localhost:8080/",
          "height": 34
        }
      },
      "source": [
        "x"
      ],
      "execution_count": 157,
      "outputs": [
        {
          "output_type": "execute_result",
          "data": {
            "text/plain": [
              "tensor([0.1000, 0.2000, 0.3000])"
            ]
          },
          "metadata": {
            "tags": []
          },
          "execution_count": 157
        }
      ]
    },
    {
      "cell_type": "code",
      "metadata": {
        "id": "qsqFDgDQaOrd",
        "colab_type": "code",
        "colab": {}
      },
      "source": [
        "x = x.fix_prec()"
      ],
      "execution_count": 0,
      "outputs": []
    },
    {
      "cell_type": "code",
      "metadata": {
        "id": "Y_TNTfnuaOr0",
        "colab_type": "code",
        "outputId": "6d08891e-925f-4c2f-c293-3dc91f78b4ef",
        "colab": {
          "base_uri": "https://localhost:8080/",
          "height": 34
        }
      },
      "source": [
        "x.child.child"
      ],
      "execution_count": 159,
      "outputs": [
        {
          "output_type": "execute_result",
          "data": {
            "text/plain": [
              "tensor([100, 200, 300])"
            ]
          },
          "metadata": {
            "tags": []
          },
          "execution_count": 159
        }
      ]
    },
    {
      "cell_type": "code",
      "metadata": {
        "id": "1rhPGuuXaOsD",
        "colab_type": "code",
        "colab": {}
      },
      "source": [
        "y = x + x"
      ],
      "execution_count": 0,
      "outputs": []
    },
    {
      "cell_type": "code",
      "metadata": {
        "id": "mLfDmUedaOsO",
        "colab_type": "code",
        "outputId": "1ffa5957-6d91-4293-97b0-f662f8cdb4a7",
        "colab": {
          "base_uri": "https://localhost:8080/",
          "height": 34
        }
      },
      "source": [
        "y = y.float_prec()\n",
        "y"
      ],
      "execution_count": 161,
      "outputs": [
        {
          "output_type": "execute_result",
          "data": {
            "text/plain": [
              "tensor([0.2000, 0.4000, 0.6000])"
            ]
          },
          "metadata": {
            "tags": []
          },
          "execution_count": 161
        }
      ]
    },
    {
      "cell_type": "markdown",
      "metadata": {
        "id": "PHc4L2WbaOsc",
        "colab_type": "text"
      },
      "source": [
        "### Shared Fixed Precision\n",
        "\n",
        "And of course, we can combine the two!"
      ]
    },
    {
      "cell_type": "code",
      "metadata": {
        "id": "bQx0QmxbaOse",
        "colab_type": "code",
        "colab": {}
      },
      "source": [
        "x = torch.tensor([0.1, 0.2, 0.3])"
      ],
      "execution_count": 0,
      "outputs": []
    },
    {
      "cell_type": "code",
      "metadata": {
        "id": "LWt3-aqlaOsn",
        "colab_type": "code",
        "colab": {}
      },
      "source": [
        "x = x.fix_prec().share(bob, alice, secure_worker)"
      ],
      "execution_count": 0,
      "outputs": []
    },
    {
      "cell_type": "code",
      "metadata": {
        "id": "FXv8SQhHaOtM",
        "colab_type": "code",
        "colab": {}
      },
      "source": [
        "y = x + x"
      ],
      "execution_count": 0,
      "outputs": []
    },
    {
      "cell_type": "code",
      "metadata": {
        "id": "xUnyMYkpaOtZ",
        "colab_type": "code",
        "outputId": "3f48b358-eada-4731-fe29-9f8270640c25",
        "colab": {
          "base_uri": "https://localhost:8080/",
          "height": 34
        }
      },
      "source": [
        "y.get().float_prec()"
      ],
      "execution_count": 166,
      "outputs": [
        {
          "output_type": "execute_result",
          "data": {
            "text/plain": [
              "tensor([0.2000, 0.4000, 0.6000])"
            ]
          },
          "metadata": {
            "tags": []
          },
          "execution_count": 166
        }
      ]
    },
    {
      "cell_type": "markdown",
      "metadata": {
        "id": "VedGpynTaOt7",
        "colab_type": "text"
      },
      "source": [
        "Make sure to make the point that people can see the model averages in the clear."
      ]
    },
    {
      "cell_type": "code",
      "metadata": {
        "id": "elv6crAPaOt-",
        "colab_type": "code",
        "colab": {}
      },
      "source": [
        ""
      ],
      "execution_count": 0,
      "outputs": []
    },
    {
      "cell_type": "markdown",
      "metadata": {
        "id": "zZl3oCKcaOuI",
        "colab_type": "text"
      },
      "source": [
        "# Final Project: Federated Learning with Encrypted Gradient Aggregation"
      ]
    },
    {
      "cell_type": "markdown",
      "metadata": {
        "id": "Rg1uoz_-6Obg",
        "colab_type": "text"
      },
      "source": [
        "Build on the first project, where you perform federated learning with a trusted, secure aggregator.\n",
        "\n",
        "<ul>\n",
        "  <li>Take the same neural network you used in the first project. </li>\n",
        "  <li>Aggregate gradients using additive secret sharing and fixed-precision encoding.  </li>\n",
        "  <li>Use at least three data owners per aggregation.  \n",
        "    <ul>\n",
        "      <li>Ensures that no one will ever see anyone's gradients other than their own. Protects privacy without needing to trust a secure aggregator.  </li>\n",
        "    </ul>\n",
        "  </li>\n",
        "</ul>  "
      ]
    },
    {
      "cell_type": "code",
      "metadata": {
        "id": "Bz44dTNS9ox6",
        "colab_type": "code",
        "colab": {}
      },
      "source": [
        ""
      ],
      "execution_count": 0,
      "outputs": []
    },
    {
      "cell_type": "code",
      "metadata": {
        "id": "RuKDhM-h9okM",
        "colab_type": "code",
        "colab": {}
      },
      "source": [
        ""
      ],
      "execution_count": 0,
      "outputs": []
    },
    {
      "cell_type": "code",
      "metadata": {
        "id": "QwSVXfjd9YT9",
        "colab_type": "code",
        "colab": {}
      },
      "source": [
        ""
      ],
      "execution_count": 0,
      "outputs": []
    },
    {
      "cell_type": "code",
      "metadata": {
        "id": "9Fs2URER9YIc",
        "colab_type": "code",
        "colab": {}
      },
      "source": [
        ""
      ],
      "execution_count": 0,
      "outputs": []
    }
  ]
}