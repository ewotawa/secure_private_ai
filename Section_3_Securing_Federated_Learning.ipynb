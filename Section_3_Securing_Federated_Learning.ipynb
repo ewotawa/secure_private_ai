{
  "nbformat": 4,
  "nbformat_minor": 0,
  "metadata": {
    "colab": {
      "name": "Section 3 - Securing Federated Learning.ipynb",
      "version": "0.3.2",
      "provenance": [],
      "collapsed_sections": [
        "18fTR_nKaOqQ",
        "USsIL-fvaOrH",
        "PHc4L2WbaOsc"
      ],
      "include_colab_link": true
    },
    "language_info": {
      "codemirror_mode": {
        "name": "ipython",
        "version": 3
      },
      "file_extension": ".py",
      "mimetype": "text/x-python",
      "name": "python",
      "nbconvert_exporter": "python",
      "pygments_lexer": "ipython3",
      "version": "3.6.1"
    },
    "kernelspec": {
      "display_name": "Python 3",
      "language": "python",
      "name": "python3"
    }
  },
  "cells": [
    {
      "cell_type": "markdown",
      "metadata": {
        "id": "view-in-github",
        "colab_type": "text"
      },
      "source": [
        "<a href=\"https://colab.research.google.com/github/ewotawa/secure_private_ai/blob/master/Section_3_Securing_Federated_Learning.ipynb\" target=\"_parent\"><img src=\"https://colab.research.google.com/assets/colab-badge.svg\" alt=\"Open In Colab\"/></a>"
      ]
    },
    {
      "cell_type": "markdown",
      "metadata": {
        "id": "3jzoKqLOaOl4",
        "colab_type": "text"
      },
      "source": [
        "# Section: Securing Federated Learning\n",
        "\n",
        "- Lesson 1: Trusted Aggregator\n",
        "- Lesson 2: Intro to Additive Secret Sharing\n",
        "- Lesson 3: Intro to Fixed Precision Encoding\n",
        "- Lesson 4: Secret Sharing + Fixed Precision in PySyft\n",
        "- Final Project: Federated Learning wtih Encrypted Gradient Aggregation"
      ]
    },
    {
      "cell_type": "markdown",
      "metadata": {
        "id": "lZ9l5evZaOl8",
        "colab_type": "text"
      },
      "source": [
        "# Lesson: Federated Learning with a Trusted Aggregator\n",
        "\n",
        "In the last section, we learned how to train a model on a distributed dataset using Federated Learning. In particular, the last project aggregated gradients directly from one data owner to another. \n",
        "\n",
        "However, while in some cases it could be ideal to do this, what would be even better is to be able to choose a neutral third party to perform the aggregation.\n",
        "\n",
        "As it turns out, we can use the same tools we used previously to accomplish this."
      ]
    },
    {
      "cell_type": "markdown",
      "metadata": {
        "id": "0RN0inkwGTAT",
        "colab_type": "text"
      },
      "source": [
        "### Install libraries and dependencies"
      ]
    },
    {
      "cell_type": "code",
      "metadata": {
        "id": "355SUSnNGVD6",
        "colab_type": "code",
        "outputId": "9b838dea-c0f1-4e32-b731-62cad5fa857d",
        "colab": {
          "base_uri": "https://localhost:8080/",
          "height": 921
        }
      },
      "source": [
        "# PySyft\n",
        "\n",
        "!pip install syft\n",
        "\n",
        "import syft as sy\n",
        "\n",
        "# PyTorch\n",
        "\n",
        "!pip install torch\n",
        "!pip install torchvision\n",
        "\n",
        "import torch\n",
        "import torch.nn as nn\n",
        "import torch.nn.functional as F\n",
        "import torch.optim as optim\n",
        "from torch.utils.data import TensorDataset, DataLoader\n",
        "\n",
        "import torchvision\n",
        "from torchvision import datasets, transforms\n",
        "\n",
        "# Numpy\n",
        "\n",
        "import numpy as np\n",
        "\n",
        "# time\n",
        "\n",
        "import time"
      ],
      "execution_count": 18,
      "outputs": [
        {
          "output_type": "stream",
          "text": [
            "Requirement already satisfied: syft in /usr/local/lib/python3.6/dist-packages (0.1.21a1)\n",
            "Requirement already satisfied: websockets>=7.0 in /usr/local/lib/python3.6/dist-packages (from syft) (8.0.1)\n",
            "Requirement already satisfied: websocket-client>=0.56.0 in /usr/local/lib/python3.6/dist-packages (from syft) (0.56.0)\n",
            "Requirement already satisfied: scikit-learn>=0.21.0 in /usr/local/lib/python3.6/dist-packages (from syft) (0.21.2)\n",
            "Requirement already satisfied: lz4>=2.1.6 in /usr/local/lib/python3.6/dist-packages (from syft) (2.1.10)\n",
            "Requirement already satisfied: tblib>=1.4.0 in /usr/local/lib/python3.6/dist-packages (from syft) (1.4.0)\n",
            "Requirement already satisfied: msgpack>=0.6.1 in /usr/local/lib/python3.6/dist-packages (from syft) (0.6.1)\n",
            "Requirement already satisfied: numpy>=1.14.0 in /usr/local/lib/python3.6/dist-packages (from syft) (1.16.4)\n",
            "Requirement already satisfied: flask-socketio>=3.3.2 in /usr/local/lib/python3.6/dist-packages (from syft) (4.1.0)\n",
            "Requirement already satisfied: torch>=1.1 in /usr/local/lib/python3.6/dist-packages (from syft) (1.1.0)\n",
            "Requirement already satisfied: zstd>=1.4.0.0 in /usr/local/lib/python3.6/dist-packages (from syft) (1.4.1.0)\n",
            "Requirement already satisfied: Flask>=1.0.2 in /usr/local/lib/python3.6/dist-packages (from syft) (1.1.1)\n",
            "Requirement already satisfied: torchvision>=0.3.0 in /usr/local/lib/python3.6/dist-packages (from syft) (0.3.0)\n",
            "Requirement already satisfied: tf-encrypted>=0.5.4 in /usr/local/lib/python3.6/dist-packages (from syft) (0.5.7)\n",
            "Requirement already satisfied: six in /usr/local/lib/python3.6/dist-packages (from websocket-client>=0.56.0->syft) (1.12.0)\n",
            "Requirement already satisfied: joblib>=0.11 in /usr/local/lib/python3.6/dist-packages (from scikit-learn>=0.21.0->syft) (0.13.2)\n",
            "Requirement already satisfied: scipy>=0.17.0 in /usr/local/lib/python3.6/dist-packages (from scikit-learn>=0.21.0->syft) (1.3.0)\n",
            "Requirement already satisfied: python-socketio>=2.1.0 in /usr/local/lib/python3.6/dist-packages (from flask-socketio>=3.3.2->syft) (4.2.0)\n",
            "Requirement already satisfied: click>=5.1 in /usr/local/lib/python3.6/dist-packages (from Flask>=1.0.2->syft) (7.0)\n",
            "Requirement already satisfied: Werkzeug>=0.15 in /usr/local/lib/python3.6/dist-packages (from Flask>=1.0.2->syft) (0.15.5)\n",
            "Requirement already satisfied: Jinja2>=2.10.1 in /usr/local/lib/python3.6/dist-packages (from Flask>=1.0.2->syft) (2.10.1)\n",
            "Requirement already satisfied: itsdangerous>=0.24 in /usr/local/lib/python3.6/dist-packages (from Flask>=1.0.2->syft) (1.1.0)\n",
            "Requirement already satisfied: pillow>=4.1.1 in /usr/local/lib/python3.6/dist-packages (from torchvision>=0.3.0->syft) (4.3.0)\n",
            "Requirement already satisfied: pyyaml>=5.1 in /usr/local/lib/python3.6/dist-packages (from tf-encrypted>=0.5.4->syft) (5.1.1)\n",
            "Requirement already satisfied: tensorflow<2,>=1.12.0 in /usr/local/lib/python3.6/dist-packages (from tf-encrypted>=0.5.4->syft) (1.14.0)\n",
            "Requirement already satisfied: python-engineio>=3.8.0 in /usr/local/lib/python3.6/dist-packages (from python-socketio>=2.1.0->flask-socketio>=3.3.2->syft) (3.8.2.post1)\n",
            "Requirement already satisfied: MarkupSafe>=0.23 in /usr/local/lib/python3.6/dist-packages (from Jinja2>=2.10.1->Flask>=1.0.2->syft) (1.1.1)\n",
            "Requirement already satisfied: olefile in /usr/local/lib/python3.6/dist-packages (from pillow>=4.1.1->torchvision>=0.3.0->syft) (0.46)\n",
            "Requirement already satisfied: google-pasta>=0.1.6 in /usr/local/lib/python3.6/dist-packages (from tensorflow<2,>=1.12.0->tf-encrypted>=0.5.4->syft) (0.1.7)\n",
            "Requirement already satisfied: keras-applications>=1.0.6 in /usr/local/lib/python3.6/dist-packages (from tensorflow<2,>=1.12.0->tf-encrypted>=0.5.4->syft) (1.0.8)\n",
            "Requirement already satisfied: wrapt>=1.11.1 in /usr/local/lib/python3.6/dist-packages (from tensorflow<2,>=1.12.0->tf-encrypted>=0.5.4->syft) (1.11.2)\n",
            "Requirement already satisfied: absl-py>=0.7.0 in /usr/local/lib/python3.6/dist-packages (from tensorflow<2,>=1.12.0->tf-encrypted>=0.5.4->syft) (0.7.1)\n",
            "Requirement already satisfied: astor>=0.6.0 in /usr/local/lib/python3.6/dist-packages (from tensorflow<2,>=1.12.0->tf-encrypted>=0.5.4->syft) (0.8.0)\n",
            "Requirement already satisfied: tensorflow-estimator<1.15.0rc0,>=1.14.0rc0 in /usr/local/lib/python3.6/dist-packages (from tensorflow<2,>=1.12.0->tf-encrypted>=0.5.4->syft) (1.14.0)\n",
            "Requirement already satisfied: tensorboard<1.15.0,>=1.14.0 in /usr/local/lib/python3.6/dist-packages (from tensorflow<2,>=1.12.0->tf-encrypted>=0.5.4->syft) (1.14.0)\n",
            "Requirement already satisfied: wheel>=0.26 in /usr/local/lib/python3.6/dist-packages (from tensorflow<2,>=1.12.0->tf-encrypted>=0.5.4->syft) (0.33.4)\n",
            "Requirement already satisfied: protobuf>=3.6.1 in /usr/local/lib/python3.6/dist-packages (from tensorflow<2,>=1.12.0->tf-encrypted>=0.5.4->syft) (3.7.1)\n",
            "Requirement already satisfied: gast>=0.2.0 in /usr/local/lib/python3.6/dist-packages (from tensorflow<2,>=1.12.0->tf-encrypted>=0.5.4->syft) (0.2.2)\n",
            "Requirement already satisfied: grpcio>=1.8.6 in /usr/local/lib/python3.6/dist-packages (from tensorflow<2,>=1.12.0->tf-encrypted>=0.5.4->syft) (1.15.0)\n",
            "Requirement already satisfied: termcolor>=1.1.0 in /usr/local/lib/python3.6/dist-packages (from tensorflow<2,>=1.12.0->tf-encrypted>=0.5.4->syft) (1.1.0)\n",
            "Requirement already satisfied: keras-preprocessing>=1.0.5 in /usr/local/lib/python3.6/dist-packages (from tensorflow<2,>=1.12.0->tf-encrypted>=0.5.4->syft) (1.1.0)\n",
            "Requirement already satisfied: h5py in /usr/local/lib/python3.6/dist-packages (from keras-applications>=1.0.6->tensorflow<2,>=1.12.0->tf-encrypted>=0.5.4->syft) (2.8.0)\n",
            "Requirement already satisfied: setuptools>=41.0.0 in /usr/local/lib/python3.6/dist-packages (from tensorboard<1.15.0,>=1.14.0->tensorflow<2,>=1.12.0->tf-encrypted>=0.5.4->syft) (41.0.1)\n",
            "Requirement already satisfied: markdown>=2.6.8 in /usr/local/lib/python3.6/dist-packages (from tensorboard<1.15.0,>=1.14.0->tensorflow<2,>=1.12.0->tf-encrypted>=0.5.4->syft) (3.1.1)\n",
            "Requirement already satisfied: torch in /usr/local/lib/python3.6/dist-packages (1.1.0)\n",
            "Requirement already satisfied: numpy in /usr/local/lib/python3.6/dist-packages (from torch) (1.16.4)\n",
            "Requirement already satisfied: torchvision in /usr/local/lib/python3.6/dist-packages (0.3.0)\n",
            "Requirement already satisfied: six in /usr/local/lib/python3.6/dist-packages (from torchvision) (1.12.0)\n",
            "Requirement already satisfied: torch>=1.1.0 in /usr/local/lib/python3.6/dist-packages (from torchvision) (1.1.0)\n",
            "Requirement already satisfied: numpy in /usr/local/lib/python3.6/dist-packages (from torchvision) (1.16.4)\n",
            "Requirement already satisfied: pillow>=4.1.1 in /usr/local/lib/python3.6/dist-packages (from torchvision) (4.3.0)\n",
            "Requirement already satisfied: olefile in /usr/local/lib/python3.6/dist-packages (from pillow>=4.1.1->torchvision) (0.46)\n"
          ],
          "name": "stdout"
        }
      ]
    },
    {
      "cell_type": "markdown",
      "metadata": {
        "id": "sq8Iba7FaOl_",
        "colab_type": "text"
      },
      "source": [
        "# Project: Federated Learning with a Trusted Aggregator"
      ]
    },
    {
      "cell_type": "code",
      "metadata": {
        "id": "T_aKplNKaOmD",
        "colab_type": "code",
        "colab": {}
      },
      "source": [
        "# try this project here!"
      ],
      "execution_count": 0,
      "outputs": []
    },
    {
      "cell_type": "markdown",
      "metadata": {
        "id": "3QxB76WICItF",
        "colab_type": "text"
      },
      "source": [
        "### Instructor's Work"
      ]
    },
    {
      "cell_type": "code",
      "metadata": {
        "id": "gtRx8-evCILB",
        "colab_type": "code",
        "colab": {
          "base_uri": "https://localhost:8080/",
          "height": 34
        },
        "outputId": "e1ff3faa-5d9c-4e1a-f95d-d78a84e82c7d"
      },
      "source": [
        "import syft as sy\n",
        "import torch\n",
        "hook = sy.TorchHook(torch)\n",
        "from torch import nn, optim"
      ],
      "execution_count": 20,
      "outputs": [
        {
          "output_type": "stream",
          "text": [
            "W0724 18:14:35.654626 140090936674176 hook.py:98] Torch was already hooked... skipping hooking process\n"
          ],
          "name": "stderr"
        }
      ]
    },
    {
      "cell_type": "code",
      "metadata": {
        "id": "YDQnFg98aOmO",
        "colab_type": "code",
        "colab": {}
      },
      "source": [
        "# create a few workers\n",
        "\n",
        "bob = sy.VirtualWorker(hook, id=\"bob\")\n",
        "alice = sy.VirtualWorker(hook, id=\"alice\")\n",
        "secure_worker = sy.VirtualWorker(hook, id=\"secure_worker\")"
      ],
      "execution_count": 0,
      "outputs": []
    },
    {
      "cell_type": "code",
      "metadata": {
        "id": "KCUIKdajaOmV",
        "colab_type": "code",
        "colab": {
          "base_uri": "https://localhost:8080/",
          "height": 156
        },
        "outputId": "a69d5579-5242-4bef-828a-d73135dab2a7"
      },
      "source": [
        "# inform each worker that the other workers exist\n",
        "\n",
        "bob.add_workers([alice, secure_worker])\n",
        "alice.add_workers([bob, secure_worker])\n",
        "secure_worker.add_workers([bob, alice])"
      ],
      "execution_count": 22,
      "outputs": [
        {
          "output_type": "stream",
          "text": [
            "W0724 18:14:35.683800 140090936674176 base.py:628] Worker alice already exists. Replacing old worker which could cause                     unexpected behavior\n",
            "W0724 18:14:35.687583 140090936674176 base.py:628] Worker secure_worker already exists. Replacing old worker which could cause                     unexpected behavior\n",
            "W0724 18:14:35.690005 140090936674176 base.py:628] Worker bob already exists. Replacing old worker which could cause                     unexpected behavior\n",
            "W0724 18:14:35.692108 140090936674176 base.py:628] Worker secure_worker already exists. Replacing old worker which could cause                     unexpected behavior\n",
            "W0724 18:14:35.694300 140090936674176 base.py:628] Worker bob already exists. Replacing old worker which could cause                     unexpected behavior\n",
            "W0724 18:14:35.695716 140090936674176 base.py:628] Worker alice already exists. Replacing old worker which could cause                     unexpected behavior\n"
          ],
          "name": "stderr"
        },
        {
          "output_type": "execute_result",
          "data": {
            "text/plain": [
              "<VirtualWorker id:secure_worker #objects:0>"
            ]
          },
          "metadata": {
            "tags": []
          },
          "execution_count": 22
        }
      ]
    },
    {
      "cell_type": "code",
      "metadata": {
        "id": "rmxe8KRJaOmd",
        "colab_type": "code",
        "colab": {}
      },
      "source": [
        "# Same Toy Dataset and simple linear model\n",
        "\n",
        "data = torch.tensor([[0,0], [0,1], [1,0], [1,1.]], requires_grad=True)\n",
        "target = torch.tensor([[0], [0], [1], [1.]], requires_grad=True)"
      ],
      "execution_count": 0,
      "outputs": []
    },
    {
      "cell_type": "code",
      "metadata": {
        "id": "H-m2myhuaOmk",
        "colab_type": "code",
        "colab": {}
      },
      "source": [
        "# get pointers to training data on each worker by sending some training data to bob and alice\n",
        "\n",
        "bobs_data = data[0:2].send(bob)\n",
        "bobs_target = target[0:2].send(bob)\n",
        "\n",
        "alices_data = data[2:].send(alice)\n",
        "alices_target = target[2:].send(alice)"
      ],
      "execution_count": 0,
      "outputs": []
    },
    {
      "cell_type": "code",
      "metadata": {
        "id": "eFdfkcnnDQ_I",
        "colab_type": "code",
        "colab": {}
      },
      "source": [
        "# initialize a Toy Model\n",
        "\n",
        "model = nn.Linear(2, 1)"
      ],
      "execution_count": 0,
      "outputs": []
    },
    {
      "cell_type": "code",
      "metadata": {
        "id": "CgdGhlWpDQ59",
        "colab_type": "code",
        "colab": {}
      },
      "source": [
        "# instead of having one model, have two different models that we send to the two different workers so that they can be averaged.\n",
        "\n",
        "bobs_model = model.copy().send(bob)\n",
        "alices_model = model.copy().send(alice)"
      ],
      "execution_count": 0,
      "outputs": []
    },
    {
      "cell_type": "code",
      "metadata": {
        "id": "0KmK1pxgDQy2",
        "colab_type": "code",
        "colab": {}
      },
      "source": [
        "# create two separate optimizers\n",
        "\n",
        "bobs_opt = optim.SGD(params=bobs_model.parameters(), lr=0.1)\n",
        "alices_opt = optim.SGD(params=alices_model.parameters(), lr=0.1)"
      ],
      "execution_count": 0,
      "outputs": []
    },
    {
      "cell_type": "code",
      "metadata": {
        "id": "J4ZbPmjEaOmr",
        "colab_type": "code",
        "outputId": "284e40ce-cd6d-4f18-8b21-161591beb092",
        "colab": {
          "base_uri": "https://localhost:8080/",
          "height": 1000
        }
      },
      "source": [
        "# train the models\n",
        "\n",
        "for round_iter in range(10):\n",
        "  \n",
        "  bobs_model = model.copy().send(bob)\n",
        "  alices_model = model.copy().send(alice)\n",
        "  \n",
        "  bobs_opt = optim.SGD(params=bobs_model.parameters(), lr=0.1)\n",
        "  alices_opt = optim.SGD(params=alices_model.parameters(), lr=0.1)\n",
        "  \n",
        "  for i in range(10):\n",
        "    \n",
        "    bobs_opt.zero_grad()\n",
        "    bobs_pred = bobs_model(bobs_data)\n",
        "    bobs_loss = ((bobs_pred - bobs_target) **2).sum()\n",
        "    bobs_loss.backward()\n",
        "    \n",
        "    bobs_opt.step()\n",
        "    bobs_loss = bobs_loss.get().data\n",
        "    bobs_loss\n",
        "    \n",
        "    alices_opt.zero_grad()\n",
        "    alices_pred = alices_model(alices_data)\n",
        "    alices_loss = ((alices_pred - alices_target) **2).sum()\n",
        "    alices_loss.backward()\n",
        "    \n",
        "    alices_opt.step()\n",
        "    alices_loss = alices_loss.get().data\n",
        "    alices_loss\n",
        "  \n",
        "  bobs_model.move(secure_worker)\n",
        "  alices_model.move(secure_worker)\n",
        "  \n",
        "  with torch.no_grad():\n",
        "    weights = model.weight.set_(((alices_model.weight.data + bobs_model.weight.data) / 2).get())\n",
        "    bias = model.bias.set_(((alices_model.bias.data + bobs_model.bias.data) / 2).get())\n",
        "  \n",
        "  secure_worker.clear_objects()\n",
        "  \n",
        "  print(\"Iteration:\\t\", round_iter)\n",
        "  print(\"Bob:\\t\", str(bobs_loss), \"\\tAlice:\\t\", str(alices_loss))\n",
        "  print(\"Weights: \", str(weights), \"\\nBias: \", str(bias),\"\\n\")"
      ],
      "execution_count": 17,
      "outputs": [
        {
          "output_type": "stream",
          "text": [
            "Iteration:\t 0\n",
            "Bob:\t tensor(2.6649e-06) \tAlice:\t tensor(4.4738e-07)\n",
            "Weights:  Parameter containing:\n",
            "tensor([[ 9.8224e-01, -6.0813e-04]], requires_grad=True) \n",
            "Bias:  Parameter containing:\n",
            "tensor([0.0079], requires_grad=True) \n",
            "\n",
            "Iteration:\t 1\n",
            "Bob:\t tensor(2.0052e-06) \tAlice:\t tensor(3.3664e-07)\n",
            "Weights:  Parameter containing:\n",
            "tensor([[ 9.8459e-01, -5.2752e-04]], requires_grad=True) \n",
            "Bias:  Parameter containing:\n",
            "tensor([0.0069], requires_grad=True) \n",
            "\n",
            "Iteration:\t 2\n",
            "Bob:\t tensor(1.5088e-06) \tAlice:\t tensor(2.5331e-07)\n",
            "Weights:  Parameter containing:\n",
            "tensor([[ 9.8663e-01, -4.5759e-04]], requires_grad=True) \n",
            "Bias:  Parameter containing:\n",
            "tensor([0.0060], requires_grad=True) \n",
            "\n",
            "Iteration:\t 3\n",
            "Bob:\t tensor(1.1353e-06) \tAlice:\t tensor(1.9060e-07)\n",
            "Weights:  Parameter containing:\n",
            "tensor([[ 9.8841e-01, -3.9693e-04]], requires_grad=True) \n",
            "Bias:  Parameter containing:\n",
            "tensor([0.0052], requires_grad=True) \n",
            "\n",
            "Iteration:\t 4\n",
            "Bob:\t tensor(8.5426e-07) \tAlice:\t tensor(1.4342e-07)\n",
            "Weights:  Parameter containing:\n",
            "tensor([[ 9.8994e-01, -3.4433e-04]], requires_grad=True) \n",
            "Bias:  Parameter containing:\n",
            "tensor([0.0045], requires_grad=True) \n",
            "\n",
            "Iteration:\t 5\n",
            "Bob:\t tensor(6.4279e-07) \tAlice:\t tensor(1.0792e-07)\n",
            "Weights:  Parameter containing:\n",
            "tensor([[ 9.9128e-01, -2.9868e-04]], requires_grad=True) \n",
            "Bias:  Parameter containing:\n",
            "tensor([0.0039], requires_grad=True) \n",
            "\n",
            "Iteration:\t 6\n",
            "Bob:\t tensor(4.8366e-07) \tAlice:\t tensor(8.1191e-08)\n",
            "Weights:  Parameter containing:\n",
            "tensor([[ 9.9243e-01, -2.5908e-04]], requires_grad=True) \n",
            "Bias:  Parameter containing:\n",
            "tensor([0.0034], requires_grad=True) \n",
            "\n",
            "Iteration:\t 7\n",
            "Bob:\t tensor(3.6393e-07) \tAlice:\t tensor(6.1103e-08)\n",
            "Weights:  Parameter containing:\n",
            "tensor([[ 9.9344e-01, -2.2473e-04]], requires_grad=True) \n",
            "Bias:  Parameter containing:\n",
            "tensor([0.0029], requires_grad=True) \n",
            "\n",
            "Iteration:\t 8\n",
            "Bob:\t tensor(2.7384e-07) \tAlice:\t tensor(4.5989e-08)\n",
            "Weights:  Parameter containing:\n",
            "tensor([[ 9.9431e-01, -1.9494e-04]], requires_grad=True) \n",
            "Bias:  Parameter containing:\n",
            "tensor([0.0025], requires_grad=True) \n",
            "\n",
            "Iteration:\t 9\n",
            "Bob:\t tensor(2.0605e-07) \tAlice:\t tensor(3.4596e-08)\n",
            "Weights:  Parameter containing:\n",
            "tensor([[ 9.9506e-01, -1.6909e-04]], requires_grad=True) \n",
            "Bias:  Parameter containing:\n",
            "tensor([0.0022], requires_grad=True) \n",
            "\n"
          ],
          "name": "stdout"
        }
      ]
    },
    {
      "cell_type": "markdown",
      "metadata": {
        "id": "eX9uUUHWaOmy",
        "colab_type": "text"
      },
      "source": [
        "# Lesson: Intro to Additive Secret Sharing\n",
        "\n",
        "While being able to have a trusted third party to perform the aggregation is certainly nice, in an ideal setting we wouldn't have to trust anyone at all. This is where Cryptography can provide an interesting alterantive. \n",
        "\n",
        "Specifically, we're going to be looking at a simple protocol for Secure Multi-Party Computation called Additive Secret Sharing. This protocol will allow multiple parties (of size 3 or more) to aggregate their gradients without the use of a trusted 3rd party to perform the aggregation. In other words, we can add 3 numbers together from 3 different people without anyone ever learning the inputs of any other actors.\n",
        "\n",
        "Let's start by considering the number 5, which we'll put into a varible x"
      ]
    },
    {
      "cell_type": "code",
      "metadata": {
        "id": "k1lqIxO8aOm0",
        "colab_type": "code",
        "colab": {}
      },
      "source": [
        "x = 5"
      ],
      "execution_count": 0,
      "outputs": []
    },
    {
      "cell_type": "markdown",
      "metadata": {
        "id": "AdiQY-iDaOm7",
        "colab_type": "text"
      },
      "source": [
        "Let's say we wanted to SHARE the ownership of this number between two people, Alice and Bob. We could split this number into two shares, 2, and 3, and give one to Alice and one to Bob"
      ]
    },
    {
      "cell_type": "code",
      "metadata": {
        "id": "Pg-ujOdkaOm-",
        "colab_type": "code",
        "outputId": "3326fbae-7ccc-4c3a-e508-f9143be7b56b",
        "colab": {}
      },
      "source": [
        "bob_x_share = 2\n",
        "alice_x_share = 3\n",
        "\n",
        "decrypted_x = bob_x_share + alice_x_share\n",
        "decrypted_x"
      ],
      "execution_count": 0,
      "outputs": [
        {
          "output_type": "execute_result",
          "data": {
            "text/plain": [
              "5"
            ]
          },
          "metadata": {
            "tags": []
          },
          "execution_count": 14
        }
      ]
    },
    {
      "cell_type": "markdown",
      "metadata": {
        "id": "NO4WO_lJaOnQ",
        "colab_type": "text"
      },
      "source": [
        "Note that neither Bob nor Alice know the value of x. They only know the value of their own SHARE of x. Thus, the true value of X is hidden (i.e., encrypted). \n",
        "\n",
        "The truly amazing thing, however, is that Alice and Bob can still compute using this value! They can perform arithmetic over the hidden value! Let's say Bob and Alice wanted to multiply this value by 2! If each of them multiplied their respective share by 2, then the hidden number between them is also multiplied! Check it out!"
      ]
    },
    {
      "cell_type": "code",
      "metadata": {
        "id": "sYHci918aOnS",
        "colab_type": "code",
        "outputId": "9b564939-253d-4f68-8d61-ba8e8c44f322",
        "colab": {}
      },
      "source": [
        "bob_x_share = 2 * 2\n",
        "alice_x_share = 3 * 2\n",
        "\n",
        "decrypted_x = bob_x_share + alice_x_share\n",
        "decrypted_x"
      ],
      "execution_count": 0,
      "outputs": [
        {
          "output_type": "execute_result",
          "data": {
            "text/plain": [
              "10"
            ]
          },
          "metadata": {
            "tags": []
          },
          "execution_count": 15
        }
      ]
    },
    {
      "cell_type": "markdown",
      "metadata": {
        "id": "CahOx-EeaOnd",
        "colab_type": "text"
      },
      "source": [
        "This even works for addition between two shared values!!"
      ]
    },
    {
      "cell_type": "code",
      "metadata": {
        "id": "1UjdTG4YaOnf",
        "colab_type": "code",
        "outputId": "b8dbf605-36ba-4597-9895-b3d89351af18",
        "colab": {}
      },
      "source": [
        "# encrypted \"5\"\n",
        "bob_x_share = 2\n",
        "alice_x_share = 3\n",
        "\n",
        "# encrypted \"7\"\n",
        "bob_y_share = 5\n",
        "alice_y_share = 2\n",
        "\n",
        "# encrypted 5 + 7\n",
        "bob_z_share = bob_x_share + bob_y_share\n",
        "alice_z_share = alice_x_share + alice_y_share\n",
        "\n",
        "decrypted_z = bob_z_share + alice_z_share\n",
        "decrypted_z"
      ],
      "execution_count": 0,
      "outputs": [
        {
          "output_type": "execute_result",
          "data": {
            "text/plain": [
              "12"
            ]
          },
          "metadata": {
            "tags": []
          },
          "execution_count": 16
        }
      ]
    },
    {
      "cell_type": "markdown",
      "metadata": {
        "id": "_vBygY8IaOnp",
        "colab_type": "text"
      },
      "source": [
        "As you can see, we just added two numbers together while they were still encrypted!!!\n",
        "\n",
        "One small tweak - notice that since all our numbers are positive, it's possible for each share to reveal a little bit of information about the hidden value, namely, it's always greater than the share. Thus, if Bob has a share \"3\" then he knows that the encrypted value is at least 3.\n",
        "\n",
        "This would be quite bad, but can be solved through a simple fix. Decryption happens by summing all the shares together MODULUS some constant. I.e."
      ]
    },
    {
      "cell_type": "code",
      "metadata": {
        "id": "zXxARaataOnr",
        "colab_type": "code",
        "outputId": "ab4a13ae-67f2-4f55-ff2e-9402b77e9944",
        "colab": {}
      },
      "source": [
        "x = 5\n",
        "\n",
        "Q = 23740629843760239486723\n",
        "\n",
        "bob_x_share = 23552870267 # <- a random number\n",
        "alice_x_share = Q - bob_x_share + x\n",
        "alice_x_share"
      ],
      "execution_count": 0,
      "outputs": [
        {
          "output_type": "execute_result",
          "data": {
            "text/plain": [
              "23740629843736686616461"
            ]
          },
          "metadata": {
            "tags": []
          },
          "execution_count": 17
        }
      ]
    },
    {
      "cell_type": "code",
      "metadata": {
        "id": "r67WBxzTaOn1",
        "colab_type": "code",
        "outputId": "b1732768-0d5f-4221-c584-cdca3444f86a",
        "colab": {}
      },
      "source": [
        "(bob_x_share + alice_x_share) % Q"
      ],
      "execution_count": 0,
      "outputs": [
        {
          "output_type": "execute_result",
          "data": {
            "text/plain": [
              "5"
            ]
          },
          "metadata": {
            "tags": []
          },
          "execution_count": 18
        }
      ]
    },
    {
      "cell_type": "markdown",
      "metadata": {
        "id": "YxzwV1iZaOoC",
        "colab_type": "text"
      },
      "source": [
        "So now, as you can see, both shares are wildly larger than the number being shared, meaning that individual shares no longer leak this inforation. However, all the properties we discussed earlier still hold! (addition, encryption, decryption, etc.)"
      ]
    },
    {
      "cell_type": "markdown",
      "metadata": {
        "id": "mzkTC1UUaOoE",
        "colab_type": "text"
      },
      "source": [
        "# Project: Build Methods for Encrypt, Decrypt, and Add \n",
        "\n",
        "In this project, you must take the lessons we learned in the last section and write general methods for encrypt, decrypt, and add. Store shares for a variable in a tuple like so."
      ]
    },
    {
      "cell_type": "code",
      "metadata": {
        "id": "RPyDd_n1aOoH",
        "colab_type": "code",
        "colab": {}
      },
      "source": [
        "x_share = (2,5,7)"
      ],
      "execution_count": 0,
      "outputs": []
    },
    {
      "cell_type": "markdown",
      "metadata": {
        "id": "8UIPgJ_laOoO",
        "colab_type": "text"
      },
      "source": [
        "Even though normally those shares would be distributed amongst several workers, you can store them in ordered tuples like this for now :)"
      ]
    },
    {
      "cell_type": "code",
      "metadata": {
        "id": "c9Yc4C5gaOoQ",
        "colab_type": "code",
        "colab": {}
      },
      "source": [
        "# try this project here!"
      ],
      "execution_count": 0,
      "outputs": []
    },
    {
      "cell_type": "markdown",
      "metadata": {
        "id": "E3jpzoTONhRW",
        "colab_type": "text"
      },
      "source": [
        "### My work\n",
        "\n",
        "Create a method called <strong>encrypt()</strong>  \n",
        "<ul>\n",
        "  <li>Accepts two input parameters:\n",
        "    <ul>\n",
        "      <li>Number to be encrypted</li>\n",
        "      <li>Number of shares to be split into</li>\n",
        "    </ul>\n",
        "  </li>\n",
        "  <li>Returns a tuple of shares</li>\n",
        "</ul>\n",
        "\n",
        "Create a method called <strong>decrypt()</strong>  \n",
        "* Accepts as input a tuple of shares \n",
        "* Returns the decrypted value \n",
        "\n",
        "Create a method called <strong>add()</strong> \n",
        "* Accepts two tuples of shares \n",
        "* Returns a single tuple of shares which are added correctly according to the additive secret sharing protocol."
      ]
    },
    {
      "cell_type": "code",
      "metadata": {
        "id": "gAFXLroBNgNK",
        "colab_type": "code",
        "colab": {}
      },
      "source": [
        "def encrypt(orig_number, num_shares, Q):\n",
        "  x = int(orig_number)\n",
        "  \n",
        "  # Q = 23740629843760239486723 #large prime number\n",
        "  \n",
        "  shares = []\n",
        "  share_sum = int()\n",
        "  \n",
        "  for i in range(num_shares - 1):\n",
        "    share = torch.randn(1) * 100000000000\n",
        "    shares.append(int(share.item()))\n",
        "  \n",
        "  last_share = Q - int(sum(shares)) + x\n",
        "  shares.append(last_share)\n",
        "  \n",
        "  sum_out = sum(shares)\n",
        "  \n",
        "  shares = tuple(shares)\n",
        "  \n",
        "  # validation:\n",
        "  # print(sum_out % Q)\n",
        "  \n",
        "  return(shares)"
      ],
      "execution_count": 0,
      "outputs": []
    },
    {
      "cell_type": "code",
      "metadata": {
        "id": "6AvP5Qo1aOoi",
        "colab_type": "code",
        "colab": {}
      },
      "source": [
        "def decrypt(encrypted_shares, Q):\n",
        "  sum_shares = sum(encrypted_shares)\n",
        "  decrypted = sum_shares % Q\n",
        "  return decrypted"
      ],
      "execution_count": 0,
      "outputs": []
    },
    {
      "cell_type": "code",
      "metadata": {
        "id": "VDCuCTOIaOoX",
        "colab_type": "code",
        "colab": {
          "base_uri": "https://localhost:8080/",
          "height": 71
        },
        "outputId": "f1331d7c-6781-4c05-ce8d-7143736e2068"
      },
      "source": [
        "Q = 23740629843760239486723 #large prime number \n",
        "shares = encrypt(5, 200, Q)\n",
        "print(shares)\n",
        "decrypted = decrypt(shares, Q)\n",
        "print(decrypted)"
      ],
      "execution_count": 94,
      "outputs": [
        {
          "output_type": "stream",
          "text": [
            "(-9442091008, -53683912704, 9044132864, -36875808768, -9077555200, -27823951872, 65886580736, 100592123904, -40336785408, -73082961920, -96916299776, 45074382848, 65704898560, -127777693696, 141599834112, 4662906880, 12197239808, 133109547008, 64986972160, -51800346624, -43338784768, 96605429760, 22883579904, -121861619712, 74449256448, 132618141696, -199028899840, -47567880192, -76150784000, 151138189312, -198461784064, 71868203008, 6350082048, 4964829696, 7503578624, -73309380608, -48568127488, 39026053120, -88939175936, 29645568000, -10756749312, -21055248384, -3983908864, 197190893568, 27899592704, -11783530496, 29480853504, -41829068800, 68615933952, -152492654592, 3980786176, -51553284096, 106322296832, 120527249408, 168620392448, 111648309248, 120720547840, 42990436352, -215528456192, -90338623488, -580547904, 63602307072, 17904234496, 80019677184, 22093807616, 208340205568, -108812197888, -43152084992, -62750998528, 25850617856, 83102343168, 54633181184, 11269200896, 195575988224, 12716138496, 89791127552, 98186420224, 55607185408, -148315111424, -35833802752, -82111848448, 59039674368, -67357597696, 68783472640, 85831639040, -12487428096, 44822732800, 192571473920, 138588274688, 35750232064, -146762104832, -4213263872, 55023390720, 51528626176, 20823795712, -8262630912, -25070284800, -30361645056, -51107598336, 55763173376, 43438440448, -50770812928, 168920711168, 82674778112, 43013533696, 175773941760, -37319958528, -12493515776, 107329781760, -89016500224, 147903545344, -123344404480, -103314825216, -582546432, 49840353280, 142197932032, -42606981120, 82567651328, -63414624256, -91897020416, -18079477760, 175668494336, 91182080000, 15395177472, 113635123200, -3047492608, -34563379200, 40657375232, 57928560640, 229919211520, -31475105792, 28863614976, 154217349120, -93775626240, -109378969600, 32212092928, -77831979008, 82559754240, -43099762688, -84300726272, 142758363136, 38762303488, -56309583872, 95444230144, 101698322432, 141383958528, 4294416128, 45669949440, -28757997568, -34435055616, -31793440768, -6614035968, 62720471040, 110235639808, 71166099456, -76339830784, 80512450560, -55440793600, -14200505344, 133707546624, 1598989952, 142695579648, -42836078592, 78313938944, 55953268736, 68338888704, 148100120576, -19628371968, 103890903040, 44291211264, -42710478848, -44620656640, -17020039168, -36554473472, 69228101632, 21157242880, -47090741248, -12250510336, -147304382464, 19526856704, 223753535488, 47449620480, 175424454656, 25437155328, 130397773824, 14736598016, -11214848000, 52952543232, -55409717248, 141533757440, 88397340672, 7627477504, 58385477632, 90755637248, -14132804608, 64628289536, 65700626432, 87933599744, 63655243776, 23740629839224516825288)\n",
            "5\n"
          ],
          "name": "stdout"
        }
      ]
    },
    {
      "cell_type": "code",
      "metadata": {
        "id": "geTTom0HaOot",
        "colab_type": "code",
        "colab": {}
      },
      "source": [
        "def add(tuple1, tuple2):\n",
        "  sum_tuple = tuple1 + tuple2\n",
        "  return sum_tuple"
      ],
      "execution_count": 0,
      "outputs": []
    },
    {
      "cell_type": "code",
      "metadata": {
        "id": "lTMHNSeKaOo2",
        "colab_type": "code",
        "colab": {
          "base_uri": "https://localhost:8080/",
          "height": 71
        },
        "outputId": "15de8007-f894-4943-f439-55590a20c81f"
      },
      "source": [
        "tuple1 = encrypt(5, 5, Q)\n",
        "tuple2 = encrypt(10, 5, Q)\n",
        "\n",
        "sum_tuple = add(tuple1, tuple2)\n",
        "print(sum_tuple)\n",
        "\n",
        "decrypt(sum_tuple, Q)"
      ],
      "execution_count": 98,
      "outputs": [
        {
          "output_type": "stream",
          "text": [
            "(79075811328, -45114400768, 30110674944, -132837957632, 23740629843829005358856, 41451413504, 48483168256, -13304916992, -77043695616, 23740629843760653517581)\n"
          ],
          "name": "stdout"
        },
        {
          "output_type": "execute_result",
          "data": {
            "text/plain": [
              "15"
            ]
          },
          "metadata": {
            "tags": []
          },
          "execution_count": 98
        }
      ]
    },
    {
      "cell_type": "code",
      "metadata": {
        "id": "ezYgiNX-Yx6N",
        "colab_type": "code",
        "colab": {}
      },
      "source": [
        ""
      ],
      "execution_count": 0,
      "outputs": []
    },
    {
      "cell_type": "markdown",
      "metadata": {
        "id": "EFZbgXdsaOpA",
        "colab_type": "text"
      },
      "source": [
        "# Lesson: Intro to Fixed Precision Encoding\n",
        "\n",
        "As you may remember, our goal is to aggregate gradients using this new Secret Sharing technique. However, the protocol we've just explored in the last section uses positive integers. However, our neural network weights are NOT integers. Instead, our weights are decimals (floating point numbers).\n",
        "\n",
        "Not a huge deal! We just need to use a fixed precision encoding, which lets us do computation over decimal numbers using integers!"
      ]
    },
    {
      "cell_type": "code",
      "metadata": {
        "id": "5taeIZZqaOpC",
        "colab_type": "code",
        "colab": {}
      },
      "source": [
        "BASE=10\n",
        "PRECISION=4"
      ],
      "execution_count": 0,
      "outputs": []
    },
    {
      "cell_type": "code",
      "metadata": {
        "id": "4rO-HlHFaOpJ",
        "colab_type": "code",
        "colab": {}
      },
      "source": [
        "def encode(x):\n",
        "    return int((x * (BASE ** PRECISION)) % Q)\n",
        "\n",
        "def decode(x):\n",
        "    return (x if x <= Q/2 else x - Q) / BASE**PRECISION"
      ],
      "execution_count": 0,
      "outputs": []
    },
    {
      "cell_type": "code",
      "metadata": {
        "id": "S-RRpwNgaOpX",
        "colab_type": "code",
        "outputId": "b24fc832-af9c-403d-c1e9-9ce8d2fb1d2a",
        "colab": {}
      },
      "source": [
        "encode(3.5)"
      ],
      "execution_count": 0,
      "outputs": [
        {
          "output_type": "execute_result",
          "data": {
            "text/plain": [
              "35000"
            ]
          },
          "metadata": {
            "tags": []
          },
          "execution_count": 27
        }
      ]
    },
    {
      "cell_type": "code",
      "metadata": {
        "id": "MRxTbzEXaOpi",
        "colab_type": "code",
        "outputId": "d4e712b7-6db3-4a41-d268-269c24f7ddb7",
        "colab": {}
      },
      "source": [
        "decode(35000)"
      ],
      "execution_count": 0,
      "outputs": [
        {
          "output_type": "execute_result",
          "data": {
            "text/plain": [
              "3.5"
            ]
          },
          "metadata": {
            "tags": []
          },
          "execution_count": 28
        }
      ]
    },
    {
      "cell_type": "code",
      "metadata": {
        "id": "n8coAYwPaOpq",
        "colab_type": "code",
        "outputId": "b0a9ad83-0a6b-400c-858f-acd241f0f9cb",
        "colab": {}
      },
      "source": [
        "x = encrypt(encode(5.5))\n",
        "y = encrypt(encode(2.3))\n",
        "z = add(x,y)\n",
        "decode(decrypt(z))"
      ],
      "execution_count": 0,
      "outputs": [
        {
          "output_type": "execute_result",
          "data": {
            "text/plain": [
              "7.8"
            ]
          },
          "metadata": {
            "tags": []
          },
          "execution_count": 29
        }
      ]
    },
    {
      "cell_type": "markdown",
      "metadata": {
        "id": "OxndJNJqaOpz",
        "colab_type": "text"
      },
      "source": [
        "# Lesson: Secret Sharing + Fixed Precision in PySyft\n",
        "\n",
        "While writing things from scratch is certainly educational, PySyft makes a great deal of this much easier for us through its abstractions."
      ]
    },
    {
      "cell_type": "code",
      "metadata": {
        "id": "OrYybTrhaOp1",
        "colab_type": "code",
        "colab": {}
      },
      "source": [
        "bob = bob.clear_objects()\n",
        "alice = alice.clear_objects()\n",
        "secure_worker = secure_worker.clear_objects()"
      ],
      "execution_count": 0,
      "outputs": []
    },
    {
      "cell_type": "code",
      "metadata": {
        "id": "6VMAhg6BaOp7",
        "colab_type": "code",
        "colab": {}
      },
      "source": [
        "x = th.tensor([1,2,3,4,5])"
      ],
      "execution_count": 0,
      "outputs": []
    },
    {
      "cell_type": "markdown",
      "metadata": {
        "id": "18fTR_nKaOqQ",
        "colab_type": "text"
      },
      "source": [
        "### Secret Sharing Using PySyft\n",
        "\n",
        "We can share using the simple .share() method!"
      ]
    },
    {
      "cell_type": "code",
      "metadata": {
        "id": "Y1jCOLObaOqS",
        "colab_type": "code",
        "colab": {}
      },
      "source": [
        "x = x.share(bob, alice, secure_worker)"
      ],
      "execution_count": 0,
      "outputs": []
    },
    {
      "cell_type": "code",
      "metadata": {
        "id": "KePfhEpqaOqd",
        "colab_type": "code",
        "outputId": "49220915-4f54-4891-b55b-425fd36bc34f",
        "colab": {}
      },
      "source": [
        "bob._objects"
      ],
      "execution_count": 0,
      "outputs": [
        {
          "output_type": "execute_result",
          "data": {
            "text/plain": [
              "{35498656553: tensor([  10235770278698899, 1401398179551373756, 2277280072169145491,\n",
              "          636965538565031298,  913795591610271305])}"
            ]
          },
          "metadata": {
            "tags": []
          },
          "execution_count": 33
        }
      ]
    },
    {
      "cell_type": "markdown",
      "metadata": {
        "id": "9oLgGcRWaOqp",
        "colab_type": "text"
      },
      "source": [
        "and as you can see, Bob now has one of the shares of x! Furthermore, we can still call addition in this state, and PySyft will automatically perform the remote execution for us!"
      ]
    },
    {
      "cell_type": "code",
      "metadata": {
        "id": "Eurv7F0laOqr",
        "colab_type": "code",
        "colab": {}
      },
      "source": [
        "y = x + x"
      ],
      "execution_count": 0,
      "outputs": []
    },
    {
      "cell_type": "code",
      "metadata": {
        "id": "XRm5jpW6aOqx",
        "colab_type": "code",
        "outputId": "f511a964-7bf0-48cc-8f27-e53237ab475b",
        "colab": {}
      },
      "source": [
        "y"
      ],
      "execution_count": 0,
      "outputs": [
        {
          "output_type": "execute_result",
          "data": {
            "text/plain": [
              "(Wrapper)>[AdditiveSharingTensor]\n",
              "\t-> (Wrapper)>[PointerTensor | me:23637986557 -> bob:30254176063]\n",
              "\t-> (Wrapper)>[PointerTensor | me:18229131498 -> alice:75856222543]\n",
              "\t-> (Wrapper)>[PointerTensor | me:34301722959 -> secure_worker:75419815101]\n",
              "\t*crypto provider: me*"
            ]
          },
          "metadata": {
            "tags": []
          },
          "execution_count": 35
        }
      ]
    },
    {
      "cell_type": "code",
      "metadata": {
        "id": "bmASr4yVaOq7",
        "colab_type": "code",
        "outputId": "ba2de8a2-13c6-4c11-e78a-7bbd2651d89e",
        "colab": {}
      },
      "source": [
        "y.get()"
      ],
      "execution_count": 0,
      "outputs": [
        {
          "output_type": "execute_result",
          "data": {
            "text/plain": [
              "tensor([ 2,  4,  6,  8, 10])"
            ]
          },
          "metadata": {
            "tags": []
          },
          "execution_count": 36
        }
      ]
    },
    {
      "cell_type": "markdown",
      "metadata": {
        "id": "USsIL-fvaOrH",
        "colab_type": "text"
      },
      "source": [
        "### Fixed Precision using PySyft\n",
        "\n",
        "We can also convert a tensor to fixed precision using .fix_precision()"
      ]
    },
    {
      "cell_type": "code",
      "metadata": {
        "id": "Ro6HYYKIaOrJ",
        "colab_type": "code",
        "colab": {}
      },
      "source": [
        "x = th.tensor([0.1,0.2,0.3])"
      ],
      "execution_count": 0,
      "outputs": []
    },
    {
      "cell_type": "code",
      "metadata": {
        "id": "o0F7XtYoaOrV",
        "colab_type": "code",
        "outputId": "b5b9bc02-5ca4-4177-e52b-6bd55b6197ff",
        "colab": {}
      },
      "source": [
        "x"
      ],
      "execution_count": 0,
      "outputs": [
        {
          "output_type": "execute_result",
          "data": {
            "text/plain": [
              "tensor([0.1000, 0.2000, 0.3000])"
            ]
          },
          "metadata": {
            "tags": []
          },
          "execution_count": 38
        }
      ]
    },
    {
      "cell_type": "code",
      "metadata": {
        "id": "qsqFDgDQaOrd",
        "colab_type": "code",
        "colab": {}
      },
      "source": [
        "x = x.fix_prec()"
      ],
      "execution_count": 0,
      "outputs": []
    },
    {
      "cell_type": "code",
      "metadata": {
        "id": "Y_TNTfnuaOr0",
        "colab_type": "code",
        "outputId": "3f61af8b-eb0b-4f1c-ecee-415767caf55c",
        "colab": {}
      },
      "source": [
        "x.child.child"
      ],
      "execution_count": 0,
      "outputs": [
        {
          "output_type": "execute_result",
          "data": {
            "text/plain": [
              "tensor([100, 200, 300])"
            ]
          },
          "metadata": {
            "tags": []
          },
          "execution_count": 40
        }
      ]
    },
    {
      "cell_type": "code",
      "metadata": {
        "id": "1rhPGuuXaOsD",
        "colab_type": "code",
        "colab": {}
      },
      "source": [
        "y = x + x"
      ],
      "execution_count": 0,
      "outputs": []
    },
    {
      "cell_type": "code",
      "metadata": {
        "id": "mLfDmUedaOsO",
        "colab_type": "code",
        "outputId": "5a43c961-699b-4d2d-f335-419b33c3d60b",
        "colab": {}
      },
      "source": [
        "y = y.float_prec()\n",
        "y"
      ],
      "execution_count": 0,
      "outputs": [
        {
          "output_type": "execute_result",
          "data": {
            "text/plain": [
              "tensor([0.2000, 0.4000, 0.6000])"
            ]
          },
          "metadata": {
            "tags": []
          },
          "execution_count": 42
        }
      ]
    },
    {
      "cell_type": "markdown",
      "metadata": {
        "id": "PHc4L2WbaOsc",
        "colab_type": "text"
      },
      "source": [
        "### Shared Fixed Precision\n",
        "\n",
        "And of course, we can combine the two!"
      ]
    },
    {
      "cell_type": "code",
      "metadata": {
        "id": "bQx0QmxbaOse",
        "colab_type": "code",
        "colab": {}
      },
      "source": [
        "x = th.tensor([0.1, 0.2, 0.3])"
      ],
      "execution_count": 0,
      "outputs": []
    },
    {
      "cell_type": "code",
      "metadata": {
        "id": "LWt3-aqlaOsn",
        "colab_type": "code",
        "colab": {}
      },
      "source": [
        "x = x.fix_prec().share(bob, alice, secure_worker)"
      ],
      "execution_count": 0,
      "outputs": []
    },
    {
      "cell_type": "code",
      "metadata": {
        "id": "FXv8SQhHaOtM",
        "colab_type": "code",
        "colab": {}
      },
      "source": [
        "y = x + x"
      ],
      "execution_count": 0,
      "outputs": []
    },
    {
      "cell_type": "code",
      "metadata": {
        "id": "xUnyMYkpaOtZ",
        "colab_type": "code",
        "outputId": "e57bd423-4424-4784-9fe3-6216fb80886a",
        "colab": {}
      },
      "source": [
        "y.get().float_prec()"
      ],
      "execution_count": 0,
      "outputs": [
        {
          "output_type": "execute_result",
          "data": {
            "text/plain": [
              "tensor([0.2000, 0.4000, 0.6000])"
            ]
          },
          "metadata": {
            "tags": []
          },
          "execution_count": 46
        }
      ]
    },
    {
      "cell_type": "markdown",
      "metadata": {
        "id": "VedGpynTaOt7",
        "colab_type": "text"
      },
      "source": [
        "Make sure to make the point that people can see the model averages in the clear."
      ]
    },
    {
      "cell_type": "code",
      "metadata": {
        "id": "elv6crAPaOt-",
        "colab_type": "code",
        "colab": {}
      },
      "source": [
        ""
      ],
      "execution_count": 0,
      "outputs": []
    },
    {
      "cell_type": "markdown",
      "metadata": {
        "id": "zZl3oCKcaOuI",
        "colab_type": "text"
      },
      "source": [
        "# Final Project: Federated Learning with Encrypted Gradient Aggregation"
      ]
    },
    {
      "cell_type": "code",
      "metadata": {
        "id": "sEPwEtU_aOuK",
        "colab_type": "code",
        "colab": {}
      },
      "source": [
        ""
      ],
      "execution_count": 0,
      "outputs": []
    },
    {
      "cell_type": "code",
      "metadata": {
        "id": "k0h-yWTlaOuQ",
        "colab_type": "code",
        "colab": {}
      },
      "source": [
        ""
      ],
      "execution_count": 0,
      "outputs": []
    }
  ]
}