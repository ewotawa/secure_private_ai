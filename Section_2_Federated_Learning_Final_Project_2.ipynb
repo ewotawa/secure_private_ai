{
  "nbformat": 4,
  "nbformat_minor": 0,
  "metadata": {
    "colab": {
      "name": "Section 2 - Federated Learning Final Project 2.ipynb",
      "version": "0.3.2",
      "provenance": [],
      "collapsed_sections": [],
      "include_colab_link": true
    },
    "kernelspec": {
      "name": "python3",
      "display_name": "Python 3"
    },
    "accelerator": "GPU"
  },
  "cells": [
    {
      "cell_type": "markdown",
      "metadata": {
        "id": "view-in-github",
        "colab_type": "text"
      },
      "source": [
        "<a href=\"https://colab.research.google.com/github/ewotawa/secure_private_ai/blob/master/Section_2_Federated_Learning_Final_Project_2.ipynb\" target=\"_parent\"><img src=\"https://colab.research.google.com/assets/colab-badge.svg\" alt=\"Open In Colab\"/></a>"
      ]
    },
    {
      "cell_type": "markdown",
      "metadata": {
        "id": "NM6v2FitGLvc",
        "colab_type": "text"
      },
      "source": [
        "# Federated Learning Final Project\n",
        "\n",
        "## Overview\n",
        "* See  <a href=\"https://classroom.udacity.com/nanodegrees/nd185/parts/3fe1bb10-68d7-4d84-9c99-9539dedffad5/modules/28d685f0-0cb1-4f94-a8ea-2e16614ab421/lessons/c8fe481d-81ea-41be-8206-06d2deeb8575/concepts/a5fb4b4c-e38a-48de-b2a7-4e853c62acbe\">video</a> for additional details. \n",
        "* Do Federated Learning where the central server is not trusted with the raw gradients.  \n",
        "* In the final project notebook, you'll receive a dataset.  \n",
        "* Train on the dataset using Federated Learning.  \n",
        "* The gradients should not come up to the server in raw form.  \n",
        "* Instead, use the new .move() command to move all of the gradients to one of the workers, sum them up there, and then bring that batch up to the central server and then bring that batch up \n",
        "* Idea: the central server never actually sees the raw gradient for any person.  \n",
        "* We'll look at secure aggregation in course 3.  \n",
        "* For now, do a larger-scale Federated Learning case where you handle the gradients in a special way.\n",
        "\n",
        "## Approach\n",
        "* Reviewing methods of classmates for Federated Learning. \n",
        "\n",
        "## References\n",
        "*  <a href = \"https://github.com/edgarinvillegas/private-ai/blob/master/Section%203%20-%20Final%20project.ipynb/\">GitHub Notebook</a>\n",
        "* <a href = \"https://github.com/OpenMined/PySyft/blob/dev/examples/tutorials/Part%2010%20-%20Federated%20Learning%20with%20Secure%20Aggregation.ipynb\">Part 10: Federated Learning with Encrypted Gradient Aggregation</a>\n"
      ]
    },
    {
      "cell_type": "markdown",
      "metadata": {
        "id": "hCOI3fXnGWr0",
        "colab_type": "text"
      },
      "source": [
        "### Install libraries and dependencies"
      ]
    },
    {
      "cell_type": "code",
      "metadata": {
        "id": "jGKXOXqmF8TZ",
        "colab_type": "code",
        "outputId": "9e4d7456-5583-4577-e1e7-4b2c5c806dbb",
        "colab": {
          "base_uri": "https://localhost:8080/",
          "height": 989
        }
      },
      "source": [
        "# PySyft\n",
        "\n",
        "!pip install syft\n",
        "\n",
        "import syft as sy\n",
        "\n",
        "# PyTorch\n",
        "\n",
        "!pip install torch\n",
        "!pip install torchvision\n",
        "\n",
        "import torch\n",
        "import torch.nn as nn\n",
        "import torch.nn.functional as F\n",
        "import torch.optim as optim\n",
        "from torch.utils.data import TensorDataset, DataLoader\n",
        "\n",
        "import torchvision\n",
        "from torchvision import datasets, transforms\n",
        "\n",
        "# Numpy\n",
        "\n",
        "import numpy as np\n",
        "\n",
        "# time\n",
        "\n",
        "import time"
      ],
      "execution_count": 1,
      "outputs": [
        {
          "output_type": "stream",
          "text": [
            "Requirement already satisfied: syft in /usr/local/lib/python3.6/dist-packages (0.1.21a1)\n",
            "Requirement already satisfied: lz4>=2.1.6 in /usr/local/lib/python3.6/dist-packages (from syft) (2.1.10)\n",
            "Requirement already satisfied: websocket-client>=0.56.0 in /usr/local/lib/python3.6/dist-packages (from syft) (0.56.0)\n",
            "Requirement already satisfied: numpy>=1.14.0 in /usr/local/lib/python3.6/dist-packages (from syft) (1.16.4)\n",
            "Requirement already satisfied: msgpack>=0.6.1 in /usr/local/lib/python3.6/dist-packages (from syft) (0.6.1)\n",
            "Requirement already satisfied: flask-socketio>=3.3.2 in /usr/local/lib/python3.6/dist-packages (from syft) (4.1.0)\n",
            "Requirement already satisfied: scikit-learn>=0.21.0 in /usr/local/lib/python3.6/dist-packages (from syft) (0.21.2)\n",
            "Requirement already satisfied: Flask>=1.0.2 in /usr/local/lib/python3.6/dist-packages (from syft) (1.1.1)\n",
            "Requirement already satisfied: torch>=1.1 in /usr/local/lib/python3.6/dist-packages (from syft) (1.1.0)\n",
            "Requirement already satisfied: torchvision>=0.3.0 in /usr/local/lib/python3.6/dist-packages (from syft) (0.3.0)\n",
            "Requirement already satisfied: zstd>=1.4.0.0 in /usr/local/lib/python3.6/dist-packages (from syft) (1.4.1.0)\n",
            "Requirement already satisfied: tblib>=1.4.0 in /usr/local/lib/python3.6/dist-packages (from syft) (1.4.0)\n",
            "Requirement already satisfied: tf-encrypted>=0.5.4 in /usr/local/lib/python3.6/dist-packages (from syft) (0.5.7)\n",
            "Requirement already satisfied: websockets>=7.0 in /usr/local/lib/python3.6/dist-packages (from syft) (8.0.1)\n",
            "Requirement already satisfied: six in /usr/local/lib/python3.6/dist-packages (from websocket-client>=0.56.0->syft) (1.12.0)\n",
            "Requirement already satisfied: python-socketio>=2.1.0 in /usr/local/lib/python3.6/dist-packages (from flask-socketio>=3.3.2->syft) (4.2.0)\n",
            "Requirement already satisfied: joblib>=0.11 in /usr/local/lib/python3.6/dist-packages (from scikit-learn>=0.21.0->syft) (0.13.2)\n",
            "Requirement already satisfied: scipy>=0.17.0 in /usr/local/lib/python3.6/dist-packages (from scikit-learn>=0.21.0->syft) (1.3.0)\n",
            "Requirement already satisfied: Werkzeug>=0.15 in /usr/local/lib/python3.6/dist-packages (from Flask>=1.0.2->syft) (0.15.5)\n",
            "Requirement already satisfied: itsdangerous>=0.24 in /usr/local/lib/python3.6/dist-packages (from Flask>=1.0.2->syft) (1.1.0)\n",
            "Requirement already satisfied: Jinja2>=2.10.1 in /usr/local/lib/python3.6/dist-packages (from Flask>=1.0.2->syft) (2.10.1)\n",
            "Requirement already satisfied: click>=5.1 in /usr/local/lib/python3.6/dist-packages (from Flask>=1.0.2->syft) (7.0)\n",
            "Requirement already satisfied: pillow>=4.1.1 in /usr/local/lib/python3.6/dist-packages (from torchvision>=0.3.0->syft) (4.3.0)\n",
            "Requirement already satisfied: tensorflow<2,>=1.12.0 in /usr/local/lib/python3.6/dist-packages (from tf-encrypted>=0.5.4->syft) (1.14.0)\n",
            "Requirement already satisfied: pyyaml>=5.1 in /usr/local/lib/python3.6/dist-packages (from tf-encrypted>=0.5.4->syft) (5.1.1)\n",
            "Requirement already satisfied: python-engineio>=3.8.0 in /usr/local/lib/python3.6/dist-packages (from python-socketio>=2.1.0->flask-socketio>=3.3.2->syft) (3.8.2.post1)\n",
            "Requirement already satisfied: MarkupSafe>=0.23 in /usr/local/lib/python3.6/dist-packages (from Jinja2>=2.10.1->Flask>=1.0.2->syft) (1.1.1)\n",
            "Requirement already satisfied: olefile in /usr/local/lib/python3.6/dist-packages (from pillow>=4.1.1->torchvision>=0.3.0->syft) (0.46)\n",
            "Requirement already satisfied: keras-applications>=1.0.6 in /usr/local/lib/python3.6/dist-packages (from tensorflow<2,>=1.12.0->tf-encrypted>=0.5.4->syft) (1.0.8)\n",
            "Requirement already satisfied: absl-py>=0.7.0 in /usr/local/lib/python3.6/dist-packages (from tensorflow<2,>=1.12.0->tf-encrypted>=0.5.4->syft) (0.7.1)\n",
            "Requirement already satisfied: wrapt>=1.11.1 in /usr/local/lib/python3.6/dist-packages (from tensorflow<2,>=1.12.0->tf-encrypted>=0.5.4->syft) (1.11.2)\n",
            "Requirement already satisfied: wheel>=0.26 in /usr/local/lib/python3.6/dist-packages (from tensorflow<2,>=1.12.0->tf-encrypted>=0.5.4->syft) (0.33.4)\n",
            "Requirement already satisfied: tensorflow-estimator<1.15.0rc0,>=1.14.0rc0 in /usr/local/lib/python3.6/dist-packages (from tensorflow<2,>=1.12.0->tf-encrypted>=0.5.4->syft) (1.14.0)\n",
            "Requirement already satisfied: google-pasta>=0.1.6 in /usr/local/lib/python3.6/dist-packages (from tensorflow<2,>=1.12.0->tf-encrypted>=0.5.4->syft) (0.1.7)\n",
            "Requirement already satisfied: gast>=0.2.0 in /usr/local/lib/python3.6/dist-packages (from tensorflow<2,>=1.12.0->tf-encrypted>=0.5.4->syft) (0.2.2)\n",
            "Requirement already satisfied: protobuf>=3.6.1 in /usr/local/lib/python3.6/dist-packages (from tensorflow<2,>=1.12.0->tf-encrypted>=0.5.4->syft) (3.7.1)\n",
            "Requirement already satisfied: keras-preprocessing>=1.0.5 in /usr/local/lib/python3.6/dist-packages (from tensorflow<2,>=1.12.0->tf-encrypted>=0.5.4->syft) (1.1.0)\n",
            "Requirement already satisfied: tensorboard<1.15.0,>=1.14.0 in /usr/local/lib/python3.6/dist-packages (from tensorflow<2,>=1.12.0->tf-encrypted>=0.5.4->syft) (1.14.0)\n",
            "Requirement already satisfied: termcolor>=1.1.0 in /usr/local/lib/python3.6/dist-packages (from tensorflow<2,>=1.12.0->tf-encrypted>=0.5.4->syft) (1.1.0)\n",
            "Requirement already satisfied: grpcio>=1.8.6 in /usr/local/lib/python3.6/dist-packages (from tensorflow<2,>=1.12.0->tf-encrypted>=0.5.4->syft) (1.15.0)\n",
            "Requirement already satisfied: astor>=0.6.0 in /usr/local/lib/python3.6/dist-packages (from tensorflow<2,>=1.12.0->tf-encrypted>=0.5.4->syft) (0.8.0)\n",
            "Requirement already satisfied: h5py in /usr/local/lib/python3.6/dist-packages (from keras-applications>=1.0.6->tensorflow<2,>=1.12.0->tf-encrypted>=0.5.4->syft) (2.8.0)\n",
            "Requirement already satisfied: setuptools in /usr/local/lib/python3.6/dist-packages (from protobuf>=3.6.1->tensorflow<2,>=1.12.0->tf-encrypted>=0.5.4->syft) (41.0.1)\n",
            "Requirement already satisfied: markdown>=2.6.8 in /usr/local/lib/python3.6/dist-packages (from tensorboard<1.15.0,>=1.14.0->tensorflow<2,>=1.12.0->tf-encrypted>=0.5.4->syft) (3.1.1)\n"
          ],
          "name": "stdout"
        },
        {
          "output_type": "stream",
          "text": [
            "WARNING: Logging before flag parsing goes to stderr.\n",
            "W0723 00:47:31.931035 140324268464000 secure_random.py:26] Falling back to insecure randomness since the required custom op could not be found for the installed version of TensorFlow. Fix this by compiling custom ops. Missing file was '/usr/local/lib/python3.6/dist-packages/tf_encrypted/operations/secure_random/secure_random_module_tf_1.14.0.so'\n",
            "W0723 00:47:31.951922 140324268464000 deprecation_wrapper.py:119] From /usr/local/lib/python3.6/dist-packages/tf_encrypted/session.py:26: The name tf.Session is deprecated. Please use tf.compat.v1.Session instead.\n",
            "\n"
          ],
          "name": "stderr"
        },
        {
          "output_type": "stream",
          "text": [
            "Requirement already satisfied: torch in /usr/local/lib/python3.6/dist-packages (1.1.0)\n",
            "Requirement already satisfied: numpy in /usr/local/lib/python3.6/dist-packages (from torch) (1.16.4)\n",
            "Requirement already satisfied: torchvision in /usr/local/lib/python3.6/dist-packages (0.3.0)\n",
            "Requirement already satisfied: torch>=1.1.0 in /usr/local/lib/python3.6/dist-packages (from torchvision) (1.1.0)\n",
            "Requirement already satisfied: numpy in /usr/local/lib/python3.6/dist-packages (from torchvision) (1.16.4)\n",
            "Requirement already satisfied: pillow>=4.1.1 in /usr/local/lib/python3.6/dist-packages (from torchvision) (4.3.0)\n",
            "Requirement already satisfied: six in /usr/local/lib/python3.6/dist-packages (from torchvision) (1.12.0)\n",
            "Requirement already satisfied: olefile in /usr/local/lib/python3.6/dist-packages (from pillow>=4.1.1->torchvision) (0.46)\n"
          ],
          "name": "stdout"
        }
      ]
    },
    {
      "cell_type": "markdown",
      "metadata": {
        "id": "9Vanu9rXIV3k",
        "colab_type": "text"
      },
      "source": [
        "### Normal Federated Learning"
      ]
    },
    {
      "cell_type": "code",
      "metadata": {
        "id": "gUQ84pJSQGqA",
        "colab_type": "code",
        "colab": {}
      },
      "source": [
        "# Establish a parser to contain parameters for training\n",
        "\n",
        "class Parser: \n",
        "  def __init__(self):\n",
        "    self.epochs = 10\n",
        "    self.lr = 0.001\n",
        "    self.test_batch_size = 1\n",
        "    self.batch_size = 1\n",
        "    self.log_interval = 10\n",
        "    self.seed = 1\n",
        "    \n",
        "args = Parser()\n",
        "\n",
        "torch.manual_seed(args.seed)\n",
        "\n",
        "kwargs = {}"
      ],
      "execution_count": 0,
      "outputs": []
    },
    {
      "cell_type": "code",
      "metadata": {
        "id": "cI096VvCHCVu",
        "colab_type": "code",
        "colab": {}
      },
      "source": [
        "# A Toy Dataset\n",
        "\n",
        "data = torch.randn(50, 2, requires_grad=True) \n",
        "target = torch.randn(50, 1, requires_grad=True) \n",
        "\n",
        "data_test = torch.randn(50, 2, requires_grad=True) \n",
        "target_test = torch.randn(50, 1, requires_grad=True) "
      ],
      "execution_count": 0,
      "outputs": []
    },
    {
      "cell_type": "code",
      "metadata": {
        "id": "Lk3eED_kPuoP",
        "colab_type": "code",
        "colab": {}
      },
      "source": [
        "train = TensorDataset(data, target)\n",
        "test = TensorDataset(data_test, target_test)\n",
        "\n",
        "trainloader = DataLoader(train, batch_size=args.batch_size, shuffle=True, **kwargs)\n",
        "testloader = DataLoader(test, batch_size=args.test_batch_size, shuffle=True, **kwargs)"
      ],
      "execution_count": 0,
      "outputs": []
    },
    {
      "cell_type": "code",
      "metadata": {
        "id": "A5IEgR_LH5RE",
        "colab_type": "code",
        "outputId": "456deacf-34de-45c0-b2ce-2ac9d997f950",
        "colab": {
          "base_uri": "https://localhost:8080/",
          "height": 68
        }
      },
      "source": [
        "# A Toy Model\n",
        "\n",
        "class Net(nn.Module):\n",
        "  def __init__(self):\n",
        "    super(Net, self).__init__()\n",
        "    self.fc1 = nn.Linear(2,1)\n",
        "\n",
        "  def forward(self, x):\n",
        "    x = self.fc1(x)\n",
        "    return x\n",
        "\n",
        "# model = nn.Linear(2,1)\n",
        "\n",
        "model = Net() \n",
        "\n",
        "print(model)"
      ],
      "execution_count": 5,
      "outputs": [
        {
          "output_type": "stream",
          "text": [
            "Net(\n",
            "  (fc1): Linear(in_features=2, out_features=1, bias=True)\n",
            ")\n"
          ],
          "name": "stdout"
        }
      ]
    },
    {
      "cell_type": "code",
      "metadata": {
        "id": "YOGXMlEkH8P1",
        "colab_type": "code",
        "outputId": "a85205a1-241f-46aa-9cc8-d772fbd60f93",
        "colab": {
          "base_uri": "https://localhost:8080/",
          "height": 153
        }
      },
      "source": [
        "# Optimizer\n",
        "opt = optim.SGD(params=model.parameters(), lr=args.lr)\n",
        "print(opt)"
      ],
      "execution_count": 6,
      "outputs": [
        {
          "output_type": "stream",
          "text": [
            "SGD (\n",
            "Parameter Group 0\n",
            "    dampening: 0\n",
            "    lr: 0.001\n",
            "    momentum: 0\n",
            "    nesterov: False\n",
            "    weight_decay: 0\n",
            ")\n"
          ],
          "name": "stdout"
        }
      ]
    },
    {
      "cell_type": "markdown",
      "metadata": {
        "id": "moXQNSWnOCzL",
        "colab_type": "text"
      },
      "source": [
        "Set up hook, virtual workers, and virtual aggregator"
      ]
    },
    {
      "cell_type": "code",
      "metadata": {
        "id": "HkNHvMkJIVSV",
        "colab_type": "code",
        "colab": {}
      },
      "source": [
        "hook = sy.TorchHook(torch)\n",
        "vw00 = sy.VirtualWorker(hook, id=\"vw00\")\n",
        "vw01 = sy.VirtualWorker(hook, id=\"vw01\")\n",
        "\n",
        "aggr = sy.VirtualWorker(hook, id=\"aggr\")\n",
        "\n",
        "compute_nodes = [vw00, vw01]"
      ],
      "execution_count": 0,
      "outputs": []
    },
    {
      "cell_type": "code",
      "metadata": {
        "id": "4zu-lAUzRuTK",
        "colab_type": "code",
        "outputId": "b387b8a3-59fd-412e-d4d9-93b5c50c22ba",
        "colab": {
          "base_uri": "https://localhost:8080/",
          "height": 34
        }
      },
      "source": [
        "vw00.clear_objects()\n",
        "vw01.clear_objects()\n",
        "aggr.clear_objects()"
      ],
      "execution_count": 8,
      "outputs": [
        {
          "output_type": "execute_result",
          "data": {
            "text/plain": [
              "<VirtualWorker id:aggr #objects:0>"
            ]
          },
          "metadata": {
            "tags": []
          },
          "execution_count": 8
        }
      ]
    },
    {
      "cell_type": "code",
      "metadata": {
        "id": "mqKMB3YFTavk",
        "colab_type": "code",
        "outputId": "d20922d8-940a-4de4-e28c-6b05a78a6064",
        "colab": {
          "base_uri": "https://localhost:8080/",
          "height": 54
        }
      },
      "source": [
        "# Send data to the workers\n",
        "train_dist_dataset = []\n",
        "\n",
        "for batch_idx, (data, target) in enumerate(trainloader):\n",
        "  data = data.send(compute_nodes[batch_idx % len(compute_nodes)])\n",
        "  target = target.send(compute_nodes[batch_idx % len(compute_nodes)])\n",
        "  train_dist_dataset.append((data, target))\n",
        "  \n",
        "print(train_dist_dataset)"
      ],
      "execution_count": 9,
      "outputs": [
        {
          "output_type": "stream",
          "text": [
            "[((Wrapper)>[PointerTensor | me:87852161962 -> vw00:1867014711], (Wrapper)>[PointerTensor | me:54068292559 -> vw00:95763329025]), ((Wrapper)>[PointerTensor | me:21917541789 -> vw01:61682282552], (Wrapper)>[PointerTensor | me:31214785569 -> vw01:23371270086]), ((Wrapper)>[PointerTensor | me:70783505929 -> vw00:15790465499], (Wrapper)>[PointerTensor | me:63261927165 -> vw00:63101312369]), ((Wrapper)>[PointerTensor | me:67037946874 -> vw01:7204808435], (Wrapper)>[PointerTensor | me:78087928504 -> vw01:9111702806]), ((Wrapper)>[PointerTensor | me:37855987236 -> vw00:65061298900], (Wrapper)>[PointerTensor | me:27448136907 -> vw00:10783643674]), ((Wrapper)>[PointerTensor | me:55169964551 -> vw01:60578336403], (Wrapper)>[PointerTensor | me:91253173734 -> vw01:43847923775]), ((Wrapper)>[PointerTensor | me:88007669934 -> vw00:43672854421], (Wrapper)>[PointerTensor | me:29930836746 -> vw00:80572784492]), ((Wrapper)>[PointerTensor | me:24262887699 -> vw01:46582995190], (Wrapper)>[PointerTensor | me:95622928611 -> vw01:11850636170]), ((Wrapper)>[PointerTensor | me:31375557770 -> vw00:5271765699], (Wrapper)>[PointerTensor | me:72826118841 -> vw00:52112467876]), ((Wrapper)>[PointerTensor | me:81732081810 -> vw01:23660538009], (Wrapper)>[PointerTensor | me:60527664479 -> vw01:90110039529]), ((Wrapper)>[PointerTensor | me:28888349663 -> vw00:82557568544], (Wrapper)>[PointerTensor | me:35841453738 -> vw00:13797753784]), ((Wrapper)>[PointerTensor | me:60350653593 -> vw01:48024054170], (Wrapper)>[PointerTensor | me:82452198094 -> vw01:9599365229]), ((Wrapper)>[PointerTensor | me:39366096969 -> vw00:4784152933], (Wrapper)>[PointerTensor | me:61791589692 -> vw00:92875280683]), ((Wrapper)>[PointerTensor | me:30308212097 -> vw01:91093518691], (Wrapper)>[PointerTensor | me:4468181739 -> vw01:35803679575]), ((Wrapper)>[PointerTensor | me:72158116610 -> vw00:70642350076], (Wrapper)>[PointerTensor | me:9142199506 -> vw00:36033912008]), ((Wrapper)>[PointerTensor | me:15082232315 -> vw01:12298018267], (Wrapper)>[PointerTensor | me:74952258180 -> vw01:15946138944]), ((Wrapper)>[PointerTensor | me:82316758789 -> vw00:38807103691], (Wrapper)>[PointerTensor | me:62161870187 -> vw00:6363552835]), ((Wrapper)>[PointerTensor | me:88227766053 -> vw01:12780593008], (Wrapper)>[PointerTensor | me:77517397969 -> vw01:78454417743]), ((Wrapper)>[PointerTensor | me:23099932696 -> vw00:33624431301], (Wrapper)>[PointerTensor | me:93783092407 -> vw00:15317444749]), ((Wrapper)>[PointerTensor | me:4822219222 -> vw01:35263304718], (Wrapper)>[PointerTensor | me:38233152707 -> vw01:43911847306]), ((Wrapper)>[PointerTensor | me:80561936863 -> vw00:10583796695], (Wrapper)>[PointerTensor | me:92412169475 -> vw00:13157794392]), ((Wrapper)>[PointerTensor | me:60555783531 -> vw01:38921832400], (Wrapper)>[PointerTensor | me:45015975544 -> vw01:3429003905]), ((Wrapper)>[PointerTensor | me:19399895626 -> vw00:22622049192], (Wrapper)>[PointerTensor | me:49941644467 -> vw00:71289578350]), ((Wrapper)>[PointerTensor | me:81042373085 -> vw01:37325157281], (Wrapper)>[PointerTensor | me:26567760442 -> vw01:40792648412]), ((Wrapper)>[PointerTensor | me:56687135104 -> vw00:46507965229], (Wrapper)>[PointerTensor | me:97466452310 -> vw00:11650077107]), ((Wrapper)>[PointerTensor | me:84227427251 -> vw01:39210072310], (Wrapper)>[PointerTensor | me:27490913777 -> vw01:64215657781]), ((Wrapper)>[PointerTensor | me:59102168702 -> vw00:59039704791], (Wrapper)>[PointerTensor | me:52041072861 -> vw00:54271412548]), ((Wrapper)>[PointerTensor | me:58274542417 -> vw01:42858104216], (Wrapper)>[PointerTensor | me:66351848014 -> vw01:11797145162]), ((Wrapper)>[PointerTensor | me:57197000893 -> vw00:74432405449], (Wrapper)>[PointerTensor | me:91776251505 -> vw00:10395108406]), ((Wrapper)>[PointerTensor | me:34560032951 -> vw01:39045927190], (Wrapper)>[PointerTensor | me:25250720801 -> vw01:31475189911]), ((Wrapper)>[PointerTensor | me:47138996417 -> vw00:16633876732], (Wrapper)>[PointerTensor | me:35265219457 -> vw00:74086937138]), ((Wrapper)>[PointerTensor | me:22560038473 -> vw01:79383728797], (Wrapper)>[PointerTensor | me:66066949789 -> vw01:32809785982]), ((Wrapper)>[PointerTensor | me:10335464383 -> vw00:36669978531], (Wrapper)>[PointerTensor | me:70505223874 -> vw00:78300667383]), ((Wrapper)>[PointerTensor | me:80792757245 -> vw01:69218904566], (Wrapper)>[PointerTensor | me:52578373892 -> vw01:65723921057]), ((Wrapper)>[PointerTensor | me:35431056349 -> vw00:15574129221], (Wrapper)>[PointerTensor | me:25169025426 -> vw00:80265285008]), ((Wrapper)>[PointerTensor | me:14959225446 -> vw01:86669577227], (Wrapper)>[PointerTensor | me:15500283546 -> vw01:6168839432]), ((Wrapper)>[PointerTensor | me:98095125796 -> vw00:71634340638], (Wrapper)>[PointerTensor | me:88411126194 -> vw00:84063249312]), ((Wrapper)>[PointerTensor | me:78467770181 -> vw01:44400486682], (Wrapper)>[PointerTensor | me:50835341140 -> vw01:58983524040]), ((Wrapper)>[PointerTensor | me:78072462411 -> vw00:95932567150], (Wrapper)>[PointerTensor | me:62233205871 -> vw00:5077527408]), ((Wrapper)>[PointerTensor | me:94271704803 -> vw01:99457772565], (Wrapper)>[PointerTensor | me:27474400233 -> vw01:95691573092]), ((Wrapper)>[PointerTensor | me:97311793615 -> vw00:33044959126], (Wrapper)>[PointerTensor | me:90627792035 -> vw00:84041878702]), ((Wrapper)>[PointerTensor | me:95076887555 -> vw01:15425054007], (Wrapper)>[PointerTensor | me:70568942429 -> vw01:10830638880]), ((Wrapper)>[PointerTensor | me:41859866650 -> vw00:91602507853], (Wrapper)>[PointerTensor | me:13003473846 -> vw00:87140449444]), ((Wrapper)>[PointerTensor | me:68101712200 -> vw01:9392006851], (Wrapper)>[PointerTensor | me:63455805769 -> vw01:10589908894]), ((Wrapper)>[PointerTensor | me:24766764602 -> vw00:4477236967], (Wrapper)>[PointerTensor | me:12455451450 -> vw00:2200529139]), ((Wrapper)>[PointerTensor | me:61407408789 -> vw01:27803818079], (Wrapper)>[PointerTensor | me:76223265834 -> vw01:70294247488]), ((Wrapper)>[PointerTensor | me:39013670602 -> vw00:33444187923], (Wrapper)>[PointerTensor | me:11612598105 -> vw00:29702595368]), ((Wrapper)>[PointerTensor | me:34999092123 -> vw01:25588035292], (Wrapper)>[PointerTensor | me:75328825596 -> vw01:35146558654]), ((Wrapper)>[PointerTensor | me:14739506175 -> vw00:20101423469], (Wrapper)>[PointerTensor | me:9871035371 -> vw00:63508199323]), ((Wrapper)>[PointerTensor | me:94841006611 -> vw01:39740038401], (Wrapper)>[PointerTensor | me:78490662588 -> vw01:7600391331])]\n"
          ],
          "name": "stdout"
        }
      ]
    },
    {
      "cell_type": "code",
      "metadata": {
        "id": "2_F9JxO5y9Xu",
        "colab_type": "code",
        "colab": {}
      },
      "source": [
        "# define loss function\n",
        "\n",
        "def loss_func(pred, target):\n",
        "  loss = ((pred - target)**2).sum()\n",
        "  return loss"
      ],
      "execution_count": 0,
      "outputs": []
    },
    {
      "cell_type": "code",
      "metadata": {
        "id": "9zwHPn6FI6bH",
        "colab_type": "code",
        "colab": {}
      },
      "source": [
        "# training function\n",
        "\n",
        "def train(epoch):\n",
        "  model.train()\n",
        "  \n",
        "  for batch_idx, (data, target) in enumerate(train_dist_dataset):\n",
        "    # determine the active worker\n",
        "    worker = data.location\n",
        "    # send the model to the active worker\n",
        "    model.send(worker)\n",
        "    \n",
        "    # do normal training\n",
        "    opt.zero_grad()\n",
        "    pred = model(data)\n",
        "    loss = loss_func(pred, target)\n",
        "    loss.backward()\n",
        "    opt.step()\n",
        "    model.get()\n",
        "\n",
        "    if batch_idx % args.log_interval == 0:\n",
        "      loss = loss.get()\n",
        "      print('Train Epoch: {} [{}/{} ({:.0f}%)]\\tloss: {:.6f}'.format(\n",
        "        epoch, batch_idx, len(trainloader),\n",
        "          100. * batch_idx / len(trainloader), loss.item()))"
      ],
      "execution_count": 0,
      "outputs": []
    },
    {
      "cell_type": "code",
      "metadata": {
        "id": "Y3S388XyXIug",
        "colab_type": "code",
        "colab": {}
      },
      "source": [
        "# testing function\n",
        "\n",
        "def test():\n",
        "  model.eval()\n",
        "  test_loss = 0\n",
        "  for data, target in testloader:\n",
        "    pred = model(data)\n",
        "    test_loss += loss_func(pred, target).item() # sum up batch loss\n",
        "    \n",
        "  test_loss /= len(testloader.dataset)\n",
        "  print('\\nTest Set: Average Loss: {:.4f}\\n'.format(test_loss))"
      ],
      "execution_count": 0,
      "outputs": []
    },
    {
      "cell_type": "code",
      "metadata": {
        "id": "4eZj1yCMzzpj",
        "colab_type": "code",
        "outputId": "ff9e385a-18fa-478a-e405-3f6f987d444f",
        "colab": {
          "base_uri": "https://localhost:8080/",
          "height": 884
        }
      },
      "source": [
        "# train the model\n",
        "\n",
        "t = time.time()\n",
        "\n",
        "for epoch in range(1, args.epochs + 1):\n",
        "  train(epoch)\n",
        "  \n",
        "total_time = time.time() - t\n",
        "print('total', round(total_time, 2), 'sec')"
      ],
      "execution_count": 13,
      "outputs": [
        {
          "output_type": "stream",
          "text": [
            "Train Epoch: 1 [0/50 (0%)]\tloss: 2.548004\n",
            "Train Epoch: 1 [10/50 (20%)]\tloss: 1.465525\n",
            "Train Epoch: 1 [20/50 (40%)]\tloss: 1.308707\n",
            "Train Epoch: 1 [30/50 (60%)]\tloss: 0.103834\n",
            "Train Epoch: 1 [40/50 (80%)]\tloss: 0.000071\n",
            "Train Epoch: 2 [0/50 (0%)]\tloss: 2.288096\n",
            "Train Epoch: 2 [10/50 (20%)]\tloss: 1.318819\n",
            "Train Epoch: 2 [20/50 (40%)]\tloss: 1.319915\n",
            "Train Epoch: 2 [30/50 (60%)]\tloss: 0.120199\n",
            "Train Epoch: 2 [40/50 (80%)]\tloss: 0.000036\n",
            "Train Epoch: 3 [0/50 (0%)]\tloss: 2.069994\n",
            "Train Epoch: 3 [10/50 (20%)]\tloss: 1.193838\n",
            "Train Epoch: 3 [20/50 (40%)]\tloss: 1.322092\n",
            "Train Epoch: 3 [30/50 (60%)]\tloss: 0.137194\n",
            "Train Epoch: 3 [40/50 (80%)]\tloss: 0.000446\n",
            "Train Epoch: 4 [0/50 (0%)]\tloss: 1.886120\n",
            "Train Epoch: 4 [10/50 (20%)]\tloss: 1.086949\n",
            "Train Epoch: 4 [20/50 (40%)]\tloss: 1.317107\n",
            "Train Epoch: 4 [30/50 (60%)]\tloss: 0.154615\n",
            "Train Epoch: 4 [40/50 (80%)]\tloss: 0.001332\n",
            "Train Epoch: 5 [0/50 (0%)]\tloss: 1.730398\n",
            "Train Epoch: 5 [10/50 (20%)]\tloss: 0.995188\n",
            "Train Epoch: 5 [20/50 (40%)]\tloss: 1.306569\n",
            "Train Epoch: 5 [30/50 (60%)]\tloss: 0.172268\n",
            "Train Epoch: 5 [40/50 (80%)]\tloss: 0.002692\n",
            "Train Epoch: 6 [0/50 (0%)]\tloss: 1.597936\n",
            "Train Epoch: 6 [10/50 (20%)]\tloss: 0.916121\n",
            "Train Epoch: 6 [20/50 (40%)]\tloss: 1.291839\n",
            "Train Epoch: 6 [30/50 (60%)]\tloss: 0.189977\n",
            "Train Epoch: 6 [40/50 (80%)]\tloss: 0.004501\n",
            "Train Epoch: 7 [0/50 (0%)]\tloss: 1.484778\n",
            "Train Epoch: 7 [10/50 (20%)]\tloss: 0.847747\n",
            "Train Epoch: 7 [20/50 (40%)]\tloss: 1.274053\n",
            "Train Epoch: 7 [30/50 (60%)]\tloss: 0.207586\n",
            "Train Epoch: 7 [40/50 (80%)]\tloss: 0.006713\n",
            "Train Epoch: 8 [0/50 (0%)]\tloss: 1.387714\n",
            "Train Epoch: 8 [10/50 (20%)]\tloss: 0.788412\n",
            "Train Epoch: 8 [20/50 (40%)]\tloss: 1.254141\n",
            "Train Epoch: 8 [30/50 (60%)]\tloss: 0.224958\n",
            "Train Epoch: 8 [40/50 (80%)]\tloss: 0.009275\n",
            "Train Epoch: 9 [0/50 (0%)]\tloss: 1.304126\n",
            "Train Epoch: 9 [10/50 (20%)]\tloss: 0.736747\n",
            "Train Epoch: 9 [20/50 (40%)]\tloss: 1.232861\n",
            "Train Epoch: 9 [30/50 (60%)]\tloss: 0.241977\n",
            "Train Epoch: 9 [40/50 (80%)]\tloss: 0.012127\n",
            "Train Epoch: 10 [0/50 (0%)]\tloss: 1.231869\n",
            "Train Epoch: 10 [10/50 (20%)]\tloss: 0.691614\n",
            "Train Epoch: 10 [20/50 (40%)]\tloss: 1.210818\n",
            "Train Epoch: 10 [30/50 (60%)]\tloss: 0.258547\n",
            "Train Epoch: 10 [40/50 (80%)]\tloss: 0.015207\n",
            "total 4.07 sec\n"
          ],
          "name": "stdout"
        }
      ]
    },
    {
      "cell_type": "code",
      "metadata": {
        "id": "Af28LU0X0TGf",
        "colab_type": "code",
        "outputId": "95d00b11-5932-4d02-9a08-d8a7b8672a9e",
        "colab": {
          "base_uri": "https://localhost:8080/",
          "height": 68
        }
      },
      "source": [
        "# calculating performance\n",
        "test()"
      ],
      "execution_count": 14,
      "outputs": [
        {
          "output_type": "stream",
          "text": [
            "\n",
            "Test Set: Average Loss: 0.8006\n",
            "\n"
          ],
          "name": "stdout"
        }
      ]
    },
    {
      "cell_type": "markdown",
      "metadata": {
        "id": "rvfrM-2R2hnp",
        "colab_type": "text"
      },
      "source": [
        "### Add Encrypted Aggregation"
      ]
    },
    {
      "cell_type": "code",
      "metadata": {
        "id": "PsPiFsaM2gkj",
        "colab_type": "code",
        "outputId": "bf03053b-daa9-45cf-fd5b-431087058d1e",
        "colab": {
          "base_uri": "https://localhost:8080/",
          "height": 71
        }
      },
      "source": [
        "# Send data to the workers\n",
        "remote_dataset = (list(), list())\n",
        "\n",
        "train_dist_dataset = []\n",
        "\n",
        "for batch_idx, (data, target) in enumerate(trainloader):\n",
        "  data = data.send(compute_nodes[batch_idx % len(compute_nodes)])\n",
        "  target = target.send(compute_nodes[batch_idx % len(compute_nodes)])\n",
        "  remote_dataset[batch_idx % len(compute_nodes)].append((data, target))\n",
        "  \n",
        "\n",
        "print(remote_dataset)\n",
        "\n",
        "print(train_dist_dataset)"
      ],
      "execution_count": 15,
      "outputs": [
        {
          "output_type": "stream",
          "text": [
            "([((Wrapper)>[PointerTensor | me:65002615150 -> vw00:59849677808], (Wrapper)>[PointerTensor | me:26908933916 -> vw00:73078401570]), ((Wrapper)>[PointerTensor | me:54227963716 -> vw00:80580904657], (Wrapper)>[PointerTensor | me:79353357986 -> vw00:12048616746]), ((Wrapper)>[PointerTensor | me:92946594792 -> vw00:70564547381], (Wrapper)>[PointerTensor | me:58280343932 -> vw00:29025160202]), ((Wrapper)>[PointerTensor | me:64868705503 -> vw00:13671108078], (Wrapper)>[PointerTensor | me:83637100468 -> vw00:42348767776]), ((Wrapper)>[PointerTensor | me:84837849091 -> vw00:84962101360], (Wrapper)>[PointerTensor | me:47451228808 -> vw00:98724905608]), ((Wrapper)>[PointerTensor | me:94241518471 -> vw00:34811968038], (Wrapper)>[PointerTensor | me:3102425379 -> vw00:34548988521]), ((Wrapper)>[PointerTensor | me:92625188903 -> vw00:67876750185], (Wrapper)>[PointerTensor | me:56527732384 -> vw00:29039250189]), ((Wrapper)>[PointerTensor | me:90172575284 -> vw00:64774865029], (Wrapper)>[PointerTensor | me:97276555540 -> vw00:954533957]), ((Wrapper)>[PointerTensor | me:88235709237 -> vw00:90966682277], (Wrapper)>[PointerTensor | me:58477868269 -> vw00:87887631618]), ((Wrapper)>[PointerTensor | me:90364917442 -> vw00:82199452666], (Wrapper)>[PointerTensor | me:20137205554 -> vw00:89058830332]), ((Wrapper)>[PointerTensor | me:34651086369 -> vw00:89240989419], (Wrapper)>[PointerTensor | me:19347185637 -> vw00:67946635680]), ((Wrapper)>[PointerTensor | me:37019113484 -> vw00:67122907804], (Wrapper)>[PointerTensor | me:25295490405 -> vw00:93575839657]), ((Wrapper)>[PointerTensor | me:53989089170 -> vw00:31935412153], (Wrapper)>[PointerTensor | me:75337060667 -> vw00:50485464222]), ((Wrapper)>[PointerTensor | me:7194294571 -> vw00:79952769879], (Wrapper)>[PointerTensor | me:51424947668 -> vw00:33043943467]), ((Wrapper)>[PointerTensor | me:62390541692 -> vw00:64208248733], (Wrapper)>[PointerTensor | me:72872196479 -> vw00:77317638072]), ((Wrapper)>[PointerTensor | me:37418623458 -> vw00:84044748006], (Wrapper)>[PointerTensor | me:20863599904 -> vw00:24288068240]), ((Wrapper)>[PointerTensor | me:80032273 -> vw00:13683253210], (Wrapper)>[PointerTensor | me:16619529584 -> vw00:2283669120]), ((Wrapper)>[PointerTensor | me:47678306964 -> vw00:86951873064], (Wrapper)>[PointerTensor | me:80888181308 -> vw00:42058321342]), ((Wrapper)>[PointerTensor | me:41614917705 -> vw00:45375651758], (Wrapper)>[PointerTensor | me:69388852662 -> vw00:35872759182]), ((Wrapper)>[PointerTensor | me:84394879716 -> vw00:51956435201], (Wrapper)>[PointerTensor | me:2865192503 -> vw00:68100042007]), ((Wrapper)>[PointerTensor | me:79187836679 -> vw00:43084638654], (Wrapper)>[PointerTensor | me:7945918213 -> vw00:79284904472]), ((Wrapper)>[PointerTensor | me:60732848798 -> vw00:65327141854], (Wrapper)>[PointerTensor | me:88627852714 -> vw00:53546018780]), ((Wrapper)>[PointerTensor | me:14702241517 -> vw00:65922067586], (Wrapper)>[PointerTensor | me:64000404592 -> vw00:42142215109]), ((Wrapper)>[PointerTensor | me:68657731490 -> vw00:63109207537], (Wrapper)>[PointerTensor | me:45003100791 -> vw00:18940204577]), ((Wrapper)>[PointerTensor | me:56204334267 -> vw00:26210325415], (Wrapper)>[PointerTensor | me:79260114309 -> vw00:91727799928])], [((Wrapper)>[PointerTensor | me:50318761747 -> vw01:52431993553], (Wrapper)>[PointerTensor | me:60954537874 -> vw01:63645076683]), ((Wrapper)>[PointerTensor | me:77160072421 -> vw01:29305042800], (Wrapper)>[PointerTensor | me:94792254522 -> vw01:89810845108]), ((Wrapper)>[PointerTensor | me:88929263553 -> vw01:8538991461], (Wrapper)>[PointerTensor | me:42687764827 -> vw01:77855618214]), ((Wrapper)>[PointerTensor | me:2295452498 -> vw01:83665652068], (Wrapper)>[PointerTensor | me:63145501146 -> vw01:22305760184]), ((Wrapper)>[PointerTensor | me:94186805050 -> vw01:62125281995], (Wrapper)>[PointerTensor | me:89174368235 -> vw01:99322152808]), ((Wrapper)>[PointerTensor | me:53301707462 -> vw01:37839937029], (Wrapper)>[PointerTensor | me:89902053840 -> vw01:78143411080]), ((Wrapper)>[PointerTensor | me:35138172929 -> vw01:69005751302], (Wrapper)>[PointerTensor | me:43436834247 -> vw01:76295573428]), ((Wrapper)>[PointerTensor | me:70224239511 -> vw01:24204924776], (Wrapper)>[PointerTensor | me:22432820683 -> vw01:48035722309]), ((Wrapper)>[PointerTensor | me:34520123860 -> vw01:33137424591], (Wrapper)>[PointerTensor | me:15334630811 -> vw01:52530245117]), ((Wrapper)>[PointerTensor | me:74161068616 -> vw01:13603444037], (Wrapper)>[PointerTensor | me:63364339143 -> vw01:65324360859]), ((Wrapper)>[PointerTensor | me:768255245 -> vw01:54784039582], (Wrapper)>[PointerTensor | me:6063426897 -> vw01:48361798697]), ((Wrapper)>[PointerTensor | me:29439351002 -> vw01:76295192193], (Wrapper)>[PointerTensor | me:6472367470 -> vw01:90121315969]), ((Wrapper)>[PointerTensor | me:8249417584 -> vw01:80329797529], (Wrapper)>[PointerTensor | me:14173180243 -> vw01:20319960305]), ((Wrapper)>[PointerTensor | me:1228833540 -> vw01:37759160845], (Wrapper)>[PointerTensor | me:34460643656 -> vw01:9961372400]), ((Wrapper)>[PointerTensor | me:78759872321 -> vw01:51682015524], (Wrapper)>[PointerTensor | me:36064972475 -> vw01:77766750560]), ((Wrapper)>[PointerTensor | me:74577046170 -> vw01:45780874779], (Wrapper)>[PointerTensor | me:86285643518 -> vw01:81261603315]), ((Wrapper)>[PointerTensor | me:47819594504 -> vw01:35605674446], (Wrapper)>[PointerTensor | me:34239320947 -> vw01:40725126748]), ((Wrapper)>[PointerTensor | me:41419580670 -> vw01:57754625689], (Wrapper)>[PointerTensor | me:12477103392 -> vw01:53765822606]), ((Wrapper)>[PointerTensor | me:96154154067 -> vw01:51532624162], (Wrapper)>[PointerTensor | me:15295393001 -> vw01:92428344035]), ((Wrapper)>[PointerTensor | me:74300699151 -> vw01:8054205895], (Wrapper)>[PointerTensor | me:59600739057 -> vw01:84453378949]), ((Wrapper)>[PointerTensor | me:34871962008 -> vw01:94023870871], (Wrapper)>[PointerTensor | me:89859674418 -> vw01:20648365373]), ((Wrapper)>[PointerTensor | me:20194351942 -> vw01:19929845194], (Wrapper)>[PointerTensor | me:402645808 -> vw01:57334346795]), ((Wrapper)>[PointerTensor | me:67147345482 -> vw01:90712740201], (Wrapper)>[PointerTensor | me:29807622933 -> vw01:69391340915]), ((Wrapper)>[PointerTensor | me:1169099533 -> vw01:33549075566], (Wrapper)>[PointerTensor | me:92284446092 -> vw01:90233212755]), ((Wrapper)>[PointerTensor | me:97851784923 -> vw01:38125994997], (Wrapper)>[PointerTensor | me:20435884027 -> vw01:27888072946])])\n",
            "[]\n"
          ],
          "name": "stdout"
        }
      ]
    },
    {
      "cell_type": "code",
      "metadata": {
        "id": "B-wPwQW03QKy",
        "colab_type": "code",
        "colab": {}
      },
      "source": [
        "# need to be able to send distinct model to each worker to train.\n",
        "\n",
        "def update(data, target, model, optimizer):\n",
        "  model.send(data.location)\n",
        "  optimizer.zero_grad()\n",
        "  pred = model(data)\n",
        "  loss = loss_func(pred, target)\n",
        "  loss.backward()\n",
        "  optimizer.step()\n",
        "  return model"
      ],
      "execution_count": 0,
      "outputs": []
    },
    {
      "cell_type": "code",
      "metadata": {
        "id": "4Rs_5FPc3oFU",
        "colab_type": "code",
        "colab": {}
      },
      "source": [
        "# define worker-based models and optimizer\n",
        "\n",
        "vw00_model = Net()\n",
        "vw01_model = Net()\n",
        "\n",
        "vw00_optimizer = optim.SGD(vw00_model.parameters(), lr=args.lr)\n",
        "vw01_optimizer = optim.SGD(vw01_model.parameters(), lr=args.lr)\n",
        "\n",
        "models = [vw00_model, vw01_model]\n",
        "params = [list(vw00_model.parameters()), list(vw01_model.parameters())]\n",
        "optimizers = [vw00_optimizer, vw01_optimizer]"
      ],
      "execution_count": 0,
      "outputs": []
    },
    {
      "cell_type": "markdown",
      "metadata": {
        "id": "F3gBf6h64T45",
        "colab_type": "text"
      },
      "source": [
        "#### Train"
      ]
    },
    {
      "cell_type": "code",
      "metadata": {
        "id": "y47sg78I4WwT",
        "colab_type": "code",
        "colab": {}
      },
      "source": [
        "# select batch on which to train\n",
        "data_index = 0\n",
        "\n",
        "# update remote models\n",
        "# here, iterate once per model\n",
        "\n",
        "for remote_index in range(len(compute_nodes)):\n",
        "  data, target = remote_dataset[remote_index][data_index]\n",
        "  models[remote_index] = update(data, target, models[remote_index], optimizers[remote_index])"
      ],
      "execution_count": 0,
      "outputs": []
    },
    {
      "cell_type": "markdown",
      "metadata": {
        "id": "xmLAKR1742Qe",
        "colab_type": "text"
      },
      "source": [
        "#### Encrypted Aggregation"
      ]
    },
    {
      "cell_type": "code",
      "metadata": {
        "id": "9qdMDzV043vf",
        "colab_type": "code",
        "colab": {}
      },
      "source": [
        "# list to store encrypted model average\n",
        "new_params = list()"
      ],
      "execution_count": 0,
      "outputs": []
    },
    {
      "cell_type": "code",
      "metadata": {
        "id": "PIcDKd2ZVMil",
        "colab_type": "code",
        "colab": {
          "base_uri": "https://localhost:8080/",
          "height": 697
        },
        "outputId": "e985d8b8-5392-4b05-94b0-da2b7b4410f4"
      },
      "source": [
        "# visualize the parameters\n",
        "for i in range(len(params[0])):\n",
        "  \n",
        "  # for each worker\n",
        "  spdz2_params = list()\n",
        "  for remote_index in range(len(compute_nodes)):\n",
        "    \n",
        "    lcop = params[remote_index][i].copy().get() \n",
        "    \n",
        "    print(\"\\nremote index: \", remote_index, \"\\n\")\n",
        "    print(lcop)\n",
        "    print(lcop.type())\n",
        "    \n",
        "    lcop_th = lcop * 10000\n",
        "    print(lcop_th)\n",
        "    \n",
        "    lcop_fx = lcop_th.type(torch.LongTensor)\n",
        "    print(lcop_fx)\n",
        "    print(lcop_fx.type())\n",
        "    \n",
        "    lcop_th_fl = lcop_fx.type(torch.FloatTensor)\n",
        "    lcop_fl = lcop_th_fl / 10000\n",
        "    print(lcop_fl)\n",
        "    print(lcop_fl.type())"
      ],
      "execution_count": 20,
      "outputs": [
        {
          "output_type": "stream",
          "text": [
            "\n",
            "remote index:  0 \n",
            "\n",
            "tensor([[-0.6983, -0.5240]], requires_grad=True)\n",
            "torch.FloatTensor\n",
            "tensor([[-6983.4028, -5239.7515]], grad_fn=<MulBackward0>)\n",
            "tensor([[-6983, -5239]])\n",
            "torch.LongTensor\n",
            "tensor([[-0.6983, -0.5239]])\n",
            "torch.FloatTensor\n",
            "\n",
            "remote index:  1 \n",
            "\n",
            "tensor([[-0.2316, -0.2829]], requires_grad=True)\n",
            "torch.FloatTensor\n",
            "tensor([[-2316.2527, -2829.3748]], grad_fn=<MulBackward0>)\n",
            "tensor([[-2316, -2829]])\n",
            "torch.LongTensor\n",
            "tensor([[-0.2316, -0.2829]])\n",
            "torch.FloatTensor\n",
            "\n",
            "remote index:  0 \n",
            "\n",
            "tensor([0.3239], requires_grad=True)\n",
            "torch.FloatTensor\n",
            "tensor([3239.4980], grad_fn=<MulBackward0>)\n",
            "tensor([3239])\n",
            "torch.LongTensor\n",
            "tensor([0.3239])\n",
            "torch.FloatTensor\n",
            "\n",
            "remote index:  1 \n",
            "\n",
            "tensor([-0.5834], requires_grad=True)\n",
            "torch.FloatTensor\n",
            "tensor([-5834.4795], grad_fn=<MulBackward0>)\n",
            "tensor([-5834])\n",
            "torch.LongTensor\n",
            "tensor([-0.5834])\n",
            "torch.FloatTensor\n"
          ],
          "name": "stdout"
        }
      ]
    },
    {
      "cell_type": "code",
      "metadata": {
        "id": "c4Q8MBkO4-g-",
        "colab_type": "code",
        "colab": {
          "base_uri": "https://localhost:8080/",
          "height": 34
        },
        "outputId": "f2e194b7-e398-4fe3-f0da-77a52d14a338"
      },
      "source": [
        "# iterate through each parameter\n",
        "for i in range(len(params[0])):\n",
        "  \n",
        "  # for each worker\n",
        "  spdz_params_th = list()\n",
        "  for remote_index in range(len(compute_nodes)):\n",
        "    \n",
        "    # copy of parameter (cop): copy same parameter from each worker's model, floating type tensor\n",
        "    cop = params[remote_index][i].copy()\n",
        "    \n",
        "    # copy of parameter, thousands (cop_th): copy of parameter scaled up so that precision is not lost\n",
        "    # fixed precision parameter, thousands (fpp_th): fixed precision version of parameter scaled up so that precision is not lost\n",
        "    fpp_th = cop * 10000\n",
        "    \n",
        "    # encrypt on the remote machine. Note: fixed_precision_param is already a pointer. \n",
        "    # calling share encrypts data to which pointer is pointing. Returns a pointer to the MPC secret shared object. Need to fetch object.\n",
        "    encrypted_param_th = fpp_th.share(vw00, vw01, crypto_provider=aggr)\n",
        "    \n",
        "    # fetch the pointer to the MPC shared value\n",
        "    param_th = encrypted_param_th.get()\n",
        "    \n",
        "    # save parameter so can average with same parameter from other workers.\n",
        "    spdz_params_th.append(param_th)\n",
        "    \n",
        "  # average param from multiple workers, fetch back to local machine. Decrypt and decode from fixed precision back to float. \n",
        "  new_param_th = (spdz_params_th[0] + spdz_params_th[1]).get() / 2 #.float_precision() / 2 \n",
        "  new_param_float_th = new_param_th.type(torch.FloatTensor) \n",
        "  new_param_float = new_param_float_th / 10000\n",
        "  \n",
        "  # save new averaged parameter\n",
        "  new_params.append(new_param_float)\n",
        "\n",
        "print(new_params)\n",
        "\n"
      ],
      "execution_count": 21,
      "outputs": [
        {
          "output_type": "stream",
          "text": [
            "[tensor([[-0.4649, -0.4034]]), tensor([-0.1297])]\n"
          ],
          "name": "stdout"
        }
      ]
    },
    {
      "cell_type": "markdown",
      "metadata": {
        "id": "PmLBZx--7DL_",
        "colab_type": "text"
      },
      "source": [
        "#### Cleanup"
      ]
    },
    {
      "cell_type": "code",
      "metadata": {
        "id": "i5TGZCcH7ESW",
        "colab_type": "code",
        "colab": {}
      },
      "source": [
        "with torch.no_grad():\n",
        "  for model in params:\n",
        "    for param in model:\n",
        "      param *= 0\n",
        "  \n",
        "  for model in models:\n",
        "    model.get()\n",
        "    \n",
        "  for remote_index in range(len(compute_nodes)):\n",
        "    for param_index in range(len(params[remote_index])):\n",
        "      params[remote_index][param_index].set_(new_params[param_index])"
      ],
      "execution_count": 0,
      "outputs": []
    },
    {
      "cell_type": "markdown",
      "metadata": {
        "id": "SuQTWVNhAleq",
        "colab_type": "text"
      },
      "source": [
        "### Bring components together"
      ]
    },
    {
      "cell_type": "code",
      "metadata": {
        "id": "-nAnWJfz2Rtu",
        "colab_type": "code",
        "colab": {
          "base_uri": "https://localhost:8080/",
          "height": 34
        },
        "outputId": "90ccb1f7-1da0-4202-bd3a-57804908c78d"
      },
      "source": [
        "vw00.clear_objects()\n",
        "vw01.clear_objects()\n",
        "aggr.clear_objects()"
      ],
      "execution_count": 131,
      "outputs": [
        {
          "output_type": "execute_result",
          "data": {
            "text/plain": [
              "<VirtualWorker id:aggr #objects:0>"
            ]
          },
          "metadata": {
            "tags": []
          },
          "execution_count": 131
        }
      ]
    },
    {
      "cell_type": "code",
      "metadata": {
        "id": "pMFCypLh18Jr",
        "colab_type": "code",
        "colab": {
          "base_uri": "https://localhost:8080/",
          "height": 71
        },
        "outputId": "b060394d-b4c6-4836-c63f-9ff3e2c5645e"
      },
      "source": [
        "# Send data to the workers\n",
        "remote_dataset = (list(), list())\n",
        "\n",
        "train_dist_dataset = []\n",
        "\n",
        "for batch_idx, (data, target) in enumerate(trainloader):\n",
        "  data = data.send(compute_nodes[batch_idx % len(compute_nodes)])\n",
        "  target = target.send(compute_nodes[batch_idx % len(compute_nodes)])\n",
        "  remote_dataset[batch_idx % len(compute_nodes)].append((data, target))\n",
        "  \n",
        "\n",
        "print(remote_dataset)\n",
        "\n",
        "print(train_dist_dataset)"
      ],
      "execution_count": 132,
      "outputs": [
        {
          "output_type": "stream",
          "text": [
            "([((Wrapper)>[PointerTensor | me:13055735074 -> vw00:7549626001], (Wrapper)>[PointerTensor | me:47763213477 -> vw00:93877278802]), ((Wrapper)>[PointerTensor | me:18084543708 -> vw00:97643729603], (Wrapper)>[PointerTensor | me:82307066861 -> vw00:68783321413]), ((Wrapper)>[PointerTensor | me:89837241357 -> vw00:54674009703], (Wrapper)>[PointerTensor | me:48466508546 -> vw00:15375753952]), ((Wrapper)>[PointerTensor | me:98107722951 -> vw00:28978839437], (Wrapper)>[PointerTensor | me:32732767546 -> vw00:83574048018]), ((Wrapper)>[PointerTensor | me:77890224790 -> vw00:30417816088], (Wrapper)>[PointerTensor | me:27102850341 -> vw00:90764472644]), ((Wrapper)>[PointerTensor | me:45813438738 -> vw00:30730983947], (Wrapper)>[PointerTensor | me:9445357400 -> vw00:78181753320]), ((Wrapper)>[PointerTensor | me:54209475732 -> vw00:55531862620], (Wrapper)>[PointerTensor | me:15217953896 -> vw00:17444441723]), ((Wrapper)>[PointerTensor | me:15178413090 -> vw00:88607288440], (Wrapper)>[PointerTensor | me:90880296315 -> vw00:61121481099]), ((Wrapper)>[PointerTensor | me:57186091745 -> vw00:9734860417], (Wrapper)>[PointerTensor | me:12352375789 -> vw00:44077125475]), ((Wrapper)>[PointerTensor | me:21192074658 -> vw00:84338867585], (Wrapper)>[PointerTensor | me:91027383657 -> vw00:11969915576]), ((Wrapper)>[PointerTensor | me:4352457843 -> vw00:40635919168], (Wrapper)>[PointerTensor | me:80175419932 -> vw00:62445109151]), ((Wrapper)>[PointerTensor | me:58079015193 -> vw00:28627734995], (Wrapper)>[PointerTensor | me:20458842460 -> vw00:48672178642]), ((Wrapper)>[PointerTensor | me:9080963849 -> vw00:76455554442], (Wrapper)>[PointerTensor | me:57875059564 -> vw00:53872853569]), ((Wrapper)>[PointerTensor | me:28830649192 -> vw00:16935517455], (Wrapper)>[PointerTensor | me:49961326868 -> vw00:30809182106]), ((Wrapper)>[PointerTensor | me:74028749834 -> vw00:90917535427], (Wrapper)>[PointerTensor | me:27767936388 -> vw00:98156102305]), ((Wrapper)>[PointerTensor | me:28310317181 -> vw00:77480023377], (Wrapper)>[PointerTensor | me:50780233927 -> vw00:87855387916]), ((Wrapper)>[PointerTensor | me:23215902344 -> vw00:14833303828], (Wrapper)>[PointerTensor | me:56107233501 -> vw00:35622252031]), ((Wrapper)>[PointerTensor | me:1523844564 -> vw00:16696402799], (Wrapper)>[PointerTensor | me:76504599035 -> vw00:76164257105]), ((Wrapper)>[PointerTensor | me:94705820068 -> vw00:39039410757], (Wrapper)>[PointerTensor | me:87264092220 -> vw00:93113601295]), ((Wrapper)>[PointerTensor | me:46086355276 -> vw00:17574401528], (Wrapper)>[PointerTensor | me:27153075030 -> vw00:12982533200]), ((Wrapper)>[PointerTensor | me:3106255986 -> vw00:84893449508], (Wrapper)>[PointerTensor | me:4277271341 -> vw00:58020367737]), ((Wrapper)>[PointerTensor | me:72698054632 -> vw00:86380884214], (Wrapper)>[PointerTensor | me:65222337130 -> vw00:51907787933]), ((Wrapper)>[PointerTensor | me:65589758602 -> vw00:11040739904], (Wrapper)>[PointerTensor | me:61175349054 -> vw00:97623576410]), ((Wrapper)>[PointerTensor | me:94307282099 -> vw00:20477844961], (Wrapper)>[PointerTensor | me:31919232222 -> vw00:11504684684]), ((Wrapper)>[PointerTensor | me:59840540851 -> vw00:92441791601], (Wrapper)>[PointerTensor | me:85134182798 -> vw00:70042825249])], [((Wrapper)>[PointerTensor | me:3158120825 -> vw01:5807315143], (Wrapper)>[PointerTensor | me:97235807868 -> vw01:44476227744]), ((Wrapper)>[PointerTensor | me:5491842980 -> vw01:49430417469], (Wrapper)>[PointerTensor | me:74169665332 -> vw01:13222895331]), ((Wrapper)>[PointerTensor | me:84755252442 -> vw01:37977486844], (Wrapper)>[PointerTensor | me:95775313035 -> vw01:60238078736]), ((Wrapper)>[PointerTensor | me:80935268906 -> vw01:22148911846], (Wrapper)>[PointerTensor | me:61672019789 -> vw01:95389366123]), ((Wrapper)>[PointerTensor | me:28650164257 -> vw01:28245403944], (Wrapper)>[PointerTensor | me:81772122478 -> vw01:50091353234]), ((Wrapper)>[PointerTensor | me:1358926392 -> vw01:4264431670], (Wrapper)>[PointerTensor | me:8874854371 -> vw01:24718551726]), ((Wrapper)>[PointerTensor | me:25264045661 -> vw01:37660169677], (Wrapper)>[PointerTensor | me:98306379926 -> vw01:33741867763]), ((Wrapper)>[PointerTensor | me:92593471277 -> vw01:85342476428], (Wrapper)>[PointerTensor | me:68226837512 -> vw01:32220122081]), ((Wrapper)>[PointerTensor | me:80518880148 -> vw01:1351792369], (Wrapper)>[PointerTensor | me:60801433774 -> vw01:24944715451]), ((Wrapper)>[PointerTensor | me:97428363406 -> vw01:48021770788], (Wrapper)>[PointerTensor | me:80653236006 -> vw01:76720902179]), ((Wrapper)>[PointerTensor | me:50210901757 -> vw01:70031468009], (Wrapper)>[PointerTensor | me:90322956880 -> vw01:64169417209]), ((Wrapper)>[PointerTensor | me:77448383903 -> vw01:25657059333], (Wrapper)>[PointerTensor | me:55413261984 -> vw01:16527345194]), ((Wrapper)>[PointerTensor | me:52515321014 -> vw01:91633839047], (Wrapper)>[PointerTensor | me:28752605057 -> vw01:20564874973]), ((Wrapper)>[PointerTensor | me:39648898446 -> vw01:83308469348], (Wrapper)>[PointerTensor | me:68966505472 -> vw01:67695973309]), ((Wrapper)>[PointerTensor | me:76617256032 -> vw01:26339539395], (Wrapper)>[PointerTensor | me:3528993447 -> vw01:90127263464]), ((Wrapper)>[PointerTensor | me:42334936586 -> vw01:13725458833], (Wrapper)>[PointerTensor | me:5511148541 -> vw01:82963247859]), ((Wrapper)>[PointerTensor | me:24511215033 -> vw01:12453233601], (Wrapper)>[PointerTensor | me:33612911769 -> vw01:56147586000]), ((Wrapper)>[PointerTensor | me:30666897268 -> vw01:44892678060], (Wrapper)>[PointerTensor | me:61099716326 -> vw01:20228560842]), ((Wrapper)>[PointerTensor | me:76019579243 -> vw01:17543594810], (Wrapper)>[PointerTensor | me:94645360059 -> vw01:12946287551]), ((Wrapper)>[PointerTensor | me:41677764565 -> vw01:554715828], (Wrapper)>[PointerTensor | me:3742206766 -> vw01:53260649990]), ((Wrapper)>[PointerTensor | me:74986838989 -> vw01:71218523605], (Wrapper)>[PointerTensor | me:83440872320 -> vw01:20813377566]), ((Wrapper)>[PointerTensor | me:96663123936 -> vw01:93084042505], (Wrapper)>[PointerTensor | me:28153211199 -> vw01:43539966820]), ((Wrapper)>[PointerTensor | me:32677057929 -> vw01:22946665701], (Wrapper)>[PointerTensor | me:73363363591 -> vw01:71050117552]), ((Wrapper)>[PointerTensor | me:99816927396 -> vw01:34610827703], (Wrapper)>[PointerTensor | me:67457574536 -> vw01:4139257851]), ((Wrapper)>[PointerTensor | me:93176516923 -> vw01:89266471408], (Wrapper)>[PointerTensor | me:34541043094 -> vw01:61921881938])])\n",
            "[]\n"
          ],
          "name": "stdout"
        }
      ]
    },
    {
      "cell_type": "code",
      "metadata": {
        "id": "c3TCJ6Gbz9hw",
        "colab_type": "code",
        "colab": {
          "base_uri": "https://localhost:8080/",
          "height": 51
        },
        "outputId": "331234b0-af18-421d-a2ed-7e2a41b35474"
      },
      "source": [
        "print('length of remote dataset:\\t', len(remote_dataset))\n",
        "print('length of one item in remote dataset:\\t', len(remote_dataset[0]))"
      ],
      "execution_count": 133,
      "outputs": [
        {
          "output_type": "stream",
          "text": [
            "length of remote dataset:\t 2\n",
            "length of one item in remote dataset:\t 25\n"
          ],
          "name": "stdout"
        }
      ]
    },
    {
      "cell_type": "code",
      "metadata": {
        "id": "-nKeBU4h1Zbe",
        "colab_type": "code",
        "colab": {}
      },
      "source": [
        "# define worker-based models and optimizer\n",
        "\n",
        "vw00_model = Net().send(vw00)\n",
        "vw01_model = Net().send(vw01)\n",
        "\n",
        "vw00_optimizer = optim.SGD(vw00_model.parameters(), lr=args.lr)\n",
        "vw01_optimizer = optim.SGD(vw01_model.parameters(), lr=args.lr)\n",
        "\n",
        "models = [vw00_model, vw01_model]\n",
        "params = [list(vw00_model.parameters()), list(vw01_model.parameters())]\n",
        "optimizers = [vw00_optimizer, vw01_optimizer]"
      ],
      "execution_count": 0,
      "outputs": []
    },
    {
      "cell_type": "code",
      "metadata": {
        "id": "4J3nO2tb4o8f",
        "colab_type": "code",
        "colab": {}
      },
      "source": [
        "# need to be able to send distinct model to each worker to train.\n",
        "\n",
        "def update2(data, target, model, optimizer):\n",
        "  # model.send(data.location)\n",
        "  optimizer.zero_grad()\n",
        "  pred = model(data)\n",
        "  loss = loss_func(pred, target)\n",
        "  loss.backward()\n",
        "  optimizer.step()\n",
        "  return model"
      ],
      "execution_count": 0,
      "outputs": []
    },
    {
      "cell_type": "code",
      "metadata": {
        "id": "MPzaH99hx6zW",
        "colab_type": "code",
        "colab": {
          "base_uri": "https://localhost:8080/",
          "height": 1000
        },
        "outputId": "fb63cb6b-be18-4fa6-988b-bda282faa71c"
      },
      "source": [
        "# figure out the guts of the training mechanism before putting into function.\n",
        "\n",
        "for data_index in range(len(remote_dataset[0])):\n",
        "  \n",
        "  # update remote models\n",
        "  \n",
        "  for remote_index in range(len(compute_nodes)):\n",
        "    print('data index: \\t', data_index, '\\tremote index:\\t', remote_index)\n",
        "    data, target = remote_dataset[remote_index][data_index]\n",
        "    model = models[remote_index]\n",
        "    opt = optimizers[remote_index]\n",
        "    \n",
        "    models[remote_index] = update2(data, target, model, opt)\n",
        "    \n",
        "  # encrypted aggregation\n",
        "  new_params = list() # list to store encrypted model average\n",
        "  \n",
        "  for i in range(len(params[0])): # iterate through each parameter\n",
        "\n",
        "    # for each worker\n",
        "    spdz_params_th = list()\n",
        "    for remote_index in range(len(compute_nodes)):\n",
        "\n",
        "      # copy of parameter (cop): copy same parameter from each worker's model, floating type tensor\n",
        "      cop = params[remote_index][i].copy()\n",
        "\n",
        "      # copy of parameter, thousands (cop_th): copy of parameter scaled up so that precision is not lost\n",
        "      # fixed precision parameter, thousands (fpp_th): fixed precision version of parameter scaled up so that precision is not lost\n",
        "      fpp_th = cop * 10000\n",
        "\n",
        "      # encrypt on the remote machine. Note: fixed_precision_param is already a pointer. \n",
        "      # calling share encrypts data to which pointer is pointing. Returns a pointer to the MPC secret shared object. Need to fetch object.\n",
        "      encrypted_param_th = fpp_th.share(vw00, vw01, crypto_provider=aggr)\n",
        "\n",
        "      # fetch the pointer to the MPC shared value\n",
        "      param_th = encrypted_param_th.get()\n",
        "\n",
        "      # save parameter so can average with same parameter from other workers.\n",
        "      spdz_params_th.append(param_th)\n",
        "\n",
        "    # average param from multiple workers, fetch back to local machine. Decrypt and decode from fixed precision back to float. \n",
        "    new_param_th = (spdz_params_th[0] + spdz_params_th[1]).get() / 2 #.float_precision() / 2 \n",
        "    new_param_float_th = new_param_th.type(torch.FloatTensor) \n",
        "    new_param_float = new_param_float_th / 10000\n",
        "\n",
        "    # save new averaged parameter\n",
        "    new_params.append(new_param_float)\n",
        "\n",
        "  print(new_params)  \n",
        "  \n",
        "  with torch.no_grad():\n",
        "    for model in params:\n",
        "      for param in model:\n",
        "        param *= 0\n",
        "      \n",
        "    for remote_index in range(len(compute_nodes)):\n",
        "      for param_index in range(len(params[remote_index])):\n",
        "        params[remote_index][param_index].set_(new_params[param_index])\n",
        "  \n",
        "  "
      ],
      "execution_count": 136,
      "outputs": [
        {
          "output_type": "stream",
          "text": [
            "data index: \t 0 \tremote index:\t 0\n",
            "data index: \t 0 \tremote index:\t 1\n",
            "[tensor([[ 0.1853, -0.4887]]), tensor([0.1713])]\n",
            "data index: \t 1 \tremote index:\t 0\n",
            "data index: \t 1 \tremote index:\t 1\n",
            "[tensor([[0.0010, 0.0000]]), tensor([-0.0007])]\n",
            "data index: \t 2 \tremote index:\t 0\n",
            "data index: \t 2 \tremote index:\t 1\n",
            "[tensor([[0.0007, 0.0000]]), tensor([-0.0013])]\n",
            "data index: \t 3 \tremote index:\t 0\n",
            "data index: \t 3 \tremote index:\t 1\n",
            "[tensor([[9.0000e-04, 1.0000e-04]]), tensor([0.0003])]\n",
            "data index: \t 4 \tremote index:\t 0\n",
            "data index: \t 4 \tremote index:\t 1\n",
            "[tensor([[ 0.0004, -0.0010]]), tensor([-0.0017])]\n",
            "data index: \t 5 \tremote index:\t 0\n",
            "data index: \t 5 \tremote index:\t 1\n",
            "[tensor([[0.0000, 0.0003]]), tensor([-0.0007])]\n",
            "data index: \t 6 \tremote index:\t 0\n",
            "data index: \t 6 \tremote index:\t 1\n",
            "[tensor([[0.0003, 0.0010]]), tensor([-0.0012])]\n",
            "data index: \t 7 \tremote index:\t 0\n",
            "data index: \t 7 \tremote index:\t 1\n",
            "[tensor([[-8.0000e-04, -1.0000e-04]]), tensor([-1.0000e-04])]\n",
            "data index: \t 8 \tremote index:\t 0\n",
            "data index: \t 8 \tremote index:\t 1\n",
            "[tensor([[ 0.0000, -0.0006]]), tensor([0.0008])]\n",
            "data index: \t 9 \tremote index:\t 0\n",
            "data index: \t 9 \tremote index:\t 1\n",
            "[tensor([[-0.0006,  0.0019]]), tensor([0.0016])]\n",
            "data index: \t 10 \tremote index:\t 0\n",
            "data index: \t 10 \tremote index:\t 1\n",
            "[tensor([[-0.0023,  0.0026]]), tensor([0.0005])]\n",
            "data index: \t 11 \tremote index:\t 0\n",
            "data index: \t 11 \tremote index:\t 1\n",
            "[tensor([[0., 0.]]), tensor([0.0014])]\n",
            "data index: \t 12 \tremote index:\t 0\n",
            "data index: \t 12 \tremote index:\t 1\n",
            "[tensor([[-0.0007, -0.0028]]), tensor([0.])]\n",
            "data index: \t 13 \tremote index:\t 0\n",
            "data index: \t 13 \tremote index:\t 1\n",
            "[tensor([[-0.0002,  0.0003]]), tensor([0.0011])]\n",
            "data index: \t 14 \tremote index:\t 0\n",
            "data index: \t 14 \tremote index:\t 1\n",
            "[tensor([[1.2000e-03, 1.0000e-04]]), tensor([0.0024])]\n",
            "data index: \t 15 \tremote index:\t 0\n",
            "data index: \t 15 \tremote index:\t 1\n",
            "[tensor([[0.0000, 0.0002]]), tensor([-0.0007])]\n",
            "data index: \t 16 \tremote index:\t 0\n",
            "data index: \t 16 \tremote index:\t 1\n",
            "[tensor([[ 1.0000e-04, -3.0000e-04]]), tensor([-0.0010])]\n",
            "data index: \t 17 \tremote index:\t 0\n",
            "data index: \t 17 \tremote index:\t 1\n",
            "[tensor([[-0.0015, -0.0004]]), tensor([0.0008])]\n",
            "data index: \t 18 \tremote index:\t 0\n",
            "data index: \t 18 \tremote index:\t 1\n",
            "[tensor([[-4.0000e-04,  1.0000e-04]]), tensor([0.])]\n",
            "data index: \t 19 \tremote index:\t 0\n",
            "data index: \t 19 \tremote index:\t 1\n",
            "[tensor([[-0.0008,  0.0000]]), tensor([0.])]\n",
            "data index: \t 20 \tremote index:\t 0\n",
            "data index: \t 20 \tremote index:\t 1\n",
            "[tensor([[-0.0011, -0.0007]]), tensor([0.0015])]\n",
            "data index: \t 21 \tremote index:\t 0\n",
            "data index: \t 21 \tremote index:\t 1\n",
            "[tensor([[ 0.0004, -0.0015]]), tensor([0.0017])]\n",
            "data index: \t 22 \tremote index:\t 0\n",
            "data index: \t 22 \tremote index:\t 1\n",
            "[tensor([[0.0005, 0.0004]]), tensor([-0.0002])]\n",
            "data index: \t 23 \tremote index:\t 0\n",
            "data index: \t 23 \tremote index:\t 1\n",
            "[tensor([[0.0022, 0.0013]]), tensor([-0.0033])]\n",
            "data index: \t 24 \tremote index:\t 0\n",
            "data index: \t 24 \tremote index:\t 1\n",
            "[tensor([[-4.0000e-04,  1.0000e-04]]), tensor([-0.0002])]\n"
          ],
          "name": "stdout"
        }
      ]
    },
    {
      "cell_type": "code",
      "metadata": {
        "id": "Q5DIph0UW-Ok",
        "colab_type": "code",
        "colab": {}
      },
      "source": [
        "for model in models:\n",
        "    model.get()"
      ],
      "execution_count": 0,
      "outputs": []
    },
    {
      "cell_type": "code",
      "metadata": {
        "id": "NXmKVghlXJ1d",
        "colab_type": "code",
        "colab": {
          "base_uri": "https://localhost:8080/",
          "height": 102
        },
        "outputId": "145150b8-293e-4b25-e862-7936671cc21d"
      },
      "source": [
        "print(models)"
      ],
      "execution_count": 143,
      "outputs": [
        {
          "output_type": "stream",
          "text": [
            "[Net(\n",
            "  (fc1): Linear(in_features=2, out_features=1, bias=True)\n",
            "), Net(\n",
            "  (fc1): Linear(in_features=2, out_features=1, bias=True)\n",
            ")]\n"
          ],
          "name": "stdout"
        }
      ]
    },
    {
      "cell_type": "markdown",
      "metadata": {
        "id": "jdNAC7AaXiPR",
        "colab_type": "text"
      },
      "source": [
        "#### Function format"
      ]
    },
    {
      "cell_type": "code",
      "metadata": {
        "id": "ayhWr4jBXhWy",
        "colab_type": "code",
        "colab": {
          "base_uri": "https://localhost:8080/",
          "height": 34
        },
        "outputId": "27898df9-8bdb-46f1-8cc7-cb0762c89b5b"
      },
      "source": [
        "vw00.clear_objects()\n",
        "vw01.clear_objects()\n",
        "aggr.clear_objects()"
      ],
      "execution_count": 144,
      "outputs": [
        {
          "output_type": "execute_result",
          "data": {
            "text/plain": [
              "<VirtualWorker id:aggr #objects:0>"
            ]
          },
          "metadata": {
            "tags": []
          },
          "execution_count": 144
        }
      ]
    },
    {
      "cell_type": "code",
      "metadata": {
        "id": "C8Of_VLEXpDW",
        "colab_type": "code",
        "colab": {
          "base_uri": "https://localhost:8080/",
          "height": 71
        },
        "outputId": "2e6aabc2-d7e0-49be-e7b2-fe3e201b6b83"
      },
      "source": [
        "# Send data to the workers\n",
        "remote_dataset = (list(), list())\n",
        "\n",
        "train_dist_dataset = []\n",
        "\n",
        "for batch_idx, (data, target) in enumerate(trainloader):\n",
        "  data = data.send(compute_nodes[batch_idx % len(compute_nodes)])\n",
        "  target = target.send(compute_nodes[batch_idx % len(compute_nodes)])\n",
        "  remote_dataset[batch_idx % len(compute_nodes)].append((data, target))\n",
        "  \n",
        "\n",
        "print(remote_dataset)\n",
        "\n",
        "print(train_dist_dataset)"
      ],
      "execution_count": 145,
      "outputs": [
        {
          "output_type": "stream",
          "text": [
            "([((Wrapper)>[PointerTensor | me:46350504682 -> vw00:11937363747], (Wrapper)>[PointerTensor | me:74542143739 -> vw00:42603377771]), ((Wrapper)>[PointerTensor | me:71735292092 -> vw00:37055709704], (Wrapper)>[PointerTensor | me:97907306886 -> vw00:19249559529]), ((Wrapper)>[PointerTensor | me:96778984353 -> vw00:76485081131], (Wrapper)>[PointerTensor | me:33817271037 -> vw00:75645769899]), ((Wrapper)>[PointerTensor | me:12233494533 -> vw00:96159922248], (Wrapper)>[PointerTensor | me:902334186 -> vw00:76843649898]), ((Wrapper)>[PointerTensor | me:38691482636 -> vw00:46040608577], (Wrapper)>[PointerTensor | me:87532221208 -> vw00:88556117937]), ((Wrapper)>[PointerTensor | me:30857026478 -> vw00:12688120964], (Wrapper)>[PointerTensor | me:98441724988 -> vw00:1300317819]), ((Wrapper)>[PointerTensor | me:86816668536 -> vw00:40076269591], (Wrapper)>[PointerTensor | me:72725928197 -> vw00:25737436281]), ((Wrapper)>[PointerTensor | me:91851539260 -> vw00:40548996179], (Wrapper)>[PointerTensor | me:82798898508 -> vw00:65988108808]), ((Wrapper)>[PointerTensor | me:49525754901 -> vw00:29545417011], (Wrapper)>[PointerTensor | me:29799885327 -> vw00:59406771324]), ((Wrapper)>[PointerTensor | me:36346704223 -> vw00:64415772920], (Wrapper)>[PointerTensor | me:84815362191 -> vw00:72841276275]), ((Wrapper)>[PointerTensor | me:69062738382 -> vw00:57387732009], (Wrapper)>[PointerTensor | me:52254222843 -> vw00:31345140455]), ((Wrapper)>[PointerTensor | me:43899008411 -> vw00:98212761529], (Wrapper)>[PointerTensor | me:47544811934 -> vw00:27875993152]), ((Wrapper)>[PointerTensor | me:79693824078 -> vw00:18987603161], (Wrapper)>[PointerTensor | me:28509279474 -> vw00:16948235416]), ((Wrapper)>[PointerTensor | me:85800209296 -> vw00:41484870996], (Wrapper)>[PointerTensor | me:91831485619 -> vw00:51396901148]), ((Wrapper)>[PointerTensor | me:73772547407 -> vw00:66504715574], (Wrapper)>[PointerTensor | me:98867908428 -> vw00:53229059355]), ((Wrapper)>[PointerTensor | me:77593707937 -> vw00:33355822140], (Wrapper)>[PointerTensor | me:63669749 -> vw00:38654225432]), ((Wrapper)>[PointerTensor | me:80573351846 -> vw00:36345628087], (Wrapper)>[PointerTensor | me:17953505360 -> vw00:6713460872]), ((Wrapper)>[PointerTensor | me:47393601090 -> vw00:36033914815], (Wrapper)>[PointerTensor | me:61204632141 -> vw00:82053212247]), ((Wrapper)>[PointerTensor | me:32534071058 -> vw00:64400627864], (Wrapper)>[PointerTensor | me:76419420273 -> vw00:19030346625]), ((Wrapper)>[PointerTensor | me:75020594395 -> vw00:50895499819], (Wrapper)>[PointerTensor | me:76105564990 -> vw00:92258539304]), ((Wrapper)>[PointerTensor | me:50410221763 -> vw00:36048743459], (Wrapper)>[PointerTensor | me:37800982751 -> vw00:58858613098]), ((Wrapper)>[PointerTensor | me:80162610253 -> vw00:6724663982], (Wrapper)>[PointerTensor | me:37827459940 -> vw00:67868186794]), ((Wrapper)>[PointerTensor | me:26494277273 -> vw00:18181012731], (Wrapper)>[PointerTensor | me:23590630303 -> vw00:44624041492]), ((Wrapper)>[PointerTensor | me:46143547030 -> vw00:98345502358], (Wrapper)>[PointerTensor | me:18437778027 -> vw00:4026229834]), ((Wrapper)>[PointerTensor | me:76887407074 -> vw00:34961997295], (Wrapper)>[PointerTensor | me:79172842218 -> vw00:23023017236])], [((Wrapper)>[PointerTensor | me:39222682477 -> vw01:23386912289], (Wrapper)>[PointerTensor | me:18704441424 -> vw01:11563884554]), ((Wrapper)>[PointerTensor | me:34946218768 -> vw01:58417153704], (Wrapper)>[PointerTensor | me:37651615123 -> vw01:98330433210]), ((Wrapper)>[PointerTensor | me:88501399804 -> vw01:82598581077], (Wrapper)>[PointerTensor | me:1644529016 -> vw01:74845293272]), ((Wrapper)>[PointerTensor | me:8433584382 -> vw01:74635012052], (Wrapper)>[PointerTensor | me:79270522809 -> vw01:6120129769]), ((Wrapper)>[PointerTensor | me:24671631928 -> vw01:99638193546], (Wrapper)>[PointerTensor | me:75848021125 -> vw01:52697297308]), ((Wrapper)>[PointerTensor | me:52785980032 -> vw01:91646403925], (Wrapper)>[PointerTensor | me:33370698064 -> vw01:12143482443]), ((Wrapper)>[PointerTensor | me:69766550539 -> vw01:96896404355], (Wrapper)>[PointerTensor | me:27952265280 -> vw01:75828999402]), ((Wrapper)>[PointerTensor | me:3292546899 -> vw01:75048708944], (Wrapper)>[PointerTensor | me:59353310264 -> vw01:56246536910]), ((Wrapper)>[PointerTensor | me:43275036403 -> vw01:7640423106], (Wrapper)>[PointerTensor | me:58903709363 -> vw01:96078324539]), ((Wrapper)>[PointerTensor | me:92703321385 -> vw01:88780586981], (Wrapper)>[PointerTensor | me:74566802403 -> vw01:81167855516]), ((Wrapper)>[PointerTensor | me:93133676711 -> vw01:22652776308], (Wrapper)>[PointerTensor | me:2048387733 -> vw01:70775780342]), ((Wrapper)>[PointerTensor | me:30623901651 -> vw01:82044880832], (Wrapper)>[PointerTensor | me:16644741018 -> vw01:21834512924]), ((Wrapper)>[PointerTensor | me:38429822089 -> vw01:16113656490], (Wrapper)>[PointerTensor | me:12520549608 -> vw01:98808755244]), ((Wrapper)>[PointerTensor | me:10360486324 -> vw01:62750552407], (Wrapper)>[PointerTensor | me:31372662140 -> vw01:18819242775]), ((Wrapper)>[PointerTensor | me:75446993671 -> vw01:4351334899], (Wrapper)>[PointerTensor | me:84653776731 -> vw01:8996989905]), ((Wrapper)>[PointerTensor | me:89823872049 -> vw01:89670020130], (Wrapper)>[PointerTensor | me:19233880065 -> vw01:16928765138]), ((Wrapper)>[PointerTensor | me:6588771772 -> vw01:33256873282], (Wrapper)>[PointerTensor | me:31732625982 -> vw01:3187575492]), ((Wrapper)>[PointerTensor | me:65877465818 -> vw01:598001362], (Wrapper)>[PointerTensor | me:49973513395 -> vw01:82469250536]), ((Wrapper)>[PointerTensor | me:97139552507 -> vw01:82315084024], (Wrapper)>[PointerTensor | me:65192331804 -> vw01:9941781976]), ((Wrapper)>[PointerTensor | me:84817635537 -> vw01:1082531446], (Wrapper)>[PointerTensor | me:68672555413 -> vw01:2197055853]), ((Wrapper)>[PointerTensor | me:36226431514 -> vw01:50128917547], (Wrapper)>[PointerTensor | me:94417139391 -> vw01:24435519736]), ((Wrapper)>[PointerTensor | me:96277994605 -> vw01:20102070522], (Wrapper)>[PointerTensor | me:97371624610 -> vw01:99035911739]), ((Wrapper)>[PointerTensor | me:70691090028 -> vw01:31638436068], (Wrapper)>[PointerTensor | me:64195257945 -> vw01:38844932992]), ((Wrapper)>[PointerTensor | me:17637194075 -> vw01:16347044921], (Wrapper)>[PointerTensor | me:93700559813 -> vw01:70846090521]), ((Wrapper)>[PointerTensor | me:74110738307 -> vw01:6872565012], (Wrapper)>[PointerTensor | me:32739378915 -> vw01:42778244493])])\n",
            "[]\n"
          ],
          "name": "stdout"
        }
      ]
    },
    {
      "cell_type": "code",
      "metadata": {
        "id": "UYaMcdfkXu1F",
        "colab_type": "code",
        "colab": {}
      },
      "source": [
        "# define worker-based models and optimizer\n",
        "\n",
        "vw00_model = Net().send(vw00)\n",
        "vw01_model = Net().send(vw01)\n",
        "\n",
        "vw00_optimizer = optim.SGD(vw00_model.parameters(), lr=args.lr)\n",
        "vw01_optimizer = optim.SGD(vw01_model.parameters(), lr=args.lr)\n",
        "\n",
        "models = [vw00_model, vw01_model]\n",
        "params = [list(vw00_model.parameters()), list(vw01_model.parameters())]\n",
        "optimizers = [vw00_optimizer, vw01_optimizer]"
      ],
      "execution_count": 0,
      "outputs": []
    },
    {
      "cell_type": "code",
      "metadata": {
        "id": "qhfbtjKKX7gF",
        "colab_type": "code",
        "colab": {}
      },
      "source": [
        "# figure out the guts of the training mechanism before putting into function.\n",
        "\n",
        "def train_agg(epoch):\n",
        "  \n",
        "  for data_index in range(len(remote_dataset[0])):\n",
        "\n",
        "    # update remote models\n",
        "\n",
        "    for remote_index in range(len(compute_nodes)):\n",
        "      print('data index: \\t', data_index, '\\tremote index:\\t', remote_index)\n",
        "      data, target = remote_dataset[remote_index][data_index]\n",
        "      model = models[remote_index]\n",
        "      opt = optimizers[remote_index]\n",
        "\n",
        "      models[remote_index] = update2(data, target, model, opt)\n",
        "\n",
        "    # encrypted aggregation\n",
        "    new_params = list() # list to store encrypted model average\n",
        "\n",
        "    for i in range(len(params[0])): # iterate through each parameter\n",
        "\n",
        "      # for each worker\n",
        "      spdz_params_th = list()\n",
        "      for remote_index in range(len(compute_nodes)):\n",
        "\n",
        "        # copy of parameter (cop): copy same parameter from each worker's model, floating type tensor\n",
        "        cop = params[remote_index][i].copy()\n",
        "\n",
        "        # copy of parameter, thousands (cop_th): copy of parameter scaled up so that precision is not lost\n",
        "        # fixed precision parameter, thousands (fpp_th): fixed precision version of parameter scaled up so that precision is not lost\n",
        "        fpp_th = cop * 10000\n",
        "\n",
        "        # encrypt on the remote machine. Note: fixed_precision_param is already a pointer. \n",
        "        # calling share encrypts data to which pointer is pointing. Returns a pointer to the MPC secret shared object. Need to fetch object.\n",
        "        encrypted_param_th = fpp_th.share(vw00, vw01, crypto_provider=aggr)\n",
        "\n",
        "        # fetch the pointer to the MPC shared value\n",
        "        param_th = encrypted_param_th.get()\n",
        "\n",
        "        # save parameter so can average with same parameter from other workers.\n",
        "        spdz_params_th.append(param_th)\n",
        "\n",
        "      # average param from multiple workers, fetch back to local machine. Decrypt and decode from fixed precision back to float. \n",
        "      new_param_th = (spdz_params_th[0] + spdz_params_th[1]).get() / 2 #.float_precision() / 2 \n",
        "      new_param_float_th = new_param_th.type(torch.FloatTensor) \n",
        "      new_param_float = new_param_float_th / 10000\n",
        "\n",
        "      # save new averaged parameter\n",
        "      new_params.append(new_param_float)\n",
        "\n",
        "    print(new_params)  \n",
        "\n",
        "    with torch.no_grad():\n",
        "      for model in params:\n",
        "        for param in model:\n",
        "          param *= 0\n",
        "\n",
        "      for remote_index in range(len(compute_nodes)):\n",
        "        for param_index in range(len(params[remote_index])):\n",
        "          params[remote_index][param_index].set_(new_params[param_index])\n",
        "\n",
        "  for model in models:\n",
        "    model.get()"
      ],
      "execution_count": 0,
      "outputs": []
    },
    {
      "cell_type": "code",
      "metadata": {
        "id": "4QbiqL-JYPel",
        "colab_type": "code",
        "colab": {}
      },
      "source": [
        "def test_agg():\n",
        "  models[0].eval()\n",
        "  test_loss = 0\n",
        "  for data, target in testloader:\n",
        "    output = models[0](data)\n",
        "    test_loss += loss_func(output, target).item()\n",
        "    pred = output\n",
        "  \n",
        "  test_loss /= len(testloader.dataset)\n",
        "  print('Test set: Average loss: {:.4f}\\n'.format(test_loss))\n",
        "    "
      ],
      "execution_count": 0,
      "outputs": []
    },
    {
      "cell_type": "code",
      "metadata": {
        "id": "AmjrpQoJZOQQ",
        "colab_type": "code",
        "colab": {
          "base_uri": "https://localhost:8080/",
          "height": 714
        },
        "outputId": "a5e052b3-8142-4eea-ab66-4ab34b786489"
      },
      "source": [
        "t = time.time()\n",
        "\n",
        "for epoch in range(args.epochs):\n",
        "  print(f\"Epoch {epoch + 1}\")\n",
        "  train(epoch)\n",
        "  test()\n",
        "  \n",
        "total_time = time.time() - t\n",
        "\n",
        "print('Total', round(total_time, 2), 's')"
      ],
      "execution_count": 149,
      "outputs": [
        {
          "output_type": "stream",
          "text": [
            "Epoch 1\n",
            "\n",
            "Test Set: Average Loss: 0.8211\n",
            "\n",
            "Epoch 2\n",
            "\n",
            "Test Set: Average Loss: 0.8211\n",
            "\n",
            "Epoch 3\n",
            "\n",
            "Test Set: Average Loss: 0.8211\n",
            "\n",
            "Epoch 4\n",
            "\n",
            "Test Set: Average Loss: 0.8211\n",
            "\n",
            "Epoch 5\n",
            "\n",
            "Test Set: Average Loss: 0.8211\n",
            "\n",
            "Epoch 6\n",
            "\n",
            "Test Set: Average Loss: 0.8211\n",
            "\n",
            "Epoch 7\n",
            "\n",
            "Test Set: Average Loss: 0.8211\n",
            "\n",
            "Epoch 8\n",
            "\n",
            "Test Set: Average Loss: 0.8211\n",
            "\n",
            "Epoch 9\n",
            "\n",
            "Test Set: Average Loss: 0.8211\n",
            "\n",
            "Epoch 10\n",
            "\n",
            "Test Set: Average Loss: 0.8211\n",
            "\n",
            "Total 0.22 s\n"
          ],
          "name": "stdout"
        }
      ]
    }
  ]
}