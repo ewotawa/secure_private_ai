{
  "nbformat": 4,
  "nbformat_minor": 0,
  "metadata": {
    "colab": {
      "name": "Section 2 - Federated Learning Work Copy.ipynb",
      "version": "0.3.2",
      "provenance": [],
      "collapsed_sections": [
        "BPH2cmqxL86O",
        "u6ma2jZqL86Q",
        "-3g4qbECL89J",
        "xxdR-N3FL8-a"
      ],
      "include_colab_link": true
    },
    "language_info": {
      "codemirror_mode": {
        "name": "ipython",
        "version": 3
      },
      "file_extension": ".py",
      "mimetype": "text/x-python",
      "name": "python",
      "nbconvert_exporter": "python",
      "pygments_lexer": "ipython3",
      "version": "3.6.1"
    },
    "kernelspec": {
      "display_name": "Python 3",
      "language": "python",
      "name": "python3"
    }
  },
  "cells": [
    {
      "cell_type": "markdown",
      "metadata": {
        "id": "view-in-github",
        "colab_type": "text"
      },
      "source": [
        "<a href=\"https://colab.research.google.com/github/ewotawa/secure_private_ai/blob/master/Section_2_Federated_Learning_Work_Copy.ipynb\" target=\"_parent\"><img src=\"https://colab.research.google.com/assets/colab-badge.svg\" alt=\"Open In Colab\"/></a>"
      ]
    },
    {
      "cell_type": "markdown",
      "metadata": {
        "id": "sVUUbWmmL840",
        "colab_type": "text"
      },
      "source": [
        "# Section: Federated Learning"
      ]
    },
    {
      "cell_type": "markdown",
      "metadata": {
        "id": "z67xnHfuL845",
        "colab_type": "text"
      },
      "source": [
        "# Lesson: Introducing Federated Learning\n",
        "\n",
        "Federated Learning is a technique for training Deep Learning models on data to which you do not have access. Basically:\n",
        "\n",
        "Federated Learning: Instead of bringing all the data to one machine and training a model, we bring the model to the data, train it locally, and merely upload \"model updates\" to a central server.\n",
        "\n",
        "Use Cases:\n",
        "\n",
        "    - app company (Texting prediction app)\n",
        "    - predictive maintenance (automobiles / industrial engines)\n",
        "    - wearable medical devices\n",
        "    - ad blockers / autotomplete in browsers (Firefox/Brave)\n",
        "    \n",
        "Challenge Description: data is distributed amongst sources but we cannot aggregated it because of:\n",
        "\n",
        "    - privacy concerns: legal, user discomfort, competitive dynamics\n",
        "    - engineering: the bandwidth/storage requirements of aggregating the larger dataset"
      ]
    },
    {
      "cell_type": "markdown",
      "metadata": {
        "id": "3LnveMmFL848",
        "colab_type": "text"
      },
      "source": [
        "# Lesson: Introducing / Installing PySyft\n",
        "\n",
        "In order to perform Federated Learning, we need to be able to use Deep Learning techniques on remote machines. This will require a new set of tools. Specifically, we will use an extensin of PyTorch called PySyft.\n",
        "\n",
        "### Install PySyft\n",
        "\n",
        "The easiest way to install the required libraries is with [Conda](https://docs.conda.io/projects/conda/en/latest/user-guide/overview.html). Create a new environment, then install the dependencies in that environment. In your terminal:\n",
        "\n",
        "```bash\n",
        "conda create -n pysyft python=3\n",
        "conda activate pysyft # some older version of conda require \"source activate pysyft\" instead.\n",
        "conda install jupyter notebook\n",
        "pip install syft\n",
        "pip install numpy\n",
        "```\n",
        "\n",
        "If you have any errors relating to zstd - run the following (if everything above installed fine then skip this step):\n",
        "\n",
        "```\n",
        "pip install --upgrade --force-reinstall zstd\n",
        "```\n",
        "\n",
        "and then retry installing syft (pip install syft).\n",
        "\n",
        "If you are using Windows, I suggest installing [Anaconda and using the Anaconda Prompt](https://docs.anaconda.com/anaconda/user-guide/getting-started/) to work from the command line. \n",
        "\n",
        "With this environment activated and in the repo directory, launch Jupyter Notebook:\n",
        "\n",
        "```bash\n",
        "jupyter notebook\n",
        "```\n",
        "\n",
        "and re-open this notebook on the new Jupyter server.\n",
        "\n",
        "If any part of this doesn't work for you (or any of the tests fail) - first check the [README](https://github.com/OpenMined/PySyft.git) for installation help and then open a Github Issue or ping the #beginner channel in our slack! [slack.openmined.org](http://slack.openmined.org/)"
      ]
    },
    {
      "cell_type": "markdown",
      "metadata": {
        "id": "3LbdqUIqNJOK",
        "colab_type": "text"
      },
      "source": [
        "Colab install PySyft, PyTorch, dependencies, libraries"
      ]
    },
    {
      "cell_type": "code",
      "metadata": {
        "id": "MKgfxWbGM0TM",
        "colab_type": "code",
        "outputId": "6f33e2a9-38de-4ab1-ff71-155997d05ab8",
        "colab": {
          "base_uri": "https://localhost:8080/",
          "height": 245
        }
      },
      "source": [
        "# PySyft\n",
        "# Install prerequisite for install\n",
        "\n",
        "# ERROR: syft 0.1.19a1 has requirement msgpack>=0.6.1, but you'll have msgpack 0.5.6 which is incompatible.\n",
        "\n",
        "!pip install --upgrade --force-reinstall msgpack"
      ],
      "execution_count": 178,
      "outputs": [
        {
          "output_type": "stream",
          "text": [
            "Collecting msgpack\n",
            "  Using cached https://files.pythonhosted.org/packages/92/7e/ae9e91c1bb8d846efafd1f353476e3fd7309778b582d2fb4cea4cc15b9a2/msgpack-0.6.1-cp36-cp36m-manylinux1_x86_64.whl\n",
            "Installing collected packages: msgpack\n",
            "  Found existing installation: msgpack 0.6.1\n",
            "    Uninstalling msgpack-0.6.1:\n",
            "      Successfully uninstalled msgpack-0.6.1\n",
            "Successfully installed msgpack-0.6.1\n"
          ],
          "name": "stdout"
        },
        {
          "output_type": "display_data",
          "data": {
            "application/vnd.colab-display-data+json": {
              "pip_warning": {
                "packages": [
                  "msgpack"
                ]
              }
            }
          },
          "metadata": {
            "tags": []
          }
        }
      ]
    },
    {
      "cell_type": "code",
      "metadata": {
        "id": "VVZGqoIEM6mV",
        "colab_type": "code",
        "outputId": "bbdb8ff6-2247-46f1-d05c-c0453aa09387",
        "colab": {
          "base_uri": "https://localhost:8080/",
          "height": 1000
        }
      },
      "source": [
        "# PySyft\n",
        "# Install dependencies\n",
        "\n",
        "# https://github.com/OpenMined/PySyft\n",
        "# https://colab.research.google.com/drive/14tNU98OKPsP55Y3IgFtXPfd4frqbkrxK#scrollTo=qpX6fqECKGyk\n",
        "\n",
        "!pip install tf-encrypted\n",
        "\n",
        "! URL=\"https://github.com/openmined/PySyft.git\" && FOLDER=\"PySyft\" && if [ ! -d $FOLDER ]; then git clone -b dev --single-branch $URL; else (cd $FOLDER && git pull $URL && cd ..); fi;\n",
        "\n",
        "!cd PySyft; python setup.py install  > /dev/null\n",
        "\n",
        "import os\n",
        "import sys\n",
        "module_path = os.path.abspath(os.path.join('./PySyft'))\n",
        "if module_path not in sys.path:\n",
        "    sys.path.append(module_path)\n",
        "    \n",
        "!pip install --upgrade --force-reinstall lz4\n",
        "!pip install --upgrade --force-reinstall websocket\n",
        "!pip install --upgrade --force-reinstall websockets\n",
        "!pip install --upgrade --force-reinstall zstd"
      ],
      "execution_count": 179,
      "outputs": [
        {
          "output_type": "stream",
          "text": [
            "Requirement already satisfied: tf-encrypted in /usr/local/lib/python3.6/dist-packages (0.5.6)\n",
            "Requirement already satisfied: numpy>=1.14.0 in /usr/local/lib/python3.6/dist-packages (from tf-encrypted) (1.16.4)\n",
            "Requirement already satisfied: pyyaml>=5.1 in /usr/local/lib/python3.6/dist-packages (from tf-encrypted) (5.1.1)\n",
            "Requirement already satisfied: tensorflow<2,>=1.12.0 in /usr/local/lib/python3.6/dist-packages (from tf-encrypted) (1.14.0)\n",
            "Requirement already satisfied: astor>=0.6.0 in /usr/local/lib/python3.6/dist-packages (from tensorflow<2,>=1.12.0->tf-encrypted) (0.8.0)\n",
            "Requirement already satisfied: six>=1.10.0 in /usr/local/lib/python3.6/dist-packages (from tensorflow<2,>=1.12.0->tf-encrypted) (1.12.0)\n",
            "Requirement already satisfied: protobuf>=3.6.1 in /usr/local/lib/python3.6/dist-packages (from tensorflow<2,>=1.12.0->tf-encrypted) (3.7.1)\n",
            "Requirement already satisfied: keras-preprocessing>=1.0.5 in /usr/local/lib/python3.6/dist-packages (from tensorflow<2,>=1.12.0->tf-encrypted) (1.1.0)\n",
            "Requirement already satisfied: gast>=0.2.0 in /usr/local/lib/python3.6/dist-packages (from tensorflow<2,>=1.12.0->tf-encrypted) (0.2.2)\n",
            "Requirement already satisfied: termcolor>=1.1.0 in /usr/local/lib/python3.6/dist-packages (from tensorflow<2,>=1.12.0->tf-encrypted) (1.1.0)\n",
            "Requirement already satisfied: tensorboard<1.15.0,>=1.14.0 in /usr/local/lib/python3.6/dist-packages (from tensorflow<2,>=1.12.0->tf-encrypted) (1.14.0)\n",
            "Requirement already satisfied: keras-applications>=1.0.6 in /usr/local/lib/python3.6/dist-packages (from tensorflow<2,>=1.12.0->tf-encrypted) (1.0.8)\n",
            "Requirement already satisfied: wheel>=0.26 in /usr/local/lib/python3.6/dist-packages (from tensorflow<2,>=1.12.0->tf-encrypted) (0.33.4)\n",
            "Requirement already satisfied: tensorflow-estimator<1.15.0rc0,>=1.14.0rc0 in /usr/local/lib/python3.6/dist-packages (from tensorflow<2,>=1.12.0->tf-encrypted) (1.14.0)\n",
            "Requirement already satisfied: google-pasta>=0.1.6 in /usr/local/lib/python3.6/dist-packages (from tensorflow<2,>=1.12.0->tf-encrypted) (0.1.7)\n",
            "Requirement already satisfied: absl-py>=0.7.0 in /usr/local/lib/python3.6/dist-packages (from tensorflow<2,>=1.12.0->tf-encrypted) (0.7.1)\n",
            "Requirement already satisfied: wrapt>=1.11.1 in /usr/local/lib/python3.6/dist-packages (from tensorflow<2,>=1.12.0->tf-encrypted) (1.11.2)\n",
            "Requirement already satisfied: grpcio>=1.8.6 in /usr/local/lib/python3.6/dist-packages (from tensorflow<2,>=1.12.0->tf-encrypted) (1.15.0)\n",
            "Requirement already satisfied: setuptools in /usr/local/lib/python3.6/dist-packages (from protobuf>=3.6.1->tensorflow<2,>=1.12.0->tf-encrypted) (41.0.1)\n",
            "Requirement already satisfied: markdown>=2.6.8 in /usr/local/lib/python3.6/dist-packages (from tensorboard<1.15.0,>=1.14.0->tensorflow<2,>=1.12.0->tf-encrypted) (3.1.1)\n",
            "Requirement already satisfied: werkzeug>=0.11.15 in /usr/local/lib/python3.6/dist-packages (from tensorboard<1.15.0,>=1.14.0->tensorflow<2,>=1.12.0->tf-encrypted) (0.15.4)\n",
            "Requirement already satisfied: h5py in /usr/local/lib/python3.6/dist-packages (from keras-applications>=1.0.6->tensorflow<2,>=1.12.0->tf-encrypted) (2.8.0)\n",
            "From https://github.com/openmined/PySyft\n",
            " * branch              HEAD       -> FETCH_HEAD\n",
            "Already up to date.\n",
            "zip_safe flag not set; analyzing archive contents...\n",
            "Collecting lz4\n",
            "  Using cached https://files.pythonhosted.org/packages/0a/c6/96bbb3525a63ebc53ea700cc7d37ab9045542d33b4d262d0f0408ad9bbf2/lz4-2.1.10-cp36-cp36m-manylinux1_x86_64.whl\n",
            "Installing collected packages: lz4\n",
            "  Found existing installation: lz4 2.1.10\n",
            "    Uninstalling lz4-2.1.10:\n",
            "      Successfully uninstalled lz4-2.1.10\n",
            "Successfully installed lz4-2.1.10\n"
          ],
          "name": "stdout"
        },
        {
          "output_type": "display_data",
          "data": {
            "application/vnd.colab-display-data+json": {
              "pip_warning": {
                "packages": [
                  "lz4"
                ]
              }
            }
          },
          "metadata": {
            "tags": []
          }
        },
        {
          "output_type": "stream",
          "text": [
            "Collecting websocket\n",
            "Collecting gevent (from websocket)\n",
            "  Using cached https://files.pythonhosted.org/packages/f2/ca/5b5962361ed832847b6b2f9a2d0452c8c2f29a93baef850bb8ad067c7bf9/gevent-1.4.0-cp36-cp36m-manylinux1_x86_64.whl\n",
            "Collecting greenlet (from websocket)\n",
            "  Using cached https://files.pythonhosted.org/packages/bf/45/142141aa47e01a5779f0fa5a53b81f8379ce8f2b1cd13df7d2f1d751ae42/greenlet-0.4.15-cp36-cp36m-manylinux1_x86_64.whl\n",
            "Installing collected packages: greenlet, gevent, websocket\n",
            "  Found existing installation: greenlet 0.4.15\n",
            "    Uninstalling greenlet-0.4.15:\n",
            "      Successfully uninstalled greenlet-0.4.15\n",
            "  Found existing installation: gevent 1.4.0\n",
            "    Uninstalling gevent-1.4.0:\n",
            "      Successfully uninstalled gevent-1.4.0\n",
            "  Found existing installation: websocket 0.2.1\n",
            "    Uninstalling websocket-0.2.1:\n",
            "      Successfully uninstalled websocket-0.2.1\n",
            "Successfully installed gevent-1.4.0 greenlet-0.4.15 websocket-0.2.1\n"
          ],
          "name": "stdout"
        },
        {
          "output_type": "display_data",
          "data": {
            "application/vnd.colab-display-data+json": {
              "pip_warning": {
                "packages": [
                  "websocket"
                ]
              }
            }
          },
          "metadata": {
            "tags": []
          }
        },
        {
          "output_type": "stream",
          "text": [
            "Collecting websockets\n",
            "  Using cached https://files.pythonhosted.org/packages/61/5e/2fe6afbb796c6ac5c006460b5503cd674d33706660337f2dbff10d4aa12d/websockets-8.0-cp36-cp36m-manylinux1_x86_64.whl\n",
            "Installing collected packages: websockets\n",
            "  Found existing installation: websockets 8.0\n",
            "    Uninstalling websockets-8.0:\n",
            "      Successfully uninstalled websockets-8.0\n",
            "Successfully installed websockets-8.0\n"
          ],
          "name": "stdout"
        },
        {
          "output_type": "display_data",
          "data": {
            "application/vnd.colab-display-data+json": {
              "pip_warning": {
                "packages": [
                  "websockets"
                ]
              }
            }
          },
          "metadata": {
            "tags": []
          }
        },
        {
          "output_type": "stream",
          "text": [
            "Collecting zstd\n",
            "Installing collected packages: zstd\n",
            "  Found existing installation: zstd 1.4.0.0\n",
            "    Uninstalling zstd-1.4.0.0:\n",
            "      Successfully uninstalled zstd-1.4.0.0\n",
            "Successfully installed zstd-1.4.0.0\n"
          ],
          "name": "stdout"
        },
        {
          "output_type": "display_data",
          "data": {
            "application/vnd.colab-display-data+json": {
              "pip_warning": {
                "packages": [
                  "zstd"
                ]
              }
            }
          },
          "metadata": {
            "tags": []
          }
        }
      ]
    },
    {
      "cell_type": "code",
      "metadata": {
        "id": "dwSsc8YvM7nJ",
        "colab_type": "code",
        "outputId": "170d6b60-e38c-40af-826f-622d4f85642b",
        "colab": {
          "base_uri": "https://localhost:8080/",
          "height": 802
        }
      },
      "source": [
        "# PySyft\n",
        "# make sure nothing's missing.\n",
        "\n",
        "!pip install syft\n",
        "!pip install numpy"
      ],
      "execution_count": 180,
      "outputs": [
        {
          "output_type": "stream",
          "text": [
            "Requirement already satisfied: syft in /usr/local/lib/python3.6/dist-packages/syft-0.1.21a1-py3.6.egg (0.1.21a1)\n",
            "Requirement already satisfied: Flask>=1.0.2 in /usr/local/lib/python3.6/dist-packages (from syft) (1.1.1)\n",
            "Requirement already satisfied: flask_socketio>=3.3.2 in /usr/local/lib/python3.6/dist-packages/Flask_SocketIO-4.1.0-py3.6.egg (from syft) (4.1.0)\n",
            "Requirement already satisfied: lz4>=2.1.6 in /usr/local/lib/python3.6/dist-packages (from syft) (2.1.10)\n",
            "Requirement already satisfied: msgpack>=0.6.1 in /usr/local/lib/python3.6/dist-packages (from syft) (0.6.1)\n",
            "Requirement already satisfied: numpy>=1.14.0 in /usr/local/lib/python3.6/dist-packages (from syft) (1.16.4)\n",
            "Requirement already satisfied: scikit-learn>=0.21.0 in /usr/local/lib/python3.6/dist-packages (from syft) (0.21.2)\n",
            "Requirement already satisfied: tblib>=1.4.0 in /usr/local/lib/python3.6/dist-packages (from syft) (1.4.0)\n",
            "Requirement already satisfied: tf_encrypted>=0.5.4 in /usr/local/lib/python3.6/dist-packages (from syft) (0.5.6)\n",
            "Requirement already satisfied: torch>=1.1 in /usr/local/lib/python3.6/dist-packages (from syft) (1.1.0)\n",
            "Requirement already satisfied: torchvision>=0.3.0 in /usr/local/lib/python3.6/dist-packages (from syft) (0.3.0)\n",
            "Requirement already satisfied: websocket_client>=0.56.0 in /usr/local/lib/python3.6/dist-packages/websocket_client-0.56.0-py3.6.egg (from syft) (0.56.0)\n",
            "Requirement already satisfied: websockets>=7.0 in /usr/local/lib/python3.6/dist-packages (from syft) (8.0)\n",
            "Requirement already satisfied: zstd>=1.4.0.0 in /usr/local/lib/python3.6/dist-packages (from syft) (1.4.0.0)\n",
            "Requirement already satisfied: Jinja2>=2.10.1 in /usr/local/lib/python3.6/dist-packages (from Flask>=1.0.2->syft) (2.10.1)\n",
            "Requirement already satisfied: itsdangerous>=0.24 in /usr/local/lib/python3.6/dist-packages (from Flask>=1.0.2->syft) (1.1.0)\n",
            "Requirement already satisfied: click>=5.1 in /usr/local/lib/python3.6/dist-packages (from Flask>=1.0.2->syft) (7.0)\n",
            "Requirement already satisfied: Werkzeug>=0.15 in /usr/local/lib/python3.6/dist-packages (from Flask>=1.0.2->syft) (0.15.4)\n",
            "Requirement already satisfied: python-socketio>=2.1.0 in /usr/local/lib/python3.6/dist-packages/python_socketio-4.2.0-py3.6.egg (from flask_socketio>=3.3.2->syft) (4.2.0)\n",
            "Requirement already satisfied: joblib>=0.11 in /usr/local/lib/python3.6/dist-packages (from scikit-learn>=0.21.0->syft) (0.13.2)\n",
            "Requirement already satisfied: scipy>=0.17.0 in /usr/local/lib/python3.6/dist-packages (from scikit-learn>=0.21.0->syft) (1.3.0)\n",
            "Requirement already satisfied: pyyaml>=5.1 in /usr/local/lib/python3.6/dist-packages (from tf_encrypted>=0.5.4->syft) (5.1.1)\n",
            "Requirement already satisfied: tensorflow<2,>=1.12.0 in /usr/local/lib/python3.6/dist-packages (from tf_encrypted>=0.5.4->syft) (1.14.0)\n",
            "Requirement already satisfied: six in /usr/local/lib/python3.6/dist-packages (from torchvision>=0.3.0->syft) (1.12.0)\n",
            "Requirement already satisfied: pillow>=4.1.1 in /usr/local/lib/python3.6/dist-packages (from torchvision>=0.3.0->syft) (4.3.0)\n",
            "Requirement already satisfied: MarkupSafe>=0.23 in /usr/local/lib/python3.6/dist-packages (from Jinja2>=2.10.1->Flask>=1.0.2->syft) (1.1.1)\n",
            "Requirement already satisfied: python-engineio>=3.8.0 in /usr/local/lib/python3.6/dist-packages/python_engineio-3.8.2.post1-py3.6.egg (from python-socketio>=2.1.0->flask_socketio>=3.3.2->syft) (3.8.2.post1)\n",
            "Requirement already satisfied: termcolor>=1.1.0 in /usr/local/lib/python3.6/dist-packages (from tensorflow<2,>=1.12.0->tf_encrypted>=0.5.4->syft) (1.1.0)\n",
            "Requirement already satisfied: grpcio>=1.8.6 in /usr/local/lib/python3.6/dist-packages (from tensorflow<2,>=1.12.0->tf_encrypted>=0.5.4->syft) (1.15.0)\n",
            "Requirement already satisfied: gast>=0.2.0 in /usr/local/lib/python3.6/dist-packages (from tensorflow<2,>=1.12.0->tf_encrypted>=0.5.4->syft) (0.2.2)\n",
            "Requirement already satisfied: keras-applications>=1.0.6 in /usr/local/lib/python3.6/dist-packages (from tensorflow<2,>=1.12.0->tf_encrypted>=0.5.4->syft) (1.0.8)\n",
            "Requirement already satisfied: wrapt>=1.11.1 in /usr/local/lib/python3.6/dist-packages (from tensorflow<2,>=1.12.0->tf_encrypted>=0.5.4->syft) (1.11.2)\n",
            "Requirement already satisfied: wheel>=0.26 in /usr/local/lib/python3.6/dist-packages (from tensorflow<2,>=1.12.0->tf_encrypted>=0.5.4->syft) (0.33.4)\n",
            "Requirement already satisfied: tensorflow-estimator<1.15.0rc0,>=1.14.0rc0 in /usr/local/lib/python3.6/dist-packages (from tensorflow<2,>=1.12.0->tf_encrypted>=0.5.4->syft) (1.14.0)\n",
            "Requirement already satisfied: google-pasta>=0.1.6 in /usr/local/lib/python3.6/dist-packages (from tensorflow<2,>=1.12.0->tf_encrypted>=0.5.4->syft) (0.1.7)\n",
            "Requirement already satisfied: absl-py>=0.7.0 in /usr/local/lib/python3.6/dist-packages (from tensorflow<2,>=1.12.0->tf_encrypted>=0.5.4->syft) (0.7.1)\n",
            "Requirement already satisfied: keras-preprocessing>=1.0.5 in /usr/local/lib/python3.6/dist-packages (from tensorflow<2,>=1.12.0->tf_encrypted>=0.5.4->syft) (1.1.0)\n",
            "Requirement already satisfied: protobuf>=3.6.1 in /usr/local/lib/python3.6/dist-packages (from tensorflow<2,>=1.12.0->tf_encrypted>=0.5.4->syft) (3.7.1)\n",
            "Requirement already satisfied: astor>=0.6.0 in /usr/local/lib/python3.6/dist-packages (from tensorflow<2,>=1.12.0->tf_encrypted>=0.5.4->syft) (0.8.0)\n",
            "Requirement already satisfied: tensorboard<1.15.0,>=1.14.0 in /usr/local/lib/python3.6/dist-packages (from tensorflow<2,>=1.12.0->tf_encrypted>=0.5.4->syft) (1.14.0)\n",
            "Requirement already satisfied: olefile in /usr/local/lib/python3.6/dist-packages (from pillow>=4.1.1->torchvision>=0.3.0->syft) (0.46)\n",
            "Requirement already satisfied: h5py in /usr/local/lib/python3.6/dist-packages (from keras-applications>=1.0.6->tensorflow<2,>=1.12.0->tf_encrypted>=0.5.4->syft) (2.8.0)\n",
            "Requirement already satisfied: setuptools in /usr/local/lib/python3.6/dist-packages (from protobuf>=3.6.1->tensorflow<2,>=1.12.0->tf_encrypted>=0.5.4->syft) (41.0.1)\n",
            "Requirement already satisfied: markdown>=2.6.8 in /usr/local/lib/python3.6/dist-packages (from tensorboard<1.15.0,>=1.14.0->tensorflow<2,>=1.12.0->tf_encrypted>=0.5.4->syft) (3.1.1)\n",
            "Requirement already satisfied: numpy in /usr/local/lib/python3.6/dist-packages (1.16.4)\n"
          ],
          "name": "stdout"
        }
      ]
    },
    {
      "cell_type": "code",
      "metadata": {
        "id": "voErggX5NCJ1",
        "colab_type": "code",
        "outputId": "70571726-1b6a-48db-f53a-79b1ceb1ea17",
        "colab": {
          "base_uri": "https://localhost:8080/",
          "height": 119
        }
      },
      "source": [
        "# PyTorch\n",
        "# Install Dependencies\n",
        "# https://colab.research.google.com/drive/1gJAAN3UI9005ecVmxPun5ZLCGu4YBtLo#scrollTo=XiHYo3hEhwdk\n",
        "\n",
        "!pip3 install torch torchvision"
      ],
      "execution_count": 181,
      "outputs": [
        {
          "output_type": "stream",
          "text": [
            "Requirement already satisfied: torch in /usr/local/lib/python3.6/dist-packages (1.1.0)\n",
            "Requirement already satisfied: torchvision in /usr/local/lib/python3.6/dist-packages (0.3.0)\n",
            "Requirement already satisfied: numpy in /usr/local/lib/python3.6/dist-packages (from torch) (1.16.4)\n",
            "Requirement already satisfied: pillow>=4.1.1 in /usr/local/lib/python3.6/dist-packages (from torchvision) (4.3.0)\n",
            "Requirement already satisfied: six in /usr/local/lib/python3.6/dist-packages (from torchvision) (1.12.0)\n",
            "Requirement already satisfied: olefile in /usr/local/lib/python3.6/dist-packages (from pillow>=4.1.1->torchvision) (0.46)\n"
          ],
          "name": "stdout"
        }
      ]
    },
    {
      "cell_type": "code",
      "metadata": {
        "id": "NU_VpCssNHaw",
        "colab_type": "code",
        "outputId": "460ed56b-2fa1-4463-93a9-74eca2127520",
        "colab": {
          "base_uri": "https://localhost:8080/",
          "height": 34
        }
      },
      "source": [
        "# Import libraries\n",
        "# https://colab.research.google.com/drive/14tNU98OKPsP55Y3IgFtXPfd4frqbkrxK#scrollTo=ZgomH7s4R5cT\n",
        "\n",
        "from __future__ import print_function\n",
        "import argparse\n",
        "import numpy as np\n",
        "import pandas as pd\n",
        "import torch\n",
        "import torch.nn as nn\n",
        "import torch.nn.functional as F\n",
        "import torch.optim as optim\n",
        "import torch.utils\n",
        "import torch.utils.data\n",
        "\n",
        "torch.__version__"
      ],
      "execution_count": 182,
      "outputs": [
        {
          "output_type": "execute_result",
          "data": {
            "text/plain": [
              "'1.1.0'"
            ]
          },
          "metadata": {
            "tags": []
          },
          "execution_count": 182
        }
      ]
    },
    {
      "cell_type": "markdown",
      "metadata": {
        "id": "pk-xXrUSNVF4",
        "colab_type": "text"
      },
      "source": [
        "Coursework"
      ]
    },
    {
      "cell_type": "code",
      "metadata": {
        "id": "PyKHGGsdL84-",
        "colab_type": "code",
        "colab": {}
      },
      "source": [
        "# import torch as th"
      ],
      "execution_count": 0,
      "outputs": []
    },
    {
      "cell_type": "code",
      "metadata": {
        "id": "-RyB5HlEL85K",
        "colab_type": "code",
        "outputId": "c0b8fa3b-90ee-4817-fd12-58a822a1988d",
        "colab": {
          "base_uri": "https://localhost:8080/",
          "height": 34
        }
      },
      "source": [
        "x = torch.tensor([1,2,3,4,5])\n",
        "x"
      ],
      "execution_count": 184,
      "outputs": [
        {
          "output_type": "execute_result",
          "data": {
            "text/plain": [
              "tensor([1, 2, 3, 4, 5])"
            ]
          },
          "metadata": {
            "tags": []
          },
          "execution_count": 184
        }
      ]
    },
    {
      "cell_type": "code",
      "metadata": {
        "id": "DK5DhKwpL85b",
        "colab_type": "code",
        "colab": {}
      },
      "source": [
        "y = x + x"
      ],
      "execution_count": 0,
      "outputs": []
    },
    {
      "cell_type": "code",
      "metadata": {
        "id": "Fwa4aacAL85i",
        "colab_type": "code",
        "outputId": "1776d333-6f44-4f26-90e1-3a02272d653b",
        "colab": {
          "base_uri": "https://localhost:8080/",
          "height": 34
        }
      },
      "source": [
        "print(y)"
      ],
      "execution_count": 186,
      "outputs": [
        {
          "output_type": "stream",
          "text": [
            "tensor([ 2,  4,  6,  8, 10])\n"
          ],
          "name": "stdout"
        }
      ]
    },
    {
      "cell_type": "code",
      "metadata": {
        "id": "zpyirS-dL85u",
        "colab_type": "code",
        "colab": {}
      },
      "source": [
        ""
      ],
      "execution_count": 0,
      "outputs": []
    },
    {
      "cell_type": "code",
      "metadata": {
        "id": "wGe6Rl3DL850",
        "colab_type": "code",
        "colab": {}
      },
      "source": [
        "import syft as sy"
      ],
      "execution_count": 0,
      "outputs": []
    },
    {
      "cell_type": "code",
      "metadata": {
        "id": "NKs_BDmXL858",
        "colab_type": "code",
        "outputId": "339fbc4c-f809-4bd5-87f1-1e341573f353",
        "colab": {
          "base_uri": "https://localhost:8080/",
          "height": 34
        }
      },
      "source": [
        "hook = sy.TorchHook(torch)"
      ],
      "execution_count": 188,
      "outputs": [
        {
          "output_type": "stream",
          "text": [
            "W0716 06:03:46.788506 140222424659840 hook.py:98] Torch was already hooked... skipping hooking process\n"
          ],
          "name": "stderr"
        }
      ]
    },
    {
      "cell_type": "code",
      "metadata": {
        "id": "Uhy-CtUPL86D",
        "colab_type": "code",
        "outputId": "2a314664-b81b-4656-cdc4-f43ba11997a5",
        "colab": {
          "base_uri": "https://localhost:8080/",
          "height": 34
        }
      },
      "source": [
        "torch.tensor([1,2,3,4,5])"
      ],
      "execution_count": 189,
      "outputs": [
        {
          "output_type": "execute_result",
          "data": {
            "text/plain": [
              "tensor([1, 2, 3, 4, 5])"
            ]
          },
          "metadata": {
            "tags": []
          },
          "execution_count": 189
        }
      ]
    },
    {
      "cell_type": "markdown",
      "metadata": {
        "id": "BPH2cmqxL86O",
        "colab_type": "text"
      },
      "source": [
        "# Lesson: Basic Remote Execution in PySyft"
      ]
    },
    {
      "cell_type": "markdown",
      "metadata": {
        "id": "u6ma2jZqL86Q",
        "colab_type": "text"
      },
      "source": [
        "## PySyft => Remote PyTorch\n",
        "\n",
        "The essence of Federated Learning is the ability to train models in parallel on a wide number of machines. Thus, we need the ability to tell remote machines to execute the operations required for Deep Learning.\n",
        "\n",
        "Thus, instead of using Torch tensors - we're now going to work with **pointers** to tensors. Let me show you what I mean. First, let's create a \"pretend\" machine owned by a \"pretend\" person - we'll call him Bob."
      ]
    },
    {
      "cell_type": "code",
      "metadata": {
        "id": "AockeQe_L86S",
        "colab_type": "code",
        "colab": {}
      },
      "source": [
        "bob = sy.VirtualWorker(hook, id=\"bob\")"
      ],
      "execution_count": 0,
      "outputs": []
    },
    {
      "cell_type": "code",
      "metadata": {
        "id": "V5-6pmsiL86a",
        "colab_type": "code",
        "outputId": "26dfaba7-7239-4b9c-84a6-826117f08649",
        "colab": {
          "base_uri": "https://localhost:8080/",
          "height": 54
        }
      },
      "source": [
        "bob._objects"
      ],
      "execution_count": 191,
      "outputs": [
        {
          "output_type": "execute_result",
          "data": {
            "text/plain": [
              "{99952531149: tensor([1, 2, 3, 4, 5])}"
            ]
          },
          "metadata": {
            "tags": []
          },
          "execution_count": 191
        }
      ]
    },
    {
      "cell_type": "code",
      "metadata": {
        "id": "GF2AJBoML86j",
        "colab_type": "code",
        "colab": {}
      },
      "source": [
        "x = torch.tensor([1,2,3,4,5])"
      ],
      "execution_count": 0,
      "outputs": []
    },
    {
      "cell_type": "code",
      "metadata": {
        "id": "ftCILW8LL86r",
        "colab_type": "code",
        "colab": {}
      },
      "source": [
        "x = x.send(bob)"
      ],
      "execution_count": 0,
      "outputs": []
    },
    {
      "cell_type": "code",
      "metadata": {
        "id": "CF2Oc8tXL86y",
        "colab_type": "code",
        "outputId": "6bbf00ba-9323-4fd8-be48-ccc133d5a684",
        "colab": {
          "base_uri": "https://localhost:8080/",
          "height": 54
        }
      },
      "source": [
        "bob._objects"
      ],
      "execution_count": 194,
      "outputs": [
        {
          "output_type": "execute_result",
          "data": {
            "text/plain": [
              "{14853967438: tensor([1, 2, 3, 4, 5]), 99952531149: tensor([1, 2, 3, 4, 5])}"
            ]
          },
          "metadata": {
            "tags": []
          },
          "execution_count": 194
        }
      ]
    },
    {
      "cell_type": "code",
      "metadata": {
        "id": "WeJbRzmDL87A",
        "colab_type": "code",
        "outputId": "d33d34e0-aa30-4c8d-da82-26669845f99a",
        "colab": {
          "base_uri": "https://localhost:8080/",
          "height": 54
        }
      },
      "source": [
        "x.location"
      ],
      "execution_count": 195,
      "outputs": [
        {
          "output_type": "execute_result",
          "data": {
            "text/plain": [
              "<VirtualWorker id:bob #objects:2>"
            ]
          },
          "metadata": {
            "tags": []
          },
          "execution_count": 195
        }
      ]
    },
    {
      "cell_type": "code",
      "metadata": {
        "id": "TsM9cPenL87M",
        "colab_type": "code",
        "outputId": "4e9a5087-d979-4124-c7c2-03edea880220",
        "colab": {
          "base_uri": "https://localhost:8080/",
          "height": 54
        }
      },
      "source": [
        "x.id_at_location"
      ],
      "execution_count": 196,
      "outputs": [
        {
          "output_type": "execute_result",
          "data": {
            "text/plain": [
              "14853967438"
            ]
          },
          "metadata": {
            "tags": []
          },
          "execution_count": 196
        }
      ]
    },
    {
      "cell_type": "code",
      "metadata": {
        "id": "00NzvweBL87a",
        "colab_type": "code",
        "outputId": "06a69e1d-2813-412d-e879-687a829d41ec",
        "colab": {
          "base_uri": "https://localhost:8080/",
          "height": 54
        }
      },
      "source": [
        "x.id"
      ],
      "execution_count": 197,
      "outputs": [
        {
          "output_type": "execute_result",
          "data": {
            "text/plain": [
              "76119954016"
            ]
          },
          "metadata": {
            "tags": []
          },
          "execution_count": 197
        }
      ]
    },
    {
      "cell_type": "code",
      "metadata": {
        "id": "Ro1iRTKUL87n",
        "colab_type": "code",
        "outputId": "18e74c33-1dc6-4b16-f0df-7910e9ba47e5",
        "colab": {
          "base_uri": "https://localhost:8080/",
          "height": 54
        }
      },
      "source": [
        "x.owner"
      ],
      "execution_count": 198,
      "outputs": [
        {
          "output_type": "execute_result",
          "data": {
            "text/plain": [
              "<VirtualWorker id:me #objects:0>"
            ]
          },
          "metadata": {
            "tags": []
          },
          "execution_count": 198
        }
      ]
    },
    {
      "cell_type": "code",
      "metadata": {
        "id": "Yhq8smD5L88B",
        "colab_type": "code",
        "outputId": "fb434259-277c-4b7c-b08e-1f412bcf6498",
        "colab": {
          "base_uri": "https://localhost:8080/",
          "height": 54
        }
      },
      "source": [
        "hook.local_worker"
      ],
      "execution_count": 199,
      "outputs": [
        {
          "output_type": "execute_result",
          "data": {
            "text/plain": [
              "<VirtualWorker id:me #objects:0>"
            ]
          },
          "metadata": {
            "tags": []
          },
          "execution_count": 199
        }
      ]
    },
    {
      "cell_type": "code",
      "metadata": {
        "id": "yuPjx2tAL88P",
        "colab_type": "code",
        "outputId": "ae8d13f9-e3b2-4454-d27b-6df46adda2de",
        "colab": {
          "base_uri": "https://localhost:8080/",
          "height": 54
        }
      },
      "source": [
        "x"
      ],
      "execution_count": 200,
      "outputs": [
        {
          "output_type": "execute_result",
          "data": {
            "text/plain": [
              "(Wrapper)>[PointerTensor | me:76119954016 -> bob:14853967438]"
            ]
          },
          "metadata": {
            "tags": []
          },
          "execution_count": 200
        }
      ]
    },
    {
      "cell_type": "code",
      "metadata": {
        "id": "W1JGmm2tL88p",
        "colab_type": "code",
        "outputId": "dc4e3a84-ae04-408f-e680-cb6604379d0e",
        "colab": {
          "base_uri": "https://localhost:8080/",
          "height": 54
        }
      },
      "source": [
        "x = x.get()\n",
        "x"
      ],
      "execution_count": 201,
      "outputs": [
        {
          "output_type": "execute_result",
          "data": {
            "text/plain": [
              "tensor([1, 2, 3, 4, 5])"
            ]
          },
          "metadata": {
            "tags": []
          },
          "execution_count": 201
        }
      ]
    },
    {
      "cell_type": "code",
      "metadata": {
        "id": "iJEfc9EEL88z",
        "colab_type": "code",
        "outputId": "2175a072-b8b1-4f97-c3d4-764bc1c76988",
        "colab": {
          "base_uri": "https://localhost:8080/",
          "height": 54
        }
      },
      "source": [
        "bob._objects"
      ],
      "execution_count": 202,
      "outputs": [
        {
          "output_type": "execute_result",
          "data": {
            "text/plain": [
              "{99952531149: tensor([1, 2, 3, 4, 5])}"
            ]
          },
          "metadata": {
            "tags": []
          },
          "execution_count": 202
        }
      ]
    },
    {
      "cell_type": "markdown",
      "metadata": {
        "id": "-3g4qbECL89J",
        "colab_type": "text"
      },
      "source": [
        "# Project: Playing with Remote Tensors\n",
        "\n",
        "In this project, I want you to .send() and .get() a tensor to TWO workers by calling .send(bob,alice). This will first require the creation of another VirtualWorker called alice."
      ]
    },
    {
      "cell_type": "code",
      "metadata": {
        "id": "WBpErnpXL89L",
        "colab_type": "code",
        "colab": {}
      },
      "source": [
        "# try this project here!"
      ],
      "execution_count": 0,
      "outputs": []
    },
    {
      "cell_type": "markdown",
      "metadata": {
        "id": "esdHpiseS0ir",
        "colab_type": "text"
      },
      "source": [
        "My work"
      ]
    },
    {
      "cell_type": "code",
      "metadata": {
        "id": "BvdOk9kZL89T",
        "colab_type": "code",
        "outputId": "b366758a-e0bc-4ab8-9b6e-777a6b2c5d7d",
        "colab": {
          "base_uri": "https://localhost:8080/",
          "height": 71
        }
      },
      "source": [
        "# Create a bob worker and an alice worker.\n",
        "bob = sy.VirtualWorker(hook, id=\"bob\")\n",
        "alice = sy.VirtualWorker(hook, id=\"alice\")\n",
        "\n",
        "print(\"bob worker: \", bob._objects)\n",
        "print(\"alice worker: \", alice._objects)"
      ],
      "execution_count": 204,
      "outputs": [
        {
          "output_type": "stream",
          "text": [
            "bob worker:  {99952531149: tensor([1, 2, 3, 4, 5])}\n",
            "alice worker:  {49561515848: tensor([1, 1, 1, 1, 1])}\n"
          ],
          "name": "stdout"
        }
      ]
    },
    {
      "cell_type": "code",
      "metadata": {
        "id": "UrefCT1wL89a",
        "colab_type": "code",
        "outputId": "1b7cbf5b-b6ad-4dcc-834e-1d48c1712c06",
        "colab": {
          "base_uri": "https://localhost:8080/",
          "height": 71
        }
      },
      "source": [
        "# Create a tensor to send to bob and alice\n",
        "t = torch.rand(10)\n",
        "print(\"tensor t: \", t)"
      ],
      "execution_count": 205,
      "outputs": [
        {
          "output_type": "stream",
          "text": [
            "tensor t:  tensor([0.0021, 0.2957, 0.2765, 0.3206, 0.1821, 0.0391, 0.7530, 0.0450, 0.6310,\n",
            "        0.6267])\n"
          ],
          "name": "stdout"
        }
      ]
    },
    {
      "cell_type": "code",
      "metadata": {
        "id": "qYzvijZfL89i",
        "colab_type": "code",
        "outputId": "e43e0688-a434-4407-d542-35c574ed2444",
        "colab": {
          "base_uri": "https://localhost:8080/",
          "height": 156
        }
      },
      "source": [
        "# Send tensor to the two workers.\n",
        "t = t.send(bob, alice)\n",
        "\n",
        "print(\"bob worker: \", bob._objects)\n",
        "print(\"alice worker: \", alice._objects)\n",
        "print(\"tensor t: \", t)"
      ],
      "execution_count": 206,
      "outputs": [
        {
          "output_type": "stream",
          "text": [
            "bob worker:  {99952531149: tensor([1, 2, 3, 4, 5]), 30020750238: tensor([0.0021, 0.2957, 0.2765, 0.3206, 0.1821, 0.0391, 0.7530, 0.0450, 0.6310,\n",
            "        0.6267])}\n",
            "alice worker:  {49561515848: tensor([1, 1, 1, 1, 1]), 26645586183: tensor([0.0021, 0.2957, 0.2765, 0.3206, 0.1821, 0.0391, 0.7530, 0.0450, 0.6310,\n",
            "        0.6267])}\n",
            "tensor t:  (Wrapper)>[MultiPointerTensor]\n",
            "\t-> (Wrapper)>[PointerTensor | me:37520547498 -> bob:30020750238]\n",
            "\t-> (Wrapper)>[PointerTensor | me:36871345124 -> alice:26645586183]\n"
          ],
          "name": "stdout"
        }
      ]
    },
    {
      "cell_type": "code",
      "metadata": {
        "id": "vXEYtukOL89r",
        "colab_type": "code",
        "outputId": "784425ef-34a0-4912-b2a2-745782727b2a",
        "colab": {
          "base_uri": "https://localhost:8080/",
          "height": 122
        }
      },
      "source": [
        "# Get tensor from the two workers. \n",
        "\n",
        "t = t.get()\n",
        "\n",
        "print(\"bob worker: \", bob._objects)\n",
        "print(\"alice worker: \", alice._objects)\n",
        "print(\"tensor t: \", t)"
      ],
      "execution_count": 207,
      "outputs": [
        {
          "output_type": "stream",
          "text": [
            "bob worker:  {99952531149: tensor([1, 2, 3, 4, 5])}\n",
            "alice worker:  {49561515848: tensor([1, 1, 1, 1, 1])}\n",
            "tensor t:  [tensor([0.0021, 0.2957, 0.2765, 0.3206, 0.1821, 0.0391, 0.7530, 0.0450, 0.6310,\n",
            "        0.6267]), tensor([0.0021, 0.2957, 0.2765, 0.3206, 0.1821, 0.0391, 0.7530, 0.0450, 0.6310,\n",
            "        0.6267])]\n"
          ],
          "name": "stdout"
        }
      ]
    },
    {
      "cell_type": "markdown",
      "metadata": {
        "id": "LDUJKQi6lbZT",
        "colab_type": "text"
      },
      "source": [
        "Instructor's code"
      ]
    },
    {
      "cell_type": "code",
      "metadata": {
        "id": "n4VZQlvRL89y",
        "colab_type": "code",
        "colab": {}
      },
      "source": [
        "alice2 = sy.VirtualWorker(hook, id=\"alice2\")\n",
        "bob2 = sy.VirtualWorker(hook, id=\"bob2\")"
      ],
      "execution_count": 0,
      "outputs": []
    },
    {
      "cell_type": "code",
      "metadata": {
        "id": "SSnN0ZZrL894",
        "colab_type": "code",
        "outputId": "bcb19b49-769f-4f73-b489-6e1b76b73aff",
        "colab": {
          "base_uri": "https://localhost:8080/",
          "height": 54
        }
      },
      "source": [
        "# a worker is a collection of projects.\n",
        "alice2._objects\n",
        "bob2._objects"
      ],
      "execution_count": 209,
      "outputs": [
        {
          "output_type": "execute_result",
          "data": {
            "text/plain": [
              "{}"
            ]
          },
          "metadata": {
            "tags": []
          },
          "execution_count": 209
        }
      ]
    },
    {
      "cell_type": "code",
      "metadata": {
        "id": "y4it701iL8-E",
        "colab_type": "code",
        "colab": {}
      },
      "source": [
        "# create some data\n",
        "x = torch.tensor([1, 2, 3, 4, 5])"
      ],
      "execution_count": 0,
      "outputs": []
    },
    {
      "cell_type": "code",
      "metadata": {
        "id": "CVLTPh8_L8-M",
        "colab_type": "code",
        "outputId": "66040738-e5ee-474e-9bb2-766249e8cf63",
        "colab": {
          "base_uri": "https://localhost:8080/",
          "height": 88
        }
      },
      "source": [
        "# create a multi-pointer: a pointer that references multiple machines.\n",
        "x_ptr = x.send(bob2, alice2)\n",
        "x_ptr"
      ],
      "execution_count": 211,
      "outputs": [
        {
          "output_type": "execute_result",
          "data": {
            "text/plain": [
              "(Wrapper)>[MultiPointerTensor]\n",
              "\t-> (Wrapper)>[PointerTensor | me:34119507626 -> bob2:74025025264]\n",
              "\t-> (Wrapper)>[PointerTensor | me:48471241493 -> alice2:36819350349]"
            ]
          },
          "metadata": {
            "tags": []
          },
          "execution_count": 211
        }
      ]
    },
    {
      "cell_type": "code",
      "metadata": {
        "id": "cveSDnPun5Ol",
        "colab_type": "code",
        "outputId": "e90bb120-b0d7-4607-f769-876af1b5811c",
        "colab": {
          "base_uri": "https://localhost:8080/",
          "height": 54
        }
      },
      "source": [
        "# multi-pointer object \"child\": dictionary of the workers\n",
        "x_ptr.child"
      ],
      "execution_count": 212,
      "outputs": [
        {
          "output_type": "execute_result",
          "data": {
            "text/plain": [
              "MultiPointerTensor>{'bob2': (Wrapper)>[PointerTensor | me:34119507626 -> bob2:74025025264], 'alice2': (Wrapper)>[PointerTensor | me:48471241493 -> alice2:36819350349]}"
            ]
          },
          "metadata": {
            "tags": []
          },
          "execution_count": 212
        }
      ]
    },
    {
      "cell_type": "code",
      "metadata": {
        "id": "lC6ju8E9oC8r",
        "colab_type": "code",
        "outputId": "c6f41719-3c30-4b95-8459-b83821cac0aa",
        "colab": {
          "base_uri": "https://localhost:8080/",
          "height": 54
        }
      },
      "source": [
        "# note: x_ptr.get() returns two objects instead of one.\n",
        "x_ptr.get()"
      ],
      "execution_count": 213,
      "outputs": [
        {
          "output_type": "execute_result",
          "data": {
            "text/plain": [
              "[tensor([1, 2, 3, 4, 5]), tensor([1, 2, 3, 4, 5])]"
            ]
          },
          "metadata": {
            "tags": []
          },
          "execution_count": 213
        }
      ]
    },
    {
      "cell_type": "code",
      "metadata": {
        "id": "fOdYtCNHoUXv",
        "colab_type": "code",
        "outputId": "bd18c1c1-43dc-4d5c-e397-9adb2a1414c0",
        "colab": {
          "base_uri": "https://localhost:8080/",
          "height": 54
        }
      },
      "source": [
        "x = torch.tensor([1, 2, 3, 4, 5]).send(bob2, alice2)\n",
        "\n",
        "# alternativey, sum the tensors together.\n",
        "x.get(sum_results=True)"
      ],
      "execution_count": 214,
      "outputs": [
        {
          "output_type": "execute_result",
          "data": {
            "text/plain": [
              "tensor([ 2,  4,  6,  8, 10])"
            ]
          },
          "metadata": {
            "tags": []
          },
          "execution_count": 214
        }
      ]
    },
    {
      "cell_type": "markdown",
      "metadata": {
        "id": "xxdR-N3FL8-a",
        "colab_type": "text"
      },
      "source": [
        "# Lesson: Introducing Remote Arithmetic"
      ]
    },
    {
      "cell_type": "code",
      "metadata": {
        "id": "v__yvj0FL8-c",
        "colab_type": "code",
        "colab": {}
      },
      "source": [
        "x = torch.tensor([1,2,3,4,5]).send(bob)\n",
        "y = torch.tensor([1,1,1,1,1]).send(bob)"
      ],
      "execution_count": 0,
      "outputs": []
    },
    {
      "cell_type": "code",
      "metadata": {
        "id": "TmfmR_7EL8-h",
        "colab_type": "code",
        "outputId": "86ad2efd-e102-4dc8-b7f4-efacf274829a",
        "colab": {
          "base_uri": "https://localhost:8080/",
          "height": 54
        }
      },
      "source": [
        "x"
      ],
      "execution_count": 216,
      "outputs": [
        {
          "output_type": "execute_result",
          "data": {
            "text/plain": [
              "(Wrapper)>[PointerTensor | me:94183120196 -> bob:80481866286]"
            ]
          },
          "metadata": {
            "tags": []
          },
          "execution_count": 216
        }
      ]
    },
    {
      "cell_type": "code",
      "metadata": {
        "id": "zi_SyVrkL8-q",
        "colab_type": "code",
        "outputId": "d84ba698-647b-4d92-81c0-17b7ce07bbb4",
        "colab": {
          "base_uri": "https://localhost:8080/",
          "height": 54
        }
      },
      "source": [
        "y"
      ],
      "execution_count": 217,
      "outputs": [
        {
          "output_type": "execute_result",
          "data": {
            "text/plain": [
              "(Wrapper)>[PointerTensor | me:41569104453 -> bob:99891796453]"
            ]
          },
          "metadata": {
            "tags": []
          },
          "execution_count": 217
        }
      ]
    },
    {
      "cell_type": "code",
      "metadata": {
        "id": "EOPCKiiOL8-y",
        "colab_type": "code",
        "colab": {}
      },
      "source": [
        "z = x + y"
      ],
      "execution_count": 0,
      "outputs": []
    },
    {
      "cell_type": "code",
      "metadata": {
        "id": "A1AwBt1NL8-8",
        "colab_type": "code",
        "outputId": "be5ea1ff-f2a1-4d42-c4bb-a0e56edb2c00",
        "colab": {
          "base_uri": "https://localhost:8080/",
          "height": 54
        }
      },
      "source": [
        "z"
      ],
      "execution_count": 219,
      "outputs": [
        {
          "output_type": "execute_result",
          "data": {
            "text/plain": [
              "(Wrapper)>[PointerTensor | me:60605989501 -> bob:30249409296]"
            ]
          },
          "metadata": {
            "tags": []
          },
          "execution_count": 219
        }
      ]
    },
    {
      "cell_type": "code",
      "metadata": {
        "id": "_C3f42MrL8_J",
        "colab_type": "code",
        "outputId": "9c6b5448-9d37-4bf7-c4e7-4b1730413511",
        "colab": {
          "base_uri": "https://localhost:8080/",
          "height": 54
        }
      },
      "source": [
        "z = z.get()\n",
        "z"
      ],
      "execution_count": 220,
      "outputs": [
        {
          "output_type": "execute_result",
          "data": {
            "text/plain": [
              "tensor([2, 3, 4, 5, 6])"
            ]
          },
          "metadata": {
            "tags": []
          },
          "execution_count": 220
        }
      ]
    },
    {
      "cell_type": "code",
      "metadata": {
        "id": "jLIQcaKqL8_R",
        "colab_type": "code",
        "outputId": "8d6e8747-d9ff-4094-e890-882a7a200c4c",
        "colab": {
          "base_uri": "https://localhost:8080/",
          "height": 54
        }
      },
      "source": [
        "z = torch.add(x,y)\n",
        "z"
      ],
      "execution_count": 221,
      "outputs": [
        {
          "output_type": "execute_result",
          "data": {
            "text/plain": [
              "(Wrapper)>[PointerTensor | me:17725692382 -> bob:24522100447]"
            ]
          },
          "metadata": {
            "tags": []
          },
          "execution_count": 221
        }
      ]
    },
    {
      "cell_type": "code",
      "metadata": {
        "id": "Je-CqopBL8_Z",
        "colab_type": "code",
        "outputId": "5a1ffb6f-539c-4329-aaf3-bc2ee4070585",
        "colab": {
          "base_uri": "https://localhost:8080/",
          "height": 54
        }
      },
      "source": [
        "z = z.get()\n",
        "z"
      ],
      "execution_count": 222,
      "outputs": [
        {
          "output_type": "execute_result",
          "data": {
            "text/plain": [
              "tensor([2, 3, 4, 5, 6])"
            ]
          },
          "metadata": {
            "tags": []
          },
          "execution_count": 222
        }
      ]
    },
    {
      "cell_type": "code",
      "metadata": {
        "id": "Ur_UDkHIL8_h",
        "colab_type": "code",
        "colab": {}
      },
      "source": [
        "x = torch.tensor([1.,2,3,4,5], requires_grad=True).send(bob)\n",
        "y = torch.tensor([1.,1,1,1,1], requires_grad=True).send(bob)"
      ],
      "execution_count": 0,
      "outputs": []
    },
    {
      "cell_type": "code",
      "metadata": {
        "id": "7KwD1dIcL8_v",
        "colab_type": "code",
        "colab": {}
      },
      "source": [
        "z = (x + y).sum()"
      ],
      "execution_count": 0,
      "outputs": []
    },
    {
      "cell_type": "code",
      "metadata": {
        "id": "Kqmc1J1qL9AE",
        "colab_type": "code",
        "outputId": "663e5355-5ec0-4677-a851-5fac8d77f733",
        "colab": {
          "base_uri": "https://localhost:8080/",
          "height": 54
        }
      },
      "source": [
        "z.backward()"
      ],
      "execution_count": 225,
      "outputs": [
        {
          "output_type": "execute_result",
          "data": {
            "text/plain": [
              "(Wrapper)>[PointerTensor | me:33367543027 -> bob:73347286743]"
            ]
          },
          "metadata": {
            "tags": []
          },
          "execution_count": 225
        }
      ]
    },
    {
      "cell_type": "code",
      "metadata": {
        "id": "fOnzE4zVL9AR",
        "colab_type": "code",
        "colab": {}
      },
      "source": [
        "x = x.get()"
      ],
      "execution_count": 0,
      "outputs": []
    },
    {
      "cell_type": "code",
      "metadata": {
        "id": "OKaFhaUdL9AW",
        "colab_type": "code",
        "outputId": "78190be7-b749-4a82-9487-59c985a9e21e",
        "colab": {
          "base_uri": "https://localhost:8080/",
          "height": 54
        }
      },
      "source": [
        "x"
      ],
      "execution_count": 227,
      "outputs": [
        {
          "output_type": "execute_result",
          "data": {
            "text/plain": [
              "tensor([1., 2., 3., 4., 5.], requires_grad=True)"
            ]
          },
          "metadata": {
            "tags": []
          },
          "execution_count": 227
        }
      ]
    },
    {
      "cell_type": "code",
      "metadata": {
        "id": "NniwhEQbL9Aj",
        "colab_type": "code",
        "outputId": "7e130bae-3cbc-4d89-a79f-6a812f86a6bd",
        "colab": {
          "base_uri": "https://localhost:8080/",
          "height": 54
        }
      },
      "source": [
        "x.grad"
      ],
      "execution_count": 228,
      "outputs": [
        {
          "output_type": "execute_result",
          "data": {
            "text/plain": [
              "tensor([1., 1., 1., 1., 1.])"
            ]
          },
          "metadata": {
            "tags": []
          },
          "execution_count": 228
        }
      ]
    },
    {
      "cell_type": "code",
      "metadata": {
        "id": "WJHbG-BiL9Au",
        "colab_type": "code",
        "colab": {}
      },
      "source": [
        ""
      ],
      "execution_count": 0,
      "outputs": []
    },
    {
      "cell_type": "markdown",
      "metadata": {
        "id": "T_IY_ArOL9A9",
        "colab_type": "text"
      },
      "source": [
        "# Project: Learn a Simple Linear Model\n",
        "\n",
        "In this project, I'd like for you to create a simple linear model which will solve for the following dataset below. You should use only Variables and .backward() to do so (no optimizers or nn.Modules). Furthermore, you must do so with both the data and the model being located on Bob's machine."
      ]
    },
    {
      "cell_type": "code",
      "metadata": {
        "id": "ToxGW_zZL9A_",
        "colab_type": "code",
        "colab": {}
      },
      "source": [
        "# try this project here!"
      ],
      "execution_count": 0,
      "outputs": []
    },
    {
      "cell_type": "markdown",
      "metadata": {
        "id": "jZb2N2qd-q6l",
        "colab_type": "text"
      },
      "source": [
        "### My work\n",
        "First: figure out the linear model syntax.\n",
        "Reference: [kaggle](https://www.kaggle.com/aakashns/pytorch-basics-linear-regression-from-scratch)"
      ]
    },
    {
      "cell_type": "code",
      "metadata": {
        "id": "yjMcIDzjL9BF",
        "colab_type": "code",
        "colab": {}
      },
      "source": [
        "# A Toy Dataset\n",
        "data = torch.tensor([[1.,1],[0,1],[1,0],[0,0]], requires_grad=True)\n",
        "target = torch.tensor([[1.],[1], [0], [0]], requires_grad=True)"
      ],
      "execution_count": 0,
      "outputs": []
    },
    {
      "cell_type": "code",
      "metadata": {
        "id": "KFQZwo23L9BR",
        "colab_type": "code",
        "outputId": "e3f1a50a-ffa7-454a-d693-d03deb873c7d",
        "colab": {
          "base_uri": "https://localhost:8080/",
          "height": 187
        }
      },
      "source": [
        "print(\"Data: \", data)\n",
        "print(\"Target: \", target)\n",
        "print(\"Data shape: \", data.shape)\n",
        "print(\"Target shape: \", target.shape)"
      ],
      "execution_count": 231,
      "outputs": [
        {
          "output_type": "stream",
          "text": [
            "Data:  tensor([[1., 1.],\n",
            "        [0., 1.],\n",
            "        [1., 0.],\n",
            "        [0., 0.]], requires_grad=True)\n",
            "Target:  tensor([[1.],\n",
            "        [1.],\n",
            "        [0.],\n",
            "        [0.]], requires_grad=True)\n",
            "Data shape:  torch.Size([4, 2])\n",
            "Target shape:  torch.Size([4, 1])\n"
          ],
          "name": "stdout"
        }
      ]
    },
    {
      "cell_type": "code",
      "metadata": {
        "id": "HJZlgcQbhGye",
        "colab_type": "code",
        "outputId": "ecf96325-38a5-41e0-b643-9f6eed2388d2",
        "colab": {
          "base_uri": "https://localhost:8080/",
          "height": 51
        }
      },
      "source": [
        "# Generate weights and biases\n",
        "w = torch.randn(1, 2, requires_grad=True)\n",
        "b = torch.randn(1, requires_grad=True)\n",
        "print(\"weights: \", w)\n",
        "print(\"bias: \", b)"
      ],
      "execution_count": 232,
      "outputs": [
        {
          "output_type": "stream",
          "text": [
            "weights:  tensor([[0.3639, 1.7560]], requires_grad=True)\n",
            "bias:  tensor([-1.2370], requires_grad=True)\n"
          ],
          "name": "stdout"
        }
      ]
    },
    {
      "cell_type": "code",
      "metadata": {
        "id": "Lluwu3OhhkUN",
        "colab_type": "code",
        "colab": {}
      },
      "source": [
        "# Define the model\n",
        "def model(x):\n",
        "  return x @ w.t() + b"
      ],
      "execution_count": 0,
      "outputs": []
    },
    {
      "cell_type": "code",
      "metadata": {
        "id": "G73qUDpdhywp",
        "colab_type": "code",
        "outputId": "534416a2-766a-4d31-d835-c317ca22399a",
        "colab": {
          "base_uri": "https://localhost:8080/",
          "height": 85
        }
      },
      "source": [
        "# Generate predictions\n",
        "preds = model(data)\n",
        "print(preds)"
      ],
      "execution_count": 234,
      "outputs": [
        {
          "output_type": "stream",
          "text": [
            "tensor([[ 0.8829],\n",
            "        [ 0.5189],\n",
            "        [-0.8731],\n",
            "        [-1.2370]], grad_fn=<AddBackward0>)\n"
          ],
          "name": "stdout"
        }
      ]
    },
    {
      "cell_type": "code",
      "metadata": {
        "id": "UxBgiKKdiCbl",
        "colab_type": "code",
        "colab": {}
      },
      "source": [
        "# Define loss (Mean Squared Error)\n",
        "def mse(t1, t2):\n",
        "  diff = t1 - t2\n",
        "  return torch.sum(diff * diff) / diff.numel()"
      ],
      "execution_count": 0,
      "outputs": []
    },
    {
      "cell_type": "code",
      "metadata": {
        "id": "iKyp5nuJiicF",
        "colab_type": "code",
        "outputId": "b5e38177-def3-4e5d-de56-b21396243cb8",
        "colab": {
          "base_uri": "https://localhost:8080/",
          "height": 34
        }
      },
      "source": [
        "# Compute loss\n",
        "loss = mse(preds, target)\n",
        "print(loss)"
      ],
      "execution_count": 236,
      "outputs": [
        {
          "output_type": "stream",
          "text": [
            "tensor(0.6344, grad_fn=<DivBackward0>)\n"
          ],
          "name": "stdout"
        }
      ]
    },
    {
      "cell_type": "code",
      "metadata": {
        "id": "-4M3Oi3qjE3X",
        "colab_type": "code",
        "colab": {}
      },
      "source": [
        "# Compute gradients (bacward pass through model)\n",
        "loss.backward()"
      ],
      "execution_count": 0,
      "outputs": []
    },
    {
      "cell_type": "code",
      "metadata": {
        "id": "MZDWnGsSjUxr",
        "colab_type": "code",
        "outputId": "1c017595-a9eb-4491-9285-49d7ae5ede91",
        "colab": {
          "base_uri": "https://localhost:8080/",
          "height": 85
        }
      },
      "source": [
        "# Gradients for the weights\n",
        "print(\"weights: \", w)\n",
        "print(\"gradients for weights: \", w.grad)\n",
        "\n",
        "# Gradients for the bias\n",
        "print(\"bias: \", b)\n",
        "print(\"gradients for bias: \", b.grad)"
      ],
      "execution_count": 238,
      "outputs": [
        {
          "output_type": "stream",
          "text": [
            "weights:  tensor([[0.3639, 1.7560]], requires_grad=True)\n",
            "gradients for weights:  tensor([[-0.4951, -0.2991]])\n",
            "bias:  tensor([-1.2370], requires_grad=True)\n",
            "gradients for bias:  tensor([-1.3542])\n"
          ],
          "name": "stdout"
        }
      ]
    },
    {
      "cell_type": "code",
      "metadata": {
        "id": "AOjr-UqCjx4T",
        "colab_type": "code",
        "outputId": "48b180fa-e1fe-4108-ff77-04b6755691a8",
        "colab": {
          "base_uri": "https://localhost:8080/",
          "height": 1000
        }
      },
      "source": [
        "# train for multiple epochs:\n",
        "epochs = 100\n",
        "lr = 1e-5\n",
        "\n",
        "for i in range(epochs):\n",
        "  preds = model(data)\n",
        "  loss = mse(preds, target)\n",
        "  print(\"epoch: \", i, \"loss: \", loss)\n",
        "  loss.backward()\n",
        "  with torch.no_grad():\n",
        "    w -= w.grad * lr\n",
        "    b -= b.grad * lr\n",
        "    w.grad.zero_()\n",
        "    b.grad.zero_()"
      ],
      "execution_count": 239,
      "outputs": [
        {
          "output_type": "stream",
          "text": [
            "epoch:  0 loss:  tensor(0.6344, grad_fn=<DivBackward0>)\n",
            "epoch:  1 loss:  tensor(0.6344, grad_fn=<DivBackward0>)\n",
            "epoch:  2 loss:  tensor(0.6344, grad_fn=<DivBackward0>)\n",
            "epoch:  3 loss:  tensor(0.6343, grad_fn=<DivBackward0>)\n",
            "epoch:  4 loss:  tensor(0.6343, grad_fn=<DivBackward0>)\n",
            "epoch:  5 loss:  tensor(0.6343, grad_fn=<DivBackward0>)\n",
            "epoch:  6 loss:  tensor(0.6343, grad_fn=<DivBackward0>)\n",
            "epoch:  7 loss:  tensor(0.6343, grad_fn=<DivBackward0>)\n",
            "epoch:  8 loss:  tensor(0.6342, grad_fn=<DivBackward0>)\n",
            "epoch:  9 loss:  tensor(0.6342, grad_fn=<DivBackward0>)\n",
            "epoch:  10 loss:  tensor(0.6342, grad_fn=<DivBackward0>)\n",
            "epoch:  11 loss:  tensor(0.6342, grad_fn=<DivBackward0>)\n",
            "epoch:  12 loss:  tensor(0.6342, grad_fn=<DivBackward0>)\n",
            "epoch:  13 loss:  tensor(0.6341, grad_fn=<DivBackward0>)\n",
            "epoch:  14 loss:  tensor(0.6341, grad_fn=<DivBackward0>)\n",
            "epoch:  15 loss:  tensor(0.6341, grad_fn=<DivBackward0>)\n",
            "epoch:  16 loss:  tensor(0.6341, grad_fn=<DivBackward0>)\n",
            "epoch:  17 loss:  tensor(0.6340, grad_fn=<DivBackward0>)\n",
            "epoch:  18 loss:  tensor(0.6340, grad_fn=<DivBackward0>)\n",
            "epoch:  19 loss:  tensor(0.6340, grad_fn=<DivBackward0>)\n",
            "epoch:  20 loss:  tensor(0.6340, grad_fn=<DivBackward0>)\n",
            "epoch:  21 loss:  tensor(0.6340, grad_fn=<DivBackward0>)\n",
            "epoch:  22 loss:  tensor(0.6339, grad_fn=<DivBackward0>)\n",
            "epoch:  23 loss:  tensor(0.6339, grad_fn=<DivBackward0>)\n",
            "epoch:  24 loss:  tensor(0.6339, grad_fn=<DivBackward0>)\n",
            "epoch:  25 loss:  tensor(0.6339, grad_fn=<DivBackward0>)\n",
            "epoch:  26 loss:  tensor(0.6338, grad_fn=<DivBackward0>)\n",
            "epoch:  27 loss:  tensor(0.6338, grad_fn=<DivBackward0>)\n",
            "epoch:  28 loss:  tensor(0.6338, grad_fn=<DivBackward0>)\n",
            "epoch:  29 loss:  tensor(0.6338, grad_fn=<DivBackward0>)\n",
            "epoch:  30 loss:  tensor(0.6338, grad_fn=<DivBackward0>)\n",
            "epoch:  31 loss:  tensor(0.6337, grad_fn=<DivBackward0>)\n",
            "epoch:  32 loss:  tensor(0.6337, grad_fn=<DivBackward0>)\n",
            "epoch:  33 loss:  tensor(0.6337, grad_fn=<DivBackward0>)\n",
            "epoch:  34 loss:  tensor(0.6337, grad_fn=<DivBackward0>)\n",
            "epoch:  35 loss:  tensor(0.6337, grad_fn=<DivBackward0>)\n",
            "epoch:  36 loss:  tensor(0.6336, grad_fn=<DivBackward0>)\n",
            "epoch:  37 loss:  tensor(0.6336, grad_fn=<DivBackward0>)\n",
            "epoch:  38 loss:  tensor(0.6336, grad_fn=<DivBackward0>)\n",
            "epoch:  39 loss:  tensor(0.6336, grad_fn=<DivBackward0>)\n",
            "epoch:  40 loss:  tensor(0.6335, grad_fn=<DivBackward0>)\n",
            "epoch:  41 loss:  tensor(0.6335, grad_fn=<DivBackward0>)\n",
            "epoch:  42 loss:  tensor(0.6335, grad_fn=<DivBackward0>)\n",
            "epoch:  43 loss:  tensor(0.6335, grad_fn=<DivBackward0>)\n",
            "epoch:  44 loss:  tensor(0.6335, grad_fn=<DivBackward0>)\n",
            "epoch:  45 loss:  tensor(0.6334, grad_fn=<DivBackward0>)\n",
            "epoch:  46 loss:  tensor(0.6334, grad_fn=<DivBackward0>)\n",
            "epoch:  47 loss:  tensor(0.6334, grad_fn=<DivBackward0>)\n",
            "epoch:  48 loss:  tensor(0.6334, grad_fn=<DivBackward0>)\n",
            "epoch:  49 loss:  tensor(0.6334, grad_fn=<DivBackward0>)\n",
            "epoch:  50 loss:  tensor(0.6333, grad_fn=<DivBackward0>)\n",
            "epoch:  51 loss:  tensor(0.6333, grad_fn=<DivBackward0>)\n",
            "epoch:  52 loss:  tensor(0.6333, grad_fn=<DivBackward0>)\n",
            "epoch:  53 loss:  tensor(0.6333, grad_fn=<DivBackward0>)\n",
            "epoch:  54 loss:  tensor(0.6332, grad_fn=<DivBackward0>)\n",
            "epoch:  55 loss:  tensor(0.6332, grad_fn=<DivBackward0>)\n",
            "epoch:  56 loss:  tensor(0.6332, grad_fn=<DivBackward0>)\n",
            "epoch:  57 loss:  tensor(0.6332, grad_fn=<DivBackward0>)\n",
            "epoch:  58 loss:  tensor(0.6332, grad_fn=<DivBackward0>)\n",
            "epoch:  59 loss:  tensor(0.6331, grad_fn=<DivBackward0>)\n",
            "epoch:  60 loss:  tensor(0.6331, grad_fn=<DivBackward0>)\n",
            "epoch:  61 loss:  tensor(0.6331, grad_fn=<DivBackward0>)\n",
            "epoch:  62 loss:  tensor(0.6331, grad_fn=<DivBackward0>)\n",
            "epoch:  63 loss:  tensor(0.6331, grad_fn=<DivBackward0>)\n",
            "epoch:  64 loss:  tensor(0.6330, grad_fn=<DivBackward0>)\n",
            "epoch:  65 loss:  tensor(0.6330, grad_fn=<DivBackward0>)\n",
            "epoch:  66 loss:  tensor(0.6330, grad_fn=<DivBackward0>)\n",
            "epoch:  67 loss:  tensor(0.6330, grad_fn=<DivBackward0>)\n",
            "epoch:  68 loss:  tensor(0.6329, grad_fn=<DivBackward0>)\n",
            "epoch:  69 loss:  tensor(0.6329, grad_fn=<DivBackward0>)\n",
            "epoch:  70 loss:  tensor(0.6329, grad_fn=<DivBackward0>)\n",
            "epoch:  71 loss:  tensor(0.6329, grad_fn=<DivBackward0>)\n",
            "epoch:  72 loss:  tensor(0.6329, grad_fn=<DivBackward0>)\n",
            "epoch:  73 loss:  tensor(0.6328, grad_fn=<DivBackward0>)\n",
            "epoch:  74 loss:  tensor(0.6328, grad_fn=<DivBackward0>)\n",
            "epoch:  75 loss:  tensor(0.6328, grad_fn=<DivBackward0>)\n",
            "epoch:  76 loss:  tensor(0.6328, grad_fn=<DivBackward0>)\n",
            "epoch:  77 loss:  tensor(0.6327, grad_fn=<DivBackward0>)\n",
            "epoch:  78 loss:  tensor(0.6327, grad_fn=<DivBackward0>)\n",
            "epoch:  79 loss:  tensor(0.6327, grad_fn=<DivBackward0>)\n",
            "epoch:  80 loss:  tensor(0.6327, grad_fn=<DivBackward0>)\n",
            "epoch:  81 loss:  tensor(0.6327, grad_fn=<DivBackward0>)\n",
            "epoch:  82 loss:  tensor(0.6326, grad_fn=<DivBackward0>)\n",
            "epoch:  83 loss:  tensor(0.6326, grad_fn=<DivBackward0>)\n",
            "epoch:  84 loss:  tensor(0.6326, grad_fn=<DivBackward0>)\n",
            "epoch:  85 loss:  tensor(0.6326, grad_fn=<DivBackward0>)\n",
            "epoch:  86 loss:  tensor(0.6326, grad_fn=<DivBackward0>)\n",
            "epoch:  87 loss:  tensor(0.6325, grad_fn=<DivBackward0>)\n",
            "epoch:  88 loss:  tensor(0.6325, grad_fn=<DivBackward0>)\n",
            "epoch:  89 loss:  tensor(0.6325, grad_fn=<DivBackward0>)\n",
            "epoch:  90 loss:  tensor(0.6325, grad_fn=<DivBackward0>)\n",
            "epoch:  91 loss:  tensor(0.6324, grad_fn=<DivBackward0>)\n",
            "epoch:  92 loss:  tensor(0.6324, grad_fn=<DivBackward0>)\n",
            "epoch:  93 loss:  tensor(0.6324, grad_fn=<DivBackward0>)\n",
            "epoch:  94 loss:  tensor(0.6324, grad_fn=<DivBackward0>)\n",
            "epoch:  95 loss:  tensor(0.6324, grad_fn=<DivBackward0>)\n",
            "epoch:  96 loss:  tensor(0.6323, grad_fn=<DivBackward0>)\n",
            "epoch:  97 loss:  tensor(0.6323, grad_fn=<DivBackward0>)\n",
            "epoch:  98 loss:  tensor(0.6323, grad_fn=<DivBackward0>)\n",
            "epoch:  99 loss:  tensor(0.6323, grad_fn=<DivBackward0>)\n"
          ],
          "name": "stdout"
        }
      ]
    },
    {
      "cell_type": "markdown",
      "metadata": {
        "id": "b3JEhpMp_18K",
        "colab_type": "text"
      },
      "source": [
        "Second step: figure out how to do the linear model on the virtual workers. "
      ]
    },
    {
      "cell_type": "code",
      "metadata": {
        "id": "CNGmeo8SL9BY",
        "colab_type": "code",
        "outputId": "b11e1507-4086-4645-8ea3-30a949f11473",
        "colab": {
          "base_uri": "https://localhost:8080/",
          "height": 224
        }
      },
      "source": [
        "# Create a bob worker and an alice worker.\n",
        "hook = sy.TorchHook(torch)\n",
        "vw = sy.VirtualWorker(hook, id=\"vw\")\n",
        "\n",
        "print(\"vw worker: \", vw._objects)"
      ],
      "execution_count": 240,
      "outputs": [
        {
          "output_type": "stream",
          "text": [
            "W0716 06:03:47.788026 140222424659840 hook.py:98] Torch was already hooked... skipping hooking process\n"
          ],
          "name": "stderr"
        },
        {
          "output_type": "stream",
          "text": [
            "vw worker:  {94232955801: tensor([[1., 1.],\n",
            "        [0., 1.],\n",
            "        [1., 0.],\n",
            "        [0., 0.]], requires_grad=True), 75922181708: tensor([[1.],\n",
            "        [1.],\n",
            "        [0.],\n",
            "        [0.]], requires_grad=True), 44688912794: tensor([[0.2784, 2.5601]], requires_grad=True), 38860858928: tensor([-0.4879], requires_grad=True), 82961638445: tensor([[ 1.3505],\n",
            "        [ 1.0722],\n",
            "        [-0.2095],\n",
            "        [-0.4879]], grad_fn=<SubBackward0>)}\n"
          ],
          "name": "stdout"
        }
      ]
    },
    {
      "cell_type": "code",
      "metadata": {
        "id": "Ao6tGh_JDld4",
        "colab_type": "code",
        "colab": {}
      },
      "source": [
        "# A Toy Dataset\n",
        "# reinitialize and send to worker\n",
        "data_ptr = torch.tensor([[1.,1],[0,1],[1,0],[0,0]], requires_grad=True).send(vw)\n",
        "target_ptr = torch.tensor([[1.],[1], [0], [0]], requires_grad=True).send(vw)"
      ],
      "execution_count": 0,
      "outputs": []
    },
    {
      "cell_type": "code",
      "metadata": {
        "id": "8ZYKP0UsL9Be",
        "colab_type": "code",
        "colab": {}
      },
      "source": [
        "# Generate weights and biases and send to worker\n",
        "w_ptr= torch.randn(1, 2, requires_grad=True).send(vw)\n",
        "b_ptr = torch.randn(1, requires_grad=True).send(vw)"
      ],
      "execution_count": 0,
      "outputs": []
    },
    {
      "cell_type": "code",
      "metadata": {
        "id": "-sl6WkfXFJUT",
        "colab_type": "code",
        "outputId": "a0ec286b-f5e4-4d6e-a56a-997a54cd1cb9",
        "colab": {
          "base_uri": "https://localhost:8080/",
          "height": 187
        }
      },
      "source": [
        "# print vw\n",
        "print(vw._objects)"
      ],
      "execution_count": 243,
      "outputs": [
        {
          "output_type": "stream",
          "text": [
            "{82961638445: tensor([[ 1.3505],\n",
            "        [ 1.0722],\n",
            "        [-0.2095],\n",
            "        [-0.4879]], grad_fn=<SubBackward0>), 58200545665: tensor([[1., 1.],\n",
            "        [0., 1.],\n",
            "        [1., 0.],\n",
            "        [0., 0.]], requires_grad=True), 57202235562: tensor([[1.],\n",
            "        [1.],\n",
            "        [0.],\n",
            "        [0.]], requires_grad=True), 52380553883: tensor([[-0.7915,  0.1694]], requires_grad=True), 64468461730: tensor([-0.3217], requires_grad=True)}\n"
          ],
          "name": "stdout"
        }
      ]
    },
    {
      "cell_type": "code",
      "metadata": {
        "id": "4SpbsuKvL9Bj",
        "colab_type": "code",
        "outputId": "16ead042-e7e0-4ee8-8b7e-2027c67c674d",
        "colab": {
          "base_uri": "https://localhost:8080/",
          "height": 1000
        }
      },
      "source": [
        "# train the model virtually:\n",
        "epochs = 100\n",
        "lr = 1e-5\n",
        "\n",
        "for i in range(epochs):\n",
        "  # calculate predictions\n",
        "  preds = data_ptr @ w_ptr.t() + b_ptr\n",
        "  # calculate loss\n",
        "  diff = preds - target_ptr\n",
        "  loss = torch.sum(diff * diff) / diff.numel()\n",
        "  # print output\n",
        "  print(\"epoch: \", i, \"loss: \", loss)\n",
        "  loss.backward()\n",
        "  with torch.no_grad():\n",
        "    w -= w.grad * lr\n",
        "    b -= b.grad * lr\n",
        "    w.grad.zero_()\n",
        "    b.grad.zero_()"
      ],
      "execution_count": 244,
      "outputs": [
        {
          "output_type": "stream",
          "text": [
            "epoch:  0 loss:  (Wrapper)>[PointerTensor | me:7852246280 -> vw:55917896619]\n",
            "epoch:  1 loss:  (Wrapper)>[PointerTensor | me:17643659430 -> vw:51810513046]\n",
            "epoch:  2 loss:  (Wrapper)>[PointerTensor | me:51542092660 -> vw:86756348920]\n",
            "epoch:  3 loss:  (Wrapper)>[PointerTensor | me:65962605451 -> vw:2848114858]\n",
            "epoch:  4 loss:  (Wrapper)>[PointerTensor | me:52651841838 -> vw:41879360915]\n",
            "epoch:  5 loss:  (Wrapper)>[PointerTensor | me:86255568012 -> vw:96892664970]\n",
            "epoch:  6 loss:  (Wrapper)>[PointerTensor | me:70479287687 -> vw:55523604245]\n",
            "epoch:  7 loss:  (Wrapper)>[PointerTensor | me:13439617704 -> vw:63103749277]\n",
            "epoch:  8 loss:  (Wrapper)>[PointerTensor | me:79989768906 -> vw:59149038246]\n",
            "epoch:  9 loss:  (Wrapper)>[PointerTensor | me:53500657362 -> vw:63783540064]\n",
            "epoch:  10 loss:  (Wrapper)>[PointerTensor | me:1313960585 -> vw:23557126797]\n",
            "epoch:  11 loss:  (Wrapper)>[PointerTensor | me:19250746191 -> vw:7621087706]\n",
            "epoch:  12 loss:  (Wrapper)>[PointerTensor | me:48807586080 -> vw:19614739984]\n",
            "epoch:  13 loss:  (Wrapper)>[PointerTensor | me:391867161 -> vw:84597225830]\n",
            "epoch:  14 loss:  (Wrapper)>[PointerTensor | me:37704421791 -> vw:68883446635]\n",
            "epoch:  15 loss:  (Wrapper)>[PointerTensor | me:77313397032 -> vw:44802131842]\n",
            "epoch:  16 loss:  (Wrapper)>[PointerTensor | me:57032109346 -> vw:43055640100]\n",
            "epoch:  17 loss:  (Wrapper)>[PointerTensor | me:41643969176 -> vw:42248123374]\n",
            "epoch:  18 loss:  (Wrapper)>[PointerTensor | me:1531750729 -> vw:20540945336]\n",
            "epoch:  19 loss:  (Wrapper)>[PointerTensor | me:99395290824 -> vw:24088524799]\n",
            "epoch:  20 loss:  (Wrapper)>[PointerTensor | me:46829021450 -> vw:64318050661]\n",
            "epoch:  21 loss:  (Wrapper)>[PointerTensor | me:76750614628 -> vw:44746074240]\n",
            "epoch:  22 loss:  (Wrapper)>[PointerTensor | me:2463447152 -> vw:69022130415]\n",
            "epoch:  23 loss:  (Wrapper)>[PointerTensor | me:13546607843 -> vw:65487980260]\n",
            "epoch:  24 loss:  (Wrapper)>[PointerTensor | me:16590553172 -> vw:7838155163]\n",
            "epoch:  25 loss:  (Wrapper)>[PointerTensor | me:53017782650 -> vw:75834712886]\n",
            "epoch:  26 loss:  (Wrapper)>[PointerTensor | me:96262458591 -> vw:93944956505]\n",
            "epoch:  27 loss:  (Wrapper)>[PointerTensor | me:29332106567 -> vw:22925550310]\n",
            "epoch:  28 loss:  (Wrapper)>[PointerTensor | me:8533825410 -> vw:37926506653]\n",
            "epoch:  29 loss:  (Wrapper)>[PointerTensor | me:13751656512 -> vw:5935199453]\n",
            "epoch:  30 loss:  (Wrapper)>[PointerTensor | me:56214062500 -> vw:71119019943]\n",
            "epoch:  31 loss:  (Wrapper)>[PointerTensor | me:42625407138 -> vw:44694571435]\n",
            "epoch:  32 loss:  (Wrapper)>[PointerTensor | me:3698970796 -> vw:8680345979]\n",
            "epoch:  33 loss:  (Wrapper)>[PointerTensor | me:86446418910 -> vw:86457862923]\n",
            "epoch:  34 loss:  (Wrapper)>[PointerTensor | me:5586570772 -> vw:68628890288]\n",
            "epoch:  35 loss:  (Wrapper)>[PointerTensor | me:45517228557 -> vw:90038888314]\n",
            "epoch:  36 loss:  (Wrapper)>[PointerTensor | me:34275222527 -> vw:92870620178]\n",
            "epoch:  37 loss:  (Wrapper)>[PointerTensor | me:71511710875 -> vw:18657769910]\n",
            "epoch:  38 loss:  (Wrapper)>[PointerTensor | me:64446789142 -> vw:38999318116]\n",
            "epoch:  39 loss:  (Wrapper)>[PointerTensor | me:38269627290 -> vw:99088501502]\n",
            "epoch:  40 loss:  (Wrapper)>[PointerTensor | me:32072622121 -> vw:70688001822]\n",
            "epoch:  41 loss:  (Wrapper)>[PointerTensor | me:59053486456 -> vw:54336749795]\n",
            "epoch:  42 loss:  (Wrapper)>[PointerTensor | me:20212727661 -> vw:47903802079]\n",
            "epoch:  43 loss:  (Wrapper)>[PointerTensor | me:12230291742 -> vw:63454384583]\n",
            "epoch:  44 loss:  (Wrapper)>[PointerTensor | me:33433755771 -> vw:63157555982]\n",
            "epoch:  45 loss:  (Wrapper)>[PointerTensor | me:25777029372 -> vw:58512132423]\n",
            "epoch:  46 loss:  (Wrapper)>[PointerTensor | me:45746247107 -> vw:7437120791]\n",
            "epoch:  47 loss:  (Wrapper)>[PointerTensor | me:15783014755 -> vw:75988381221]\n",
            "epoch:  48 loss:  (Wrapper)>[PointerTensor | me:73053957020 -> vw:64096718597]\n",
            "epoch:  49 loss:  (Wrapper)>[PointerTensor | me:1348782255 -> vw:58163936100]\n",
            "epoch:  50 loss:  (Wrapper)>[PointerTensor | me:886627811 -> vw:84508921700]\n",
            "epoch:  51 loss:  (Wrapper)>[PointerTensor | me:65036453876 -> vw:40255059003]\n",
            "epoch:  52 loss:  (Wrapper)>[PointerTensor | me:12516026383 -> vw:28238445585]\n",
            "epoch:  53 loss:  (Wrapper)>[PointerTensor | me:16748328547 -> vw:21545336884]\n",
            "epoch:  54 loss:  (Wrapper)>[PointerTensor | me:57970755632 -> vw:97300089704]\n",
            "epoch:  55 loss:  (Wrapper)>[PointerTensor | me:16203354142 -> vw:23336675925]\n",
            "epoch:  56 loss:  (Wrapper)>[PointerTensor | me:468584649 -> vw:87990788355]\n",
            "epoch:  57 loss:  (Wrapper)>[PointerTensor | me:47628455876 -> vw:51362824934]\n",
            "epoch:  58 loss:  (Wrapper)>[PointerTensor | me:80261594723 -> vw:50674017762]\n",
            "epoch:  59 loss:  (Wrapper)>[PointerTensor | me:71816959641 -> vw:66047618023]\n",
            "epoch:  60 loss:  (Wrapper)>[PointerTensor | me:9897286465 -> vw:29117271604]\n",
            "epoch:  61 loss:  (Wrapper)>[PointerTensor | me:36194088148 -> vw:46228860268]\n",
            "epoch:  62 loss:  (Wrapper)>[PointerTensor | me:38534329982 -> vw:27948026452]\n",
            "epoch:  63 loss:  (Wrapper)>[PointerTensor | me:83182376027 -> vw:942339702]\n",
            "epoch:  64 loss:  (Wrapper)>[PointerTensor | me:84438125088 -> vw:94923934808]\n",
            "epoch:  65 loss:  (Wrapper)>[PointerTensor | me:54510792774 -> vw:44566546424]\n",
            "epoch:  66 loss:  (Wrapper)>[PointerTensor | me:16114664924 -> vw:19107381734]\n",
            "epoch:  67 loss:  (Wrapper)>[PointerTensor | me:40657439278 -> vw:52594217674]\n",
            "epoch:  68 loss:  (Wrapper)>[PointerTensor | me:21836675677 -> vw:47837987858]\n",
            "epoch:  69 loss:  (Wrapper)>[PointerTensor | me:44320082459 -> vw:97834025222]\n",
            "epoch:  70 loss:  (Wrapper)>[PointerTensor | me:85577997324 -> vw:30511876526]\n",
            "epoch:  71 loss:  (Wrapper)>[PointerTensor | me:49949832656 -> vw:75650648832]\n",
            "epoch:  72 loss:  (Wrapper)>[PointerTensor | me:36854926638 -> vw:53932848101]\n",
            "epoch:  73 loss:  (Wrapper)>[PointerTensor | me:62347000252 -> vw:94407038953]\n",
            "epoch:  74 loss:  (Wrapper)>[PointerTensor | me:16357248566 -> vw:83588684074]\n",
            "epoch:  75 loss:  (Wrapper)>[PointerTensor | me:20819250403 -> vw:17664676520]\n",
            "epoch:  76 loss:  (Wrapper)>[PointerTensor | me:55032464035 -> vw:68935073966]\n",
            "epoch:  77 loss:  (Wrapper)>[PointerTensor | me:45742517073 -> vw:60606235146]\n",
            "epoch:  78 loss:  (Wrapper)>[PointerTensor | me:37113498418 -> vw:81996723]\n",
            "epoch:  79 loss:  (Wrapper)>[PointerTensor | me:55225147942 -> vw:27100611822]\n",
            "epoch:  80 loss:  (Wrapper)>[PointerTensor | me:13788273579 -> vw:29418609861]\n",
            "epoch:  81 loss:  (Wrapper)>[PointerTensor | me:8914463737 -> vw:93470978191]\n",
            "epoch:  82 loss:  (Wrapper)>[PointerTensor | me:48496096016 -> vw:57696801329]\n",
            "epoch:  83 loss:  (Wrapper)>[PointerTensor | me:65533400334 -> vw:95314365389]\n",
            "epoch:  84 loss:  (Wrapper)>[PointerTensor | me:37017451925 -> vw:22300360858]\n",
            "epoch:  85 loss:  (Wrapper)>[PointerTensor | me:58435078804 -> vw:78241987060]\n",
            "epoch:  86 loss:  (Wrapper)>[PointerTensor | me:67056988074 -> vw:517078405]\n",
            "epoch:  87 loss:  (Wrapper)>[PointerTensor | me:72649353770 -> vw:94305777939]\n",
            "epoch:  88 loss:  (Wrapper)>[PointerTensor | me:26777045610 -> vw:99325465407]\n",
            "epoch:  89 loss:  (Wrapper)>[PointerTensor | me:47760142330 -> vw:197659281]\n",
            "epoch:  90 loss:  (Wrapper)>[PointerTensor | me:39114992139 -> vw:5146021796]\n",
            "epoch:  91 loss:  (Wrapper)>[PointerTensor | me:63122610463 -> vw:17255080054]\n",
            "epoch:  92 loss:  (Wrapper)>[PointerTensor | me:34397626974 -> vw:85376893330]\n",
            "epoch:  93 loss:  (Wrapper)>[PointerTensor | me:22397514715 -> vw:93279218618]\n",
            "epoch:  94 loss:  (Wrapper)>[PointerTensor | me:92760139548 -> vw:52630517840]\n",
            "epoch:  95 loss:  (Wrapper)>[PointerTensor | me:70468016120 -> vw:42712855284]\n",
            "epoch:  96 loss:  (Wrapper)>[PointerTensor | me:94198747480 -> vw:21585357077]\n",
            "epoch:  97 loss:  (Wrapper)>[PointerTensor | me:18612709189 -> vw:88653072616]\n",
            "epoch:  98 loss:  (Wrapper)>[PointerTensor | me:85239151752 -> vw:49024285236]\n",
            "epoch:  99 loss:  (Wrapper)>[PointerTensor | me:93041712995 -> vw:71063292828]\n"
          ],
          "name": "stdout"
        }
      ]
    },
    {
      "cell_type": "code",
      "metadata": {
        "id": "H--sUj2aL9Bp",
        "colab_type": "code",
        "outputId": "2411fd50-0c31-4ab3-f491-d05508ca038e",
        "colab": {
          "base_uri": "https://localhost:8080/",
          "height": 34
        }
      },
      "source": [
        "loss = loss.get()\n",
        "print(\"loss: \", loss)"
      ],
      "execution_count": 245,
      "outputs": [
        {
          "output_type": "stream",
          "text": [
            "loss:  tensor(1.6122, requires_grad=True)\n"
          ],
          "name": "stdout"
        }
      ]
    },
    {
      "cell_type": "markdown",
      "metadata": {
        "id": "lAfIKc8gGY67",
        "colab_type": "text"
      },
      "source": [
        "Instructor's work"
      ]
    },
    {
      "cell_type": "code",
      "metadata": {
        "id": "9kjGeGawfqs4",
        "colab_type": "code",
        "outputId": "945d7b78-7e21-4afc-848b-72535e102799",
        "colab": {
          "base_uri": "https://localhost:8080/",
          "height": 51
        }
      },
      "source": [
        "input = torch.tensor([[1.,1], [0,1], [1,0], [0,0]], requires_grad=True).send(bob)\n",
        "target = torch.tensor([[1.], [1], [0], [0]], requires_grad=True).send(bob)\n",
        "print(input)\n",
        "print(target)"
      ],
      "execution_count": 246,
      "outputs": [
        {
          "output_type": "stream",
          "text": [
            "(Wrapper)>[PointerTensor | me:1622412072 -> bob:28001469492]\n",
            "(Wrapper)>[PointerTensor | me:86768162251 -> bob:96526002484]\n"
          ],
          "name": "stdout"
        }
      ]
    },
    {
      "cell_type": "code",
      "metadata": {
        "id": "XaOaTgGqf9ai",
        "colab_type": "code",
        "outputId": "abf5eab3-5145-406b-c2bc-e2db596a03cd",
        "colab": {
          "base_uri": "https://localhost:8080/",
          "height": 34
        }
      },
      "source": [
        "weights = torch.tensor([[1.], [1]], requires_grad=True).send(bob)\n",
        "print(weights)"
      ],
      "execution_count": 247,
      "outputs": [
        {
          "output_type": "stream",
          "text": [
            "(Wrapper)>[PointerTensor | me:54942580749 -> bob:75443871242]\n"
          ],
          "name": "stdout"
        }
      ]
    },
    {
      "cell_type": "code",
      "metadata": {
        "id": "EtBIDIpIf9Sx",
        "colab_type": "code",
        "outputId": "7a98af72-99e1-41b5-b673-9a7d1e7d64c7",
        "colab": {
          "base_uri": "https://localhost:8080/",
          "height": 34
        }
      },
      "source": [
        "pred = input.mm(weights)\n",
        "print(pred)"
      ],
      "execution_count": 248,
      "outputs": [
        {
          "output_type": "stream",
          "text": [
            "(Wrapper)>[PointerTensor | me:66582509744 -> bob:91053147796]\n"
          ],
          "name": "stdout"
        }
      ]
    },
    {
      "cell_type": "code",
      "metadata": {
        "id": "8nCr9F1UH2YE",
        "colab_type": "code",
        "colab": {}
      },
      "source": [
        "loss = ((pred - target)**2).sum()"
      ],
      "execution_count": 0,
      "outputs": []
    },
    {
      "cell_type": "code",
      "metadata": {
        "id": "m11BuDL8H_CW",
        "colab_type": "code",
        "outputId": "c973284c-37e6-4b42-da00-338ace7d1ff6",
        "colab": {
          "base_uri": "https://localhost:8080/",
          "height": 34
        }
      },
      "source": [
        "loss.backward()"
      ],
      "execution_count": 250,
      "outputs": [
        {
          "output_type": "execute_result",
          "data": {
            "text/plain": [
              "(Wrapper)>[PointerTensor | me:60724472316 -> bob:99601149825]"
            ]
          },
          "metadata": {
            "tags": []
          },
          "execution_count": 250
        }
      ]
    },
    {
      "cell_type": "code",
      "metadata": {
        "id": "yMT7qoXGIBnu",
        "colab_type": "code",
        "outputId": "a2ec2529-abe8-47de-cd4c-187575fc620e",
        "colab": {
          "base_uri": "https://localhost:8080/",
          "height": 34
        }
      },
      "source": [
        "weights.data.sub_(weights.grad * 0.1)\n",
        "weights.grad *= 0\n",
        "\n",
        "print(loss.get().data)"
      ],
      "execution_count": 251,
      "outputs": [
        {
          "output_type": "stream",
          "text": [
            "tensor(2.)\n"
          ],
          "name": "stdout"
        }
      ]
    },
    {
      "cell_type": "code",
      "metadata": {
        "id": "v2FBnYzJf9Ix",
        "colab_type": "code",
        "outputId": "ca204221-c8ed-4f5d-a8f5-6a67c35bee48",
        "colab": {
          "base_uri": "https://localhost:8080/",
          "height": 187
        }
      },
      "source": [
        "for i in range(10):\n",
        "  pred = input.mm(weights)\n",
        "  loss = ((pred - target)**2).sum()\n",
        "  loss.backward()\n",
        "  weights.data.sub_(weights.grad * 0.1)\n",
        "  weights.grad *= 0\n",
        "\n",
        "  print(loss.get().data)"
      ],
      "execution_count": 252,
      "outputs": [
        {
          "output_type": "stream",
          "text": [
            "tensor(0.5600)\n",
            "tensor(0.2432)\n",
            "tensor(0.1372)\n",
            "tensor(0.0849)\n",
            "tensor(0.0538)\n",
            "tensor(0.0344)\n",
            "tensor(0.0220)\n",
            "tensor(0.0141)\n",
            "tensor(0.0090)\n",
            "tensor(0.0058)\n"
          ],
          "name": "stdout"
        }
      ]
    },
    {
      "cell_type": "code",
      "metadata": {
        "id": "CVENOfQLhUn_",
        "colab_type": "code",
        "colab": {}
      },
      "source": [
        ""
      ],
      "execution_count": 0,
      "outputs": []
    },
    {
      "cell_type": "code",
      "metadata": {
        "id": "ztVgtIKlhUeS",
        "colab_type": "code",
        "colab": {}
      },
      "source": [
        ""
      ],
      "execution_count": 0,
      "outputs": []
    },
    {
      "cell_type": "code",
      "metadata": {
        "id": "d4ILjblyhUVu",
        "colab_type": "code",
        "colab": {}
      },
      "source": [
        ""
      ],
      "execution_count": 0,
      "outputs": []
    },
    {
      "cell_type": "code",
      "metadata": {
        "id": "FSdNeW76frLW",
        "colab_type": "code",
        "colab": {}
      },
      "source": [
        ""
      ],
      "execution_count": 0,
      "outputs": []
    },
    {
      "cell_type": "markdown",
      "metadata": {
        "id": "QB9PfCYmL9Bv",
        "colab_type": "text"
      },
      "source": [
        "# Lesson: Garbage Collection and Common Errors\n"
      ]
    },
    {
      "cell_type": "code",
      "metadata": {
        "id": "LHSTljMiL9Bw",
        "colab_type": "code",
        "colab": {}
      },
      "source": [
        "bob = bob.clear_objects()"
      ],
      "execution_count": 0,
      "outputs": []
    },
    {
      "cell_type": "code",
      "metadata": {
        "id": "YrVM17V8L9B2",
        "colab_type": "code",
        "colab": {
          "base_uri": "https://localhost:8080/",
          "height": 34
        },
        "outputId": "d39a55aa-8610-4e26-9c58-5c6a5dbe0ffb"
      },
      "source": [
        "bob._objects"
      ],
      "execution_count": 254,
      "outputs": [
        {
          "output_type": "execute_result",
          "data": {
            "text/plain": [
              "{}"
            ]
          },
          "metadata": {
            "tags": []
          },
          "execution_count": 254
        }
      ]
    },
    {
      "cell_type": "code",
      "metadata": {
        "id": "TaH2nkg7L9CD",
        "colab_type": "code",
        "colab": {}
      },
      "source": [
        "x = torch.tensor([1,2,3,4,5]).send(bob)"
      ],
      "execution_count": 0,
      "outputs": []
    },
    {
      "cell_type": "code",
      "metadata": {
        "id": "VkYN3FMeL9CI",
        "colab_type": "code",
        "colab": {
          "base_uri": "https://localhost:8080/",
          "height": 34
        },
        "outputId": "6dc9c722-d2a5-4b5b-b879-43b86d9fb1f4"
      },
      "source": [
        "bob._objects"
      ],
      "execution_count": 256,
      "outputs": [
        {
          "output_type": "execute_result",
          "data": {
            "text/plain": [
              "{90068992324: tensor([1, 2, 3, 4, 5])}"
            ]
          },
          "metadata": {
            "tags": []
          },
          "execution_count": 256
        }
      ]
    },
    {
      "cell_type": "code",
      "metadata": {
        "id": "wI0GZDgQL9CR",
        "colab_type": "code",
        "colab": {}
      },
      "source": [
        "del x"
      ],
      "execution_count": 0,
      "outputs": []
    },
    {
      "cell_type": "code",
      "metadata": {
        "id": "w5aAbXNyL9Cd",
        "colab_type": "code",
        "colab": {
          "base_uri": "https://localhost:8080/",
          "height": 34
        },
        "outputId": "283810a1-5636-439d-be5f-d0f6a0787c4c"
      },
      "source": [
        "bob._objects"
      ],
      "execution_count": 258,
      "outputs": [
        {
          "output_type": "execute_result",
          "data": {
            "text/plain": [
              "{}"
            ]
          },
          "metadata": {
            "tags": []
          },
          "execution_count": 258
        }
      ]
    },
    {
      "cell_type": "code",
      "metadata": {
        "id": "LO65300IL9Cm",
        "colab_type": "code",
        "colab": {}
      },
      "source": [
        "x = torch.tensor([1,2,3,4,5]).send(bob)"
      ],
      "execution_count": 0,
      "outputs": []
    },
    {
      "cell_type": "code",
      "metadata": {
        "id": "ufqNT8K3L9Cr",
        "colab_type": "code",
        "colab": {
          "base_uri": "https://localhost:8080/",
          "height": 34
        },
        "outputId": "6e6eac2c-9caf-4fa8-f729-eef7eb0972ac"
      },
      "source": [
        "bob._objects"
      ],
      "execution_count": 260,
      "outputs": [
        {
          "output_type": "execute_result",
          "data": {
            "text/plain": [
              "{15058826800: tensor([1, 2, 3, 4, 5])}"
            ]
          },
          "metadata": {
            "tags": []
          },
          "execution_count": 260
        }
      ]
    },
    {
      "cell_type": "code",
      "metadata": {
        "id": "L9za1sWKL9C1",
        "colab_type": "code",
        "colab": {}
      },
      "source": [
        "x = \"asdf\""
      ],
      "execution_count": 0,
      "outputs": []
    },
    {
      "cell_type": "code",
      "metadata": {
        "id": "69SRuGuiL9C7",
        "colab_type": "code",
        "colab": {
          "base_uri": "https://localhost:8080/",
          "height": 34
        },
        "outputId": "1e721f24-1da8-4644-e1f2-6e412826c72f"
      },
      "source": [
        "bob._objects"
      ],
      "execution_count": 262,
      "outputs": [
        {
          "output_type": "execute_result",
          "data": {
            "text/plain": [
              "{}"
            ]
          },
          "metadata": {
            "tags": []
          },
          "execution_count": 262
        }
      ]
    },
    {
      "cell_type": "code",
      "metadata": {
        "id": "VKqtGJtlL9DM",
        "colab_type": "code",
        "colab": {}
      },
      "source": [
        "x = torch.tensor([1,2,3,4,5]).send(bob)"
      ],
      "execution_count": 0,
      "outputs": []
    },
    {
      "cell_type": "code",
      "metadata": {
        "id": "kh8nJpEtL9DW",
        "colab_type": "code",
        "colab": {
          "base_uri": "https://localhost:8080/",
          "height": 34
        },
        "outputId": "cf00329b-798c-4323-f251-6a13380b36c7"
      },
      "source": [
        "x"
      ],
      "execution_count": 264,
      "outputs": [
        {
          "output_type": "execute_result",
          "data": {
            "text/plain": [
              "(Wrapper)>[PointerTensor | me:50210521639 -> bob:30494273952]"
            ]
          },
          "metadata": {
            "tags": []
          },
          "execution_count": 264
        }
      ]
    },
    {
      "cell_type": "code",
      "metadata": {
        "id": "Q4Yd3jrtL9Dc",
        "colab_type": "code",
        "colab": {
          "base_uri": "https://localhost:8080/",
          "height": 34
        },
        "outputId": "3ba20260-e612-49db-b37f-98124fa352d8"
      },
      "source": [
        "bob._objects"
      ],
      "execution_count": 265,
      "outputs": [
        {
          "output_type": "execute_result",
          "data": {
            "text/plain": [
              "{30494273952: tensor([1, 2, 3, 4, 5])}"
            ]
          },
          "metadata": {
            "tags": []
          },
          "execution_count": 265
        }
      ]
    },
    {
      "cell_type": "code",
      "metadata": {
        "id": "-V-IRgU9L9Dl",
        "colab_type": "code",
        "colab": {}
      },
      "source": [
        "x = \"asdf\""
      ],
      "execution_count": 0,
      "outputs": []
    },
    {
      "cell_type": "code",
      "metadata": {
        "id": "sNpWV1VyL9Dt",
        "colab_type": "code",
        "colab": {
          "base_uri": "https://localhost:8080/",
          "height": 34
        },
        "outputId": "8f9f1249-9ea6-4f46-b659-5c5fb8c109d2"
      },
      "source": [
        "bob._objects"
      ],
      "execution_count": 267,
      "outputs": [
        {
          "output_type": "execute_result",
          "data": {
            "text/plain": [
              "{30494273952: tensor([1, 2, 3, 4, 5])}"
            ]
          },
          "metadata": {
            "tags": []
          },
          "execution_count": 267
        }
      ]
    },
    {
      "cell_type": "code",
      "metadata": {
        "id": "jHtQTrIIL9D3",
        "colab_type": "code",
        "colab": {}
      },
      "source": [
        "del x"
      ],
      "execution_count": 0,
      "outputs": []
    },
    {
      "cell_type": "code",
      "metadata": {
        "id": "oKNCFlPQL9D7",
        "colab_type": "code",
        "colab": {
          "base_uri": "https://localhost:8080/",
          "height": 34
        },
        "outputId": "8b10c77e-a96a-4611-d48a-7a0d3a8d0a9a"
      },
      "source": [
        "bob._objects"
      ],
      "execution_count": 269,
      "outputs": [
        {
          "output_type": "execute_result",
          "data": {
            "text/plain": [
              "{30494273952: tensor([1, 2, 3, 4, 5])}"
            ]
          },
          "metadata": {
            "tags": []
          },
          "execution_count": 269
        }
      ]
    },
    {
      "cell_type": "code",
      "metadata": {
        "id": "W9oZGlOgL9EB",
        "colab_type": "code",
        "colab": {
          "base_uri": "https://localhost:8080/",
          "height": 34
        },
        "outputId": "66c29ac9-658b-431d-c789-e1431d558fc7"
      },
      "source": [
        "bob = bob.clear_objects()\n",
        "bob._objects"
      ],
      "execution_count": 270,
      "outputs": [
        {
          "output_type": "execute_result",
          "data": {
            "text/plain": [
              "{}"
            ]
          },
          "metadata": {
            "tags": []
          },
          "execution_count": 270
        }
      ]
    },
    {
      "cell_type": "code",
      "metadata": {
        "id": "rb-GEPErL9EH",
        "colab_type": "code",
        "colab": {}
      },
      "source": [
        "for i in range(1000):\n",
        "    x = torch.tensor([1,2,3,4,5]).send(bob)"
      ],
      "execution_count": 0,
      "outputs": []
    },
    {
      "cell_type": "code",
      "metadata": {
        "id": "VPbS2wS8L9EL",
        "colab_type": "code",
        "colab": {
          "base_uri": "https://localhost:8080/",
          "height": 34
        },
        "outputId": "5fc6e1db-32f5-443a-b1b7-6c9ca7e11a29"
      },
      "source": [
        "bob._objects"
      ],
      "execution_count": 272,
      "outputs": [
        {
          "output_type": "execute_result",
          "data": {
            "text/plain": [
              "{2051403999: tensor([1, 2, 3, 4, 5])}"
            ]
          },
          "metadata": {
            "tags": []
          },
          "execution_count": 272
        }
      ]
    },
    {
      "cell_type": "code",
      "metadata": {
        "id": "Yn5MhwoJL9ES",
        "colab_type": "code",
        "colab": {}
      },
      "source": [
        "x = torch.tensor([1,2,3,4,5]).send(bob)\n",
        "y = torch.tensor([1,1,1,1,1])"
      ],
      "execution_count": 0,
      "outputs": []
    },
    {
      "cell_type": "code",
      "metadata": {
        "id": "wMIP0RAJL9EW",
        "colab_type": "code",
        "colab": {
          "base_uri": "https://localhost:8080/",
          "height": 497
        },
        "outputId": "7949d598-1cb1-4972-cec6-ff60e6e60eec"
      },
      "source": [
        "z = x + y"
      ],
      "execution_count": 274,
      "outputs": [
        {
          "output_type": "error",
          "ename": "TensorsNotCollocatedException",
          "evalue": "ignored",
          "traceback": [
            "\u001b[0;31m---------------------------------------------------------------------------\u001b[0m",
            "\u001b[0;31mPureTorchTensorFoundError\u001b[0m                 Traceback (most recent call last)",
            "\u001b[0;32m/content/PySyft/syft/frameworks/torch/hook/hook.py\u001b[0m in \u001b[0;36moverloaded_native_method\u001b[0;34m(self, *args, **kwargs)\u001b[0m\n\u001b[1;32m    668\u001b[0m                     new_self, new_args, new_kwargs = syft.frameworks.torch.hook_args.hook_method_args(\n\u001b[0;32m--> 669\u001b[0;31m                         \u001b[0mmethod_name\u001b[0m\u001b[0;34m,\u001b[0m \u001b[0mself\u001b[0m\u001b[0;34m,\u001b[0m \u001b[0margs\u001b[0m\u001b[0;34m,\u001b[0m \u001b[0mkwargs\u001b[0m\u001b[0;34m\u001b[0m\u001b[0;34m\u001b[0m\u001b[0m\n\u001b[0m\u001b[1;32m    670\u001b[0m                     )\n",
            "\u001b[0;32m/content/PySyft/syft/frameworks/torch/hook/hook_args.py\u001b[0m in \u001b[0;36mhook_method_args\u001b[0;34m(attr, method_self, args, kwargs)\u001b[0m\n\u001b[1;32m    121\u001b[0m         \u001b[0;31m# Try running it\u001b[0m\u001b[0;34m\u001b[0m\u001b[0;34m\u001b[0m\u001b[0;34m\u001b[0m\u001b[0m\n\u001b[0;32m--> 122\u001b[0;31m         \u001b[0mnew_self\u001b[0m\u001b[0;34m,\u001b[0m \u001b[0mnew_args\u001b[0m \u001b[0;34m=\u001b[0m \u001b[0mhook_args\u001b[0m\u001b[0;34m(\u001b[0m\u001b[0;34m(\u001b[0m\u001b[0mmethod_self\u001b[0m\u001b[0;34m,\u001b[0m \u001b[0margs\u001b[0m\u001b[0;34m)\u001b[0m\u001b[0;34m)\u001b[0m\u001b[0;34m\u001b[0m\u001b[0;34m\u001b[0m\u001b[0m\n\u001b[0m\u001b[1;32m    123\u001b[0m \u001b[0;34m\u001b[0m\u001b[0m\n",
            "\u001b[0;32m/content/PySyft/syft/frameworks/torch/hook/hook_args.py\u001b[0m in \u001b[0;36m<lambda>\u001b[0;34m(x)\u001b[0m\n\u001b[1;32m    350\u001b[0m \u001b[0;34m\u001b[0m\u001b[0m\n\u001b[0;32m--> 351\u001b[0;31m     \u001b[0;32mreturn\u001b[0m \u001b[0;32mlambda\u001b[0m \u001b[0mx\u001b[0m\u001b[0;34m:\u001b[0m \u001b[0mf\u001b[0m\u001b[0;34m(\u001b[0m\u001b[0mlambdas\u001b[0m\u001b[0;34m,\u001b[0m \u001b[0mx\u001b[0m\u001b[0;34m)\u001b[0m\u001b[0;34m\u001b[0m\u001b[0;34m\u001b[0m\u001b[0m\n\u001b[0m\u001b[1;32m    352\u001b[0m \u001b[0;34m\u001b[0m\u001b[0m\n",
            "\u001b[0;32m/content/PySyft/syft/frameworks/torch/hook/hook_args.py\u001b[0m in \u001b[0;36mtwo_fold\u001b[0;34m(lambdas, args, **kwargs)\u001b[0m\n\u001b[1;32m    515\u001b[0m \u001b[0;32mdef\u001b[0m \u001b[0mtwo_fold\u001b[0m\u001b[0;34m(\u001b[0m\u001b[0mlambdas\u001b[0m\u001b[0;34m,\u001b[0m \u001b[0margs\u001b[0m\u001b[0;34m,\u001b[0m \u001b[0;34m**\u001b[0m\u001b[0mkwargs\u001b[0m\u001b[0;34m)\u001b[0m\u001b[0;34m:\u001b[0m\u001b[0;34m\u001b[0m\u001b[0;34m\u001b[0m\u001b[0m\n\u001b[0;32m--> 516\u001b[0;31m     \u001b[0;32mreturn\u001b[0m \u001b[0mlambdas\u001b[0m\u001b[0;34m[\u001b[0m\u001b[0;36m0\u001b[0m\u001b[0;34m]\u001b[0m\u001b[0;34m(\u001b[0m\u001b[0margs\u001b[0m\u001b[0;34m[\u001b[0m\u001b[0;36m0\u001b[0m\u001b[0;34m]\u001b[0m\u001b[0;34m,\u001b[0m \u001b[0;34m**\u001b[0m\u001b[0mkwargs\u001b[0m\u001b[0;34m)\u001b[0m\u001b[0;34m,\u001b[0m \u001b[0mlambdas\u001b[0m\u001b[0;34m[\u001b[0m\u001b[0;36m1\u001b[0m\u001b[0;34m]\u001b[0m\u001b[0;34m(\u001b[0m\u001b[0margs\u001b[0m\u001b[0;34m[\u001b[0m\u001b[0;36m1\u001b[0m\u001b[0;34m]\u001b[0m\u001b[0;34m,\u001b[0m \u001b[0;34m**\u001b[0m\u001b[0mkwargs\u001b[0m\u001b[0;34m)\u001b[0m\u001b[0;34m\u001b[0m\u001b[0;34m\u001b[0m\u001b[0m\n\u001b[0m\u001b[1;32m    517\u001b[0m \u001b[0;34m\u001b[0m\u001b[0m\n",
            "\u001b[0;32m/content/PySyft/syft/frameworks/torch/hook/hook_args.py\u001b[0m in \u001b[0;36m<lambda>\u001b[0;34m(x)\u001b[0m\n\u001b[1;32m    350\u001b[0m \u001b[0;34m\u001b[0m\u001b[0m\n\u001b[0;32m--> 351\u001b[0;31m     \u001b[0;32mreturn\u001b[0m \u001b[0;32mlambda\u001b[0m \u001b[0mx\u001b[0m\u001b[0;34m:\u001b[0m \u001b[0mf\u001b[0m\u001b[0;34m(\u001b[0m\u001b[0mlambdas\u001b[0m\u001b[0;34m,\u001b[0m \u001b[0mx\u001b[0m\u001b[0;34m)\u001b[0m\u001b[0;34m\u001b[0m\u001b[0;34m\u001b[0m\u001b[0m\n\u001b[0m\u001b[1;32m    352\u001b[0m \u001b[0;34m\u001b[0m\u001b[0m\n",
            "\u001b[0;32m/content/PySyft/syft/frameworks/torch/hook/hook_args.py\u001b[0m in \u001b[0;36mtuple_one_fold\u001b[0;34m(lambdas, args)\u001b[0m\n\u001b[1;32m    509\u001b[0m     \u001b[0;32mdef\u001b[0m \u001b[0mtuple_one_fold\u001b[0m\u001b[0;34m(\u001b[0m\u001b[0mlambdas\u001b[0m\u001b[0;34m,\u001b[0m \u001b[0margs\u001b[0m\u001b[0;34m)\u001b[0m\u001b[0;34m:\u001b[0m\u001b[0;34m\u001b[0m\u001b[0;34m\u001b[0m\u001b[0m\n\u001b[0;32m--> 510\u001b[0;31m         \u001b[0;32mreturn\u001b[0m \u001b[0;34m(\u001b[0m\u001b[0mlambdas\u001b[0m\u001b[0;34m[\u001b[0m\u001b[0;36m0\u001b[0m\u001b[0;34m]\u001b[0m\u001b[0;34m(\u001b[0m\u001b[0margs\u001b[0m\u001b[0;34m[\u001b[0m\u001b[0;36m0\u001b[0m\u001b[0;34m]\u001b[0m\u001b[0;34m,\u001b[0m \u001b[0;34m**\u001b[0m\u001b[0mkwargs\u001b[0m\u001b[0;34m)\u001b[0m\u001b[0;34m,\u001b[0m\u001b[0;34m)\u001b[0m\u001b[0;34m\u001b[0m\u001b[0;34m\u001b[0m\u001b[0m\n\u001b[0m\u001b[1;32m    511\u001b[0m \u001b[0;34m\u001b[0m\u001b[0m\n",
            "\u001b[0;32m/content/PySyft/syft/frameworks/torch/hook/hook_args.py\u001b[0m in \u001b[0;36m<lambda>\u001b[0;34m(i)\u001b[0m\n\u001b[1;32m    328\u001b[0m         \u001b[0;31m# Last if not, rule is probably == 1 so use type to return the right transformation.\u001b[0m\u001b[0;34m\u001b[0m\u001b[0;34m\u001b[0m\u001b[0;34m\u001b[0m\u001b[0m\n\u001b[0;32m--> 329\u001b[0;31m         \u001b[0;32melse\u001b[0m \u001b[0;32mlambda\u001b[0m \u001b[0mi\u001b[0m\u001b[0;34m:\u001b[0m \u001b[0mforward_func\u001b[0m\u001b[0;34m[\u001b[0m\u001b[0mtype\u001b[0m\u001b[0;34m(\u001b[0m\u001b[0mi\u001b[0m\u001b[0;34m)\u001b[0m\u001b[0;34m]\u001b[0m\u001b[0;34m(\u001b[0m\u001b[0mi\u001b[0m\u001b[0;34m)\u001b[0m\u001b[0;34m\u001b[0m\u001b[0;34m\u001b[0m\u001b[0m\n\u001b[0m\u001b[1;32m    330\u001b[0m         \u001b[0;32mfor\u001b[0m \u001b[0ma\u001b[0m\u001b[0;34m,\u001b[0m \u001b[0mr\u001b[0m \u001b[0;32min\u001b[0m \u001b[0mzip\u001b[0m\u001b[0;34m(\u001b[0m\u001b[0margs\u001b[0m\u001b[0;34m,\u001b[0m \u001b[0mrules\u001b[0m\u001b[0;34m)\u001b[0m  \u001b[0;31m# And do this for all the args / rules provided\u001b[0m\u001b[0;34m\u001b[0m\u001b[0;34m\u001b[0m\u001b[0m\n",
            "\u001b[0;32m/content/PySyft/syft/frameworks/torch/hook/hook_args.py\u001b[0m in \u001b[0;36m<lambda>\u001b[0;34m(i)\u001b[0m\n\u001b[1;32m     55\u001b[0m     \u001b[0;32mif\u001b[0m \u001b[0mhasattr\u001b[0m\u001b[0;34m(\u001b[0m\u001b[0mi\u001b[0m\u001b[0;34m,\u001b[0m \u001b[0;34m\"child\"\u001b[0m\u001b[0;34m)\u001b[0m\u001b[0;34m\u001b[0m\u001b[0;34m\u001b[0m\u001b[0m\n\u001b[0;32m---> 56\u001b[0;31m     \u001b[0;32melse\u001b[0m \u001b[0;34m(\u001b[0m\u001b[0m_\u001b[0m \u001b[0;32mfor\u001b[0m \u001b[0m_\u001b[0m \u001b[0;32min\u001b[0m \u001b[0;34m(\u001b[0m\u001b[0;34m)\u001b[0m\u001b[0;34m)\u001b[0m\u001b[0;34m.\u001b[0m\u001b[0mthrow\u001b[0m\u001b[0;34m(\u001b[0m\u001b[0mPureTorchTensorFoundError\u001b[0m\u001b[0;34m)\u001b[0m\u001b[0;34m,\u001b[0m\u001b[0;34m\u001b[0m\u001b[0;34m\u001b[0m\u001b[0m\n\u001b[0m\u001b[1;32m     57\u001b[0m     \u001b[0mtorch\u001b[0m\u001b[0;34m.\u001b[0m\u001b[0mnn\u001b[0m\u001b[0;34m.\u001b[0m\u001b[0mParameter\u001b[0m\u001b[0;34m:\u001b[0m \u001b[0;32mlambda\u001b[0m \u001b[0mi\u001b[0m\u001b[0;34m:\u001b[0m \u001b[0mi\u001b[0m\u001b[0;34m.\u001b[0m\u001b[0mchild\u001b[0m\u001b[0;34m\u001b[0m\u001b[0;34m\u001b[0m\u001b[0m\n",
            "\u001b[0;32m/content/PySyft/syft/frameworks/torch/hook/hook_args.py\u001b[0m in \u001b[0;36m<genexpr>\u001b[0;34m(.0)\u001b[0m\n\u001b[1;32m     55\u001b[0m     \u001b[0;32mif\u001b[0m \u001b[0mhasattr\u001b[0m\u001b[0;34m(\u001b[0m\u001b[0mi\u001b[0m\u001b[0;34m,\u001b[0m \u001b[0;34m\"child\"\u001b[0m\u001b[0;34m)\u001b[0m\u001b[0;34m\u001b[0m\u001b[0;34m\u001b[0m\u001b[0m\n\u001b[0;32m---> 56\u001b[0;31m     \u001b[0;32melse\u001b[0m \u001b[0;34m(\u001b[0m\u001b[0m_\u001b[0m \u001b[0;32mfor\u001b[0m \u001b[0m_\u001b[0m \u001b[0;32min\u001b[0m \u001b[0;34m(\u001b[0m\u001b[0;34m)\u001b[0m\u001b[0;34m)\u001b[0m\u001b[0;34m.\u001b[0m\u001b[0mthrow\u001b[0m\u001b[0;34m(\u001b[0m\u001b[0mPureTorchTensorFoundError\u001b[0m\u001b[0;34m)\u001b[0m\u001b[0;34m,\u001b[0m\u001b[0;34m\u001b[0m\u001b[0;34m\u001b[0m\u001b[0m\n\u001b[0m\u001b[1;32m     57\u001b[0m     \u001b[0mtorch\u001b[0m\u001b[0;34m.\u001b[0m\u001b[0mnn\u001b[0m\u001b[0;34m.\u001b[0m\u001b[0mParameter\u001b[0m\u001b[0;34m:\u001b[0m \u001b[0;32mlambda\u001b[0m \u001b[0mi\u001b[0m\u001b[0;34m:\u001b[0m \u001b[0mi\u001b[0m\u001b[0;34m.\u001b[0m\u001b[0mchild\u001b[0m\u001b[0;34m\u001b[0m\u001b[0;34m\u001b[0m\u001b[0m\n",
            "\u001b[0;31mPureTorchTensorFoundError\u001b[0m: ",
            "\nDuring handling of the above exception, another exception occurred:\n",
            "\u001b[0;31mTensorsNotCollocatedException\u001b[0m             Traceback (most recent call last)",
            "\u001b[0;32m<ipython-input-274-8c8f78e0676d>\u001b[0m in \u001b[0;36m<module>\u001b[0;34m()\u001b[0m\n\u001b[0;32m----> 1\u001b[0;31m \u001b[0mz\u001b[0m \u001b[0;34m=\u001b[0m \u001b[0mx\u001b[0m \u001b[0;34m+\u001b[0m \u001b[0my\u001b[0m\u001b[0;34m\u001b[0m\u001b[0;34m\u001b[0m\u001b[0m\n\u001b[0m",
            "\u001b[0;32m/content/PySyft/syft/frameworks/torch/hook/hook.py\u001b[0m in \u001b[0;36moverloaded_native_method\u001b[0;34m(self, *args, **kwargs)\u001b[0m\n\u001b[1;32m    671\u001b[0m                 \u001b[0;32mexcept\u001b[0m \u001b[0mBaseException\u001b[0m \u001b[0;32mas\u001b[0m \u001b[0me\u001b[0m\u001b[0;34m:\u001b[0m\u001b[0;34m\u001b[0m\u001b[0;34m\u001b[0m\u001b[0m\n\u001b[1;32m    672\u001b[0m                     \u001b[0;31m# we can make some errors more descriptive with this method\u001b[0m\u001b[0;34m\u001b[0m\u001b[0;34m\u001b[0m\u001b[0;34m\u001b[0m\u001b[0m\n\u001b[0;32m--> 673\u001b[0;31m                     \u001b[0;32mraise\u001b[0m \u001b[0mroute_method_exception\u001b[0m\u001b[0;34m(\u001b[0m\u001b[0me\u001b[0m\u001b[0;34m,\u001b[0m \u001b[0mself\u001b[0m\u001b[0;34m,\u001b[0m \u001b[0margs\u001b[0m\u001b[0;34m,\u001b[0m \u001b[0mkwargs\u001b[0m\u001b[0;34m)\u001b[0m\u001b[0;34m\u001b[0m\u001b[0;34m\u001b[0m\u001b[0m\n\u001b[0m\u001b[1;32m    674\u001b[0m \u001b[0;34m\u001b[0m\u001b[0m\n\u001b[1;32m    675\u001b[0m                 \u001b[0;31m# Send the new command to the appropriate class and get the response\u001b[0m\u001b[0;34m\u001b[0m\u001b[0;34m\u001b[0m\u001b[0;34m\u001b[0m\u001b[0m\n",
            "\u001b[0;31mTensorsNotCollocatedException\u001b[0m: You tried to call a method involving two tensors where one tensor is actually located on another machine (is a PointerTensor). Call .get() on the PointerTensor or .send(bob) on the other tensor.\n\nTensor A: [PointerTensor | me:17439765094 -> bob:35413977796]\nTensor B: tensor([1, 1, 1, 1, 1])"
          ]
        }
      ]
    },
    {
      "cell_type": "code",
      "metadata": {
        "id": "-cwZw4E4L9Eg",
        "colab_type": "code",
        "colab": {}
      },
      "source": [
        "x = torch.tensor([1,2,3,4,5]).send(bob)\n",
        "y = torch.tensor([1,1,1,1,1]).send(alice)"
      ],
      "execution_count": 0,
      "outputs": []
    },
    {
      "cell_type": "code",
      "metadata": {
        "id": "Z3shwk-JL9Eo",
        "colab_type": "code",
        "colab": {
          "base_uri": "https://localhost:8080/",
          "height": 327
        },
        "outputId": "c317b322-ac04-40cb-aa44-0d8d5fb43617"
      },
      "source": [
        "z = x + y"
      ],
      "execution_count": 276,
      "outputs": [
        {
          "output_type": "error",
          "ename": "TensorsNotCollocatedException",
          "evalue": "ignored",
          "traceback": [
            "\u001b[0;31m---------------------------------------------------------------------------\u001b[0m",
            "\u001b[0;31mTensorsNotCollocatedException\u001b[0m             Traceback (most recent call last)",
            "\u001b[0;32m<ipython-input-276-8c8f78e0676d>\u001b[0m in \u001b[0;36m<module>\u001b[0;34m()\u001b[0m\n\u001b[0;32m----> 1\u001b[0;31m \u001b[0mz\u001b[0m \u001b[0;34m=\u001b[0m \u001b[0mx\u001b[0m \u001b[0;34m+\u001b[0m \u001b[0my\u001b[0m\u001b[0;34m\u001b[0m\u001b[0;34m\u001b[0m\u001b[0m\n\u001b[0m",
            "\u001b[0;32m/content/PySyft/syft/frameworks/torch/hook/hook.py\u001b[0m in \u001b[0;36moverloaded_native_method\u001b[0;34m(self, *args, **kwargs)\u001b[0m\n\u001b[1;32m    675\u001b[0m                 \u001b[0;31m# Send the new command to the appropriate class and get the response\u001b[0m\u001b[0;34m\u001b[0m\u001b[0;34m\u001b[0m\u001b[0;34m\u001b[0m\u001b[0m\n\u001b[1;32m    676\u001b[0m                 \u001b[0mmethod\u001b[0m \u001b[0;34m=\u001b[0m \u001b[0mgetattr\u001b[0m\u001b[0;34m(\u001b[0m\u001b[0mnew_self\u001b[0m\u001b[0;34m,\u001b[0m \u001b[0mmethod_name\u001b[0m\u001b[0;34m)\u001b[0m\u001b[0;34m\u001b[0m\u001b[0;34m\u001b[0m\u001b[0m\n\u001b[0;32m--> 677\u001b[0;31m                 \u001b[0mresponse\u001b[0m \u001b[0;34m=\u001b[0m \u001b[0mmethod\u001b[0m\u001b[0;34m(\u001b[0m\u001b[0;34m*\u001b[0m\u001b[0mnew_args\u001b[0m\u001b[0;34m,\u001b[0m \u001b[0;34m**\u001b[0m\u001b[0mnew_kwargs\u001b[0m\u001b[0;34m)\u001b[0m\u001b[0;34m\u001b[0m\u001b[0;34m\u001b[0m\u001b[0m\n\u001b[0m\u001b[1;32m    678\u001b[0m \u001b[0;34m\u001b[0m\u001b[0m\n\u001b[1;32m    679\u001b[0m                 \u001b[0;31m# For inplace methods, just directly return self\u001b[0m\u001b[0;34m\u001b[0m\u001b[0;34m\u001b[0m\u001b[0;34m\u001b[0m\u001b[0m\n",
            "\u001b[0;32m/content/PySyft/syft/frameworks/torch/hook/hook.py\u001b[0m in \u001b[0;36moverloaded_pointer_method\u001b[0;34m(self, *args, **kwargs)\u001b[0m\n\u001b[1;32m    506\u001b[0m                 \u001b[0;32mif\u001b[0m \u001b[0misinstance\u001b[0m\u001b[0;34m(\u001b[0m\u001b[0margs\u001b[0m\u001b[0;34m[\u001b[0m\u001b[0;36m0\u001b[0m\u001b[0;34m]\u001b[0m\u001b[0;34m,\u001b[0m \u001b[0mPointerTensor\u001b[0m\u001b[0;34m)\u001b[0m\u001b[0;34m:\u001b[0m\u001b[0;34m\u001b[0m\u001b[0;34m\u001b[0m\u001b[0m\n\u001b[1;32m    507\u001b[0m                     \u001b[0;32mif\u001b[0m \u001b[0margs\u001b[0m\u001b[0;34m[\u001b[0m\u001b[0;36m0\u001b[0m\u001b[0;34m]\u001b[0m\u001b[0;34m.\u001b[0m\u001b[0mlocation\u001b[0m\u001b[0;34m.\u001b[0m\u001b[0mid\u001b[0m \u001b[0;34m!=\u001b[0m \u001b[0mlocation\u001b[0m\u001b[0;34m.\u001b[0m\u001b[0mid\u001b[0m\u001b[0;34m:\u001b[0m\u001b[0;34m\u001b[0m\u001b[0;34m\u001b[0m\u001b[0m\n\u001b[0;32m--> 508\u001b[0;31m                         \u001b[0;32mraise\u001b[0m \u001b[0mTensorsNotCollocatedException\u001b[0m\u001b[0;34m(\u001b[0m\u001b[0mpointer\u001b[0m\u001b[0;34m,\u001b[0m \u001b[0margs\u001b[0m\u001b[0;34m[\u001b[0m\u001b[0;36m0\u001b[0m\u001b[0;34m]\u001b[0m\u001b[0;34m,\u001b[0m \u001b[0mattr\u001b[0m\u001b[0;34m)\u001b[0m\u001b[0;34m\u001b[0m\u001b[0;34m\u001b[0m\u001b[0m\n\u001b[0m\u001b[1;32m    509\u001b[0m \u001b[0;34m\u001b[0m\u001b[0m\n\u001b[1;32m    510\u001b[0m             \u001b[0;31m# Send the command\u001b[0m\u001b[0;34m\u001b[0m\u001b[0;34m\u001b[0m\u001b[0;34m\u001b[0m\u001b[0m\n",
            "\u001b[0;31mTensorsNotCollocatedException\u001b[0m: You tried to call __add__ involving two tensors which are not on the same machine! One tensor is on <VirtualWorker id:bob #objects:2> while the other is on <VirtualWorker id:alice #objects:2>. Use a combination of .move(), .get(), and/or .send() to co-locate them to the same machine."
          ]
        }
      ]
    },
    {
      "cell_type": "code",
      "metadata": {
        "id": "BV2EJDa3L9E4",
        "colab_type": "code",
        "colab": {}
      },
      "source": [
        ""
      ],
      "execution_count": 0,
      "outputs": []
    },
    {
      "cell_type": "markdown",
      "metadata": {
        "id": "RL0BwrRhL9E9",
        "colab_type": "text"
      },
      "source": [
        "# Lesson: Toy Federated Learning\n",
        "\n",
        "Let's start by training a toy model the centralized way. This is about a simple as models get. We first need:\n",
        "\n",
        "- a toy dataset\n",
        "- a model\n",
        "- some basic training logic for training a model to fit the data."
      ]
    },
    {
      "cell_type": "code",
      "metadata": {
        "id": "V7fqJWZcL9FE",
        "colab_type": "code",
        "colab": {}
      },
      "source": [
        "from torch import nn, optim"
      ],
      "execution_count": 0,
      "outputs": []
    },
    {
      "cell_type": "code",
      "metadata": {
        "id": "zWpDBvinL9FJ",
        "colab_type": "code",
        "colab": {}
      },
      "source": [
        "# A Toy Dataset\n",
        "data = torch.tensor([[1.,1],[0,1],[1,0],[0,0]], requires_grad=True)\n",
        "target = torch.tensor([[1.],[1], [0], [0]], requires_grad=True)"
      ],
      "execution_count": 0,
      "outputs": []
    },
    {
      "cell_type": "code",
      "metadata": {
        "id": "tQX8cxKDL9FR",
        "colab_type": "code",
        "colab": {}
      },
      "source": [
        "# A Toy Model\n",
        "model = nn.Linear(2,1)"
      ],
      "execution_count": 0,
      "outputs": []
    },
    {
      "cell_type": "code",
      "metadata": {
        "id": "Drw3PT6lL9FY",
        "colab_type": "code",
        "colab": {}
      },
      "source": [
        "opt = optim.SGD(params=model.parameters(), lr=0.1)"
      ],
      "execution_count": 0,
      "outputs": []
    },
    {
      "cell_type": "code",
      "metadata": {
        "id": "XXvbGcwwL9Fe",
        "colab_type": "code",
        "colab": {
          "base_uri": "https://localhost:8080/",
          "height": 357
        },
        "outputId": "969847aa-2fc5-4b15-e12c-4dba80ebdce9"
      },
      "source": [
        "def train(iterations=20):\n",
        "    for iter in range(iterations):\n",
        "        opt.zero_grad()\n",
        "\n",
        "        pred = model(data)\n",
        "\n",
        "        loss = ((pred - target)**2).sum()\n",
        "\n",
        "        loss.backward()\n",
        "\n",
        "        opt.step()\n",
        "\n",
        "        print(loss.data)\n",
        "        \n",
        "train()"
      ],
      "execution_count": 281,
      "outputs": [
        {
          "output_type": "stream",
          "text": [
            "tensor(0.3304)\n",
            "tensor(0.1514)\n",
            "tensor(0.0929)\n",
            "tensor(0.0595)\n",
            "tensor(0.0384)\n",
            "tensor(0.0248)\n",
            "tensor(0.0161)\n",
            "tensor(0.0104)\n",
            "tensor(0.0068)\n",
            "tensor(0.0044)\n",
            "tensor(0.0029)\n",
            "tensor(0.0019)\n",
            "tensor(0.0013)\n",
            "tensor(0.0008)\n",
            "tensor(0.0006)\n",
            "tensor(0.0004)\n",
            "tensor(0.0002)\n",
            "tensor(0.0002)\n",
            "tensor(0.0001)\n",
            "tensor(7.9857e-05)\n"
          ],
          "name": "stdout"
        }
      ]
    },
    {
      "cell_type": "code",
      "metadata": {
        "id": "WCHXPvGuL9Fn",
        "colab_type": "code",
        "colab": {}
      },
      "source": [
        "data_bob = data[0:2].send(bob)\n",
        "target_bob = target[0:2].send(bob)"
      ],
      "execution_count": 0,
      "outputs": []
    },
    {
      "cell_type": "code",
      "metadata": {
        "id": "B-4O8bmoL9Fr",
        "colab_type": "code",
        "colab": {}
      },
      "source": [
        "data_alice = data[2:4].send(alice)\n",
        "target_alice = target[2:4].send(alice)"
      ],
      "execution_count": 0,
      "outputs": []
    },
    {
      "cell_type": "code",
      "metadata": {
        "id": "jtSvHvOcL9F4",
        "colab_type": "code",
        "colab": {}
      },
      "source": [
        "datasets = [(data_bob, target_bob), (data_alice, target_alice)]"
      ],
      "execution_count": 0,
      "outputs": []
    },
    {
      "cell_type": "code",
      "metadata": {
        "id": "PsreSveiL9F8",
        "colab_type": "code",
        "colab": {}
      },
      "source": [
        "def train(iterations=20):\n",
        "\n",
        "    model = nn.Linear(2,1)\n",
        "    opt = optim.SGD(params=model.parameters(), lr=0.1)\n",
        "    \n",
        "    for iter in range(iterations):\n",
        "\n",
        "        for _data, _target in datasets:\n",
        "\n",
        "            # send model to the data\n",
        "            model = model.send(_data.location)\n",
        "\n",
        "            # do normal training\n",
        "            opt.zero_grad()\n",
        "            pred = model(_data)\n",
        "            loss = ((pred - _target)**2).sum()\n",
        "            loss.backward()\n",
        "            opt.step()\n",
        "\n",
        "            # get smarter model back\n",
        "            model = model.get()\n",
        "\n",
        "            print(loss.get())"
      ],
      "execution_count": 0,
      "outputs": []
    },
    {
      "cell_type": "code",
      "metadata": {
        "id": "qwX6QBh5L9GC",
        "colab_type": "code",
        "colab": {
          "base_uri": "https://localhost:8080/",
          "height": 697
        },
        "outputId": "be048471-d59e-4e92-fdd1-bd90c7e72122"
      },
      "source": [
        "train()"
      ],
      "execution_count": 286,
      "outputs": [
        {
          "output_type": "stream",
          "text": [
            "tensor(0.1186, requires_grad=True)\n",
            "tensor(1.7156, requires_grad=True)\n",
            "tensor(0.5091, requires_grad=True)\n",
            "tensor(0.9260, requires_grad=True)\n",
            "tensor(0.3385, requires_grad=True)\n",
            "tensor(0.5501, requires_grad=True)\n",
            "tensor(0.2000, requires_grad=True)\n",
            "tensor(0.3307, requires_grad=True)\n",
            "tensor(0.1178, requires_grad=True)\n",
            "tensor(0.2002, requires_grad=True)\n",
            "tensor(0.0698, requires_grad=True)\n",
            "tensor(0.1220, requires_grad=True)\n",
            "tensor(0.0417, requires_grad=True)\n",
            "tensor(0.0750, requires_grad=True)\n",
            "tensor(0.0252, requires_grad=True)\n",
            "tensor(0.0465, requires_grad=True)\n",
            "tensor(0.0154, requires_grad=True)\n",
            "tensor(0.0292, requires_grad=True)\n",
            "tensor(0.0095, requires_grad=True)\n",
            "tensor(0.0185, requires_grad=True)\n",
            "tensor(0.0060, requires_grad=True)\n",
            "tensor(0.0118, requires_grad=True)\n",
            "tensor(0.0039, requires_grad=True)\n",
            "tensor(0.0077, requires_grad=True)\n",
            "tensor(0.0025, requires_grad=True)\n",
            "tensor(0.0050, requires_grad=True)\n",
            "tensor(0.0017, requires_grad=True)\n",
            "tensor(0.0034, requires_grad=True)\n",
            "tensor(0.0011, requires_grad=True)\n",
            "tensor(0.0023, requires_grad=True)\n",
            "tensor(0.0008, requires_grad=True)\n",
            "tensor(0.0015, requires_grad=True)\n",
            "tensor(0.0006, requires_grad=True)\n",
            "tensor(0.0011, requires_grad=True)\n",
            "tensor(0.0004, requires_grad=True)\n",
            "tensor(0.0007, requires_grad=True)\n",
            "tensor(0.0003, requires_grad=True)\n",
            "tensor(0.0005, requires_grad=True)\n",
            "tensor(0.0002, requires_grad=True)\n",
            "tensor(0.0004, requires_grad=True)\n"
          ],
          "name": "stdout"
        }
      ]
    },
    {
      "cell_type": "code",
      "metadata": {
        "id": "8ZP-cio8L9GJ",
        "colab_type": "code",
        "colab": {}
      },
      "source": [
        ""
      ],
      "execution_count": 0,
      "outputs": []
    },
    {
      "cell_type": "markdown",
      "metadata": {
        "id": "xE9OgtrZL9GN",
        "colab_type": "text"
      },
      "source": [
        "# Lesson: Advanced Remote Execution Tools\n",
        "\n",
        "In the last section we trained a toy model using Federated Learning. We did this by calling .send() and .get() on our model, sending it to the location of training data, updating it, and then bringing it back. However, at the end of the example we realized that we needed to go a bit further to protect people privacy. Namely, we want to average the gradients BEFORE calling .get(). That way, we won't ever see anyone's exact gradient (thus better protecting their privacy!!!)\n",
        "\n",
        "But, in order to do this, we need a few more pieces:\n",
        "\n",
        "- use a pointer to send a Tensor directly to another worker\n",
        "\n",
        "And in addition, while we're here, we're going to learn about a few more advanced tensor operations as well which will help us both with this example and a few in the future!"
      ]
    },
    {
      "cell_type": "code",
      "metadata": {
        "id": "xfsxM3lQL9GS",
        "colab_type": "code",
        "colab": {
          "base_uri": "https://localhost:8080/",
          "height": 34
        },
        "outputId": "d08e519d-3a71-45c1-a3ef-c00baaf8c8df"
      },
      "source": [
        "bob.clear_objects()\n",
        "alice.clear_objects()"
      ],
      "execution_count": 287,
      "outputs": [
        {
          "output_type": "execute_result",
          "data": {
            "text/plain": [
              "<VirtualWorker id:alice #objects:0>"
            ]
          },
          "metadata": {
            "tags": []
          },
          "execution_count": 287
        }
      ]
    },
    {
      "cell_type": "code",
      "metadata": {
        "id": "JZ-yyKAuL9GY",
        "colab_type": "code",
        "colab": {}
      },
      "source": [
        ""
      ],
      "execution_count": 0,
      "outputs": []
    },
    {
      "cell_type": "code",
      "metadata": {
        "id": "sIVa6seQL9Gd",
        "colab_type": "code",
        "colab": {}
      },
      "source": [
        "x = torch.tensor([1,2,3,4,5]).send(bob)"
      ],
      "execution_count": 0,
      "outputs": []
    },
    {
      "cell_type": "code",
      "metadata": {
        "id": "1WYB7803L9Gh",
        "colab_type": "code",
        "colab": {}
      },
      "source": [
        "x = x.send(alice)"
      ],
      "execution_count": 0,
      "outputs": []
    },
    {
      "cell_type": "code",
      "metadata": {
        "id": "EMepmiU-L9Gl",
        "colab_type": "code",
        "colab": {
          "base_uri": "https://localhost:8080/",
          "height": 34
        },
        "outputId": "46718b0f-15ea-41c9-fb3f-dda2200f536a"
      },
      "source": [
        "bob._objects"
      ],
      "execution_count": 290,
      "outputs": [
        {
          "output_type": "execute_result",
          "data": {
            "text/plain": [
              "{23806497411: tensor([1, 2, 3, 4, 5])}"
            ]
          },
          "metadata": {
            "tags": []
          },
          "execution_count": 290
        }
      ]
    },
    {
      "cell_type": "code",
      "metadata": {
        "id": "lL6gJ9ySL9Gq",
        "colab_type": "code",
        "colab": {
          "base_uri": "https://localhost:8080/",
          "height": 34
        },
        "outputId": "0865b811-e5e4-41ed-8f92-fdd44a24c643"
      },
      "source": [
        "alice._objects"
      ],
      "execution_count": 291,
      "outputs": [
        {
          "output_type": "execute_result",
          "data": {
            "text/plain": [
              "{90549823888: (Wrapper)>[PointerTensor | alice:90549823888 -> bob:23806497411]}"
            ]
          },
          "metadata": {
            "tags": []
          },
          "execution_count": 291
        }
      ]
    },
    {
      "cell_type": "code",
      "metadata": {
        "id": "ndBUeYmiL9Gw",
        "colab_type": "code",
        "colab": {}
      },
      "source": [
        "y = x + x"
      ],
      "execution_count": 0,
      "outputs": []
    },
    {
      "cell_type": "code",
      "metadata": {
        "id": "UHepmARTL9Gz",
        "colab_type": "code",
        "colab": {
          "base_uri": "https://localhost:8080/",
          "height": 34
        },
        "outputId": "470d3c9f-0e5b-40e9-ddab-28bc77588044"
      },
      "source": [
        "y"
      ],
      "execution_count": 293,
      "outputs": [
        {
          "output_type": "execute_result",
          "data": {
            "text/plain": [
              "(Wrapper)>[PointerTensor | me:87291445897 -> alice:21319100885]"
            ]
          },
          "metadata": {
            "tags": []
          },
          "execution_count": 293
        }
      ]
    },
    {
      "cell_type": "code",
      "metadata": {
        "id": "aoCECcZGL9HA",
        "colab_type": "code",
        "colab": {
          "base_uri": "https://localhost:8080/",
          "height": 51
        },
        "outputId": "aace93a5-f5bb-490f-ac95-fb4a3cd0c407"
      },
      "source": [
        "bob._objects"
      ],
      "execution_count": 294,
      "outputs": [
        {
          "output_type": "execute_result",
          "data": {
            "text/plain": [
              "{23806497411: tensor([1, 2, 3, 4, 5]),\n",
              " 64952605752: tensor([ 2,  4,  6,  8, 10])}"
            ]
          },
          "metadata": {
            "tags": []
          },
          "execution_count": 294
        }
      ]
    },
    {
      "cell_type": "code",
      "metadata": {
        "id": "QSokywt_L9HF",
        "colab_type": "code",
        "colab": {
          "base_uri": "https://localhost:8080/",
          "height": 51
        },
        "outputId": "40c5eb01-6524-4028-9cbc-ab22492e5d0d"
      },
      "source": [
        "alice._objects"
      ],
      "execution_count": 295,
      "outputs": [
        {
          "output_type": "execute_result",
          "data": {
            "text/plain": [
              "{21319100885: (Wrapper)>[PointerTensor | alice:21319100885 -> bob:64952605752],\n",
              " 90549823888: (Wrapper)>[PointerTensor | alice:90549823888 -> bob:23806497411]}"
            ]
          },
          "metadata": {
            "tags": []
          },
          "execution_count": 295
        }
      ]
    },
    {
      "cell_type": "code",
      "metadata": {
        "id": "MLYDIBhtL9HP",
        "colab_type": "code",
        "colab": {}
      },
      "source": [
        "jon = sy.VirtualWorker(hook, id=\"jon\")"
      ],
      "execution_count": 0,
      "outputs": []
    },
    {
      "cell_type": "code",
      "metadata": {
        "id": "TAy9Mm9dL9HU",
        "colab_type": "code",
        "colab": {}
      },
      "source": [
        "bob.clear_objects()\n",
        "alice.clear_objects()\n",
        "\n",
        "x = torch.tensor([1,2,3,4,5]).send(bob).send(alice)"
      ],
      "execution_count": 0,
      "outputs": []
    },
    {
      "cell_type": "code",
      "metadata": {
        "id": "3Qnfo5dGL9HZ",
        "colab_type": "code",
        "colab": {
          "base_uri": "https://localhost:8080/",
          "height": 34
        },
        "outputId": "5372e529-5b77-4bdd-9d96-b959759a60f2"
      },
      "source": [
        "bob._objects"
      ],
      "execution_count": 298,
      "outputs": [
        {
          "output_type": "execute_result",
          "data": {
            "text/plain": [
              "{80743909860: tensor([1, 2, 3, 4, 5])}"
            ]
          },
          "metadata": {
            "tags": []
          },
          "execution_count": 298
        }
      ]
    },
    {
      "cell_type": "code",
      "metadata": {
        "id": "gGEE12VfL9Hj",
        "colab_type": "code",
        "colab": {
          "base_uri": "https://localhost:8080/",
          "height": 34
        },
        "outputId": "a8b93010-868b-4b11-eb15-03343526ff2d"
      },
      "source": [
        "alice._objects"
      ],
      "execution_count": 299,
      "outputs": [
        {
          "output_type": "execute_result",
          "data": {
            "text/plain": [
              "{25468552553: (Wrapper)>[PointerTensor | alice:25468552553 -> bob:80743909860]}"
            ]
          },
          "metadata": {
            "tags": []
          },
          "execution_count": 299
        }
      ]
    },
    {
      "cell_type": "code",
      "metadata": {
        "id": "A3GAk3HtL9Hq",
        "colab_type": "code",
        "colab": {
          "base_uri": "https://localhost:8080/",
          "height": 34
        },
        "outputId": "119a9d69-0e12-4c77-aa71-c66892292bfa"
      },
      "source": [
        "x = x.get()\n",
        "x"
      ],
      "execution_count": 300,
      "outputs": [
        {
          "output_type": "execute_result",
          "data": {
            "text/plain": [
              "(Wrapper)>[PointerTensor | me:25468552553 -> bob:80743909860]"
            ]
          },
          "metadata": {
            "tags": []
          },
          "execution_count": 300
        }
      ]
    },
    {
      "cell_type": "code",
      "metadata": {
        "id": "XXL5SXZDL9H2",
        "colab_type": "code",
        "colab": {
          "base_uri": "https://localhost:8080/",
          "height": 34
        },
        "outputId": "614c3f9f-0b49-4f1b-eeb0-394f41462cc6"
      },
      "source": [
        "bob._objects"
      ],
      "execution_count": 301,
      "outputs": [
        {
          "output_type": "execute_result",
          "data": {
            "text/plain": [
              "{80743909860: tensor([1, 2, 3, 4, 5])}"
            ]
          },
          "metadata": {
            "tags": []
          },
          "execution_count": 301
        }
      ]
    },
    {
      "cell_type": "code",
      "metadata": {
        "id": "pB3SZkPvL9H7",
        "colab_type": "code",
        "colab": {
          "base_uri": "https://localhost:8080/",
          "height": 34
        },
        "outputId": "6ba5ddac-d157-4ec9-c442-bc69ea714867"
      },
      "source": [
        "alice._objects"
      ],
      "execution_count": 302,
      "outputs": [
        {
          "output_type": "execute_result",
          "data": {
            "text/plain": [
              "{}"
            ]
          },
          "metadata": {
            "tags": []
          },
          "execution_count": 302
        }
      ]
    },
    {
      "cell_type": "code",
      "metadata": {
        "id": "xKjLTxpdL9IA",
        "colab_type": "code",
        "colab": {
          "base_uri": "https://localhost:8080/",
          "height": 34
        },
        "outputId": "692c4d8a-da66-41fc-8592-3247726cf4d9"
      },
      "source": [
        "x = x.get()\n",
        "x"
      ],
      "execution_count": 303,
      "outputs": [
        {
          "output_type": "execute_result",
          "data": {
            "text/plain": [
              "tensor([1, 2, 3, 4, 5])"
            ]
          },
          "metadata": {
            "tags": []
          },
          "execution_count": 303
        }
      ]
    },
    {
      "cell_type": "code",
      "metadata": {
        "id": "9lKVi8k8L9IM",
        "colab_type": "code",
        "colab": {
          "base_uri": "https://localhost:8080/",
          "height": 34
        },
        "outputId": "66fe7981-c2b7-4eff-ee60-289711b74e46"
      },
      "source": [
        "bob._objects"
      ],
      "execution_count": 304,
      "outputs": [
        {
          "output_type": "execute_result",
          "data": {
            "text/plain": [
              "{}"
            ]
          },
          "metadata": {
            "tags": []
          },
          "execution_count": 304
        }
      ]
    },
    {
      "cell_type": "code",
      "metadata": {
        "id": "zfAWmg2tL9IQ",
        "colab_type": "code",
        "colab": {}
      },
      "source": [
        "bob.clear_objects()\n",
        "alice.clear_objects()\n",
        "\n",
        "x = torch.tensor([1,2,3,4,5]).send(bob).send(alice)"
      ],
      "execution_count": 0,
      "outputs": []
    },
    {
      "cell_type": "code",
      "metadata": {
        "id": "kKALbfP1L9IV",
        "colab_type": "code",
        "colab": {
          "base_uri": "https://localhost:8080/",
          "height": 34
        },
        "outputId": "42a80516-0ba3-4e8b-b271-686d7370f05e"
      },
      "source": [
        "bob._objects"
      ],
      "execution_count": 306,
      "outputs": [
        {
          "output_type": "execute_result",
          "data": {
            "text/plain": [
              "{11443659283: tensor([1, 2, 3, 4, 5])}"
            ]
          },
          "metadata": {
            "tags": []
          },
          "execution_count": 306
        }
      ]
    },
    {
      "cell_type": "code",
      "metadata": {
        "id": "KfQe0fwdL9Ia",
        "colab_type": "code",
        "colab": {
          "base_uri": "https://localhost:8080/",
          "height": 34
        },
        "outputId": "d2a85a14-49bb-4639-9903-20e25ce4b3d3"
      },
      "source": [
        "alice._objects"
      ],
      "execution_count": 307,
      "outputs": [
        {
          "output_type": "execute_result",
          "data": {
            "text/plain": [
              "{24322346864: (Wrapper)>[PointerTensor | alice:24322346864 -> bob:11443659283]}"
            ]
          },
          "metadata": {
            "tags": []
          },
          "execution_count": 307
        }
      ]
    },
    {
      "cell_type": "code",
      "metadata": {
        "id": "qIiR-1fKL9If",
        "colab_type": "code",
        "colab": {}
      },
      "source": [
        "del x"
      ],
      "execution_count": 0,
      "outputs": []
    },
    {
      "cell_type": "code",
      "metadata": {
        "id": "e5Rgl_iUL9Ii",
        "colab_type": "code",
        "colab": {
          "base_uri": "https://localhost:8080/",
          "height": 34
        },
        "outputId": "9a0e2046-5a93-4724-8840-7ac874582229"
      },
      "source": [
        "bob._objects"
      ],
      "execution_count": 309,
      "outputs": [
        {
          "output_type": "execute_result",
          "data": {
            "text/plain": [
              "{}"
            ]
          },
          "metadata": {
            "tags": []
          },
          "execution_count": 309
        }
      ]
    },
    {
      "cell_type": "code",
      "metadata": {
        "id": "rKrA-chSL9In",
        "colab_type": "code",
        "colab": {
          "base_uri": "https://localhost:8080/",
          "height": 34
        },
        "outputId": "172bb01c-6aed-413b-c290-5d5c500701c4"
      },
      "source": [
        "alice._objects"
      ],
      "execution_count": 310,
      "outputs": [
        {
          "output_type": "execute_result",
          "data": {
            "text/plain": [
              "{}"
            ]
          },
          "metadata": {
            "tags": []
          },
          "execution_count": 310
        }
      ]
    },
    {
      "cell_type": "code",
      "metadata": {
        "id": "jyPv9WawL9Iw",
        "colab_type": "code",
        "colab": {}
      },
      "source": [
        ""
      ],
      "execution_count": 0,
      "outputs": []
    },
    {
      "cell_type": "code",
      "metadata": {
        "id": "8Bt576DJL9Iz",
        "colab_type": "code",
        "colab": {}
      },
      "source": [
        ""
      ],
      "execution_count": 0,
      "outputs": []
    },
    {
      "cell_type": "markdown",
      "metadata": {
        "id": "av1WIUF5L9I2",
        "colab_type": "text"
      },
      "source": [
        "# Lesson: Pointer Chain Operations"
      ]
    },
    {
      "cell_type": "code",
      "metadata": {
        "id": "ILYJe10_L9I3",
        "colab_type": "code",
        "colab": {
          "base_uri": "https://localhost:8080/",
          "height": 34
        },
        "outputId": "011f0911-b90d-41b2-8475-854d8b72342e"
      },
      "source": [
        "bob.clear_objects()\n",
        "alice.clear_objects()"
      ],
      "execution_count": 311,
      "outputs": [
        {
          "output_type": "execute_result",
          "data": {
            "text/plain": [
              "<VirtualWorker id:alice #objects:0>"
            ]
          },
          "metadata": {
            "tags": []
          },
          "execution_count": 311
        }
      ]
    },
    {
      "cell_type": "code",
      "metadata": {
        "id": "e4NSHMQ_L9JB",
        "colab_type": "code",
        "colab": {}
      },
      "source": [
        "x = torch.tensor([1,2,3,4,5]).send(bob)"
      ],
      "execution_count": 0,
      "outputs": []
    },
    {
      "cell_type": "code",
      "metadata": {
        "id": "fkQelmczL9JE",
        "colab_type": "code",
        "colab": {
          "base_uri": "https://localhost:8080/",
          "height": 34
        },
        "outputId": "9927f21d-ee6b-4352-a50c-7dde571b10fc"
      },
      "source": [
        "bob._objects"
      ],
      "execution_count": 313,
      "outputs": [
        {
          "output_type": "execute_result",
          "data": {
            "text/plain": [
              "{52876358928: tensor([1, 2, 3, 4, 5])}"
            ]
          },
          "metadata": {
            "tags": []
          },
          "execution_count": 313
        }
      ]
    },
    {
      "cell_type": "code",
      "metadata": {
        "id": "lbCorFd9L9JM",
        "colab_type": "code",
        "colab": {
          "base_uri": "https://localhost:8080/",
          "height": 34
        },
        "outputId": "552431dd-3797-4511-f33e-563ab64c89a9"
      },
      "source": [
        "alice._objects"
      ],
      "execution_count": 314,
      "outputs": [
        {
          "output_type": "execute_result",
          "data": {
            "text/plain": [
              "{}"
            ]
          },
          "metadata": {
            "tags": []
          },
          "execution_count": 314
        }
      ]
    },
    {
      "cell_type": "code",
      "metadata": {
        "id": "r_-FnzIkL9JR",
        "colab_type": "code",
        "colab": {
          "base_uri": "https://localhost:8080/",
          "height": 34
        },
        "outputId": "939e9c35-fc53-485d-bf9a-1126bbfa195d"
      },
      "source": [
        "x.move(alice)"
      ],
      "execution_count": 315,
      "outputs": [
        {
          "output_type": "execute_result",
          "data": {
            "text/plain": [
              "(Wrapper)>[PointerTensor | me:47809884307 -> alice:47809884307]"
            ]
          },
          "metadata": {
            "tags": []
          },
          "execution_count": 315
        }
      ]
    },
    {
      "cell_type": "code",
      "metadata": {
        "id": "3s3Xh4ofL9JX",
        "colab_type": "code",
        "colab": {
          "base_uri": "https://localhost:8080/",
          "height": 34
        },
        "outputId": "9f5c201a-d584-4371-f0f8-0f4972946318"
      },
      "source": [
        "bob._objects"
      ],
      "execution_count": 316,
      "outputs": [
        {
          "output_type": "execute_result",
          "data": {
            "text/plain": [
              "{}"
            ]
          },
          "metadata": {
            "tags": []
          },
          "execution_count": 316
        }
      ]
    },
    {
      "cell_type": "code",
      "metadata": {
        "id": "CCAIwL7HL9Jd",
        "colab_type": "code",
        "colab": {
          "base_uri": "https://localhost:8080/",
          "height": 34
        },
        "outputId": "e82670fe-c2d0-48c1-8a9c-289ca13beb14"
      },
      "source": [
        "alice._objects"
      ],
      "execution_count": 317,
      "outputs": [
        {
          "output_type": "execute_result",
          "data": {
            "text/plain": [
              "{47809884307: tensor([1, 2, 3, 4, 5])}"
            ]
          },
          "metadata": {
            "tags": []
          },
          "execution_count": 317
        }
      ]
    },
    {
      "cell_type": "code",
      "metadata": {
        "id": "PsWVatljL9Jk",
        "colab_type": "code",
        "colab": {}
      },
      "source": [
        ""
      ],
      "execution_count": 0,
      "outputs": []
    },
    {
      "cell_type": "code",
      "metadata": {
        "id": "3TObwk30L9Jn",
        "colab_type": "code",
        "colab": {}
      },
      "source": [
        "x = torch.tensor([1,2,3,4,5]).send(bob).send(alice)"
      ],
      "execution_count": 0,
      "outputs": []
    },
    {
      "cell_type": "code",
      "metadata": {
        "id": "5fCPyhR4L9Jr",
        "colab_type": "code",
        "colab": {
          "base_uri": "https://localhost:8080/",
          "height": 34
        },
        "outputId": "9f803255-bc61-4e4e-a755-d7d29210585e"
      },
      "source": [
        "bob._objects"
      ],
      "execution_count": 319,
      "outputs": [
        {
          "output_type": "execute_result",
          "data": {
            "text/plain": [
              "{72413873701: tensor([1, 2, 3, 4, 5])}"
            ]
          },
          "metadata": {
            "tags": []
          },
          "execution_count": 319
        }
      ]
    },
    {
      "cell_type": "code",
      "metadata": {
        "id": "3YOsPIKzL9Jx",
        "colab_type": "code",
        "colab": {
          "base_uri": "https://localhost:8080/",
          "height": 51
        },
        "outputId": "c8a3b007-5339-485a-b9d4-e026d805e981"
      },
      "source": [
        "alice._objects"
      ],
      "execution_count": 320,
      "outputs": [
        {
          "output_type": "execute_result",
          "data": {
            "text/plain": [
              "{33326531281: (Wrapper)>[PointerTensor | alice:33326531281 -> bob:72413873701],\n",
              " 47809884307: tensor([1, 2, 3, 4, 5])}"
            ]
          },
          "metadata": {
            "tags": []
          },
          "execution_count": 320
        }
      ]
    },
    {
      "cell_type": "code",
      "metadata": {
        "id": "Yjbk7fjeL9KE",
        "colab_type": "code",
        "colab": {
          "base_uri": "https://localhost:8080/",
          "height": 34
        },
        "outputId": "53d4e49a-d05f-4472-80e0-4eaf6467394f"
      },
      "source": [
        "x.remote_get()"
      ],
      "execution_count": 321,
      "outputs": [
        {
          "output_type": "execute_result",
          "data": {
            "text/plain": [
              "(Wrapper)>[PointerTensor | me:14600201565 -> alice:33326531281]"
            ]
          },
          "metadata": {
            "tags": []
          },
          "execution_count": 321
        }
      ]
    },
    {
      "cell_type": "code",
      "metadata": {
        "id": "l_pRLuwDL9KN",
        "colab_type": "code",
        "colab": {
          "base_uri": "https://localhost:8080/",
          "height": 34
        },
        "outputId": "5b6f88ca-7bc8-4df1-ada0-7e85029cc736"
      },
      "source": [
        "bob._objects"
      ],
      "execution_count": 322,
      "outputs": [
        {
          "output_type": "execute_result",
          "data": {
            "text/plain": [
              "{}"
            ]
          },
          "metadata": {
            "tags": []
          },
          "execution_count": 322
        }
      ]
    },
    {
      "cell_type": "code",
      "metadata": {
        "id": "LOrARG_4L9KT",
        "colab_type": "code",
        "colab": {
          "base_uri": "https://localhost:8080/",
          "height": 34
        },
        "outputId": "d85d80de-35e7-4658-db99-acc937dd5f79"
      },
      "source": [
        "alice._objects"
      ],
      "execution_count": 323,
      "outputs": [
        {
          "output_type": "execute_result",
          "data": {
            "text/plain": [
              "{33326531281: tensor([1, 2, 3, 4, 5]), 47809884307: tensor([1, 2, 3, 4, 5])}"
            ]
          },
          "metadata": {
            "tags": []
          },
          "execution_count": 323
        }
      ]
    },
    {
      "cell_type": "code",
      "metadata": {
        "id": "B4JUvOWwL9KY",
        "colab_type": "code",
        "colab": {
          "base_uri": "https://localhost:8080/",
          "height": 34
        },
        "outputId": "30758a6b-47f5-4689-c961-2d493dd209b3"
      },
      "source": [
        "x.move(bob)"
      ],
      "execution_count": 324,
      "outputs": [
        {
          "output_type": "execute_result",
          "data": {
            "text/plain": [
              "(Wrapper)>[PointerTensor | me:14600201565 -> bob:14600201565]"
            ]
          },
          "metadata": {
            "tags": []
          },
          "execution_count": 324
        }
      ]
    },
    {
      "cell_type": "code",
      "metadata": {
        "id": "6MGSRv8KL9Kd",
        "colab_type": "code",
        "colab": {
          "base_uri": "https://localhost:8080/",
          "height": 34
        },
        "outputId": "9449d459-097b-4d90-f7b3-138512665acd"
      },
      "source": [
        "x"
      ],
      "execution_count": 325,
      "outputs": [
        {
          "output_type": "execute_result",
          "data": {
            "text/plain": [
              "(Wrapper)>[PointerTensor | me:14600201565 -> bob:14600201565]"
            ]
          },
          "metadata": {
            "tags": []
          },
          "execution_count": 325
        }
      ]
    },
    {
      "cell_type": "code",
      "metadata": {
        "id": "punZkENEL9Kr",
        "colab_type": "code",
        "colab": {
          "base_uri": "https://localhost:8080/",
          "height": 34
        },
        "outputId": "cf076b89-d939-421d-a6e0-1eb49510e857"
      },
      "source": [
        "bob._objects"
      ],
      "execution_count": 326,
      "outputs": [
        {
          "output_type": "execute_result",
          "data": {
            "text/plain": [
              "{14600201565: tensor([1, 2, 3, 4, 5])}"
            ]
          },
          "metadata": {
            "tags": []
          },
          "execution_count": 326
        }
      ]
    },
    {
      "cell_type": "code",
      "metadata": {
        "id": "Ohw_rEOcL9Kx",
        "colab_type": "code",
        "colab": {
          "base_uri": "https://localhost:8080/",
          "height": 34
        },
        "outputId": "f581a0a4-d816-443c-c78f-19c1f7dfc6e3"
      },
      "source": [
        "alice._objects"
      ],
      "execution_count": 327,
      "outputs": [
        {
          "output_type": "execute_result",
          "data": {
            "text/plain": [
              "{47809884307: tensor([1, 2, 3, 4, 5])}"
            ]
          },
          "metadata": {
            "tags": []
          },
          "execution_count": 327
        }
      ]
    },
    {
      "cell_type": "code",
      "metadata": {
        "id": "-6SJ7BGbL9K4",
        "colab_type": "code",
        "colab": {}
      },
      "source": [
        ""
      ],
      "execution_count": 0,
      "outputs": []
    },
    {
      "cell_type": "code",
      "metadata": {
        "id": "fWb7rNpUL9K7",
        "colab_type": "code",
        "colab": {}
      },
      "source": [
        ""
      ],
      "execution_count": 0,
      "outputs": []
    },
    {
      "cell_type": "code",
      "metadata": {
        "id": "MDubxGCjL9K-",
        "colab_type": "code",
        "colab": {}
      },
      "source": [
        ""
      ],
      "execution_count": 0,
      "outputs": []
    },
    {
      "cell_type": "code",
      "metadata": {
        "id": "JWAH-_3hL9LB",
        "colab_type": "code",
        "colab": {}
      },
      "source": [
        ""
      ],
      "execution_count": 0,
      "outputs": []
    },
    {
      "cell_type": "code",
      "metadata": {
        "id": "wxn8Z2cQL9LF",
        "colab_type": "code",
        "colab": {}
      },
      "source": [
        ""
      ],
      "execution_count": 0,
      "outputs": []
    },
    {
      "cell_type": "code",
      "metadata": {
        "id": "wDvjBhIPL9LP",
        "colab_type": "code",
        "colab": {}
      },
      "source": [
        ""
      ],
      "execution_count": 0,
      "outputs": []
    },
    {
      "cell_type": "code",
      "metadata": {
        "id": "toS4pyr3L9LS",
        "colab_type": "code",
        "colab": {}
      },
      "source": [
        ""
      ],
      "execution_count": 0,
      "outputs": []
    },
    {
      "cell_type": "code",
      "metadata": {
        "id": "tD-BSFGjL9Lk",
        "colab_type": "code",
        "colab": {}
      },
      "source": [
        ""
      ],
      "execution_count": 0,
      "outputs": []
    },
    {
      "cell_type": "code",
      "metadata": {
        "id": "bY8mKh29L9Lu",
        "colab_type": "code",
        "colab": {}
      },
      "source": [
        ""
      ],
      "execution_count": 0,
      "outputs": []
    },
    {
      "cell_type": "code",
      "metadata": {
        "id": "prKp1Km_L9L3",
        "colab_type": "code",
        "colab": {}
      },
      "source": [
        ""
      ],
      "execution_count": 0,
      "outputs": []
    },
    {
      "cell_type": "code",
      "metadata": {
        "id": "7Tle2vA0L9L6",
        "colab_type": "code",
        "colab": {}
      },
      "source": [
        ""
      ],
      "execution_count": 0,
      "outputs": []
    },
    {
      "cell_type": "code",
      "metadata": {
        "id": "SeJF_P1CL9L9",
        "colab_type": "code",
        "colab": {}
      },
      "source": [
        ""
      ],
      "execution_count": 0,
      "outputs": []
    },
    {
      "cell_type": "code",
      "metadata": {
        "id": "sS1tQP9qL9MB",
        "colab_type": "code",
        "colab": {}
      },
      "source": [
        ""
      ],
      "execution_count": 0,
      "outputs": []
    }
  ]
}